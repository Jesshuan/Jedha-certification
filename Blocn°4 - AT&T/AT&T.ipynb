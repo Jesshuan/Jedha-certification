{
 "cells": [
  {
   "cell_type": "code",
   "execution_count": null,
   "metadata": {},
   "outputs": [],
   "source": [
    "#!pip uninstall opencv-python"
   ]
  },
  {
   "cell_type": "code",
   "execution_count": 1,
   "metadata": {
    "colab": {
     "base_uri": "https://localhost:8080/"
    },
    "id": "km4TJNPh-m6K",
    "outputId": "29543e58-a82d-4ff3-d9c0-4b7d3c06018f"
   },
   "outputs": [],
   "source": [
    "#!pip install -q -U \"tensorflow-text==2.5.*\""
   ]
  },
  {
   "cell_type": "code",
   "execution_count": 1,
   "metadata": {},
   "outputs": [],
   "source": [
    "import tensorflow as tf\n",
    "gpus = tf.config.list_physical_devices('GPU')\n",
    "gpu = gpus[0]\n",
    "\n",
    "tf.config.experimental.set_memory_growth(gpu, True)"
   ]
  },
  {
   "cell_type": "code",
   "execution_count": 3,
   "metadata": {},
   "outputs": [
    {
     "data": {
      "text/plain": [
       "'/device:GPU:0'"
      ]
     },
     "execution_count": 3,
     "metadata": {},
     "output_type": "execute_result"
    }
   ],
   "source": [
    "tf.test.gpu_device_name()"
   ]
  },
  {
   "cell_type": "code",
   "execution_count": 2,
   "metadata": {
    "colab": {
     "base_uri": "https://localhost:8080/",
     "height": 512
    },
    "id": "bTxjJi1UaX8C",
    "outputId": "bb84a176-c870-4ae6-fc4e-61eaf689d028"
   },
   "outputs": [],
   "source": [
    "import pandas as pd\n",
    "import numpy as np\n",
    "import datetime\n",
    "\n",
    "import tensorflow_text as text\n",
    "import tensorflow_hub as hub\n",
    "\n",
    "from sklearn.preprocessing import LabelEncoder, OneHotEncoder\n",
    "from sklearn.model_selection import train_test_split\n",
    "from sklearn.metrics import ConfusionMatrixDisplay, accuracy_score, precision_score, recall_score\n",
    "\n",
    "from tensorboard.plugins.hparams import api as hp"
   ]
  },
  {
   "cell_type": "code",
   "execution_count": 233,
   "metadata": {
    "id": "E0ss0HIcfexP"
   },
   "outputs": [],
   "source": [
    "#!python -m spacy download en_core_web_md -q"
   ]
  },
  {
   "cell_type": "code",
   "execution_count": 4,
   "metadata": {
    "id": "maPh-4DKjXWO"
   },
   "outputs": [],
   "source": [
    "import spacy"
   ]
  },
  {
   "cell_type": "code",
   "execution_count": 5,
   "metadata": {
    "id": "8eLRN6Gqofst"
   },
   "outputs": [],
   "source": [
    "from spacy.lang.en.stop_words import STOP_WORDS"
   ]
  },
  {
   "cell_type": "code",
   "execution_count": 6,
   "metadata": {
    "id": "Cf6aZPY7hVGV"
   },
   "outputs": [],
   "source": [
    "import re"
   ]
  },
  {
   "cell_type": "code",
   "execution_count": null,
   "metadata": {
    "id": "m2kGr9cpPBX4"
   },
   "outputs": [],
   "source": []
  },
  {
   "cell_type": "code",
   "execution_count": 7,
   "metadata": {
    "id": "3-kSzD82ajF3"
   },
   "outputs": [],
   "source": [
    "data = pd.read_csv('./spam.csv', encoding = 'ISO-8859-1')"
   ]
  },
  {
   "cell_type": "code",
   "execution_count": 8,
   "metadata": {
    "id": "Ih_skAdibdvn"
   },
   "outputs": [],
   "source": [
    "data = data[['v1','v2']]"
   ]
  },
  {
   "cell_type": "code",
   "execution_count": 9,
   "metadata": {
    "colab": {
     "base_uri": "https://localhost:8080/",
     "height": 206
    },
    "id": "ue8MbIecf5VX",
    "outputId": "acc6de97-4a2e-4fff-9a47-04c5d339ce7b"
   },
   "outputs": [
    {
     "data": {
      "text/html": [
       "<div>\n",
       "<style scoped>\n",
       "    .dataframe tbody tr th:only-of-type {\n",
       "        vertical-align: middle;\n",
       "    }\n",
       "\n",
       "    .dataframe tbody tr th {\n",
       "        vertical-align: top;\n",
       "    }\n",
       "\n",
       "    .dataframe thead th {\n",
       "        text-align: right;\n",
       "    }\n",
       "</style>\n",
       "<table border=\"1\" class=\"dataframe\">\n",
       "  <thead>\n",
       "    <tr style=\"text-align: right;\">\n",
       "      <th></th>\n",
       "      <th>v1</th>\n",
       "      <th>v2</th>\n",
       "    </tr>\n",
       "  </thead>\n",
       "  <tbody>\n",
       "    <tr>\n",
       "      <th>0</th>\n",
       "      <td>ham</td>\n",
       "      <td>Go until jurong point, crazy.. Available only ...</td>\n",
       "    </tr>\n",
       "    <tr>\n",
       "      <th>1</th>\n",
       "      <td>ham</td>\n",
       "      <td>Ok lar... Joking wif u oni...</td>\n",
       "    </tr>\n",
       "    <tr>\n",
       "      <th>2</th>\n",
       "      <td>spam</td>\n",
       "      <td>Free entry in 2 a wkly comp to win FA Cup fina...</td>\n",
       "    </tr>\n",
       "    <tr>\n",
       "      <th>3</th>\n",
       "      <td>ham</td>\n",
       "      <td>U dun say so early hor... U c already then say...</td>\n",
       "    </tr>\n",
       "    <tr>\n",
       "      <th>4</th>\n",
       "      <td>ham</td>\n",
       "      <td>Nah I don't think he goes to usf, he lives aro...</td>\n",
       "    </tr>\n",
       "  </tbody>\n",
       "</table>\n",
       "</div>"
      ],
      "text/plain": [
       "     v1                                                 v2\n",
       "0   ham  Go until jurong point, crazy.. Available only ...\n",
       "1   ham                      Ok lar... Joking wif u oni...\n",
       "2  spam  Free entry in 2 a wkly comp to win FA Cup fina...\n",
       "3   ham  U dun say so early hor... U c already then say...\n",
       "4   ham  Nah I don't think he goes to usf, he lives aro..."
      ]
     },
     "execution_count": 9,
     "metadata": {},
     "output_type": "execute_result"
    }
   ],
   "source": [
    "data.head()"
   ]
  },
  {
   "cell_type": "code",
   "execution_count": 10,
   "metadata": {
    "colab": {
     "base_uri": "https://localhost:8080/",
     "height": 36
    },
    "id": "XUl4JYW4bpV_",
    "outputId": "de07bad1-ef11-47c3-9cbd-88c83aaeeea3"
   },
   "outputs": [
    {
     "data": {
      "text/plain": [
       "\"Free entry in 2 a wkly comp to win FA Cup final tkts 21st May 2005. Text FA to 87121 to receive entry question(std txt rate)T&C's apply 08452810075over18's\""
      ]
     },
     "execution_count": 10,
     "metadata": {},
     "output_type": "execute_result"
    }
   ],
   "source": [
    "data['v2'][2]"
   ]
  },
  {
   "cell_type": "code",
   "execution_count": 11,
   "metadata": {
    "colab": {
     "base_uri": "https://localhost:8080/"
    },
    "id": "f9xJvhe6WyWf",
    "outputId": "6b4a6ca3-9c3d-4d3c-f16f-643d98282417"
   },
   "outputs": [
    {
     "data": {
      "text/plain": [
       "ham     4825\n",
       "spam     747\n",
       "Name: v1, dtype: int64"
      ]
     },
     "execution_count": 11,
     "metadata": {},
     "output_type": "execute_result"
    }
   ],
   "source": [
    "data['v1'].value_counts()"
   ]
  },
  {
   "cell_type": "code",
   "execution_count": 12,
   "metadata": {
    "id": "Cr8eC7k6fm-G"
   },
   "outputs": [],
   "source": [
    "data['v2_clean'] = data['v2'].apply(lambda s : re.sub(r'[^\\w\\s]', '', s).lower())"
   ]
  },
  {
   "cell_type": "code",
   "execution_count": 13,
   "metadata": {},
   "outputs": [],
   "source": [
    "data['v2_clean'] = data['v2_clean'].apply(lambda s : re.sub('[0-9]+', '', s))"
   ]
  },
  {
   "cell_type": "code",
   "execution_count": 14,
   "metadata": {
    "colab": {
     "base_uri": "https://localhost:8080/",
     "height": 206
    },
    "id": "aOUEi4rdhdUN",
    "outputId": "178864a2-0f5f-4a5a-f38e-7582aebf53a6"
   },
   "outputs": [
    {
     "data": {
      "text/html": [
       "<div>\n",
       "<style scoped>\n",
       "    .dataframe tbody tr th:only-of-type {\n",
       "        vertical-align: middle;\n",
       "    }\n",
       "\n",
       "    .dataframe tbody tr th {\n",
       "        vertical-align: top;\n",
       "    }\n",
       "\n",
       "    .dataframe thead th {\n",
       "        text-align: right;\n",
       "    }\n",
       "</style>\n",
       "<table border=\"1\" class=\"dataframe\">\n",
       "  <thead>\n",
       "    <tr style=\"text-align: right;\">\n",
       "      <th></th>\n",
       "      <th>v1</th>\n",
       "      <th>v2</th>\n",
       "      <th>v2_clean</th>\n",
       "    </tr>\n",
       "  </thead>\n",
       "  <tbody>\n",
       "    <tr>\n",
       "      <th>0</th>\n",
       "      <td>ham</td>\n",
       "      <td>Go until jurong point, crazy.. Available only ...</td>\n",
       "      <td>go until jurong point crazy available only in ...</td>\n",
       "    </tr>\n",
       "    <tr>\n",
       "      <th>1</th>\n",
       "      <td>ham</td>\n",
       "      <td>Ok lar... Joking wif u oni...</td>\n",
       "      <td>ok lar joking wif u oni</td>\n",
       "    </tr>\n",
       "    <tr>\n",
       "      <th>2</th>\n",
       "      <td>spam</td>\n",
       "      <td>Free entry in 2 a wkly comp to win FA Cup fina...</td>\n",
       "      <td>free entry in  a wkly comp to win fa cup final...</td>\n",
       "    </tr>\n",
       "    <tr>\n",
       "      <th>3</th>\n",
       "      <td>ham</td>\n",
       "      <td>U dun say so early hor... U c already then say...</td>\n",
       "      <td>u dun say so early hor u c already then say</td>\n",
       "    </tr>\n",
       "    <tr>\n",
       "      <th>4</th>\n",
       "      <td>ham</td>\n",
       "      <td>Nah I don't think he goes to usf, he lives aro...</td>\n",
       "      <td>nah i dont think he goes to usf he lives aroun...</td>\n",
       "    </tr>\n",
       "  </tbody>\n",
       "</table>\n",
       "</div>"
      ],
      "text/plain": [
       "     v1                                                 v2  \\\n",
       "0   ham  Go until jurong point, crazy.. Available only ...   \n",
       "1   ham                      Ok lar... Joking wif u oni...   \n",
       "2  spam  Free entry in 2 a wkly comp to win FA Cup fina...   \n",
       "3   ham  U dun say so early hor... U c already then say...   \n",
       "4   ham  Nah I don't think he goes to usf, he lives aro...   \n",
       "\n",
       "                                            v2_clean  \n",
       "0  go until jurong point crazy available only in ...  \n",
       "1                            ok lar joking wif u oni  \n",
       "2  free entry in  a wkly comp to win fa cup final...  \n",
       "3        u dun say so early hor u c already then say  \n",
       "4  nah i dont think he goes to usf he lives aroun...  "
      ]
     },
     "execution_count": 14,
     "metadata": {},
     "output_type": "execute_result"
    }
   ],
   "source": [
    "data.head()"
   ]
  },
  {
   "cell_type": "code",
   "execution_count": 15,
   "metadata": {
    "id": "pW_VKZnhjTsu"
   },
   "outputs": [],
   "source": [
    "nlp = spacy.load('en_core_web_md')"
   ]
  },
  {
   "cell_type": "code",
   "execution_count": 16,
   "metadata": {
    "id": "Ot-RxQ76oqq1"
   },
   "outputs": [],
   "source": [
    "data[\"v2_lemma\"] = data[\"v2_clean\"].apply(lambda x: \" \".join([token.lemma_ for token in nlp(x) if (token.lemma_ not in STOP_WORDS) and (token.text not in STOP_WORDS)]))"
   ]
  },
  {
   "cell_type": "code",
   "execution_count": 17,
   "metadata": {
    "colab": {
     "base_uri": "https://localhost:8080/",
     "height": 206
    },
    "id": "xxoOszF5mBX1",
    "outputId": "8c875c98-dc4a-466a-96af-16ac31385fbe"
   },
   "outputs": [
    {
     "data": {
      "text/html": [
       "<div>\n",
       "<style scoped>\n",
       "    .dataframe tbody tr th:only-of-type {\n",
       "        vertical-align: middle;\n",
       "    }\n",
       "\n",
       "    .dataframe tbody tr th {\n",
       "        vertical-align: top;\n",
       "    }\n",
       "\n",
       "    .dataframe thead th {\n",
       "        text-align: right;\n",
       "    }\n",
       "</style>\n",
       "<table border=\"1\" class=\"dataframe\">\n",
       "  <thead>\n",
       "    <tr style=\"text-align: right;\">\n",
       "      <th></th>\n",
       "      <th>v1</th>\n",
       "      <th>v2</th>\n",
       "      <th>v2_clean</th>\n",
       "      <th>v2_lemma</th>\n",
       "    </tr>\n",
       "  </thead>\n",
       "  <tbody>\n",
       "    <tr>\n",
       "      <th>0</th>\n",
       "      <td>ham</td>\n",
       "      <td>Go until jurong point, crazy.. Available only ...</td>\n",
       "      <td>go until jurong point crazy available only in ...</td>\n",
       "      <td>jurong point crazy available bugis n great wor...</td>\n",
       "    </tr>\n",
       "    <tr>\n",
       "      <th>1</th>\n",
       "      <td>ham</td>\n",
       "      <td>Ok lar... Joking wif u oni...</td>\n",
       "      <td>ok lar joking wif u oni</td>\n",
       "      <td>ok lar joking wif u oni</td>\n",
       "    </tr>\n",
       "    <tr>\n",
       "      <th>2</th>\n",
       "      <td>spam</td>\n",
       "      <td>Free entry in 2 a wkly comp to win FA Cup fina...</td>\n",
       "      <td>free entry in  a wkly comp to win fa cup final...</td>\n",
       "      <td>free entry   wkly comp win fa cup final tkts s...</td>\n",
       "    </tr>\n",
       "    <tr>\n",
       "      <th>3</th>\n",
       "      <td>ham</td>\n",
       "      <td>U dun say so early hor... U c already then say...</td>\n",
       "      <td>u dun say so early hor u c already then say</td>\n",
       "      <td>u dun early hor u c</td>\n",
       "    </tr>\n",
       "    <tr>\n",
       "      <th>4</th>\n",
       "      <td>ham</td>\n",
       "      <td>Nah I don't think he goes to usf, he lives aro...</td>\n",
       "      <td>nah i dont think he goes to usf he lives aroun...</td>\n",
       "      <td>nah think usf live</td>\n",
       "    </tr>\n",
       "  </tbody>\n",
       "</table>\n",
       "</div>"
      ],
      "text/plain": [
       "     v1                                                 v2  \\\n",
       "0   ham  Go until jurong point, crazy.. Available only ...   \n",
       "1   ham                      Ok lar... Joking wif u oni...   \n",
       "2  spam  Free entry in 2 a wkly comp to win FA Cup fina...   \n",
       "3   ham  U dun say so early hor... U c already then say...   \n",
       "4   ham  Nah I don't think he goes to usf, he lives aro...   \n",
       "\n",
       "                                            v2_clean  \\\n",
       "0  go until jurong point crazy available only in ...   \n",
       "1                            ok lar joking wif u oni   \n",
       "2  free entry in  a wkly comp to win fa cup final...   \n",
       "3        u dun say so early hor u c already then say   \n",
       "4  nah i dont think he goes to usf he lives aroun...   \n",
       "\n",
       "                                            v2_lemma  \n",
       "0  jurong point crazy available bugis n great wor...  \n",
       "1                            ok lar joking wif u oni  \n",
       "2  free entry   wkly comp win fa cup final tkts s...  \n",
       "3                                u dun early hor u c  \n",
       "4                                 nah think usf live  "
      ]
     },
     "execution_count": 17,
     "metadata": {},
     "output_type": "execute_result"
    }
   ],
   "source": [
    "data.head()"
   ]
  },
  {
   "cell_type": "code",
   "execution_count": 18,
   "metadata": {
    "id": "bH7NWMo1rqEM"
   },
   "outputs": [],
   "source": [
    "tokenizer = tf.keras.preprocessing.text.Tokenizer(num_words=2000, oov_token=\"out_of_vocab\")\n",
    "tokenizer.fit_on_texts(data['v2_lemma'])"
   ]
  },
  {
   "cell_type": "code",
   "execution_count": 19,
   "metadata": {
    "id": "TuS46XKfuSNU"
   },
   "outputs": [],
   "source": [
    "vocab_size = tokenizer.num_words"
   ]
  },
  {
   "cell_type": "code",
   "execution_count": 20,
   "metadata": {
    "id": "-0DNgPJVrT-d"
   },
   "outputs": [],
   "source": [
    "data[\"v2_tokenized\"] = tokenizer.texts_to_sequences(data['v2_lemma'])"
   ]
  },
  {
   "cell_type": "code",
   "execution_count": 21,
   "metadata": {
    "colab": {
     "base_uri": "https://localhost:8080/",
     "height": 206
    },
    "id": "I2z7uZqXr0sc",
    "outputId": "fbffb380-bf3b-419e-87a1-838bbc756111"
   },
   "outputs": [
    {
     "data": {
      "text/html": [
       "<div>\n",
       "<style scoped>\n",
       "    .dataframe tbody tr th:only-of-type {\n",
       "        vertical-align: middle;\n",
       "    }\n",
       "\n",
       "    .dataframe tbody tr th {\n",
       "        vertical-align: top;\n",
       "    }\n",
       "\n",
       "    .dataframe thead th {\n",
       "        text-align: right;\n",
       "    }\n",
       "</style>\n",
       "<table border=\"1\" class=\"dataframe\">\n",
       "  <thead>\n",
       "    <tr style=\"text-align: right;\">\n",
       "      <th></th>\n",
       "      <th>v1</th>\n",
       "      <th>v2</th>\n",
       "      <th>v2_clean</th>\n",
       "      <th>v2_lemma</th>\n",
       "      <th>v2_tokenized</th>\n",
       "    </tr>\n",
       "  </thead>\n",
       "  <tbody>\n",
       "    <tr>\n",
       "      <th>0</th>\n",
       "      <td>ham</td>\n",
       "      <td>Go until jurong point, crazy.. Available only ...</td>\n",
       "      <td>go until jurong point crazy available only in ...</td>\n",
       "      <td>jurong point crazy available bugis n great wor...</td>\n",
       "      <td>[1, 225, 433, 449, 905, 35, 50, 205, 744, 79, ...</td>\n",
       "    </tr>\n",
       "    <tr>\n",
       "      <th>1</th>\n",
       "      <td>ham</td>\n",
       "      <td>Ok lar... Joking wif u oni...</td>\n",
       "      <td>ok lar joking wif u oni</td>\n",
       "      <td>ok lar joking wif u oni</td>\n",
       "      <td>[10, 194, 1, 283, 2, 1382]</td>\n",
       "    </tr>\n",
       "    <tr>\n",
       "      <th>2</th>\n",
       "      <td>spam</td>\n",
       "      <td>Free entry in 2 a wkly comp to win FA Cup fina...</td>\n",
       "      <td>free entry in  a wkly comp to win fa cup final...</td>\n",
       "      <td>free entry   wkly comp win fa cup final tkts s...</td>\n",
       "      <td>[9, 295, 519, 639, 32, 1383, 745, 411, 1384, 1...</td>\n",
       "    </tr>\n",
       "    <tr>\n",
       "      <th>3</th>\n",
       "      <td>ham</td>\n",
       "      <td>U dun say so early hor... U c already then say...</td>\n",
       "      <td>u dun say so early hor u c already then say</td>\n",
       "      <td>u dun early hor u c</td>\n",
       "      <td>[2, 124, 150, 1, 2, 81]</td>\n",
       "    </tr>\n",
       "    <tr>\n",
       "      <th>4</th>\n",
       "      <td>ham</td>\n",
       "      <td>Nah I don't think he goes to usf, he lives aro...</td>\n",
       "      <td>nah i dont think he goes to usf he lives aroun...</td>\n",
       "      <td>nah think usf live</td>\n",
       "      <td>[684, 22, 640, 125]</td>\n",
       "    </tr>\n",
       "  </tbody>\n",
       "</table>\n",
       "</div>"
      ],
      "text/plain": [
       "     v1                                                 v2  \\\n",
       "0   ham  Go until jurong point, crazy.. Available only ...   \n",
       "1   ham                      Ok lar... Joking wif u oni...   \n",
       "2  spam  Free entry in 2 a wkly comp to win FA Cup fina...   \n",
       "3   ham  U dun say so early hor... U c already then say...   \n",
       "4   ham  Nah I don't think he goes to usf, he lives aro...   \n",
       "\n",
       "                                            v2_clean  \\\n",
       "0  go until jurong point crazy available only in ...   \n",
       "1                            ok lar joking wif u oni   \n",
       "2  free entry in  a wkly comp to win fa cup final...   \n",
       "3        u dun say so early hor u c already then say   \n",
       "4  nah i dont think he goes to usf he lives aroun...   \n",
       "\n",
       "                                            v2_lemma  \\\n",
       "0  jurong point crazy available bugis n great wor...   \n",
       "1                            ok lar joking wif u oni   \n",
       "2  free entry   wkly comp win fa cup final tkts s...   \n",
       "3                                u dun early hor u c   \n",
       "4                                 nah think usf live   \n",
       "\n",
       "                                        v2_tokenized  \n",
       "0  [1, 225, 433, 449, 905, 35, 50, 205, 744, 79, ...  \n",
       "1                         [10, 194, 1, 283, 2, 1382]  \n",
       "2  [9, 295, 519, 639, 32, 1383, 745, 411, 1384, 1...  \n",
       "3                            [2, 124, 150, 1, 2, 81]  \n",
       "4                                [684, 22, 640, 125]  "
      ]
     },
     "execution_count": 21,
     "metadata": {},
     "output_type": "execute_result"
    }
   ],
   "source": [
    "data.head()"
   ]
  },
  {
   "cell_type": "code",
   "execution_count": 22,
   "metadata": {
    "id": "szqFexNfuvD9"
   },
   "outputs": [],
   "source": [
    "def data_under_sampling(data, nb_reduce):\n",
    "  data_sample_2 = data.loc[data['v1']=='spam',:]\n",
    "  len_class_sub = len(data_sample_2)\n",
    "  data_sample_1 = data.loc[data['v1']=='ham',:].sample(nb_reduce * len_class_sub)\n",
    "  \n",
    "  return pd.concat([data_sample_1,data_sample_2], axis=0).sample(frac=1).reset_index(drop=True)\n"
   ]
  },
  {
   "cell_type": "code",
   "execution_count": 23,
   "metadata": {
    "id": "hD1SKbwOlQcS"
   },
   "outputs": [],
   "source": [
    "data_red = data_under_sampling(data, 1)"
   ]
  },
  {
   "cell_type": "code",
   "execution_count": 24,
   "metadata": {
    "id": "HPB6k42zsdt0"
   },
   "outputs": [],
   "source": [
    "v2_pad = tf.keras.preprocessing.sequence.pad_sequences(data_red['v2_tokenized'], padding=\"post\")"
   ]
  },
  {
   "cell_type": "code",
   "execution_count": 25,
   "metadata": {
    "id": "avXtFKQ7q1QE"
   },
   "outputs": [],
   "source": [
    "preprocessor = LabelEncoder()"
   ]
  },
  {
   "cell_type": "code",
   "execution_count": 26,
   "metadata": {
    "id": "bbLt-dLYrKo1"
   },
   "outputs": [],
   "source": [
    "y = preprocessor.fit_transform(data_red['v1'])"
   ]
  },
  {
   "cell_type": "code",
   "execution_count": 27,
   "metadata": {
    "colab": {
     "base_uri": "https://localhost:8080/"
    },
    "id": "KZfCO9F7vfY4",
    "outputId": "7f173ea9-2f50-4889-df03-6e1e1af0c20e"
   },
   "outputs": [
    {
     "name": "stdout",
     "output_type": "stream",
     "text": [
      "Preprocessing done --- extract of val_batch : \n",
      "tf.Tensor(\n",
      "[[179 431   3 ...   0   0   0]\n",
      " [961 200 568 ...   0   0   0]\n",
      " [  1 289 126 ...   0   0   0]\n",
      " ...\n",
      " [ 66  13   1 ...   0   0   0]\n",
      " [  1   1 202 ...   0   0   0]\n",
      " [346   7   1 ...   0   0   0]], shape=(64, 70), dtype=int32) tf.Tensor(\n",
      "[0 1 1 0 0 0 1 1 1 0 1 0 0 1 1 1 1 0 0 0 1 1 0 1 0 0 0 0 1 0 0 1 0 0 0 0 1\n",
      " 0 0 1 0 1 1 1 0 0 0 1 0 0 1 0 0 0 0 0 0 1 1 0 0 0 1 0], shape=(64,), dtype=int32)\n"
     ]
    }
   ],
   "source": [
    "x_train, x_val, y_train, y_val = train_test_split(v2_pad, y, test_size=0.2, stratify=y, random_state=2)\n",
    "train_batch = tf.data.Dataset.from_tensor_slices((x_train, y_train)).shuffle(len(x_train)).batch(64)\n",
    "val_batch = tf.data.Dataset.from_tensor_slices((x_val, y_val)).batch(64)\n",
    "print('Preprocessing done --- extract of val_batch : ')\n",
    "for sentence, target in val_batch.take(1):\n",
    "  print(sentence, target)"
   ]
  },
  {
   "cell_type": "code",
   "execution_count": 28,
   "metadata": {},
   "outputs": [],
   "source": [
    "AUTOTUNE = tf.data.AUTOTUNE\n",
    "\n",
    "train_batch = train_batch.cache().prefetch(buffer_size=AUTOTUNE)\n",
    "val_batch = val_batch.cache().prefetch(buffer_size=AUTOTUNE)"
   ]
  },
  {
   "cell_type": "code",
   "execution_count": 29,
   "metadata": {
    "colab": {
     "base_uri": "https://localhost:8080/"
    },
    "id": "86oCSjU1ubUN",
    "outputId": "31be7204-a70a-4a6b-e24e-6fc9f7cd0482"
   },
   "outputs": [
    {
     "data": {
      "text/plain": [
       "70"
      ]
     },
     "execution_count": 29,
     "metadata": {},
     "output_type": "execute_result"
    }
   ],
   "source": [
    "v2_pad.shape[1]"
   ]
  },
  {
   "cell_type": "code",
   "execution_count": 30,
   "metadata": {
    "id": "EMVC9WAnuOlM"
   },
   "outputs": [],
   "source": [
    "model_1 = tf.keras.Sequential([        \n",
    "                  tf.keras.layers.Embedding(vocab_size+1, 128, input_shape=[v2_pad.shape[1],],name=\"embedding\"),\n",
    "                  tf.keras.layers.GlobalAveragePooling1D(),\n",
    "                  tf.keras.layers.Dense(64, activation='relu'),\n",
    "                  tf.keras.layers.Dropout(0.3),\n",
    "                  tf.keras.layers.Dense(32, activation='relu'),\n",
    "                  tf.keras.layers.Dropout(0.1),\n",
    "                  tf.keras.layers.Dense(8, activation='relu'),\n",
    "                  tf.keras.layers.Dense(1, activation=\"sigmoid\")\n",
    "])"
   ]
  },
  {
   "cell_type": "code",
   "execution_count": 31,
   "metadata": {
    "colab": {
     "base_uri": "https://localhost:8080/"
    },
    "id": "zxQgRNAwux2d",
    "outputId": "2dd2b630-6626-484a-99e4-4616a2c71818"
   },
   "outputs": [
    {
     "name": "stdout",
     "output_type": "stream",
     "text": [
      "Model: \"sequential\"\n",
      "_________________________________________________________________\n",
      " Layer (type)                Output Shape              Param #   \n",
      "=================================================================\n",
      " embedding (Embedding)       (None, 70, 128)           256128    \n",
      "                                                                 \n",
      " global_average_pooling1d (G  (None, 128)              0         \n",
      " lobalAveragePooling1D)                                          \n",
      "                                                                 \n",
      " dense (Dense)               (None, 64)                8256      \n",
      "                                                                 \n",
      " dropout (Dropout)           (None, 64)                0         \n",
      "                                                                 \n",
      " dense_1 (Dense)             (None, 32)                2080      \n",
      "                                                                 \n",
      " dropout_1 (Dropout)         (None, 32)                0         \n",
      "                                                                 \n",
      " dense_2 (Dense)             (None, 8)                 264       \n",
      "                                                                 \n",
      " dense_3 (Dense)             (None, 1)                 9         \n",
      "                                                                 \n",
      "=================================================================\n",
      "Total params: 266,737\n",
      "Trainable params: 266,737\n",
      "Non-trainable params: 0\n",
      "_________________________________________________________________\n"
     ]
    }
   ],
   "source": [
    "model_1.summary()"
   ]
  },
  {
   "cell_type": "code",
   "execution_count": 32,
   "metadata": {
    "id": "zEgxJs4XvJul"
   },
   "outputs": [],
   "source": [
    "optimizer= tf.keras.optimizers.Adam()\n",
    "\n",
    "model_1.compile(optimizer=\"adam\",\n",
    "              loss=tf.keras.losses.BinaryCrossentropy(),\n",
    "              metrics = [tf.keras.metrics.BinaryAccuracy(name='accuracy'),\n",
    "                         tf.keras.metrics.Precision(name='precision'),\n",
    "                         tf.keras.metrics.Recall(name='recall')])"
   ]
  },
  {
   "cell_type": "code",
   "execution_count": 33,
   "metadata": {
    "id": "NuiVejW04f1Y"
   },
   "outputs": [],
   "source": [
    "log_dir=\"logs/fit/\" + \"simple_3_layers_rnn \" + datetime.datetime.now().strftime(\"%Y%m%d-%H%M%S\")\n",
    "tensorboard_callback = tf.keras.callbacks.TensorBoard(\n",
    "    log_dir=log_dir, histogram_freq=1)\n",
    "hparams_callback_1 = hp.KerasCallback(log_dir, {\n",
    "    'dim_embeders':128,\n",
    "    'nb_dense_units': 112,\n",
    "    'dropout_1': 0.2,\n",
    "    'dropout_2' : 0.1\n",
    "})"
   ]
  },
  {
   "cell_type": "code",
   "execution_count": 34,
   "metadata": {
    "colab": {
     "base_uri": "https://localhost:8080/"
    },
    "id": "-bQ8Cf0Q4DjY",
    "outputId": "aa5a81e5-edc6-49ec-b5d1-0cc84e734304"
   },
   "outputs": [
    {
     "name": "stdout",
     "output_type": "stream",
     "text": [
      "Epoch 1/20\n",
      "19/19 [==============================] - 3s 55ms/step - loss: 0.6914 - accuracy: 0.5280 - precision: 0.5590 - recall: 0.2692 - val_loss: 0.6865 - val_accuracy: 0.5117 - val_precision: 1.0000 - val_recall: 0.0201\n",
      "Epoch 2/20\n",
      "19/19 [==============================] - 1s 26ms/step - loss: 0.6844 - accuracy: 0.6368 - precision: 0.7158 - recall: 0.4548 - val_loss: 0.6734 - val_accuracy: 0.7425 - val_precision: 0.9737 - val_recall: 0.4966\n",
      "Epoch 3/20\n",
      "19/19 [==============================] - 0s 25ms/step - loss: 0.6628 - accuracy: 0.7791 - precision: 0.8813 - recall: 0.6455 - val_loss: 0.6361 - val_accuracy: 0.7960 - val_precision: 0.9783 - val_recall: 0.6040\n",
      "Epoch 4/20\n",
      "19/19 [==============================] - 0s 24ms/step - loss: 0.6064 - accuracy: 0.8586 - precision: 0.9554 - recall: 0.7525 - val_loss: 0.5436 - val_accuracy: 0.8662 - val_precision: 0.9823 - val_recall: 0.7450\n",
      "Epoch 5/20\n",
      "19/19 [==============================] - 0s 25ms/step - loss: 0.4923 - accuracy: 0.8937 - precision: 0.9627 - recall: 0.8194 - val_loss: 0.3861 - val_accuracy: 0.9164 - val_precision: 0.9844 - val_recall: 0.8456\n",
      "Epoch 6/20\n",
      "19/19 [==============================] - 1s 30ms/step - loss: 0.3417 - accuracy: 0.9247 - precision: 0.9585 - recall: 0.8880 - val_loss: 0.2439 - val_accuracy: 0.9498 - val_precision: 0.9855 - val_recall: 0.9128\n",
      "Epoch 7/20\n",
      "19/19 [==============================] - 1s 33ms/step - loss: 0.2239 - accuracy: 0.9372 - precision: 0.9612 - recall: 0.9114 - val_loss: 0.1749 - val_accuracy: 0.9532 - val_precision: 0.9856 - val_recall: 0.9195\n",
      "Epoch 8/20\n",
      "19/19 [==============================] - 1s 29ms/step - loss: 0.1514 - accuracy: 0.9540 - precision: 0.9722 - recall: 0.9348 - val_loss: 0.1496 - val_accuracy: 0.9565 - val_precision: 0.9928 - val_recall: 0.9195\n",
      "Epoch 9/20\n",
      "19/19 [==============================] - 0s 26ms/step - loss: 0.1118 - accuracy: 0.9632 - precision: 0.9776 - recall: 0.9482 - val_loss: 0.1391 - val_accuracy: 0.9532 - val_precision: 0.9927 - val_recall: 0.9128\n",
      "Epoch 10/20\n",
      "19/19 [==============================] - 1s 28ms/step - loss: 0.0956 - accuracy: 0.9682 - precision: 0.9811 - recall: 0.9548 - val_loss: 0.1374 - val_accuracy: 0.9532 - val_precision: 0.9927 - val_recall: 0.9128\n",
      "Epoch 11/20\n",
      "19/19 [==============================] - 1s 29ms/step - loss: 0.0678 - accuracy: 0.9782 - precision: 0.9914 - recall: 0.9649 - val_loss: 0.1334 - val_accuracy: 0.9532 - val_precision: 0.9927 - val_recall: 0.9128\n",
      "Epoch 12/20\n",
      "19/19 [==============================] - 0s 26ms/step - loss: 0.0682 - accuracy: 0.9782 - precision: 0.9881 - recall: 0.9682 - val_loss: 0.1254 - val_accuracy: 0.9666 - val_precision: 0.9929 - val_recall: 0.9396\n",
      "Epoch 13/20\n",
      "19/19 [==============================] - 0s 24ms/step - loss: 0.0582 - accuracy: 0.9849 - precision: 0.9915 - recall: 0.9783 - val_loss: 0.1411 - val_accuracy: 0.9532 - val_precision: 0.9927 - val_recall: 0.9128\n",
      "Epoch 14/20\n",
      "19/19 [==============================] - 1s 28ms/step - loss: 0.0482 - accuracy: 0.9900 - precision: 0.9966 - recall: 0.9833 - val_loss: 0.1354 - val_accuracy: 0.9632 - val_precision: 0.9929 - val_recall: 0.9329\n",
      "Epoch 15/20\n",
      "19/19 [==============================] - 0s 24ms/step - loss: 0.0443 - accuracy: 0.9916 - precision: 1.0000 - recall: 0.9833 - val_loss: 0.1375 - val_accuracy: 0.9632 - val_precision: 0.9929 - val_recall: 0.9329\n",
      "Epoch 16/20\n",
      "19/19 [==============================] - 0s 25ms/step - loss: 0.0370 - accuracy: 0.9925 - precision: 0.9966 - recall: 0.9883 - val_loss: 0.1497 - val_accuracy: 0.9565 - val_precision: 0.9928 - val_recall: 0.9195\n",
      "Epoch 17/20\n",
      "19/19 [==============================] - 0s 25ms/step - loss: 0.0348 - accuracy: 0.9950 - precision: 1.0000 - recall: 0.9900 - val_loss: 0.1400 - val_accuracy: 0.9632 - val_precision: 0.9929 - val_recall: 0.9329\n",
      "Epoch 18/20\n",
      "19/19 [==============================] - 0s 25ms/step - loss: 0.0315 - accuracy: 0.9941 - precision: 0.9966 - recall: 0.9916 - val_loss: 0.1654 - val_accuracy: 0.9532 - val_precision: 0.9927 - val_recall: 0.9128\n",
      "Epoch 19/20\n",
      "19/19 [==============================] - 0s 24ms/step - loss: 0.0362 - accuracy: 0.9933 - precision: 1.0000 - recall: 0.9866 - val_loss: 0.1521 - val_accuracy: 0.9565 - val_precision: 0.9928 - val_recall: 0.9195\n",
      "Epoch 20/20\n",
      "19/19 [==============================] - 0s 24ms/step - loss: 0.0283 - accuracy: 0.9950 - precision: 0.9983 - recall: 0.9916 - val_loss: 0.1502 - val_accuracy: 0.9599 - val_precision: 0.9928 - val_recall: 0.9262\n"
     ]
    },
    {
     "data": {
      "text/plain": [
       "<keras.callbacks.History at 0x146d0d5b580>"
      ]
     },
     "execution_count": 34,
     "metadata": {},
     "output_type": "execute_result"
    }
   ],
   "source": [
    "model_1.fit(\n",
    "    train_batch,\n",
    "    epochs=20,\n",
    "    verbose=1,\n",
    "    callbacks=[tensorboard_callback, hparams_callback_1],\n",
    "    validation_data=val_batch)"
   ]
  },
  {
   "cell_type": "code",
   "execution_count": 35,
   "metadata": {
    "id": "DLsY5vgA0jF5"
   },
   "outputs": [],
   "source": [
    "def predictions_singleton_to_binary(model, tresh, x_val, y_val):\n",
    "  y_true = y_val\n",
    "  y_pred = np.where(model.predict(x_val) > tresh, 1, 0)\n",
    "  return y_true, y_pred"
   ]
  },
  {
   "cell_type": "code",
   "execution_count": 36,
   "metadata": {
    "id": "0sexhlOB22uh"
   },
   "outputs": [],
   "source": [
    "def display_matrix_and_scores(y_true, y_pred):\n",
    "  ConfusionMatrixDisplay.from_predictions(y_true, y_pred)\n",
    "  print(f'Accuracy : {accuracy_score(y_true,y_pred)}')\n",
    "  print(f'Precision : {precision_score(y_true,y_pred)}')\n",
    "  print(f'Recall : {recall_score(y_true,y_pred)}')"
   ]
  },
  {
   "cell_type": "code",
   "execution_count": 37,
   "metadata": {
    "colab": {
     "base_uri": "https://localhost:8080/"
    },
    "id": "rQCCSo7J1EQl",
    "outputId": "5e9448af-c0e3-48ba-bb34-b66d1d9695bb"
   },
   "outputs": [
    {
     "name": "stdout",
     "output_type": "stream",
     "text": [
      "10/10 [==============================] - 0s 3ms/step\n"
     ]
    }
   ],
   "source": [
    "y_true, y_pred = predictions_singleton_to_binary(model_1, 0.5, x_val, y_val)"
   ]
  },
  {
   "cell_type": "code",
   "execution_count": 38,
   "metadata": {
    "colab": {
     "base_uri": "https://localhost:8080/",
     "height": 331
    },
    "id": "DxBd4Z55hcWB",
    "outputId": "5ecc2861-1785-4f9f-a665-6cf139efd44f"
   },
   "outputs": [
    {
     "name": "stdout",
     "output_type": "stream",
     "text": [
      "Accuracy : 0.959866220735786\n",
      "Precision : 0.9928057553956835\n",
      "Recall : 0.9261744966442953\n"
     ]
    },
    {
     "data": {
      "image/png": "[encoded data removed]",
      "text/plain": [
       "<Figure size 640x480 with 2 Axes>"
      ]
     },
     "metadata": {},
     "output_type": "display_data"
    }
   ],
   "source": [
    "display_matrix_and_scores(y_true, y_pred)"
   ]
  },
  {
   "cell_type": "code",
   "execution_count": 39,
   "metadata": {
    "colab": {
     "base_uri": "https://localhost:8080/"
    },
    "id": "ozs9VRl-l3iJ",
    "outputId": "c5ab3e2c-fc41-4439-ef10-96f11ad02be6"
   },
   "outputs": [
    {
     "name": "stdout",
     "output_type": "stream",
     "text": [
      "10/10 [==============================] - 0s 3ms/step\n"
     ]
    }
   ],
   "source": [
    "y_true, y_pred = predictions_singleton_to_binary(model_1, 0.8, x_val, y_val)"
   ]
  },
  {
   "cell_type": "code",
   "execution_count": 40,
   "metadata": {
    "colab": {
     "base_uri": "https://localhost:8080/",
     "height": 331
    },
    "id": "dmyE2AtUl7ui",
    "outputId": "28045b6e-6513-41be-824a-474a3ad081e6"
   },
   "outputs": [
    {
     "name": "stdout",
     "output_type": "stream",
     "text": [
      "Accuracy : 0.9531772575250836\n",
      "Precision : 0.9927007299270073\n",
      "Recall : 0.912751677852349\n"
     ]
    },
    {
     "data": {
      "image/png": "[encoded data removed]",
      "text/plain": [
       "<Figure size 640x480 with 2 Axes>"
      ]
     },
     "metadata": {},
     "output_type": "display_data"
    }
   ],
   "source": [
    "display_matrix_and_scores(y_true, y_pred)"
   ]
  },
  {
   "cell_type": "code",
   "execution_count": 213,
   "metadata": {
    "id": "WBge8zwKxMXB"
   },
   "outputs": [],
   "source": [
    "def one_hot_encoder(series):\n",
    "  label2int = {\"ham\": [1,0], \"spam\": [0,1]}\n",
    "  return [label2int[label] for label in series]"
   ]
  },
  {
   "cell_type": "code",
   "execution_count": 214,
   "metadata": {
    "id": "bWzeB85NxbT0"
   },
   "outputs": [],
   "source": [
    "y = one_hot_encoder(data_red['v1'])"
   ]
  },
  {
   "cell_type": "code",
   "execution_count": 215,
   "metadata": {
    "colab": {
     "base_uri": "https://localhost:8080/"
    },
    "id": "8M_n-mULn11z",
    "outputId": "0a19ce0a-65ae-4256-8dba-66b13091b28b"
   },
   "outputs": [
    {
     "data": {
      "text/plain": [
       "[[0, 1], [0, 1], [1, 0], [1, 0], [0, 1]]"
      ]
     },
     "execution_count": 215,
     "metadata": {},
     "output_type": "execute_result"
    }
   ],
   "source": [
    "y[0:5]"
   ]
  },
  {
   "cell_type": "code",
   "execution_count": 216,
   "metadata": {
    "id": "_tMoF8rImPZC"
   },
   "outputs": [],
   "source": [
    "x_train, x_val, y_train, y_val = train_test_split(v2_pad, y, test_size=0.2, stratify=y, random_state=2)"
   ]
  },
  {
   "cell_type": "code",
   "execution_count": 217,
   "metadata": {
    "id": "RRTctpbYpPUy"
   },
   "outputs": [],
   "source": [
    "train_batch = tf.data.Dataset.from_tensor_slices((x_train, y_train)).shuffle(len(x_train)).batch(64)\n",
    "val_batch = tf.data.Dataset.from_tensor_slices((x_val, y_val)).batch(64)"
   ]
  },
  {
   "cell_type": "code",
   "execution_count": 218,
   "metadata": {
    "id": "9CIwY_73pa4p"
   },
   "outputs": [],
   "source": [
    "model_1_bis = tf.keras.Sequential([        \n",
    "                  tf.keras.layers.Embedding(vocab_size+1, 128, input_shape=[v2_pad.shape[1],],name=\"embedding\"),\n",
    "                  tf.keras.layers.GlobalAveragePooling1D(),\n",
    "                  tf.keras.layers.Dense(64, activation='relu'),\n",
    "                  tf.keras.layers.Dropout(0.3),\n",
    "                  tf.keras.layers.Dense(32, activation='relu'),\n",
    "                  tf.keras.layers.Dropout(0.1),\n",
    "                  tf.keras.layers.Dense(8, activation='relu'),\n",
    "                  tf.keras.layers.Dense(2, activation=\"softmax\")\n",
    "])"
   ]
  },
  {
   "cell_type": "code",
   "execution_count": 219,
   "metadata": {
    "id": "TKhcYe8Dpl3S"
   },
   "outputs": [],
   "source": [
    "model_1_bis.compile(optimizer=\"adam\",\n",
    "              loss=tf.keras.losses.CategoricalCrossentropy(),\n",
    "              metrics = [tf.keras.metrics.CategoricalAccuracy(name='accuracy'),\n",
    "                         tf.keras.metrics.Precision(name='precision'),\n",
    "                         tf.keras.metrics.Recall(name='recall')])"
   ]
  },
  {
   "cell_type": "code",
   "execution_count": 220,
   "metadata": {},
   "outputs": [],
   "source": [
    "log_dir=\"logs/fit/\" + \"simple_3_layers_rnn_with_softmax \" + datetime.datetime.now().strftime(\"%Y%m%d-%H%M%S\")\n",
    "tensorboard_callback = tf.keras.callbacks.TensorBoard(\n",
    "    log_dir=log_dir, histogram_freq=1)\n",
    "hparams_callback_1_bis = hp.KerasCallback(log_dir, {\n",
    "    'dim_embeders':128,\n",
    "    'nb_dense_units': 112,\n",
    "    'dropout_1': 0.2,\n",
    "    'dropout_2' : 0.1\n",
    "})"
   ]
  },
  {
   "cell_type": "code",
   "execution_count": 221,
   "metadata": {
    "colab": {
     "base_uri": "https://localhost:8080/"
    },
    "id": "8QkAWv2kpthp",
    "outputId": "fb990ecf-3acd-47c5-a2bc-8e5ea5d2964e"
   },
   "outputs": [
    {
     "name": "stdout",
     "output_type": "stream",
     "text": [
      "Epoch 1/20\n",
      "19/19 [==============================] - 6s 220ms/step - loss: 0.6926 - accuracy: 0.5264 - precision: 0.5264 - recall: 0.5264 - val_loss: 0.6893 - val_accuracy: 0.4950 - val_precision: 0.4950 - val_recall: 0.4950\n",
      "Epoch 2/20\n",
      "19/19 [==============================] - 1s 27ms/step - loss: 0.6860 - accuracy: 0.6100 - precision: 0.6100 - recall: 0.6100 - val_loss: 0.6776 - val_accuracy: 0.5920 - val_precision: 0.5920 - val_recall: 0.5920\n",
      "Epoch 3/20\n",
      "19/19 [==============================] - 1s 40ms/step - loss: 0.6657 - accuracy: 0.7649 - precision: 0.7649 - recall: 0.7649 - val_loss: 0.6421 - val_accuracy: 0.8227 - val_precision: 0.8227 - val_recall: 0.8227\n",
      "Epoch 4/20\n",
      "19/19 [==============================] - 1s 30ms/step - loss: 0.6068 - accuracy: 0.8577 - precision: 0.8577 - recall: 0.8577 - val_loss: 0.5422 - val_accuracy: 0.9030 - val_precision: 0.9030 - val_recall: 0.9030\n",
      "Epoch 5/20\n",
      "19/19 [==============================] - 1s 28ms/step - loss: 0.4638 - accuracy: 0.9130 - precision: 0.9130 - recall: 0.9130 - val_loss: 0.3738 - val_accuracy: 0.9331 - val_precision: 0.9331 - val_recall: 0.9331\n",
      "Epoch 6/20\n",
      "19/19 [==============================] - 0s 24ms/step - loss: 0.2983 - accuracy: 0.9155 - precision: 0.9155 - recall: 0.9155 - val_loss: 0.2115 - val_accuracy: 0.9398 - val_precision: 0.9398 - val_recall: 0.9398\n",
      "Epoch 7/20\n",
      "19/19 [==============================] - 1s 33ms/step - loss: 0.1829 - accuracy: 0.9481 - precision: 0.9481 - recall: 0.9481 - val_loss: 0.1786 - val_accuracy: 0.9398 - val_precision: 0.9398 - val_recall: 0.9398\n",
      "Epoch 8/20\n",
      "19/19 [==============================] - 1s 27ms/step - loss: 0.1501 - accuracy: 0.9582 - precision: 0.9582 - recall: 0.9582 - val_loss: 0.1354 - val_accuracy: 0.9498 - val_precision: 0.9498 - val_recall: 0.9498\n",
      "Epoch 9/20\n",
      "19/19 [==============================] - 0s 26ms/step - loss: 0.1079 - accuracy: 0.9640 - precision: 0.9640 - recall: 0.9640 - val_loss: 0.1289 - val_accuracy: 0.9532 - val_precision: 0.9532 - val_recall: 0.9532\n",
      "Epoch 10/20\n",
      "19/19 [==============================] - 0s 23ms/step - loss: 0.0876 - accuracy: 0.9782 - precision: 0.9782 - recall: 0.9782 - val_loss: 0.1282 - val_accuracy: 0.9565 - val_precision: 0.9565 - val_recall: 0.9565\n",
      "Epoch 11/20\n",
      "19/19 [==============================] - 0s 24ms/step - loss: 0.0733 - accuracy: 0.9782 - precision: 0.9782 - recall: 0.9782 - val_loss: 0.1110 - val_accuracy: 0.9565 - val_precision: 0.9565 - val_recall: 0.9565\n",
      "Epoch 12/20\n",
      "19/19 [==============================] - 0s 22ms/step - loss: 0.0563 - accuracy: 0.9833 - precision: 0.9833 - recall: 0.9833 - val_loss: 0.1229 - val_accuracy: 0.9599 - val_precision: 0.9599 - val_recall: 0.9599\n",
      "Epoch 13/20\n",
      "19/19 [==============================] - 0s 23ms/step - loss: 0.0523 - accuracy: 0.9849 - precision: 0.9849 - recall: 0.9849 - val_loss: 0.1153 - val_accuracy: 0.9632 - val_precision: 0.9632 - val_recall: 0.9632\n",
      "Epoch 14/20\n",
      "19/19 [==============================] - 0s 22ms/step - loss: 0.0485 - accuracy: 0.9866 - precision: 0.9866 - recall: 0.9866 - val_loss: 0.1148 - val_accuracy: 0.9498 - val_precision: 0.9498 - val_recall: 0.9498\n",
      "Epoch 15/20\n",
      "19/19 [==============================] - 0s 26ms/step - loss: 0.0366 - accuracy: 0.9916 - precision: 0.9916 - recall: 0.9916 - val_loss: 0.1158 - val_accuracy: 0.9599 - val_precision: 0.9599 - val_recall: 0.9599\n",
      "Epoch 16/20\n",
      "19/19 [==============================] - 1s 25ms/step - loss: 0.0295 - accuracy: 0.9933 - precision: 0.9933 - recall: 0.9933 - val_loss: 0.1229 - val_accuracy: 0.9599 - val_precision: 0.9599 - val_recall: 0.9599\n",
      "Epoch 17/20\n",
      "19/19 [==============================] - 0s 23ms/step - loss: 0.0319 - accuracy: 0.9941 - precision: 0.9941 - recall: 0.9941 - val_loss: 0.1307 - val_accuracy: 0.9632 - val_precision: 0.9632 - val_recall: 0.9632\n",
      "Epoch 18/20\n",
      "19/19 [==============================] - 0s 23ms/step - loss: 0.0279 - accuracy: 0.9933 - precision: 0.9933 - recall: 0.9933 - val_loss: 0.1405 - val_accuracy: 0.9565 - val_precision: 0.9565 - val_recall: 0.9565\n",
      "Epoch 19/20\n",
      "19/19 [==============================] - 0s 22ms/step - loss: 0.0259 - accuracy: 0.9950 - precision: 0.9950 - recall: 0.9950 - val_loss: 0.1407 - val_accuracy: 0.9599 - val_precision: 0.9599 - val_recall: 0.9599\n",
      "Epoch 20/20\n",
      "19/19 [==============================] - 0s 21ms/step - loss: 0.0275 - accuracy: 0.9933 - precision: 0.9933 - recall: 0.9933 - val_loss: 0.1340 - val_accuracy: 0.9565 - val_precision: 0.9565 - val_recall: 0.9565\n"
     ]
    },
    {
     "data": {
      "text/plain": [
       "<tensorflow.python.keras.callbacks.History at 0x2032c434130>"
      ]
     },
     "execution_count": 221,
     "metadata": {},
     "output_type": "execute_result"
    }
   ],
   "source": [
    "model_1_bis.fit(\n",
    "    train_batch,\n",
    "    epochs=20,\n",
    "    verbose=1,\n",
    "    callbacks=[tensorboard_callback, hparams_callback_1_bis],\n",
    "    validation_data=val_batch)"
   ]
  },
  {
   "cell_type": "code",
   "execution_count": 222,
   "metadata": {
    "colab": {
     "base_uri": "https://localhost:8080/"
    },
    "id": "8BZxYffYqkRB",
    "outputId": "899fee9b-a7e4-45d5-cd29-f051ba7cd9a9"
   },
   "outputs": [
    {
     "data": {
      "text/plain": [
       "array([[9.9046457e-01, 9.5354021e-03],\n",
       "       [9.9669975e-01, 3.3002838e-03],\n",
       "       [9.9610645e-01, 3.8934941e-03],\n",
       "       [1.9252853e-05, 9.9998069e-01],\n",
       "       [2.0218322e-04, 9.9979788e-01]], dtype=float32)"
      ]
     },
     "execution_count": 222,
     "metadata": {},
     "output_type": "execute_result"
    }
   ],
   "source": [
    "model_1_bis.predict(x_val)[0:5]"
   ]
  },
  {
   "cell_type": "code",
   "execution_count": 223,
   "metadata": {
    "id": "n2bYWyO61S46"
   },
   "outputs": [],
   "source": [
    "def predictions_tupple_to_binary(model, tresh_suppl, x_val, y_val):\n",
    "  y_true = []\n",
    "  y_pred = []\n",
    "  tupple_predictions = model.predict(x_val)\n",
    "  for i in range(len(x_val)):\n",
    "    y_true.append(0 if y_val[i][0]==1 else 1)\n",
    "    y_pred.append(0 if tupple_predictions[i][0] + tresh_suppl > tupple_predictions[i][1] else 1)\n",
    "  return y_true, y_pred"
   ]
  },
  {
   "cell_type": "code",
   "execution_count": 224,
   "metadata": {
    "colab": {
     "base_uri": "https://localhost:8080/"
    },
    "id": "5KFIlo3kFc8L",
    "outputId": "db974ea2-1714-4616-b4d9-d8da660b7407"
   },
   "outputs": [],
   "source": [
    "y_true, y_pred = predictions_tupple_to_binary(model_1_bis, 0, x_val, y_val)"
   ]
  },
  {
   "cell_type": "code",
   "execution_count": 225,
   "metadata": {
    "colab": {
     "base_uri": "https://localhost:8080/",
     "height": 331
    },
    "id": "amiYn2N5rNGl",
    "outputId": "0a06422e-7e9c-4c6c-b45e-3c1559dd1953"
   },
   "outputs": [
    {
     "name": "stdout",
     "output_type": "stream",
     "text": [
      "Accuracy : 0.9565217391304348\n",
      "Precision : 0.9724137931034482\n",
      "Recall : 0.94\n"
     ]
    },
    {
     "data": {
      "image/png": "[encoded data removed]",
      "text/plain": [
       "<Figure size 640x480 with 2 Axes>"
      ]
     },
     "metadata": {},
     "output_type": "display_data"
    }
   ],
   "source": [
    "display_matrix_and_scores(y_true, y_pred)"
   ]
  },
  {
   "cell_type": "code",
   "execution_count": 226,
   "metadata": {},
   "outputs": [],
   "source": [
    "y_true, y_pred = predictions_tupple_to_binary(model_1_bis, 0.635, x_val, y_val)"
   ]
  },
  {
   "cell_type": "code",
   "execution_count": 227,
   "metadata": {},
   "outputs": [
    {
     "name": "stdout",
     "output_type": "stream",
     "text": [
      "Accuracy : 0.9565217391304348\n",
      "Precision : 0.9858156028368794\n",
      "Recall : 0.9266666666666666\n"
     ]
    },
    {
     "data": {
      "image/png": "[encoded data removed]",
      "text/plain": [
       "<Figure size 640x480 with 2 Axes>"
      ]
     },
     "metadata": {},
     "output_type": "display_data"
    }
   ],
   "source": [
    "display_matrix_and_scores(y_true, y_pred)"
   ]
  },
  {
   "cell_type": "markdown",
   "metadata": {},
   "source": []
  },
  {
   "cell_type": "code",
   "execution_count": 46,
   "metadata": {
    "id": "M8szsppIOdoe"
   },
   "outputs": [],
   "source": [
    "y = preprocessor.fit_transform(data_red['v1'])"
   ]
  },
  {
   "cell_type": "code",
   "execution_count": 47,
   "metadata": {
    "id": "00ZSCkoHwb2R"
   },
   "outputs": [],
   "source": [
    "x_train, x_val, y_train, y_val = train_test_split(v2_pad, y, test_size=0.2, stratify=y, random_state=2)\n",
    "train_batch = tf.data.Dataset.from_tensor_slices((x_train, y_train)).shuffle(len(x_train)).batch(64)\n",
    "val_batch = tf.data.Dataset.from_tensor_slices((x_val, y_val)).batch(64)"
   ]
  },
  {
   "cell_type": "code",
   "execution_count": 48,
   "metadata": {},
   "outputs": [],
   "source": [
    "AUTOTUNE = tf.data.AUTOTUNE\n",
    "\n",
    "train_batch = train_batch.cache().prefetch(buffer_size=AUTOTUNE)\n",
    "val_batch = val_batch.cache().prefetch(buffer_size=AUTOTUNE)"
   ]
  },
  {
   "cell_type": "code",
   "execution_count": 58,
   "metadata": {
    "id": "bGhdTrI1mAR-"
   },
   "outputs": [],
   "source": [
    "model_2 = tf.keras.Sequential([        \n",
    "                  tf.keras.layers.Embedding(vocab_size+1, 128, input_shape=[v2_pad.shape[1],],name=\"embedding\"),\n",
    "                  tf.keras.layers.SimpleRNN(units=64, return_sequences=True),\n",
    "                  tf.keras.layers.SimpleRNN(units=32, return_sequences=False),\n",
    "                  tf.keras.layers.Dense(8, activation='relu'),\n",
    "                  tf.keras.layers.Dropout(0.1),\n",
    "                  tf.keras.layers.Dense(1, activation=\"sigmoid\")\n",
    "])"
   ]
  },
  {
   "cell_type": "code",
   "execution_count": 59,
   "metadata": {
    "colab": {
     "base_uri": "https://localhost:8080/"
    },
    "id": "e5oL6QbJnBa6",
    "outputId": "b8fb0891-fab0-4ff7-ba25-b7170f62c43c"
   },
   "outputs": [
    {
     "name": "stdout",
     "output_type": "stream",
     "text": [
      "Model: \"sequential_3\"\n",
      "_________________________________________________________________\n",
      " Layer (type)                Output Shape              Param #   \n",
      "=================================================================\n",
      " embedding (Embedding)       (None, 70, 128)           256128    \n",
      "                                                                 \n",
      " simple_rnn (SimpleRNN)      (None, 70, 64)            12352     \n",
      "                                                                 \n",
      " simple_rnn_1 (SimpleRNN)    (None, 32)                3104      \n",
      "                                                                 \n",
      " dense_10 (Dense)            (None, 8)                 264       \n",
      "                                                                 \n",
      " dropout_5 (Dropout)         (None, 8)                 0         \n",
      "                                                                 \n",
      " dense_11 (Dense)            (None, 1)                 9         \n",
      "                                                                 \n",
      "=================================================================\n",
      "Total params: 271,857\n",
      "Trainable params: 271,857\n",
      "Non-trainable params: 0\n",
      "_________________________________________________________________\n"
     ]
    }
   ],
   "source": [
    "model_2.summary()"
   ]
  },
  {
   "cell_type": "code",
   "execution_count": 60,
   "metadata": {
    "id": "bmUqS6YhnJoD"
   },
   "outputs": [],
   "source": [
    "model_2.compile(optimizer=\"adam\",\n",
    "              loss=tf.keras.losses.BinaryCrossentropy(),\n",
    "              metrics = [tf.keras.metrics.BinaryAccuracy(name='accuracy'),\n",
    "                         tf.keras.metrics.Precision(name='precision'),\n",
    "                         tf.keras.metrics.Recall(name='recall')])"
   ]
  },
  {
   "cell_type": "code",
   "execution_count": 61,
   "metadata": {
    "id": "QYjIFam0nPIb"
   },
   "outputs": [],
   "source": [
    "log_dir=\"logs/fit/\" + datetime.datetime.now().strftime(\"%Y%m%d-%H%M%S\")\n",
    "tensorboard_callback = tf.keras.callbacks.TensorBoard(\n",
    "    log_dir=log_dir, histogram_freq=1)\n",
    "hparams_callback_2 = hp.KerasCallback(log_dir, {\n",
    "    'num_dense_units': 8,\n",
    "    'num_rnn_units':96,\n",
    "    'dropout_2': 0.1\n",
    "})"
   ]
  },
  {
   "cell_type": "code",
   "execution_count": 62,
   "metadata": {
    "colab": {
     "base_uri": "https://localhost:8080/"
    },
    "id": "f1cf_JwvnXJq",
    "outputId": "0fcf1717-87b2-48f4-85c1-ae8f69153759"
   },
   "outputs": [
    {
     "name": "stdout",
     "output_type": "stream",
     "text": [
      "Epoch 1/20\n",
      "19/19 [==============================] - 15s 623ms/step - loss: 0.5129 - accuracy: 0.7816 - precision: 0.8138 - recall: 0.7308 - val_loss: 0.3596 - val_accuracy: 0.8696 - val_precision: 0.9365 - val_recall: 0.7919\n",
      "Epoch 2/20\n",
      "19/19 [==============================] - 11s 578ms/step - loss: 0.2523 - accuracy: 0.9297 - precision: 0.9690 - recall: 0.8880 - val_loss: 0.2790 - val_accuracy: 0.9030 - val_precision: 0.9348 - val_recall: 0.8658\n",
      "Epoch 3/20\n",
      "19/19 [==============================] - 11s 585ms/step - loss: 0.2195 - accuracy: 0.9397 - precision: 0.9598 - recall: 0.9181 - val_loss: 0.3676 - val_accuracy: 0.8796 - val_precision: 0.9124 - val_recall: 0.8389\n",
      "Epoch 4/20\n",
      "19/19 [==============================] - 11s 586ms/step - loss: 0.1317 - accuracy: 0.9690 - precision: 0.9779 - recall: 0.9599 - val_loss: 0.2664 - val_accuracy: 0.9130 - val_precision: 0.9241 - val_recall: 0.8993\n",
      "Epoch 5/20\n",
      "19/19 [==============================] - 12s 608ms/step - loss: 0.0834 - accuracy: 0.9816 - precision: 0.9848 - recall: 0.9783 - val_loss: 0.3126 - val_accuracy: 0.9130 - val_precision: 0.9241 - val_recall: 0.8993\n",
      "Epoch 6/20\n",
      "19/19 [==============================] - 10s 547ms/step - loss: 0.0758 - accuracy: 0.9824 - precision: 0.9849 - recall: 0.9799 - val_loss: 0.3335 - val_accuracy: 0.9130 - val_precision: 0.9301 - val_recall: 0.8926\n",
      "Epoch 7/20\n",
      "19/19 [==============================] - 10s 542ms/step - loss: 0.0695 - accuracy: 0.9816 - precision: 0.9966 - recall: 0.9666 - val_loss: 0.3338 - val_accuracy: 0.8997 - val_precision: 0.9048 - val_recall: 0.8926\n",
      "Epoch 8/20\n",
      "19/19 [==============================] - 11s 569ms/step - loss: 0.0672 - accuracy: 0.9816 - precision: 0.9915 - recall: 0.9716 - val_loss: 0.3049 - val_accuracy: 0.9197 - val_precision: 0.9195 - val_recall: 0.9195\n",
      "Epoch 9/20\n",
      "19/19 [==============================] - 10s 546ms/step - loss: 0.0395 - accuracy: 0.9908 - precision: 0.9916 - recall: 0.9900 - val_loss: 0.4937 - val_accuracy: 0.8729 - val_precision: 0.8208 - val_recall: 0.9530\n",
      "Epoch 10/20\n",
      "19/19 [==============================] - 11s 565ms/step - loss: 0.0481 - accuracy: 0.9874 - precision: 0.9883 - recall: 0.9866 - val_loss: 0.3456 - val_accuracy: 0.9097 - val_precision: 0.9067 - val_recall: 0.9128\n",
      "Epoch 11/20\n",
      "19/19 [==============================] - 11s 570ms/step - loss: 0.0585 - accuracy: 0.9849 - precision: 0.9899 - recall: 0.9799 - val_loss: 0.4366 - val_accuracy: 0.8963 - val_precision: 0.8471 - val_recall: 0.9664\n",
      "Epoch 12/20\n",
      "19/19 [==============================] - 10s 548ms/step - loss: 0.0537 - accuracy: 0.9883 - precision: 0.9899 - recall: 0.9866 - val_loss: 0.3171 - val_accuracy: 0.9231 - val_precision: 0.9091 - val_recall: 0.9396\n",
      "Epoch 13/20\n",
      "19/19 [==============================] - 11s 576ms/step - loss: 0.0511 - accuracy: 0.9900 - precision: 0.9933 - recall: 0.9866 - val_loss: 0.3385 - val_accuracy: 0.9197 - val_precision: 0.8981 - val_recall: 0.9463\n",
      "Epoch 14/20\n",
      "19/19 [==============================] - 12s 611ms/step - loss: 0.0238 - accuracy: 0.9958 - precision: 0.9983 - recall: 0.9933 - val_loss: 0.3333 - val_accuracy: 0.9331 - val_precision: 0.9216 - val_recall: 0.9463\n",
      "Epoch 15/20\n",
      "19/19 [==============================] - 12s 617ms/step - loss: 0.0307 - accuracy: 0.9941 - precision: 0.9983 - recall: 0.9900 - val_loss: 0.3521 - val_accuracy: 0.9197 - val_precision: 0.9371 - val_recall: 0.8993\n",
      "Epoch 16/20\n",
      "19/19 [==============================] - 11s 586ms/step - loss: 0.0353 - accuracy: 0.9925 - precision: 0.9966 - recall: 0.9883 - val_loss: 0.3451 - val_accuracy: 0.9231 - val_precision: 0.9200 - val_recall: 0.9262\n",
      "Epoch 17/20\n",
      "19/19 [==============================] - 11s 561ms/step - loss: 0.0215 - accuracy: 0.9958 - precision: 0.9983 - recall: 0.9933 - val_loss: 0.2984 - val_accuracy: 0.9465 - val_precision: 0.9524 - val_recall: 0.9396\n",
      "Epoch 18/20\n",
      "19/19 [==============================] - 10s 545ms/step - loss: 0.0225 - accuracy: 0.9958 - precision: 0.9983 - recall: 0.9933 - val_loss: 0.3785 - val_accuracy: 0.9264 - val_precision: 0.9150 - val_recall: 0.9396\n",
      "Epoch 19/20\n",
      "19/19 [==============================] - 10s 549ms/step - loss: 0.5063 - accuracy: 0.8427 - precision: 0.8154 - recall: 0.8863 - val_loss: 0.3995 - val_accuracy: 0.8662 - val_precision: 0.8114 - val_recall: 0.9530\n",
      "Epoch 20/20\n",
      "19/19 [==============================] - 11s 556ms/step - loss: 0.1004 - accuracy: 0.9808 - precision: 0.9768 - recall: 0.9849 - val_loss: 0.4003 - val_accuracy: 0.8863 - val_precision: 0.8443 - val_recall: 0.9463\n"
     ]
    },
    {
     "data": {
      "text/plain": [
       "<keras.callbacks.History at 0x1f91d089c10>"
      ]
     },
     "execution_count": 62,
     "metadata": {},
     "output_type": "execute_result"
    }
   ],
   "source": [
    "model_2.fit(\n",
    "    train_batch,\n",
    "    epochs=20,\n",
    "    verbose=1,\n",
    "    callbacks=[tensorboard_callback, hparams_callback_2],\n",
    "    validation_data=val_batch)"
   ]
  },
  {
   "cell_type": "code",
   "execution_count": 54,
   "metadata": {
    "colab": {
     "base_uri": "https://localhost:8080/"
    },
    "id": "GXys3Y8gPDQq",
    "outputId": "1fb69062-759f-4e63-fd8f-c0e42311826e"
   },
   "outputs": [
    {
     "name": "stdout",
     "output_type": "stream",
     "text": [
      "10/10 [==============================] - 1s 36ms/step\n"
     ]
    }
   ],
   "source": [
    "y_true, y_pred = predictions_singleton_to_binary(model_2, 0.5, x_val, y_val)"
   ]
  },
  {
   "cell_type": "code",
   "execution_count": 55,
   "metadata": {
    "colab": {
     "base_uri": "https://localhost:8080/",
     "height": 332
    },
    "id": "mu3v0qhX3ebS",
    "outputId": "a6493527-a066-4240-d97b-5083f9fbffcd"
   },
   "outputs": [
    {
     "name": "stdout",
     "output_type": "stream",
     "text": [
      "Accuracy : 0.8795986622073578\n",
      "Precision : 0.8843537414965986\n",
      "Recall : 0.87248322147651\n"
     ]
    },
    {
     "data": {
      "image/png": "[encoded data removed]",
      "text/plain": [
       "<Figure size 640x480 with 2 Axes>"
      ]
     },
     "metadata": {},
     "output_type": "display_data"
    }
   ],
   "source": [
    "display_matrix_and_scores(y_true, y_pred)"
   ]
  },
  {
   "cell_type": "code",
   "execution_count": 56,
   "metadata": {
    "id": "lS-TP0yzBMOy"
   },
   "outputs": [],
   "source": [
    "model_3 = tf.keras.Sequential([        \n",
    "                  tf.keras.layers.Embedding(vocab_size+1, 128, input_shape=[v2_pad.shape[1],],name=\"embedding\"),\n",
    "                  tf.keras.layers.SimpleRNN(units=64, return_sequences=True),\n",
    "                  tf.keras.layers.Dropout(0.2),\n",
    "                  tf.keras.layers.SimpleRNN(units=32, return_sequences=True),\n",
    "                  tf.keras.layers.Dropout(0.2),\n",
    "                  tf.keras.layers.SimpleRNN(units=16, return_sequences=True),\n",
    "                  tf.keras.layers.GlobalAveragePooling1D(),\n",
    "                  tf.keras.layers.Dropout(0.2),\n",
    "                  tf.keras.layers.Dense(1, activation=\"sigmoid\")\n",
    "])"
   ]
  },
  {
   "cell_type": "code",
   "execution_count": 57,
   "metadata": {
    "id": "wpin2QEOBVGZ"
   },
   "outputs": [],
   "source": [
    "model_3.compile(optimizer=\"adam\",\n",
    "              loss='binary_crossentropy',\n",
    "              metrics = [tf.keras.metrics.BinaryAccuracy(name='accuracy'),\n",
    "                         tf.keras.metrics.Precision(name='precision'),\n",
    "                         tf.keras.metrics.Recall(name='recall')])"
   ]
  },
  {
   "cell_type": "code",
   "execution_count": 58,
   "metadata": {
    "id": "jrUa6QfEBYfR"
   },
   "outputs": [],
   "source": [
    "log_dir=\"logs/fit/\" + \"model_3_3_RNN_with_global_pooling \" + datetime.datetime.now().strftime(\"%Y%m%d-%H%M%S\")\n",
    "tensorboard_callback = tf.keras.callbacks.TensorBoard(\n",
    "    log_dir=log_dir, histogram_freq=1)\n",
    "hparams_callback_3 = hp.KerasCallback(log_dir, {\n",
    "    'num_dense_units': 8,\n",
    "    'num_rnn_units':96,\n",
    "    'dropout_2': 0.5\n",
    "})"
   ]
  },
  {
   "cell_type": "code",
   "execution_count": 59,
   "metadata": {
    "colab": {
     "base_uri": "https://localhost:8080/"
    },
    "id": "bwlsYlTvBcPL",
    "outputId": "20d593d2-d195-4ae5-af08-dd340371dddb"
   },
   "outputs": [
    {
     "name": "stdout",
     "output_type": "stream",
     "text": [
      "Epoch 1/20\n",
      "19/19 [==============================] - 21s 822ms/step - loss: 0.5529 - accuracy: 0.7230 - precision: 0.7063 - recall: 0.7642 - val_loss: 0.2679 - val_accuracy: 0.9365 - val_precision: 0.9851 - val_recall: 0.8859\n",
      "Epoch 2/20\n",
      "19/19 [==============================] - 14s 735ms/step - loss: 0.2281 - accuracy: 0.9423 - precision: 0.9460 - recall: 0.9381 - val_loss: 0.1740 - val_accuracy: 0.9532 - val_precision: 0.9787 - val_recall: 0.9262\n",
      "Epoch 3/20\n",
      "19/19 [==============================] - 13s 710ms/step - loss: 0.2077 - accuracy: 0.9464 - precision: 0.9238 - recall: 0.9732 - val_loss: 0.1927 - val_accuracy: 0.9431 - val_precision: 0.9853 - val_recall: 0.8993\n",
      "Epoch 4/20\n",
      "19/19 [==============================] - 14s 739ms/step - loss: 0.1365 - accuracy: 0.9699 - precision: 0.9763 - recall: 0.9632 - val_loss: 0.2938 - val_accuracy: 0.9197 - val_precision: 0.9139 - val_recall: 0.9262\n",
      "Epoch 5/20\n",
      "19/19 [==============================] - 13s 689ms/step - loss: 0.1411 - accuracy: 0.9682 - precision: 0.9746 - recall: 0.9615 - val_loss: 0.2570 - val_accuracy: 0.9331 - val_precision: 0.9108 - val_recall: 0.9597\n",
      "Epoch 6/20\n",
      "19/19 [==============================] - 13s 672ms/step - loss: 0.0915 - accuracy: 0.9824 - precision: 0.9865 - recall: 0.9783 - val_loss: 0.2522 - val_accuracy: 0.9365 - val_precision: 0.9167 - val_recall: 0.9597\n",
      "Epoch 7/20\n",
      "19/19 [==============================] - 14s 718ms/step - loss: 0.1015 - accuracy: 0.9799 - precision: 0.9898 - recall: 0.9699 - val_loss: 0.4103 - val_accuracy: 0.8896 - val_precision: 1.0000 - val_recall: 0.7785\n",
      "Epoch 8/20\n",
      "19/19 [==============================] - 13s 690ms/step - loss: 0.2792 - accuracy: 0.9205 - precision: 0.9903 - recall: 0.8495 - val_loss: 0.2091 - val_accuracy: 0.9331 - val_precision: 0.9448 - val_recall: 0.9195\n",
      "Epoch 9/20\n",
      "19/19 [==============================] - 13s 699ms/step - loss: 0.1039 - accuracy: 0.9741 - precision: 0.9863 - recall: 0.9615 - val_loss: 0.2149 - val_accuracy: 0.9431 - val_precision: 0.9286 - val_recall: 0.9597\n",
      "Epoch 10/20\n",
      "19/19 [==============================] - 13s 675ms/step - loss: 0.0554 - accuracy: 0.9900 - precision: 0.9933 - recall: 0.9866 - val_loss: 0.2060 - val_accuracy: 0.9465 - val_precision: 0.9290 - val_recall: 0.9664\n",
      "Epoch 11/20\n",
      "19/19 [==============================] - 13s 681ms/step - loss: 0.0445 - accuracy: 0.9900 - precision: 0.9949 - recall: 0.9849 - val_loss: 0.3498 - val_accuracy: 0.9231 - val_precision: 0.8938 - val_recall: 0.9597\n",
      "Epoch 12/20\n",
      "19/19 [==============================] - 13s 676ms/step - loss: 0.0397 - accuracy: 0.9941 - precision: 0.9950 - recall: 0.9933 - val_loss: 0.3424 - val_accuracy: 0.9298 - val_precision: 0.9051 - val_recall: 0.9597\n",
      "Epoch 13/20\n",
      "19/19 [==============================] - 13s 700ms/step - loss: 0.0418 - accuracy: 0.9925 - precision: 0.9933 - recall: 0.9916 - val_loss: 0.5531 - val_accuracy: 0.8829 - val_precision: 0.8239 - val_recall: 0.9732\n",
      "Epoch 14/20\n",
      "19/19 [==============================] - 13s 696ms/step - loss: 0.1617 - accuracy: 0.9623 - precision: 0.9496 - recall: 0.9766 - val_loss: 0.2989 - val_accuracy: 0.9365 - val_precision: 0.9779 - val_recall: 0.8926\n",
      "Epoch 15/20\n",
      "19/19 [==============================] - 13s 685ms/step - loss: 0.1224 - accuracy: 0.9749 - precision: 0.9965 - recall: 0.9532 - val_loss: 0.2827 - val_accuracy: 0.9365 - val_precision: 0.9710 - val_recall: 0.8993\n",
      "Epoch 16/20\n",
      "19/19 [==============================] - 13s 700ms/step - loss: 0.1034 - accuracy: 0.9808 - precision: 0.9898 - recall: 0.9716 - val_loss: 0.2833 - val_accuracy: 0.9331 - val_precision: 0.9708 - val_recall: 0.8926\n",
      "Epoch 17/20\n",
      "19/19 [==============================] - 13s 697ms/step - loss: 0.0936 - accuracy: 0.9816 - precision: 0.9983 - recall: 0.9649 - val_loss: 0.2388 - val_accuracy: 0.9431 - val_precision: 0.9783 - val_recall: 0.9060\n",
      "Epoch 18/20\n",
      "19/19 [==============================] - 13s 685ms/step - loss: 0.0776 - accuracy: 0.9849 - precision: 0.9983 - recall: 0.9716 - val_loss: 0.2382 - val_accuracy: 0.9465 - val_precision: 0.9784 - val_recall: 0.9128\n",
      "Epoch 19/20\n",
      "19/19 [==============================] - 13s 676ms/step - loss: 0.0805 - accuracy: 0.9849 - precision: 0.9983 - recall: 0.9716 - val_loss: 0.2362 - val_accuracy: 0.9465 - val_precision: 0.9784 - val_recall: 0.9128\n",
      "Epoch 20/20\n",
      "19/19 [==============================] - 13s 677ms/step - loss: 0.0631 - accuracy: 0.9866 - precision: 0.9983 - recall: 0.9749 - val_loss: 0.3172 - val_accuracy: 0.9231 - val_precision: 0.9773 - val_recall: 0.8658\n"
     ]
    },
    {
     "data": {
      "text/plain": [
       "<keras.callbacks.History at 0x1f28d757a60>"
      ]
     },
     "execution_count": 59,
     "metadata": {},
     "output_type": "execute_result"
    }
   ],
   "source": [
    "model_3.fit(\n",
    "    train_batch,\n",
    "    epochs=20,\n",
    "    verbose=1,\n",
    "    callbacks=[tensorboard_callback, hparams_callback_3],\n",
    "    validation_data=val_batch)"
   ]
  },
  {
   "cell_type": "code",
   "execution_count": 60,
   "metadata": {
    "colab": {
     "base_uri": "https://localhost:8080/"
    },
    "id": "__DsJF6nQJ2J",
    "outputId": "18a5bd5c-2934-4276-db20-ebcd3957435c"
   },
   "outputs": [
    {
     "name": "stdout",
     "output_type": "stream",
     "text": [
      "10/10 [==============================] - 1s 53ms/step\n"
     ]
    }
   ],
   "source": [
    "y_true, y_pred = predictions_singleton_to_binary(model_3, 0.5, x_val, y_val)"
   ]
  },
  {
   "cell_type": "code",
   "execution_count": 61,
   "metadata": {
    "colab": {
     "base_uri": "https://localhost:8080/",
     "height": 331
    },
    "id": "2a8Tox46QciB",
    "outputId": "f12e76f0-99d8-471a-a1cc-d5f76f70630a"
   },
   "outputs": [
    {
     "name": "stdout",
     "output_type": "stream",
     "text": [
      "Accuracy : 0.9230769230769231\n",
      "Precision : 0.9772727272727273\n",
      "Recall : 0.8657718120805369\n"
     ]
    },
    {
     "data": {
      "image/png": "[encoded data removed]",
      "text/plain": [
       "<Figure size 640x480 with 2 Axes>"
      ]
     },
     "metadata": {},
     "output_type": "display_data"
    }
   ],
   "source": [
    "display_matrix_and_scores(y_true, y_pred)"
   ]
  },
  {
   "cell_type": "markdown",
   "metadata": {
    "id": "tgjSMRnSzVYi"
   },
   "source": []
  },
  {
   "cell_type": "code",
   "execution_count": null,
   "metadata": {},
   "outputs": [],
   "source": []
  },
  {
   "cell_type": "code",
   "execution_count": 75,
   "metadata": {
    "id": "1PLaJ85Q1j6i"
   },
   "outputs": [],
   "source": [
    "bert_preprocess = hub.KerasLayer(\"https://tfhub.dev/tensorflow/albert_en_preprocess/3\")\n",
    "bert_encoder = hub.KerasLayer(\"https://tfhub.dev/tensorflow/albert_en_base/3\")"
   ]
  },
  {
   "cell_type": "code",
   "execution_count": 59,
   "metadata": {
    "id": "EQmKdGq0YEGp"
   },
   "outputs": [],
   "source": [
    "y = preprocessor.fit_transform(data_red['v1'])"
   ]
  },
  {
   "cell_type": "code",
   "execution_count": 60,
   "metadata": {
    "id": "ZtVubbIq_0lq"
   },
   "outputs": [],
   "source": [
    "x_train, x_val, y_train, y_val = train_test_split(data_red['v2'], y, test_size=0.2, stratify=y)"
   ]
  },
  {
   "cell_type": "code",
   "execution_count": 61,
   "metadata": {
    "id": "8GfyHVdUDEBi"
   },
   "outputs": [],
   "source": [
    "train_batch = tf.data.Dataset.from_tensor_slices((x_train, y_train)).shuffle(len(x_train)).batch(64)\n",
    "val_batch = tf.data.Dataset.from_tensor_slices((x_val, y_val)).batch(64)"
   ]
  },
  {
   "cell_type": "code",
   "execution_count": 62,
   "metadata": {},
   "outputs": [],
   "source": [
    "AUTOTUNE = tf.data.AUTOTUNE\n",
    "\n",
    "train_batch = train_batch.cache().prefetch(buffer_size=AUTOTUNE)\n",
    "val_batch = val_batch.cache().prefetch(buffer_size=AUTOTUNE)"
   ]
  },
  {
   "cell_type": "code",
   "execution_count": 63,
   "metadata": {
    "colab": {
     "base_uri": "https://localhost:8080/"
    },
    "id": "H_IAbzUFEiaJ",
    "outputId": "ffd13191-5ba4-4ea8-9274-bc16a5175a95"
   },
   "outputs": [
    {
     "name": "stdout",
     "output_type": "stream",
     "text": [
      "tf.Tensor(\n",
      "[b'So can collect ur laptop?'\n",
      " b\"No i'm not gonna be able to. || too late notice. || i'll be home in a few weeks anyway. || what are the plans\"\n",
      " b'Your account has been credited with 500 FREE Text Messages. To activate, just txt the word: CREDIT to No: 80488 T&Cs www.80488.biz'\n",
      " b'Ur cash-balance is currently 500 pounds - to maximize ur cash-in now send GO to 86688 only 150p/msg. CC: 08718720201 PO BOX 114/14 TCR/W1'\n",
      " b'Talk With Yourself Atleast Once In A Day...!!! Otherwise You Will Miss Your Best FRIEND In This WORLD...!!! -Shakespeare- SHESIL  &lt;#&gt;'\n",
      " b'Going on nothing great.bye' b'Studying. But i.ll be free next weekend.'\n",
      " b\"Nvm it's ok...\"\n",
      " b'Fantasy Football is back on your TV. Go to Sky Gamestar on Sky Active and play \\xc3\\xa5\\xc2\\xa3250k Dream Team. Scoring starts on Saturday, so register now!SKY OPT OUT to 88088'\n",
      " b'Was actually sleeping and still might when u call back. So a text is gr8. You rock sis. Will send u a text wen i wake.'\n",
      " b'You have WON a guaranteed \\xc3\\xa5\\xc2\\xa31000 cash or a \\xc3\\xa5\\xc2\\xa32000 prize. To claim yr prize call our customer service representative on 08714712412 between 10am-7pm Cost 10p'\n",
      " b'Hope you are having a great day.'\n",
      " b'You all ready for * big day tomorrow?'\n",
      " b'IMPORTANT MESSAGE. This is a final contact attempt. You have important messages waiting out our customer claims dept. Expires 13/4/04. Call 08717507382 NOW!'\n",
      " b\"If you don't, your prize will go to another customer. T&C at www.t-c.biz 18+ 150p/min Polo Ltd Suite 373 London W1J 6HL Please call back if busy \"\n",
      " b'FREE for 1st week! No1 Nokia tone 4 ur mobile every week just txt NOKIA to 8077 Get txting and tell ur mates. www.getzed.co.uk POBox 36504 W45WQ 16+ norm150p/tone'\n",
      " b'Thats cool! Sometimes slow and gentle. Sonetimes rough and hard :)'\n",
      " b'Should I tell my friend not to come round til like  &lt;#&gt; ish?'\n",
      " b\"Not to worry. I'm sure you'll get it.\" b'K.then any other special?'\n",
      " b'Natalie (20/F) is inviting you to be her friend. Reply YES-165 or NO-165 See her: www.SMS.ac/u/natalie2k9 STOP? Send STOP FRND to 62468'\n",
      " b'Thanks for your ringtone order, ref number K718. Your mobile will be charged \\xc3\\xa5\\xc2\\xa34.50. Should your tone not arrive please call customer services on 09065069120'\n",
      " b'I will come tomorrow di'\n",
      " b'Valentines Day Special! Win over \\xc3\\xa5\\xc2\\xa31000 in our quiz and take your partner on the trip of a lifetime! Send GO to 83600 now. 150p/msg rcvd. CustCare:08718720201.'\n",
      " b'Yar lor actually we quite fast... Cos da ge slow wat... Haha...'\n",
      " b'Someone U know has asked our dating service 2 contact you! Cant Guess who? CALL 09058097189 NOW all will be revealed. POBox 6, LS15HB 150p '\n",
      " b\"Wa, ur openin sentence very formal... Anyway, i'm fine too, juz tt i'm eatin too much n puttin on weight...Haha... So anythin special happened?\"\n",
      " b'Do you want a New Nokia 3510i Colour Phone Delivered Tomorrow? With 200 FREE minutes to any mobile + 100 FREE text + FREE camcorder Reply or Call 08000930705'\n",
      " b'Mm i am on the way to railway'\n",
      " b'* Will have two more cartons off u and is very pleased with shelves'\n",
      " b'Haha... Hope \\xc3\\x8c_ can hear the receipt sound... Gd luck!'\n",
      " b'Married local women looking for discreet action now! 5 real matches instantly to your phone. Text MATCH to 69969 Msg cost 150p 2 stop txt stop BCMSFWC1N3XX'\n",
      " b'PRIVATE! Your 2003 Account Statement for shows 800 un-redeemed S. I. M. points. Call 08718738002 Identifier Code: 48922 Expires 21/11/04'\n",
      " b'Do you want a new Video phone? 600 anytime any network mins 400 Inclusive Video calls AND downloads 5 per week Free delTOMORROW call 08002888812 or reply NOW'\n",
      " b'U have a secret admirer who is looking 2 make contact with U-find out who they R*reveal who thinks UR so special-call on 09058094599'\n",
      " b'Shop till u Drop, IS IT YOU, either 10K, 5K, \\xc3\\xa5\\xc2\\xa3500 Cash or \\xc3\\xa5\\xc2\\xa3100 Travel voucher, Call now, 09064011000. NTT PO Box CR01327BT fixedline Cost 150ppm mobile vary'\n",
      " b'FROM 88066 LOST \\xc3\\xa5\\xc2\\xa312 HELP' b\"Sorry, I'll call later\"\n",
      " b'\\\\For the most sparkling shopping breaks from 45 per person; call 0121 2025050 or visit www.shortbreaks.org.uk\\\\\"\"'\n",
      " b'I donno if they are scorable'\n",
      " b'Also sir, i sent you an email about how to log into the usc payment portal. I.ll send you another message that should explain how things are back home. Have a great weekend.'\n",
      " b'Hey Boys. Want hot XXX pics sent direct 2 ur phone? Txt PORN to 69855, 24Hrs free and then just 50p per day. To stop text STOPBCM SF WC1N3XX'\n",
      " b'PRIVATE! Your 2003 Account Statement for shows 800 un-redeemed S.I.M. points. Call 08715203685 Identifier Code:4xx26 Expires 13/10/04'\n",
      " b'Oh gei. That happend to me in tron. Maybe ill dl it in 3d when its out'\n",
      " b'And stop being an old man. You get to build snowman snow angels and snowball fights.'\n",
      " b'Ur cash-balance is currently 500 pounds - to maximize ur cash-in now send GO to 86688 only 150p/meg. CC: 08718720201 HG/Suite342/2lands Row/W1j6HL'\n",
      " b'Old Orchard near univ. How about you?'\n",
      " b\"LookAtMe!: Thanks for your purchase of a video clip from LookAtMe!, you've been charged 35p. Think you can do better? Why not send a video in a MMSto 32323.\"\n",
      " b'Get a brand new mobile phone by being an agent of The Mob! Plus loads more goodies! For more info just text MAT to 87021.'\n",
      " b'Do you want a New Nokia 3510i colour phone DeliveredTomorrow? With 300 free minutes to any mobile + 100 free texts + Free Camcorder reply or call 08000930705'\n",
      " b\"For ur chance to win a \\xc3\\xa5\\xc2\\xa3250 wkly shopping spree TXT: SHOP to 80878. T's&C's www.txt-2-shop.com custcare 08715705022, 1x150p/wk\"\n",
      " b'Much better now thanks lol'\n",
      " b'Todays Voda numbers ending 1225 are selected to receive a \\xc3\\xa5\\xc2\\xa350award. If you have a match please call 08712300220 quoting claim code 3100 standard rates app '\n",
      " b'K.k:)when are you going?' b'Whens your radio show?'\n",
      " b'4mths half price Orange line rental & latest camera phones 4 FREE. Had your phone 11mths ? Call MobilesDirect free on 08000938767 to update now! or2stoptxt'\n",
      " b\"Aight no rush, I'll ask jay\"\n",
      " b'December only! Had your mobile 11mths+? You are entitled to update to the latest colour camera mobile for Free! Call The Mobile Update Co FREE on 08002986906 '\n",
      " b'WINNER!! As a valued network customer you have been selected to receivea \\xc3\\xa5\\xc2\\xa3900 prize reward! To claim call 09061701461. Claim code KL341. Valid 12 hours only.'\n",
      " b'LOL ... Have you made plans for new years?'\n",
      " b'Last Chance! Claim ur \\xc3\\xa5\\xc2\\xa3150 worth of discount vouchers today! Text SHOP to 85023 now! SavaMob, offers mobile! T Cs SavaMob POBOX84, M263UZ. \\xc3\\xa5\\xc2\\xa33.00 Sub. 16'\n",
      " b'Santa calling! Would your little ones like a call from Santa Xmas Eve? Call 09077818151 to book you time. Calls1.50ppm last 3mins 30s T&C www.santacalling.com'\n",
      " b\"Idk. You keep saying that you're not, but since he moved, we keep butting heads over freedom vs. responsibility. And i'm tired. I have so much other shit to deal with that i'm barely keeping myself together once this gets added to it.\"\n",
      " b'You have been specially selected to receive a 2000 pound award! Call 08712402050 BEFORE the lines close. Cost 10ppm. 16+. T&Cs apply. AG Promo'], shape=(64,), dtype=string)\n",
      "tf.Tensor(\n",
      "[0 0 1 1 0 0 0 0 1 0 1 0 0 1 1 1 0 0 0 0 1 1 0 1 0 1 0 1 0 0 0 1 1 1 1 1 1\n",
      " 0 1 0 0 1 1 0 0 1 0 1 1 1 1 0 1 0 0 1 0 1 1 0 1 1 0 1], shape=(64,), dtype=int32)\n"
     ]
    }
   ],
   "source": [
    "for sent, targ in train_batch.take(1):\n",
    "  print(sent)\n",
    "  print(targ)"
   ]
  },
  {
   "cell_type": "code",
   "execution_count": 90,
   "metadata": {
    "id": "ydL4sKY4_0ZB"
   },
   "outputs": [],
   "source": [
    "text_input = tf.keras.layers.Input(shape=(), dtype=tf.string, name='text')\n",
    "preprocessed_text = bert_preprocess(text_input)\n",
    "outputs = bert_encoder(preprocessed_text)\n",
    "l = tf.keras.layers.Dropout(0.2, name=\"dropout\")(outputs['pooled_output'])\n",
    "l = tf.keras.layers.Dense(1, activation='sigmoid', name=\"output\")(l)\n",
    "model_4 = tf.keras.Model(inputs=[text_input], outputs = [l])"
   ]
  },
  {
   "cell_type": "code",
   "execution_count": 91,
   "metadata": {
    "colab": {
     "base_uri": "https://localhost:8080/"
    },
    "id": "lQ7lGWvgAnAa",
    "outputId": "d7465d93-9564-457a-d91c-8cafc0afba5f"
   },
   "outputs": [
    {
     "name": "stdout",
     "output_type": "stream",
     "text": [
      "Model: \"model_1\"\n",
      "__________________________________________________________________________________________________\n",
      " Layer (type)                   Output Shape         Param #     Connected to                     \n",
      "==================================================================================================\n",
      " text (InputLayer)              [(None,)]            0           []                               \n",
      "                                                                                                  \n",
      " keras_layer_2 (KerasLayer)     {'input_mask': (Non  0           ['text[0][0]']                   \n",
      "                                e, 128),                                                          \n",
      "                                 'input_word_ids':                                                \n",
      "                                (None, 128),                                                      \n",
      "                                 'input_type_ids':                                                \n",
      "                                (None, 128)}                                                      \n",
      "                                                                                                  \n",
      " keras_layer_3 (KerasLayer)     {'encoder_outputs':  11683584    ['keras_layer_2[1][0]',          \n",
      "                                 [(None, 128, 768),               'keras_layer_2[1][1]',          \n",
      "                                 (None, 128, 768),                'keras_layer_2[1][2]']          \n",
      "                                 (None, 128, 768),                                                \n",
      "                                 (None, 128, 768),                                                \n",
      "                                 (None, 128, 768),                                                \n",
      "                                 (None, 128, 768),                                                \n",
      "                                 (None, 128, 768),                                                \n",
      "                                 (None, 128, 768),                                                \n",
      "                                 (None, 128, 768),                                                \n",
      "                                 (None, 128, 768),                                                \n",
      "                                 (None, 128, 768),                                                \n",
      "                                 (None, 128, 768)],                                               \n",
      "                                 'sequence_output':                                               \n",
      "                                 (None, 128, 768),                                                \n",
      "                                 'pooled_output': (                                               \n",
      "                                None, 768),                                                       \n",
      "                                 'default': (None,                                                \n",
      "                                768)}                                                             \n",
      "                                                                                                  \n",
      " dropout (Dropout)              (None, 768)          0           ['keras_layer_3[1][13]']         \n",
      "                                                                                                  \n",
      " output (Dense)                 (None, 1)            769         ['dropout[0][0]']                \n",
      "                                                                                                  \n",
      "==================================================================================================\n",
      "Total params: 11,684,353\n",
      "Trainable params: 769\n",
      "Non-trainable params: 11,683,584\n",
      "__________________________________________________________________________________________________\n"
     ]
    }
   ],
   "source": [
    "model_4.summary()"
   ]
  },
  {
   "cell_type": "code",
   "execution_count": 92,
   "metadata": {
    "id": "OcnnHKUOB2vJ"
   },
   "outputs": [],
   "source": [
    "model_4.compile(optimizer=\"adam\",\n",
    "              loss='binary_crossentropy',\n",
    "              metrics = [tf.keras.metrics.BinaryAccuracy(name='accuracy'),\n",
    "                         tf.keras.metrics.Precision(name='precision'),\n",
    "                         tf.keras.metrics.Recall(name='recall')])"
   ]
  },
  {
   "cell_type": "code",
   "execution_count": 93,
   "metadata": {
    "id": "Rqe-wPcjCCFC"
   },
   "outputs": [],
   "source": [
    "log_dir=\"logs/fit/\" + 'model_4_bert ' + datetime.datetime.now().strftime(\"%Y%m%d-%H%M%S\")\n",
    "tensorboard_callback = tf.keras.callbacks.TensorBoard(\n",
    "    log_dir=log_dir, histogram_freq=1)\n",
    "hparams_callback_4 = hp.KerasCallback(log_dir, {\n",
    "    'bert': 1,\n",
    "    'dropout_1': 0.1\n",
    "})"
   ]
  },
  {
   "cell_type": "code",
   "execution_count": 94,
   "metadata": {
    "colab": {
     "base_uri": "https://localhost:8080/"
    },
    "id": "RWs8qScECUnJ",
    "outputId": "c49a288d-09c3-47d2-8270-5288259e5656"
   },
   "outputs": [
    {
     "name": "stdout",
     "output_type": "stream",
     "text": [
      "Epoch 1/30\n",
      "19/19 [==============================] - 75s 4s/step - loss: 0.7464 - accuracy: 0.5138 - precision: 0.5141 - recall: 0.5167 - val_loss: 0.6217 - val_accuracy: 0.6890 - val_precision: 0.7642 - val_recall: 0.5436\n",
      "Epoch 2/30\n",
      "19/19 [==============================] - 68s 4s/step - loss: 0.5662 - accuracy: 0.7130 - precision: 0.7165 - recall: 0.7057 - val_loss: 0.4963 - val_accuracy: 0.8428 - val_precision: 0.8542 - val_recall: 0.8255\n",
      "Epoch 3/30\n",
      "19/19 [==============================] - 68s 4s/step - loss: 0.4521 - accuracy: 0.8301 - precision: 0.8222 - recall: 0.8428 - val_loss: 0.4285 - val_accuracy: 0.8495 - val_precision: 0.8611 - val_recall: 0.8322\n",
      "Epoch 4/30\n",
      "19/19 [==============================] - 68s 4s/step - loss: 0.3864 - accuracy: 0.8628 - precision: 0.8690 - recall: 0.8545 - val_loss: 0.3836 - val_accuracy: 0.8629 - val_precision: 0.8600 - val_recall: 0.8658\n",
      "Epoch 5/30\n",
      "19/19 [==============================] - 68s 4s/step - loss: 0.3533 - accuracy: 0.8678 - precision: 0.8630 - recall: 0.8746 - val_loss: 0.3492 - val_accuracy: 0.8796 - val_precision: 0.8693 - val_recall: 0.8926\n",
      "Epoch 6/30\n",
      "19/19 [==============================] - 68s 4s/step - loss: 0.3411 - accuracy: 0.8669 - precision: 0.8677 - recall: 0.8662 - val_loss: 0.3220 - val_accuracy: 0.8997 - val_precision: 0.9048 - val_recall: 0.8926\n",
      "Epoch 7/30\n",
      "19/19 [==============================] - 68s 4s/step - loss: 0.3034 - accuracy: 0.8862 - precision: 0.8799 - recall: 0.8946 - val_loss: 0.2994 - val_accuracy: 0.9030 - val_precision: 0.9054 - val_recall: 0.8993\n",
      "Epoch 8/30\n",
      "19/19 [==============================] - 68s 4s/step - loss: 0.2941 - accuracy: 0.8895 - precision: 0.8909 - recall: 0.8880 - val_loss: 0.2811 - val_accuracy: 0.9130 - val_precision: 0.9073 - val_recall: 0.9195\n",
      "Epoch 9/30\n",
      "19/19 [==============================] - 68s 4s/step - loss: 0.2724 - accuracy: 0.9038 - precision: 0.9045 - recall: 0.9030 - val_loss: 0.2652 - val_accuracy: 0.9231 - val_precision: 0.9200 - val_recall: 0.9262\n",
      "Epoch 10/30\n",
      "19/19 [==============================] - 68s 4s/step - loss: 0.2656 - accuracy: 0.9079 - precision: 0.8987 - recall: 0.9197 - val_loss: 0.2532 - val_accuracy: 0.9365 - val_precision: 0.9514 - val_recall: 0.9195\n",
      "Epoch 11/30\n",
      "19/19 [==============================] - 69s 4s/step - loss: 0.2449 - accuracy: 0.9180 - precision: 0.9125 - recall: 0.9247 - val_loss: 0.2405 - val_accuracy: 0.9298 - val_precision: 0.9384 - val_recall: 0.9195\n",
      "Epoch 12/30\n",
      "19/19 [==============================] - 69s 4s/step - loss: 0.2450 - accuracy: 0.9146 - precision: 0.9092 - recall: 0.9214 - val_loss: 0.2299 - val_accuracy: 0.9365 - val_precision: 0.9392 - val_recall: 0.9329\n",
      "Epoch 13/30\n",
      "19/19 [==============================] - 69s 4s/step - loss: 0.2245 - accuracy: 0.9238 - precision: 0.9218 - recall: 0.9264 - val_loss: 0.2215 - val_accuracy: 0.9365 - val_precision: 0.9392 - val_recall: 0.9329\n",
      "Epoch 14/30\n",
      "19/19 [==============================] - 68s 4s/step - loss: 0.2282 - accuracy: 0.9222 - precision: 0.9160 - recall: 0.9298 - val_loss: 0.2151 - val_accuracy: 0.9365 - val_precision: 0.9452 - val_recall: 0.9262\n",
      "Epoch 15/30\n",
      "19/19 [==============================] - 68s 4s/step - loss: 0.2094 - accuracy: 0.9264 - precision: 0.9279 - recall: 0.9247 - val_loss: 0.2066 - val_accuracy: 0.9398 - val_precision: 0.9396 - val_recall: 0.9396\n",
      "Epoch 16/30\n",
      "19/19 [==============================] - 68s 4s/step - loss: 0.2085 - accuracy: 0.9213 - precision: 0.9228 - recall: 0.9197 - val_loss: 0.2001 - val_accuracy: 0.9398 - val_precision: 0.9396 - val_recall: 0.9396\n",
      "Epoch 17/30\n",
      "19/19 [==============================] - 68s 4s/step - loss: 0.1996 - accuracy: 0.9322 - precision: 0.9345 - recall: 0.9298 - val_loss: 0.1938 - val_accuracy: 0.9398 - val_precision: 0.9396 - val_recall: 0.9396\n",
      "Epoch 18/30\n",
      "19/19 [==============================] - 68s 4s/step - loss: 0.1942 - accuracy: 0.9331 - precision: 0.9346 - recall: 0.9314 - val_loss: 0.1889 - val_accuracy: 0.9398 - val_precision: 0.9396 - val_recall: 0.9396\n",
      "Epoch 19/30\n",
      "19/19 [==============================] - 68s 4s/step - loss: 0.1935 - accuracy: 0.9356 - precision: 0.9306 - recall: 0.9415 - val_loss: 0.1863 - val_accuracy: 0.9465 - val_precision: 0.9524 - val_recall: 0.9396\n",
      "Epoch 20/30\n",
      "19/19 [==============================] - 68s 4s/step - loss: 0.1862 - accuracy: 0.9431 - precision: 0.9402 - recall: 0.9465 - val_loss: 0.1808 - val_accuracy: 0.9431 - val_precision: 0.9459 - val_recall: 0.9396\n",
      "Epoch 21/30\n",
      "19/19 [==============================] - 68s 4s/step - loss: 0.1767 - accuracy: 0.9397 - precision: 0.9428 - recall: 0.9365 - val_loss: 0.1765 - val_accuracy: 0.9431 - val_precision: 0.9459 - val_recall: 0.9396\n",
      "Epoch 22/30\n",
      "19/19 [==============================] - 68s 4s/step - loss: 0.1727 - accuracy: 0.9456 - precision: 0.9509 - recall: 0.9398 - val_loss: 0.1725 - val_accuracy: 0.9398 - val_precision: 0.9396 - val_recall: 0.9396\n",
      "Epoch 23/30\n",
      "19/19 [==============================] - 69s 4s/step - loss: 0.1810 - accuracy: 0.9456 - precision: 0.9494 - recall: 0.9415 - val_loss: 0.1692 - val_accuracy: 0.9398 - val_precision: 0.9396 - val_recall: 0.9396\n",
      "Epoch 24/30\n",
      "19/19 [==============================] - 68s 4s/step - loss: 0.1740 - accuracy: 0.9448 - precision: 0.9463 - recall: 0.9431 - val_loss: 0.1659 - val_accuracy: 0.9398 - val_precision: 0.9396 - val_recall: 0.9396\n",
      "Epoch 25/30\n",
      "19/19 [==============================] - 69s 4s/step - loss: 0.1645 - accuracy: 0.9481 - precision: 0.9452 - recall: 0.9515 - val_loss: 0.1626 - val_accuracy: 0.9431 - val_precision: 0.9459 - val_recall: 0.9396\n",
      "Epoch 26/30\n",
      "19/19 [==============================] - 68s 4s/step - loss: 0.1660 - accuracy: 0.9423 - precision: 0.9475 - recall: 0.9365 - val_loss: 0.1596 - val_accuracy: 0.9465 - val_precision: 0.9524 - val_recall: 0.9396\n",
      "Epoch 27/30\n",
      "19/19 [==============================] - 68s 4s/step - loss: 0.1582 - accuracy: 0.9448 - precision: 0.9433 - recall: 0.9465 - val_loss: 0.1584 - val_accuracy: 0.9565 - val_precision: 0.9722 - val_recall: 0.9396\n",
      "Epoch 28/30\n",
      "19/19 [==============================] - 68s 4s/step - loss: 0.1661 - accuracy: 0.9473 - precision: 0.9511 - recall: 0.9431 - val_loss: 0.1553 - val_accuracy: 0.9565 - val_precision: 0.9722 - val_recall: 0.9396\n",
      "Epoch 29/30\n",
      "19/19 [==============================] - 68s 4s/step - loss: 0.1479 - accuracy: 0.9490 - precision: 0.9468 - recall: 0.9515 - val_loss: 0.1523 - val_accuracy: 0.9532 - val_precision: 0.9655 - val_recall: 0.9396\n",
      "Epoch 30/30\n",
      "19/19 [==============================] - 68s 4s/step - loss: 0.1532 - accuracy: 0.9506 - precision: 0.9529 - recall: 0.9482 - val_loss: 0.1511 - val_accuracy: 0.9565 - val_precision: 0.9722 - val_recall: 0.9396\n"
     ]
    },
    {
     "data": {
      "text/plain": [
       "<keras.callbacks.History at 0x1f2970da580>"
      ]
     },
     "execution_count": 94,
     "metadata": {},
     "output_type": "execute_result"
    }
   ],
   "source": [
    "model_4.fit(\n",
    "    train_batch,\n",
    "    epochs=30,\n",
    "    verbose=1,\n",
    "    validation_data=val_batch)"
   ]
  },
  {
   "cell_type": "code",
   "execution_count": 95,
   "metadata": {
    "colab": {
     "base_uri": "https://localhost:8080/"
    },
    "id": "lER35bKTJ_3B",
    "outputId": "79768b39-208c-4fa9-ecf0-31e172957e1f"
   },
   "outputs": [
    {
     "name": "stdout",
     "output_type": "stream",
     "text": [
      "10/10 [==============================] - 13s 1s/step\n"
     ]
    }
   ],
   "source": [
    "y_true, y_pred = predictions_singleton_to_binary(model_4, 0.5, x_val, y_val)"
   ]
  },
  {
   "cell_type": "code",
   "execution_count": 96,
   "metadata": {
    "colab": {
     "base_uri": "https://localhost:8080/",
     "height": 331
    },
    "id": "JXa-oKfkYmDQ",
    "outputId": "6edce948-9a2b-409d-fb1b-27b99dce7d72"
   },
   "outputs": [
    {
     "name": "stdout",
     "output_type": "stream",
     "text": [
      "Accuracy : 0.9565217391304348\n",
      "Precision : 0.9722222222222222\n",
      "Recall : 0.9395973154362416\n"
     ]
    },
    {
     "data": {
      "image/png": "[encoded data removed]",
      "text/plain": [
       "<Figure size 640x480 with 2 Axes>"
      ]
     },
     "metadata": {},
     "output_type": "display_data"
    }
   ],
   "source": [
    "display_matrix_and_scores(y_true, y_pred)"
   ]
  },
  {
   "cell_type": "markdown",
   "metadata": {},
   "source": []
  },
  {
   "cell_type": "markdown",
   "metadata": {},
   "source": []
  }
 ],
 "metadata": {
  "accelerator": "GPU",
  "colab": {
   "collapsed_sections": [],
   "provenance": []
  },
  "gpuClass": "standard",
  "kernelspec": {
   "display_name": "TensorFlowGPU",
   "language": "python",
   "name": "tf_gpu"
  },
  "language_info": {
   "codemirror_mode": {
    "name": "ipython",
    "version": 3
   },
   "file_extension": ".py",
   "mimetype": "text/x-python",
   "name": "python",
   "nbconvert_exporter": "python",
   "pygments_lexer": "ipython3",
   "version": "3.9.13"
  }
 },
 "nbformat": 4,
 "nbformat_minor": 1
}
