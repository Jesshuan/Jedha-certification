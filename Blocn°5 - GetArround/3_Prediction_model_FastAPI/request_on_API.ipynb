{
 "cells": [
  {
   "cell_type": "code",
   "execution_count": 13,
   "metadata": {},
   "outputs": [],
   "source": [
    "import requests\n",
    "import pandas as pd\n",
    "import pandera as pa\n"
   ]
  },
  {
   "attachments": {},
   "cell_type": "markdown",
   "metadata": {},
   "source": [
    "### Test with Local FastAPI app"
   ]
  },
  {
   "attachments": {},
   "cell_type": "markdown",
   "metadata": {},
   "source": [
    "Request on the default endpoint :"
   ]
  },
  {
   "cell_type": "code",
   "execution_count": 14,
   "metadata": {},
   "outputs": [
    {
     "data": {
      "text/plain": [
       "b'\"Hello world!!! This `/` is the most simple and default endpoint. If you want to learn more, check out documentation of the api at `/docs`\"'"
      ]
     },
     "execution_count": 14,
     "metadata": {},
     "output_type": "execute_result"
    }
   ],
   "source": [
    "r = requests.get(\"http://localhost:8888/\")\n",
    "r.content"
   ]
  },
  {
   "attachments": {},
   "cell_type": "markdown",
   "metadata": {},
   "source": [
    "Request on the other default endpoint :"
   ]
  },
  {
   "cell_type": "code",
   "execution_count": 17,
   "metadata": {},
   "outputs": [
    {
     "data": {
      "text/plain": [
       "b'\"Hello there \\xf0\\x9f\\xa4\\x97\"'"
      ]
     },
     "execution_count": 17,
     "metadata": {},
     "output_type": "execute_result"
    }
   ],
   "source": [
    "r = requests.get(\"http://localhost:8888/hello\")\n",
    "r.content"
   ]
  },
  {
   "attachments": {},
   "cell_type": "markdown",
   "metadata": {},
   "source": [
    "Request with 3 data as input in a json format :"
   ]
  },
  {
   "cell_type": "code",
   "execution_count": 28,
   "metadata": {},
   "outputs": [],
   "source": [
    "json_format = {\n",
    "        \"model_key\": [\"Citroën\", \"Ford\", \"Citroën\"],\n",
    "        \"mileage\": [140144, 75412, 152475],\n",
    "        \"engine_power\": [100, 125, 100],\n",
    "        \"fuel\": [\"diesel\", \"petrol\", \"petrol\"],\n",
    "        \"paint_color\": [\"black\", \"green\", \"white\"],\n",
    "        \"car_type\": [\"convertible\", \"estate\", \"suv\"],\n",
    "        \"private_parking_available\": [True, False, False ],\n",
    "        \"has_gps\": [True, False, True],\n",
    "        \"has_air_conditioning\": [True, False, True],\n",
    "        \"automatic_car\": [False, False, False],\n",
    "        \"has_getaround_connect\": [True, False, False],\n",
    "        \"has_speed_regulator\": [False, False, True],\n",
    "        \"winter_tires\": [False, True, True]\n",
    "        }"
   ]
  },
  {
   "cell_type": "code",
   "execution_count": 29,
   "metadata": {},
   "outputs": [
    {
     "name": "stdout",
     "output_type": "stream",
     "text": [
      "{'prediction': [119.35945892333984, 111.58699035644531, 113.6976318359375]}\n"
     ]
    }
   ],
   "source": [
    "response = requests.post(\"http://localhost:8888/predict\",\n",
    "    json=json_format)\n",
    "print(response.json())"
   ]
  },
  {
   "attachments": {},
   "cell_type": "markdown",
   "metadata": {},
   "source": [
    "Request with 2 data as input in a list of lists format :"
   ]
  },
  {
   "cell_type": "code",
   "execution_count": 30,
   "metadata": {},
   "outputs": [],
   "source": [
    "list_format = {\n",
    "        \"input\": [[\"Citroën\", 183297, 120, \"diesel\", \"white\", \"convertible\", False, False, False, False, True, False, True],\n",
    "                [\"Citroën\", 128035, 135, \"diesel\", \"red\", \"convertible\", True, True, False, False, True, True, True]]\n",
    "        }"
   ]
  },
  {
   "cell_type": "code",
   "execution_count": 31,
   "metadata": {},
   "outputs": [
    {
     "name": "stdout",
     "output_type": "stream",
     "text": [
      "{'prediction': [107.3847427368164, 137.23068237304688]}\n"
     ]
    }
   ],
   "source": [
    "response = requests.post(\"http://localhost:8888/predict_list_of_inputs\",\n",
    "    json=list_format)\n",
    "print(response.json())"
   ]
  },
  {
   "attachments": {},
   "cell_type": "markdown",
   "metadata": {},
   "source": [
    "-------------"
   ]
  },
  {
   "attachments": {},
   "cell_type": "markdown",
   "metadata": {},
   "source": [
    "### Test of FastAPI with Heroku deployment"
   ]
  },
  {
   "attachments": {},
   "cell_type": "markdown",
   "metadata": {},
   "source": [
    "The same test, with the public url..."
   ]
  },
  {
   "cell_type": "code",
   "execution_count": 34,
   "metadata": {},
   "outputs": [
    {
     "data": {
      "text/plain": [
       "b'\"Hello world!!! This `/` is the most simple and default endpoint. If you want to learn more, check out documentation of the api at `/docs`\"'"
      ]
     },
     "execution_count": 34,
     "metadata": {},
     "output_type": "execute_result"
    }
   ],
   "source": [
    "r = requests.get(\"https://api-get-around.herokuapp.com/\")\n",
    "r.content"
   ]
  },
  {
   "cell_type": "code",
   "execution_count": 35,
   "metadata": {},
   "outputs": [
    {
     "data": {
      "text/plain": [
       "b'\"Hello there \\xf0\\x9f\\xa4\\x97\"'"
      ]
     },
     "execution_count": 35,
     "metadata": {},
     "output_type": "execute_result"
    }
   ],
   "source": [
    "r = requests.get(\"https://api-get-around.herokuapp.com/hello\")\n",
    "r.content"
   ]
  },
  {
   "cell_type": "code",
   "execution_count": 36,
   "metadata": {},
   "outputs": [
    {
     "name": "stdout",
     "output_type": "stream",
     "text": [
      "{'prediction': [119.35945892333984, 111.58699035644531, 113.6976318359375]}\n"
     ]
    }
   ],
   "source": [
    "response = requests.post(\"https://api-get-around.herokuapp.com/predict\",\n",
    "    json=json_format)\n",
    "print(response.json())"
   ]
  },
  {
   "cell_type": "code",
   "execution_count": 38,
   "metadata": {},
   "outputs": [
    {
     "name": "stdout",
     "output_type": "stream",
     "text": [
      "{'prediction': [107.3847427368164, 137.23068237304688]}\n"
     ]
    }
   ],
   "source": [
    "response = requests.post(\"https://api-get-around.herokuapp.com/predict_list_of_inputs\",\n",
    "    json=list_format)\n",
    "print(response.json())"
   ]
  }
 ],
 "metadata": {
  "kernelspec": {
   "display_name": "Python 3.9.13 ('base')",
   "language": "python",
   "name": "python3"
  },
  "language_info": {
   "codemirror_mode": {
    "name": "ipython",
    "version": 3
   },
   "file_extension": ".py",
   "mimetype": "text/x-python",
   "name": "python",
   "nbconvert_exporter": "python",
   "pygments_lexer": "ipython3",
   "version": "3.9.13 (main, Aug 25 2022, 23:51:50) [MSC v.1916 64 bit (AMD64)]"
  },
  "orig_nbformat": 4,
  "vscode": {
   "interpreter": {
    "hash": "1cca9558bc5ad879ec93cc030b157d75f18267527c60932cecaace349eef54dd"
   }
  }
 },
 "nbformat": 4,
 "nbformat_minor": 2
}
