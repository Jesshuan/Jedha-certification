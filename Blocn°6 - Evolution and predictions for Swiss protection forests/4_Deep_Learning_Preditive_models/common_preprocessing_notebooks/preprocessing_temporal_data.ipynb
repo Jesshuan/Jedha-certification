{
  "cells": [
    {
      "cell_type": "code",
      "execution_count": 1,
      "metadata": {
        "id": "F-xnvpnQb1eP"
      },
      "outputs": [],
      "source": [
        "import pandas as pd\n",
        "import numpy as np"
      ]
    },
    {
      "cell_type": "code",
      "execution_count": 35,
      "metadata": {
        "id": "9P-_u-rOcDyp"
      },
      "outputs": [],
      "source": [
        "data_base = pd.read_excel('./DATA_preprocess_EDA_base/big_merge_V2_meteo_SAT.xlsx').drop('Unnamed: 0', axis=1)"
      ]
    },
    {
      "cell_type": "code",
      "execution_count": 3,
      "metadata": {
        "colab": {
          "base_uri": "https://localhost:8080/",
          "height": 386
        },
        "id": "ioh5f_DKcihR",
        "outputId": "89424d11-ef30-4364-d279-87bc382be05f"
      },
      "outputs": [
        {
          "data": {
            "text/html": [
              "<div>\n",
              "<style scoped>\n",
              "    .dataframe tbody tr th:only-of-type {\n",
              "        vertical-align: middle;\n",
              "    }\n",
              "\n",
              "    .dataframe tbody tr th {\n",
              "        vertical-align: top;\n",
              "    }\n",
              "\n",
              "    .dataframe thead th {\n",
              "        text-align: right;\n",
              "    }\n",
              "</style>\n",
              "<table border=\"1\" class=\"dataframe\">\n",
              "  <thead>\n",
              "    <tr style=\"text-align: right;\">\n",
              "      <th></th>\n",
              "      <th>PARCELLE</th>\n",
              "      <th>LAT</th>\n",
              "      <th>LON</th>\n",
              "      <th>ALT</th>\n",
              "      <th>PRODREG</th>\n",
              "      <th>HT_VEG</th>\n",
              "      <th>DATE</th>\n",
              "      <th>SLOPE25</th>\n",
              "      <th>ASPECT25</th>\n",
              "      <th>ORIENTATION</th>\n",
              "      <th>...</th>\n",
              "      <th>TAVE_AVG</th>\n",
              "      <th>TAVE</th>\n",
              "      <th>TAVE_GROWTH</th>\n",
              "      <th>PRCP_S_S</th>\n",
              "      <th>PRCP_G_S</th>\n",
              "      <th>NDVI</th>\n",
              "      <th>EVI</th>\n",
              "      <th>NDMI</th>\n",
              "      <th>NDWI</th>\n",
              "      <th>DSWI</th>\n",
              "    </tr>\n",
              "  </thead>\n",
              "  <tbody>\n",
              "    <tr>\n",
              "      <th>0</th>\n",
              "      <td>51</td>\n",
              "      <td>47.781623</td>\n",
              "      <td>8.612822</td>\n",
              "      <td>715.918970</td>\n",
              "      <td>1</td>\n",
              "      <td>3</td>\n",
              "      <td>1984-04-10</td>\n",
              "      <td>58.407726</td>\n",
              "      <td>67.342415</td>\n",
              "      <td>E</td>\n",
              "      <td>...</td>\n",
              "      <td>NaN</td>\n",
              "      <td>NaN</td>\n",
              "      <td>NaN</td>\n",
              "      <td>0.000000</td>\n",
              "      <td>0.000000</td>\n",
              "      <td>0.3779</td>\n",
              "      <td>0.0146</td>\n",
              "      <td>0.2264</td>\n",
              "      <td>-0.3325</td>\n",
              "      <td>0.4705</td>\n",
              "    </tr>\n",
              "    <tr>\n",
              "      <th>1</th>\n",
              "      <td>51</td>\n",
              "      <td>47.781623</td>\n",
              "      <td>8.612822</td>\n",
              "      <td>715.918970</td>\n",
              "      <td>1</td>\n",
              "      <td>3</td>\n",
              "      <td>1994-10-19</td>\n",
              "      <td>58.407726</td>\n",
              "      <td>67.342415</td>\n",
              "      <td>E</td>\n",
              "      <td>...</td>\n",
              "      <td>8.8859</td>\n",
              "      <td>9.026806</td>\n",
              "      <td>13.84776</td>\n",
              "      <td>117.278617</td>\n",
              "      <td>51.835496</td>\n",
              "      <td>0.4992</td>\n",
              "      <td>0.0160</td>\n",
              "      <td>0.2705</td>\n",
              "      <td>-0.4653</td>\n",
              "      <td>0.6865</td>\n",
              "    </tr>\n",
              "    <tr>\n",
              "      <th>2</th>\n",
              "      <td>51</td>\n",
              "      <td>47.781623</td>\n",
              "      <td>8.612822</td>\n",
              "      <td>715.918970</td>\n",
              "      <td>1</td>\n",
              "      <td>3</td>\n",
              "      <td>2011-11-09</td>\n",
              "      <td>58.407726</td>\n",
              "      <td>67.342415</td>\n",
              "      <td>E</td>\n",
              "      <td>...</td>\n",
              "      <td>9.0502</td>\n",
              "      <td>4.555499</td>\n",
              "      <td>14.64318</td>\n",
              "      <td>120.598667</td>\n",
              "      <td>57.801233</td>\n",
              "      <td>-0.1255</td>\n",
              "      <td>-0.0138</td>\n",
              "      <td>0.0107</td>\n",
              "      <td>0.1121</td>\n",
              "      <td>-0.0810</td>\n",
              "    </tr>\n",
              "    <tr>\n",
              "      <th>3</th>\n",
              "      <td>51</td>\n",
              "      <td>47.781623</td>\n",
              "      <td>8.612822</td>\n",
              "      <td>715.918970</td>\n",
              "      <td>1</td>\n",
              "      <td>3</td>\n",
              "      <td>2005-11-01</td>\n",
              "      <td>58.407726</td>\n",
              "      <td>67.342415</td>\n",
              "      <td>E</td>\n",
              "      <td>...</td>\n",
              "      <td>9.0457</td>\n",
              "      <td>3.006553</td>\n",
              "      <td>14.37088</td>\n",
              "      <td>122.999273</td>\n",
              "      <td>55.547082</td>\n",
              "      <td>0.6923</td>\n",
              "      <td>0.0272</td>\n",
              "      <td>0.2294</td>\n",
              "      <td>-0.6305</td>\n",
              "      <td>0.9579</td>\n",
              "    </tr>\n",
              "    <tr>\n",
              "      <th>4</th>\n",
              "      <td>384</td>\n",
              "      <td>47.736528</td>\n",
              "      <td>8.625154</td>\n",
              "      <td>563.829759</td>\n",
              "      <td>1</td>\n",
              "      <td>2</td>\n",
              "      <td>1995-07-10</td>\n",
              "      <td>55.683254</td>\n",
              "      <td>253.354935</td>\n",
              "      <td>O</td>\n",
              "      <td>...</td>\n",
              "      <td>8.9951</td>\n",
              "      <td>19.793490</td>\n",
              "      <td>13.83959</td>\n",
              "      <td>122.675652</td>\n",
              "      <td>55.827235</td>\n",
              "      <td>0.5552</td>\n",
              "      <td>0.0149</td>\n",
              "      <td>0.2017</td>\n",
              "      <td>-0.4864</td>\n",
              "      <td>0.6996</td>\n",
              "    </tr>\n",
              "  </tbody>\n",
              "</table>\n",
              "<p>5 rows × 117 columns</p>\n",
              "</div>"
            ],
            "text/plain": [
              "   PARCELLE        LAT       LON         ALT  PRODREG  HT_VEG       DATE  \\\n",
              "0        51  47.781623  8.612822  715.918970        1       3 1984-04-10   \n",
              "1        51  47.781623  8.612822  715.918970        1       3 1994-10-19   \n",
              "2        51  47.781623  8.612822  715.918970        1       3 2011-11-09   \n",
              "3        51  47.781623  8.612822  715.918970        1       3 2005-11-01   \n",
              "4       384  47.736528  8.625154  563.829759        1       2 1995-07-10   \n",
              "\n",
              "     SLOPE25    ASPECT25 ORIENTATION  ...  TAVE_AVG       TAVE  TAVE_GROWTH  \\\n",
              "0  58.407726   67.342415           E  ...       NaN        NaN          NaN   \n",
              "1  58.407726   67.342415           E  ...    8.8859   9.026806     13.84776   \n",
              "2  58.407726   67.342415           E  ...    9.0502   4.555499     14.64318   \n",
              "3  58.407726   67.342415           E  ...    9.0457   3.006553     14.37088   \n",
              "4  55.683254  253.354935           O  ...    8.9951  19.793490     13.83959   \n",
              "\n",
              "     PRCP_S_S   PRCP_G_S    NDVI     EVI    NDMI    NDWI    DSWI  \n",
              "0    0.000000   0.000000  0.3779  0.0146  0.2264 -0.3325  0.4705  \n",
              "1  117.278617  51.835496  0.4992  0.0160  0.2705 -0.4653  0.6865  \n",
              "2  120.598667  57.801233 -0.1255 -0.0138  0.0107  0.1121 -0.0810  \n",
              "3  122.999273  55.547082  0.6923  0.0272  0.2294 -0.6305  0.9579  \n",
              "4  122.675652  55.827235  0.5552  0.0149  0.2017 -0.4864  0.6996  \n",
              "\n",
              "[5 rows x 117 columns]"
            ]
          },
          "execution_count": 3,
          "metadata": {},
          "output_type": "execute_result"
        }
      ],
      "source": [
        "data_base.head()"
      ]
    },
    {
      "cell_type": "markdown",
      "metadata": {
        "id": "D9f0gOtzfjKT"
      },
      "source": [
        "PREPROCESSING _ Code base for models temporal predictions"
      ]
    },
    {
      "cell_type": "markdown",
      "metadata": {},
      "source": [
        "Ici, features engineering (création de nouvelles features à partir de la liste connues):"
      ]
    },
    {
      "cell_type": "code",
      "execution_count": 160,
      "metadata": {},
      "outputs": [],
      "source": [
        "# Exemple, formule sécheresse..."
      ]
    },
    {
      "cell_type": "markdown",
      "metadata": {},
      "source": [
        "### Choix TARGET et Features :"
      ]
    },
    {
      "cell_type": "markdown",
      "metadata": {},
      "source": [
        "Target :"
      ]
    },
    {
      "cell_type": "code",
      "execution_count": 24,
      "metadata": {
        "id": "ONWylCfRdilS"
      },
      "outputs": [],
      "source": [
        "TARGET = ['TAUX_COUV_RAJ'] #exemple"
      ]
    },
    {
      "cell_type": "markdown",
      "metadata": {},
      "source": [
        "Features :"
      ]
    },
    {
      "cell_type": "code",
      "execution_count": 59,
      "metadata": {},
      "outputs": [],
      "source": [
        "# --- PAST --- \n",
        "# Attention : on peut, logiquement, inclure la TARGET... (connue dans le passé)\n",
        "cat_strict = ['TAUX_COUV_RAJ','PRODREG','UNIT_VEG_GROS', 'TYPE_FORET305', 'ESPECE_DOM', 'TYP_RAJ_PPL', 'ORIENTATION'] #exemple\n",
        "cat_ord_miss = ['TAILLE_PPL', 'MELANGE', 'HT_VEG', 'QUAL_STATION'] #exemple\n",
        "numerics = ['ALT', 'TIGES_VIV_H', 'SURF_TER_HA', 'FEUILL_PER', 'CONIF_PER', 'PERF_CROI', 'NDVI', 'EVI', 'NDMI', 'NDWI', 'DSWI'] #exemple\n",
        "\n",
        "# --- FUTURE KNOWN ---\n",
        "# Attention : logiquement les features, potentiellement connues dans le futur ci-dessous sont aussi répertoriées ci-dessus dans le passé\n",
        "add_cat_IFN_stable = ['PRODREG', 'ORIENTATION', 'UNIT_VEG_GROS']\n",
        "add_cat_ord_IFN_stable = ['HT_VEG', 'QUAL_STATION']\n",
        "add_IFN_numerics_stable = ['ALT'] #exemple\n",
        "# données potentiellement connues car stables par parcelles :\n",
        "#['LAT', 'LON', 'ALT', 'PRODREG', 'HT_VEG', 'SLOPE25', 'ASPECT25', 'ORIENTATION', 'PERF_CROI', 'QUAL_STATION', 'UNIT_VEG_FINE',\n",
        "# 'UNIT_VEG_GROS', 'PROCESS_SILVA', 'PERI_CHENAUX', 'PERI_COULEES','PERI_AVALANCH', 'PERI_CHUTES', 'ETAGE', 'ENDOMMAGEMENT','NB_DEGAT_ARBRE']\n",
        "# + données extrapolées grâce à des technologies prometteuses (satellites ?)....\n",
        "\n",
        "add_meteo_known = ['PRCP', 'TAVE_AVG',\t'TAVE', 'TAVE_GROWTH', 'PRCP_S_S',\t'PRCP_G_S']\n",
        "\n",
        "add_SAT_known = ['NDVI', 'EVI', 'NDMI', 'NDWI', 'DSWI']"
      ]
    },
    {
      "cell_type": "code",
      "execution_count": 60,
      "metadata": {},
      "outputs": [],
      "source": [
        "features_past = numerics + cat_strict + cat_ord_miss\n",
        "features_future = add_cat_IFN_stable + add_cat_ord_IFN_stable + add_IFN_numerics_stable + add_meteo_known + add_SAT_known"
      ]
    },
    {
      "cell_type": "code",
      "execution_count": 61,
      "metadata": {
        "id": "OkL-2XrZdDvZ"
      },
      "outputs": [],
      "source": [
        "data_LFI1 = data_base.loc[data_base['LFI']=='LFI1',:].sort_values('PARCELLE')\n",
        "data_LFI2 = data_base.loc[data_base['LFI']=='LFI2',:].sort_values('PARCELLE')\n",
        "data_LFI3 = data_base.loc[data_base['LFI']=='LFI3',:].sort_values('PARCELLE')\n",
        "data_LFI4 = data_base.loc[data_base['LFI']=='LFI4',:].sort_values('PARCELLE')"
      ]
    },
    {
      "cell_type": "code",
      "execution_count": 62,
      "metadata": {},
      "outputs": [],
      "source": [
        "future_feat_names = []\n",
        "add_cat_strict_feat_names = []\n",
        "add_cat_ord_feat_names = []\n",
        "add_numerics_feat_names = []\n",
        "\n",
        "for cat in features_future:\n",
        "    lfi2_list = data_LFI2[cat].to_list()\n",
        "    lfi3_list = data_LFI3[cat].to_list()\n",
        "    lfi4_list = data_LFI4[cat].to_list()\n",
        "    data_LFI1[cat + \"_f\"] = lfi2_list\n",
        "    data_LFI2[cat + \"_f\"] = lfi2_list\n",
        "    data_LFI3[cat + \"_f\"] = lfi2_list\n",
        "    future_feat_names.append(cat + '_f')\n",
        "    if cat in add_cat_ord_IFN_stable:\n",
        "        add_cat_ord_feat_names.append(cat + '_f')\n",
        "    elif cat in add_cat_IFN_stable:\n",
        "        add_cat_strict_feat_names.append(cat + '_f')\n",
        "    else:\n",
        "        add_numerics_feat_names.append(cat + '_f')\n"
      ]
    },
    {
      "cell_type": "code",
      "execution_count": 63,
      "metadata": {},
      "outputs": [],
      "source": [
        "data_red = pd.concat([data_LFI1, data_LFI2, data_LFI3], axis=0)[features_past + future_feat_names]\n",
        "Y = pd.concat([data_LFI2[TARGET], data_LFI3[TARGET], data_LFI4[TARGET]], axis = 0)"
      ]
    },
    {
      "cell_type": "code",
      "execution_count": 64,
      "metadata": {},
      "outputs": [
        {
          "data": {
            "text/html": [
              "<div>\n",
              "<style scoped>\n",
              "    .dataframe tbody tr th:only-of-type {\n",
              "        vertical-align: middle;\n",
              "    }\n",
              "\n",
              "    .dataframe tbody tr th {\n",
              "        vertical-align: top;\n",
              "    }\n",
              "\n",
              "    .dataframe thead th {\n",
              "        text-align: right;\n",
              "    }\n",
              "</style>\n",
              "<table border=\"1\" class=\"dataframe\">\n",
              "  <thead>\n",
              "    <tr style=\"text-align: right;\">\n",
              "      <th></th>\n",
              "      <th>ALT</th>\n",
              "      <th>TIGES_VIV_H</th>\n",
              "      <th>SURF_TER_HA</th>\n",
              "      <th>FEUILL_PER</th>\n",
              "      <th>CONIF_PER</th>\n",
              "      <th>PERF_CROI</th>\n",
              "      <th>NDVI</th>\n",
              "      <th>EVI</th>\n",
              "      <th>NDMI</th>\n",
              "      <th>NDWI</th>\n",
              "      <th>...</th>\n",
              "      <th>TAVE_AVG_f</th>\n",
              "      <th>TAVE_f</th>\n",
              "      <th>TAVE_GROWTH_f</th>\n",
              "      <th>PRCP_S_S_f</th>\n",
              "      <th>PRCP_G_S_f</th>\n",
              "      <th>NDVI_f</th>\n",
              "      <th>EVI_f</th>\n",
              "      <th>NDMI_f</th>\n",
              "      <th>NDWI_f</th>\n",
              "      <th>DSWI_f</th>\n",
              "    </tr>\n",
              "  </thead>\n",
              "  <tbody>\n",
              "    <tr>\n",
              "      <th>0</th>\n",
              "      <td>715.918970</td>\n",
              "      <td>590.0</td>\n",
              "      <td>27.79</td>\n",
              "      <td>NaN</td>\n",
              "      <td>NaN</td>\n",
              "      <td>4676</td>\n",
              "      <td>0.3779</td>\n",
              "      <td>0.0146</td>\n",
              "      <td>0.2264</td>\n",
              "      <td>-0.3325</td>\n",
              "      <td>...</td>\n",
              "      <td>8.8859</td>\n",
              "      <td>9.026806</td>\n",
              "      <td>13.84776</td>\n",
              "      <td>117.278617</td>\n",
              "      <td>51.835496</td>\n",
              "      <td>0.4992</td>\n",
              "      <td>0.0160</td>\n",
              "      <td>0.2705</td>\n",
              "      <td>-0.4653</td>\n",
              "      <td>0.6865</td>\n",
              "    </tr>\n",
              "    <tr>\n",
              "      <th>5</th>\n",
              "      <td>563.829759</td>\n",
              "      <td>400.0</td>\n",
              "      <td>53.38</td>\n",
              "      <td>NaN</td>\n",
              "      <td>NaN</td>\n",
              "      <td>3402</td>\n",
              "      <td>0.2861</td>\n",
              "      <td>0.0071</td>\n",
              "      <td>0.3293</td>\n",
              "      <td>-0.2327</td>\n",
              "      <td>...</td>\n",
              "      <td>8.9951</td>\n",
              "      <td>19.793490</td>\n",
              "      <td>13.83959</td>\n",
              "      <td>122.675652</td>\n",
              "      <td>55.827235</td>\n",
              "      <td>0.5552</td>\n",
              "      <td>0.0149</td>\n",
              "      <td>0.2017</td>\n",
              "      <td>-0.4864</td>\n",
              "      <td>0.6996</td>\n",
              "    </tr>\n",
              "    <tr>\n",
              "      <th>9</th>\n",
              "      <td>564.885846</td>\n",
              "      <td>320.0</td>\n",
              "      <td>26.70</td>\n",
              "      <td>NaN</td>\n",
              "      <td>NaN</td>\n",
              "      <td>5617</td>\n",
              "      <td>0.6749</td>\n",
              "      <td>0.0219</td>\n",
              "      <td>0.2021</td>\n",
              "      <td>-0.5865</td>\n",
              "      <td>...</td>\n",
              "      <td>9.0637</td>\n",
              "      <td>11.671380</td>\n",
              "      <td>13.39843</td>\n",
              "      <td>128.067334</td>\n",
              "      <td>61.309991</td>\n",
              "      <td>0.5633</td>\n",
              "      <td>0.0153</td>\n",
              "      <td>0.1727</td>\n",
              "      <td>-0.5002</td>\n",
              "      <td>0.6852</td>\n",
              "    </tr>\n",
              "    <tr>\n",
              "      <th>14</th>\n",
              "      <td>563.551602</td>\n",
              "      <td>0.0</td>\n",
              "      <td>0.00</td>\n",
              "      <td>NaN</td>\n",
              "      <td>NaN</td>\n",
              "      <td>4258</td>\n",
              "      <td>0.6092</td>\n",
              "      <td>0.0201</td>\n",
              "      <td>0.1112</td>\n",
              "      <td>-0.5143</td>\n",
              "      <td>...</td>\n",
              "      <td>8.8805</td>\n",
              "      <td>10.459870</td>\n",
              "      <td>13.15530</td>\n",
              "      <td>130.759873</td>\n",
              "      <td>63.219754</td>\n",
              "      <td>0.6059</td>\n",
              "      <td>0.0197</td>\n",
              "      <td>0.2269</td>\n",
              "      <td>-0.5588</td>\n",
              "      <td>0.8384</td>\n",
              "    </tr>\n",
              "    <tr>\n",
              "      <th>19</th>\n",
              "      <td>539.769096</td>\n",
              "      <td>150.0</td>\n",
              "      <td>23.32</td>\n",
              "      <td>NaN</td>\n",
              "      <td>NaN</td>\n",
              "      <td>4330</td>\n",
              "      <td>0.7039</td>\n",
              "      <td>0.0245</td>\n",
              "      <td>0.1949</td>\n",
              "      <td>-0.5983</td>\n",
              "      <td>...</td>\n",
              "      <td>8.8384</td>\n",
              "      <td>11.544840</td>\n",
              "      <td>13.16893</td>\n",
              "      <td>131.143585</td>\n",
              "      <td>62.702111</td>\n",
              "      <td>0.6012</td>\n",
              "      <td>0.0184</td>\n",
              "      <td>0.2029</td>\n",
              "      <td>-0.5486</td>\n",
              "      <td>0.7902</td>\n",
              "    </tr>\n",
              "  </tbody>\n",
              "</table>\n",
              "<p>5 rows × 39 columns</p>\n",
              "</div>"
            ],
            "text/plain": [
              "           ALT  TIGES_VIV_H  SURF_TER_HA  FEUILL_PER  CONIF_PER  PERF_CROI  \\\n",
              "0   715.918970        590.0        27.79         NaN        NaN       4676   \n",
              "5   563.829759        400.0        53.38         NaN        NaN       3402   \n",
              "9   564.885846        320.0        26.70         NaN        NaN       5617   \n",
              "14  563.551602          0.0         0.00         NaN        NaN       4258   \n",
              "19  539.769096        150.0        23.32         NaN        NaN       4330   \n",
              "\n",
              "      NDVI     EVI    NDMI    NDWI  ...  TAVE_AVG_f     TAVE_f  TAVE_GROWTH_f  \\\n",
              "0   0.3779  0.0146  0.2264 -0.3325  ...      8.8859   9.026806       13.84776   \n",
              "5   0.2861  0.0071  0.3293 -0.2327  ...      8.9951  19.793490       13.83959   \n",
              "9   0.6749  0.0219  0.2021 -0.5865  ...      9.0637  11.671380       13.39843   \n",
              "14  0.6092  0.0201  0.1112 -0.5143  ...      8.8805  10.459870       13.15530   \n",
              "19  0.7039  0.0245  0.1949 -0.5983  ...      8.8384  11.544840       13.16893   \n",
              "\n",
              "    PRCP_S_S_f  PRCP_G_S_f  NDVI_f   EVI_f  NDMI_f  NDWI_f  DSWI_f  \n",
              "0   117.278617   51.835496  0.4992  0.0160  0.2705 -0.4653  0.6865  \n",
              "5   122.675652   55.827235  0.5552  0.0149  0.2017 -0.4864  0.6996  \n",
              "9   128.067334   61.309991  0.5633  0.0153  0.1727 -0.5002  0.6852  \n",
              "14  130.759873   63.219754  0.6059  0.0197  0.2269 -0.5588  0.8384  \n",
              "19  131.143585   62.702111  0.6012  0.0184  0.2029 -0.5486  0.7902  \n",
              "\n",
              "[5 rows x 39 columns]"
            ]
          },
          "execution_count": 64,
          "metadata": {},
          "output_type": "execute_result"
        }
      ],
      "source": [
        "data_red.head()"
      ]
    },
    {
      "cell_type": "code",
      "execution_count": 65,
      "metadata": {},
      "outputs": [
        {
          "data": {
            "text/html": [
              "<div>\n",
              "<style scoped>\n",
              "    .dataframe tbody tr th:only-of-type {\n",
              "        vertical-align: middle;\n",
              "    }\n",
              "\n",
              "    .dataframe tbody tr th {\n",
              "        vertical-align: top;\n",
              "    }\n",
              "\n",
              "    .dataframe thead th {\n",
              "        text-align: right;\n",
              "    }\n",
              "</style>\n",
              "<table border=\"1\" class=\"dataframe\">\n",
              "  <thead>\n",
              "    <tr style=\"text-align: right;\">\n",
              "      <th></th>\n",
              "      <th>TAUX_COUV_RAJ</th>\n",
              "    </tr>\n",
              "  </thead>\n",
              "  <tbody>\n",
              "    <tr>\n",
              "      <th>1</th>\n",
              "      <td>2</td>\n",
              "    </tr>\n",
              "    <tr>\n",
              "      <th>4</th>\n",
              "      <td>6</td>\n",
              "    </tr>\n",
              "    <tr>\n",
              "      <th>8</th>\n",
              "      <td>6</td>\n",
              "    </tr>\n",
              "    <tr>\n",
              "      <th>13</th>\n",
              "      <td>6</td>\n",
              "    </tr>\n",
              "    <tr>\n",
              "      <th>16</th>\n",
              "      <td>5</td>\n",
              "    </tr>\n",
              "  </tbody>\n",
              "</table>\n",
              "</div>"
            ],
            "text/plain": [
              "    TAUX_COUV_RAJ\n",
              "1               2\n",
              "4               6\n",
              "8               6\n",
              "13              6\n",
              "16              5"
            ]
          },
          "execution_count": 65,
          "metadata": {},
          "output_type": "execute_result"
        }
      ],
      "source": [
        "Y.head()"
      ]
    },
    {
      "cell_type": "markdown",
      "metadata": {},
      "source": [
        "Traitement des données catégorielles ordonnées en numériques (gestion des \"-1\" éventuels) :"
      ]
    },
    {
      "cell_type": "code",
      "execution_count": 66,
      "metadata": {},
      "outputs": [],
      "source": [
        "feats_cat_ord = cat_ord_miss + add_cat_ord_feat_names\n",
        "for cat in feats_cat_ord:\n",
        "  data_red[cat] = data_red[cat].apply(lambda v : v if v!=-1 else np.nan)"
      ]
    },
    {
      "cell_type": "markdown",
      "metadata": {},
      "source": [
        "LISTE DES FEATURES NUMERIQUES ET CATEGORIELLES EN VUE DU PREPROCESSING DE MODELE :"
      ]
    },
    {
      "cell_type": "code",
      "execution_count": 67,
      "metadata": {},
      "outputs": [],
      "source": [
        "numerics_features = numerics + feats_cat_ord + add_numerics_feat_names\n",
        "feats_cat_strict = cat_strict + add_cat_strict_feat_names"
      ]
    },
    {
      "cell_type": "code",
      "execution_count": 68,
      "metadata": {},
      "outputs": [
        {
          "data": {
            "text/plain": [
              "['ALT',\n",
              " 'TIGES_VIV_H',\n",
              " 'SURF_TER_HA',\n",
              " 'FEUILL_PER',\n",
              " 'CONIF_PER',\n",
              " 'PERF_CROI',\n",
              " 'NDVI',\n",
              " 'EVI',\n",
              " 'NDMI',\n",
              " 'NDWI',\n",
              " 'DSWI',\n",
              " 'TAILLE_PPL',\n",
              " 'MELANGE',\n",
              " 'HT_VEG',\n",
              " 'QUAL_STATION',\n",
              " 'HT_VEG_f',\n",
              " 'QUAL_STATION_f',\n",
              " 'ALT_f',\n",
              " 'PRCP_f',\n",
              " 'TAVE_AVG_f',\n",
              " 'TAVE_f',\n",
              " 'TAVE_GROWTH_f',\n",
              " 'PRCP_S_S_f',\n",
              " 'PRCP_G_S_f',\n",
              " 'NDVI_f',\n",
              " 'EVI_f',\n",
              " 'NDMI_f',\n",
              " 'NDWI_f',\n",
              " 'DSWI_f']"
            ]
          },
          "execution_count": 68,
          "metadata": {},
          "output_type": "execute_result"
        }
      ],
      "source": [
        "numerics_features"
      ]
    },
    {
      "cell_type": "code",
      "execution_count": null,
      "metadata": {},
      "outputs": [],
      "source": []
    }
  ],
  "metadata": {
    "colab": {
      "provenance": []
    },
    "kernelspec": {
      "display_name": "Python 3.9.13 ('base')",
      "language": "python",
      "name": "python3"
    },
    "language_info": {
      "codemirror_mode": {
        "name": "ipython",
        "version": 3
      },
      "file_extension": ".py",
      "mimetype": "text/x-python",
      "name": "python",
      "nbconvert_exporter": "python",
      "pygments_lexer": "ipython3",
      "version": "3.9.13"
    },
    "vscode": {
      "interpreter": {
        "hash": "1cca9558bc5ad879ec93cc030b157d75f18267527c60932cecaace349eef54dd"
      }
    }
  },
  "nbformat": 4,
  "nbformat_minor": 0
}
