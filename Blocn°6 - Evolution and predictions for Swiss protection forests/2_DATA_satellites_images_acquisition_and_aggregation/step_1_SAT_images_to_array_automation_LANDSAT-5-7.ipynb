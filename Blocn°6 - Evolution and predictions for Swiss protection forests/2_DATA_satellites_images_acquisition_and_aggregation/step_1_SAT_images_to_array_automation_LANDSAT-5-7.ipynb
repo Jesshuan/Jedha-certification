{
 "cells": [
  {
   "cell_type": "markdown",
   "metadata": {},
   "source": [
    "### CAPTURE SATELLITE IMAGES FOR PAST PERIOD WITH LANDSAT-5 (1984 - 2000)"
   ]
  },
  {
   "attachments": {},
   "cell_type": "markdown",
   "metadata": {},
   "source": [
    "The purpose of all these was to automate the capture of satellites plot's images from the four LFI campaign (1983 -> 2017)...\n",
    "In reference with the documentation (see [here](docs_and_ref)),\n",
    "we used two different satellites, LANDSAT 5 and LANDSAT 7. I started with the assumption that to minimize the number of satellite allows us to keep a possible uniformity of the collection...\n",
    "Thus, LANDSAT 5 (1984 -> 2013) was used for the first three campaigns (LFI1, LFI2, LFI3) and LANDSAT 7 for the last campaign (LFI4).\n",
    "\n",
    "Here, this notebook is an example of a capture automatization with LANDSAT 5, Collection 2 (better harmonization) , Tiers 1 (Tiers 1 is most stable than Tiers 2 wich contains particular events on the images).\n",
    "\n",
    "We had to paralelize the acquisition, because each script launch with Google Eart Engine API took about 10-12 hrs, for 10-16 Go of data... We used our four local machine, beacause we didn't have the time and budget to set up another solution (EC2 for example) and it was a \"one shot\" acquisition. anyway.\n"
   ]
  },
  {
   "attachments": {},
   "cell_type": "markdown",
   "metadata": {},
   "source": [
    "This was the notebook version, simply usable by my collaborators on this project with a Docker Jupyter Lab environnement... but I created also a python script version, also stored in this folder."
   ]
  },
  {
   "attachments": {},
   "cell_type": "markdown",
   "metadata": {},
   "source": [
    "This script contains a code sample taken from a anonymous author who has a blog : \n",
    "https://mygeoblog.com/2019/08/21/google-earth-engine-to-numpy/\n",
    "(author : thisearthsite - anonymous)"
   ]
  },
  {
   "cell_type": "code",
   "execution_count": 1,
   "metadata": {},
   "outputs": [],
   "source": [
    "import ee\n",
    "import numpy as np\n",
    "import matplotlib.pyplot as plt\n",
    "import pandas as pd\n",
    "import datetime\n",
    "import time\n",
    "from datetime import date\n",
    "import json\n",
    "from json import JSONEncoder"
   ]
  },
  {
   "attachments": {},
   "cell_type": "markdown",
   "metadata": {},
   "source": [
    "Authentication to the Google Earth Engine API:\n",
    "\n",
    "Click on the link and follow the instructions (with your google account active) to receive the token and copy and paste it into the output code cell."
   ]
  },
  {
   "cell_type": "code",
   "execution_count": 2,
   "metadata": {},
   "outputs": [
    {
     "data": {
      "text/html": [
       "<p>To authorize access needed by Earth Engine, open the following\n",
       "        URL in a web browser and follow the instructions:</p>\n",
       "        <p><a href=https://code.earthengine.google.com/client-auth?scopes=https%3A//www.googleapis.com/auth/earthengine%20https%3A//www.googleapis.com/auth/devstorage.full_control&request_id=c6scrl5Ek6YBCR1xcTsDMWico0lPGLVTwi3cOAQl5Hs&tc=imH-cVMh1-PHWr-eoE39mSv1mo-Y5si4bwnxyI6E78Q&cc=LmRHb7GFOHDn0wcENIEAd9jVyU67Em-W047fIFwZnVw>https://code.earthengine.google.com/client-auth?scopes=https%3A//www.googleapis.com/auth/earthengine%20https%3A//www.googleapis.com/auth/devstorage.full_control&request_id=c6scrl5Ek6YBCR1xcTsDMWico0lPGLVTwi3cOAQl5Hs&tc=imH-cVMh1-PHWr-eoE39mSv1mo-Y5si4bwnxyI6E78Q&cc=LmRHb7GFOHDn0wcENIEAd9jVyU67Em-W047fIFwZnVw</a></p>\n",
       "        <p>The authorization workflow will generate a code, which you should paste in the box below.</p>\n",
       "        "
      ],
      "text/plain": [
       "<IPython.core.display.HTML object>"
      ]
     },
     "metadata": {},
     "output_type": "display_data"
    },
    {
     "name": "stdout",
     "output_type": "stream",
     "text": [
      "\n",
      "Successfully saved authorization token.\n",
      "NASADEM: NASA NASADEM Digital Elevation 30m\n"
     ]
    }
   ],
   "source": [
    "ee.Authenticate()\n",
    "ee.Initialize()\n",
    "print(ee.Image(\"NASA/NASADEM_HGT/001\").get(\"title\").getInfo())"
   ]
  },
  {
   "cell_type": "markdown",
   "metadata": {},
   "source": [
    "-----------"
   ]
  },
  {
   "cell_type": "markdown",
   "metadata": {},
   "source": [
    "IMPORT AND MANAGE DATA :"
   ]
  },
  {
   "cell_type": "code",
   "execution_count": 33,
   "metadata": {},
   "outputs": [],
   "source": [
    "data = pd.read_excel('DataFrames/data_parcelles_with_gps.xlsx')"
   ]
  },
  {
   "cell_type": "code",
   "execution_count": 34,
   "metadata": {},
   "outputs": [],
   "source": [
    "data_used = data[['PARCELLE','LAT', 'LON','DATE','LFI']]"
   ]
  },
  {
   "attachments": {},
   "cell_type": "markdown",
   "metadata": {},
   "source": [
    "Campaign's filter :"
   ]
  },
  {
   "cell_type": "code",
   "execution_count": 35,
   "metadata": {},
   "outputs": [],
   "source": [
    "LFI = 'LFI3' # exemple\n",
    "\n",
    "data_used = data_used.loc[data_used['LFI']==LFI,:]"
   ]
  },
  {
   "cell_type": "markdown",
   "metadata": {},
   "source": [
    "Code for a test on few lines :"
   ]
  },
  {
   "cell_type": "code",
   "execution_count": 36,
   "metadata": {},
   "outputs": [],
   "source": [
    "data_used = data_used[0:5]\n",
    "data_used"
   ]
  },
  {
   "attachments": {},
   "cell_type": "markdown",
   "metadata": {},
   "source": [
    "Code with another type of filter for a problematic list (to relaunch the script a second time from a problematic list of forest plots generated at the first time) :"
   ]
  },
  {
   "cell_type": "code",
   "execution_count": 32,
   "metadata": {},
   "outputs": [
    {
     "data": {
      "text/plain": [
       "0"
      ]
     },
     "execution_count": 32,
     "metadata": {},
     "output_type": "execute_result"
    }
   ],
   "source": [
    "# pb_list_df = pd.read_csv('Problematic_parcelles_part2bis.csv') #exemple\n",
    "# pb_list = pb_list_df['Problematic parcelles'].to_list()\n",
    "# data_used = data_used.loc[data_used['PARCELLE'].isin(pb_list),:]\n",
    "#len(data_used)"
   ]
  },
  {
   "cell_type": "markdown",
   "metadata": {},
   "source": [
    "--------------------------"
   ]
  },
  {
   "attachments": {},
   "cell_type": "markdown",
   "metadata": {},
   "source": [
    "CLASS FOR EXCEPTIONS MANAGEMENT :"
   ]
  },
  {
   "cell_type": "code",
   "execution_count": 7,
   "metadata": {},
   "outputs": [],
   "source": [
    "class NoImage(Exception):\n",
    "    def __init__(self, nb_image):\n",
    "        self.__nb_image = nb_image\n",
    "\n",
    "    @property\n",
    "    def nb_image(self):\n",
    "        return self.__nb_image"
   ]
  },
  {
   "cell_type": "code",
   "execution_count": 8,
   "metadata": {},
   "outputs": [],
   "source": [
    "class NumpyArrayEncoder(JSONEncoder):\n",
    "    def default(self, obj):\n",
    "        if isinstance(obj, np.ndarray):\n",
    "            return obj.tolist()\n",
    "        if isinstance(obj, (datetime, date)):\n",
    "            return str(obj)\n",
    "        return json.JSONEncoder.default(self, obj)"
   ]
  },
  {
   "attachments": {},
   "cell_type": "markdown",
   "metadata": {},
   "source": [
    "SPECTRAL BANDS FUNCTIONS (FOR LANDSAT-5 & 7):"
   ]
  },
  {
   "cell_type": "code",
   "execution_count": 9,
   "metadata": {},
   "outputs": [],
   "source": [
    "def NDVI(img): #repère la végétation tout simplement\n",
    "    img = ee.Image(img.normalizedDifference(['B4', 'B3'])).rename([\"ndvi\"])\n",
    "    return img\n",
    "\n",
    "def EVI(img): #idem NDVI, plus fiable et fin en théorie\n",
    "    img = ee.Image(img.expression(\n",
    "        '2.5 * ((NIR - RED) / (NIR + 6 * RED - 7.5 * BLUE + 1))', {\n",
    "            'NIR': img.select('B4').divide(10000),\n",
    "            'RED': img.select('B3').divide(10000),\n",
    "            'BLUE': img.select('B1').divide(10000)\n",
    "        })).rename([\"evi\"])\n",
    "    \n",
    "    return img\n",
    "\n",
    "def NDMI(img): #repère la teneur en eau dans la végétation\n",
    "    #img = ee.Image(img.normalizedDifference(['B8', 'B11'])).rename([\"ndmi\"])\n",
    "    img = ee.Image(img.expression(\n",
    "        '(NIR - SWITCH) / (SWITCH + NIR)', {\n",
    "            'NIR': img.select('B4').divide(10000),\n",
    "            'SWITCH': img.select('B5').divide(10000)\n",
    "       })).rename([\"ndmi\"])\n",
    "    return img\n",
    "\n",
    "def NDWI(img): #teneur en d'eau en surface\n",
    "    #img = ee.Image(img.normalizedDifference(['B3', 'B8'])).rename([\"ndwi\"])\n",
    "    img = ee.Image(img.expression(\n",
    "        '(GREEN - NIR) / (GREEN + NIR)', {\n",
    "            'NIR': img.select('B4').divide(10000),\n",
    "            'GREEN': img.select('B2').divide(10000)\n",
    "        })).rename([\"ndwi\"])\n",
    "    return img\n",
    "\n",
    "\n",
    "def DSWI(img): # Disease Water Stress Index sensitive to stress due to water shortage and plant damage\n",
    "    img = ee.Image(img.expression(\n",
    "        '(NIR - GREEN) / (SWIR1 + RED)', {\n",
    "            'NIR': img.select('B4').divide(10000),\n",
    "            'RED': img.select('B3').divide(10000),\n",
    "            'GREEN': img.select('B2').divide(10000),\n",
    "            'SWIR1': img.select('B5').divide(10000),\n",
    "        })).rename([\"dswi\"])\n",
    "    \n",
    "    return img\n",
    "\n",
    "def B1(img):\n",
    "    b2 = ee.Image(img.select(['B1'])).divide(10000).rename([\"b1\"])\n",
    "    return b2\n",
    "\n",
    "def B2(img):\n",
    "    b2 = ee.Image(img.select(['B2'])).divide(10000).rename([\"b2\"])\n",
    "    return b2\n",
    "\n",
    "def B3(img):\n",
    "    b3 = ee.Image(img.select(['B3'])).divide(10000).rename([\"b3\"])\n",
    "    print('add b3')\n",
    "    return b3\n",
    "\n",
    "def B4(img):\n",
    "    b4 = ee.Image(img.select(['B4'])).divide(10000).rename([\"b4\"])\n",
    "    return b4\n",
    "\n",
    "def B5(img):\n",
    "    b5 = ee.Image(img.select(['B5'])).divide(10000).rename([\"b5\"])\n",
    "    return b5"
   ]
  },
  {
   "attachments": {},
   "cell_type": "markdown",
   "metadata": {},
   "source": [
    "CONVERSION FUNCTIONS :"
   ]
  },
  {
   "attachments": {},
   "cell_type": "markdown",
   "metadata": {},
   "source": [
    "This (big) function allows us to make a request to the GEE API with GPS coordinates and return a dictionary with different aggregated images taken from the collection for this place, for each spectral bands function."
   ]
  },
  {
   "cell_type": "code",
   "execution_count": 10,
   "metadata": {},
   "outputs": [],
   "source": [
    "def collection_to_array(lat_loc, lon_loc, date_dep, date_fin):\n",
    "    global dim_image, percentage_max_cloud_cover, Spectral_Band_init, Spectral_Functions, Sattelite\n",
    "    pas_lat = dim_image/111120 # to convert meters in lattitude and longitude difference\n",
    "    pas_lon = dim_image/111120\n",
    "\n",
    "    area = ee.Geometry.BBox(lon_loc - pas_lon/2, lat_loc-pas_lat/2, lon_loc + pas_lon/2, lat_loc + pas_lat/2) # to cut a square equal to the image\n",
    "    pas_lon_cos = dim_image/(111120 * np.cos(lat_loc*np.pi/180)) # correction metrics with longitude and lattitude as a parameter\n",
    "    area_cos = ee.Geometry.BBox(lon_loc - pas_lon_cos/2, lat_loc-pas_lat/2, lon_loc + pas_lon_cos/2, lat_loc + pas_lat/2)\n",
    "\n",
    "    # images collection\n",
    "    collection = ee.ImageCollection(Sattelite).filterBounds(area_cos) \\\n",
    "                                      .filterDate(date_dep,date_fin) \\\n",
    "                                      #.filterMetadata(\"CLOUDY_PIXEL_PERCENTAGE\",\"less_than\",percentage_max_cloud_cover)\\\n",
    "                                      #.select(Spectral_Band_init) \\\n",
    "                                      \n",
    "                                      \n",
    "    print('collection')\n",
    "    nb_images = collection.size().getInfo()\n",
    "    print(f'{nb_images} images founded...')\n",
    "\n",
    "    if nb_images == 0:\n",
    "        raise NoImage(nb_images)\n",
    "\n",
    "\n",
    "    # images conversion (in np array)\n",
    "\n",
    "    im_dict = dict()\n",
    "\n",
    "    \n",
    "    for _, funct in enumerate(Spectral_Functions):\n",
    "\n",
    "    # with a collection of images taken from one place, we make a loop for each spectral band function...\n",
    "        \n",
    "    ### This lines of code were adapted from a version taken from\n",
    "    #  https://mygeoblog.com/2019/08/21/google-earth-engine-to-numpy/ (author : thisearthsite - anonymous) ###\n",
    "    ### START ###\n",
    "        myCollection  = collection.map(Spectral_Functions.get(funct)) # filter by the spectral band function\n",
    "        img = ee.Image(myCollection.mean()).rename(['result']) # a mean aggregation with all images\n",
    "        img = img.addBands(ee.Image.pixelLonLat()) # ad a Longitude / Lattitude channnel\n",
    "        img = img.reduceRegion(reducer=ee.Reducer.toList(),\\\n",
    "                                        geometry=area,\\\n",
    "                                        maxPixels=1e8,\\\n",
    "                                        scale=1) # define a good square for the image\n",
    "\n",
    "        data = np.array((ee.Array(img.get('result')).getInfo()))\n",
    "        lats = np.array((ee.Array(img.get(\"latitude\")).getInfo()))\n",
    "        lons = np.array((ee.Array(img.get(\"longitude\")).getInfo()))\n",
    "        uniqueLats = np.unique(lats)\n",
    "        uniqueLons = np.unique(lons)\n",
    "        ncols = len(uniqueLons)\n",
    "        nrows = len(uniqueLats)\n",
    "        arr = np.zeros([nrows, ncols], np.float32)\n",
    "        counter =0\n",
    "        for y in range(0,len(arr),1):\n",
    "            for x in range(0,len(arr[0]),1):\n",
    "                if lats[counter] == uniqueLats[y] and lons[counter] == uniqueLons[x] and counter < len(lats)-1:\n",
    "                    counter+=1\n",
    "                    arr[len(uniqueLats)-1-y,x] = data[counter]\n",
    "        \n",
    "    ### END ###\n",
    "        im_dict[f'{funct}'] = arr # write array result in the functions dictionary\n",
    "\n",
    "        if funct==NDVI:\n",
    "            im_dict[f'TNDVI'] = np.sqrt(arr) + 0.5 # add a normalized NDVI function (it's a bonus)\n",
    "    \n",
    "    return im_dict # to return all the dictionnary for all the spectral bands functions\n",
    "    "
   ]
  },
  {
   "cell_type": "markdown",
   "metadata": {},
   "source": [
    "--------------"
   ]
  },
  {
   "cell_type": "markdown",
   "metadata": {},
   "source": [
    "USER'S PARAMETERS :"
   ]
  },
  {
   "cell_type": "code",
   "execution_count": 37,
   "metadata": {},
   "outputs": [],
   "source": [
    "Sattelite = 'LANDSAT/LT05/C02/T1'\n",
    "\n",
    "dim_image = 200 #mètres de côté"
   ]
  },
  {
   "attachments": {},
   "cell_type": "markdown",
   "metadata": {},
   "source": [
    "OTHER PARAMETERS :"
   ]
  },
  {
   "cell_type": "code",
   "execution_count": 12,
   "metadata": {},
   "outputs": [],
   "source": [
    "#percentage_max_cloud_cover = 100"
   ]
  },
  {
   "attachments": {},
   "cell_type": "markdown",
   "metadata": {},
   "source": [
    "Spectral bands requirements (if you want to minimize it):"
   ]
  },
  {
   "cell_type": "code",
   "execution_count": 37,
   "metadata": {},
   "outputs": [],
   "source": [
    "#Spectral_Band_init = ['B2', 'B3', 'B4', 'B5']"
   ]
  },
  {
   "attachments": {},
   "cell_type": "markdown",
   "metadata": {},
   "source": [
    "Spectral functions in outputs :"
   ]
  },
  {
   "attachments": {},
   "cell_type": "markdown",
   "metadata": {},
   "source": [
    "Notes : Spectral's bands from above are ingredients for functions below... be attentive : keeping the dictionnary format"
   ]
  },
  {
   "cell_type": "code",
   "execution_count": 12,
   "metadata": {},
   "outputs": [],
   "source": [
    "Spectral_Functions = {'NDVI':NDVI, 'EVI':EVI, 'NDMI':NDMI, 'NDWI':NDWI, 'DSWI':DSWI}"
   ]
  },
  {
   "attachments": {},
   "cell_type": "markdown",
   "metadata": {},
   "source": [
    "Half Time opening in days (centered on June 30) :"
   ]
  },
  {
   "attachments": {},
   "cell_type": "markdown",
   "metadata": {},
   "source": [
    "The collection of images will be done between \"date - days\" and \"date + days\" ... so, if days = 10, Time opening = 20..."
   ]
  },
  {
   "attachments": {},
   "cell_type": "markdown",
   "metadata": {},
   "source": [
    "If the program has difficulties to collect an image with this Time opening, it will try automatically with Time opening X 2, then, Time opening X 4..."
   ]
  },
  {
   "cell_type": "code",
   "execution_count": 13,
   "metadata": {},
   "outputs": [],
   "source": [
    "days = 25"
   ]
  },
  {
   "cell_type": "markdown",
   "metadata": {},
   "source": [
    "------------"
   ]
  },
  {
   "cell_type": "markdown",
   "metadata": {},
   "source": [
    "IMAGES CAPTURE :"
   ]
  },
  {
   "attachments": {},
   "cell_type": "markdown",
   "metadata": {},
   "source": [
    "The main program wich automate the collection capture for each forest's plot... and write it in a big json dictionnary file."
   ]
  },
  {
   "cell_type": "code",
   "execution_count": 38,
   "metadata": {},
   "outputs": [
    {
     "name": "stdout",
     "output_type": "stream",
     "text": [
      "For campaign LFI3, all the images will be extracted for this years : [2005 2004]...\n",
      "--- PARCELLE 51 ---\n",
      "collection\n",
      "4 images founded...\n",
      "This image traitment took 24.425 seconds... \n",
      "--- PARCELLE 384 ---\n",
      "collection\n",
      "4 images founded...\n",
      "This image traitment took 17.2935 seconds... \n",
      "--- PARCELLE 1239 ---\n",
      "collection\n",
      "6 images founded...\n",
      "This image traitment took 20.2053 seconds... \n",
      "--- PARCELLE 1419 ---\n",
      "collection\n",
      "6 images founded...\n",
      "This image traitment took 21.3735 seconds... \n",
      "--- PARCELLE 1431 ---\n",
      "collection\n",
      "6 images founded...\n",
      "This image traitment took 17.2741 seconds... \n",
      "Finish !...\n",
      "But we have a problem with this list of parcelles : []\n"
     ]
    }
   ],
   "source": [
    "# here, we take the year of the forest's plot field records, because the API request will be sent with the June 30 of this year, for each plot...\n",
    "data_lfi = data_used\n",
    "data_lfi['YEAR'] = data_lfi['DATE'].map(lambda d : d.year)\n",
    "\n",
    "# here, we need to \"cheat\" with the 1983 year (because LANDSAT 5 was launched in 1984)...\n",
    "if LFI=='LFI1':\n",
    "    data_lfi['YEAR'] = data_lfi['YEAR'].map(lambda d: 1984 if d==1983 else d)\n",
    "print (f\"For campaign {LFI}, all the images will be extracted for this years : {data_lfi['YEAR'].unique()}...\")\n",
    "\n",
    "\n",
    "# --- FORCE TEST YEAR --- \n",
    "#data_lfi['YEAR'] = 1990\n",
    "\n",
    "#data_lfi = data_lfi[0:5]\n",
    "\n",
    "# --- END TEST ---\n",
    "\n",
    "nb_lines = len(data_lfi)\n",
    "matrix_data = np.matrix(data_lfi) # to convert dataframe into a matrix array (best computing time)\n",
    "\n",
    "Stock_images_list =dict() # to prepare the images result list\n",
    "Problem_list = []\n",
    "\n",
    "for i in range(nb_lines):\n",
    "\n",
    "    deb_image = time.time()\n",
    "\n",
    "    # preprocessing\n",
    "    # for each forest plot, defining variables for the function \"collection to array\" function\n",
    "    parc_name = matrix_data.item(i, 0)\n",
    "    print(f'--- PARCELLE {matrix_data.item(i, 0)} ---')\n",
    "    parc_dict=dict()\n",
    "    date_image = datetime.datetime.strptime(str(matrix_data.item(i, 5)) + '-06-30', '%Y-%m-%d')\n",
    "    date_dep = (date_image - datetime.timedelta(days=days))\n",
    "    date_fin = (date_image + datetime.timedelta(days=days))\n",
    "    date_dep_string = str(date_dep.year) + '-' + str(date_dep.month) + '-' + str(date_dep.day)\n",
    "    date_fin_string = str(date_fin.year) + '-' + str(date_fin.month) + '-' + str(date_fin.day)\n",
    "    lat_loc = matrix_data.item(i, 1)\n",
    "    lon_loc = matrix_data.item(i, 2)\n",
    "\n",
    "    try:\n",
    "        # api request and collection capture\n",
    "        dict_images = collection_to_array(lat_loc, lon_loc, date_dep, date_fin)\n",
    "\n",
    "    except NoImage:\n",
    "        date_dep -= datetime.timedelta(days=days)\n",
    "        date_fin += datetime.timedelta(days=days)\n",
    "        print(f'Zéro images for parcelle {parc_name}... so we tried with a days open of {days*4} days...')\n",
    "\n",
    "        try:\n",
    "            dict_images = collection_to_array(lat_loc, lon_loc, date_dep, date_fin)\n",
    "\n",
    "        except NoImage:\n",
    "            date_dep -= datetime.timedelta(days=days)\n",
    "            date_fin += datetime.timedelta(days=days)\n",
    "            print(f'Zéro images for parcelle {parc_name}... so we tried with a days open of {days*8} days...')\n",
    "\n",
    "            try:\n",
    "                dict_images = collection_to_array(lat_loc, lon_loc, date_dep, date_fin)\n",
    "\n",
    "            except:\n",
    "                print(f'--- PROBLEM ! with parcelle {parc_name}... ---')\n",
    "                dict_images = np.nan\n",
    "                Problem_list.append(parc_name)\n",
    "        except:\n",
    "            print(f'--- PROBLEM ! with parcelle {parc_name}... ---')\n",
    "            dict_images = np.nan\n",
    "            Problem_list.append(parc_name)\n",
    "    except:\n",
    "        print(f'--- PROBLEM ! with parcelle {parc_name}... ---')\n",
    "        dict_images = np.nan\n",
    "        Problem_list.append(parc_name)\n",
    "\n",
    "    # Writing results from the matrix array to the dictionnary result\n",
    "    parc_dict['PARCELLE'] = matrix_data.item(i, 0)\n",
    "    parc_dict['LAT, LON'] = (lat_loc, lon_loc)\n",
    "    parc_dict['DATE_INIT'] = str(matrix_data.item(i, 3))\n",
    "    parc_dict['LFI'] = matrix_data.item(i, 4)\n",
    "    parc_dict['DATE_IMAGE_SAT'] = str(date_image)\n",
    "    parc_dict['IMAGES_SAT'] = dict_images\n",
    "    Stock_images_list[f'{matrix_data.item(i, 0)}'] = parc_dict\n",
    "    fin_image = time.time()\n",
    "    print(f'This image traitment took {round(fin_image - deb_image,4)} seconds... ')\n",
    "\n",
    "print('Finish !...')\n",
    "print(f'But we have a problem with this list of parcelles : {Problem_list}')\n"
   ]
  },
  {
   "cell_type": "markdown",
   "metadata": {},
   "source": [
    "---------------"
   ]
  },
  {
   "cell_type": "markdown",
   "metadata": {},
   "source": [
    "#### EXPORTS"
   ]
  },
  {
   "attachments": {},
   "cell_type": "markdown",
   "metadata": {},
   "source": [
    "option 1 : export in slicing mode (to prevent bugs):"
   ]
  },
  {
   "cell_type": "code",
   "execution_count": 15,
   "metadata": {},
   "outputs": [],
   "source": [
    "nb_parts = 8 # to define number of parts of the unique dict"
   ]
  },
  {
   "cell_type": "code",
   "execution_count": 16,
   "metadata": {},
   "outputs": [],
   "source": [
    "Decoup_stock_images = []\n",
    "\n",
    "len_sub_list = len(Stock_images_list)//nb_parts\n",
    "\n",
    "for i in range(nb_parts-1):\n",
    "    Decoup_stock_images.append(dict(list(Stock_images_list.items())[i*len_sub_list:(i+1)*len_sub_list]))\n",
    "Decoup_stock_images.append(dict(list(Stock_images_list.items())[(nb_parts-1)*len_sub_list:]))"
   ]
  },
  {
   "cell_type": "code",
   "execution_count": 17,
   "metadata": {},
   "outputs": [
    {
     "name": "stdout",
     "output_type": "stream",
     "text": [
      "... Exportation of dict n°0 (lenght : 0) in a jsonfile...\n",
      "... Exportation dict n°0 done...\n",
      "... Exportation of dict n°1 (lenght : 0) in a jsonfile...\n",
      "... Exportation dict n°1 done...\n",
      "... Exportation of dict n°2 (lenght : 0) in a jsonfile...\n",
      "... Exportation dict n°2 done...\n",
      "... Exportation of dict n°3 (lenght : 0) in a jsonfile...\n",
      "... Exportation dict n°3 done...\n",
      "... Exportation of dict n°4 (lenght : 0) in a jsonfile...\n",
      "... Exportation dict n°4 done...\n",
      "... Exportation of dict n°5 (lenght : 0) in a jsonfile...\n",
      "... Exportation dict n°5 done...\n",
      "... Exportation of dict n°6 (lenght : 0) in a jsonfile...\n",
      "... Exportation dict n°6 done...\n",
      "... Exportation of dict n°7 (lenght : 4) in a jsonfile...\n",
      "... Exportation dict n°7 done...\n"
     ]
    }
   ],
   "source": [
    "for i in range(nb_parts):\n",
    "    print(f'... Exportation of dict n°{i} (lenght : {len(Decoup_stock_images[i])}) in a jsonfile...')\n",
    "    list_json = json.dumps(Decoup_stock_images[i], cls=NumpyArrayEncoder)\n",
    "    with open(f\"Results_Images_Stock/Images_{Sattelite.split('/')[0].split('-')[0]}_{LFI}_part{i+1}.json\", \"w\") as outfile:\n",
    "        outfile.write(list_json)\n",
    "    print(f'... Exportation dict n°{i} done...')"
   ]
  },
  {
   "cell_type": "markdown",
   "metadata": {},
   "source": [
    "option 2 : Export in a unique json file :"
   ]
  },
  {
   "cell_type": "code",
   "execution_count": 39,
   "metadata": {},
   "outputs": [
    {
     "name": "stdout",
     "output_type": "stream",
     "text": [
      "... Exportation in a jsonfile...\n",
      "... Exportation done...\n"
     ]
    }
   ],
   "source": [
    "print('... Exportation in a jsonfile...')\n",
    "\n",
    "list_json = json.dumps(Stock_images_list, cls=NumpyArrayEncoder)\n",
    "with open(f\"Results_Images_Stock/Images_{Sattelite.split('/')[0].split('-')[0]}_{LFI}_pb2.json\", \"w\") as outfile:\n",
    "    outfile.write(list_json)\n",
    "\n",
    "print('... Exportation done...')\n",
    "\n"
   ]
  },
  {
   "cell_type": "markdown",
   "metadata": {},
   "source": [
    "Export of the problematic list :"
   ]
  },
  {
   "cell_type": "code",
   "execution_count": 24,
   "metadata": {},
   "outputs": [
    {
     "name": "stdout",
     "output_type": "stream",
     "text": [
      "... Exportation of the problematic parcelle's list in a text...\n",
      "...Exportation done...\n"
     ]
    }
   ],
   "source": [
    "print('... Exportation of the problematic parcelle\\'s list in a text...')\n",
    "\n",
    "df_pb_list = pd.DataFrame(Problem_list, columns=['Problematic parcelles'])\n",
    "df_pb_list.to_csv('Problematic_parcelles_part2bis.csv')\n",
    "\n",
    "print('...Exportation done...')"
   ]
  },
  {
   "cell_type": "markdown",
   "metadata": {},
   "source": [
    "---------------"
   ]
  },
  {
   "attachments": {},
   "cell_type": "markdown",
   "metadata": {},
   "source": [
    "To test a file opening and display images collection for a forest plot :"
   ]
  },
  {
   "cell_type": "code",
   "execution_count": 40,
   "metadata": {},
   "outputs": [],
   "source": [
    "with open(f\"Results_Images_Stock/Images_{Sattelite.split('/')[0].split('-')[0]}_{LFI}_pb2.json\", 'r') as openfile:\n",
    " \n",
    "    json_object = json.load(openfile)"
   ]
  },
  {
   "cell_type": "code",
   "execution_count": 42,
   "metadata": {},
   "outputs": [
    {
     "data": {
      "text/plain": [
       "'2005-11-01 00:00:00'"
      ]
     },
     "execution_count": 42,
     "metadata": {},
     "output_type": "execute_result"
    }
   ],
   "source": [
    "json_object['51'].get('DATE_INIT')"
   ]
  },
  {
   "cell_type": "code",
   "execution_count": 43,
   "metadata": {},
   "outputs": [
    {
     "data": {
      "text/plain": [
       "'2005-06-30 00:00:00'"
      ]
     },
     "execution_count": 43,
     "metadata": {},
     "output_type": "execute_result"
    }
   ],
   "source": [
    "json_object['51'].get('DATE_IMAGE_SAT')"
   ]
  },
  {
   "cell_type": "code",
   "execution_count": 44,
   "metadata": {},
   "outputs": [
    {
     "data": {
      "text/plain": [
       "[47.78162341651316, 8.612821767035694]"
      ]
     },
     "execution_count": 44,
     "metadata": {},
     "output_type": "execute_result"
    }
   ],
   "source": [
    "json_object['51'].get('LAT, LON')"
   ]
  },
  {
   "cell_type": "code",
   "execution_count": 45,
   "metadata": {},
   "outputs": [
    {
     "data": {
      "text/html": [
       "<div>\n",
       "<style scoped>\n",
       "    .dataframe tbody tr th:only-of-type {\n",
       "        vertical-align: middle;\n",
       "    }\n",
       "\n",
       "    .dataframe tbody tr th {\n",
       "        vertical-align: top;\n",
       "    }\n",
       "\n",
       "    .dataframe thead th {\n",
       "        text-align: right;\n",
       "    }\n",
       "</style>\n",
       "<table border=\"1\" class=\"dataframe\">\n",
       "  <thead>\n",
       "    <tr style=\"text-align: right;\">\n",
       "      <th></th>\n",
       "      <th>PARCELLE</th>\n",
       "      <th>LAT</th>\n",
       "      <th>LON</th>\n",
       "      <th>DATE</th>\n",
       "      <th>LFI</th>\n",
       "      <th>YEAR</th>\n",
       "    </tr>\n",
       "  </thead>\n",
       "  <tbody>\n",
       "    <tr>\n",
       "      <th>3</th>\n",
       "      <td>51</td>\n",
       "      <td>47.781623</td>\n",
       "      <td>8.612822</td>\n",
       "      <td>2005-11-01</td>\n",
       "      <td>LFI3</td>\n",
       "      <td>2005</td>\n",
       "    </tr>\n",
       "    <tr>\n",
       "      <th>6</th>\n",
       "      <td>384</td>\n",
       "      <td>47.736528</td>\n",
       "      <td>8.625154</td>\n",
       "      <td>2005-10-26</td>\n",
       "      <td>LFI3</td>\n",
       "      <td>2005</td>\n",
       "    </tr>\n",
       "    <tr>\n",
       "      <th>11</th>\n",
       "      <td>1239</td>\n",
       "      <td>47.668637</td>\n",
       "      <td>9.036432</td>\n",
       "      <td>2004-10-28</td>\n",
       "      <td>LFI3</td>\n",
       "      <td>2004</td>\n",
       "    </tr>\n",
       "    <tr>\n",
       "      <th>15</th>\n",
       "      <td>1419</td>\n",
       "      <td>47.660188</td>\n",
       "      <td>8.996234</td>\n",
       "      <td>2004-10-27</td>\n",
       "      <td>LFI3</td>\n",
       "      <td>2004</td>\n",
       "    </tr>\n",
       "    <tr>\n",
       "      <th>18</th>\n",
       "      <td>1431</td>\n",
       "      <td>47.659089</td>\n",
       "      <td>9.076087</td>\n",
       "      <td>2004-10-25</td>\n",
       "      <td>LFI3</td>\n",
       "      <td>2004</td>\n",
       "    </tr>\n",
       "  </tbody>\n",
       "</table>\n",
       "</div>"
      ],
      "text/plain": [
       "    PARCELLE        LAT       LON       DATE   LFI  YEAR\n",
       "3         51  47.781623  8.612822 2005-11-01  LFI3  2005\n",
       "6        384  47.736528  8.625154 2005-10-26  LFI3  2005\n",
       "11      1239  47.668637  9.036432 2004-10-28  LFI3  2004\n",
       "15      1419  47.660188  8.996234 2004-10-27  LFI3  2004\n",
       "18      1431  47.659089  9.076087 2004-10-25  LFI3  2004"
      ]
     },
     "execution_count": 45,
     "metadata": {},
     "output_type": "execute_result"
    }
   ],
   "source": [
    "data_lfi[0:5]"
   ]
  },
  {
   "cell_type": "code",
   "execution_count": 47,
   "metadata": {},
   "outputs": [
    {
     "data": {
      "image/png": "[encoded data removed]",
      "text/plain": [
       "<Figure size 640x480 with 1 Axes>"
      ]
     },
     "metadata": {},
     "output_type": "display_data"
    },
    {
     "data": {
      "image/png": "[encoded data removed]",
      "text/plain": [
       "<Figure size 640x480 with 1 Axes>"
      ]
     },
     "metadata": {},
     "output_type": "display_data"
    },
    {
     "data": {
      "image/png": "[encoded data removed]",
      "text/plain": [
       "<Figure size 640x480 with 1 Axes>"
      ]
     },
     "metadata": {},
     "output_type": "display_data"
    },
    {
     "data": {
      "image/png": "[encoded data removed]",
      "text/plain": [
       "<Figure size 640x480 with 1 Axes>"
      ]
     },
     "metadata": {},
     "output_type": "display_data"
    },
    {
     "data": {
      "image/png": "[encoded data removed]",
      "text/plain": [
       "<Figure size 640x480 with 1 Axes>"
      ]
     },
     "metadata": {},
     "output_type": "display_data"
    }
   ],
   "source": [
    "for _, funct in enumerate(json_object['1239'].get('IMAGES_SAT')):\n",
    "    plt.title(f'{funct}')\n",
    "    plt.imshow(json_object['1239'].get('IMAGES_SAT').get(funct), 'gray')\n",
    "    plt.show()"
   ]
  }
 ],
 "metadata": {
  "kernelspec": {
   "display_name": "Python 3 (ipykernel)",
   "language": "python",
   "name": "python3"
  },
  "language_info": {
   "codemirror_mode": {
    "name": "ipython",
    "version": 3
   },
   "file_extension": ".py",
   "mimetype": "text/x-python",
   "name": "python",
   "nbconvert_exporter": "python",
   "pygments_lexer": "ipython3",
   "version": "3.9.13 (main, Aug 25 2022, 23:51:50) [MSC v.1916 64 bit (AMD64)]"
  },
  "vscode": {
   "interpreter": {
    "hash": "1cca9558bc5ad879ec93cc030b157d75f18267527c60932cecaace349eef54dd"
   }
  }
 },
 "nbformat": 4,
 "nbformat_minor": 4
}
