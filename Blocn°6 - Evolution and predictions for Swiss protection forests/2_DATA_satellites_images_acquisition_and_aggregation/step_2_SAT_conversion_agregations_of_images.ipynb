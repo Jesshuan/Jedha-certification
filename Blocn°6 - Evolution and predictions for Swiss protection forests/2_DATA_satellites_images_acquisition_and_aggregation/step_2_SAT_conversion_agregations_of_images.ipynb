{
 "cells": [
  {
   "cell_type": "markdown",
   "metadata": {},
   "source": [
    "#### UTILITARY SCRIPT TO CONVERT IMAGES IN AGGREGATED DATA"
   ]
  },
  {
   "attachments": {},
   "cell_type": "markdown",
   "metadata": {},
   "source": [
    "This notebook, built for all collaborators, allows the conversion of satellite image data into a single value, for each spectral band function, for each forest plot of a given campaign.\n",
    "Output is a dataframe with one row for each forest's plot, and one column for each spectral bands function."
   ]
  },
  {
   "attachments": {},
   "cell_type": "markdown",
   "metadata": {},
   "source": [
    "As it is explained in [this diagram](shematic_diagram_of_images_acquisition.png) taken from the presentation of the project, the principle was to cut out in a the global satellite image (size : 200 X 200 meters) a reduced square (of the size of the parcels approximately, 25 X 25 meters...) and to aggregate it, with a function like the mean of all the pixels value."
   ]
  },
  {
   "cell_type": "code",
   "execution_count": 1,
   "metadata": {},
   "outputs": [],
   "source": [
    "import pandas as pd\n",
    "import numpy as np\n",
    "import json\n",
    "import itertools\n",
    "import copy\n"
   ]
  },
  {
   "attachments": {},
   "cell_type": "markdown",
   "metadata": {},
   "source": [
    "Size of the data square in the global image :"
   ]
  },
  {
   "cell_type": "code",
   "execution_count": 2,
   "metadata": {},
   "outputs": [],
   "source": [
    "DIM_AGREGATION = 25 # X 25 meters"
   ]
  },
  {
   "cell_type": "markdown",
   "metadata": {},
   "source": [
    "Import initial list of parcelles :"
   ]
  },
  {
   "cell_type": "code",
   "execution_count": 3,
   "metadata": {},
   "outputs": [],
   "source": [
    "df = pd.read_excel('DataFrames/data_parcelles_with_gps.xlsx')"
   ]
  },
  {
   "cell_type": "code",
   "execution_count": 4,
   "metadata": {},
   "outputs": [],
   "source": [
    "df_base = df[['PARCELLE','LFI']]"
   ]
  },
  {
   "cell_type": "markdown",
   "metadata": {},
   "source": [
    "----------------"
   ]
  },
  {
   "attachments": {},
   "cell_type": "markdown",
   "metadata": {},
   "source": [
    "#### Option 1 / To Import and to convert a unique JSON File of satellites images :"
   ]
  },
  {
   "cell_type": "code",
   "execution_count": 29,
   "metadata": {},
   "outputs": [],
   "source": [
    "LFI = 1 # define the campaign\n",
    "\n",
    "First_parcelle = '98383' #the name of the first parcelle of the dict"
   ]
  },
  {
   "cell_type": "code",
   "execution_count": 30,
   "metadata": {},
   "outputs": [],
   "source": [
    "Extension = '_pb2' #in the case of problematics parcelles file, to fill with expression like \"_pb1\""
   ]
  },
  {
   "cell_type": "code",
   "execution_count": 31,
   "metadata": {},
   "outputs": [],
   "source": [
    "with open(f\"Results_Images_Stock/Images_LANDSAT_LFI{LFI}{Extension}.json\", 'r') as openfile:\n",
    " \n",
    "    data = json.load(openfile)"
   ]
  },
  {
   "cell_type": "markdown",
   "metadata": {},
   "source": [
    "Verifications (lenght, LFI and dims) :"
   ]
  },
  {
   "cell_type": "code",
   "execution_count": 32,
   "metadata": {},
   "outputs": [
    {
     "data": {
      "text/plain": [
       "4"
      ]
     },
     "execution_count": 32,
     "metadata": {},
     "output_type": "execute_result"
    }
   ],
   "source": [
    "len(data)"
   ]
  },
  {
   "cell_type": "markdown",
   "metadata": {},
   "source": [
    "Try with a parcelle:"
   ]
  },
  {
   "cell_type": "code",
   "execution_count": 33,
   "metadata": {},
   "outputs": [
    {
     "data": {
      "text/plain": [
       "'LFI1'"
      ]
     },
     "execution_count": 33,
     "metadata": {},
     "output_type": "execute_result"
    }
   ],
   "source": [
    "data[First_parcelle]['LFI']"
   ]
  },
  {
   "cell_type": "code",
   "execution_count": 34,
   "metadata": {},
   "outputs": [
    {
     "data": {
      "text/plain": [
       "(201, 201)"
      ]
     },
     "execution_count": 34,
     "metadata": {},
     "output_type": "execute_result"
    }
   ],
   "source": [
    "np.shape(data[First_parcelle]['IMAGES_SAT']['NDVI'])"
   ]
  },
  {
   "cell_type": "markdown",
   "metadata": {},
   "source": [
    "LFI Agregation (if error : correspondance false)"
   ]
  },
  {
   "cell_type": "code",
   "execution_count": 35,
   "metadata": {},
   "outputs": [],
   "source": [
    "LFI = data[First_parcelle]['LFI']\n",
    "df_result = df_base.loc[df_base['LFI']==LFI,:].reset_index(drop=True)"
   ]
  },
  {
   "cell_type": "markdown",
   "metadata": {},
   "source": [
    "Script and loop :"
   ]
  },
  {
   "cell_type": "code",
   "execution_count": 36,
   "metadata": {},
   "outputs": [],
   "source": [
    "# to define variables and empty variables\n",
    "# vectorization into numpy array formats (for computing time !)\n",
    "\n",
    "nb_parc = len(df_result)\n",
    "problematic_parcelles = []\n",
    "list_parcelle = df_result['PARCELLE'].tolist()\n",
    "\n",
    "width = np.shape(data[First_parcelle]['IMAGES_SAT']['NDVI'])[0]\n",
    "height = np.shape(data[First_parcelle]['IMAGES_SAT']['NDVI'])[1]\n",
    "range_w = np.arange(int((width - DIM_AGREGATION)/2), int((width + DIM_AGREGATION)/2))\n",
    "range_h = np.arange(int((height - DIM_AGREGATION)/2), int((height + DIM_AGREGATION)/2))\n",
    "ndvi_arr = np.empty(nb_parc)\n",
    "evi_arr = np.empty(nb_parc)\n",
    "ndmi_arr = np.empty(nb_parc)\n",
    "ndwi_arr = np.empty(nb_parc)\n",
    "dswi_arr = np.empty(nb_parc)\n",
    "\n",
    "MAPPING = {\n",
    "    'NDVI' : ndvi_arr,\n",
    "    'EVI' : evi_arr,\n",
    "    'NDMI' : ndmi_arr,\n",
    "    'NDWI' : ndwi_arr,\n",
    "    'DSWI' : dswi_arr\n",
    "}\n",
    "\n",
    "# main loop with mean aggregation for each forest plot :\n",
    "\n",
    "for ind, parc in enumerate(list_parcelle):\n",
    "    try:\n",
    "        for func_name, arr in MAPPING.items():\n",
    "            pixel_values = data[str(parc)]['IMAGES_SAT'][func_name]\n",
    "            arr[ind] = round(np.mean([pixel_values[tupl[0]][tupl[1]] for tupl in list(itertools.product(range_w,range_h))]),4)\n",
    "    except:\n",
    "        problematic_parcelles.append(parc) # to stock a list of problematics forest plots\n",
    "        for _ , arr in MAPPING.items():\n",
    "            arr[ind] = np.nan\n",
    "\n",
    "# writing results :\n",
    "df_result['NDVI'] = ndvi_arr\n",
    "df_result['EVI'] = evi_arr\n",
    "df_result['NDMI'] = ndmi_arr\n",
    "df_result['NDWI'] = ndwi_arr\n",
    "df_result['DSWI'] = dswi_arr"
   ]
  },
  {
   "cell_type": "markdown",
   "metadata": {},
   "source": [
    "Verify number of parcelles with \"NaN\" data :"
   ]
  },
  {
   "cell_type": "code",
   "execution_count": 37,
   "metadata": {},
   "outputs": [
    {
     "data": {
      "text/plain": [
       "2399"
      ]
     },
     "execution_count": 37,
     "metadata": {},
     "output_type": "execute_result"
    }
   ],
   "source": [
    "df_result['DSWI'].isnull().sum()"
   ]
  },
  {
   "cell_type": "code",
   "execution_count": 38,
   "metadata": {},
   "outputs": [
    {
     "data": {
      "text/plain": [
       "2399"
      ]
     },
     "execution_count": 38,
     "metadata": {},
     "output_type": "execute_result"
    }
   ],
   "source": [
    "len(problematic_parcelles)"
   ]
  },
  {
   "cell_type": "markdown",
   "metadata": {},
   "source": [
    "Export :"
   ]
  },
  {
   "cell_type": "code",
   "execution_count": 39,
   "metadata": {},
   "outputs": [],
   "source": [
    "df_result.to_excel(f'./DATA_aggregated/Data_from_satellites_images_{LFI}_pb2.xlsx')"
   ]
  },
  {
   "cell_type": "markdown",
   "metadata": {},
   "source": [
    "------------------"
   ]
  },
  {
   "attachments": {},
   "cell_type": "markdown",
   "metadata": {},
   "source": [
    "#### Option 2) To Import and to convert multiple JSON Files of satellites images :"
   ]
  },
  {
   "attachments": {},
   "cell_type": "markdown",
   "metadata": {},
   "source": [
    "The same as above with several part files for one campaign (depending on the user's choice when exporting the satellite images to json in the last step)"
   ]
  },
  {
   "cell_type": "markdown",
   "metadata": {},
   "source": [
    "Parameters :"
   ]
  },
  {
   "cell_type": "code",
   "execution_count": 229,
   "metadata": {},
   "outputs": [],
   "source": [
    "nb_parts = 8 # numbers of files\n",
    "\n",
    "LFI_name = 'LFI4'\n",
    "\n",
    "LFI = 4\n",
    "\n",
    "width = 200 # of initial images\n",
    "\n",
    "height = 200 # of initial images\n"
   ]
  },
  {
   "cell_type": "markdown",
   "metadata": {},
   "source": [
    "Loop for conversion in a list of 'nb_parts' dataframes..."
   ]
  },
  {
   "cell_type": "code",
   "execution_count": 173,
   "metadata": {},
   "outputs": [
    {
     "name": "stdout",
     "output_type": "stream",
     "text": [
      "Opening file part 1 with lenght 25 ...\n",
      "Conversion and aggregation...\n",
      "Creation of a dataframe...\n",
      "Difference of empty data for NDVI : 0\n",
      "Difference of empty data for EVI : 0\n",
      "Difference of empty data for NDMI : 0\n",
      "Difference of empty data for NDWI : 0\n",
      "Difference of empty data for DSWI : 0\n",
      "Done...\n",
      "Opening file part 2 with lenght 25 ...\n",
      "Conversion and aggregation...\n",
      "Creation of a dataframe...\n",
      "Difference of empty data for NDVI : 0\n",
      "Difference of empty data for EVI : 0\n",
      "Difference of empty data for NDMI : 0\n",
      "Difference of empty data for NDWI : 0\n",
      "Difference of empty data for DSWI : 0\n",
      "Done...\n",
      "Opening file part 3 with lenght 25 ...\n",
      "Conversion and aggregation...\n",
      "Creation of a dataframe...\n",
      "Difference of empty data for NDVI : 0\n",
      "Difference of empty data for EVI : 0\n",
      "Difference of empty data for NDMI : 0\n",
      "Difference of empty data for NDWI : 0\n",
      "Difference of empty data for DSWI : 0\n",
      "Done...\n",
      "Opening file part 4 with lenght 25 ...\n",
      "Conversion and aggregation...\n",
      "Creation of a dataframe...\n",
      "Difference of empty data for NDVI : 0\n",
      "Difference of empty data for EVI : 0\n",
      "Difference of empty data for NDMI : 0\n",
      "Difference of empty data for NDWI : 0\n",
      "Difference of empty data for DSWI : 0\n",
      "Done...\n",
      "Opening file part 5 with lenght 25 ...\n",
      "Conversion and aggregation...\n",
      "Creation of a dataframe...\n",
      "Difference of empty data for NDVI : 0\n",
      "Difference of empty data for EVI : 0\n",
      "Difference of empty data for NDMI : 0\n",
      "Difference of empty data for NDWI : 0\n",
      "Difference of empty data for DSWI : 0\n",
      "Done...\n",
      "Opening file part 6 with lenght 25 ...\n",
      "Conversion and aggregation...\n",
      "Creation of a dataframe...\n",
      "Difference of empty data for NDVI : 0\n",
      "Difference of empty data for EVI : 0\n",
      "Difference of empty data for NDMI : 0\n",
      "Difference of empty data for NDWI : 0\n",
      "Difference of empty data for DSWI : 0\n",
      "Done...\n",
      "Opening file part 7 with lenght 25 ...\n",
      "Conversion and aggregation...\n",
      "Creation of a dataframe...\n",
      "Difference of empty data for NDVI : 0\n",
      "Difference of empty data for EVI : 0\n",
      "Difference of empty data for NDMI : 0\n",
      "Difference of empty data for NDWI : 0\n",
      "Difference of empty data for DSWI : 0\n",
      "Done...\n",
      "Opening file part 8 with lenght 26 ...\n",
      "Conversion and aggregation...\n",
      "Creation of a dataframe...\n",
      "Difference of empty data for NDVI : 0\n",
      "Difference of empty data for EVI : 0\n",
      "Difference of empty data for NDMI : 0\n",
      "Difference of empty data for NDWI : 0\n",
      "Difference of empty data for DSWI : 0\n",
      "Done...\n",
      "Finish...\n"
     ]
    }
   ],
   "source": [
    "df_result_base = df_base.loc[df_base['LFI']==LFI_name,:].reset_index(drop=True)\n",
    "dataframes_results = []\n",
    "nb_parc = len(df_result_base)\n",
    "list_parcelle = df_result_base['PARCELLE'].tolist()\n",
    "range_w = np.arange(int((width - DIM_AGREGATION)/2), int((width + DIM_AGREGATION)/2))\n",
    "range_h = np.arange(int((height - DIM_AGREGATION)/2), int((height + DIM_AGREGATION)/2))\n",
    "\n",
    "\n",
    "for i in range(nb_parts):\n",
    "    try:\n",
    "        with open(f\"Results_Images_Stock/Images_LANDSAT_LFI{LFI}_part{i+1}.json\", 'r') as openfile:\n",
    "            data = json.load(openfile)\n",
    "        print(f'Opening file part {i+1} with lenght {len(data)} ...')\n",
    "\n",
    "        empty_parcelles = []\n",
    "        df_result = copy.copy(df_result_base)\n",
    "        ndvi_arr = np.empty(nb_parc)\n",
    "        evi_arr = np.empty(nb_parc)\n",
    "        ndmi_arr = np.empty(nb_parc)\n",
    "        ndwi_arr = np.empty(nb_parc)\n",
    "        dswi_arr = np.empty(nb_parc)\n",
    "        \n",
    "        MAPPING = {\n",
    "            'NDVI' : ndvi_arr,\n",
    "            'EVI' : evi_arr,\n",
    "            'NDMI' : ndmi_arr,\n",
    "            'NDWI' : ndwi_arr,\n",
    "            'DSWI' : dswi_arr\n",
    "        }\n",
    "\n",
    "        print('Conversion and aggregation...')\n",
    "        try:\n",
    "            for ind, parc in enumerate(list_parcelle):\n",
    "                try:\n",
    "                    for func_name, arr in MAPPING.items():\n",
    "                        pixel_values = np.empty(2)\n",
    "                        pixel_values = data[str(parc)]['IMAGES_SAT'][func_name]\n",
    "                        arr[ind] = round(np.mean([pixel_values[tupl[0]][tupl[1]] for tupl in list(itertools.product(range_w,range_h))]),4)\n",
    "                except:\n",
    "                    empty_parcelles.append(parc)\n",
    "                    for _ , arr in MAPPING.items():\n",
    "                        arr[ind] = np.nan\n",
    "        except:\n",
    "            print(f'Conversion\\'s problem with file part {i+i} ...')\n",
    "\n",
    "        print('Creation of a dataframe...')\n",
    "                \n",
    "        df_result['NDVI'] = ndvi_arr\n",
    "        df_result['EVI'] = evi_arr\n",
    "        df_result['NDMI'] = ndmi_arr\n",
    "        df_result['NDWI'] = ndwi_arr\n",
    "        df_result['DSWI'] = dswi_arr\n",
    "\n",
    "        dataframes_results.append(df_result)\n",
    "\n",
    "        print(f\"Difference of empty data for NDVI : {len(empty_parcelles) - df_result['NDVI'].isnull().sum()}\")\n",
    "        print(f\"Difference of empty data for EVI : {len(empty_parcelles) - df_result['EVI'].isnull().sum()}\")\n",
    "        print(f\"Difference of empty data for NDMI : {len(empty_parcelles) - df_result['NDMI'].isnull().sum()}\")\n",
    "        print(f\"Difference of empty data for NDWI : {len(empty_parcelles) - df_result['NDWI'].isnull().sum()}\")\n",
    "        print(f\"Difference of empty data for DSWI : {len(empty_parcelles) - df_result['DSWI'].isnull().sum()}\")\n",
    "\n",
    "    except:\n",
    "        print(f'Opening problem with file part {i+i} ...')\n",
    "    print('Done...')\n",
    "print('Finish...')              "
   ]
  },
  {
   "cell_type": "markdown",
   "metadata": {},
   "source": [
    "Join with the 'n_parts' dataframes ..."
   ]
  },
  {
   "cell_type": "code",
   "execution_count": 220,
   "metadata": {},
   "outputs": [
    {
     "name": "stdout",
     "output_type": "stream",
     "text": [
      "Join n°0 : 115 data copied ...\n",
      "Join n°1 : 120 data copied ...\n",
      "Join n°2 : 100 data copied ...\n",
      "Join n°3 : 105 data copied ...\n",
      "Join n°4 : 120 data copied ...\n",
      "Join n°5 : 110 data copied ...\n",
      "Join n°6 : 110 data copied ...\n",
      "Join n°7 : 130 data copied ...\n"
     ]
    }
   ],
   "source": [
    "nb_lines = len(df_result_base)\n",
    "result_arr = np.empty((nb_lines,5))\n",
    "\n",
    "for i in range(nb_parts):\n",
    "    c=0\n",
    "    arr = np.empty((nb_lines,5))\n",
    "    arr = dataframes_results[i].iloc[:,2:].to_numpy()\n",
    "    for line in range(nb_lines):\n",
    "        for col in range(5):\n",
    "            if str(arr[line][col]) != 'nan':\n",
    "                result_arr[line][col] = copy.copy(arr[line][col])\n",
    "                c+=1\n",
    "    print(f'Join n°{i} : {c} data copied ...')\n",
    "    \n",
    "    "
   ]
  },
  {
   "cell_type": "markdown",
   "metadata": {},
   "source": [
    "Creation of the datafame result :"
   ]
  },
  {
   "cell_type": "code",
   "execution_count": 230,
   "metadata": {},
   "outputs": [
    {
     "data": {
      "text/html": [
       "<div>\n",
       "<style scoped>\n",
       "    .dataframe tbody tr th:only-of-type {\n",
       "        vertical-align: middle;\n",
       "    }\n",
       "\n",
       "    .dataframe tbody tr th {\n",
       "        vertical-align: top;\n",
       "    }\n",
       "\n",
       "    .dataframe thead th {\n",
       "        text-align: right;\n",
       "    }\n",
       "</style>\n",
       "<table border=\"1\" class=\"dataframe\">\n",
       "  <thead>\n",
       "    <tr style=\"text-align: right;\">\n",
       "      <th></th>\n",
       "      <th>PARCELLE</th>\n",
       "      <th>LFI</th>\n",
       "      <th>NDVI</th>\n",
       "      <th>EVI</th>\n",
       "      <th>NDMI</th>\n",
       "      <th>NDWI</th>\n",
       "      <th>DSWI</th>\n",
       "    </tr>\n",
       "  </thead>\n",
       "  <tbody>\n",
       "    <tr>\n",
       "      <th>0</th>\n",
       "      <td>51</td>\n",
       "      <td>LFI4</td>\n",
       "      <td>NaN</td>\n",
       "      <td>NaN</td>\n",
       "      <td>NaN</td>\n",
       "      <td>NaN</td>\n",
       "      <td>NaN</td>\n",
       "    </tr>\n",
       "    <tr>\n",
       "      <th>1</th>\n",
       "      <td>384</td>\n",
       "      <td>LFI4</td>\n",
       "      <td>NaN</td>\n",
       "      <td>NaN</td>\n",
       "      <td>NaN</td>\n",
       "      <td>NaN</td>\n",
       "      <td>NaN</td>\n",
       "    </tr>\n",
       "    <tr>\n",
       "      <th>2</th>\n",
       "      <td>1239</td>\n",
       "      <td>LFI4</td>\n",
       "      <td>NaN</td>\n",
       "      <td>NaN</td>\n",
       "      <td>NaN</td>\n",
       "      <td>NaN</td>\n",
       "      <td>NaN</td>\n",
       "    </tr>\n",
       "    <tr>\n",
       "      <th>3</th>\n",
       "      <td>1419</td>\n",
       "      <td>LFI4</td>\n",
       "      <td>NaN</td>\n",
       "      <td>NaN</td>\n",
       "      <td>NaN</td>\n",
       "      <td>NaN</td>\n",
       "      <td>NaN</td>\n",
       "    </tr>\n",
       "    <tr>\n",
       "      <th>4</th>\n",
       "      <td>1431</td>\n",
       "      <td>LFI4</td>\n",
       "      <td>NaN</td>\n",
       "      <td>NaN</td>\n",
       "      <td>NaN</td>\n",
       "      <td>NaN</td>\n",
       "      <td>NaN</td>\n",
       "    </tr>\n",
       "    <tr>\n",
       "      <th>...</th>\n",
       "      <td>...</td>\n",
       "      <td>...</td>\n",
       "      <td>...</td>\n",
       "      <td>...</td>\n",
       "      <td>...</td>\n",
       "      <td>...</td>\n",
       "      <td>...</td>\n",
       "    </tr>\n",
       "    <tr>\n",
       "      <th>2398</th>\n",
       "      <td>164918</td>\n",
       "      <td>LFI4</td>\n",
       "      <td>NaN</td>\n",
       "      <td>NaN</td>\n",
       "      <td>NaN</td>\n",
       "      <td>NaN</td>\n",
       "      <td>NaN</td>\n",
       "    </tr>\n",
       "    <tr>\n",
       "      <th>2399</th>\n",
       "      <td>164922</td>\n",
       "      <td>LFI4</td>\n",
       "      <td>NaN</td>\n",
       "      <td>NaN</td>\n",
       "      <td>NaN</td>\n",
       "      <td>NaN</td>\n",
       "      <td>NaN</td>\n",
       "    </tr>\n",
       "    <tr>\n",
       "      <th>2400</th>\n",
       "      <td>164999</td>\n",
       "      <td>LFI4</td>\n",
       "      <td>NaN</td>\n",
       "      <td>NaN</td>\n",
       "      <td>NaN</td>\n",
       "      <td>NaN</td>\n",
       "      <td>NaN</td>\n",
       "    </tr>\n",
       "    <tr>\n",
       "      <th>2401</th>\n",
       "      <td>165003</td>\n",
       "      <td>LFI4</td>\n",
       "      <td>NaN</td>\n",
       "      <td>NaN</td>\n",
       "      <td>NaN</td>\n",
       "      <td>NaN</td>\n",
       "      <td>NaN</td>\n",
       "    </tr>\n",
       "    <tr>\n",
       "      <th>2402</th>\n",
       "      <td>165065</td>\n",
       "      <td>LFI4</td>\n",
       "      <td>NaN</td>\n",
       "      <td>NaN</td>\n",
       "      <td>NaN</td>\n",
       "      <td>NaN</td>\n",
       "      <td>NaN</td>\n",
       "    </tr>\n",
       "  </tbody>\n",
       "</table>\n",
       "<p>2403 rows × 7 columns</p>\n",
       "</div>"
      ],
      "text/plain": [
       "      PARCELLE   LFI  NDVI  EVI  NDMI  NDWI  DSWI\n",
       "0           51  LFI4   NaN  NaN   NaN   NaN   NaN\n",
       "1          384  LFI4   NaN  NaN   NaN   NaN   NaN\n",
       "2         1239  LFI4   NaN  NaN   NaN   NaN   NaN\n",
       "3         1419  LFI4   NaN  NaN   NaN   NaN   NaN\n",
       "4         1431  LFI4   NaN  NaN   NaN   NaN   NaN\n",
       "...        ...   ...   ...  ...   ...   ...   ...\n",
       "2398    164918  LFI4   NaN  NaN   NaN   NaN   NaN\n",
       "2399    164922  LFI4   NaN  NaN   NaN   NaN   NaN\n",
       "2400    164999  LFI4   NaN  NaN   NaN   NaN   NaN\n",
       "2401    165003  LFI4   NaN  NaN   NaN   NaN   NaN\n",
       "2402    165065  LFI4   NaN  NaN   NaN   NaN   NaN\n",
       "\n",
       "[2403 rows x 7 columns]"
      ]
     },
     "execution_count": 230,
     "metadata": {},
     "output_type": "execute_result"
    }
   ],
   "source": [
    "df_result = copy.copy(df_result_base)\n",
    "df_result[['NDVI','EVI','NDMI','NDWI','DSWI']] = result_arr\n",
    "df_result"
   ]
  },
  {
   "cell_type": "markdown",
   "metadata": {},
   "source": [
    "Test with a parcelle :"
   ]
  },
  {
   "cell_type": "code",
   "execution_count": 231,
   "metadata": {},
   "outputs": [
    {
     "data": {
      "text/html": [
       "<div>\n",
       "<style scoped>\n",
       "    .dataframe tbody tr th:only-of-type {\n",
       "        vertical-align: middle;\n",
       "    }\n",
       "\n",
       "    .dataframe tbody tr th {\n",
       "        vertical-align: top;\n",
       "    }\n",
       "\n",
       "    .dataframe thead th {\n",
       "        text-align: right;\n",
       "    }\n",
       "</style>\n",
       "<table border=\"1\" class=\"dataframe\">\n",
       "  <thead>\n",
       "    <tr style=\"text-align: right;\">\n",
       "      <th></th>\n",
       "      <th>PARCELLE</th>\n",
       "      <th>LFI</th>\n",
       "      <th>NDVI</th>\n",
       "      <th>EVI</th>\n",
       "      <th>NDMI</th>\n",
       "      <th>NDWI</th>\n",
       "      <th>DSWI</th>\n",
       "    </tr>\n",
       "  </thead>\n",
       "  <tbody>\n",
       "    <tr>\n",
       "      <th>37</th>\n",
       "      <td>12298</td>\n",
       "      <td>LFI4</td>\n",
       "      <td>0.1773</td>\n",
       "      <td>-0.0027</td>\n",
       "      <td>0.0684</td>\n",
       "      <td>-0.1201</td>\n",
       "      <td>0.1701</td>\n",
       "    </tr>\n",
       "  </tbody>\n",
       "</table>\n",
       "</div>"
      ],
      "text/plain": [
       "    PARCELLE   LFI    NDVI     EVI    NDMI    NDWI    DSWI\n",
       "37     12298  LFI4  0.1773 -0.0027  0.0684 -0.1201  0.1701"
      ]
     },
     "execution_count": 231,
     "metadata": {},
     "output_type": "execute_result"
    }
   ],
   "source": [
    "df_result.loc[df_result['PARCELLE']==12298,:]"
   ]
  },
  {
   "attachments": {},
   "cell_type": "markdown",
   "metadata": {},
   "source": [
    "Final export :"
   ]
  },
  {
   "cell_type": "code",
   "execution_count": 232,
   "metadata": {},
   "outputs": [],
   "source": [
    "df_result.to_excel(f'./DATA_aggregated/Data_from_satellites_images_{LFI_name}.xlsx')"
   ]
  }
 ],
 "metadata": {
  "kernelspec": {
   "display_name": "Python 3.9.13 ('base')",
   "language": "python",
   "name": "python3"
  },
  "language_info": {
   "codemirror_mode": {
    "name": "ipython",
    "version": 3
   },
   "file_extension": ".py",
   "mimetype": "text/x-python",
   "name": "python",
   "nbconvert_exporter": "python",
   "pygments_lexer": "ipython3",
   "version": "3.9.13 (main, Aug 25 2022, 23:51:50) [MSC v.1916 64 bit (AMD64)]"
  },
  "orig_nbformat": 4,
  "vscode": {
   "interpreter": {
    "hash": "1cca9558bc5ad879ec93cc030b157d75f18267527c60932cecaace349eef54dd"
   }
  }
 },
 "nbformat": 4,
 "nbformat_minor": 2
}
