{
 "cells": [
  {
   "attachments": {},
   "cell_type": "markdown",
   "metadata": {},
   "source": [
    "### DATA MANAGEMENT / 4"
   ]
  },
  {
   "attachments": {},
   "cell_type": "markdown",
   "metadata": {},
   "source": [
    "This i a base script to concatenate differents parts of satellite data... This step takes place after the data collection and aggreagation...\n",
    "First, processing on sattelite images probably take several steps (with differents parts for differents problematics plots) and we need to assembly theses.\n",
    "Then, we have 4 differents xlsx files (for our 4 local machines...) and we just want to build one file, merged with others data types (IFN, meteo...)"
   ]
  },
  {
   "cell_type": "code",
   "execution_count": 1,
   "metadata": {},
   "outputs": [],
   "source": [
    "import pandas as pd\n",
    "import numpy as np\n",
    "import copy"
   ]
  },
  {
   "attachments": {},
   "cell_type": "markdown",
   "metadata": {},
   "source": [
    "FIRST USAGE / CONCENATION OF DIFFERENTS PARTS OF A DATAFRAME WITH SAME LFI :"
   ]
  },
  {
   "cell_type": "code",
   "execution_count": 2,
   "metadata": {},
   "outputs": [],
   "source": [
    "nb_parts = 3 #nb dataframes you have to join\n",
    "\n",
    "LFI_name = 'LFI1'"
   ]
  },
  {
   "cell_type": "code",
   "execution_count": 3,
   "metadata": {},
   "outputs": [],
   "source": [
    "dataframes_results =[]\n",
    "dataframes_results.append(pd.read_excel('DATA_SAT_aggregated/Data_from_satellites_images_LFI1.xlsx').drop('Unnamed: 0', axis=1))\n",
    "dataframes_results.append(pd.read_excel('DATA_SAT_aggregated/Data_from_satellites_images_LFI1_pb1.xlsx').drop('Unnamed: 0', axis=1))\n",
    "dataframes_results.append(pd.read_excel('DATA_SAT_aggregated/Data_from_satellites_images_LFI1_pb2.xlsx').drop('Unnamed: 0', axis=1))"
   ]
  },
  {
   "cell_type": "code",
   "execution_count": 4,
   "metadata": {},
   "outputs": [],
   "source": [
    "df_result_base = dataframes_results[0][['PARCELLE','LFI']]"
   ]
  },
  {
   "cell_type": "code",
   "execution_count": 5,
   "metadata": {},
   "outputs": [
    {
     "data": {
      "text/html": [
       "<div>\n",
       "<style scoped>\n",
       "    .dataframe tbody tr th:only-of-type {\n",
       "        vertical-align: middle;\n",
       "    }\n",
       "\n",
       "    .dataframe tbody tr th {\n",
       "        vertical-align: top;\n",
       "    }\n",
       "\n",
       "    .dataframe thead th {\n",
       "        text-align: right;\n",
       "    }\n",
       "</style>\n",
       "<table border=\"1\" class=\"dataframe\">\n",
       "  <thead>\n",
       "    <tr style=\"text-align: right;\">\n",
       "      <th></th>\n",
       "      <th>PARCELLE</th>\n",
       "      <th>LFI</th>\n",
       "      <th>NDVI</th>\n",
       "      <th>EVI</th>\n",
       "      <th>NDMI</th>\n",
       "      <th>NDWI</th>\n",
       "      <th>DSWI</th>\n",
       "    </tr>\n",
       "  </thead>\n",
       "  <tbody>\n",
       "    <tr>\n",
       "      <th>0</th>\n",
       "      <td>51</td>\n",
       "      <td>LFI1</td>\n",
       "      <td>0.3779</td>\n",
       "      <td>0.0146</td>\n",
       "      <td>0.2264</td>\n",
       "      <td>-0.3325</td>\n",
       "      <td>0.4705</td>\n",
       "    </tr>\n",
       "    <tr>\n",
       "      <th>1</th>\n",
       "      <td>384</td>\n",
       "      <td>LFI1</td>\n",
       "      <td>0.2861</td>\n",
       "      <td>0.0071</td>\n",
       "      <td>0.3293</td>\n",
       "      <td>-0.2327</td>\n",
       "      <td>0.3518</td>\n",
       "    </tr>\n",
       "    <tr>\n",
       "      <th>2</th>\n",
       "      <td>1239</td>\n",
       "      <td>LFI1</td>\n",
       "      <td>0.6749</td>\n",
       "      <td>0.0219</td>\n",
       "      <td>0.2021</td>\n",
       "      <td>-0.5865</td>\n",
       "      <td>0.8626</td>\n",
       "    </tr>\n",
       "    <tr>\n",
       "      <th>3</th>\n",
       "      <td>1419</td>\n",
       "      <td>LFI1</td>\n",
       "      <td>0.6092</td>\n",
       "      <td>0.0201</td>\n",
       "      <td>0.1112</td>\n",
       "      <td>-0.5143</td>\n",
       "      <td>0.6521</td>\n",
       "    </tr>\n",
       "    <tr>\n",
       "      <th>4</th>\n",
       "      <td>1431</td>\n",
       "      <td>LFI1</td>\n",
       "      <td>0.7039</td>\n",
       "      <td>0.0245</td>\n",
       "      <td>0.1949</td>\n",
       "      <td>-0.5983</td>\n",
       "      <td>0.8834</td>\n",
       "    </tr>\n",
       "    <tr>\n",
       "      <th>...</th>\n",
       "      <td>...</td>\n",
       "      <td>...</td>\n",
       "      <td>...</td>\n",
       "      <td>...</td>\n",
       "      <td>...</td>\n",
       "      <td>...</td>\n",
       "      <td>...</td>\n",
       "    </tr>\n",
       "    <tr>\n",
       "      <th>2398</th>\n",
       "      <td>164918</td>\n",
       "      <td>LFI1</td>\n",
       "      <td>0.6280</td>\n",
       "      <td>0.0208</td>\n",
       "      <td>0.1838</td>\n",
       "      <td>-0.5329</td>\n",
       "      <td>0.7604</td>\n",
       "    </tr>\n",
       "    <tr>\n",
       "      <th>2399</th>\n",
       "      <td>164922</td>\n",
       "      <td>LFI1</td>\n",
       "      <td>0.6796</td>\n",
       "      <td>0.0253</td>\n",
       "      <td>0.2015</td>\n",
       "      <td>-0.5812</td>\n",
       "      <td>0.8639</td>\n",
       "    </tr>\n",
       "    <tr>\n",
       "      <th>2400</th>\n",
       "      <td>164999</td>\n",
       "      <td>LFI1</td>\n",
       "      <td>0.6270</td>\n",
       "      <td>0.0211</td>\n",
       "      <td>0.1165</td>\n",
       "      <td>-0.5465</td>\n",
       "      <td>0.6925</td>\n",
       "    </tr>\n",
       "    <tr>\n",
       "      <th>2401</th>\n",
       "      <td>165003</td>\n",
       "      <td>LFI1</td>\n",
       "      <td>0.6385</td>\n",
       "      <td>0.0184</td>\n",
       "      <td>0.2485</td>\n",
       "      <td>-0.5291</td>\n",
       "      <td>0.8416</td>\n",
       "    </tr>\n",
       "    <tr>\n",
       "      <th>2402</th>\n",
       "      <td>165065</td>\n",
       "      <td>LFI1</td>\n",
       "      <td>0.6815</td>\n",
       "      <td>0.0224</td>\n",
       "      <td>0.2499</td>\n",
       "      <td>-0.5828</td>\n",
       "      <td>0.9330</td>\n",
       "    </tr>\n",
       "  </tbody>\n",
       "</table>\n",
       "<p>2403 rows × 7 columns</p>\n",
       "</div>"
      ],
      "text/plain": [
       "      PARCELLE   LFI    NDVI     EVI    NDMI    NDWI    DSWI\n",
       "0           51  LFI1  0.3779  0.0146  0.2264 -0.3325  0.4705\n",
       "1          384  LFI1  0.2861  0.0071  0.3293 -0.2327  0.3518\n",
       "2         1239  LFI1  0.6749  0.0219  0.2021 -0.5865  0.8626\n",
       "3         1419  LFI1  0.6092  0.0201  0.1112 -0.5143  0.6521\n",
       "4         1431  LFI1  0.7039  0.0245  0.1949 -0.5983  0.8834\n",
       "...        ...   ...     ...     ...     ...     ...     ...\n",
       "2398    164918  LFI1  0.6280  0.0208  0.1838 -0.5329  0.7604\n",
       "2399    164922  LFI1  0.6796  0.0253  0.2015 -0.5812  0.8639\n",
       "2400    164999  LFI1  0.6270  0.0211  0.1165 -0.5465  0.6925\n",
       "2401    165003  LFI1  0.6385  0.0184  0.2485 -0.5291  0.8416\n",
       "2402    165065  LFI1  0.6815  0.0224  0.2499 -0.5828  0.9330\n",
       "\n",
       "[2403 rows x 7 columns]"
      ]
     },
     "execution_count": 5,
     "metadata": {},
     "output_type": "execute_result"
    }
   ],
   "source": [
    "dataframes_results[0]"
   ]
  },
  {
   "attachments": {},
   "cell_type": "markdown",
   "metadata": {},
   "source": [
    "All the parts of a LFI campaign file have 2403 rows (it's due to the automation of the script wich have maked the aggregation of each list of satellite data...) So, we have a problem to assemble them, because we have to write a new value taken from a second file just if we have a empty value in the first file..."
   ]
  },
  {
   "attachments": {},
   "cell_type": "markdown",
   "metadata": {},
   "source": [
    "We need to build a loop to do this:"
   ]
  },
  {
   "cell_type": "code",
   "execution_count": 6,
   "metadata": {},
   "outputs": [
    {
     "name": "stdout",
     "output_type": "stream",
     "text": [
      "Join n°0 : 11785 data copied ...\n",
      "Join n°1 : 210 data copied ...\n",
      "Join n°2 : 20 data copied ...\n"
     ]
    }
   ],
   "source": [
    "nb_lines = len(df_result_base)\n",
    "result_arr = np.empty((nb_lines,5)) # we create an empty numpy matrix to stock all results\n",
    "\n",
    "for i in range(nb_parts):\n",
    "    c=0\n",
    "    arr = np.empty((nb_lines,5))\n",
    "    arr = dataframes_results[i].iloc[:,2:].to_numpy()\n",
    "    for line in range(nb_lines):\n",
    "        for col in range(5):\n",
    "            if str(arr[line][col]) != 'nan':\n",
    "                result_arr[line][col] = copy.copy(arr[line][col])\n",
    "                c+=1\n",
    "    print(f'Join n°{i} : {c} data copied ...')"
   ]
  },
  {
   "attachments": {},
   "cell_type": "markdown",
   "metadata": {},
   "source": [
    "Conversion of the results in a dataframe :"
   ]
  },
  {
   "cell_type": "code",
   "execution_count": 7,
   "metadata": {},
   "outputs": [
    {
     "data": {
      "text/html": [
       "<div>\n",
       "<style scoped>\n",
       "    .dataframe tbody tr th:only-of-type {\n",
       "        vertical-align: middle;\n",
       "    }\n",
       "\n",
       "    .dataframe tbody tr th {\n",
       "        vertical-align: top;\n",
       "    }\n",
       "\n",
       "    .dataframe thead th {\n",
       "        text-align: right;\n",
       "    }\n",
       "</style>\n",
       "<table border=\"1\" class=\"dataframe\">\n",
       "  <thead>\n",
       "    <tr style=\"text-align: right;\">\n",
       "      <th></th>\n",
       "      <th>PARCELLE</th>\n",
       "      <th>LFI</th>\n",
       "      <th>NDVI</th>\n",
       "      <th>EVI</th>\n",
       "      <th>NDMI</th>\n",
       "      <th>NDWI</th>\n",
       "      <th>DSWI</th>\n",
       "    </tr>\n",
       "  </thead>\n",
       "  <tbody>\n",
       "    <tr>\n",
       "      <th>0</th>\n",
       "      <td>51</td>\n",
       "      <td>LFI1</td>\n",
       "      <td>0.3779</td>\n",
       "      <td>0.0146</td>\n",
       "      <td>0.2264</td>\n",
       "      <td>-0.3325</td>\n",
       "      <td>0.4705</td>\n",
       "    </tr>\n",
       "    <tr>\n",
       "      <th>1</th>\n",
       "      <td>384</td>\n",
       "      <td>LFI1</td>\n",
       "      <td>0.2861</td>\n",
       "      <td>0.0071</td>\n",
       "      <td>0.3293</td>\n",
       "      <td>-0.2327</td>\n",
       "      <td>0.3518</td>\n",
       "    </tr>\n",
       "    <tr>\n",
       "      <th>2</th>\n",
       "      <td>1239</td>\n",
       "      <td>LFI1</td>\n",
       "      <td>0.6749</td>\n",
       "      <td>0.0219</td>\n",
       "      <td>0.2021</td>\n",
       "      <td>-0.5865</td>\n",
       "      <td>0.8626</td>\n",
       "    </tr>\n",
       "    <tr>\n",
       "      <th>3</th>\n",
       "      <td>1419</td>\n",
       "      <td>LFI1</td>\n",
       "      <td>0.6092</td>\n",
       "      <td>0.0201</td>\n",
       "      <td>0.1112</td>\n",
       "      <td>-0.5143</td>\n",
       "      <td>0.6521</td>\n",
       "    </tr>\n",
       "    <tr>\n",
       "      <th>4</th>\n",
       "      <td>1431</td>\n",
       "      <td>LFI1</td>\n",
       "      <td>0.7039</td>\n",
       "      <td>0.0245</td>\n",
       "      <td>0.1949</td>\n",
       "      <td>-0.5983</td>\n",
       "      <td>0.8834</td>\n",
       "    </tr>\n",
       "    <tr>\n",
       "      <th>...</th>\n",
       "      <td>...</td>\n",
       "      <td>...</td>\n",
       "      <td>...</td>\n",
       "      <td>...</td>\n",
       "      <td>...</td>\n",
       "      <td>...</td>\n",
       "      <td>...</td>\n",
       "    </tr>\n",
       "    <tr>\n",
       "      <th>2398</th>\n",
       "      <td>164918</td>\n",
       "      <td>LFI1</td>\n",
       "      <td>0.6280</td>\n",
       "      <td>0.0208</td>\n",
       "      <td>0.1838</td>\n",
       "      <td>-0.5329</td>\n",
       "      <td>0.7604</td>\n",
       "    </tr>\n",
       "    <tr>\n",
       "      <th>2399</th>\n",
       "      <td>164922</td>\n",
       "      <td>LFI1</td>\n",
       "      <td>0.6796</td>\n",
       "      <td>0.0253</td>\n",
       "      <td>0.2015</td>\n",
       "      <td>-0.5812</td>\n",
       "      <td>0.8639</td>\n",
       "    </tr>\n",
       "    <tr>\n",
       "      <th>2400</th>\n",
       "      <td>164999</td>\n",
       "      <td>LFI1</td>\n",
       "      <td>0.6270</td>\n",
       "      <td>0.0211</td>\n",
       "      <td>0.1165</td>\n",
       "      <td>-0.5465</td>\n",
       "      <td>0.6925</td>\n",
       "    </tr>\n",
       "    <tr>\n",
       "      <th>2401</th>\n",
       "      <td>165003</td>\n",
       "      <td>LFI1</td>\n",
       "      <td>0.6385</td>\n",
       "      <td>0.0184</td>\n",
       "      <td>0.2485</td>\n",
       "      <td>-0.5291</td>\n",
       "      <td>0.8416</td>\n",
       "    </tr>\n",
       "    <tr>\n",
       "      <th>2402</th>\n",
       "      <td>165065</td>\n",
       "      <td>LFI1</td>\n",
       "      <td>0.6815</td>\n",
       "      <td>0.0224</td>\n",
       "      <td>0.2499</td>\n",
       "      <td>-0.5828</td>\n",
       "      <td>0.9330</td>\n",
       "    </tr>\n",
       "  </tbody>\n",
       "</table>\n",
       "<p>2403 rows × 7 columns</p>\n",
       "</div>"
      ],
      "text/plain": [
       "      PARCELLE   LFI    NDVI     EVI    NDMI    NDWI    DSWI\n",
       "0           51  LFI1  0.3779  0.0146  0.2264 -0.3325  0.4705\n",
       "1          384  LFI1  0.2861  0.0071  0.3293 -0.2327  0.3518\n",
       "2         1239  LFI1  0.6749  0.0219  0.2021 -0.5865  0.8626\n",
       "3         1419  LFI1  0.6092  0.0201  0.1112 -0.5143  0.6521\n",
       "4         1431  LFI1  0.7039  0.0245  0.1949 -0.5983  0.8834\n",
       "...        ...   ...     ...     ...     ...     ...     ...\n",
       "2398    164918  LFI1  0.6280  0.0208  0.1838 -0.5329  0.7604\n",
       "2399    164922  LFI1  0.6796  0.0253  0.2015 -0.5812  0.8639\n",
       "2400    164999  LFI1  0.6270  0.0211  0.1165 -0.5465  0.6925\n",
       "2401    165003  LFI1  0.6385  0.0184  0.2485 -0.5291  0.8416\n",
       "2402    165065  LFI1  0.6815  0.0224  0.2499 -0.5828  0.9330\n",
       "\n",
       "[2403 rows x 7 columns]"
      ]
     },
     "execution_count": 7,
     "metadata": {},
     "output_type": "execute_result"
    }
   ],
   "source": [
    "df_result = copy.copy(df_result_base)\n",
    "df_result[['NDVI','EVI','NDMI','NDWI','DSWI']] = result_arr\n",
    "df_result"
   ]
  },
  {
   "attachments": {},
   "cell_type": "markdown",
   "metadata": {},
   "source": [
    "Missing values ?"
   ]
  },
  {
   "cell_type": "code",
   "execution_count": 8,
   "metadata": {},
   "outputs": [
    {
     "data": {
      "text/plain": [
       "0"
      ]
     },
     "execution_count": 8,
     "metadata": {},
     "output_type": "execute_result"
    }
   ],
   "source": [
    "df_result['NDVI'].isnull().sum()"
   ]
  },
  {
   "attachments": {},
   "cell_type": "markdown",
   "metadata": {},
   "source": [
    "It's ok"
   ]
  },
  {
   "attachments": {},
   "cell_type": "markdown",
   "metadata": {},
   "source": [
    "We can export it :"
   ]
  },
  {
   "cell_type": "code",
   "execution_count": 9,
   "metadata": {},
   "outputs": [],
   "source": [
    "df_result.to_excel(f'./DATA_SAT_aggregated/Data_from_satellites_images_{LFI_name}_total.xlsx')"
   ]
  },
  {
   "cell_type": "markdown",
   "metadata": {},
   "source": [
    "--------------"
   ]
  },
  {
   "attachments": {},
   "cell_type": "markdown",
   "metadata": {},
   "source": [
    "SECOND USAGE / CONCATENATION OF ALL DATAFRAMES FROM DIFFERENTS LFI :"
   ]
  },
  {
   "attachments": {},
   "cell_type": "markdown",
   "metadata": {},
   "source": [
    "After assembling all the files for each campaign, we need to assemble all the files, from our 4 local machines... It's easier..."
   ]
  },
  {
   "cell_type": "code",
   "execution_count": 15,
   "metadata": {},
   "outputs": [],
   "source": [
    "data_1 = pd.read_excel('DATA_SAT_aggregated/Data_from_satellites_images_LFI1.xlsx').drop('Unnamed: 0', axis=1)\n",
    "data_2 = pd.read_excel('DATA_SAT_aggregated/Data_from_satellites_images_LFI2.xlsx').drop('Unnamed: 0', axis=1)\n",
    "data_3 = pd.read_excel('DATA_SAT_aggregated/Data_from_satellites_images_LFI3.xlsx').drop('Unnamed: 0', axis=1)\n",
    "data_4 = pd.read_excel('DATA_SAT_aggregated/Data_from_satellites_images_LFI4.xlsx').drop('Unnamed: 0', axis=1)"
   ]
  },
  {
   "cell_type": "code",
   "execution_count": 18,
   "metadata": {},
   "outputs": [],
   "source": [
    "data_concate = pd.concat([data_1, data_2, data_3, data_4], axis=0)"
   ]
  },
  {
   "cell_type": "code",
   "execution_count": 19,
   "metadata": {},
   "outputs": [
    {
     "data": {
      "text/html": [
       "<div>\n",
       "<style scoped>\n",
       "    .dataframe tbody tr th:only-of-type {\n",
       "        vertical-align: middle;\n",
       "    }\n",
       "\n",
       "    .dataframe tbody tr th {\n",
       "        vertical-align: top;\n",
       "    }\n",
       "\n",
       "    .dataframe thead th {\n",
       "        text-align: right;\n",
       "    }\n",
       "</style>\n",
       "<table border=\"1\" class=\"dataframe\">\n",
       "  <thead>\n",
       "    <tr style=\"text-align: right;\">\n",
       "      <th></th>\n",
       "      <th>PARCELLE</th>\n",
       "      <th>LFI</th>\n",
       "      <th>NDVI</th>\n",
       "      <th>EVI</th>\n",
       "      <th>NDMI</th>\n",
       "      <th>NDWI</th>\n",
       "      <th>DSWI</th>\n",
       "    </tr>\n",
       "  </thead>\n",
       "  <tbody>\n",
       "    <tr>\n",
       "      <th>0</th>\n",
       "      <td>51</td>\n",
       "      <td>LFI1</td>\n",
       "      <td>0.3779</td>\n",
       "      <td>0.0146</td>\n",
       "      <td>0.2264</td>\n",
       "      <td>-0.3325</td>\n",
       "      <td>0.4705</td>\n",
       "    </tr>\n",
       "    <tr>\n",
       "      <th>1</th>\n",
       "      <td>384</td>\n",
       "      <td>LFI1</td>\n",
       "      <td>0.2861</td>\n",
       "      <td>0.0071</td>\n",
       "      <td>0.3293</td>\n",
       "      <td>-0.2327</td>\n",
       "      <td>0.3518</td>\n",
       "    </tr>\n",
       "    <tr>\n",
       "      <th>2</th>\n",
       "      <td>1239</td>\n",
       "      <td>LFI1</td>\n",
       "      <td>0.6749</td>\n",
       "      <td>0.0219</td>\n",
       "      <td>0.2021</td>\n",
       "      <td>-0.5865</td>\n",
       "      <td>0.8626</td>\n",
       "    </tr>\n",
       "    <tr>\n",
       "      <th>3</th>\n",
       "      <td>1419</td>\n",
       "      <td>LFI1</td>\n",
       "      <td>0.6092</td>\n",
       "      <td>0.0201</td>\n",
       "      <td>0.1112</td>\n",
       "      <td>-0.5143</td>\n",
       "      <td>0.6521</td>\n",
       "    </tr>\n",
       "    <tr>\n",
       "      <th>4</th>\n",
       "      <td>1431</td>\n",
       "      <td>LFI1</td>\n",
       "      <td>0.7039</td>\n",
       "      <td>0.0245</td>\n",
       "      <td>0.1949</td>\n",
       "      <td>-0.5983</td>\n",
       "      <td>0.8834</td>\n",
       "    </tr>\n",
       "    <tr>\n",
       "      <th>...</th>\n",
       "      <td>...</td>\n",
       "      <td>...</td>\n",
       "      <td>...</td>\n",
       "      <td>...</td>\n",
       "      <td>...</td>\n",
       "      <td>...</td>\n",
       "      <td>...</td>\n",
       "    </tr>\n",
       "    <tr>\n",
       "      <th>2398</th>\n",
       "      <td>164918</td>\n",
       "      <td>LFI4</td>\n",
       "      <td>0.5786</td>\n",
       "      <td>0.0179</td>\n",
       "      <td>0.3073</td>\n",
       "      <td>-0.4821</td>\n",
       "      <td>0.8203</td>\n",
       "    </tr>\n",
       "    <tr>\n",
       "      <th>2399</th>\n",
       "      <td>164922</td>\n",
       "      <td>LFI4</td>\n",
       "      <td>0.4165</td>\n",
       "      <td>0.0162</td>\n",
       "      <td>0.2601</td>\n",
       "      <td>-0.3596</td>\n",
       "      <td>0.5811</td>\n",
       "    </tr>\n",
       "    <tr>\n",
       "      <th>2400</th>\n",
       "      <td>164999</td>\n",
       "      <td>LFI4</td>\n",
       "      <td>0.3737</td>\n",
       "      <td>0.0144</td>\n",
       "      <td>0.0118</td>\n",
       "      <td>-0.2744</td>\n",
       "      <td>0.3005</td>\n",
       "    </tr>\n",
       "    <tr>\n",
       "      <th>2401</th>\n",
       "      <td>165003</td>\n",
       "      <td>LFI4</td>\n",
       "      <td>-0.0614</td>\n",
       "      <td>-0.0075</td>\n",
       "      <td>0.1396</td>\n",
       "      <td>0.0614</td>\n",
       "      <td>-0.0693</td>\n",
       "    </tr>\n",
       "    <tr>\n",
       "      <th>2402</th>\n",
       "      <td>165065</td>\n",
       "      <td>LFI4</td>\n",
       "      <td>-0.1602</td>\n",
       "      <td>-0.0119</td>\n",
       "      <td>0.0199</td>\n",
       "      <td>0.1521</td>\n",
       "      <td>-0.1549</td>\n",
       "    </tr>\n",
       "  </tbody>\n",
       "</table>\n",
       "<p>9612 rows × 7 columns</p>\n",
       "</div>"
      ],
      "text/plain": [
       "      PARCELLE   LFI    NDVI     EVI    NDMI    NDWI    DSWI\n",
       "0           51  LFI1  0.3779  0.0146  0.2264 -0.3325  0.4705\n",
       "1          384  LFI1  0.2861  0.0071  0.3293 -0.2327  0.3518\n",
       "2         1239  LFI1  0.6749  0.0219  0.2021 -0.5865  0.8626\n",
       "3         1419  LFI1  0.6092  0.0201  0.1112 -0.5143  0.6521\n",
       "4         1431  LFI1  0.7039  0.0245  0.1949 -0.5983  0.8834\n",
       "...        ...   ...     ...     ...     ...     ...     ...\n",
       "2398    164918  LFI4  0.5786  0.0179  0.3073 -0.4821  0.8203\n",
       "2399    164922  LFI4  0.4165  0.0162  0.2601 -0.3596  0.5811\n",
       "2400    164999  LFI4  0.3737  0.0144  0.0118 -0.2744  0.3005\n",
       "2401    165003  LFI4 -0.0614 -0.0075  0.1396  0.0614 -0.0693\n",
       "2402    165065  LFI4 -0.1602 -0.0119  0.0199  0.1521 -0.1549\n",
       "\n",
       "[9612 rows x 7 columns]"
      ]
     },
     "execution_count": 19,
     "metadata": {},
     "output_type": "execute_result"
    }
   ],
   "source": [
    "data_concate"
   ]
  },
  {
   "cell_type": "code",
   "execution_count": 24,
   "metadata": {},
   "outputs": [],
   "source": [
    "big_data = pd.read_excel('DATA_preprocess_EDA_base/big_merge_V2_meteo.xlsx', sheet_name='Sheet1').drop('Unnamed: 0', axis=1)"
   ]
  },
  {
   "cell_type": "code",
   "execution_count": 25,
   "metadata": {},
   "outputs": [],
   "source": [
    "big_data = big_data.merge(data_concate, how='outer', on=['PARCELLE','LFI'])"
   ]
  },
  {
   "attachments": {},
   "cell_type": "markdown",
   "metadata": {},
   "source": [
    "Export :"
   ]
  },
  {
   "cell_type": "code",
   "execution_count": 27,
   "metadata": {},
   "outputs": [],
   "source": [
    "big_data.to_excel('DATA_preprocess_EDA_base/big_merge_V2_meteo_SAT.xlsx')"
   ]
  }
 ],
 "metadata": {
  "kernelspec": {
   "display_name": "Python 3.9.13 ('base')",
   "language": "python",
   "name": "python3"
  },
  "language_info": {
   "codemirror_mode": {
    "name": "ipython",
    "version": 3
   },
   "file_extension": ".py",
   "mimetype": "text/x-python",
   "name": "python",
   "nbconvert_exporter": "python",
   "pygments_lexer": "ipython3",
   "version": "3.9.13 (main, Aug 25 2022, 23:51:50) [MSC v.1916 64 bit (AMD64)]"
  },
  "orig_nbformat": 4,
  "vscode": {
   "interpreter": {
    "hash": "1cca9558bc5ad879ec93cc030b157d75f18267527c60932cecaace349eef54dd"
   }
  }
 },
 "nbformat": 4,
 "nbformat_minor": 2
}
