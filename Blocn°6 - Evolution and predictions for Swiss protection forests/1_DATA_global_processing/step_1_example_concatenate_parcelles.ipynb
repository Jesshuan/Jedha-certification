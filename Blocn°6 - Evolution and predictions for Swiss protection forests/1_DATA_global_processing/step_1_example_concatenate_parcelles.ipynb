{
 "cells": [
  {
   "attachments": {},
   "cell_type": "markdown",
   "metadata": {},
   "source": [
    "### DATA MANAGEMENT / 1"
   ]
  },
  {
   "attachments": {},
   "cell_type": "markdown",
   "metadata": {},
   "source": [
    "An example of the first concatenations...\n",
    "\n",
    "IFN Data contained four different files :\n",
    "- [forest plots](PLOTDATEN_FRENCH_V2.xlsx) (main file with coordinates, each plot have an ID)\n",
    "- [trees](BAUMDATEN_FRENCH_V2.xlsx) of each plots (with ID to link each tree to its plot)\n",
    "- [forests's growth](ZUWACHS_FRENCH.xlsx) (with ID to link each data to its plot)\n",
    "- [forests's mortality](NUTZUNG-MORTALITÄT_FRENCH.xlsx) (with ID to link each data to its plot)"
   ]
  },
  {
   "attachments": {},
   "cell_type": "markdown",
   "metadata": {},
   "source": [
    "And each file contained four sheets for each parcel census campaign (LFI1, LFI2, etc... )"
   ]
  },
  {
   "attachments": {},
   "cell_type": "markdown",
   "metadata": {},
   "source": [
    "So, first thing to do was to concatenate each file, for the four campaign..."
   ]
  },
  {
   "cell_type": "code",
   "execution_count": 1,
   "metadata": {},
   "outputs": [],
   "source": [
    "import pandas as pd\n",
    "import plotly.express as px"
   ]
  },
  {
   "cell_type": "code",
   "execution_count": 3,
   "metadata": {},
   "outputs": [],
   "source": [
    "data_parc_1 = pd.read_excel('./data_IFN_init_fr/PLOTDATEN_FRENCH_V2.xlsx', sheet_name='LFI1')"
   ]
  },
  {
   "cell_type": "code",
   "execution_count": 4,
   "metadata": {},
   "outputs": [
    {
     "data": {
      "text/plain": [
       "2403"
      ]
     },
     "execution_count": 4,
     "metadata": {},
     "output_type": "execute_result"
    }
   ],
   "source": [
    "len(data_parc_1)"
   ]
  },
  {
   "attachments": {},
   "cell_type": "markdown",
   "metadata": {},
   "source": [
    "Renaming \"LFI\" to indentify each campaign file :"
   ]
  },
  {
   "cell_type": "code",
   "execution_count": 5,
   "metadata": {},
   "outputs": [],
   "source": [
    "data_parc_1['LFI']='LFI1'"
   ]
  },
  {
   "attachments": {},
   "cell_type": "markdown",
   "metadata": {},
   "source": [
    "Verifying start and end dates :"
   ]
  },
  {
   "cell_type": "code",
   "execution_count": 6,
   "metadata": {},
   "outputs": [
    {
     "data": {
      "text/plain": [
       "Timestamp('1983-03-15 00:00:00')"
      ]
     },
     "execution_count": 6,
     "metadata": {},
     "output_type": "execute_result"
    }
   ],
   "source": [
    "data_parc_1['DATE'].min()"
   ]
  },
  {
   "cell_type": "code",
   "execution_count": 7,
   "metadata": {},
   "outputs": [
    {
     "data": {
      "text/plain": [
       "Timestamp('1985-10-29 00:00:00')"
      ]
     },
     "execution_count": 7,
     "metadata": {},
     "output_type": "execute_result"
    }
   ],
   "source": [
    "data_parc_1['DATE'].max()"
   ]
  },
  {
   "attachments": {},
   "cell_type": "markdown",
   "metadata": {},
   "source": [
    "With others campaign files :"
   ]
  },
  {
   "cell_type": "code",
   "execution_count": 9,
   "metadata": {},
   "outputs": [
    {
     "data": {
      "text/plain": [
       "2403"
      ]
     },
     "execution_count": 9,
     "metadata": {},
     "output_type": "execute_result"
    }
   ],
   "source": [
    "data_parc_2 = pd.read_excel('./data_IFN_init_fr/PLOTDATEN_FRENCH_V2.xlsx', sheet_name='LFI2')\n",
    "data_parc_2['LFI']='LFI2'\n",
    "len(data_parc_2)"
   ]
  },
  {
   "cell_type": "code",
   "execution_count": 10,
   "metadata": {},
   "outputs": [
    {
     "data": {
      "text/plain": [
       "Timestamp('1993-05-08 00:00:00')"
      ]
     },
     "execution_count": 10,
     "metadata": {},
     "output_type": "execute_result"
    }
   ],
   "source": [
    "data_parc_2['DATE'].min()"
   ]
  },
  {
   "cell_type": "code",
   "execution_count": 11,
   "metadata": {},
   "outputs": [
    {
     "data": {
      "text/plain": [
       "2403"
      ]
     },
     "execution_count": 11,
     "metadata": {},
     "output_type": "execute_result"
    }
   ],
   "source": [
    "data_parc_3 = pd.read_excel('./data_IFN_init_fr/PLOTDATEN_FRENCH_V2.xlsx', sheet_name='LFI3')\n",
    "data_parc_3['LFI']='LFI3'\n",
    "len(data_parc_3)"
   ]
  },
  {
   "cell_type": "code",
   "execution_count": 12,
   "metadata": {},
   "outputs": [
    {
     "data": {
      "text/plain": [
       "Timestamp('2006-11-24 00:00:00')"
      ]
     },
     "execution_count": 12,
     "metadata": {},
     "output_type": "execute_result"
    }
   ],
   "source": [
    "data_parc_3['DATE'].max()"
   ]
  },
  {
   "cell_type": "code",
   "execution_count": 13,
   "metadata": {},
   "outputs": [
    {
     "data": {
      "text/plain": [
       "2403"
      ]
     },
     "execution_count": 13,
     "metadata": {},
     "output_type": "execute_result"
    }
   ],
   "source": [
    "data_parc_4 = pd.read_excel('./data_IFN_init_fr/PLOTDATEN_FRENCH_V2.xlsx', sheet_name='LFI4')\n",
    "data_parc_4['LFI']='LFI4'\n",
    "len(data_parc_4)"
   ]
  },
  {
   "cell_type": "code",
   "execution_count": 14,
   "metadata": {},
   "outputs": [
    {
     "data": {
      "text/plain": [
       "Timestamp('2009-08-10 00:00:00')"
      ]
     },
     "execution_count": 14,
     "metadata": {},
     "output_type": "execute_result"
    }
   ],
   "source": [
    "data_parc_4['DATE'].min()"
   ]
  },
  {
   "attachments": {},
   "cell_type": "markdown",
   "metadata": {},
   "source": [
    "Concatenation :"
   ]
  },
  {
   "cell_type": "code",
   "execution_count": 15,
   "metadata": {},
   "outputs": [],
   "source": [
    "data_parc = pd.concat([data_parc_1, data_parc_2, data_parc_3, data_parc_4])"
   ]
  },
  {
   "cell_type": "code",
   "execution_count": 19,
   "metadata": {},
   "outputs": [
    {
     "data": {
      "text/html": [
       "<div>\n",
       "<style scoped>\n",
       "    .dataframe tbody tr th:only-of-type {\n",
       "        vertical-align: middle;\n",
       "    }\n",
       "\n",
       "    .dataframe tbody tr th {\n",
       "        vertical-align: top;\n",
       "    }\n",
       "\n",
       "    .dataframe thead th {\n",
       "        text-align: right;\n",
       "    }\n",
       "</style>\n",
       "<table border=\"1\" class=\"dataframe\">\n",
       "  <thead>\n",
       "    <tr style=\"text-align: right;\">\n",
       "      <th></th>\n",
       "      <th>PARCELLE</th>\n",
       "      <th>INVNR</th>\n",
       "      <th>X</th>\n",
       "      <th>Y</th>\n",
       "      <th>Z25</th>\n",
       "      <th>PRODREG</th>\n",
       "      <th>HT_VEG</th>\n",
       "      <th>DATE</th>\n",
       "      <th>SLOPE25</th>\n",
       "      <th>ASPECT25</th>\n",
       "      <th>...</th>\n",
       "      <th>V_LARCH</th>\n",
       "      <th>V_ARVEN</th>\n",
       "      <th>V_UENDH</th>\n",
       "      <th>V_BUCHE</th>\n",
       "      <th>V_AHORN</th>\n",
       "      <th>V_ESCHE</th>\n",
       "      <th>V_EICHE</th>\n",
       "      <th>V_CASTA</th>\n",
       "      <th>V_UELBH</th>\n",
       "      <th>LFI</th>\n",
       "    </tr>\n",
       "  </thead>\n",
       "  <tbody>\n",
       "    <tr>\n",
       "      <th>0</th>\n",
       "      <td>51</td>\n",
       "      <td>150</td>\n",
       "      <td>688000</td>\n",
       "      <td>293000</td>\n",
       "      <td>669.60</td>\n",
       "      <td>1</td>\n",
       "      <td>3</td>\n",
       "      <td>1984-04-10</td>\n",
       "      <td>58.407726</td>\n",
       "      <td>67.342415</td>\n",
       "      <td>...</td>\n",
       "      <td>0.0</td>\n",
       "      <td>0.0</td>\n",
       "      <td>0.0</td>\n",
       "      <td>184.359112</td>\n",
       "      <td>0.00000</td>\n",
       "      <td>0.0</td>\n",
       "      <td>0.000000</td>\n",
       "      <td>0.000000</td>\n",
       "      <td>0.000000</td>\n",
       "      <td>LFI1</td>\n",
       "    </tr>\n",
       "    <tr>\n",
       "      <th>1</th>\n",
       "      <td>384</td>\n",
       "      <td>150</td>\n",
       "      <td>689000</td>\n",
       "      <td>288000</td>\n",
       "      <td>517.40</td>\n",
       "      <td>1</td>\n",
       "      <td>2</td>\n",
       "      <td>1984-04-09</td>\n",
       "      <td>55.683254</td>\n",
       "      <td>253.354935</td>\n",
       "      <td>...</td>\n",
       "      <td>0.0</td>\n",
       "      <td>0.0</td>\n",
       "      <td>0.0</td>\n",
       "      <td>230.021045</td>\n",
       "      <td>0.00000</td>\n",
       "      <td>0.0</td>\n",
       "      <td>0.000000</td>\n",
       "      <td>0.000000</td>\n",
       "      <td>0.000000</td>\n",
       "      <td>LFI1</td>\n",
       "    </tr>\n",
       "    <tr>\n",
       "      <th>2</th>\n",
       "      <td>1239</td>\n",
       "      <td>150</td>\n",
       "      <td>720000</td>\n",
       "      <td>281000</td>\n",
       "      <td>518.70</td>\n",
       "      <td>2</td>\n",
       "      <td>2</td>\n",
       "      <td>1985-04-01</td>\n",
       "      <td>43.496788</td>\n",
       "      <td>356.177185</td>\n",
       "      <td>...</td>\n",
       "      <td>0.0</td>\n",
       "      <td>0.0</td>\n",
       "      <td>0.0</td>\n",
       "      <td>322.259358</td>\n",
       "      <td>41.57716</td>\n",
       "      <td>0.0</td>\n",
       "      <td>0.000000</td>\n",
       "      <td>0.000000</td>\n",
       "      <td>0.000000</td>\n",
       "      <td>LFI1</td>\n",
       "    </tr>\n",
       "    <tr>\n",
       "      <th>3</th>\n",
       "      <td>1419</td>\n",
       "      <td>150</td>\n",
       "      <td>717000</td>\n",
       "      <td>280000</td>\n",
       "      <td>517.30</td>\n",
       "      <td>2</td>\n",
       "      <td>2</td>\n",
       "      <td>1985-03-27</td>\n",
       "      <td>29.557123</td>\n",
       "      <td>15.000126</td>\n",
       "      <td>...</td>\n",
       "      <td>NaN</td>\n",
       "      <td>NaN</td>\n",
       "      <td>NaN</td>\n",
       "      <td>NaN</td>\n",
       "      <td>NaN</td>\n",
       "      <td>NaN</td>\n",
       "      <td>NaN</td>\n",
       "      <td>NaN</td>\n",
       "      <td>NaN</td>\n",
       "      <td>LFI1</td>\n",
       "    </tr>\n",
       "    <tr>\n",
       "      <th>4</th>\n",
       "      <td>1431</td>\n",
       "      <td>150</td>\n",
       "      <td>723000</td>\n",
       "      <td>280000</td>\n",
       "      <td>493.60</td>\n",
       "      <td>2</td>\n",
       "      <td>2</td>\n",
       "      <td>1985-04-19</td>\n",
       "      <td>53.450974</td>\n",
       "      <td>57.142380</td>\n",
       "      <td>...</td>\n",
       "      <td>0.0</td>\n",
       "      <td>0.0</td>\n",
       "      <td>0.0</td>\n",
       "      <td>152.192812</td>\n",
       "      <td>0.00000</td>\n",
       "      <td>0.0</td>\n",
       "      <td>91.682308</td>\n",
       "      <td>0.000000</td>\n",
       "      <td>0.000000</td>\n",
       "      <td>LFI1</td>\n",
       "    </tr>\n",
       "    <tr>\n",
       "      <th>...</th>\n",
       "      <td>...</td>\n",
       "      <td>...</td>\n",
       "      <td>...</td>\n",
       "      <td>...</td>\n",
       "      <td>...</td>\n",
       "      <td>...</td>\n",
       "      <td>...</td>\n",
       "      <td>...</td>\n",
       "      <td>...</td>\n",
       "      <td>...</td>\n",
       "      <td>...</td>\n",
       "      <td>...</td>\n",
       "      <td>...</td>\n",
       "      <td>...</td>\n",
       "      <td>...</td>\n",
       "      <td>...</td>\n",
       "      <td>...</td>\n",
       "      <td>...</td>\n",
       "      <td>...</td>\n",
       "      <td>...</td>\n",
       "      <td>...</td>\n",
       "    </tr>\n",
       "    <tr>\n",
       "      <th>2398</th>\n",
       "      <td>164918</td>\n",
       "      <td>450</td>\n",
       "      <td>721000</td>\n",
       "      <td>82000</td>\n",
       "      <td>578.00</td>\n",
       "      <td>5</td>\n",
       "      <td>2</td>\n",
       "      <td>2017-10-25</td>\n",
       "      <td>25.137402</td>\n",
       "      <td>288.773682</td>\n",
       "      <td>...</td>\n",
       "      <td>0.0</td>\n",
       "      <td>0.0</td>\n",
       "      <td>0.0</td>\n",
       "      <td>0.000000</td>\n",
       "      <td>0.00000</td>\n",
       "      <td>0.0</td>\n",
       "      <td>0.000000</td>\n",
       "      <td>113.485246</td>\n",
       "      <td>115.279712</td>\n",
       "      <td>LFI4</td>\n",
       "    </tr>\n",
       "    <tr>\n",
       "      <th>2399</th>\n",
       "      <td>164922</td>\n",
       "      <td>450</td>\n",
       "      <td>723000</td>\n",
       "      <td>82000</td>\n",
       "      <td>602.80</td>\n",
       "      <td>5</td>\n",
       "      <td>2</td>\n",
       "      <td>2014-06-11</td>\n",
       "      <td>70.188095</td>\n",
       "      <td>202.628372</td>\n",
       "      <td>...</td>\n",
       "      <td>0.0</td>\n",
       "      <td>0.0</td>\n",
       "      <td>0.0</td>\n",
       "      <td>0.000000</td>\n",
       "      <td>0.00000</td>\n",
       "      <td>0.0</td>\n",
       "      <td>0.000000</td>\n",
       "      <td>0.000000</td>\n",
       "      <td>10.948593</td>\n",
       "      <td>LFI4</td>\n",
       "    </tr>\n",
       "    <tr>\n",
       "      <th>2400</th>\n",
       "      <td>164999</td>\n",
       "      <td>450</td>\n",
       "      <td>722000</td>\n",
       "      <td>81000</td>\n",
       "      <td>634.70</td>\n",
       "      <td>5</td>\n",
       "      <td>2</td>\n",
       "      <td>2012-10-01</td>\n",
       "      <td>60.882717</td>\n",
       "      <td>192.627838</td>\n",
       "      <td>...</td>\n",
       "      <td>0.0</td>\n",
       "      <td>0.0</td>\n",
       "      <td>0.0</td>\n",
       "      <td>0.000000</td>\n",
       "      <td>0.00000</td>\n",
       "      <td>0.0</td>\n",
       "      <td>0.000000</td>\n",
       "      <td>0.000000</td>\n",
       "      <td>21.207550</td>\n",
       "      <td>LFI4</td>\n",
       "    </tr>\n",
       "    <tr>\n",
       "      <th>2401</th>\n",
       "      <td>165003</td>\n",
       "      <td>450</td>\n",
       "      <td>724000</td>\n",
       "      <td>81000</td>\n",
       "      <td>618.10</td>\n",
       "      <td>5</td>\n",
       "      <td>2</td>\n",
       "      <td>2016-04-13</td>\n",
       "      <td>57.909958</td>\n",
       "      <td>319.882141</td>\n",
       "      <td>...</td>\n",
       "      <td>0.0</td>\n",
       "      <td>0.0</td>\n",
       "      <td>0.0</td>\n",
       "      <td>0.000000</td>\n",
       "      <td>0.00000</td>\n",
       "      <td>0.0</td>\n",
       "      <td>0.000000</td>\n",
       "      <td>288.965891</td>\n",
       "      <td>5.538611</td>\n",
       "      <td>LFI4</td>\n",
       "    </tr>\n",
       "    <tr>\n",
       "      <th>2402</th>\n",
       "      <td>165065</td>\n",
       "      <td>450</td>\n",
       "      <td>725000</td>\n",
       "      <td>80000</td>\n",
       "      <td>945.88</td>\n",
       "      <td>5</td>\n",
       "      <td>3</td>\n",
       "      <td>2013-10-09</td>\n",
       "      <td>46.400490</td>\n",
       "      <td>228.468475</td>\n",
       "      <td>...</td>\n",
       "      <td>0.0</td>\n",
       "      <td>0.0</td>\n",
       "      <td>0.0</td>\n",
       "      <td>0.000000</td>\n",
       "      <td>0.00000</td>\n",
       "      <td>0.0</td>\n",
       "      <td>0.000000</td>\n",
       "      <td>100.768142</td>\n",
       "      <td>9.498143</td>\n",
       "      <td>LFI4</td>\n",
       "    </tr>\n",
       "  </tbody>\n",
       "</table>\n",
       "<p>9612 rows × 85 columns</p>\n",
       "</div>"
      ],
      "text/plain": [
       "      PARCELLE  INVNR       X       Y     Z25  PRODREG  HT_VEG       DATE  \\\n",
       "0           51    150  688000  293000  669.60        1       3 1984-04-10   \n",
       "1          384    150  689000  288000  517.40        1       2 1984-04-09   \n",
       "2         1239    150  720000  281000  518.70        2       2 1985-04-01   \n",
       "3         1419    150  717000  280000  517.30        2       2 1985-03-27   \n",
       "4         1431    150  723000  280000  493.60        2       2 1985-04-19   \n",
       "...        ...    ...     ...     ...     ...      ...     ...        ...   \n",
       "2398    164918    450  721000   82000  578.00        5       2 2017-10-25   \n",
       "2399    164922    450  723000   82000  602.80        5       2 2014-06-11   \n",
       "2400    164999    450  722000   81000  634.70        5       2 2012-10-01   \n",
       "2401    165003    450  724000   81000  618.10        5       2 2016-04-13   \n",
       "2402    165065    450  725000   80000  945.88        5       3 2013-10-09   \n",
       "\n",
       "        SLOPE25    ASPECT25  ...  V_LARCH  V_ARVEN  V_UENDH     V_BUCHE  \\\n",
       "0     58.407726   67.342415  ...      0.0      0.0      0.0  184.359112   \n",
       "1     55.683254  253.354935  ...      0.0      0.0      0.0  230.021045   \n",
       "2     43.496788  356.177185  ...      0.0      0.0      0.0  322.259358   \n",
       "3     29.557123   15.000126  ...      NaN      NaN      NaN         NaN   \n",
       "4     53.450974   57.142380  ...      0.0      0.0      0.0  152.192812   \n",
       "...         ...         ...  ...      ...      ...      ...         ...   \n",
       "2398  25.137402  288.773682  ...      0.0      0.0      0.0    0.000000   \n",
       "2399  70.188095  202.628372  ...      0.0      0.0      0.0    0.000000   \n",
       "2400  60.882717  192.627838  ...      0.0      0.0      0.0    0.000000   \n",
       "2401  57.909958  319.882141  ...      0.0      0.0      0.0    0.000000   \n",
       "2402  46.400490  228.468475  ...      0.0      0.0      0.0    0.000000   \n",
       "\n",
       "       V_AHORN  V_ESCHE    V_EICHE     V_CASTA     V_UELBH   LFI  \n",
       "0      0.00000      0.0   0.000000    0.000000    0.000000  LFI1  \n",
       "1      0.00000      0.0   0.000000    0.000000    0.000000  LFI1  \n",
       "2     41.57716      0.0   0.000000    0.000000    0.000000  LFI1  \n",
       "3          NaN      NaN        NaN         NaN         NaN  LFI1  \n",
       "4      0.00000      0.0  91.682308    0.000000    0.000000  LFI1  \n",
       "...        ...      ...        ...         ...         ...   ...  \n",
       "2398   0.00000      0.0   0.000000  113.485246  115.279712  LFI4  \n",
       "2399   0.00000      0.0   0.000000    0.000000   10.948593  LFI4  \n",
       "2400   0.00000      0.0   0.000000    0.000000   21.207550  LFI4  \n",
       "2401   0.00000      0.0   0.000000  288.965891    5.538611  LFI4  \n",
       "2402   0.00000      0.0   0.000000  100.768142    9.498143  LFI4  \n",
       "\n",
       "[9612 rows x 85 columns]"
      ]
     },
     "execution_count": 19,
     "metadata": {},
     "output_type": "execute_result"
    }
   ],
   "source": [
    "data_parc"
   ]
  },
  {
   "attachments": {},
   "cell_type": "markdown",
   "metadata": {},
   "source": [
    "Dataset starts with 'LFI1' values and ends with 'LFI4' values... it's ok !"
   ]
  },
  {
   "cell_type": "code",
   "execution_count": 16,
   "metadata": {},
   "outputs": [
    {
     "name": "stdout",
     "output_type": "stream",
     "text": [
      "<class 'pandas.core.frame.DataFrame'>\n",
      "Int64Index: 9612 entries, 0 to 2402\n",
      "Data columns (total 85 columns):\n",
      " #   Column             Non-Null Count  Dtype         \n",
      "---  ------             --------------  -----         \n",
      " 0   PARCELLE           9612 non-null   int64         \n",
      " 1   INVNR              9612 non-null   int64         \n",
      " 2   X                  9612 non-null   int64         \n",
      " 3   Y                  9612 non-null   int64         \n",
      " 4   Z25                9612 non-null   float64       \n",
      " 5   PRODREG            9612 non-null   int64         \n",
      " 6   HT_VEG             9612 non-null   int64         \n",
      " 7   DATE               9612 non-null   datetime64[ns]\n",
      " 8   SLOPE25            9612 non-null   float64       \n",
      " 9   ASPECT25           9612 non-null   float64       \n",
      " 10  PERF_CROI          9612 non-null   int64         \n",
      " 11  QUAL_STATION       9612 non-null   int64         \n",
      " 12  UNIT_VEG_FINE      9612 non-null   int64         \n",
      " 13  UNIT_VEG_GROS      9612 non-null   int64         \n",
      " 14  REBOISEMENT_AN     9612 non-null   int64         \n",
      " 15  SURF_TER_HA        9612 non-null   float64       \n",
      " 16  AGE_PPL            6847 non-null   float64       \n",
      " 17  MODE_REGEN         9612 non-null   int64         \n",
      " 18  TAILLE_PPL         9612 non-null   int64         \n",
      " 19  INTENSITE_EXPLOIT  9612 non-null   int64         \n",
      " 20  TRACES_FEU         9612 non-null   int64         \n",
      " 21  DEGRAD_PPL         9612 non-null   int64         \n",
      " 22  DIV_STR_PPL        7209 non-null   float64       \n",
      " 23  DIV_STR_PPL_CLASS  9612 non-null   int64         \n",
      " 24  DDOM               9401 non-null   float64       \n",
      " 25  DEG_SUR_PER        4806 non-null   float64       \n",
      " 26  LAST_INTER_DATE    9175 non-null   float64       \n",
      " 27  TIGES_VIV_H        9612 non-null   float64       \n",
      " 28  SDI                9612 non-null   int64         \n",
      " 29  SDI_CLASSE         9612 non-null   int64         \n",
      " 30  INT_IFN2_IFN3      9612 non-null   int64         \n",
      " 31  INT_IFN3-IFN4      9612 non-null   int64         \n",
      " 32  NIV_DEV            9612 non-null   int64         \n",
      " 33  MELANGE            9612 non-null   int64         \n",
      " 34  NEXT_INTER_DATE    9612 non-null   int64         \n",
      " 35  NEXT_INTER_TYPE    9612 non-null   int64         \n",
      " 36  RELIEF             9612 non-null   int64         \n",
      " 37  DEG_FERMETURE      9612 non-null   int64         \n",
      " 38  STR_PPL            9612 non-null   int64         \n",
      " 39  TYPE_FORET305      9612 non-null   int64         \n",
      " 40  SURCHARGE          9612 non-null   int64         \n",
      " 41  TYP_RAJ_PPL        9612 non-null   int64         \n",
      " 42  TAUX_COUV_RAJ      9612 non-null   int64         \n",
      " 43  TAUX_COUV_RAJ_FIN  9612 non-null   int64         \n",
      " 44  TAUX_COUV_RAJ_ASS  9612 non-null   int64         \n",
      " 45  ESPECE_DOM         9612 non-null   int64         \n",
      " 46  FEU_RES            9612 non-null   int64         \n",
      " 47  TYPE_FORET         9612 non-null   int64         \n",
      " 48  EPIC_PER           4806 non-null   float64       \n",
      " 49  SAPIN_PER          4806 non-null   float64       \n",
      " 50  PIN_PER            4806 non-null   float64       \n",
      " 51  MELEZ_PER          4806 non-null   float64       \n",
      " 52  ARO_PER            4806 non-null   float64       \n",
      " 53  OTHER_CONIF_PER    4806 non-null   float64       \n",
      " 54  HETR_PER           4806 non-null   float64       \n",
      " 55  ERAB_PER           4806 non-null   float64       \n",
      " 56  FREN_PER           4806 non-null   float64       \n",
      " 57  CHEN_PER           4806 non-null   float64       \n",
      " 58  DGANTCA            4806 non-null   float64       \n",
      " 59  OTHER_FEUILL_PER   4806 non-null   float64       \n",
      " 60  CONIF_PER_STD      4806 non-null   float64       \n",
      " 61  ARBUST_PER         4806 non-null   float64       \n",
      " 62  FEUILL_PER         4806 non-null   float64       \n",
      " 63  CONIF_PER          4806 non-null   float64       \n",
      " 64  PROCESS_SILVA      9612 non-null   int64         \n",
      " 65  PERI_CHENAUX       9612 non-null   int64         \n",
      " 66  PERI_COULEES       9612 non-null   int64         \n",
      " 67  PERI_AVALANCH      9612 non-null   int64         \n",
      " 68  PERI_CHUTES        9612 non-null   int64         \n",
      " 69  25_GRID_PER        7209 non-null   float64       \n",
      " 70  SURF_TROU_AER      9612 non-null   int64         \n",
      " 71  V_ALL              9449 non-null   float64       \n",
      " 72  V_FICHT            9449 non-null   float64       \n",
      " 73  V_TANNE            9449 non-null   float64       \n",
      " 74  V_FOEHR            9449 non-null   float64       \n",
      " 75  V_LARCH            9449 non-null   float64       \n",
      " 76  V_ARVEN            9449 non-null   float64       \n",
      " 77  V_UENDH            9449 non-null   float64       \n",
      " 78  V_BUCHE            9449 non-null   float64       \n",
      " 79  V_AHORN            9449 non-null   float64       \n",
      " 80  V_ESCHE            9449 non-null   float64       \n",
      " 81  V_EICHE            9449 non-null   float64       \n",
      " 82  V_CASTA            9449 non-null   float64       \n",
      " 83  V_UELBH            9449 non-null   float64       \n",
      " 84  LFI                9612 non-null   object        \n",
      "dtypes: datetime64[ns](1), float64(40), int64(43), object(1)\n",
      "memory usage: 6.3+ MB\n"
     ]
    }
   ],
   "source": [
    "data_parc.info()"
   ]
  },
  {
   "attachments": {},
   "cell_type": "markdown",
   "metadata": {},
   "source": [
    "Finally, we will take the opportunity to display the missing values :"
   ]
  },
  {
   "cell_type": "code",
   "execution_count": 18,
   "metadata": {},
   "outputs": [
    {
     "name": "stderr",
     "output_type": "stream",
     "text": [
      "C:\\Users\\PC\\AppData\\Local\\Temp\\ipykernel_6732\\3503742841.py:1: FutureWarning: Treating datetime data as categorical rather than numeric in `.describe` is deprecated and will be removed in a future version of pandas. Specify `datetime_is_numeric=True` to silence this warning and adopt the future behavior now.\n",
      "  fig = px.histogram(x=data_parc.columns,y=9612 - data_parc.describe(include='all').iloc[0,:], nbins=50)\n"
     ]
    },
    {
     "data": {
      "application/vnd.plotly.v1+json": {
       "config": {
        "plotlyServerURL": "https://plot.ly"
       },
       "data": [
        {
         "alignmentgroup": "True",
         "bingroup": "x",
         "histfunc": "sum",
         "hovertemplate": "x=%{x}<br>sum of y=%{y}<extra></extra>",
         "legendgroup": "",
         "marker": {
          "color": "#636efa",
          "pattern": {
           "shape": ""
          }
         },
         "name": "",
         "nbinsx": 50,
         "offsetgroup": "",
         "orientation": "v",
         "showlegend": false,
         "type": "histogram",
         "x": [
          "PARCELLE",
          "INVNR",
          "X",
          "Y",
          "Z25",
          "PRODREG",
          "HT_VEG",
          "DATE",
          "SLOPE25",
          "ASPECT25",
          "PERF_CROI",
          "QUAL_STATION",
          "UNIT_VEG_FINE",
          "UNIT_VEG_GROS",
          "REBOISEMENT_AN",
          "SURF_TER_HA",
          "AGE_PPL",
          "MODE_REGEN",
          "TAILLE_PPL",
          "INTENSITE_EXPLOIT",
          "TRACES_FEU",
          "DEGRAD_PPL",
          "DIV_STR_PPL",
          "DIV_STR_PPL_CLASS",
          "DDOM",
          "DEG_SUR_PER",
          "LAST_INTER_DATE",
          "TIGES_VIV_H",
          "SDI",
          "SDI_CLASSE",
          "INT_IFN2_IFN3",
          "INT_IFN3-IFN4",
          "NIV_DEV",
          "MELANGE",
          "NEXT_INTER_DATE",
          "NEXT_INTER_TYPE",
          "RELIEF",
          "DEG_FERMETURE",
          "STR_PPL",
          "TYPE_FORET305",
          "SURCHARGE",
          "TYP_RAJ_PPL",
          "TAUX_COUV_RAJ",
          "TAUX_COUV_RAJ_FIN",
          "TAUX_COUV_RAJ_ASS",
          "ESPECE_DOM",
          "FEU_RES",
          "TYPE_FORET",
          "EPIC_PER",
          "SAPIN_PER",
          "PIN_PER",
          "MELEZ_PER",
          "ARO_PER",
          "OTHER_CONIF_PER",
          "HETR_PER",
          "ERAB_PER",
          "FREN_PER",
          "CHEN_PER",
          "DGANTCA",
          "OTHER_FEUILL_PER",
          "CONIF_PER_STD",
          "ARBUST_PER",
          "FEUILL_PER",
          "CONIF_PER",
          "PROCESS_SILVA",
          "PERI_CHENAUX",
          "PERI_COULEES",
          "PERI_AVALANCH",
          "PERI_CHUTES",
          "25_GRID_PER",
          "SURF_TROU_AER",
          "V_ALL",
          "V_FICHT",
          "V_TANNE",
          "V_FOEHR",
          "V_LARCH",
          "V_ARVEN",
          "V_UENDH",
          "V_BUCHE",
          "V_AHORN",
          "V_ESCHE",
          "V_EICHE",
          "V_CASTA",
          "V_UELBH",
          "LFI"
         ],
         "xaxis": "x",
         "y": [
          0,
          0,
          0,
          0,
          0,
          0,
          0,
          0,
          0,
          0,
          0,
          0,
          0,
          0,
          0,
          0,
          2765,
          0,
          0,
          0,
          0,
          0,
          2403,
          0,
          211,
          4806,
          437,
          0,
          0,
          0,
          0,
          0,
          0,
          0,
          0,
          0,
          0,
          0,
          0,
          0,
          0,
          0,
          0,
          0,
          0,
          0,
          0,
          0,
          4806,
          4806,
          4806,
          4806,
          4806,
          4806,
          4806,
          4806,
          4806,
          4806,
          4806,
          4806,
          4806,
          4806,
          4806,
          4806,
          0,
          0,
          0,
          0,
          0,
          2403,
          0,
          163,
          163,
          163,
          163,
          163,
          163,
          163,
          163,
          163,
          163,
          163,
          163,
          163,
          0
         ],
         "yaxis": "y"
        }
       ],
       "layout": {
        "barmode": "relative",
        "legend": {
         "tracegroupgap": 0
        },
        "margin": {
         "t": 60
        },
        "template": {
         "data": {
          "bar": [
           {
            "error_x": {
             "color": "#2a3f5f"
            },
            "error_y": {
             "color": "#2a3f5f"
            },
            "marker": {
             "line": {
              "color": "#E5ECF6",
              "width": 0.5
             },
             "pattern": {
              "fillmode": "overlay",
              "size": 10,
              "solidity": 0.2
             }
            },
            "type": "bar"
           }
          ],
          "barpolar": [
           {
            "marker": {
             "line": {
              "color": "#E5ECF6",
              "width": 0.5
             },
             "pattern": {
              "fillmode": "overlay",
              "size": 10,
              "solidity": 0.2
             }
            },
            "type": "barpolar"
           }
          ],
          "carpet": [
           {
            "aaxis": {
             "endlinecolor": "#2a3f5f",
             "gridcolor": "white",
             "linecolor": "white",
             "minorgridcolor": "white",
             "startlinecolor": "#2a3f5f"
            },
            "baxis": {
             "endlinecolor": "#2a3f5f",
             "gridcolor": "white",
             "linecolor": "white",
             "minorgridcolor": "white",
             "startlinecolor": "#2a3f5f"
            },
            "type": "carpet"
           }
          ],
          "choropleth": [
           {
            "colorbar": {
             "outlinewidth": 0,
             "ticks": ""
            },
            "type": "choropleth"
           }
          ],
          "contour": [
           {
            "colorbar": {
             "outlinewidth": 0,
             "ticks": ""
            },
            "colorscale": [
             [
              0,
              "#0d0887"
             ],
             [
              0.1111111111111111,
              "#46039f"
             ],
             [
              0.2222222222222222,
              "#7201a8"
             ],
             [
              0.3333333333333333,
              "#9c179e"
             ],
             [
              0.4444444444444444,
              "#bd3786"
             ],
             [
              0.5555555555555556,
              "#d8576b"
             ],
             [
              0.6666666666666666,
              "#ed7953"
             ],
             [
              0.7777777777777778,
              "#fb9f3a"
             ],
             [
              0.8888888888888888,
              "#fdca26"
             ],
             [
              1,
              "#f0f921"
             ]
            ],
            "type": "contour"
           }
          ],
          "contourcarpet": [
           {
            "colorbar": {
             "outlinewidth": 0,
             "ticks": ""
            },
            "type": "contourcarpet"
           }
          ],
          "heatmap": [
           {
            "colorbar": {
             "outlinewidth": 0,
             "ticks": ""
            },
            "colorscale": [
             [
              0,
              "#0d0887"
             ],
             [
              0.1111111111111111,
              "#46039f"
             ],
             [
              0.2222222222222222,
              "#7201a8"
             ],
             [
              0.3333333333333333,
              "#9c179e"
             ],
             [
              0.4444444444444444,
              "#bd3786"
             ],
             [
              0.5555555555555556,
              "#d8576b"
             ],
             [
              0.6666666666666666,
              "#ed7953"
             ],
             [
              0.7777777777777778,
              "#fb9f3a"
             ],
             [
              0.8888888888888888,
              "#fdca26"
             ],
             [
              1,
              "#f0f921"
             ]
            ],
            "type": "heatmap"
           }
          ],
          "heatmapgl": [
           {
            "colorbar": {
             "outlinewidth": 0,
             "ticks": ""
            },
            "colorscale": [
             [
              0,
              "#0d0887"
             ],
             [
              0.1111111111111111,
              "#46039f"
             ],
             [
              0.2222222222222222,
              "#7201a8"
             ],
             [
              0.3333333333333333,
              "#9c179e"
             ],
             [
              0.4444444444444444,
              "#bd3786"
             ],
             [
              0.5555555555555556,
              "#d8576b"
             ],
             [
              0.6666666666666666,
              "#ed7953"
             ],
             [
              0.7777777777777778,
              "#fb9f3a"
             ],
             [
              0.8888888888888888,
              "#fdca26"
             ],
             [
              1,
              "#f0f921"
             ]
            ],
            "type": "heatmapgl"
           }
          ],
          "histogram": [
           {
            "marker": {
             "pattern": {
              "fillmode": "overlay",
              "size": 10,
              "solidity": 0.2
             }
            },
            "type": "histogram"
           }
          ],
          "histogram2d": [
           {
            "colorbar": {
             "outlinewidth": 0,
             "ticks": ""
            },
            "colorscale": [
             [
              0,
              "#0d0887"
             ],
             [
              0.1111111111111111,
              "#46039f"
             ],
             [
              0.2222222222222222,
              "#7201a8"
             ],
             [
              0.3333333333333333,
              "#9c179e"
             ],
             [
              0.4444444444444444,
              "#bd3786"
             ],
             [
              0.5555555555555556,
              "#d8576b"
             ],
             [
              0.6666666666666666,
              "#ed7953"
             ],
             [
              0.7777777777777778,
              "#fb9f3a"
             ],
             [
              0.8888888888888888,
              "#fdca26"
             ],
             [
              1,
              "#f0f921"
             ]
            ],
            "type": "histogram2d"
           }
          ],
          "histogram2dcontour": [
           {
            "colorbar": {
             "outlinewidth": 0,
             "ticks": ""
            },
            "colorscale": [
             [
              0,
              "#0d0887"
             ],
             [
              0.1111111111111111,
              "#46039f"
             ],
             [
              0.2222222222222222,
              "#7201a8"
             ],
             [
              0.3333333333333333,
              "#9c179e"
             ],
             [
              0.4444444444444444,
              "#bd3786"
             ],
             [
              0.5555555555555556,
              "#d8576b"
             ],
             [
              0.6666666666666666,
              "#ed7953"
             ],
             [
              0.7777777777777778,
              "#fb9f3a"
             ],
             [
              0.8888888888888888,
              "#fdca26"
             ],
             [
              1,
              "#f0f921"
             ]
            ],
            "type": "histogram2dcontour"
           }
          ],
          "mesh3d": [
           {
            "colorbar": {
             "outlinewidth": 0,
             "ticks": ""
            },
            "type": "mesh3d"
           }
          ],
          "parcoords": [
           {
            "line": {
             "colorbar": {
              "outlinewidth": 0,
              "ticks": ""
             }
            },
            "type": "parcoords"
           }
          ],
          "pie": [
           {
            "automargin": true,
            "type": "pie"
           }
          ],
          "scatter": [
           {
            "fillpattern": {
             "fillmode": "overlay",
             "size": 10,
             "solidity": 0.2
            },
            "type": "scatter"
           }
          ],
          "scatter3d": [
           {
            "line": {
             "colorbar": {
              "outlinewidth": 0,
              "ticks": ""
             }
            },
            "marker": {
             "colorbar": {
              "outlinewidth": 0,
              "ticks": ""
             }
            },
            "type": "scatter3d"
           }
          ],
          "scattercarpet": [
           {
            "marker": {
             "colorbar": {
              "outlinewidth": 0,
              "ticks": ""
             }
            },
            "type": "scattercarpet"
           }
          ],
          "scattergeo": [
           {
            "marker": {
             "colorbar": {
              "outlinewidth": 0,
              "ticks": ""
             }
            },
            "type": "scattergeo"
           }
          ],
          "scattergl": [
           {
            "marker": {
             "colorbar": {
              "outlinewidth": 0,
              "ticks": ""
             }
            },
            "type": "scattergl"
           }
          ],
          "scattermapbox": [
           {
            "marker": {
             "colorbar": {
              "outlinewidth": 0,
              "ticks": ""
             }
            },
            "type": "scattermapbox"
           }
          ],
          "scatterpolar": [
           {
            "marker": {
             "colorbar": {
              "outlinewidth": 0,
              "ticks": ""
             }
            },
            "type": "scatterpolar"
           }
          ],
          "scatterpolargl": [
           {
            "marker": {
             "colorbar": {
              "outlinewidth": 0,
              "ticks": ""
             }
            },
            "type": "scatterpolargl"
           }
          ],
          "scatterternary": [
           {
            "marker": {
             "colorbar": {
              "outlinewidth": 0,
              "ticks": ""
             }
            },
            "type": "scatterternary"
           }
          ],
          "surface": [
           {
            "colorbar": {
             "outlinewidth": 0,
             "ticks": ""
            },
            "colorscale": [
             [
              0,
              "#0d0887"
             ],
             [
              0.1111111111111111,
              "#46039f"
             ],
             [
              0.2222222222222222,
              "#7201a8"
             ],
             [
              0.3333333333333333,
              "#9c179e"
             ],
             [
              0.4444444444444444,
              "#bd3786"
             ],
             [
              0.5555555555555556,
              "#d8576b"
             ],
             [
              0.6666666666666666,
              "#ed7953"
             ],
             [
              0.7777777777777778,
              "#fb9f3a"
             ],
             [
              0.8888888888888888,
              "#fdca26"
             ],
             [
              1,
              "#f0f921"
             ]
            ],
            "type": "surface"
           }
          ],
          "table": [
           {
            "cells": {
             "fill": {
              "color": "#EBF0F8"
             },
             "line": {
              "color": "white"
             }
            },
            "header": {
             "fill": {
              "color": "#C8D4E3"
             },
             "line": {
              "color": "white"
             }
            },
            "type": "table"
           }
          ]
         },
         "layout": {
          "annotationdefaults": {
           "arrowcolor": "#2a3f5f",
           "arrowhead": 0,
           "arrowwidth": 1
          },
          "autotypenumbers": "strict",
          "coloraxis": {
           "colorbar": {
            "outlinewidth": 0,
            "ticks": ""
           }
          },
          "colorscale": {
           "diverging": [
            [
             0,
             "#8e0152"
            ],
            [
             0.1,
             "#c51b7d"
            ],
            [
             0.2,
             "#de77ae"
            ],
            [
             0.3,
             "#f1b6da"
            ],
            [
             0.4,
             "#fde0ef"
            ],
            [
             0.5,
             "#f7f7f7"
            ],
            [
             0.6,
             "#e6f5d0"
            ],
            [
             0.7,
             "#b8e186"
            ],
            [
             0.8,
             "#7fbc41"
            ],
            [
             0.9,
             "#4d9221"
            ],
            [
             1,
             "#276419"
            ]
           ],
           "sequential": [
            [
             0,
             "#0d0887"
            ],
            [
             0.1111111111111111,
             "#46039f"
            ],
            [
             0.2222222222222222,
             "#7201a8"
            ],
            [
             0.3333333333333333,
             "#9c179e"
            ],
            [
             0.4444444444444444,
             "#bd3786"
            ],
            [
             0.5555555555555556,
             "#d8576b"
            ],
            [
             0.6666666666666666,
             "#ed7953"
            ],
            [
             0.7777777777777778,
             "#fb9f3a"
            ],
            [
             0.8888888888888888,
             "#fdca26"
            ],
            [
             1,
             "#f0f921"
            ]
           ],
           "sequentialminus": [
            [
             0,
             "#0d0887"
            ],
            [
             0.1111111111111111,
             "#46039f"
            ],
            [
             0.2222222222222222,
             "#7201a8"
            ],
            [
             0.3333333333333333,
             "#9c179e"
            ],
            [
             0.4444444444444444,
             "#bd3786"
            ],
            [
             0.5555555555555556,
             "#d8576b"
            ],
            [
             0.6666666666666666,
             "#ed7953"
            ],
            [
             0.7777777777777778,
             "#fb9f3a"
            ],
            [
             0.8888888888888888,
             "#fdca26"
            ],
            [
             1,
             "#f0f921"
            ]
           ]
          },
          "colorway": [
           "#636efa",
           "#EF553B",
           "#00cc96",
           "#ab63fa",
           "#FFA15A",
           "#19d3f3",
           "#FF6692",
           "#B6E880",
           "#FF97FF",
           "#FECB52"
          ],
          "font": {
           "color": "#2a3f5f"
          },
          "geo": {
           "bgcolor": "white",
           "lakecolor": "white",
           "landcolor": "#E5ECF6",
           "showlakes": true,
           "showland": true,
           "subunitcolor": "white"
          },
          "hoverlabel": {
           "align": "left"
          },
          "hovermode": "closest",
          "mapbox": {
           "style": "light"
          },
          "paper_bgcolor": "white",
          "plot_bgcolor": "#E5ECF6",
          "polar": {
           "angularaxis": {
            "gridcolor": "white",
            "linecolor": "white",
            "ticks": ""
           },
           "bgcolor": "#E5ECF6",
           "radialaxis": {
            "gridcolor": "white",
            "linecolor": "white",
            "ticks": ""
           }
          },
          "scene": {
           "xaxis": {
            "backgroundcolor": "#E5ECF6",
            "gridcolor": "white",
            "gridwidth": 2,
            "linecolor": "white",
            "showbackground": true,
            "ticks": "",
            "zerolinecolor": "white"
           },
           "yaxis": {
            "backgroundcolor": "#E5ECF6",
            "gridcolor": "white",
            "gridwidth": 2,
            "linecolor": "white",
            "showbackground": true,
            "ticks": "",
            "zerolinecolor": "white"
           },
           "zaxis": {
            "backgroundcolor": "#E5ECF6",
            "gridcolor": "white",
            "gridwidth": 2,
            "linecolor": "white",
            "showbackground": true,
            "ticks": "",
            "zerolinecolor": "white"
           }
          },
          "shapedefaults": {
           "line": {
            "color": "#2a3f5f"
           }
          },
          "ternary": {
           "aaxis": {
            "gridcolor": "white",
            "linecolor": "white",
            "ticks": ""
           },
           "baxis": {
            "gridcolor": "white",
            "linecolor": "white",
            "ticks": ""
           },
           "bgcolor": "#E5ECF6",
           "caxis": {
            "gridcolor": "white",
            "linecolor": "white",
            "ticks": ""
           }
          },
          "title": {
           "x": 0.05
          },
          "xaxis": {
           "automargin": true,
           "gridcolor": "white",
           "linecolor": "white",
           "ticks": "",
           "title": {
            "standoff": 15
           },
           "zerolinecolor": "white",
           "zerolinewidth": 2
          },
          "yaxis": {
           "automargin": true,
           "gridcolor": "white",
           "linecolor": "white",
           "ticks": "",
           "title": {
            "standoff": 15
           },
           "zerolinecolor": "white",
           "zerolinewidth": 2
          }
         }
        },
        "title": {
         "text": "Missing Values per variables"
        },
        "xaxis": {
         "anchor": "y",
         "domain": [
          0,
          1
         ],
         "title": {
          "text": "x"
         }
        },
        "yaxis": {
         "anchor": "x",
         "domain": [
          0,
          1
         ],
         "range": [
          0,
          9612
         ],
         "title": {
          "text": "missing values"
         }
        }
       }
      }
     },
     "metadata": {},
     "output_type": "display_data"
    }
   ],
   "source": [
    "fig = px.histogram(x=data_parc.columns,y=9612 - data_parc.describe(include='all').iloc[0,:], nbins=50)\n",
    "fig.update_layout(title_text='Missing Values per variables')\n",
    "fig.update_yaxes(range = [0,9612], title='missing values')\n",
    "fig.show()"
   ]
  },
  {
   "attachments": {},
   "cell_type": "markdown",
   "metadata": {},
   "source": [
    "Export :"
   ]
  },
  {
   "cell_type": "code",
   "execution_count": 54,
   "metadata": {},
   "outputs": [],
   "source": [
    "data_parc.to_excel('./data_processed_and_merged/data_parcelles_with_swiss_coord.xlsx')"
   ]
  }
 ],
 "metadata": {
  "kernelspec": {
   "display_name": "Python 3.9.13 ('base')",
   "language": "python",
   "name": "python3"
  },
  "language_info": {
   "codemirror_mode": {
    "name": "ipython",
    "version": 3
   },
   "file_extension": ".py",
   "mimetype": "text/x-python",
   "name": "python",
   "nbconvert_exporter": "python",
   "pygments_lexer": "ipython3",
   "version": "3.9.13"
  },
  "orig_nbformat": 4,
  "vscode": {
   "interpreter": {
    "hash": "1cca9558bc5ad879ec93cc030b157d75f18267527c60932cecaace349eef54dd"
   }
  }
 },
 "nbformat": 4,
 "nbformat_minor": 2
}
