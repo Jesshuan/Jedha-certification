{
  "cells": [
    {
      "cell_type": "code",
      "execution_count": 110,
      "metadata": {
        "id": "F-xnvpnQb1eP"
      },
      "outputs": [],
      "source": [
        "import pandas as pd\n",
        "import numpy as np\n",
        "import plotly.express as px\n",
        "\n",
        "from sklearn.preprocessing import OneHotEncoder, StandardScaler, LabelEncoder\n",
        "from sklearn.impute import KNNImputer\n",
        "from sklearn.pipeline import Pipeline\n",
        "from sklearn.linear_model import Ridge, RidgeClassifier, Lasso\n",
        "from sklearn.model_selection import train_test_split\n",
        "from sklearn.compose import ColumnTransformer\n",
        "from sklearn.model_selection import cross_val_score, GridSearchCV\n",
        "from sklearn.tree import DecisionTreeClassifier\n",
        "from sklearn.ensemble import RandomForestClassifier\n",
        "\n",
        "\n",
        "import tensorflow as tf\n",
        "import tensorflow_addons as tfa"
      ]
    },
    {
      "cell_type": "code",
      "execution_count": 6,
      "metadata": {
        "id": "9P-_u-rOcDyp"
      },
      "outputs": [],
      "source": [
        "data_base = pd.read_excel('./big_merge_V2_meteo_SAT.xlsx').drop('Unnamed: 0', axis=1)"
      ]
    },
    {
      "cell_type": "code",
      "execution_count": 13,
      "metadata": {},
      "outputs": [
        {
          "data": {
            "text/plain": [
              " 2    962\n",
              " 1    806\n",
              " 3    389\n",
              " 4    146\n",
              " 5     41\n",
              " 6     34\n",
              "-1     25\n",
              "Name: DEGRAD_PPL, dtype: int64"
            ]
          },
          "execution_count": 13,
          "metadata": {},
          "output_type": "execute_result"
        }
      ],
      "source": [
        "data_base.loc[data_base['LFI']=='LFI4','DEGRAD_PPL'].value_counts()"
      ]
    },
    {
      "cell_type": "code",
      "execution_count": 14,
      "metadata": {},
      "outputs": [],
      "source": [
        "data_base['DEGRAD_PPL'] = data_base['DEGRAD_PPL'].apply(lambda v : v if v!=-1 else 3)"
      ]
    },
    {
      "cell_type": "code",
      "execution_count": 15,
      "metadata": {},
      "outputs": [
        {
          "data": {
            "text/plain": [
              "-1    2438\n",
              " 2    2313\n",
              " 3    2133\n",
              " 4    1337\n",
              " 5     629\n",
              " 1     417\n",
              " 6     345\n",
              "Name: TAUX_COUV_RAJ, dtype: int64"
            ]
          },
          "execution_count": 15,
          "metadata": {},
          "output_type": "execute_result"
        }
      ],
      "source": [
        "data_base['TAUX_COUV_RAJ'].value_counts()"
      ]
    },
    {
      "cell_type": "markdown",
      "metadata": {
        "id": "D9f0gOtzfjKT"
      },
      "source": [
        "PREPROCESSING _ Code base for models temporal predictions"
      ]
    },
    {
      "cell_type": "markdown",
      "metadata": {},
      "source": [
        "Ici, features engineering (création de nouvelles features à partir de la liste connues):"
      ]
    },
    {
      "cell_type": "code",
      "execution_count": 16,
      "metadata": {},
      "outputs": [],
      "source": [
        "# adding aridity index\n",
        "data_base[\"AI\"] = data_base['PRCP_GROWTH'] / data_base['TAVE_GROWTH']\n",
        "# adding H/D index\n",
        "data_base[\"H_D\"] = data_base['HAUTEUR_ARBRE'] / data_base['DBH']"
      ]
    },
    {
      "cell_type": "markdown",
      "metadata": {},
      "source": [
        "### Choix TARGET et Features :"
      ]
    },
    {
      "cell_type": "markdown",
      "metadata": {},
      "source": [
        "Target :"
      ]
    },
    {
      "cell_type": "code",
      "execution_count": 60,
      "metadata": {
        "id": "ONWylCfRdilS"
      },
      "outputs": [],
      "source": [
        "TARGET = ['DEGRAD_PPL'] #exemple"
      ]
    },
    {
      "cell_type": "markdown",
      "metadata": {},
      "source": [
        "Features :"
      ]
    },
    {
      "cell_type": "code",
      "execution_count": 61,
      "metadata": {},
      "outputs": [],
      "source": [
        "# --- PAST --- \n",
        "# Attention : on peut, logiquement, inclure la TARGET... (connue dans le passé)\n",
        "cat_strict = ['PRODREG', 'ESPECE_DOM', 'TYP_RAJ_PPL', 'DEG_FERMETURE', 'STR_PPL', 'RELIEF', 'ORIENTATION'] #exemple\n",
        "cat_ord_miss = ['TAUX_COUV_RAJ', 'HT_VEG', 'DEGRAD_PPL'] #exemple 'TAILLE_PPL', 'MELANGE', 'QUAL_STATION', 'SURF_TROU_AER'\n",
        "numerics = ['UNIT_VOL_BOIS_MANQUANT', 'H_D','AI','SDI', 'AGE_PPL','ALT', 'TIGES_VIV_H', 'SURF_TER_HA', 'FEUILL_PER', 'CONIF_PER', 'PERF_CROI', 'NDVI', 'EVI', 'NDMI', 'NDWI', 'DSWI'] #exemple\n",
        "\n",
        "# --- FUTURE KNOWN ---\n",
        "# Attention : logiquement les features, potentiellement connues dans le futur ci-dessous sont aussi répertoriées ci-dessus dans le passé\n",
        "add_cat_IFN_stable = ['ESPECE_DOM', 'DEG_FERMETURE', 'STR_PPL'] # technos-substituts : 'DEG_FERMETURE', 'STR_PPL'\n",
        "add_cat_ord_IFN_stable = [] # technos-substituts : 'DEG_FERMETURE', 'STR_PPL', 'SURF_TROU_AER' 'TAILLE_PPL', 'SURF_TROU_AER'\n",
        "add_IFN_numerics_stable = ['H_D','AI'] # technos-substituts : , 'SDI'\n",
        "# données potentiellement connues car stables par parcelles :\n",
        "#['LAT', 'LON', 'ALT', 'PRODREG', 'HT_VEG', 'SLOPE25', 'ASPECT25', 'ORIENTATION', 'PERF_CROI', 'QUAL_STATION', 'UNIT_VEG_FINE',\n",
        "# 'UNIT_VEG_GROS', 'PROCESS_SILVA', 'PERI_CHENAUX', 'PERI_COULEES','PERI_AVALANCH', 'PERI_CHUTES', 'ETAGE', 'ENDOMMAGEMENT','NB_DEGAT_ARBRE']\n",
        "# + données extrapolées grâce à des technologies prometteuses (satellites ?)....\n",
        "\n",
        "add_meteo_known = ['PRCP', 'TAVE_AVG',\t'TAVE', 'TAVE_GROWTH', 'PRCP_S_S',\t'PRCP_G_S']\n",
        "\n",
        "add_SAT_known = ['NDVI', 'EVI', 'NDMI', 'NDWI', 'DSWI']"
      ]
    },
    {
      "cell_type": "code",
      "execution_count": 62,
      "metadata": {},
      "outputs": [],
      "source": [
        "features_past = numerics + cat_strict + cat_ord_miss\n",
        "features_future = add_cat_IFN_stable + add_cat_ord_IFN_stable + add_IFN_numerics_stable + add_meteo_known + add_SAT_known"
      ]
    },
    {
      "cell_type": "code",
      "execution_count": 63,
      "metadata": {
        "id": "OkL-2XrZdDvZ"
      },
      "outputs": [],
      "source": [
        "data_LFI1 = data_base.loc[data_base['LFI']=='LFI1',:].sort_values('PARCELLE')\n",
        "data_LFI2 = data_base.loc[data_base['LFI']=='LFI2',:].sort_values('PARCELLE')\n",
        "data_LFI3 = data_base.loc[data_base['LFI']=='LFI3',:].sort_values('PARCELLE')\n",
        "data_LFI4 = data_base.loc[data_base['LFI']=='LFI4',:].sort_values('PARCELLE')"
      ]
    },
    {
      "cell_type": "code",
      "execution_count": 64,
      "metadata": {},
      "outputs": [],
      "source": [
        "future_feat_names = []\n",
        "add_cat_strict_feat_names = []\n",
        "add_cat_ord_feat_names = []\n",
        "add_numerics_feat_names = []\n",
        "\n",
        "for cat in features_future:\n",
        "    lfi2_list = data_LFI2[cat].to_list()\n",
        "    lfi3_list = data_LFI3[cat].to_list()\n",
        "    lfi4_list = data_LFI4[cat].to_list()\n",
        "    data_LFI1[cat + \"_f\"] = lfi2_list\n",
        "    data_LFI2[cat + \"_f\"] = lfi2_list\n",
        "    data_LFI3[cat + \"_f\"] = lfi2_list\n",
        "    future_feat_names.append(cat + '_f')\n",
        "    if cat in add_cat_ord_IFN_stable:\n",
        "        add_cat_ord_feat_names.append(cat + '_f')\n",
        "    elif cat in add_cat_IFN_stable:\n",
        "        add_cat_strict_feat_names.append(cat + '_f')\n",
        "    else:\n",
        "        add_numerics_feat_names.append(cat + '_f')\n"
      ]
    },
    {
      "cell_type": "code",
      "execution_count": 65,
      "metadata": {},
      "outputs": [],
      "source": [
        "data_red = pd.concat([data_LFI1, data_LFI2, data_LFI3], axis=0)[features_past + future_feat_names]\n",
        "Y = pd.concat([data_LFI2[TARGET], data_LFI3[TARGET], data_LFI4[TARGET]], axis = 0)"
      ]
    },
    {
      "cell_type": "code",
      "execution_count": 69,
      "metadata": {},
      "outputs": [
        {
          "data": {
            "text/html": [
              "<div>\n",
              "<style scoped>\n",
              "    .dataframe tbody tr th:only-of-type {\n",
              "        vertical-align: middle;\n",
              "    }\n",
              "\n",
              "    .dataframe tbody tr th {\n",
              "        vertical-align: top;\n",
              "    }\n",
              "\n",
              "    .dataframe thead th {\n",
              "        text-align: right;\n",
              "    }\n",
              "</style>\n",
              "<table border=\"1\" class=\"dataframe\">\n",
              "  <thead>\n",
              "    <tr style=\"text-align: right;\">\n",
              "      <th></th>\n",
              "      <th>UNIT_VOL_BOIS_MANQUANT</th>\n",
              "      <th>H_D</th>\n",
              "      <th>AI</th>\n",
              "      <th>SDI</th>\n",
              "      <th>AGE_PPL</th>\n",
              "      <th>ALT</th>\n",
              "      <th>TIGES_VIV_H</th>\n",
              "      <th>SURF_TER_HA</th>\n",
              "      <th>FEUILL_PER</th>\n",
              "      <th>CONIF_PER</th>\n",
              "      <th>...</th>\n",
              "      <th>TAVE_AVG_f</th>\n",
              "      <th>TAVE_f</th>\n",
              "      <th>TAVE_GROWTH_f</th>\n",
              "      <th>PRCP_S_S_f</th>\n",
              "      <th>PRCP_G_S_f</th>\n",
              "      <th>NDVI_f</th>\n",
              "      <th>EVI_f</th>\n",
              "      <th>NDMI_f</th>\n",
              "      <th>NDWI_f</th>\n",
              "      <th>DSWI_f</th>\n",
              "    </tr>\n",
              "  </thead>\n",
              "  <tbody>\n",
              "    <tr>\n",
              "      <th>0</th>\n",
              "      <td>NaN</td>\n",
              "      <td>0.695652</td>\n",
              "      <td>NaN</td>\n",
              "      <td>571</td>\n",
              "      <td>85.0</td>\n",
              "      <td>715.918970</td>\n",
              "      <td>590.0</td>\n",
              "      <td>27.79</td>\n",
              "      <td>NaN</td>\n",
              "      <td>NaN</td>\n",
              "      <td>...</td>\n",
              "      <td>8.8859</td>\n",
              "      <td>9.026806</td>\n",
              "      <td>13.84776</td>\n",
              "      <td>117.278617</td>\n",
              "      <td>51.835496</td>\n",
              "      <td>0.4992</td>\n",
              "      <td>0.0160</td>\n",
              "      <td>0.2705</td>\n",
              "      <td>-0.4653</td>\n",
              "      <td>0.6865</td>\n",
              "    </tr>\n",
              "    <tr>\n",
              "      <th>5</th>\n",
              "      <td>NaN</td>\n",
              "      <td>0.647727</td>\n",
              "      <td>NaN</td>\n",
              "      <td>890</td>\n",
              "      <td>140.0</td>\n",
              "      <td>563.829759</td>\n",
              "      <td>400.0</td>\n",
              "      <td>53.38</td>\n",
              "      <td>NaN</td>\n",
              "      <td>NaN</td>\n",
              "      <td>...</td>\n",
              "      <td>8.9951</td>\n",
              "      <td>19.793490</td>\n",
              "      <td>13.83959</td>\n",
              "      <td>122.675652</td>\n",
              "      <td>55.827235</td>\n",
              "      <td>0.5552</td>\n",
              "      <td>0.0149</td>\n",
              "      <td>0.2017</td>\n",
              "      <td>-0.4864</td>\n",
              "      <td>0.6996</td>\n",
              "    </tr>\n",
              "    <tr>\n",
              "      <th>9</th>\n",
              "      <td>NaN</td>\n",
              "      <td>0.666667</td>\n",
              "      <td>NaN</td>\n",
              "      <td>489</td>\n",
              "      <td>80.0</td>\n",
              "      <td>564.885846</td>\n",
              "      <td>320.0</td>\n",
              "      <td>26.70</td>\n",
              "      <td>NaN</td>\n",
              "      <td>NaN</td>\n",
              "      <td>...</td>\n",
              "      <td>9.0637</td>\n",
              "      <td>11.671380</td>\n",
              "      <td>13.39843</td>\n",
              "      <td>128.067334</td>\n",
              "      <td>61.309991</td>\n",
              "      <td>0.5633</td>\n",
              "      <td>0.0153</td>\n",
              "      <td>0.1727</td>\n",
              "      <td>-0.5002</td>\n",
              "      <td>0.6852</td>\n",
              "    </tr>\n",
              "    <tr>\n",
              "      <th>14</th>\n",
              "      <td>NaN</td>\n",
              "      <td>NaN</td>\n",
              "      <td>NaN</td>\n",
              "      <td>0</td>\n",
              "      <td>2.0</td>\n",
              "      <td>563.551602</td>\n",
              "      <td>0.0</td>\n",
              "      <td>0.00</td>\n",
              "      <td>NaN</td>\n",
              "      <td>NaN</td>\n",
              "      <td>...</td>\n",
              "      <td>8.8805</td>\n",
              "      <td>10.459870</td>\n",
              "      <td>13.15530</td>\n",
              "      <td>130.759873</td>\n",
              "      <td>63.219754</td>\n",
              "      <td>0.6059</td>\n",
              "      <td>0.0197</td>\n",
              "      <td>0.2269</td>\n",
              "      <td>-0.5588</td>\n",
              "      <td>0.8384</td>\n",
              "    </tr>\n",
              "    <tr>\n",
              "      <th>19</th>\n",
              "      <td>NaN</td>\n",
              "      <td>0.676471</td>\n",
              "      <td>NaN</td>\n",
              "      <td>377</td>\n",
              "      <td>130.0</td>\n",
              "      <td>539.769096</td>\n",
              "      <td>150.0</td>\n",
              "      <td>23.32</td>\n",
              "      <td>NaN</td>\n",
              "      <td>NaN</td>\n",
              "      <td>...</td>\n",
              "      <td>8.8384</td>\n",
              "      <td>11.544840</td>\n",
              "      <td>13.16893</td>\n",
              "      <td>131.143585</td>\n",
              "      <td>62.702111</td>\n",
              "      <td>0.6012</td>\n",
              "      <td>0.0184</td>\n",
              "      <td>0.2029</td>\n",
              "      <td>-0.5486</td>\n",
              "      <td>0.7902</td>\n",
              "    </tr>\n",
              "  </tbody>\n",
              "</table>\n",
              "<p>5 rows × 42 columns</p>\n",
              "</div>"
            ],
            "text/plain": [
              "    UNIT_VOL_BOIS_MANQUANT       H_D  AI  SDI  AGE_PPL         ALT  \\\n",
              "0                      NaN  0.695652 NaN  571     85.0  715.918970   \n",
              "5                      NaN  0.647727 NaN  890    140.0  563.829759   \n",
              "9                      NaN  0.666667 NaN  489     80.0  564.885846   \n",
              "14                     NaN       NaN NaN    0      2.0  563.551602   \n",
              "19                     NaN  0.676471 NaN  377    130.0  539.769096   \n",
              "\n",
              "    TIGES_VIV_H  SURF_TER_HA  FEUILL_PER  CONIF_PER  ...  TAVE_AVG_f  \\\n",
              "0         590.0        27.79         NaN        NaN  ...      8.8859   \n",
              "5         400.0        53.38         NaN        NaN  ...      8.9951   \n",
              "9         320.0        26.70         NaN        NaN  ...      9.0637   \n",
              "14          0.0         0.00         NaN        NaN  ...      8.8805   \n",
              "19        150.0        23.32         NaN        NaN  ...      8.8384   \n",
              "\n",
              "       TAVE_f  TAVE_GROWTH_f  PRCP_S_S_f  PRCP_G_S_f  NDVI_f   EVI_f  NDMI_f  \\\n",
              "0    9.026806       13.84776  117.278617   51.835496  0.4992  0.0160  0.2705   \n",
              "5   19.793490       13.83959  122.675652   55.827235  0.5552  0.0149  0.2017   \n",
              "9   11.671380       13.39843  128.067334   61.309991  0.5633  0.0153  0.1727   \n",
              "14  10.459870       13.15530  130.759873   63.219754  0.6059  0.0197  0.2269   \n",
              "19  11.544840       13.16893  131.143585   62.702111  0.6012  0.0184  0.2029   \n",
              "\n",
              "    NDWI_f  DSWI_f  \n",
              "0  -0.4653  0.6865  \n",
              "5  -0.4864  0.6996  \n",
              "9  -0.5002  0.6852  \n",
              "14 -0.5588  0.8384  \n",
              "19 -0.5486  0.7902  \n",
              "\n",
              "[5 rows x 42 columns]"
            ]
          },
          "execution_count": 69,
          "metadata": {},
          "output_type": "execute_result"
        }
      ],
      "source": [
        "data_red.head()"
      ]
    },
    {
      "cell_type": "code",
      "execution_count": 70,
      "metadata": {},
      "outputs": [],
      "source": [
        "Y = Y.to_numpy().ravel()"
      ]
    },
    {
      "cell_type": "markdown",
      "metadata": {},
      "source": [
        "Traitement des données catégorielles ordonnées en numériques (gestion des \"-1\" éventuels) :"
      ]
    },
    {
      "cell_type": "code",
      "execution_count": 72,
      "metadata": {},
      "outputs": [],
      "source": [
        "feats_cat_ord = cat_ord_miss + add_cat_ord_feat_names\n",
        "for cat in feats_cat_ord:\n",
        "  data_red[cat] = data_red[cat].apply(lambda v : v if v!=-1 else np.nan)"
      ]
    },
    {
      "cell_type": "markdown",
      "metadata": {},
      "source": [
        "LISTE DES FEATURES NUMERIQUES ET CATEGORIELLES EN VUE DU PREPROCESSING DE MODELE :"
      ]
    },
    {
      "cell_type": "code",
      "execution_count": 73,
      "metadata": {},
      "outputs": [],
      "source": [
        "numerics_features = numerics + feats_cat_ord + add_numerics_feat_names\n",
        "feats_cat_strict = cat_strict + add_cat_strict_feat_names"
      ]
    },
    {
      "cell_type": "code",
      "execution_count": 74,
      "metadata": {},
      "outputs": [
        {
          "data": {
            "text/plain": [
              "['PRODREG',\n",
              " 'ESPECE_DOM',\n",
              " 'TYP_RAJ_PPL',\n",
              " 'DEG_FERMETURE',\n",
              " 'STR_PPL',\n",
              " 'RELIEF',\n",
              " 'ORIENTATION',\n",
              " 'ESPECE_DOM_f',\n",
              " 'DEG_FERMETURE_f',\n",
              " 'STR_PPL_f']"
            ]
          },
          "execution_count": 74,
          "metadata": {},
          "output_type": "execute_result"
        }
      ],
      "source": [
        "feats_cat_strict"
      ]
    },
    {
      "cell_type": "code",
      "execution_count": 75,
      "metadata": {},
      "outputs": [],
      "source": [
        "numerics_transforms = Pipeline(\n",
        "    [('imputer',KNNImputer()),\n",
        "    ('encoder',StandardScaler())\n",
        "])\n",
        "categorials_transforms = Pipeline([\n",
        "    ('imputer',KNNImputer()),\n",
        "    ('encoder',OneHotEncoder(drop=\"first\"))\n",
        "])\n",
        "\n",
        "preprocessor = ColumnTransformer(\n",
        "    [(\"num\", numerics_transforms, numerics_features),\n",
        "     (\"cat\", categorials_transforms, feats_cat_strict)])"
      ]
    },
    {
      "cell_type": "code",
      "execution_count": 76,
      "metadata": {},
      "outputs": [],
      "source": [
        "data_red['ORIENTATION'] = data_red['ORIENTATION'].map({'N':0,'NE':1,'E':2,'SE':3,'S':4,'SO':5,'O':6,'NO':7})\n",
        "#data_red['ORIENTATION_f'] = data_red['ORIENTATION_f'].map({'N':0,'NE':1,'E':2,'SE':3,'S':4,'SO':5,'O':6,'NO':7})\n"
      ]
    },
    {
      "cell_type": "code",
      "execution_count": 77,
      "metadata": {},
      "outputs": [],
      "source": [
        "X_train, X_test, y_train, y_test = train_test_split(data_red, Y, test_size=0.2, random_state=2, stratify=Y)"
      ]
    },
    {
      "cell_type": "code",
      "execution_count": 78,
      "metadata": {},
      "outputs": [
        {
          "data": {
            "text/plain": [
              "(5767, 42)"
            ]
          },
          "execution_count": 78,
          "metadata": {},
          "output_type": "execute_result"
        }
      ],
      "source": [
        "np.shape(X_train)"
      ]
    },
    {
      "cell_type": "code",
      "execution_count": 79,
      "metadata": {},
      "outputs": [],
      "source": [
        "X_train = preprocessor.fit_transform(X_train)\n",
        "X_test = preprocessor.transform(X_test)"
      ]
    },
    {
      "cell_type": "code",
      "execution_count": 80,
      "metadata": {},
      "outputs": [
        {
          "data": {
            "text/plain": [
              "(5767, 102)"
            ]
          },
          "execution_count": 80,
          "metadata": {},
          "output_type": "execute_result"
        }
      ],
      "source": [
        "np.shape(X_train)"
      ]
    },
    {
      "cell_type": "code",
      "execution_count": 81,
      "metadata": {},
      "outputs": [
        {
          "data": {
            "text/plain": [
              "(1442, 102)"
            ]
          },
          "execution_count": 81,
          "metadata": {},
          "output_type": "execute_result"
        }
      ],
      "source": [
        "np.shape(X_test)"
      ]
    },
    {
      "cell_type": "code",
      "execution_count": 111,
      "metadata": {},
      "outputs": [],
      "source": [
        "model =  RandomForestClassifier()"
      ]
    },
    {
      "cell_type": "code",
      "execution_count": 117,
      "metadata": {},
      "outputs": [],
      "source": [
        "params = {\n",
        "    'n_estimators' : [20, 40, 60],\n",
        "    'max_depth' : [10, 12, 18],\n",
        "    'min_samples_split' : [2, 4, 6] \n",
        "}"
      ]
    },
    {
      "cell_type": "code",
      "execution_count": 118,
      "metadata": {},
      "outputs": [],
      "source": [
        "grid = GridSearchCV(model, param_grid=params, scoring='accuracy', verbose=2)"
      ]
    },
    {
      "cell_type": "code",
      "execution_count": 119,
      "metadata": {},
      "outputs": [
        {
          "name": "stdout",
          "output_type": "stream",
          "text": [
            "Fitting 5 folds for each of 27 candidates, totalling 135 fits\n",
            "[CV] END .max_depth=10, min_samples_split=2, n_estimators=20; total time=   0.2s\n",
            "[CV] END .max_depth=10, min_samples_split=2, n_estimators=20; total time=   0.2s\n",
            "[CV] END .max_depth=10, min_samples_split=2, n_estimators=20; total time=   0.2s\n",
            "[CV] END .max_depth=10, min_samples_split=2, n_estimators=20; total time=   0.2s\n",
            "[CV] END .max_depth=10, min_samples_split=2, n_estimators=20; total time=   0.2s\n",
            "[CV] END .max_depth=10, min_samples_split=2, n_estimators=40; total time=   0.4s\n",
            "[CV] END .max_depth=10, min_samples_split=2, n_estimators=40; total time=   0.4s\n",
            "[CV] END .max_depth=10, min_samples_split=2, n_estimators=40; total time=   0.4s\n",
            "[CV] END .max_depth=10, min_samples_split=2, n_estimators=40; total time=   0.4s\n",
            "[CV] END .max_depth=10, min_samples_split=2, n_estimators=40; total time=   0.4s\n",
            "[CV] END .max_depth=10, min_samples_split=2, n_estimators=60; total time=   0.7s\n",
            "[CV] END .max_depth=10, min_samples_split=2, n_estimators=60; total time=   0.7s\n",
            "[CV] END .max_depth=10, min_samples_split=2, n_estimators=60; total time=   0.8s\n",
            "[CV] END .max_depth=10, min_samples_split=2, n_estimators=60; total time=   0.8s\n",
            "[CV] END .max_depth=10, min_samples_split=2, n_estimators=60; total time=   0.7s\n",
            "[CV] END .max_depth=10, min_samples_split=4, n_estimators=20; total time=   0.2s\n",
            "[CV] END .max_depth=10, min_samples_split=4, n_estimators=20; total time=   0.2s\n",
            "[CV] END .max_depth=10, min_samples_split=4, n_estimators=20; total time=   0.2s\n",
            "[CV] END .max_depth=10, min_samples_split=4, n_estimators=20; total time=   0.2s\n",
            "[CV] END .max_depth=10, min_samples_split=4, n_estimators=20; total time=   0.2s\n",
            "[CV] END .max_depth=10, min_samples_split=4, n_estimators=40; total time=   0.5s\n",
            "[CV] END .max_depth=10, min_samples_split=4, n_estimators=40; total time=   0.5s\n",
            "[CV] END .max_depth=10, min_samples_split=4, n_estimators=40; total time=   0.4s\n",
            "[CV] END .max_depth=10, min_samples_split=4, n_estimators=40; total time=   0.5s\n",
            "[CV] END .max_depth=10, min_samples_split=4, n_estimators=40; total time=   0.4s\n",
            "[CV] END .max_depth=10, min_samples_split=4, n_estimators=60; total time=   0.7s\n",
            "[CV] END .max_depth=10, min_samples_split=4, n_estimators=60; total time=   0.7s\n",
            "[CV] END .max_depth=10, min_samples_split=4, n_estimators=60; total time=   0.7s\n",
            "[CV] END .max_depth=10, min_samples_split=4, n_estimators=60; total time=   0.7s\n",
            "[CV] END .max_depth=10, min_samples_split=4, n_estimators=60; total time=   0.7s\n",
            "[CV] END .max_depth=10, min_samples_split=6, n_estimators=20; total time=   0.2s\n",
            "[CV] END .max_depth=10, min_samples_split=6, n_estimators=20; total time=   0.2s\n",
            "[CV] END .max_depth=10, min_samples_split=6, n_estimators=20; total time=   0.2s\n",
            "[CV] END .max_depth=10, min_samples_split=6, n_estimators=20; total time=   0.2s\n",
            "[CV] END .max_depth=10, min_samples_split=6, n_estimators=20; total time=   0.2s\n",
            "[CV] END .max_depth=10, min_samples_split=6, n_estimators=40; total time=   0.4s\n",
            "[CV] END .max_depth=10, min_samples_split=6, n_estimators=40; total time=   0.4s\n",
            "[CV] END .max_depth=10, min_samples_split=6, n_estimators=40; total time=   0.4s\n",
            "[CV] END .max_depth=10, min_samples_split=6, n_estimators=40; total time=   0.5s\n",
            "[CV] END .max_depth=10, min_samples_split=6, n_estimators=40; total time=   0.4s\n",
            "[CV] END .max_depth=10, min_samples_split=6, n_estimators=60; total time=   0.7s\n",
            "[CV] END .max_depth=10, min_samples_split=6, n_estimators=60; total time=   0.7s\n",
            "[CV] END .max_depth=10, min_samples_split=6, n_estimators=60; total time=   0.7s\n",
            "[CV] END .max_depth=10, min_samples_split=6, n_estimators=60; total time=   0.7s\n",
            "[CV] END .max_depth=10, min_samples_split=6, n_estimators=60; total time=   0.7s\n",
            "[CV] END .max_depth=12, min_samples_split=2, n_estimators=20; total time=   0.2s\n",
            "[CV] END .max_depth=12, min_samples_split=2, n_estimators=20; total time=   0.2s\n",
            "[CV] END .max_depth=12, min_samples_split=2, n_estimators=20; total time=   0.2s\n",
            "[CV] END .max_depth=12, min_samples_split=2, n_estimators=20; total time=   0.2s\n",
            "[CV] END .max_depth=12, min_samples_split=2, n_estimators=20; total time=   0.2s\n",
            "[CV] END .max_depth=12, min_samples_split=2, n_estimators=40; total time=   0.5s\n",
            "[CV] END .max_depth=12, min_samples_split=2, n_estimators=40; total time=   0.5s\n",
            "[CV] END .max_depth=12, min_samples_split=2, n_estimators=40; total time=   0.5s\n",
            "[CV] END .max_depth=12, min_samples_split=2, n_estimators=40; total time=   0.5s\n",
            "[CV] END .max_depth=12, min_samples_split=2, n_estimators=40; total time=   0.5s\n",
            "[CV] END .max_depth=12, min_samples_split=2, n_estimators=60; total time=   0.9s\n",
            "[CV] END .max_depth=12, min_samples_split=2, n_estimators=60; total time=   0.8s\n",
            "[CV] END .max_depth=12, min_samples_split=2, n_estimators=60; total time=   0.8s\n",
            "[CV] END .max_depth=12, min_samples_split=2, n_estimators=60; total time=   0.8s\n",
            "[CV] END .max_depth=12, min_samples_split=2, n_estimators=60; total time=   0.8s\n",
            "[CV] END .max_depth=12, min_samples_split=4, n_estimators=20; total time=   0.2s\n",
            "[CV] END .max_depth=12, min_samples_split=4, n_estimators=20; total time=   0.2s\n",
            "[CV] END .max_depth=12, min_samples_split=4, n_estimators=20; total time=   0.2s\n",
            "[CV] END .max_depth=12, min_samples_split=4, n_estimators=20; total time=   0.2s\n",
            "[CV] END .max_depth=12, min_samples_split=4, n_estimators=20; total time=   0.2s\n",
            "[CV] END .max_depth=12, min_samples_split=4, n_estimators=40; total time=   0.5s\n",
            "[CV] END .max_depth=12, min_samples_split=4, n_estimators=40; total time=   0.5s\n",
            "[CV] END .max_depth=12, min_samples_split=4, n_estimators=40; total time=   0.5s\n",
            "[CV] END .max_depth=12, min_samples_split=4, n_estimators=40; total time=   0.5s\n",
            "[CV] END .max_depth=12, min_samples_split=4, n_estimators=40; total time=   0.5s\n",
            "[CV] END .max_depth=12, min_samples_split=4, n_estimators=60; total time=   0.8s\n",
            "[CV] END .max_depth=12, min_samples_split=4, n_estimators=60; total time=   0.8s\n",
            "[CV] END .max_depth=12, min_samples_split=4, n_estimators=60; total time=   0.9s\n",
            "[CV] END .max_depth=12, min_samples_split=4, n_estimators=60; total time=   0.8s\n",
            "[CV] END .max_depth=12, min_samples_split=4, n_estimators=60; total time=   0.8s\n",
            "[CV] END .max_depth=12, min_samples_split=6, n_estimators=20; total time=   0.2s\n",
            "[CV] END .max_depth=12, min_samples_split=6, n_estimators=20; total time=   0.2s\n",
            "[CV] END .max_depth=12, min_samples_split=6, n_estimators=20; total time=   0.2s\n",
            "[CV] END .max_depth=12, min_samples_split=6, n_estimators=20; total time=   0.2s\n",
            "[CV] END .max_depth=12, min_samples_split=6, n_estimators=20; total time=   0.3s\n",
            "[CV] END .max_depth=12, min_samples_split=6, n_estimators=40; total time=   0.5s\n",
            "[CV] END .max_depth=12, min_samples_split=6, n_estimators=40; total time=   0.5s\n",
            "[CV] END .max_depth=12, min_samples_split=6, n_estimators=40; total time=   0.5s\n",
            "[CV] END .max_depth=12, min_samples_split=6, n_estimators=40; total time=   0.5s\n",
            "[CV] END .max_depth=12, min_samples_split=6, n_estimators=40; total time=   0.5s\n",
            "[CV] END .max_depth=12, min_samples_split=6, n_estimators=60; total time=   0.8s\n",
            "[CV] END .max_depth=12, min_samples_split=6, n_estimators=60; total time=   0.8s\n",
            "[CV] END .max_depth=12, min_samples_split=6, n_estimators=60; total time=   0.7s\n",
            "[CV] END .max_depth=12, min_samples_split=6, n_estimators=60; total time=   0.7s\n",
            "[CV] END .max_depth=12, min_samples_split=6, n_estimators=60; total time=   0.8s\n",
            "[CV] END .max_depth=18, min_samples_split=2, n_estimators=20; total time=   0.3s\n",
            "[CV] END .max_depth=18, min_samples_split=2, n_estimators=20; total time=   0.3s\n",
            "[CV] END .max_depth=18, min_samples_split=2, n_estimators=20; total time=   0.3s\n",
            "[CV] END .max_depth=18, min_samples_split=2, n_estimators=20; total time=   0.3s\n",
            "[CV] END .max_depth=18, min_samples_split=2, n_estimators=20; total time=   0.3s\n",
            "[CV] END .max_depth=18, min_samples_split=2, n_estimators=40; total time=   0.6s\n",
            "[CV] END .max_depth=18, min_samples_split=2, n_estimators=40; total time=   0.6s\n",
            "[CV] END .max_depth=18, min_samples_split=2, n_estimators=40; total time=   0.6s\n",
            "[CV] END .max_depth=18, min_samples_split=2, n_estimators=40; total time=   0.6s\n",
            "[CV] END .max_depth=18, min_samples_split=2, n_estimators=40; total time=   0.6s\n",
            "[CV] END .max_depth=18, min_samples_split=2, n_estimators=60; total time=   1.0s\n",
            "[CV] END .max_depth=18, min_samples_split=2, n_estimators=60; total time=   1.0s\n",
            "[CV] END .max_depth=18, min_samples_split=2, n_estimators=60; total time=   1.0s\n",
            "[CV] END .max_depth=18, min_samples_split=2, n_estimators=60; total time=   1.0s\n",
            "[CV] END .max_depth=18, min_samples_split=2, n_estimators=60; total time=   1.0s\n",
            "[CV] END .max_depth=18, min_samples_split=4, n_estimators=20; total time=   0.3s\n",
            "[CV] END .max_depth=18, min_samples_split=4, n_estimators=20; total time=   0.2s\n",
            "[CV] END .max_depth=18, min_samples_split=4, n_estimators=20; total time=   0.2s\n",
            "[CV] END .max_depth=18, min_samples_split=4, n_estimators=20; total time=   0.2s\n",
            "[CV] END .max_depth=18, min_samples_split=4, n_estimators=20; total time=   0.3s\n",
            "[CV] END .max_depth=18, min_samples_split=4, n_estimators=40; total time=   0.6s\n",
            "[CV] END .max_depth=18, min_samples_split=4, n_estimators=40; total time=   0.6s\n",
            "[CV] END .max_depth=18, min_samples_split=4, n_estimators=40; total time=   0.6s\n",
            "[CV] END .max_depth=18, min_samples_split=4, n_estimators=40; total time=   0.6s\n",
            "[CV] END .max_depth=18, min_samples_split=4, n_estimators=40; total time=   0.6s\n",
            "[CV] END .max_depth=18, min_samples_split=4, n_estimators=60; total time=   1.0s\n",
            "[CV] END .max_depth=18, min_samples_split=4, n_estimators=60; total time=   1.0s\n",
            "[CV] END .max_depth=18, min_samples_split=4, n_estimators=60; total time=   1.0s\n",
            "[CV] END .max_depth=18, min_samples_split=4, n_estimators=60; total time=   1.0s\n",
            "[CV] END .max_depth=18, min_samples_split=4, n_estimators=60; total time=   1.0s\n",
            "[CV] END .max_depth=18, min_samples_split=6, n_estimators=20; total time=   0.2s\n",
            "[CV] END .max_depth=18, min_samples_split=6, n_estimators=20; total time=   0.2s\n",
            "[CV] END .max_depth=18, min_samples_split=6, n_estimators=20; total time=   0.2s\n",
            "[CV] END .max_depth=18, min_samples_split=6, n_estimators=20; total time=   0.3s\n",
            "[CV] END .max_depth=18, min_samples_split=6, n_estimators=20; total time=   0.3s\n",
            "[CV] END .max_depth=18, min_samples_split=6, n_estimators=40; total time=   0.6s\n",
            "[CV] END .max_depth=18, min_samples_split=6, n_estimators=40; total time=   0.6s\n",
            "[CV] END .max_depth=18, min_samples_split=6, n_estimators=40; total time=   0.6s\n",
            "[CV] END .max_depth=18, min_samples_split=6, n_estimators=40; total time=   0.6s\n",
            "[CV] END .max_depth=18, min_samples_split=6, n_estimators=40; total time=   0.6s\n",
            "[CV] END .max_depth=18, min_samples_split=6, n_estimators=60; total time=   0.9s\n",
            "[CV] END .max_depth=18, min_samples_split=6, n_estimators=60; total time=   0.9s\n",
            "[CV] END .max_depth=18, min_samples_split=6, n_estimators=60; total time=   1.0s\n",
            "[CV] END .max_depth=18, min_samples_split=6, n_estimators=60; total time=   1.0s\n",
            "[CV] END .max_depth=18, min_samples_split=6, n_estimators=60; total time=   1.0s\n"
          ]
        },
        {
          "data": {
            "text/plain": [
              "GridSearchCV(estimator=RandomForestClassifier(),\n",
              "             param_grid={'max_depth': [10, 12, 18],\n",
              "                         'min_samples_split': [2, 4, 6],\n",
              "                         'n_estimators': [20, 40, 60]},\n",
              "             scoring='accuracy', verbose=2)"
            ]
          },
          "execution_count": 119,
          "metadata": {},
          "output_type": "execute_result"
        }
      ],
      "source": [
        "grid.fit(X_train, y_train)"
      ]
    },
    {
      "cell_type": "code",
      "execution_count": 120,
      "metadata": {},
      "outputs": [
        {
          "data": {
            "text/plain": [
              "RandomForestClassifier(max_depth=12, n_estimators=60)"
            ]
          },
          "execution_count": 120,
          "metadata": {},
          "output_type": "execute_result"
        }
      ],
      "source": [
        "grid.best_estimator_"
      ]
    },
    {
      "cell_type": "code",
      "execution_count": 121,
      "metadata": {},
      "outputs": [
        {
          "name": "stdout",
          "output_type": "stream",
          "text": [
            "Train score mean : 0.5129201044370725\n",
            "Train score std : 0.014280228961167292\n",
            "Test score mean : 0.461868031526336\n",
            "Test score std : 0.015361416782259364\n"
          ]
        }
      ],
      "source": [
        "train_scores = cross_val_score(grid.best_estimator_, X_train, y_train, cv=5)\n",
        "test_scores = cross_val_score(grid.best_estimator_, X_test, y_test, cv=5)\n",
        "print(f'Train score mean : {np.mean(train_scores)}')\n",
        "print(f'Train score std : {np.std(train_scores)}')\n",
        "print(f'Test score mean : {np.mean(test_scores)}')\n",
        "print(f'Test score std : {np.std(test_scores)}')"
      ]
    },
    {
      "cell_type": "code",
      "execution_count": 108,
      "metadata": {},
      "outputs": [],
      "source": [
        "list_features_in = []\n",
        "for feat in numerics_features:\n",
        "  list_features_in.append(feat)\n",
        "for cat in feats_cat_strict:\n",
        "  nb_lab = len(data_red[cat].unique())-1\n",
        "  for i in range(nb_lab):\n",
        "    list_features_in.append(f'{cat}_{i}')"
      ]
    },
    {
      "cell_type": "code",
      "execution_count": 109,
      "metadata": {},
      "outputs": [
        {
          "ename": "AttributeError",
          "evalue": "'DecisionTreeClassifier' object has no attribute 'coef_'",
          "output_type": "error",
          "traceback": [
            "\u001b[1;31m---------------------------------------------------------------------------\u001b[0m",
            "\u001b[1;31mAttributeError\u001b[0m                            Traceback (most recent call last)",
            "\u001b[1;32m~\\AppData\\Local\\Temp\\ipykernel_23540\\764878975.py\u001b[0m in \u001b[0;36m<module>\u001b[1;34m\u001b[0m\n\u001b[1;32m----> 1\u001b[1;33m \u001b[0mdf_coef_inter\u001b[0m \u001b[1;33m=\u001b[0m \u001b[0mpd\u001b[0m\u001b[1;33m.\u001b[0m\u001b[0mDataFrame\u001b[0m\u001b[1;33m(\u001b[0m\u001b[0mgrid\u001b[0m\u001b[1;33m.\u001b[0m\u001b[0mbest_estimator_\u001b[0m\u001b[1;33m.\u001b[0m\u001b[0mcoef_\u001b[0m\u001b[1;33m)\u001b[0m\u001b[1;33m\u001b[0m\u001b[1;33m\u001b[0m\u001b[0m\n\u001b[0m",
            "\u001b[1;31mAttributeError\u001b[0m: 'DecisionTreeClassifier' object has no attribute 'coef_'"
          ]
        }
      ],
      "source": [
        "df_coef_inter = pd.DataFrame(grid.best_estimator_.coef_)"
      ]
    },
    {
      "cell_type": "code",
      "execution_count": 43,
      "metadata": {},
      "outputs": [
        {
          "data": {
            "text/plain": [
              "102"
            ]
          },
          "execution_count": 43,
          "metadata": {},
          "output_type": "execute_result"
        }
      ],
      "source": [
        "len(abs(df_coef_inter).sum())"
      ]
    },
    {
      "cell_type": "code",
      "execution_count": 44,
      "metadata": {},
      "outputs": [],
      "source": [
        "df_coef = pd.DataFrame(abs(df_coef_inter).sum(), columns=['Coeff'])"
      ]
    },
    {
      "cell_type": "code",
      "execution_count": 45,
      "metadata": {},
      "outputs": [
        {
          "data": {
            "text/html": [
              "<div>\n",
              "<style scoped>\n",
              "    .dataframe tbody tr th:only-of-type {\n",
              "        vertical-align: middle;\n",
              "    }\n",
              "\n",
              "    .dataframe tbody tr th {\n",
              "        vertical-align: top;\n",
              "    }\n",
              "\n",
              "    .dataframe thead th {\n",
              "        text-align: right;\n",
              "    }\n",
              "</style>\n",
              "<table border=\"1\" class=\"dataframe\">\n",
              "  <thead>\n",
              "    <tr style=\"text-align: right;\">\n",
              "      <th></th>\n",
              "      <th>Coeff</th>\n",
              "    </tr>\n",
              "  </thead>\n",
              "  <tbody>\n",
              "    <tr>\n",
              "      <th>0</th>\n",
              "      <td>0.114190</td>\n",
              "    </tr>\n",
              "    <tr>\n",
              "      <th>1</th>\n",
              "      <td>0.077257</td>\n",
              "    </tr>\n",
              "    <tr>\n",
              "      <th>2</th>\n",
              "      <td>0.041447</td>\n",
              "    </tr>\n",
              "    <tr>\n",
              "      <th>3</th>\n",
              "      <td>1.033770</td>\n",
              "    </tr>\n",
              "    <tr>\n",
              "      <th>4</th>\n",
              "      <td>0.145568</td>\n",
              "    </tr>\n",
              "    <tr>\n",
              "      <th>...</th>\n",
              "      <td>...</td>\n",
              "    </tr>\n",
              "    <tr>\n",
              "      <th>97</th>\n",
              "      <td>0.287888</td>\n",
              "    </tr>\n",
              "    <tr>\n",
              "      <th>98</th>\n",
              "      <td>0.233795</td>\n",
              "    </tr>\n",
              "    <tr>\n",
              "      <th>99</th>\n",
              "      <td>0.290973</td>\n",
              "    </tr>\n",
              "    <tr>\n",
              "      <th>100</th>\n",
              "      <td>0.317581</td>\n",
              "    </tr>\n",
              "    <tr>\n",
              "      <th>101</th>\n",
              "      <td>0.398328</td>\n",
              "    </tr>\n",
              "  </tbody>\n",
              "</table>\n",
              "<p>102 rows × 1 columns</p>\n",
              "</div>"
            ],
            "text/plain": [
              "        Coeff\n",
              "0    0.114190\n",
              "1    0.077257\n",
              "2    0.041447\n",
              "3    1.033770\n",
              "4    0.145568\n",
              "..        ...\n",
              "97   0.287888\n",
              "98   0.233795\n",
              "99   0.290973\n",
              "100  0.317581\n",
              "101  0.398328\n",
              "\n",
              "[102 rows x 1 columns]"
            ]
          },
          "execution_count": 45,
          "metadata": {},
          "output_type": "execute_result"
        }
      ],
      "source": [
        "df_coef"
      ]
    },
    {
      "cell_type": "code",
      "execution_count": 46,
      "metadata": {},
      "outputs": [
        {
          "data": {
            "text/plain": [
              "102"
            ]
          },
          "execution_count": 46,
          "metadata": {},
          "output_type": "execute_result"
        }
      ],
      "source": [
        "len(list_features_in)"
      ]
    },
    {
      "cell_type": "code",
      "execution_count": 47,
      "metadata": {},
      "outputs": [],
      "source": [
        "df_coef['Features'] = list_features_in"
      ]
    },
    {
      "cell_type": "code",
      "execution_count": 48,
      "metadata": {},
      "outputs": [],
      "source": [
        "df_coef = df_coef.set_index('Features')"
      ]
    },
    {
      "cell_type": "code",
      "execution_count": 49,
      "metadata": {},
      "outputs": [
        {
          "data": {
            "application/vnd.plotly.v1+json": {
              "config": {
                "plotlyServerURL": "https://plot.ly"
              },
              "data": [
                {
                  "alignmentgroup": "True",
                  "hovertemplate": "variable=Coeff<br>Features=%{x}<br>value=%{y}<extra></extra>",
                  "legendgroup": "Coeff",
                  "marker": {
                    "color": "#636efa",
                    "pattern": {
                      "shape": ""
                    }
                  },
                  "name": "Coeff",
                  "offsetgroup": "Coeff",
                  "orientation": "v",
                  "showlegend": true,
                  "textposition": "auto",
                  "type": "bar",
                  "x": [
                    "UNIT_VOL_BOIS_MANQUANT",
                    "H_D",
                    "AI",
                    "SDI",
                    "AGE_PPL",
                    "ALT",
                    "TIGES_VIV_H",
                    "SURF_TER_HA",
                    "FEUILL_PER",
                    "CONIF_PER",
                    "PERF_CROI",
                    "NDVI",
                    "EVI",
                    "NDMI",
                    "NDWI",
                    "DSWI",
                    "TAUX_COUV_RAJ",
                    "HT_VEG",
                    "DEGRAD_PPL",
                    "H_D_f",
                    "AI_f",
                    "PRCP_f",
                    "TAVE_AVG_f",
                    "TAVE_f",
                    "TAVE_GROWTH_f",
                    "PRCP_S_S_f",
                    "PRCP_G_S_f",
                    "NDVI_f",
                    "EVI_f",
                    "NDMI_f",
                    "NDWI_f",
                    "DSWI_f",
                    "PRODREG_0",
                    "PRODREG_1",
                    "PRODREG_2",
                    "PRODREG_3",
                    "ESPECE_DOM_0",
                    "ESPECE_DOM_1",
                    "ESPECE_DOM_2",
                    "ESPECE_DOM_3",
                    "ESPECE_DOM_4",
                    "ESPECE_DOM_5",
                    "ESPECE_DOM_6",
                    "ESPECE_DOM_7",
                    "ESPECE_DOM_8",
                    "ESPECE_DOM_9",
                    "ESPECE_DOM_10",
                    "ESPECE_DOM_11",
                    "TYP_RAJ_PPL_0",
                    "TYP_RAJ_PPL_1",
                    "TYP_RAJ_PPL_2",
                    "DEG_FERMETURE_0",
                    "DEG_FERMETURE_1",
                    "DEG_FERMETURE_2",
                    "DEG_FERMETURE_3",
                    "DEG_FERMETURE_4",
                    "DEG_FERMETURE_5",
                    "DEG_FERMETURE_6",
                    "DEG_FERMETURE_7",
                    "DEG_FERMETURE_8",
                    "DEG_FERMETURE_9",
                    "DEG_FERMETURE_10",
                    "STR_PPL_0",
                    "STR_PPL_1",
                    "STR_PPL_2",
                    "STR_PPL_3",
                    "RELIEF_0",
                    "RELIEF_1",
                    "RELIEF_2",
                    "RELIEF_3",
                    "RELIEF_4",
                    "ORIENTATION_0",
                    "ORIENTATION_1",
                    "ORIENTATION_2",
                    "ORIENTATION_3",
                    "ORIENTATION_4",
                    "ORIENTATION_5",
                    "ORIENTATION_6",
                    "ESPECE_DOM_f_0",
                    "ESPECE_DOM_f_1",
                    "ESPECE_DOM_f_2",
                    "ESPECE_DOM_f_3",
                    "ESPECE_DOM_f_4",
                    "ESPECE_DOM_f_5",
                    "ESPECE_DOM_f_6",
                    "ESPECE_DOM_f_7",
                    "ESPECE_DOM_f_8",
                    "ESPECE_DOM_f_9",
                    "ESPECE_DOM_f_10",
                    "ESPECE_DOM_f_11",
                    "DEG_FERMETURE_f_0",
                    "DEG_FERMETURE_f_1",
                    "DEG_FERMETURE_f_2",
                    "DEG_FERMETURE_f_3",
                    "DEG_FERMETURE_f_4",
                    "DEG_FERMETURE_f_5",
                    "DEG_FERMETURE_f_6",
                    "DEG_FERMETURE_f_7",
                    "STR_PPL_f_0",
                    "STR_PPL_f_1",
                    "STR_PPL_f_2",
                    "STR_PPL_f_3"
                  ],
                  "xaxis": "x",
                  "y": [
                    0.11418974511918559,
                    0.07725689362131474,
                    0.04144704718426791,
                    1.0337704716335046,
                    0.1455675788023976,
                    0.2343330134750644,
                    0.2405843307191499,
                    0.7722844107655319,
                    0.14908821013800522,
                    0.18724638522046022,
                    0.1489960117181533,
                    0.44039755638056316,
                    0.3279524026632307,
                    0.056703403659718064,
                    0.7906766470300305,
                    0.11901017991697714,
                    0.06690992670390511,
                    0.17518924544391745,
                    0.6253978208494633,
                    0.08512004741543716,
                    0.27067542787124144,
                    0.05148878698824346,
                    0.040368928891009834,
                    0.07800174409419257,
                    0.2020351325589926,
                    0.13942229637048512,
                    0.2693886172438844,
                    0.6524355537925447,
                    0.18175769050533766,
                    0.06882614853807961,
                    0.4209311349104026,
                    0.30714200920916723,
                    0.7578356089074034,
                    0.4805882590845287,
                    0.2254528411440925,
                    0.18669784356795835,
                    0.25554132850087674,
                    0.38739476407869033,
                    0.7806483166393746,
                    0.645576859071773,
                    0.33742117127345655,
                    0.3590943873867293,
                    0.5292541720537499,
                    0.4818595248815297,
                    0.672071801160881,
                    0.5759921523719376,
                    0.5977849627259574,
                    0.704737558980451,
                    0.17286328707460152,
                    0.6268165014374362,
                    0.2194294892370854,
                    0.1457698600801817,
                    0.22744180571904488,
                    0.3618666405017124,
                    0.18247369946615744,
                    0.2510252162719611,
                    0.28925051569694693,
                    0.27194157947347125,
                    0.40743123004442,
                    0.41500283979521146,
                    0.314676555032855,
                    0.5634824418379663,
                    0.2142934942542602,
                    0.1959358477272545,
                    0.1962252968594541,
                    0.45171000909414116,
                    0.2532349952685305,
                    0.35296763813697496,
                    0.30997145903195406,
                    0.4089113219029751,
                    0.6657416586884716,
                    0.16977672296366922,
                    0.1603728921431526,
                    0.09427854880427874,
                    0.09089630575206405,
                    0.221255207871858,
                    0.2866371429335091,
                    0.1628568596053328,
                    0.77958556014613,
                    0.7440568624984757,
                    0.3493840470195848,
                    0.7937600122072179,
                    0.404656501065153,
                    0.1681700687173723,
                    0.5871941053566058,
                    0.5962676196520047,
                    0.6791940594477938,
                    0.783405430162771,
                    0.6074232143039532,
                    0.5170105550174752,
                    0.34907293692967484,
                    0.2501319779090448,
                    0.32229808619494404,
                    0.15773955975758064,
                    0.2592975337398642,
                    0.2935743126505215,
                    0.09990306293936728,
                    0.2878878921977497,
                    0.23379452017834484,
                    0.2909730262734352,
                    0.3175806040768714,
                    0.3983281087812176
                  ],
                  "yaxis": "y"
                }
              ],
              "layout": {
                "barmode": "relative",
                "legend": {
                  "title": {
                    "text": "variable"
                  },
                  "tracegroupgap": 0
                },
                "template": {
                  "data": {
                    "bar": [
                      {
                        "error_x": {
                          "color": "#2a3f5f"
                        },
                        "error_y": {
                          "color": "#2a3f5f"
                        },
                        "marker": {
                          "line": {
                            "color": "#E5ECF6",
                            "width": 0.5
                          },
                          "pattern": {
                            "fillmode": "overlay",
                            "size": 10,
                            "solidity": 0.2
                          }
                        },
                        "type": "bar"
                      }
                    ],
                    "barpolar": [
                      {
                        "marker": {
                          "line": {
                            "color": "#E5ECF6",
                            "width": 0.5
                          },
                          "pattern": {
                            "fillmode": "overlay",
                            "size": 10,
                            "solidity": 0.2
                          }
                        },
                        "type": "barpolar"
                      }
                    ],
                    "carpet": [
                      {
                        "aaxis": {
                          "endlinecolor": "#2a3f5f",
                          "gridcolor": "white",
                          "linecolor": "white",
                          "minorgridcolor": "white",
                          "startlinecolor": "#2a3f5f"
                        },
                        "baxis": {
                          "endlinecolor": "#2a3f5f",
                          "gridcolor": "white",
                          "linecolor": "white",
                          "minorgridcolor": "white",
                          "startlinecolor": "#2a3f5f"
                        },
                        "type": "carpet"
                      }
                    ],
                    "choropleth": [
                      {
                        "colorbar": {
                          "outlinewidth": 0,
                          "ticks": ""
                        },
                        "type": "choropleth"
                      }
                    ],
                    "contour": [
                      {
                        "colorbar": {
                          "outlinewidth": 0,
                          "ticks": ""
                        },
                        "colorscale": [
                          [
                            0,
                            "#0d0887"
                          ],
                          [
                            0.1111111111111111,
                            "#46039f"
                          ],
                          [
                            0.2222222222222222,
                            "#7201a8"
                          ],
                          [
                            0.3333333333333333,
                            "#9c179e"
                          ],
                          [
                            0.4444444444444444,
                            "#bd3786"
                          ],
                          [
                            0.5555555555555556,
                            "#d8576b"
                          ],
                          [
                            0.6666666666666666,
                            "#ed7953"
                          ],
                          [
                            0.7777777777777778,
                            "#fb9f3a"
                          ],
                          [
                            0.8888888888888888,
                            "#fdca26"
                          ],
                          [
                            1,
                            "#f0f921"
                          ]
                        ],
                        "type": "contour"
                      }
                    ],
                    "contourcarpet": [
                      {
                        "colorbar": {
                          "outlinewidth": 0,
                          "ticks": ""
                        },
                        "type": "contourcarpet"
                      }
                    ],
                    "heatmap": [
                      {
                        "colorbar": {
                          "outlinewidth": 0,
                          "ticks": ""
                        },
                        "colorscale": [
                          [
                            0,
                            "#0d0887"
                          ],
                          [
                            0.1111111111111111,
                            "#46039f"
                          ],
                          [
                            0.2222222222222222,
                            "#7201a8"
                          ],
                          [
                            0.3333333333333333,
                            "#9c179e"
                          ],
                          [
                            0.4444444444444444,
                            "#bd3786"
                          ],
                          [
                            0.5555555555555556,
                            "#d8576b"
                          ],
                          [
                            0.6666666666666666,
                            "#ed7953"
                          ],
                          [
                            0.7777777777777778,
                            "#fb9f3a"
                          ],
                          [
                            0.8888888888888888,
                            "#fdca26"
                          ],
                          [
                            1,
                            "#f0f921"
                          ]
                        ],
                        "type": "heatmap"
                      }
                    ],
                    "heatmapgl": [
                      {
                        "colorbar": {
                          "outlinewidth": 0,
                          "ticks": ""
                        },
                        "colorscale": [
                          [
                            0,
                            "#0d0887"
                          ],
                          [
                            0.1111111111111111,
                            "#46039f"
                          ],
                          [
                            0.2222222222222222,
                            "#7201a8"
                          ],
                          [
                            0.3333333333333333,
                            "#9c179e"
                          ],
                          [
                            0.4444444444444444,
                            "#bd3786"
                          ],
                          [
                            0.5555555555555556,
                            "#d8576b"
                          ],
                          [
                            0.6666666666666666,
                            "#ed7953"
                          ],
                          [
                            0.7777777777777778,
                            "#fb9f3a"
                          ],
                          [
                            0.8888888888888888,
                            "#fdca26"
                          ],
                          [
                            1,
                            "#f0f921"
                          ]
                        ],
                        "type": "heatmapgl"
                      }
                    ],
                    "histogram": [
                      {
                        "marker": {
                          "pattern": {
                            "fillmode": "overlay",
                            "size": 10,
                            "solidity": 0.2
                          }
                        },
                        "type": "histogram"
                      }
                    ],
                    "histogram2d": [
                      {
                        "colorbar": {
                          "outlinewidth": 0,
                          "ticks": ""
                        },
                        "colorscale": [
                          [
                            0,
                            "#0d0887"
                          ],
                          [
                            0.1111111111111111,
                            "#46039f"
                          ],
                          [
                            0.2222222222222222,
                            "#7201a8"
                          ],
                          [
                            0.3333333333333333,
                            "#9c179e"
                          ],
                          [
                            0.4444444444444444,
                            "#bd3786"
                          ],
                          [
                            0.5555555555555556,
                            "#d8576b"
                          ],
                          [
                            0.6666666666666666,
                            "#ed7953"
                          ],
                          [
                            0.7777777777777778,
                            "#fb9f3a"
                          ],
                          [
                            0.8888888888888888,
                            "#fdca26"
                          ],
                          [
                            1,
                            "#f0f921"
                          ]
                        ],
                        "type": "histogram2d"
                      }
                    ],
                    "histogram2dcontour": [
                      {
                        "colorbar": {
                          "outlinewidth": 0,
                          "ticks": ""
                        },
                        "colorscale": [
                          [
                            0,
                            "#0d0887"
                          ],
                          [
                            0.1111111111111111,
                            "#46039f"
                          ],
                          [
                            0.2222222222222222,
                            "#7201a8"
                          ],
                          [
                            0.3333333333333333,
                            "#9c179e"
                          ],
                          [
                            0.4444444444444444,
                            "#bd3786"
                          ],
                          [
                            0.5555555555555556,
                            "#d8576b"
                          ],
                          [
                            0.6666666666666666,
                            "#ed7953"
                          ],
                          [
                            0.7777777777777778,
                            "#fb9f3a"
                          ],
                          [
                            0.8888888888888888,
                            "#fdca26"
                          ],
                          [
                            1,
                            "#f0f921"
                          ]
                        ],
                        "type": "histogram2dcontour"
                      }
                    ],
                    "mesh3d": [
                      {
                        "colorbar": {
                          "outlinewidth": 0,
                          "ticks": ""
                        },
                        "type": "mesh3d"
                      }
                    ],
                    "parcoords": [
                      {
                        "line": {
                          "colorbar": {
                            "outlinewidth": 0,
                            "ticks": ""
                          }
                        },
                        "type": "parcoords"
                      }
                    ],
                    "pie": [
                      {
                        "automargin": true,
                        "type": "pie"
                      }
                    ],
                    "scatter": [
                      {
                        "fillpattern": {
                          "fillmode": "overlay",
                          "size": 10,
                          "solidity": 0.2
                        },
                        "type": "scatter"
                      }
                    ],
                    "scatter3d": [
                      {
                        "line": {
                          "colorbar": {
                            "outlinewidth": 0,
                            "ticks": ""
                          }
                        },
                        "marker": {
                          "colorbar": {
                            "outlinewidth": 0,
                            "ticks": ""
                          }
                        },
                        "type": "scatter3d"
                      }
                    ],
                    "scattercarpet": [
                      {
                        "marker": {
                          "colorbar": {
                            "outlinewidth": 0,
                            "ticks": ""
                          }
                        },
                        "type": "scattercarpet"
                      }
                    ],
                    "scattergeo": [
                      {
                        "marker": {
                          "colorbar": {
                            "outlinewidth": 0,
                            "ticks": ""
                          }
                        },
                        "type": "scattergeo"
                      }
                    ],
                    "scattergl": [
                      {
                        "marker": {
                          "colorbar": {
                            "outlinewidth": 0,
                            "ticks": ""
                          }
                        },
                        "type": "scattergl"
                      }
                    ],
                    "scattermapbox": [
                      {
                        "marker": {
                          "colorbar": {
                            "outlinewidth": 0,
                            "ticks": ""
                          }
                        },
                        "type": "scattermapbox"
                      }
                    ],
                    "scatterpolar": [
                      {
                        "marker": {
                          "colorbar": {
                            "outlinewidth": 0,
                            "ticks": ""
                          }
                        },
                        "type": "scatterpolar"
                      }
                    ],
                    "scatterpolargl": [
                      {
                        "marker": {
                          "colorbar": {
                            "outlinewidth": 0,
                            "ticks": ""
                          }
                        },
                        "type": "scatterpolargl"
                      }
                    ],
                    "scatterternary": [
                      {
                        "marker": {
                          "colorbar": {
                            "outlinewidth": 0,
                            "ticks": ""
                          }
                        },
                        "type": "scatterternary"
                      }
                    ],
                    "surface": [
                      {
                        "colorbar": {
                          "outlinewidth": 0,
                          "ticks": ""
                        },
                        "colorscale": [
                          [
                            0,
                            "#0d0887"
                          ],
                          [
                            0.1111111111111111,
                            "#46039f"
                          ],
                          [
                            0.2222222222222222,
                            "#7201a8"
                          ],
                          [
                            0.3333333333333333,
                            "#9c179e"
                          ],
                          [
                            0.4444444444444444,
                            "#bd3786"
                          ],
                          [
                            0.5555555555555556,
                            "#d8576b"
                          ],
                          [
                            0.6666666666666666,
                            "#ed7953"
                          ],
                          [
                            0.7777777777777778,
                            "#fb9f3a"
                          ],
                          [
                            0.8888888888888888,
                            "#fdca26"
                          ],
                          [
                            1,
                            "#f0f921"
                          ]
                        ],
                        "type": "surface"
                      }
                    ],
                    "table": [
                      {
                        "cells": {
                          "fill": {
                            "color": "#EBF0F8"
                          },
                          "line": {
                            "color": "white"
                          }
                        },
                        "header": {
                          "fill": {
                            "color": "#C8D4E3"
                          },
                          "line": {
                            "color": "white"
                          }
                        },
                        "type": "table"
                      }
                    ]
                  },
                  "layout": {
                    "annotationdefaults": {
                      "arrowcolor": "#2a3f5f",
                      "arrowhead": 0,
                      "arrowwidth": 1
                    },
                    "autotypenumbers": "strict",
                    "coloraxis": {
                      "colorbar": {
                        "outlinewidth": 0,
                        "ticks": ""
                      }
                    },
                    "colorscale": {
                      "diverging": [
                        [
                          0,
                          "#8e0152"
                        ],
                        [
                          0.1,
                          "#c51b7d"
                        ],
                        [
                          0.2,
                          "#de77ae"
                        ],
                        [
                          0.3,
                          "#f1b6da"
                        ],
                        [
                          0.4,
                          "#fde0ef"
                        ],
                        [
                          0.5,
                          "#f7f7f7"
                        ],
                        [
                          0.6,
                          "#e6f5d0"
                        ],
                        [
                          0.7,
                          "#b8e186"
                        ],
                        [
                          0.8,
                          "#7fbc41"
                        ],
                        [
                          0.9,
                          "#4d9221"
                        ],
                        [
                          1,
                          "#276419"
                        ]
                      ],
                      "sequential": [
                        [
                          0,
                          "#0d0887"
                        ],
                        [
                          0.1111111111111111,
                          "#46039f"
                        ],
                        [
                          0.2222222222222222,
                          "#7201a8"
                        ],
                        [
                          0.3333333333333333,
                          "#9c179e"
                        ],
                        [
                          0.4444444444444444,
                          "#bd3786"
                        ],
                        [
                          0.5555555555555556,
                          "#d8576b"
                        ],
                        [
                          0.6666666666666666,
                          "#ed7953"
                        ],
                        [
                          0.7777777777777778,
                          "#fb9f3a"
                        ],
                        [
                          0.8888888888888888,
                          "#fdca26"
                        ],
                        [
                          1,
                          "#f0f921"
                        ]
                      ],
                      "sequentialminus": [
                        [
                          0,
                          "#0d0887"
                        ],
                        [
                          0.1111111111111111,
                          "#46039f"
                        ],
                        [
                          0.2222222222222222,
                          "#7201a8"
                        ],
                        [
                          0.3333333333333333,
                          "#9c179e"
                        ],
                        [
                          0.4444444444444444,
                          "#bd3786"
                        ],
                        [
                          0.5555555555555556,
                          "#d8576b"
                        ],
                        [
                          0.6666666666666666,
                          "#ed7953"
                        ],
                        [
                          0.7777777777777778,
                          "#fb9f3a"
                        ],
                        [
                          0.8888888888888888,
                          "#fdca26"
                        ],
                        [
                          1,
                          "#f0f921"
                        ]
                      ]
                    },
                    "colorway": [
                      "#636efa",
                      "#EF553B",
                      "#00cc96",
                      "#ab63fa",
                      "#FFA15A",
                      "#19d3f3",
                      "#FF6692",
                      "#B6E880",
                      "#FF97FF",
                      "#FECB52"
                    ],
                    "font": {
                      "color": "#2a3f5f"
                    },
                    "geo": {
                      "bgcolor": "white",
                      "lakecolor": "white",
                      "landcolor": "#E5ECF6",
                      "showlakes": true,
                      "showland": true,
                      "subunitcolor": "white"
                    },
                    "hoverlabel": {
                      "align": "left"
                    },
                    "hovermode": "closest",
                    "mapbox": {
                      "style": "light"
                    },
                    "paper_bgcolor": "white",
                    "plot_bgcolor": "#E5ECF6",
                    "polar": {
                      "angularaxis": {
                        "gridcolor": "white",
                        "linecolor": "white",
                        "ticks": ""
                      },
                      "bgcolor": "#E5ECF6",
                      "radialaxis": {
                        "gridcolor": "white",
                        "linecolor": "white",
                        "ticks": ""
                      }
                    },
                    "scene": {
                      "xaxis": {
                        "backgroundcolor": "#E5ECF6",
                        "gridcolor": "white",
                        "gridwidth": 2,
                        "linecolor": "white",
                        "showbackground": true,
                        "ticks": "",
                        "zerolinecolor": "white"
                      },
                      "yaxis": {
                        "backgroundcolor": "#E5ECF6",
                        "gridcolor": "white",
                        "gridwidth": 2,
                        "linecolor": "white",
                        "showbackground": true,
                        "ticks": "",
                        "zerolinecolor": "white"
                      },
                      "zaxis": {
                        "backgroundcolor": "#E5ECF6",
                        "gridcolor": "white",
                        "gridwidth": 2,
                        "linecolor": "white",
                        "showbackground": true,
                        "ticks": "",
                        "zerolinecolor": "white"
                      }
                    },
                    "shapedefaults": {
                      "line": {
                        "color": "#2a3f5f"
                      }
                    },
                    "ternary": {
                      "aaxis": {
                        "gridcolor": "white",
                        "linecolor": "white",
                        "ticks": ""
                      },
                      "baxis": {
                        "gridcolor": "white",
                        "linecolor": "white",
                        "ticks": ""
                      },
                      "bgcolor": "#E5ECF6",
                      "caxis": {
                        "gridcolor": "white",
                        "linecolor": "white",
                        "ticks": ""
                      }
                    },
                    "title": {
                      "x": 0.05
                    },
                    "xaxis": {
                      "automargin": true,
                      "gridcolor": "white",
                      "linecolor": "white",
                      "ticks": "",
                      "title": {
                        "standoff": 15
                      },
                      "zerolinecolor": "white",
                      "zerolinewidth": 2
                    },
                    "yaxis": {
                      "automargin": true,
                      "gridcolor": "white",
                      "linecolor": "white",
                      "ticks": "",
                      "title": {
                        "standoff": 15
                      },
                      "zerolinecolor": "white",
                      "zerolinewidth": 2
                    }
                  }
                },
                "title": {
                  "text": "Features importance for target : ['DEGRAD_PPL'] with Lasso Linear Regression"
                },
                "xaxis": {
                  "anchor": "y",
                  "domain": [
                    0,
                    1
                  ],
                  "title": {
                    "text": "Features"
                  }
                },
                "yaxis": {
                  "anchor": "x",
                  "domain": [
                    0,
                    1
                  ],
                  "title": {
                    "text": "value"
                  }
                }
              }
            }
          },
          "metadata": {},
          "output_type": "display_data"
        }
      ],
      "source": [
        "fig = px.bar(df_coef['Coeff'], title=f\"Features importance for target : {TARGET} with Lasso Linear Regression\")\n",
        "fig.show()"
      ]
    },
    {
      "cell_type": "markdown",
      "metadata": {},
      "source": [
        "-----------------"
      ]
    },
    {
      "cell_type": "code",
      "execution_count": 122,
      "metadata": {},
      "outputs": [
        {
          "data": {
            "text/plain": [
              "array([1, 2, 1, ..., 2, 3, 1], dtype=int64)"
            ]
          },
          "execution_count": 122,
          "metadata": {},
          "output_type": "execute_result"
        }
      ],
      "source": [
        "y_train"
      ]
    },
    {
      "cell_type": "code",
      "execution_count": 123,
      "metadata": {},
      "outputs": [],
      "source": [
        "processor_y = OneHotEncoder(sparse=False)\n",
        "y_train = processor_y.fit_transform(y_train.reshape(-1, 1))\n",
        "y_test = processor_y.transform(y_test.reshape(-1, 1))"
      ]
    },
    {
      "cell_type": "code",
      "execution_count": 124,
      "metadata": {},
      "outputs": [],
      "source": [
        "train_batch = tf.data.Dataset.from_tensor_slices((X_train, y_train)).shuffle(buffer_size=len(X_train)).batch(batch_size=32)\n",
        "test_batch = tf.data.Dataset.from_tensor_slices((X_test, y_test)).batch(batch_size=32)"
      ]
    },
    {
      "cell_type": "code",
      "execution_count": 125,
      "metadata": {},
      "outputs": [
        {
          "name": "stdout",
          "output_type": "stream",
          "text": [
            "tf.Tensor(\n",
            "[[ 0.81232183 -0.42325376  2.65827134 ...  0.          0.\n",
            "   0.        ]\n",
            " [ 1.02588955 -0.76580331 -0.17188842 ...  0.          0.\n",
            "   0.        ]\n",
            " [-0.31680143 -1.44645392 -0.0788555  ...  0.          1.\n",
            "   0.        ]\n",
            " ...\n",
            " [-0.47837006 -0.0479766   0.59929746 ...  0.          1.\n",
            "   0.        ]\n",
            " [-0.51551227 -0.00513676 -1.07505085 ...  1.          0.\n",
            "   0.        ]\n",
            " [-0.21837457  1.84769052  0.68961715 ...  1.          0.\n",
            "   0.        ]], shape=(32, 102), dtype=float64)\n",
            "tf.Tensor(\n",
            "[[0. 0. 1. 0. 0. 0.]\n",
            " [0. 0. 0. 0. 0. 1.]\n",
            " [0. 0. 1. 0. 0. 0.]\n",
            " [0. 1. 0. 0. 0. 0.]\n",
            " [0. 1. 0. 0. 0. 0.]\n",
            " [1. 0. 0. 0. 0. 0.]\n",
            " [0. 1. 0. 0. 0. 0.]\n",
            " [1. 0. 0. 0. 0. 0.]\n",
            " [0. 0. 1. 0. 0. 0.]\n",
            " [1. 0. 0. 0. 0. 0.]\n",
            " [0. 1. 0. 0. 0. 0.]\n",
            " [0. 1. 0. 0. 0. 0.]\n",
            " [0. 1. 0. 0. 0. 0.]\n",
            " [0. 1. 0. 0. 0. 0.]\n",
            " [0. 1. 0. 0. 0. 0.]\n",
            " [0. 0. 1. 0. 0. 0.]\n",
            " [0. 1. 0. 0. 0. 0.]\n",
            " [0. 1. 0. 0. 0. 0.]\n",
            " [0. 1. 0. 0. 0. 0.]\n",
            " [1. 0. 0. 0. 0. 0.]\n",
            " [0. 1. 0. 0. 0. 0.]\n",
            " [0. 1. 0. 0. 0. 0.]\n",
            " [0. 1. 0. 0. 0. 0.]\n",
            " [0. 1. 0. 0. 0. 0.]\n",
            " [0. 1. 0. 0. 0. 0.]\n",
            " [0. 1. 0. 0. 0. 0.]\n",
            " [0. 1. 0. 0. 0. 0.]\n",
            " [1. 0. 0. 0. 0. 0.]\n",
            " [1. 0. 0. 0. 0. 0.]\n",
            " [0. 0. 1. 0. 0. 0.]\n",
            " [1. 0. 0. 0. 0. 0.]\n",
            " [1. 0. 0. 0. 0. 0.]], shape=(32, 6), dtype=float64)\n"
          ]
        }
      ],
      "source": [
        "for x, y in train_batch.take(1):\n",
        "    print(x)\n",
        "    print(y)"
      ]
    },
    {
      "cell_type": "code",
      "execution_count": 129,
      "metadata": {},
      "outputs": [],
      "source": [
        "model = tf.keras.models.Sequential([\n",
        "        tf.keras.Input(shape=(102,)),\n",
        "        tf.keras.layers.Dense(64,\"relu\"),\n",
        "        tf.keras.layers.Dense(32,\"relu\"),\n",
        "        tf.keras.layers.Dropout(0.1),\n",
        "        tf.keras.layers.Dense(16,\"relu\"),\n",
        "        tf.keras.layers.Dense(6,\"softmax\")\n",
        "    ])"
      ]
    },
    {
      "cell_type": "code",
      "execution_count": 130,
      "metadata": {},
      "outputs": [],
      "source": [
        "model.compile(\n",
        "    loss=tf.keras.losses.CategoricalCrossentropy(),\n",
        "    optimizer=tf.keras.optimizers.Adam(),\n",
        "    metrics=tf.keras.metrics.CategoricalAccuracy())"
      ]
    },
    {
      "cell_type": "code",
      "execution_count": 131,
      "metadata": {},
      "outputs": [
        {
          "name": "stdout",
          "output_type": "stream",
          "text": [
            "Epoch 1/20\n",
            "181/181 [==============================] - 3s 10ms/step - loss: 1.3210 - categorical_accuracy: 0.4014 - val_loss: 1.2262 - val_categorical_accuracy: 0.4272\n",
            "Epoch 2/20\n",
            "181/181 [==============================] - 2s 9ms/step - loss: 1.1829 - categorical_accuracy: 0.4644 - val_loss: 1.1764 - val_categorical_accuracy: 0.4653\n",
            "Epoch 3/20\n",
            "181/181 [==============================] - 2s 9ms/step - loss: 1.1395 - categorical_accuracy: 0.4961 - val_loss: 1.1598 - val_categorical_accuracy: 0.4834\n",
            "Epoch 4/20\n",
            "181/181 [==============================] - 2s 9ms/step - loss: 1.1104 - categorical_accuracy: 0.5138 - val_loss: 1.1545 - val_categorical_accuracy: 0.4827\n",
            "Epoch 5/20\n",
            "181/181 [==============================] - 2s 9ms/step - loss: 1.0937 - categorical_accuracy: 0.5330 - val_loss: 1.1468 - val_categorical_accuracy: 0.4951\n",
            "Epoch 6/20\n",
            "181/181 [==============================] - 2s 9ms/step - loss: 1.0787 - categorical_accuracy: 0.5351 - val_loss: 1.1493 - val_categorical_accuracy: 0.4799\n",
            "Epoch 7/20\n",
            "181/181 [==============================] - 2s 9ms/step - loss: 1.0577 - categorical_accuracy: 0.5476 - val_loss: 1.1479 - val_categorical_accuracy: 0.5000\n",
            "Epoch 8/20\n",
            "181/181 [==============================] - 2s 10ms/step - loss: 1.0465 - categorical_accuracy: 0.5533 - val_loss: 1.1463 - val_categorical_accuracy: 0.4972\n",
            "Epoch 9/20\n",
            "181/181 [==============================] - 2s 10ms/step - loss: 1.0299 - categorical_accuracy: 0.5603 - val_loss: 1.1498 - val_categorical_accuracy: 0.5014\n",
            "Epoch 10/20\n",
            "181/181 [==============================] - 2s 9ms/step - loss: 1.0184 - categorical_accuracy: 0.5681 - val_loss: 1.1455 - val_categorical_accuracy: 0.5104\n",
            "Epoch 11/20\n",
            "181/181 [==============================] - 2s 9ms/step - loss: 0.9984 - categorical_accuracy: 0.5779 - val_loss: 1.1683 - val_categorical_accuracy: 0.5000\n",
            "Epoch 12/20\n",
            "181/181 [==============================] - 2s 10ms/step - loss: 0.9895 - categorical_accuracy: 0.5821 - val_loss: 1.1501 - val_categorical_accuracy: 0.5028\n",
            "Epoch 13/20\n",
            "181/181 [==============================] - 2s 9ms/step - loss: 0.9759 - categorical_accuracy: 0.5883 - val_loss: 1.1715 - val_categorical_accuracy: 0.4917\n",
            "Epoch 14/20\n",
            "181/181 [==============================] - 2s 9ms/step - loss: 0.9579 - categorical_accuracy: 0.5968 - val_loss: 1.1805 - val_categorical_accuracy: 0.5173\n",
            "Epoch 15/20\n",
            "181/181 [==============================] - 2s 10ms/step - loss: 0.9463 - categorical_accuracy: 0.6020 - val_loss: 1.1797 - val_categorical_accuracy: 0.5139\n",
            "Epoch 16/20\n",
            "181/181 [==============================] - 2s 9ms/step - loss: 0.9329 - categorical_accuracy: 0.6052 - val_loss: 1.1843 - val_categorical_accuracy: 0.5201\n",
            "Epoch 17/20\n",
            "181/181 [==============================] - 2s 9ms/step - loss: 0.9175 - categorical_accuracy: 0.6135 - val_loss: 1.2007 - val_categorical_accuracy: 0.5097\n",
            "Epoch 18/20\n",
            "181/181 [==============================] - 2s 9ms/step - loss: 0.9018 - categorical_accuracy: 0.6310 - val_loss: 1.2047 - val_categorical_accuracy: 0.5118\n",
            "Epoch 19/20\n",
            "181/181 [==============================] - 2s 9ms/step - loss: 0.8918 - categorical_accuracy: 0.6220 - val_loss: 1.2007 - val_categorical_accuracy: 0.4993\n",
            "Epoch 20/20\n",
            "181/181 [==============================] - 2s 10ms/step - loss: 0.8745 - categorical_accuracy: 0.6379 - val_loss: 1.2158 - val_categorical_accuracy: 0.5104\n"
          ]
        },
        {
          "data": {
            "text/plain": [
              "<keras.callbacks.History at 0x24bb01ed790>"
            ]
          },
          "execution_count": 131,
          "metadata": {},
          "output_type": "execute_result"
        }
      ],
      "source": [
        "model.fit(train_batch, epochs=20, validation_data=test_batch)"
      ]
    },
    {
      "cell_type": "code",
      "execution_count": 134,
      "metadata": {},
      "outputs": [],
      "source": [
        "coeff_mean = []\n",
        "for i in range(102):\n",
        "    coeff_mean.append(np.mean(model.layers[0].trainable_variables[0][i]))"
      ]
    },
    {
      "cell_type": "code",
      "execution_count": 135,
      "metadata": {},
      "outputs": [],
      "source": [
        "df_coef = pd.DataFrame(coeff_mean, columns=['Coeff'], index= list_features_in)"
      ]
    },
    {
      "cell_type": "code",
      "execution_count": 136,
      "metadata": {},
      "outputs": [
        {
          "data": {
            "application/vnd.plotly.v1+json": {
              "config": {
                "plotlyServerURL": "https://plot.ly"
              },
              "data": [
                {
                  "alignmentgroup": "True",
                  "hovertemplate": "variable=Coeff<br>index=%{x}<br>value=%{y}<extra></extra>",
                  "legendgroup": "Coeff",
                  "marker": {
                    "color": "#636efa",
                    "pattern": {
                      "shape": ""
                    }
                  },
                  "name": "Coeff",
                  "offsetgroup": "Coeff",
                  "orientation": "v",
                  "showlegend": true,
                  "textposition": "auto",
                  "type": "bar",
                  "x": [
                    "UNIT_VOL_BOIS_MANQUANT",
                    "H_D",
                    "AI",
                    "SDI",
                    "AGE_PPL",
                    "ALT",
                    "TIGES_VIV_H",
                    "SURF_TER_HA",
                    "FEUILL_PER",
                    "CONIF_PER",
                    "PERF_CROI",
                    "NDVI",
                    "EVI",
                    "NDMI",
                    "NDWI",
                    "DSWI",
                    "TAUX_COUV_RAJ",
                    "HT_VEG",
                    "DEGRAD_PPL",
                    "H_D_f",
                    "AI_f",
                    "PRCP_f",
                    "TAVE_AVG_f",
                    "TAVE_f",
                    "TAVE_GROWTH_f",
                    "PRCP_S_S_f",
                    "PRCP_G_S_f",
                    "NDVI_f",
                    "EVI_f",
                    "NDMI_f",
                    "NDWI_f",
                    "DSWI_f",
                    "PRODREG_0",
                    "PRODREG_1",
                    "PRODREG_2",
                    "PRODREG_3",
                    "ESPECE_DOM_0",
                    "ESPECE_DOM_1",
                    "ESPECE_DOM_2",
                    "ESPECE_DOM_3",
                    "ESPECE_DOM_4",
                    "ESPECE_DOM_5",
                    "ESPECE_DOM_6",
                    "ESPECE_DOM_7",
                    "ESPECE_DOM_8",
                    "ESPECE_DOM_9",
                    "ESPECE_DOM_10",
                    "ESPECE_DOM_11",
                    "TYP_RAJ_PPL_0",
                    "TYP_RAJ_PPL_1",
                    "TYP_RAJ_PPL_2",
                    "DEG_FERMETURE_0",
                    "DEG_FERMETURE_1",
                    "DEG_FERMETURE_2",
                    "DEG_FERMETURE_3",
                    "DEG_FERMETURE_4",
                    "DEG_FERMETURE_5",
                    "DEG_FERMETURE_6",
                    "DEG_FERMETURE_7",
                    "DEG_FERMETURE_8",
                    "DEG_FERMETURE_9",
                    "DEG_FERMETURE_10",
                    "STR_PPL_0",
                    "STR_PPL_1",
                    "STR_PPL_2",
                    "STR_PPL_3",
                    "RELIEF_0",
                    "RELIEF_1",
                    "RELIEF_2",
                    "RELIEF_3",
                    "RELIEF_4",
                    "ORIENTATION_0",
                    "ORIENTATION_1",
                    "ORIENTATION_2",
                    "ORIENTATION_3",
                    "ORIENTATION_4",
                    "ORIENTATION_5",
                    "ORIENTATION_6",
                    "ESPECE_DOM_f_0",
                    "ESPECE_DOM_f_1",
                    "ESPECE_DOM_f_2",
                    "ESPECE_DOM_f_3",
                    "ESPECE_DOM_f_4",
                    "ESPECE_DOM_f_5",
                    "ESPECE_DOM_f_6",
                    "ESPECE_DOM_f_7",
                    "ESPECE_DOM_f_8",
                    "ESPECE_DOM_f_9",
                    "ESPECE_DOM_f_10",
                    "ESPECE_DOM_f_11",
                    "DEG_FERMETURE_f_0",
                    "DEG_FERMETURE_f_1",
                    "DEG_FERMETURE_f_2",
                    "DEG_FERMETURE_f_3",
                    "DEG_FERMETURE_f_4",
                    "DEG_FERMETURE_f_5",
                    "DEG_FERMETURE_f_6",
                    "DEG_FERMETURE_f_7",
                    "STR_PPL_f_0",
                    "STR_PPL_f_1",
                    "STR_PPL_f_2",
                    "STR_PPL_f_3"
                  ],
                  "xaxis": "x",
                  "y": [
                    -0.003201148472726345,
                    -0.006323793902993202,
                    0.0002888338640332222,
                    0.0015789323952049017,
                    -0.032663922756910324,
                    0.0008932435885071754,
                    0.028888151049613953,
                    0.005861354526132345,
                    -0.01700321026146412,
                    0.0012568053789436817,
                    -0.004180385731160641,
                    -0.007883872836828232,
                    -0.007133247796446085,
                    -0.011964282020926476,
                    -0.010248087346553802,
                    0.017556216567754745,
                    -0.015948520973324776,
                    0.005150622222572565,
                    -0.013183461502194405,
                    -0.011593305505812168,
                    -0.012779301963746548,
                    0.007367243990302086,
                    0.0021648677065968513,
                    -0.009706743992865086,
                    -0.008602157235145569,
                    -0.017135772854089737,
                    0.017701199278235435,
                    0.005861538462340832,
                    -0.002749154344201088,
                    0.034940436482429504,
                    0.011564375832676888,
                    0.0056257667019963264,
                    -0.021936707198619843,
                    0.0027239490300416946,
                    0.014037965796887875,
                    0.0014733681455254555,
                    0.0010188114829361439,
                    0.012041880749166012,
                    0.01757596991956234,
                    0.028955310583114624,
                    -0.007139481138437986,
                    -0.013488241471350193,
                    0.007015184033662081,
                    0.020768212154507637,
                    -0.014335326850414276,
                    -0.007490627467632294,
                    -0.020739417523145676,
                    -0.02606802247464657,
                    0.0037423111498355865,
                    -0.030810769647359848,
                    -0.03051038831472397,
                    -0.017558978870511055,
                    0.008053753525018692,
                    0.0002679252065718174,
                    0.014013578183948994,
                    0.0026058629155158997,
                    0.024853171780705452,
                    -0.0002761753275990486,
                    0.019711820408701897,
                    0.04173927754163742,
                    -0.03133346885442734,
                    0.0214392002671957,
                    -0.0061098141595721245,
                    0.020992137491703033,
                    0.004214759916067123,
                    0.035431504249572754,
                    0.04093998298048973,
                    0.04732009395956993,
                    -0.005260876379907131,
                    -0.009209999814629555,
                    0.014504306018352509,
                    -0.03327373042702675,
                    0.0002444041892886162,
                    -0.005821718834340572,
                    0.01482111681252718,
                    0.0017642220482230186,
                    -0.004039737395942211,
                    -0.011788500472903252,
                    -0.0051501039415597916,
                    0.02479088306427002,
                    0.021174198016524315,
                    0.010878641158342361,
                    0.015512889251112938,
                    -0.016337189823389053,
                    0.02150224894285202,
                    0.020817624405026436,
                    -0.028163356706500053,
                    -0.03640257567167282,
                    -0.014098592102527618,
                    -0.047290295362472534,
                    0.000802523922175169,
                    0.024559970945119858,
                    0.022434290498495102,
                    -0.0025585489347577095,
                    -0.010569164529442787,
                    -0.002007993869483471,
                    0.0015105511993169785,
                    0.020963793620467186,
                    -0.011100728996098042,
                    0.02045772410929203,
                    0.02909976616501808,
                    0.0407041534781456
                  ],
                  "yaxis": "y"
                }
              ],
              "layout": {
                "barmode": "relative",
                "legend": {
                  "title": {
                    "text": "variable"
                  },
                  "tracegroupgap": 0
                },
                "template": {
                  "data": {
                    "bar": [
                      {
                        "error_x": {
                          "color": "#2a3f5f"
                        },
                        "error_y": {
                          "color": "#2a3f5f"
                        },
                        "marker": {
                          "line": {
                            "color": "#E5ECF6",
                            "width": 0.5
                          },
                          "pattern": {
                            "fillmode": "overlay",
                            "size": 10,
                            "solidity": 0.2
                          }
                        },
                        "type": "bar"
                      }
                    ],
                    "barpolar": [
                      {
                        "marker": {
                          "line": {
                            "color": "#E5ECF6",
                            "width": 0.5
                          },
                          "pattern": {
                            "fillmode": "overlay",
                            "size": 10,
                            "solidity": 0.2
                          }
                        },
                        "type": "barpolar"
                      }
                    ],
                    "carpet": [
                      {
                        "aaxis": {
                          "endlinecolor": "#2a3f5f",
                          "gridcolor": "white",
                          "linecolor": "white",
                          "minorgridcolor": "white",
                          "startlinecolor": "#2a3f5f"
                        },
                        "baxis": {
                          "endlinecolor": "#2a3f5f",
                          "gridcolor": "white",
                          "linecolor": "white",
                          "minorgridcolor": "white",
                          "startlinecolor": "#2a3f5f"
                        },
                        "type": "carpet"
                      }
                    ],
                    "choropleth": [
                      {
                        "colorbar": {
                          "outlinewidth": 0,
                          "ticks": ""
                        },
                        "type": "choropleth"
                      }
                    ],
                    "contour": [
                      {
                        "colorbar": {
                          "outlinewidth": 0,
                          "ticks": ""
                        },
                        "colorscale": [
                          [
                            0,
                            "#0d0887"
                          ],
                          [
                            0.1111111111111111,
                            "#46039f"
                          ],
                          [
                            0.2222222222222222,
                            "#7201a8"
                          ],
                          [
                            0.3333333333333333,
                            "#9c179e"
                          ],
                          [
                            0.4444444444444444,
                            "#bd3786"
                          ],
                          [
                            0.5555555555555556,
                            "#d8576b"
                          ],
                          [
                            0.6666666666666666,
                            "#ed7953"
                          ],
                          [
                            0.7777777777777778,
                            "#fb9f3a"
                          ],
                          [
                            0.8888888888888888,
                            "#fdca26"
                          ],
                          [
                            1,
                            "#f0f921"
                          ]
                        ],
                        "type": "contour"
                      }
                    ],
                    "contourcarpet": [
                      {
                        "colorbar": {
                          "outlinewidth": 0,
                          "ticks": ""
                        },
                        "type": "contourcarpet"
                      }
                    ],
                    "heatmap": [
                      {
                        "colorbar": {
                          "outlinewidth": 0,
                          "ticks": ""
                        },
                        "colorscale": [
                          [
                            0,
                            "#0d0887"
                          ],
                          [
                            0.1111111111111111,
                            "#46039f"
                          ],
                          [
                            0.2222222222222222,
                            "#7201a8"
                          ],
                          [
                            0.3333333333333333,
                            "#9c179e"
                          ],
                          [
                            0.4444444444444444,
                            "#bd3786"
                          ],
                          [
                            0.5555555555555556,
                            "#d8576b"
                          ],
                          [
                            0.6666666666666666,
                            "#ed7953"
                          ],
                          [
                            0.7777777777777778,
                            "#fb9f3a"
                          ],
                          [
                            0.8888888888888888,
                            "#fdca26"
                          ],
                          [
                            1,
                            "#f0f921"
                          ]
                        ],
                        "type": "heatmap"
                      }
                    ],
                    "heatmapgl": [
                      {
                        "colorbar": {
                          "outlinewidth": 0,
                          "ticks": ""
                        },
                        "colorscale": [
                          [
                            0,
                            "#0d0887"
                          ],
                          [
                            0.1111111111111111,
                            "#46039f"
                          ],
                          [
                            0.2222222222222222,
                            "#7201a8"
                          ],
                          [
                            0.3333333333333333,
                            "#9c179e"
                          ],
                          [
                            0.4444444444444444,
                            "#bd3786"
                          ],
                          [
                            0.5555555555555556,
                            "#d8576b"
                          ],
                          [
                            0.6666666666666666,
                            "#ed7953"
                          ],
                          [
                            0.7777777777777778,
                            "#fb9f3a"
                          ],
                          [
                            0.8888888888888888,
                            "#fdca26"
                          ],
                          [
                            1,
                            "#f0f921"
                          ]
                        ],
                        "type": "heatmapgl"
                      }
                    ],
                    "histogram": [
                      {
                        "marker": {
                          "pattern": {
                            "fillmode": "overlay",
                            "size": 10,
                            "solidity": 0.2
                          }
                        },
                        "type": "histogram"
                      }
                    ],
                    "histogram2d": [
                      {
                        "colorbar": {
                          "outlinewidth": 0,
                          "ticks": ""
                        },
                        "colorscale": [
                          [
                            0,
                            "#0d0887"
                          ],
                          [
                            0.1111111111111111,
                            "#46039f"
                          ],
                          [
                            0.2222222222222222,
                            "#7201a8"
                          ],
                          [
                            0.3333333333333333,
                            "#9c179e"
                          ],
                          [
                            0.4444444444444444,
                            "#bd3786"
                          ],
                          [
                            0.5555555555555556,
                            "#d8576b"
                          ],
                          [
                            0.6666666666666666,
                            "#ed7953"
                          ],
                          [
                            0.7777777777777778,
                            "#fb9f3a"
                          ],
                          [
                            0.8888888888888888,
                            "#fdca26"
                          ],
                          [
                            1,
                            "#f0f921"
                          ]
                        ],
                        "type": "histogram2d"
                      }
                    ],
                    "histogram2dcontour": [
                      {
                        "colorbar": {
                          "outlinewidth": 0,
                          "ticks": ""
                        },
                        "colorscale": [
                          [
                            0,
                            "#0d0887"
                          ],
                          [
                            0.1111111111111111,
                            "#46039f"
                          ],
                          [
                            0.2222222222222222,
                            "#7201a8"
                          ],
                          [
                            0.3333333333333333,
                            "#9c179e"
                          ],
                          [
                            0.4444444444444444,
                            "#bd3786"
                          ],
                          [
                            0.5555555555555556,
                            "#d8576b"
                          ],
                          [
                            0.6666666666666666,
                            "#ed7953"
                          ],
                          [
                            0.7777777777777778,
                            "#fb9f3a"
                          ],
                          [
                            0.8888888888888888,
                            "#fdca26"
                          ],
                          [
                            1,
                            "#f0f921"
                          ]
                        ],
                        "type": "histogram2dcontour"
                      }
                    ],
                    "mesh3d": [
                      {
                        "colorbar": {
                          "outlinewidth": 0,
                          "ticks": ""
                        },
                        "type": "mesh3d"
                      }
                    ],
                    "parcoords": [
                      {
                        "line": {
                          "colorbar": {
                            "outlinewidth": 0,
                            "ticks": ""
                          }
                        },
                        "type": "parcoords"
                      }
                    ],
                    "pie": [
                      {
                        "automargin": true,
                        "type": "pie"
                      }
                    ],
                    "scatter": [
                      {
                        "fillpattern": {
                          "fillmode": "overlay",
                          "size": 10,
                          "solidity": 0.2
                        },
                        "type": "scatter"
                      }
                    ],
                    "scatter3d": [
                      {
                        "line": {
                          "colorbar": {
                            "outlinewidth": 0,
                            "ticks": ""
                          }
                        },
                        "marker": {
                          "colorbar": {
                            "outlinewidth": 0,
                            "ticks": ""
                          }
                        },
                        "type": "scatter3d"
                      }
                    ],
                    "scattercarpet": [
                      {
                        "marker": {
                          "colorbar": {
                            "outlinewidth": 0,
                            "ticks": ""
                          }
                        },
                        "type": "scattercarpet"
                      }
                    ],
                    "scattergeo": [
                      {
                        "marker": {
                          "colorbar": {
                            "outlinewidth": 0,
                            "ticks": ""
                          }
                        },
                        "type": "scattergeo"
                      }
                    ],
                    "scattergl": [
                      {
                        "marker": {
                          "colorbar": {
                            "outlinewidth": 0,
                            "ticks": ""
                          }
                        },
                        "type": "scattergl"
                      }
                    ],
                    "scattermapbox": [
                      {
                        "marker": {
                          "colorbar": {
                            "outlinewidth": 0,
                            "ticks": ""
                          }
                        },
                        "type": "scattermapbox"
                      }
                    ],
                    "scatterpolar": [
                      {
                        "marker": {
                          "colorbar": {
                            "outlinewidth": 0,
                            "ticks": ""
                          }
                        },
                        "type": "scatterpolar"
                      }
                    ],
                    "scatterpolargl": [
                      {
                        "marker": {
                          "colorbar": {
                            "outlinewidth": 0,
                            "ticks": ""
                          }
                        },
                        "type": "scatterpolargl"
                      }
                    ],
                    "scatterternary": [
                      {
                        "marker": {
                          "colorbar": {
                            "outlinewidth": 0,
                            "ticks": ""
                          }
                        },
                        "type": "scatterternary"
                      }
                    ],
                    "surface": [
                      {
                        "colorbar": {
                          "outlinewidth": 0,
                          "ticks": ""
                        },
                        "colorscale": [
                          [
                            0,
                            "#0d0887"
                          ],
                          [
                            0.1111111111111111,
                            "#46039f"
                          ],
                          [
                            0.2222222222222222,
                            "#7201a8"
                          ],
                          [
                            0.3333333333333333,
                            "#9c179e"
                          ],
                          [
                            0.4444444444444444,
                            "#bd3786"
                          ],
                          [
                            0.5555555555555556,
                            "#d8576b"
                          ],
                          [
                            0.6666666666666666,
                            "#ed7953"
                          ],
                          [
                            0.7777777777777778,
                            "#fb9f3a"
                          ],
                          [
                            0.8888888888888888,
                            "#fdca26"
                          ],
                          [
                            1,
                            "#f0f921"
                          ]
                        ],
                        "type": "surface"
                      }
                    ],
                    "table": [
                      {
                        "cells": {
                          "fill": {
                            "color": "#EBF0F8"
                          },
                          "line": {
                            "color": "white"
                          }
                        },
                        "header": {
                          "fill": {
                            "color": "#C8D4E3"
                          },
                          "line": {
                            "color": "white"
                          }
                        },
                        "type": "table"
                      }
                    ]
                  },
                  "layout": {
                    "annotationdefaults": {
                      "arrowcolor": "#2a3f5f",
                      "arrowhead": 0,
                      "arrowwidth": 1
                    },
                    "autotypenumbers": "strict",
                    "coloraxis": {
                      "colorbar": {
                        "outlinewidth": 0,
                        "ticks": ""
                      }
                    },
                    "colorscale": {
                      "diverging": [
                        [
                          0,
                          "#8e0152"
                        ],
                        [
                          0.1,
                          "#c51b7d"
                        ],
                        [
                          0.2,
                          "#de77ae"
                        ],
                        [
                          0.3,
                          "#f1b6da"
                        ],
                        [
                          0.4,
                          "#fde0ef"
                        ],
                        [
                          0.5,
                          "#f7f7f7"
                        ],
                        [
                          0.6,
                          "#e6f5d0"
                        ],
                        [
                          0.7,
                          "#b8e186"
                        ],
                        [
                          0.8,
                          "#7fbc41"
                        ],
                        [
                          0.9,
                          "#4d9221"
                        ],
                        [
                          1,
                          "#276419"
                        ]
                      ],
                      "sequential": [
                        [
                          0,
                          "#0d0887"
                        ],
                        [
                          0.1111111111111111,
                          "#46039f"
                        ],
                        [
                          0.2222222222222222,
                          "#7201a8"
                        ],
                        [
                          0.3333333333333333,
                          "#9c179e"
                        ],
                        [
                          0.4444444444444444,
                          "#bd3786"
                        ],
                        [
                          0.5555555555555556,
                          "#d8576b"
                        ],
                        [
                          0.6666666666666666,
                          "#ed7953"
                        ],
                        [
                          0.7777777777777778,
                          "#fb9f3a"
                        ],
                        [
                          0.8888888888888888,
                          "#fdca26"
                        ],
                        [
                          1,
                          "#f0f921"
                        ]
                      ],
                      "sequentialminus": [
                        [
                          0,
                          "#0d0887"
                        ],
                        [
                          0.1111111111111111,
                          "#46039f"
                        ],
                        [
                          0.2222222222222222,
                          "#7201a8"
                        ],
                        [
                          0.3333333333333333,
                          "#9c179e"
                        ],
                        [
                          0.4444444444444444,
                          "#bd3786"
                        ],
                        [
                          0.5555555555555556,
                          "#d8576b"
                        ],
                        [
                          0.6666666666666666,
                          "#ed7953"
                        ],
                        [
                          0.7777777777777778,
                          "#fb9f3a"
                        ],
                        [
                          0.8888888888888888,
                          "#fdca26"
                        ],
                        [
                          1,
                          "#f0f921"
                        ]
                      ]
                    },
                    "colorway": [
                      "#636efa",
                      "#EF553B",
                      "#00cc96",
                      "#ab63fa",
                      "#FFA15A",
                      "#19d3f3",
                      "#FF6692",
                      "#B6E880",
                      "#FF97FF",
                      "#FECB52"
                    ],
                    "font": {
                      "color": "#2a3f5f"
                    },
                    "geo": {
                      "bgcolor": "white",
                      "lakecolor": "white",
                      "landcolor": "#E5ECF6",
                      "showlakes": true,
                      "showland": true,
                      "subunitcolor": "white"
                    },
                    "hoverlabel": {
                      "align": "left"
                    },
                    "hovermode": "closest",
                    "mapbox": {
                      "style": "light"
                    },
                    "paper_bgcolor": "white",
                    "plot_bgcolor": "#E5ECF6",
                    "polar": {
                      "angularaxis": {
                        "gridcolor": "white",
                        "linecolor": "white",
                        "ticks": ""
                      },
                      "bgcolor": "#E5ECF6",
                      "radialaxis": {
                        "gridcolor": "white",
                        "linecolor": "white",
                        "ticks": ""
                      }
                    },
                    "scene": {
                      "xaxis": {
                        "backgroundcolor": "#E5ECF6",
                        "gridcolor": "white",
                        "gridwidth": 2,
                        "linecolor": "white",
                        "showbackground": true,
                        "ticks": "",
                        "zerolinecolor": "white"
                      },
                      "yaxis": {
                        "backgroundcolor": "#E5ECF6",
                        "gridcolor": "white",
                        "gridwidth": 2,
                        "linecolor": "white",
                        "showbackground": true,
                        "ticks": "",
                        "zerolinecolor": "white"
                      },
                      "zaxis": {
                        "backgroundcolor": "#E5ECF6",
                        "gridcolor": "white",
                        "gridwidth": 2,
                        "linecolor": "white",
                        "showbackground": true,
                        "ticks": "",
                        "zerolinecolor": "white"
                      }
                    },
                    "shapedefaults": {
                      "line": {
                        "color": "#2a3f5f"
                      }
                    },
                    "ternary": {
                      "aaxis": {
                        "gridcolor": "white",
                        "linecolor": "white",
                        "ticks": ""
                      },
                      "baxis": {
                        "gridcolor": "white",
                        "linecolor": "white",
                        "ticks": ""
                      },
                      "bgcolor": "#E5ECF6",
                      "caxis": {
                        "gridcolor": "white",
                        "linecolor": "white",
                        "ticks": ""
                      }
                    },
                    "title": {
                      "x": 0.05
                    },
                    "xaxis": {
                      "automargin": true,
                      "gridcolor": "white",
                      "linecolor": "white",
                      "ticks": "",
                      "title": {
                        "standoff": 15
                      },
                      "zerolinecolor": "white",
                      "zerolinewidth": 2
                    },
                    "yaxis": {
                      "automargin": true,
                      "gridcolor": "white",
                      "linecolor": "white",
                      "ticks": "",
                      "title": {
                        "standoff": 15
                      },
                      "zerolinecolor": "white",
                      "zerolinewidth": 2
                    }
                  }
                },
                "title": {
                  "text": "Features importance for target : ['DEGRAD_PPL'] with Lasso Linear Regression"
                },
                "xaxis": {
                  "anchor": "y",
                  "domain": [
                    0,
                    1
                  ],
                  "title": {
                    "text": "index"
                  }
                },
                "yaxis": {
                  "anchor": "x",
                  "domain": [
                    0,
                    1
                  ],
                  "title": {
                    "text": "value"
                  }
                }
              }
            }
          },
          "metadata": {},
          "output_type": "display_data"
        }
      ],
      "source": [
        "fig = px.bar(df_coef['Coeff'], title=f\"Features importance for target : {TARGET} with Lasso Linear Regression\")\n",
        "fig.show()"
      ]
    }
  ],
  "metadata": {
    "colab": {
      "provenance": []
    },
    "kernelspec": {
      "display_name": "Python 3.9.13 ('base')",
      "language": "python",
      "name": "python3"
    },
    "language_info": {
      "codemirror_mode": {
        "name": "ipython",
        "version": 3
      },
      "file_extension": ".py",
      "mimetype": "text/x-python",
      "name": "python",
      "nbconvert_exporter": "python",
      "pygments_lexer": "ipython3",
      "version": "3.9.13"
    },
    "vscode": {
      "interpreter": {
        "hash": "1cca9558bc5ad879ec93cc030b157d75f18267527c60932cecaace349eef54dd"
      }
    }
  },
  "nbformat": 4,
  "nbformat_minor": 0
}
