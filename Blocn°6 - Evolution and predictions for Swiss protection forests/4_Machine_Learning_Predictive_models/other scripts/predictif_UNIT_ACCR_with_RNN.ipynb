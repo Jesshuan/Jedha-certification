{
  "cells": [
    {
      "cell_type": "code",
      "execution_count": 1,
      "metadata": {
        "id": "F-xnvpnQb1eP"
      },
      "outputs": [
        {
          "name": "stderr",
          "output_type": "stream",
          "text": [
            "c:\\Users\\PC\\anaconda3\\envs\\tf\\lib\\site-packages\\tensorflow_addons\\utils\\ensure_tf_install.py:53: UserWarning: Tensorflow Addons supports using Python ops for all Tensorflow versions above or equal to 2.8.0 and strictly below 2.11.0 (nightly versions are not supported). \n",
            " The versions of TensorFlow you are currently using is 2.11.0 and is not supported. \n",
            "Some things might work, some things might not.\n",
            "If you were to encounter a bug, do not file an issue.\n",
            "If you want to make sure you're using a tested and supported configuration, either change the TensorFlow version or the TensorFlow Addons's version. \n",
            "You can find the compatibility matrix in TensorFlow Addon's readme:\n",
            "https://github.com/tensorflow/addons\n",
            "  warnings.warn(\n"
          ]
        }
      ],
      "source": [
        "import pandas as pd\n",
        "import numpy as np\n",
        "import plotly.express as px\n",
        "import copy\n",
        "\n",
        "from sklearn.preprocessing import OneHotEncoder, StandardScaler, LabelEncoder, OrdinalEncoder\n",
        "from sklearn.impute import KNNImputer, SimpleImputer\n",
        "from sklearn.pipeline import Pipeline\n",
        "from sklearn.linear_model import Ridge, RidgeClassifier\n",
        "from sklearn.model_selection import train_test_split\n",
        "from sklearn.compose import ColumnTransformer\n",
        "from sklearn.model_selection import cross_val_score, GridSearchCV\n",
        "from sklearn.metrics import r2_score, accuracy_score, f1_score\n",
        "\n",
        "import tensorflow as tf\n",
        "import tensorflow_addons as tfa"
      ]
    },
    {
      "cell_type": "code",
      "execution_count": 2,
      "metadata": {},
      "outputs": [],
      "source": [
        "TARGET = 'UNIT_ACCR'"
      ]
    },
    {
      "cell_type": "code",
      "execution_count": 3,
      "metadata": {
        "id": "9P-_u-rOcDyp"
      },
      "outputs": [],
      "source": [
        "data_base = pd.read_excel('./big_merge_V2_meteo_SAT.xlsx').drop('Unnamed: 0', axis=1)"
      ]
    },
    {
      "cell_type": "code",
      "execution_count": 4,
      "metadata": {},
      "outputs": [],
      "source": [
        "data_base['LFI'] = data_base['LFI'].map({'LFI1' : 1,\n",
        "                                               'LFI2' : 2,\n",
        "                                               'LFI3' : 3,\n",
        "                                               'LFI4' : 4 })"
      ]
    },
    {
      "cell_type": "code",
      "execution_count": 5,
      "metadata": {},
      "outputs": [],
      "source": [
        "data_base.sort_values(['PARCELLE', 'LFI'], inplace=True)"
      ]
    },
    {
      "cell_type": "code",
      "execution_count": 6,
      "metadata": {},
      "outputs": [
        {
          "data": {
            "text/html": [
              "<div>\n",
              "<style scoped>\n",
              "    .dataframe tbody tr th:only-of-type {\n",
              "        vertical-align: middle;\n",
              "    }\n",
              "\n",
              "    .dataframe tbody tr th {\n",
              "        vertical-align: top;\n",
              "    }\n",
              "\n",
              "    .dataframe thead th {\n",
              "        text-align: right;\n",
              "    }\n",
              "</style>\n",
              "<table border=\"1\" class=\"dataframe\">\n",
              "  <thead>\n",
              "    <tr style=\"text-align: right;\">\n",
              "      <th></th>\n",
              "      <th>PARCELLE</th>\n",
              "      <th>LAT</th>\n",
              "      <th>LON</th>\n",
              "      <th>ALT</th>\n",
              "      <th>PRODREG</th>\n",
              "      <th>HT_VEG</th>\n",
              "      <th>DATE</th>\n",
              "      <th>SLOPE25</th>\n",
              "      <th>ASPECT25</th>\n",
              "      <th>ORIENTATION</th>\n",
              "      <th>...</th>\n",
              "      <th>TAVE_AVG</th>\n",
              "      <th>TAVE</th>\n",
              "      <th>TAVE_GROWTH</th>\n",
              "      <th>PRCP_S_S</th>\n",
              "      <th>PRCP_G_S</th>\n",
              "      <th>NDVI</th>\n",
              "      <th>EVI</th>\n",
              "      <th>NDMI</th>\n",
              "      <th>NDWI</th>\n",
              "      <th>DSWI</th>\n",
              "    </tr>\n",
              "  </thead>\n",
              "  <tbody>\n",
              "    <tr>\n",
              "      <th>5662</th>\n",
              "      <td>121680</td>\n",
              "      <td>46.493994</td>\n",
              "      <td>8.728201</td>\n",
              "      <td>1119.142614</td>\n",
              "      <td>5</td>\n",
              "      <td>4</td>\n",
              "      <td>2006-08-16</td>\n",
              "      <td>43.458138</td>\n",
              "      <td>74.709961</td>\n",
              "      <td>E</td>\n",
              "      <td>...</td>\n",
              "      <td>8.9336</td>\n",
              "      <td>15.194380</td>\n",
              "      <td>15.41815</td>\n",
              "      <td>102.845600</td>\n",
              "      <td>50.950124</td>\n",
              "      <td>0.2388</td>\n",
              "      <td>0.0037</td>\n",
              "      <td>0.0668</td>\n",
              "      <td>-0.2424</td>\n",
              "      <td>0.3222</td>\n",
              "    </tr>\n",
              "    <tr>\n",
              "      <th>6826</th>\n",
              "      <td>139882</td>\n",
              "      <td>46.328846</td>\n",
              "      <td>8.984039</td>\n",
              "      <td>505.677744</td>\n",
              "      <td>5</td>\n",
              "      <td>2</td>\n",
              "      <td>2006-07-17</td>\n",
              "      <td>102.830132</td>\n",
              "      <td>252.158859</td>\n",
              "      <td>O</td>\n",
              "      <td>...</td>\n",
              "      <td>7.7581</td>\n",
              "      <td>21.580640</td>\n",
              "      <td>14.82531</td>\n",
              "      <td>111.764364</td>\n",
              "      <td>54.721718</td>\n",
              "      <td>0.5708</td>\n",
              "      <td>0.0161</td>\n",
              "      <td>0.1554</td>\n",
              "      <td>-0.5078</td>\n",
              "      <td>0.6716</td>\n",
              "    </tr>\n",
              "    <tr>\n",
              "      <th>6993</th>\n",
              "      <td>141361</td>\n",
              "      <td>46.321275</td>\n",
              "      <td>7.607429</td>\n",
              "      <td>916.033298</td>\n",
              "      <td>4</td>\n",
              "      <td>2</td>\n",
              "      <td>2006-09-26</td>\n",
              "      <td>59.640934</td>\n",
              "      <td>160.228271</td>\n",
              "      <td>S</td>\n",
              "      <td>...</td>\n",
              "      <td>7.7967</td>\n",
              "      <td>16.137630</td>\n",
              "      <td>14.52905</td>\n",
              "      <td>115.405240</td>\n",
              "      <td>46.698399</td>\n",
              "      <td>0.3995</td>\n",
              "      <td>0.0123</td>\n",
              "      <td>0.0118</td>\n",
              "      <td>-0.3880</td>\n",
              "      <td>0.3978</td>\n",
              "    </tr>\n",
              "    <tr>\n",
              "      <th>7167</th>\n",
              "      <td>143006</td>\n",
              "      <td>46.302158</td>\n",
              "      <td>7.970794</td>\n",
              "      <td>990.744351</td>\n",
              "      <td>4</td>\n",
              "      <td>3</td>\n",
              "      <td>2006-04-18</td>\n",
              "      <td>43.766090</td>\n",
              "      <td>349.334534</td>\n",
              "      <td>NO</td>\n",
              "      <td>...</td>\n",
              "      <td>9.4048</td>\n",
              "      <td>8.387802</td>\n",
              "      <td>15.11201</td>\n",
              "      <td>110.164174</td>\n",
              "      <td>50.445878</td>\n",
              "      <td>0.3338</td>\n",
              "      <td>0.0081</td>\n",
              "      <td>0.1419</td>\n",
              "      <td>-0.3050</td>\n",
              "      <td>0.3759</td>\n",
              "    </tr>\n",
              "    <tr>\n",
              "      <th>7737</th>\n",
              "      <td>146688</td>\n",
              "      <td>46.247722</td>\n",
              "      <td>8.994704</td>\n",
              "      <td>840.439572</td>\n",
              "      <td>5</td>\n",
              "      <td>2</td>\n",
              "      <td>2006-11-23</td>\n",
              "      <td>83.602562</td>\n",
              "      <td>128.077576</td>\n",
              "      <td>SE</td>\n",
              "      <td>...</td>\n",
              "      <td>8.6100</td>\n",
              "      <td>6.202390</td>\n",
              "      <td>14.67460</td>\n",
              "      <td>112.858573</td>\n",
              "      <td>53.017572</td>\n",
              "      <td>0.6496</td>\n",
              "      <td>0.0229</td>\n",
              "      <td>0.1078</td>\n",
              "      <td>-0.5694</td>\n",
              "      <td>0.7130</td>\n",
              "    </tr>\n",
              "  </tbody>\n",
              "</table>\n",
              "<p>5 rows × 117 columns</p>\n",
              "</div>"
            ],
            "text/plain": [
              "      PARCELLE        LAT       LON          ALT  PRODREG  HT_VEG       DATE  \\\n",
              "5662    121680  46.493994  8.728201  1119.142614        5       4 2006-08-16   \n",
              "6826    139882  46.328846  8.984039   505.677744        5       2 2006-07-17   \n",
              "6993    141361  46.321275  7.607429   916.033298        4       2 2006-09-26   \n",
              "7167    143006  46.302158  7.970794   990.744351        4       3 2006-04-18   \n",
              "7737    146688  46.247722  8.994704   840.439572        5       2 2006-11-23   \n",
              "\n",
              "         SLOPE25    ASPECT25 ORIENTATION  ...  TAVE_AVG       TAVE  \\\n",
              "5662   43.458138   74.709961           E  ...    8.9336  15.194380   \n",
              "6826  102.830132  252.158859           O  ...    7.7581  21.580640   \n",
              "6993   59.640934  160.228271           S  ...    7.7967  16.137630   \n",
              "7167   43.766090  349.334534          NO  ...    9.4048   8.387802   \n",
              "7737   83.602562  128.077576          SE  ...    8.6100   6.202390   \n",
              "\n",
              "      TAVE_GROWTH    PRCP_S_S   PRCP_G_S    NDVI     EVI    NDMI    NDWI  \\\n",
              "5662     15.41815  102.845600  50.950124  0.2388  0.0037  0.0668 -0.2424   \n",
              "6826     14.82531  111.764364  54.721718  0.5708  0.0161  0.1554 -0.5078   \n",
              "6993     14.52905  115.405240  46.698399  0.3995  0.0123  0.0118 -0.3880   \n",
              "7167     15.11201  110.164174  50.445878  0.3338  0.0081  0.1419 -0.3050   \n",
              "7737     14.67460  112.858573  53.017572  0.6496  0.0229  0.1078 -0.5694   \n",
              "\n",
              "        DSWI  \n",
              "5662  0.3222  \n",
              "6826  0.6716  \n",
              "6993  0.3978  \n",
              "7167  0.3759  \n",
              "7737  0.7130  \n",
              "\n",
              "[5 rows x 117 columns]"
            ]
          },
          "execution_count": 6,
          "metadata": {},
          "output_type": "execute_result"
        }
      ],
      "source": [
        "data_base.loc[(data_base[TARGET]==-1) & (data_base['LFI']==3),:]"
      ]
    },
    {
      "cell_type": "markdown",
      "metadata": {
        "id": "D9f0gOtzfjKT"
      },
      "source": [
        "PREPROCESSING _ Code base for models temporal predictions"
      ]
    },
    {
      "cell_type": "markdown",
      "metadata": {},
      "source": [
        "Ici, features engineering (création de nouvelles features à partir de la liste connues):"
      ]
    },
    {
      "cell_type": "code",
      "execution_count": 7,
      "metadata": {},
      "outputs": [],
      "source": [
        "# adding aridity index\n",
        "data_base[\"AI\"] = data_base['PRCP_GROWTH'] / data_base['TAVE_GROWTH']\n",
        "# adding H/D index\n",
        "data_base[\"H_D\"] = data_base['HAUTEUR_ARBRE'] / data_base['DBH']\n"
      ]
    },
    {
      "cell_type": "code",
      "execution_count": 8,
      "metadata": {},
      "outputs": [],
      "source": [
        "cat_strict = ['PRODREG', 'ESPECE_DOM', 'TYP_RAJ_PPL', 'DEG_FERMETURE', 'STR_PPL', 'RELIEF'] #exemple 'PRODREG', 'ESPECE_DOM', 'TYP_RAJ_PPL', 'DEG_FERMETURE', 'STR_PPL', 'RELIEF'\n",
        "cat_ord_miss = ['TAUX_COUV_RAJ', 'HT_VEG'] #exemple 'TAILLE_PPL', 'MELANGE', 'QUAL_STATION', 'TAUX_COUV_RAJ', 'SURF_TROU_AER', 'HT_VEG'\n",
        "numerics = ['PARCELLE', 'LFI', 'UNIT_ACCR','H_D','AI','SDI', 'AGE_PPL','ALT', 'TIGES_VIV_H', 'SURF_TER_HA', 'FEUILL_PER', 'CONIF_PER','PERF_CROI'] #exemple\n",
        "\n",
        "add_meteo_known = ['PRCP', 'TAVE_AVG',\t'TAVE', 'TAVE_GROWTH', 'PRCP_S_S',\t'PRCP_G_S']\n",
        "\n",
        "add_SAT_known = ['NDVI', 'EVI', 'NDMI', 'NDWI', 'DSWI']"
      ]
    },
    {
      "cell_type": "code",
      "execution_count": 9,
      "metadata": {},
      "outputs": [],
      "source": [
        "data_red = data_base[numerics + add_meteo_known + add_SAT_known + cat_ord_miss + cat_strict]"
      ]
    },
    {
      "cell_type": "markdown",
      "metadata": {},
      "source": [
        "Traitement des données catégorielles ordonnées en numériques (gestion des \"-1\" éventuels) :"
      ]
    },
    {
      "cell_type": "code",
      "execution_count": 10,
      "metadata": {},
      "outputs": [
        {
          "name": "stderr",
          "output_type": "stream",
          "text": [
            "C:\\Users\\PC\\AppData\\Local\\Temp\\ipykernel_2776\\3536129329.py:2: SettingWithCopyWarning: \n",
            "A value is trying to be set on a copy of a slice from a DataFrame.\n",
            "Try using .loc[row_indexer,col_indexer] = value instead\n",
            "\n",
            "See the caveats in the documentation: https://pandas.pydata.org/pandas-docs/stable/user_guide/indexing.html#returning-a-view-versus-a-copy\n",
            "  data_red[cat] = data_red[cat].apply(lambda v : int(v) if v!=-1 else np.nan)\n"
          ]
        }
      ],
      "source": [
        "for cat in cat_ord_miss:\n",
        "  data_red[cat] = data_red[cat].apply(lambda v : int(v) if v!=-1 else np.nan)"
      ]
    },
    {
      "cell_type": "code",
      "execution_count": 11,
      "metadata": {},
      "outputs": [],
      "source": [
        "for i in range(len(data_red)):\n",
        "    for j in range(len(data_red.columns)):\n",
        "        if np.isnan(data_red.iloc[i,j]) or data_red.iloc[i,j]==np.nan:\n",
        "            next_value = copy.copy(data_red.iloc[i+1,j])\n",
        "            data_red.iloc[i,j] = next_value"
      ]
    },
    {
      "cell_type": "code",
      "execution_count": 12,
      "metadata": {},
      "outputs": [],
      "source": [
        "numerics_features = numerics + add_meteo_known + add_SAT_known"
      ]
    },
    {
      "cell_type": "code",
      "execution_count": 13,
      "metadata": {},
      "outputs": [],
      "source": [
        "preprocessor_past = ColumnTransformer(\n",
        "    [(\"num\", KNNImputer(), numerics_features),\n",
        "    ('ord_cat', SimpleImputer(strategy='most_frequent'), cat_ord_miss),\n",
        "     (\"cat_strict\", SimpleImputer(strategy='most_frequent'), cat_strict)])"
      ]
    },
    {
      "cell_type": "code",
      "execution_count": 14,
      "metadata": {},
      "outputs": [],
      "source": [
        "data_red_past = data_red.loc[data_red['LFI']!=4,:]\n",
        "data_red_future = data_red.loc[data_red['LFI']==4,:]"
      ]
    },
    {
      "cell_type": "code",
      "execution_count": 15,
      "metadata": {},
      "outputs": [],
      "source": [
        "data_part_past = pd.DataFrame(preprocessor_past.fit_transform(data_red_past), columns=data_red.columns)"
      ]
    },
    {
      "cell_type": "code",
      "execution_count": 16,
      "metadata": {},
      "outputs": [],
      "source": [
        "data_red_clean = pd.concat([data_part_past, data_red_future], axis=0)"
      ]
    },
    {
      "cell_type": "code",
      "execution_count": 17,
      "metadata": {},
      "outputs": [],
      "source": [
        "data_red_clean.sort_values(['PARCELLE','LFI'], inplace=True)"
      ]
    },
    {
      "cell_type": "code",
      "execution_count": 18,
      "metadata": {},
      "outputs": [],
      "source": [
        "data_red_clean.drop('PARCELLE', axis=1, inplace=True)"
      ]
    },
    {
      "cell_type": "code",
      "execution_count": 19,
      "metadata": {},
      "outputs": [
        {
          "data": {
            "text/plain": [
              "'PARCELLE'"
            ]
          },
          "execution_count": 19,
          "metadata": {},
          "output_type": "execute_result"
        }
      ],
      "source": [
        "numerics_features.pop(0)"
      ]
    },
    {
      "cell_type": "code",
      "execution_count": 20,
      "metadata": {},
      "outputs": [],
      "source": [
        "numerics_transforms_tot = Pipeline(\n",
        "    [(\"imputer\", SimpleImputer()),\n",
        "    ('encoder',StandardScaler())\n",
        "])\n",
        "categorials_transforms_tot = Pipeline([\n",
        "    (\"imputer\", SimpleImputer(strategy='most_frequent')),\n",
        "    ('encoder',OneHotEncoder(drop=\"first\"))\n",
        "])\n",
        "\n",
        "ordinal_cat_transforms_tot = Pipeline([\n",
        "    (\"imputer\", SimpleImputer(strategy='most_frequent')),\n",
        "    ('encoder',OrdinalEncoder())\n",
        "])\n",
        "\n",
        "preprocessor_tot = ColumnTransformer(\n",
        "    [(\"num\", numerics_transforms_tot, numerics_features),\n",
        "    (\"ord_cat\", ordinal_cat_transforms_tot, cat_ord_miss),\n",
        "     (\"cat_strict\", categorials_transforms_tot, cat_strict)])"
      ]
    },
    {
      "cell_type": "code",
      "execution_count": 19,
      "metadata": {},
      "outputs": [],
      "source": [
        "#data_red['ORIENTATION'] = data_red['ORIENTATION'].map({'N':0,'NE':1,'E':2,'SE':3,'S':4,'SO':5,'O':6,'NO':7})\n",
        "#data_red['ORIENTATION_f'] = data_red['ORIENTATION_f'].map({'N':0,'NE':1,'E':2,'SE':3,'S':4,'SO':5,'O':6,'NO':7})\n"
      ]
    },
    {
      "cell_type": "code",
      "execution_count": 21,
      "metadata": {},
      "outputs": [],
      "source": [
        "X_train, X_test = train_test_split(data_red_clean, test_size=2000, shuffle=False, random_state=2)"
      ]
    },
    {
      "cell_type": "code",
      "execution_count": 22,
      "metadata": {},
      "outputs": [],
      "source": [
        "X_train = preprocessor_tot.fit_transform(X_train)\n",
        "X_test = preprocessor_tot.transform(X_test)"
      ]
    },
    {
      "cell_type": "code",
      "execution_count": 23,
      "metadata": {},
      "outputs": [],
      "source": [
        "list_features_in = []\n",
        "for feat in (numerics_features + cat_ord_miss):\n",
        "  list_features_in.append(feat)\n",
        "for cat in cat_strict:\n",
        "  nb_lab = len(data_red[cat].unique())-1\n",
        "  for i in range(nb_lab):\n",
        "    list_features_in.append(f'{cat}_{i}')"
      ]
    },
    {
      "cell_type": "code",
      "execution_count": 24,
      "metadata": {},
      "outputs": [],
      "source": [
        "df_train = pd.DataFrame(X_train, columns=list_features_in)\n",
        "df_test = pd.DataFrame(X_test, columns=list_features_in)"
      ]
    },
    {
      "cell_type": "code",
      "execution_count": 25,
      "metadata": {},
      "outputs": [
        {
          "name": "stderr",
          "output_type": "stream",
          "text": [
            "c:\\Users\\PC\\anaconda3\\envs\\tf\\lib\\site-packages\\keras\\utils\\timeseries_dataset.py:270: FutureWarning: The behavior of `series[i:j]` with an integer-dtype index is deprecated. In a future version, this will be treated as *label-based* indexing, consistent with e.g. `series[i]` lookups. To retain the old behavior, use `series.iloc[i:j]`. To get the future behavior, use `series.loc[i:j]`.\n",
            "  dataset = tf.data.Dataset.from_tensors(array[start_index:end_index])\n"
          ]
        }
      ],
      "source": [
        "ds_train = tf.keras.utils.timeseries_dataset_from_array(\n",
        "    data=X_train,\n",
        "    targets=df_train[TARGET][3:],\n",
        "    sequence_length=3,\n",
        "    sequence_stride=4,\n",
        "    shuffle=False,\n",
        "    batch_size=32)"
      ]
    },
    {
      "cell_type": "code",
      "execution_count": 26,
      "metadata": {},
      "outputs": [],
      "source": [
        "for batch in ds_train.take(1):\n",
        "  inputs, targets = batch"
      ]
    },
    {
      "cell_type": "code",
      "execution_count": 27,
      "metadata": {},
      "outputs": [
        {
          "data": {
            "text/plain": [
              "<tf.Tensor: shape=(3, 64), dtype=float64, numpy=\n",
              "array([[-1.34164079,  0.38951802, -0.23575207,  0.595565  , -0.10945651,\n",
              "        -0.39908786, -1.3152496 ,  0.4506092 , -0.28471247,  0.84699012,\n",
              "        -0.76347084,  1.48765271, -0.48237455,  0.64459185, -1.30976505,\n",
              "        -0.75013904, -1.70349493, -1.65952795,  0.40569241,  0.86018684,\n",
              "         0.79631398, -0.41554427,  0.4174749 ,  1.        ,  1.        ,\n",
              "         0.        ,  0.        ,  0.        ,  0.        ,  0.        ,\n",
              "         0.        ,  0.        ,  0.        ,  0.        ,  0.        ,\n",
              "         1.        ,  0.        ,  0.        ,  0.        ,  0.        ,\n",
              "         0.        ,  0.        ,  0.        ,  0.        ,  1.        ,\n",
              "         0.        ,  0.        ,  0.        ,  0.        ,  0.        ,\n",
              "         0.        ,  0.        ,  0.        ,  0.        ,  0.        ,\n",
              "         0.        ,  1.        ,  0.        ,  0.        ,  0.        ,\n",
              "         0.        ,  1.        ,  0.        ,  0.        ],\n",
              "       [-0.4472136 ,  0.38951802,  0.7387722 ,  0.595565  ,  0.27893092,\n",
              "        -0.31254952, -1.3152496 ,  0.64361851,  0.09567832,  0.76364306,\n",
              "        -0.65550859,  1.48765271, -0.48237455,  0.64459185, -1.30976505,\n",
              "        -0.75013904,  0.59367837,  0.51094124,  0.96720833,  1.03163763,\n",
              "         1.18783387, -1.12451796,  1.20479608,  1.        ,  1.        ,\n",
              "         0.        ,  0.        ,  0.        ,  0.        ,  0.        ,\n",
              "         0.        ,  0.        ,  0.        ,  0.        ,  0.        ,\n",
              "         1.        ,  0.        ,  0.        ,  0.        ,  0.        ,\n",
              "         0.        ,  1.        ,  0.        ,  0.        ,  0.        ,\n",
              "         1.        ,  0.        ,  0.        ,  0.        ,  0.        ,\n",
              "         0.        ,  0.        ,  0.        ,  0.        ,  0.        ,\n",
              "         0.        ,  1.        ,  0.        ,  0.        ,  0.        ,\n",
              "         0.        ,  1.        ,  0.        ,  0.        ],\n",
              "       [ 0.4472136 ,  0.18291863,  0.87974112,  0.74990436,  0.74143809,\n",
              "        -0.57216456, -1.3152496 ,  0.86879603,  0.557136  ,  0.76364306,\n",
              "        -0.65550859,  1.48765271, -1.74034622,  0.86697291, -2.80005908,\n",
              "        -0.08636798,  0.70573066,  0.66635372,  1.86109723,  2.40324391,\n",
              "         0.82294798, -2.00646415,  2.19405056,  1.        ,  1.        ,\n",
              "         0.        ,  0.        ,  0.        ,  0.        ,  0.        ,\n",
              "         0.        ,  0.        ,  0.        ,  0.        ,  0.        ,\n",
              "         1.        ,  0.        ,  0.        ,  0.        ,  0.        ,\n",
              "         0.        ,  1.        ,  0.        ,  0.        ,  1.        ,\n",
              "         0.        ,  0.        ,  0.        ,  0.        ,  0.        ,\n",
              "         0.        ,  0.        ,  0.        ,  0.        ,  0.        ,\n",
              "         1.        ,  0.        ,  0.        ,  0.        ,  0.        ,\n",
              "         0.        ,  1.        ,  0.        ,  0.        ]])>"
            ]
          },
          "execution_count": 27,
          "metadata": {},
          "output_type": "execute_result"
        }
      ],
      "source": [
        "inputs[0]"
      ]
    },
    {
      "cell_type": "code",
      "execution_count": 28,
      "metadata": {},
      "outputs": [
        {
          "data": {
            "text/plain": [
              "<tf.Tensor: shape=(32,), dtype=float64, numpy=\n",
              "array([ 0.63055065, -0.058114  , -2.0896747 ,  2.01935768, -0.59756797,\n",
              "       -1.17145517, -0.16141369,  0.36656254, -0.88451157, -0.72382315,\n",
              "        0.87158328,  0.86010553, -0.87303383, -0.40244632, -0.68938992,\n",
              "        1.05522718,  0.18291863,  1.05522718,  0.45838449,  1.44547048,\n",
              "        0.74532809,  1.08966041,  0.09109668, -0.82712285,  3.14417661,\n",
              "        0.11405217,  1.0093162 , -1.65352042, -0.10402497, -0.17289144,\n",
              "       -0.19584692, -1.32066585])>"
            ]
          },
          "execution_count": 28,
          "metadata": {},
          "output_type": "execute_result"
        }
      ],
      "source": [
        "targets"
      ]
    },
    {
      "cell_type": "code",
      "execution_count": 29,
      "metadata": {},
      "outputs": [
        {
          "data": {
            "text/plain": [
              "[0.6305506497883541,\n",
              " -0.05811399566571488,\n",
              " -2.089674699755218,\n",
              " 2.019357684787393,\n",
              " -0.5975679679380689,\n",
              " -1.1714551724831261,\n",
              " -0.16141369248382526,\n",
              " 0.36656253569762753,\n",
              " -0.8845115702105976,\n",
              " -0.7238231529379815]"
            ]
          },
          "execution_count": 29,
          "metadata": {},
          "output_type": "execute_result"
        }
      ],
      "source": [
        "true_values = []\n",
        "for i in range(len(X_train)//4):\n",
        "    true_values.append(df_train.iloc[i*4+3,:][TARGET])\n",
        "true_values[0:10]"
      ]
    },
    {
      "cell_type": "code",
      "execution_count": 30,
      "metadata": {},
      "outputs": [],
      "source": [
        "ds_test = tf.keras.utils.timeseries_dataset_from_array(\n",
        "    data=X_test,\n",
        "    targets=df_test[TARGET][3:],\n",
        "    sequence_length=3,\n",
        "    sequence_stride=4,\n",
        "    shuffle=False,\n",
        "    batch_size=32)"
      ]
    },
    {
      "cell_type": "code",
      "execution_count": 31,
      "metadata": {},
      "outputs": [],
      "source": [
        "model = tf.keras.models.Sequential([\n",
        "        tf.keras.layers.GRU(128, input_shape=(3,64,), return_sequences=True),\n",
        "        tf.keras.layers.GRU(64, return_sequences=True),\n",
        "        tf.keras.layers.GRU(32, return_sequences=False),\n",
        "        tf.keras.layers.Dense(8, \"linear\"),\n",
        "        tf.keras.layers.Dense(1, \"linear\")\n",
        "    ])"
      ]
    },
    {
      "cell_type": "code",
      "execution_count": 32,
      "metadata": {},
      "outputs": [
        {
          "name": "stdout",
          "output_type": "stream",
          "text": [
            "Model: \"sequential\"\n",
            "_________________________________________________________________\n",
            " Layer (type)                Output Shape              Param #   \n",
            "=================================================================\n",
            " gru (GRU)                   (None, 3, 128)            74496     \n",
            "                                                                 \n",
            " gru_1 (GRU)                 (None, 3, 64)             37248     \n",
            "                                                                 \n",
            " gru_2 (GRU)                 (None, 32)                9408      \n",
            "                                                                 \n",
            " dense (Dense)               (None, 8)                 264       \n",
            "                                                                 \n",
            " dense_1 (Dense)             (None, 1)                 9         \n",
            "                                                                 \n",
            "=================================================================\n",
            "Total params: 121,425\n",
            "Trainable params: 121,425\n",
            "Non-trainable params: 0\n",
            "_________________________________________________________________\n"
          ]
        }
      ],
      "source": [
        "model.summary()"
      ]
    },
    {
      "cell_type": "code",
      "execution_count": 33,
      "metadata": {},
      "outputs": [],
      "source": [
        "model.compile(\n",
        "    loss=tf.keras.losses.MeanSquaredError(),\n",
        "    optimizer=tf.keras.optimizers.Adam(),\n",
        "    metrics=tfa.metrics.RSquare())"
      ]
    },
    {
      "cell_type": "code",
      "execution_count": 35,
      "metadata": {},
      "outputs": [
        {
          "name": "stdout",
          "output_type": "stream",
          "text": [
            "Epoch 1/5\n",
            "60/60 [==============================] - 1s 13ms/step - loss: 1.2032 - r_square: 0.2754 - val_loss: 1.4517 - val_r_square: 0.0594\n",
            "Epoch 2/5\n",
            "60/60 [==============================] - 1s 13ms/step - loss: 1.1529 - r_square: 0.3058 - val_loss: 1.4983 - val_r_square: 0.0292\n",
            "Epoch 3/5\n",
            "60/60 [==============================] - 1s 13ms/step - loss: 1.0981 - r_square: 0.3388 - val_loss: 1.5525 - val_r_square: -0.0059\n",
            "Epoch 4/5\n",
            "60/60 [==============================] - 1s 13ms/step - loss: 1.0377 - r_square: 0.3751 - val_loss: 1.6090 - val_r_square: -0.0426\n",
            "Epoch 5/5\n",
            "60/60 [==============================] - 1s 13ms/step - loss: 0.9694 - r_square: 0.4163 - val_loss: 1.6667 - val_r_square: -0.0799\n"
          ]
        },
        {
          "data": {
            "text/plain": [
              "<keras.callbacks.History at 0x1b31b1bfe80>"
            ]
          },
          "execution_count": 35,
          "metadata": {},
          "output_type": "execute_result"
        }
      ],
      "source": [
        "model.fit(ds_train, epochs=5, validation_data=ds_test)"
      ]
    },
    {
      "cell_type": "code",
      "execution_count": 99,
      "metadata": {},
      "outputs": [],
      "source": [
        "true_values = []\n",
        "predictions = []\n",
        "for i in range(int(len(X_test)/4)):\n",
        "    true_values.append(df_test.iloc[i*4+3,:][TARGET])\n",
        "    predictions.append(np.array(model(tf.expand_dims(X_test[i*4:i*4+3], axis=0))))\n"
      ]
    },
    {
      "cell_type": "code",
      "execution_count": 103,
      "metadata": {},
      "outputs": [
        {
          "data": {
            "text/plain": [
              "0.767219143553783"
            ]
          },
          "execution_count": 103,
          "metadata": {},
          "output_type": "execute_result"
        }
      ],
      "source": [
        "r2_score(true_values, np.array(predictions).ravel())"
      ]
    },
    {
      "cell_type": "code",
      "execution_count": 104,
      "metadata": {},
      "outputs": [
        {
          "data": {
            "text/plain": [
              "<tf.Variable 'gru_32/gru_cell_32/kernel:0' shape=(64, 384) dtype=float32, numpy=\n",
              "array([[ 0.06008945, -0.0208231 ,  0.05647784, ..., -0.0252794 ,\n",
              "         0.07640408, -0.04780112],\n",
              "       [-0.10494728, -0.06508765,  0.11623695, ..., -0.03886441,\n",
              "        -0.00513382, -0.04098175],\n",
              "       [ 0.02636033, -0.07488547, -0.03994165, ...,  0.0994485 ,\n",
              "        -0.06447626,  0.08275823],\n",
              "       ...,\n",
              "       [ 0.05040737, -0.09723269,  0.10408894, ..., -0.04169362,\n",
              "         0.0207759 , -0.09330749],\n",
              "       [-0.07891459, -0.1026121 ,  0.11228173, ..., -0.07103606,\n",
              "         0.04577089,  0.11043668],\n",
              "       [-0.04790527, -0.14083073, -0.03386193, ..., -0.00904732,\n",
              "        -0.09307924,  0.09162017]], dtype=float32)>"
            ]
          },
          "execution_count": 104,
          "metadata": {},
          "output_type": "execute_result"
        }
      ],
      "source": [
        "model.layers[0].trainable_variables[0]"
      ]
    },
    {
      "cell_type": "code",
      "execution_count": 108,
      "metadata": {},
      "outputs": [],
      "source": [
        "coeff_mean = []\n",
        "for i in range(64):\n",
        "    coeff_mean.append(np.mean(model.layers[0].trainable_variables[0][i]))"
      ]
    },
    {
      "cell_type": "code",
      "execution_count": 109,
      "metadata": {},
      "outputs": [],
      "source": [
        "df_coef = pd.DataFrame(coeff_mean, columns=['Coeff'], index= list_features_in)"
      ]
    },
    {
      "cell_type": "code",
      "execution_count": 110,
      "metadata": {},
      "outputs": [
        {
          "data": {
            "application/vnd.plotly.v1+json": {
              "config": {
                "plotlyServerURL": "https://plot.ly"
              },
              "data": [
                {
                  "alignmentgroup": "True",
                  "hovertemplate": "variable=Coeff<br>index=%{x}<br>value=%{y}<extra></extra>",
                  "legendgroup": "Coeff",
                  "marker": {
                    "color": "#636efa",
                    "pattern": {
                      "shape": ""
                    }
                  },
                  "name": "Coeff",
                  "offsetgroup": "Coeff",
                  "orientation": "v",
                  "showlegend": true,
                  "textposition": "auto",
                  "type": "bar",
                  "x": [
                    "LFI",
                    "UNIT_ACCR",
                    "H_D",
                    "AI",
                    "SDI",
                    "AGE_PPL",
                    "ALT",
                    "TIGES_VIV_H",
                    "SURF_TER_HA",
                    "FEUILL_PER",
                    "CONIF_PER",
                    "PERF_CROI",
                    "PRCP",
                    "TAVE_AVG",
                    "TAVE",
                    "TAVE_GROWTH",
                    "PRCP_S_S",
                    "PRCP_G_S",
                    "NDVI",
                    "EVI",
                    "NDMI",
                    "NDWI",
                    "DSWI",
                    "TAUX_COUV_RAJ",
                    "HT_VEG",
                    "PRODREG_0",
                    "PRODREG_1",
                    "PRODREG_2",
                    "PRODREG_3",
                    "ESPECE_DOM_0",
                    "ESPECE_DOM_1",
                    "ESPECE_DOM_2",
                    "ESPECE_DOM_3",
                    "ESPECE_DOM_4",
                    "ESPECE_DOM_5",
                    "ESPECE_DOM_6",
                    "ESPECE_DOM_7",
                    "ESPECE_DOM_8",
                    "ESPECE_DOM_9",
                    "ESPECE_DOM_10",
                    "ESPECE_DOM_11",
                    "TYP_RAJ_PPL_0",
                    "TYP_RAJ_PPL_1",
                    "TYP_RAJ_PPL_2",
                    "DEG_FERMETURE_0",
                    "DEG_FERMETURE_1",
                    "DEG_FERMETURE_2",
                    "DEG_FERMETURE_3",
                    "DEG_FERMETURE_4",
                    "DEG_FERMETURE_5",
                    "DEG_FERMETURE_6",
                    "DEG_FERMETURE_7",
                    "DEG_FERMETURE_8",
                    "DEG_FERMETURE_9",
                    "DEG_FERMETURE_10",
                    "STR_PPL_0",
                    "STR_PPL_1",
                    "STR_PPL_2",
                    "STR_PPL_3",
                    "RELIEF_0",
                    "RELIEF_1",
                    "RELIEF_2",
                    "RELIEF_3",
                    "RELIEF_4"
                  ],
                  "xaxis": "x",
                  "y": [
                    -0.01050813589245081,
                    -0.001503176405094564,
                    0.008047639392316341,
                    -0.0010190097382292151,
                    0.0018927293131127954,
                    -0.0002076645178021863,
                    -0.004559023771435022,
                    0.012247338891029358,
                    0.004404889885336161,
                    -0.0004070168361067772,
                    0.0006057351711206138,
                    0.004896549042314291,
                    -0.0014410908333957195,
                    0.0060318089090287685,
                    -0.00154222606215626,
                    0.00004442346471478231,
                    -0.0033703253138810396,
                    -0.00367733184248209,
                    -0.0035900380462408066,
                    -0.008443102240562439,
                    -0.001462323241867125,
                    0.0021896883845329285,
                    0.0024790773168206215,
                    0.0013206162257120013,
                    -0.004076946526765823,
                    0.0011186000192537904,
                    -0.006805731449276209,
                    0.00038495645276270807,
                    -0.011229344643652439,
                    0.002052093157544732,
                    -0.0035977091174572706,
                    -0.005640762392431498,
                    0.005601796787232161,
                    0.0016360512236133218,
                    -0.008155759423971176,
                    -0.0032562643755227327,
                    -0.011787929572165012,
                    -0.004971764516085386,
                    0.003665902651846409,
                    0.001960041932761669,
                    0.0033717744518071413,
                    0.00009153658902505413,
                    0.0005470056203193963,
                    -0.008391288109123707,
                    0.007414850872009993,
                    0.004465873818844557,
                    0.002864167094230652,
                    -0.0004564705304801464,
                    -0.011335211805999279,
                    0.010112104006111622,
                    -0.0034268212039023638,
                    -0.0023384580854326487,
                    -0.00338733964599669,
                    0.003304882673546672,
                    0.007084408774971962,
                    -0.0001635004737181589,
                    -0.008039026521146297,
                    0.0021316574420779943,
                    0.007883443497121334,
                    -0.0047339750453829765,
                    0.010355849750339985,
                    -0.010624685324728489,
                    -0.006953523959964514,
                    -0.000016916854292503558
                  ],
                  "yaxis": "y"
                }
              ],
              "layout": {
                "barmode": "relative",
                "legend": {
                  "title": {
                    "text": "variable"
                  },
                  "tracegroupgap": 0
                },
                "template": {
                  "data": {
                    "bar": [
                      {
                        "error_x": {
                          "color": "#2a3f5f"
                        },
                        "error_y": {
                          "color": "#2a3f5f"
                        },
                        "marker": {
                          "line": {
                            "color": "#E5ECF6",
                            "width": 0.5
                          },
                          "pattern": {
                            "fillmode": "overlay",
                            "size": 10,
                            "solidity": 0.2
                          }
                        },
                        "type": "bar"
                      }
                    ],
                    "barpolar": [
                      {
                        "marker": {
                          "line": {
                            "color": "#E5ECF6",
                            "width": 0.5
                          },
                          "pattern": {
                            "fillmode": "overlay",
                            "size": 10,
                            "solidity": 0.2
                          }
                        },
                        "type": "barpolar"
                      }
                    ],
                    "carpet": [
                      {
                        "aaxis": {
                          "endlinecolor": "#2a3f5f",
                          "gridcolor": "white",
                          "linecolor": "white",
                          "minorgridcolor": "white",
                          "startlinecolor": "#2a3f5f"
                        },
                        "baxis": {
                          "endlinecolor": "#2a3f5f",
                          "gridcolor": "white",
                          "linecolor": "white",
                          "minorgridcolor": "white",
                          "startlinecolor": "#2a3f5f"
                        },
                        "type": "carpet"
                      }
                    ],
                    "choropleth": [
                      {
                        "colorbar": {
                          "outlinewidth": 0,
                          "ticks": ""
                        },
                        "type": "choropleth"
                      }
                    ],
                    "contour": [
                      {
                        "colorbar": {
                          "outlinewidth": 0,
                          "ticks": ""
                        },
                        "colorscale": [
                          [
                            0,
                            "#0d0887"
                          ],
                          [
                            0.1111111111111111,
                            "#46039f"
                          ],
                          [
                            0.2222222222222222,
                            "#7201a8"
                          ],
                          [
                            0.3333333333333333,
                            "#9c179e"
                          ],
                          [
                            0.4444444444444444,
                            "#bd3786"
                          ],
                          [
                            0.5555555555555556,
                            "#d8576b"
                          ],
                          [
                            0.6666666666666666,
                            "#ed7953"
                          ],
                          [
                            0.7777777777777778,
                            "#fb9f3a"
                          ],
                          [
                            0.8888888888888888,
                            "#fdca26"
                          ],
                          [
                            1,
                            "#f0f921"
                          ]
                        ],
                        "type": "contour"
                      }
                    ],
                    "contourcarpet": [
                      {
                        "colorbar": {
                          "outlinewidth": 0,
                          "ticks": ""
                        },
                        "type": "contourcarpet"
                      }
                    ],
                    "heatmap": [
                      {
                        "colorbar": {
                          "outlinewidth": 0,
                          "ticks": ""
                        },
                        "colorscale": [
                          [
                            0,
                            "#0d0887"
                          ],
                          [
                            0.1111111111111111,
                            "#46039f"
                          ],
                          [
                            0.2222222222222222,
                            "#7201a8"
                          ],
                          [
                            0.3333333333333333,
                            "#9c179e"
                          ],
                          [
                            0.4444444444444444,
                            "#bd3786"
                          ],
                          [
                            0.5555555555555556,
                            "#d8576b"
                          ],
                          [
                            0.6666666666666666,
                            "#ed7953"
                          ],
                          [
                            0.7777777777777778,
                            "#fb9f3a"
                          ],
                          [
                            0.8888888888888888,
                            "#fdca26"
                          ],
                          [
                            1,
                            "#f0f921"
                          ]
                        ],
                        "type": "heatmap"
                      }
                    ],
                    "heatmapgl": [
                      {
                        "colorbar": {
                          "outlinewidth": 0,
                          "ticks": ""
                        },
                        "colorscale": [
                          [
                            0,
                            "#0d0887"
                          ],
                          [
                            0.1111111111111111,
                            "#46039f"
                          ],
                          [
                            0.2222222222222222,
                            "#7201a8"
                          ],
                          [
                            0.3333333333333333,
                            "#9c179e"
                          ],
                          [
                            0.4444444444444444,
                            "#bd3786"
                          ],
                          [
                            0.5555555555555556,
                            "#d8576b"
                          ],
                          [
                            0.6666666666666666,
                            "#ed7953"
                          ],
                          [
                            0.7777777777777778,
                            "#fb9f3a"
                          ],
                          [
                            0.8888888888888888,
                            "#fdca26"
                          ],
                          [
                            1,
                            "#f0f921"
                          ]
                        ],
                        "type": "heatmapgl"
                      }
                    ],
                    "histogram": [
                      {
                        "marker": {
                          "pattern": {
                            "fillmode": "overlay",
                            "size": 10,
                            "solidity": 0.2
                          }
                        },
                        "type": "histogram"
                      }
                    ],
                    "histogram2d": [
                      {
                        "colorbar": {
                          "outlinewidth": 0,
                          "ticks": ""
                        },
                        "colorscale": [
                          [
                            0,
                            "#0d0887"
                          ],
                          [
                            0.1111111111111111,
                            "#46039f"
                          ],
                          [
                            0.2222222222222222,
                            "#7201a8"
                          ],
                          [
                            0.3333333333333333,
                            "#9c179e"
                          ],
                          [
                            0.4444444444444444,
                            "#bd3786"
                          ],
                          [
                            0.5555555555555556,
                            "#d8576b"
                          ],
                          [
                            0.6666666666666666,
                            "#ed7953"
                          ],
                          [
                            0.7777777777777778,
                            "#fb9f3a"
                          ],
                          [
                            0.8888888888888888,
                            "#fdca26"
                          ],
                          [
                            1,
                            "#f0f921"
                          ]
                        ],
                        "type": "histogram2d"
                      }
                    ],
                    "histogram2dcontour": [
                      {
                        "colorbar": {
                          "outlinewidth": 0,
                          "ticks": ""
                        },
                        "colorscale": [
                          [
                            0,
                            "#0d0887"
                          ],
                          [
                            0.1111111111111111,
                            "#46039f"
                          ],
                          [
                            0.2222222222222222,
                            "#7201a8"
                          ],
                          [
                            0.3333333333333333,
                            "#9c179e"
                          ],
                          [
                            0.4444444444444444,
                            "#bd3786"
                          ],
                          [
                            0.5555555555555556,
                            "#d8576b"
                          ],
                          [
                            0.6666666666666666,
                            "#ed7953"
                          ],
                          [
                            0.7777777777777778,
                            "#fb9f3a"
                          ],
                          [
                            0.8888888888888888,
                            "#fdca26"
                          ],
                          [
                            1,
                            "#f0f921"
                          ]
                        ],
                        "type": "histogram2dcontour"
                      }
                    ],
                    "mesh3d": [
                      {
                        "colorbar": {
                          "outlinewidth": 0,
                          "ticks": ""
                        },
                        "type": "mesh3d"
                      }
                    ],
                    "parcoords": [
                      {
                        "line": {
                          "colorbar": {
                            "outlinewidth": 0,
                            "ticks": ""
                          }
                        },
                        "type": "parcoords"
                      }
                    ],
                    "pie": [
                      {
                        "automargin": true,
                        "type": "pie"
                      }
                    ],
                    "scatter": [
                      {
                        "fillpattern": {
                          "fillmode": "overlay",
                          "size": 10,
                          "solidity": 0.2
                        },
                        "type": "scatter"
                      }
                    ],
                    "scatter3d": [
                      {
                        "line": {
                          "colorbar": {
                            "outlinewidth": 0,
                            "ticks": ""
                          }
                        },
                        "marker": {
                          "colorbar": {
                            "outlinewidth": 0,
                            "ticks": ""
                          }
                        },
                        "type": "scatter3d"
                      }
                    ],
                    "scattercarpet": [
                      {
                        "marker": {
                          "colorbar": {
                            "outlinewidth": 0,
                            "ticks": ""
                          }
                        },
                        "type": "scattercarpet"
                      }
                    ],
                    "scattergeo": [
                      {
                        "marker": {
                          "colorbar": {
                            "outlinewidth": 0,
                            "ticks": ""
                          }
                        },
                        "type": "scattergeo"
                      }
                    ],
                    "scattergl": [
                      {
                        "marker": {
                          "colorbar": {
                            "outlinewidth": 0,
                            "ticks": ""
                          }
                        },
                        "type": "scattergl"
                      }
                    ],
                    "scattermapbox": [
                      {
                        "marker": {
                          "colorbar": {
                            "outlinewidth": 0,
                            "ticks": ""
                          }
                        },
                        "type": "scattermapbox"
                      }
                    ],
                    "scatterpolar": [
                      {
                        "marker": {
                          "colorbar": {
                            "outlinewidth": 0,
                            "ticks": ""
                          }
                        },
                        "type": "scatterpolar"
                      }
                    ],
                    "scatterpolargl": [
                      {
                        "marker": {
                          "colorbar": {
                            "outlinewidth": 0,
                            "ticks": ""
                          }
                        },
                        "type": "scatterpolargl"
                      }
                    ],
                    "scatterternary": [
                      {
                        "marker": {
                          "colorbar": {
                            "outlinewidth": 0,
                            "ticks": ""
                          }
                        },
                        "type": "scatterternary"
                      }
                    ],
                    "surface": [
                      {
                        "colorbar": {
                          "outlinewidth": 0,
                          "ticks": ""
                        },
                        "colorscale": [
                          [
                            0,
                            "#0d0887"
                          ],
                          [
                            0.1111111111111111,
                            "#46039f"
                          ],
                          [
                            0.2222222222222222,
                            "#7201a8"
                          ],
                          [
                            0.3333333333333333,
                            "#9c179e"
                          ],
                          [
                            0.4444444444444444,
                            "#bd3786"
                          ],
                          [
                            0.5555555555555556,
                            "#d8576b"
                          ],
                          [
                            0.6666666666666666,
                            "#ed7953"
                          ],
                          [
                            0.7777777777777778,
                            "#fb9f3a"
                          ],
                          [
                            0.8888888888888888,
                            "#fdca26"
                          ],
                          [
                            1,
                            "#f0f921"
                          ]
                        ],
                        "type": "surface"
                      }
                    ],
                    "table": [
                      {
                        "cells": {
                          "fill": {
                            "color": "#EBF0F8"
                          },
                          "line": {
                            "color": "white"
                          }
                        },
                        "header": {
                          "fill": {
                            "color": "#C8D4E3"
                          },
                          "line": {
                            "color": "white"
                          }
                        },
                        "type": "table"
                      }
                    ]
                  },
                  "layout": {
                    "annotationdefaults": {
                      "arrowcolor": "#2a3f5f",
                      "arrowhead": 0,
                      "arrowwidth": 1
                    },
                    "autotypenumbers": "strict",
                    "coloraxis": {
                      "colorbar": {
                        "outlinewidth": 0,
                        "ticks": ""
                      }
                    },
                    "colorscale": {
                      "diverging": [
                        [
                          0,
                          "#8e0152"
                        ],
                        [
                          0.1,
                          "#c51b7d"
                        ],
                        [
                          0.2,
                          "#de77ae"
                        ],
                        [
                          0.3,
                          "#f1b6da"
                        ],
                        [
                          0.4,
                          "#fde0ef"
                        ],
                        [
                          0.5,
                          "#f7f7f7"
                        ],
                        [
                          0.6,
                          "#e6f5d0"
                        ],
                        [
                          0.7,
                          "#b8e186"
                        ],
                        [
                          0.8,
                          "#7fbc41"
                        ],
                        [
                          0.9,
                          "#4d9221"
                        ],
                        [
                          1,
                          "#276419"
                        ]
                      ],
                      "sequential": [
                        [
                          0,
                          "#0d0887"
                        ],
                        [
                          0.1111111111111111,
                          "#46039f"
                        ],
                        [
                          0.2222222222222222,
                          "#7201a8"
                        ],
                        [
                          0.3333333333333333,
                          "#9c179e"
                        ],
                        [
                          0.4444444444444444,
                          "#bd3786"
                        ],
                        [
                          0.5555555555555556,
                          "#d8576b"
                        ],
                        [
                          0.6666666666666666,
                          "#ed7953"
                        ],
                        [
                          0.7777777777777778,
                          "#fb9f3a"
                        ],
                        [
                          0.8888888888888888,
                          "#fdca26"
                        ],
                        [
                          1,
                          "#f0f921"
                        ]
                      ],
                      "sequentialminus": [
                        [
                          0,
                          "#0d0887"
                        ],
                        [
                          0.1111111111111111,
                          "#46039f"
                        ],
                        [
                          0.2222222222222222,
                          "#7201a8"
                        ],
                        [
                          0.3333333333333333,
                          "#9c179e"
                        ],
                        [
                          0.4444444444444444,
                          "#bd3786"
                        ],
                        [
                          0.5555555555555556,
                          "#d8576b"
                        ],
                        [
                          0.6666666666666666,
                          "#ed7953"
                        ],
                        [
                          0.7777777777777778,
                          "#fb9f3a"
                        ],
                        [
                          0.8888888888888888,
                          "#fdca26"
                        ],
                        [
                          1,
                          "#f0f921"
                        ]
                      ]
                    },
                    "colorway": [
                      "#636efa",
                      "#EF553B",
                      "#00cc96",
                      "#ab63fa",
                      "#FFA15A",
                      "#19d3f3",
                      "#FF6692",
                      "#B6E880",
                      "#FF97FF",
                      "#FECB52"
                    ],
                    "font": {
                      "color": "#2a3f5f"
                    },
                    "geo": {
                      "bgcolor": "white",
                      "lakecolor": "white",
                      "landcolor": "#E5ECF6",
                      "showlakes": true,
                      "showland": true,
                      "subunitcolor": "white"
                    },
                    "hoverlabel": {
                      "align": "left"
                    },
                    "hovermode": "closest",
                    "mapbox": {
                      "style": "light"
                    },
                    "paper_bgcolor": "white",
                    "plot_bgcolor": "#E5ECF6",
                    "polar": {
                      "angularaxis": {
                        "gridcolor": "white",
                        "linecolor": "white",
                        "ticks": ""
                      },
                      "bgcolor": "#E5ECF6",
                      "radialaxis": {
                        "gridcolor": "white",
                        "linecolor": "white",
                        "ticks": ""
                      }
                    },
                    "scene": {
                      "xaxis": {
                        "backgroundcolor": "#E5ECF6",
                        "gridcolor": "white",
                        "gridwidth": 2,
                        "linecolor": "white",
                        "showbackground": true,
                        "ticks": "",
                        "zerolinecolor": "white"
                      },
                      "yaxis": {
                        "backgroundcolor": "#E5ECF6",
                        "gridcolor": "white",
                        "gridwidth": 2,
                        "linecolor": "white",
                        "showbackground": true,
                        "ticks": "",
                        "zerolinecolor": "white"
                      },
                      "zaxis": {
                        "backgroundcolor": "#E5ECF6",
                        "gridcolor": "white",
                        "gridwidth": 2,
                        "linecolor": "white",
                        "showbackground": true,
                        "ticks": "",
                        "zerolinecolor": "white"
                      }
                    },
                    "shapedefaults": {
                      "line": {
                        "color": "#2a3f5f"
                      }
                    },
                    "ternary": {
                      "aaxis": {
                        "gridcolor": "white",
                        "linecolor": "white",
                        "ticks": ""
                      },
                      "baxis": {
                        "gridcolor": "white",
                        "linecolor": "white",
                        "ticks": ""
                      },
                      "bgcolor": "#E5ECF6",
                      "caxis": {
                        "gridcolor": "white",
                        "linecolor": "white",
                        "ticks": ""
                      }
                    },
                    "title": {
                      "x": 0.05
                    },
                    "xaxis": {
                      "automargin": true,
                      "gridcolor": "white",
                      "linecolor": "white",
                      "ticks": "",
                      "title": {
                        "standoff": 15
                      },
                      "zerolinecolor": "white",
                      "zerolinewidth": 2
                    },
                    "yaxis": {
                      "automargin": true,
                      "gridcolor": "white",
                      "linecolor": "white",
                      "ticks": "",
                      "title": {
                        "standoff": 15
                      },
                      "zerolinecolor": "white",
                      "zerolinewidth": 2
                    }
                  }
                },
                "title": {
                  "text": "Features importance for target : SURF_TER_HA with Lasso Linear Regression"
                },
                "xaxis": {
                  "anchor": "y",
                  "domain": [
                    0,
                    1
                  ],
                  "title": {
                    "text": "index"
                  }
                },
                "yaxis": {
                  "anchor": "x",
                  "domain": [
                    0,
                    1
                  ],
                  "title": {
                    "text": "value"
                  }
                }
              }
            }
          },
          "metadata": {},
          "output_type": "display_data"
        }
      ],
      "source": [
        "fig = px.bar(df_coef['Coeff'], title=f\"Features importance for target : {TARGET} with Lasso Linear Regression\")\n",
        "fig.show()"
      ]
    },
    {
      "cell_type": "code",
      "execution_count": null,
      "metadata": {},
      "outputs": [],
      "source": []
    }
  ],
  "metadata": {
    "colab": {
      "provenance": []
    },
    "kernelspec": {
      "display_name": "Python 3.9.15 ('tf')",
      "language": "python",
      "name": "python3"
    },
    "language_info": {
      "codemirror_mode": {
        "name": "ipython",
        "version": 3
      },
      "file_extension": ".py",
      "mimetype": "text/x-python",
      "name": "python",
      "nbconvert_exporter": "python",
      "pygments_lexer": "ipython3",
      "version": "3.9.15 (main, Nov  4 2022, 16:35:55) [MSC v.1916 64 bit (AMD64)]"
    },
    "vscode": {
      "interpreter": {
        "hash": "5189243fad43be7f8e8d3cb4543ab2ad97db75cb5cafeb529b891f799005b4bf"
      }
    }
  },
  "nbformat": 4,
  "nbformat_minor": 0
}
