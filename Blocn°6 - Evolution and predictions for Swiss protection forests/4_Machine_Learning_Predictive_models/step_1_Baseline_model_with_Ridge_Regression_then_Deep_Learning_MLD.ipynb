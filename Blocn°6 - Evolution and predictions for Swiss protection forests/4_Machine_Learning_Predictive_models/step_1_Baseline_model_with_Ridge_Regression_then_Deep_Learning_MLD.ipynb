{
  "cells": [
    {
      "attachments": {},
      "cell_type": "markdown",
      "metadata": {},
      "source": [
        "### EXAMPLE OF BASELINE MODELS IN \"PREDICTIVE\" MODE"
      ]
    },
    {
      "attachments": {},
      "cell_type": "markdown",
      "metadata": {},
      "source": [
        "\"Predictive\" mode means we try to predict forest state at time t, with informations from historical field surveys (IFN data at time t-1, t-2, etc...) and, optionnaly, from satellite or meteo data at time t (present time) (as it is described in this [diagram](schematic_diagram_of_predictive_models.png))"
      ]
    },
    {
      "attachments": {},
      "cell_type": "markdown",
      "metadata": {},
      "source": [
        "It's as if we don't have access to NFI data (because, perhaps, the last census campaign was done five or six years ago, for example...) and we are trying to predict the state of the forest just with the information available."
      ]
    },
    {
      "attachments": {},
      "cell_type": "markdown",
      "metadata": {},
      "source": [
        "This could be a \"time series\" problem, but with the difficulty that we only have three historical data points (when we try to predict LFI4 with LFI1, LFI2 and LFI3).\n",
        "Classical model for \"time series\" like Prophet from FB would have a hard time working in this case, because it could be difficult to just observe a target and its periodicity with theses three points."
      ]
    },
    {
      "attachments": {},
      "cell_type": "markdown",
      "metadata": {},
      "source": [
        "#### Specific approach for our Baseline Model :"
      ]
    },
    {
      "attachments": {},
      "cell_type": "markdown",
      "metadata": {},
      "source": [
        "One of first possible approaches is to neutralize the \"time series'\" problematic, and deal with just the problematic to predict t just with t-1 informations... target at time t will be our target for all the features at t-1. It becomes a classical Machine Learning modelization."
      ]
    },
    {
      "cell_type": "code",
      "execution_count": 2,
      "metadata": {
        "id": "F-xnvpnQb1eP"
      },
      "outputs": [],
      "source": [
        "import pandas as pd\n",
        "import numpy as np\n",
        "import plotly.express as px\n",
        "\n",
        "from sklearn.preprocessing import OneHotEncoder, StandardScaler, LabelEncoder\n",
        "from sklearn.impute import KNNImputer, SimpleImputer\n",
        "from sklearn.pipeline import Pipeline\n",
        "from sklearn.linear_model import Ridge, RidgeClassifier\n",
        "from sklearn.model_selection import train_test_split\n",
        "from sklearn.compose import ColumnTransformer\n",
        "from sklearn.model_selection import cross_val_score, GridSearchCV\n",
        "from sklearn.metrics import r2_score\n",
        "\n",
        "import tensorflow as tf\n",
        "import tensorflow_addons as tfa"
      ]
    },
    {
      "attachments": {},
      "cell_type": "markdown",
      "metadata": {},
      "source": [
        "Import data :"
      ]
    },
    {
      "cell_type": "code",
      "execution_count": 3,
      "metadata": {
        "id": "9P-_u-rOcDyp"
      },
      "outputs": [],
      "source": [
        "data_base = pd.read_excel('../1_DATA_global_processing/data_processed_and_merged/big_merge_V2_meteo_SAT.xlsx').drop('Unnamed: 0', axis=1)"
      ]
    },
    {
      "attachments": {},
      "cell_type": "markdown",
      "metadata": {},
      "source": [
        "-------------------"
      ]
    },
    {
      "attachments": {},
      "cell_type": "markdown",
      "metadata": {},
      "source": [
        "SPECIAL TEMPORAL PREPROCESSING :"
      ]
    },
    {
      "attachments": {},
      "cell_type": "markdown",
      "metadata": {},
      "source": [
        "Now, we use all the first type of \"temporal\" preprocessing built for our situation... This code is a extract from the notebook [preprocessing_temporal_correlations.ipynb](preprocessing_temporal_correlations.ipynb) in the parent folder \"common_preprocessing_notebookks\", a notebook built and shared for all my collaborators."
      ]
    },
    {
      "attachments": {},
      "cell_type": "markdown",
      "metadata": {},
      "source": [
        "Feature engineering :"
      ]
    },
    {
      "cell_type": "code",
      "execution_count": 4,
      "metadata": {},
      "outputs": [],
      "source": [
        "# adding aridity index\n",
        "data_base[\"AI\"] = data_base['PRCP_GROWTH'] / data_base['TAVE_GROWTH']\n",
        "# adding H/D index\n",
        "data_base[\"H_D\"] = data_base['HAUTEUR_ARBRE'] / data_base['DBH']"
      ]
    },
    {
      "cell_type": "markdown",
      "metadata": {},
      "source": [
        "Target :"
      ]
    },
    {
      "cell_type": "code",
      "execution_count": 5,
      "metadata": {
        "id": "ONWylCfRdilS"
      },
      "outputs": [],
      "source": [
        "TARGET = ['SURF_TER_HA']"
      ]
    },
    {
      "cell_type": "markdown",
      "metadata": {},
      "source": [
        "Features :"
      ]
    },
    {
      "attachments": {},
      "cell_type": "markdown",
      "metadata": {},
      "source": [
        "Here we can select features for the past and the future.\n",
        "The knowledge of the future is only satellite and meteorological data."
      ]
    },
    {
      "cell_type": "code",
      "execution_count": 6,
      "metadata": {},
      "outputs": [],
      "source": [
        "# --- PAST --- \n",
        "# Logically, we could include the target, because it's a known feature in the past time...\n",
        "cat_strict = ['PRODREG', 'ESPECE_DOM', 'TYP_RAJ_PPL', 'DEG_FERMETURE', 'STR_PPL', 'RELIEF'] #exemple 'PRODREG', 'ESPECE_DOM', 'TYP_RAJ_PPL', 'DEG_FERMETURE', 'STR_PPL', 'RELIEF'\n",
        "cat_ord_miss = ['HT_VEG'] #exemple 'TAILLE_PPL', 'MELANGE', 'QUAL_STATION', 'TAUX_COUV_RAJ', 'SURF_TROU_AER', 'HT_VEG'\n",
        "numerics = ['UNIT_ACCR','H_D','AI','SDI', 'AGE_PPL','ALT', 'TIGES_VIV_H', 'SURF_TER_HA', 'FEUILL_PER', 'CONIF_PER','PERF_CROI', 'NDVI', 'EVI', 'NDMI', 'NDWI', 'DSWI'] #exemple\n",
        "\n",
        "# --- FUTURE KNOWN ---\n",
        "add_cat_IFN_stable = [] # technos-substituts : 'DEG_FERMETURE', 'STR_PPL', 'ESPECE_DOM', 'DEG_FERMETURE'\n",
        "add_cat_ord_IFN_stable = [] # technos-substituts : 'DEG_FERMETURE', 'STR_PPL', 'SURF_TROU_AER' 'SURF_TROU_AER'\n",
        "add_IFN_numerics_stable = [] # technos-substituts : , 'SDI'\n",
        "# données potentiellement connues car stables par parcelles :\n",
        "#['LAT', 'LON', 'ALT', 'PRODREG', 'HT_VEG', 'SLOPE25', 'ASPECT25', 'ORIENTATION', 'PERF_CROI', 'QUAL_STATION', 'UNIT_VEG_FINE',\n",
        "# 'UNIT_VEG_GROS', 'PROCESS_SILVA', 'PERI_CHENAUX', 'PERI_COULEES','PERI_AVALANCH', 'PERI_CHUTES', 'ETAGE', 'ENDOMMAGEMENT','NB_DEGAT_ARBRE']\n",
        "# + données extrapolées grâce à des technologies prometteuses (satellites ?)....\n",
        "\n",
        "add_meteo_known = ['PRCP', 'TAVE_AVG',\t'TAVE', 'TAVE_GROWTH', 'PRCP_S_S',\t'PRCP_G_S']\n",
        "\n",
        "add_SAT_known = ['NDVI', 'EVI', 'NDMI', 'NDWI', 'DSWI']"
      ]
    },
    {
      "attachments": {},
      "cell_type": "markdown",
      "metadata": {},
      "source": [
        "We make two list for the past features and tne future features (it's very hard to say \"future feature\"... try it !) :"
      ]
    },
    {
      "cell_type": "code",
      "execution_count": 7,
      "metadata": {},
      "outputs": [],
      "source": [
        "features_past = numerics + cat_strict + cat_ord_miss\n",
        "features_future = add_cat_IFN_stable + add_cat_ord_IFN_stable + add_IFN_numerics_stable + add_meteo_known + add_SAT_known"
      ]
    },
    {
      "attachments": {},
      "cell_type": "markdown",
      "metadata": {},
      "source": [
        "We need to split the dataframe in differents LFI parts :"
      ]
    },
    {
      "cell_type": "code",
      "execution_count": 8,
      "metadata": {
        "id": "OkL-2XrZdDvZ"
      },
      "outputs": [],
      "source": [
        "data_LFI1 = data_base.loc[data_base['LFI']=='LFI1',:].sort_values('PARCELLE')\n",
        "data_LFI2 = data_base.loc[data_base['LFI']=='LFI2',:].sort_values('PARCELLE')\n",
        "data_LFI3 = data_base.loc[data_base['LFI']=='LFI3',:].sort_values('PARCELLE')\n",
        "data_LFI4 = data_base.loc[data_base['LFI']=='LFI4',:].sort_values('PARCELLE')"
      ]
    },
    {
      "attachments": {},
      "cell_type": "markdown",
      "metadata": {},
      "source": [
        "And now we, in each of three first temporal dataframe (LFI1, LFI2, LFI3) we add the future informations (target and know data of LFI t+1 ...)"
      ]
    },
    {
      "attachments": {},
      "cell_type": "markdown",
      "metadata": {},
      "source": [
        "We use, in parallel, a list system to store all feature names in a global category 'future_feat_names' and also three subcategories ('add_cat_strict_feat_names', 'add...', etc) that will be used for feature extraction later."
      ]
    },
    {
      "cell_type": "code",
      "execution_count": 9,
      "metadata": {},
      "outputs": [],
      "source": [
        "future_feat_names = []\n",
        "add_cat_strict_feat_names = []\n",
        "add_cat_ord_feat_names = []\n",
        "add_numerics_feat_names = []\n",
        "\n",
        "for cat in features_future:\n",
        "    lfi2_list = data_LFI2[cat].to_list()\n",
        "    lfi3_list = data_LFI3[cat].to_list()\n",
        "    lfi4_list = data_LFI4[cat].to_list()\n",
        "    data_LFI1[cat + \"_f\"] = lfi2_list\n",
        "    data_LFI2[cat + \"_f\"] = lfi3_list\n",
        "    data_LFI3[cat + \"_f\"] = lfi4_list\n",
        "    future_feat_names.append(cat + '_f')\n",
        "    if cat in add_cat_ord_IFN_stable:\n",
        "        add_cat_ord_feat_names.append(cat + '_f')\n",
        "    elif cat in add_cat_IFN_stable:\n",
        "        add_cat_strict_feat_names.append(cat + '_f')\n",
        "    else:\n",
        "        add_numerics_feat_names.append(cat + '_f')\n"
      ]
    },
    {
      "attachments": {},
      "cell_type": "markdown",
      "metadata": {},
      "source": [
        "Now, we can concatenate all the different parts of LFI1, LFI2, LFI3 to re-build a unique dataframe.\n",
        "And also a target with the same concatenation."
      ]
    },
    {
      "cell_type": "code",
      "execution_count": 10,
      "metadata": {},
      "outputs": [],
      "source": [
        "data_red = pd.concat([data_LFI1, data_LFI2, data_LFI3], axis=0)[features_past + future_feat_names]\n",
        "Y = pd.concat([data_LFI2[TARGET], data_LFI3[TARGET], data_LFI4[TARGET]], axis = 0)"
      ]
    },
    {
      "cell_type": "code",
      "execution_count": 11,
      "metadata": {},
      "outputs": [
        {
          "data": {
            "text/html": [
              "<div>\n",
              "<style scoped>\n",
              "    .dataframe tbody tr th:only-of-type {\n",
              "        vertical-align: middle;\n",
              "    }\n",
              "\n",
              "    .dataframe tbody tr th {\n",
              "        vertical-align: top;\n",
              "    }\n",
              "\n",
              "    .dataframe thead th {\n",
              "        text-align: right;\n",
              "    }\n",
              "</style>\n",
              "<table border=\"1\" class=\"dataframe\">\n",
              "  <thead>\n",
              "    <tr style=\"text-align: right;\">\n",
              "      <th></th>\n",
              "      <th>UNIT_ACCR</th>\n",
              "      <th>H_D</th>\n",
              "      <th>AI</th>\n",
              "      <th>SDI</th>\n",
              "      <th>AGE_PPL</th>\n",
              "      <th>ALT</th>\n",
              "      <th>TIGES_VIV_H</th>\n",
              "      <th>SURF_TER_HA</th>\n",
              "      <th>FEUILL_PER</th>\n",
              "      <th>CONIF_PER</th>\n",
              "      <th>...</th>\n",
              "      <th>TAVE_AVG_f</th>\n",
              "      <th>TAVE_f</th>\n",
              "      <th>TAVE_GROWTH_f</th>\n",
              "      <th>PRCP_S_S_f</th>\n",
              "      <th>PRCP_G_S_f</th>\n",
              "      <th>NDVI_f</th>\n",
              "      <th>EVI_f</th>\n",
              "      <th>NDMI_f</th>\n",
              "      <th>NDWI_f</th>\n",
              "      <th>DSWI_f</th>\n",
              "    </tr>\n",
              "  </thead>\n",
              "  <tbody>\n",
              "    <tr>\n",
              "      <th>0</th>\n",
              "      <td>NaN</td>\n",
              "      <td>0.695652</td>\n",
              "      <td>NaN</td>\n",
              "      <td>571</td>\n",
              "      <td>85.0</td>\n",
              "      <td>715.918970</td>\n",
              "      <td>590.0</td>\n",
              "      <td>27.79</td>\n",
              "      <td>NaN</td>\n",
              "      <td>NaN</td>\n",
              "      <td>...</td>\n",
              "      <td>8.8859</td>\n",
              "      <td>9.026806</td>\n",
              "      <td>13.84776</td>\n",
              "      <td>117.278617</td>\n",
              "      <td>51.835496</td>\n",
              "      <td>0.4992</td>\n",
              "      <td>0.0160</td>\n",
              "      <td>0.2705</td>\n",
              "      <td>-0.4653</td>\n",
              "      <td>0.6865</td>\n",
              "    </tr>\n",
              "    <tr>\n",
              "      <th>5</th>\n",
              "      <td>NaN</td>\n",
              "      <td>0.647727</td>\n",
              "      <td>NaN</td>\n",
              "      <td>890</td>\n",
              "      <td>140.0</td>\n",
              "      <td>563.829759</td>\n",
              "      <td>400.0</td>\n",
              "      <td>53.38</td>\n",
              "      <td>NaN</td>\n",
              "      <td>NaN</td>\n",
              "      <td>...</td>\n",
              "      <td>8.9951</td>\n",
              "      <td>19.793490</td>\n",
              "      <td>13.83959</td>\n",
              "      <td>122.675652</td>\n",
              "      <td>55.827235</td>\n",
              "      <td>0.5552</td>\n",
              "      <td>0.0149</td>\n",
              "      <td>0.2017</td>\n",
              "      <td>-0.4864</td>\n",
              "      <td>0.6996</td>\n",
              "    </tr>\n",
              "    <tr>\n",
              "      <th>9</th>\n",
              "      <td>NaN</td>\n",
              "      <td>0.666667</td>\n",
              "      <td>NaN</td>\n",
              "      <td>489</td>\n",
              "      <td>80.0</td>\n",
              "      <td>564.885846</td>\n",
              "      <td>320.0</td>\n",
              "      <td>26.70</td>\n",
              "      <td>NaN</td>\n",
              "      <td>NaN</td>\n",
              "      <td>...</td>\n",
              "      <td>9.0637</td>\n",
              "      <td>11.671380</td>\n",
              "      <td>13.39843</td>\n",
              "      <td>128.067334</td>\n",
              "      <td>61.309991</td>\n",
              "      <td>0.5633</td>\n",
              "      <td>0.0153</td>\n",
              "      <td>0.1727</td>\n",
              "      <td>-0.5002</td>\n",
              "      <td>0.6852</td>\n",
              "    </tr>\n",
              "    <tr>\n",
              "      <th>14</th>\n",
              "      <td>NaN</td>\n",
              "      <td>NaN</td>\n",
              "      <td>NaN</td>\n",
              "      <td>0</td>\n",
              "      <td>2.0</td>\n",
              "      <td>563.551602</td>\n",
              "      <td>0.0</td>\n",
              "      <td>0.00</td>\n",
              "      <td>NaN</td>\n",
              "      <td>NaN</td>\n",
              "      <td>...</td>\n",
              "      <td>8.8805</td>\n",
              "      <td>10.459870</td>\n",
              "      <td>13.15530</td>\n",
              "      <td>130.759873</td>\n",
              "      <td>63.219754</td>\n",
              "      <td>0.6059</td>\n",
              "      <td>0.0197</td>\n",
              "      <td>0.2269</td>\n",
              "      <td>-0.5588</td>\n",
              "      <td>0.8384</td>\n",
              "    </tr>\n",
              "    <tr>\n",
              "      <th>19</th>\n",
              "      <td>NaN</td>\n",
              "      <td>0.676471</td>\n",
              "      <td>NaN</td>\n",
              "      <td>377</td>\n",
              "      <td>130.0</td>\n",
              "      <td>539.769096</td>\n",
              "      <td>150.0</td>\n",
              "      <td>23.32</td>\n",
              "      <td>NaN</td>\n",
              "      <td>NaN</td>\n",
              "      <td>...</td>\n",
              "      <td>8.8384</td>\n",
              "      <td>11.544840</td>\n",
              "      <td>13.16893</td>\n",
              "      <td>131.143585</td>\n",
              "      <td>62.702111</td>\n",
              "      <td>0.6012</td>\n",
              "      <td>0.0184</td>\n",
              "      <td>0.2029</td>\n",
              "      <td>-0.5486</td>\n",
              "      <td>0.7902</td>\n",
              "    </tr>\n",
              "  </tbody>\n",
              "</table>\n",
              "<p>5 rows × 34 columns</p>\n",
              "</div>"
            ],
            "text/plain": [
              "    UNIT_ACCR       H_D  AI  SDI  AGE_PPL         ALT  TIGES_VIV_H  \\\n",
              "0         NaN  0.695652 NaN  571     85.0  715.918970        590.0   \n",
              "5         NaN  0.647727 NaN  890    140.0  563.829759        400.0   \n",
              "9         NaN  0.666667 NaN  489     80.0  564.885846        320.0   \n",
              "14        NaN       NaN NaN    0      2.0  563.551602          0.0   \n",
              "19        NaN  0.676471 NaN  377    130.0  539.769096        150.0   \n",
              "\n",
              "    SURF_TER_HA  FEUILL_PER  CONIF_PER  ...  TAVE_AVG_f     TAVE_f  \\\n",
              "0         27.79         NaN        NaN  ...      8.8859   9.026806   \n",
              "5         53.38         NaN        NaN  ...      8.9951  19.793490   \n",
              "9         26.70         NaN        NaN  ...      9.0637  11.671380   \n",
              "14         0.00         NaN        NaN  ...      8.8805  10.459870   \n",
              "19        23.32         NaN        NaN  ...      8.8384  11.544840   \n",
              "\n",
              "    TAVE_GROWTH_f  PRCP_S_S_f  PRCP_G_S_f  NDVI_f   EVI_f  NDMI_f  NDWI_f  \\\n",
              "0        13.84776  117.278617   51.835496  0.4992  0.0160  0.2705 -0.4653   \n",
              "5        13.83959  122.675652   55.827235  0.5552  0.0149  0.2017 -0.4864   \n",
              "9        13.39843  128.067334   61.309991  0.5633  0.0153  0.1727 -0.5002   \n",
              "14       13.15530  130.759873   63.219754  0.6059  0.0197  0.2269 -0.5588   \n",
              "19       13.16893  131.143585   62.702111  0.6012  0.0184  0.2029 -0.5486   \n",
              "\n",
              "    DSWI_f  \n",
              "0   0.6865  \n",
              "5   0.6996  \n",
              "9   0.6852  \n",
              "14  0.8384  \n",
              "19  0.7902  \n",
              "\n",
              "[5 rows x 34 columns]"
            ]
          },
          "execution_count": 11,
          "metadata": {},
          "output_type": "execute_result"
        }
      ],
      "source": [
        "data_red.head()"
      ]
    },
    {
      "attachments": {},
      "cell_type": "markdown",
      "metadata": {},
      "source": [
        "We also need to transform our target in a simple list :"
      ]
    },
    {
      "cell_type": "code",
      "execution_count": 12,
      "metadata": {},
      "outputs": [],
      "source": [
        "Y = Y.to_numpy().ravel()"
      ]
    },
    {
      "attachments": {},
      "cell_type": "markdown",
      "metadata": {},
      "source": [
        "------------------"
      ]
    },
    {
      "attachments": {},
      "cell_type": "markdown",
      "metadata": {},
      "source": [
        "USUAL PREPROCESSING :"
      ]
    },
    {
      "attachments": {},
      "cell_type": "markdown",
      "metadata": {},
      "source": [
        "This part is similar to the preprocessing of the \"descriptive\" mode."
      ]
    },
    {
      "attachments": {},
      "cell_type": "markdown",
      "metadata": {},
      "source": [
        "Preprocessing for other ordered categorical feature (\"-1\" class management like it is done in the \"descriptive\" mode):"
      ]
    },
    {
      "cell_type": "code",
      "execution_count": 13,
      "metadata": {},
      "outputs": [],
      "source": [
        "feats_cat_ord = cat_ord_miss + add_cat_ord_feat_names\n",
        "for cat in feats_cat_ord:\n",
        "  data_red[cat] = data_red[cat].apply(lambda v : v if v!=-1 else np.nan)"
      ]
    },
    {
      "attachments": {},
      "cell_type": "markdown",
      "metadata": {},
      "source": [
        "Splitting :"
      ]
    },
    {
      "cell_type": "code",
      "execution_count": 14,
      "metadata": {},
      "outputs": [],
      "source": [
        "X_train, X_test, y_train, y_test = train_test_split(data_red, Y, test_size=0.2, random_state=2)"
      ]
    },
    {
      "attachments": {},
      "cell_type": "markdown",
      "metadata": {},
      "source": [
        "PREPROCESSING PIPELINE :"
      ]
    },
    {
      "cell_type": "code",
      "execution_count": 15,
      "metadata": {},
      "outputs": [],
      "source": [
        "numerics_features = numerics + feats_cat_ord + add_numerics_feat_names\n",
        "feats_cat_strict = cat_strict + add_cat_strict_feat_names"
      ]
    },
    {
      "cell_type": "code",
      "execution_count": 16,
      "metadata": {},
      "outputs": [],
      "source": [
        "numerics_transforms = Pipeline(\n",
        "    [('imputer',KNNImputer()),\n",
        "    ('encoder',StandardScaler())\n",
        "])\n",
        "categorials_transforms = Pipeline([\n",
        "    ('imputer',SimpleImputer(strategy='most_frequent')),\n",
        "    ('encoder',OneHotEncoder(drop=\"first\"))\n",
        "])\n",
        "\n",
        "preprocessor = ColumnTransformer(\n",
        "    [(\"num\", numerics_transforms, numerics_features),\n",
        "     (\"cat\", categorials_transforms, feats_cat_strict)])"
      ]
    },
    {
      "cell_type": "code",
      "execution_count": 17,
      "metadata": {},
      "outputs": [
        {
          "name": "stderr",
          "output_type": "stream",
          "text": [
            "c:\\Users\\PC\\anaconda3\\lib\\site-packages\\sklearn\\impute\\_base.py:49: FutureWarning: Unlike other reduction functions (e.g. `skew`, `kurtosis`), the default behavior of `mode` typically preserves the axis it acts along. In SciPy 1.11.0, this behavior will change: the default value of `keepdims` will become False, the `axis` over which the statistic is taken will be eliminated, and the value None will no longer be accepted. Set `keepdims` to True or False to avoid this warning.\n",
            "  mode = stats.mode(array)\n"
          ]
        }
      ],
      "source": [
        "X_train = preprocessor.fit_transform(X_train)\n",
        "X_test = preprocessor.transform(X_test)"
      ]
    },
    {
      "cell_type": "code",
      "execution_count": 23,
      "metadata": {},
      "outputs": [
        {
          "data": {
            "text/plain": [
              "(5767, 67)"
            ]
          },
          "execution_count": 23,
          "metadata": {},
          "output_type": "execute_result"
        }
      ],
      "source": [
        "np.shape(X_train)"
      ]
    },
    {
      "cell_type": "code",
      "execution_count": 24,
      "metadata": {},
      "outputs": [
        {
          "data": {
            "text/plain": [
              "(1442, 67)"
            ]
          },
          "execution_count": 24,
          "metadata": {},
          "output_type": "execute_result"
        }
      ],
      "source": [
        "np.shape(X_test)"
      ]
    },
    {
      "attachments": {},
      "cell_type": "markdown",
      "metadata": {},
      "source": [
        "-------------------------"
      ]
    },
    {
      "attachments": {},
      "cell_type": "markdown",
      "metadata": {},
      "source": [
        "BASELINE MODEL 1 : Ridge Regression"
      ]
    },
    {
      "attachments": {},
      "cell_type": "markdown",
      "metadata": {},
      "source": [
        "Model Definition and GrideSearch definition :"
      ]
    },
    {
      "cell_type": "code",
      "execution_count": 18,
      "metadata": {},
      "outputs": [],
      "source": [
        "model =  Ridge(max_iter=10000)"
      ]
    },
    {
      "cell_type": "code",
      "execution_count": 19,
      "metadata": {},
      "outputs": [],
      "source": [
        "params = {\n",
        "    'alpha':[45, 46, 47]\n",
        "}"
      ]
    },
    {
      "attachments": {},
      "cell_type": "markdown",
      "metadata": {},
      "source": [
        "Here, we have selected the final hyperparameters, after a back and forth in the parameters and the training result..."
      ]
    },
    {
      "cell_type": "code",
      "execution_count": 20,
      "metadata": {},
      "outputs": [],
      "source": [
        "grid = GridSearchCV(model, param_grid=params, scoring='r2', verbose=2)"
      ]
    },
    {
      "attachments": {},
      "cell_type": "markdown",
      "metadata": {},
      "source": [
        "Training :"
      ]
    },
    {
      "cell_type": "code",
      "execution_count": 21,
      "metadata": {},
      "outputs": [
        {
          "name": "stdout",
          "output_type": "stream",
          "text": [
            "Fitting 5 folds for each of 3 candidates, totalling 15 fits\n",
            "[CV] END ...........................................alpha=45; total time=   0.0s\n",
            "[CV] END ...........................................alpha=45; total time=   0.0s\n",
            "[CV] END ...........................................alpha=45; total time=   0.0s\n",
            "[CV] END ...........................................alpha=45; total time=   0.0s\n",
            "[CV] END ...........................................alpha=45; total time=   0.0s\n",
            "[CV] END ...........................................alpha=46; total time=   0.0s\n",
            "[CV] END ...........................................alpha=46; total time=   0.0s\n",
            "[CV] END ...........................................alpha=46; total time=   0.0s\n",
            "[CV] END ...........................................alpha=46; total time=   0.0s\n",
            "[CV] END ...........................................alpha=46; total time=   0.0s\n",
            "[CV] END ...........................................alpha=47; total time=   0.0s\n",
            "[CV] END ...........................................alpha=47; total time=   0.0s\n",
            "[CV] END ...........................................alpha=47; total time=   0.0s\n",
            "[CV] END ...........................................alpha=47; total time=   0.0s\n",
            "[CV] END ...........................................alpha=47; total time=   0.0s\n"
          ]
        },
        {
          "data": {
            "text/plain": [
              "GridSearchCV(estimator=Ridge(max_iter=10000),\n",
              "             param_grid={'alpha': [45, 46, 47]}, scoring='r2', verbose=2)"
            ]
          },
          "execution_count": 21,
          "metadata": {},
          "output_type": "execute_result"
        }
      ],
      "source": [
        "grid.fit(X_train, y_train)"
      ]
    },
    {
      "cell_type": "code",
      "execution_count": 22,
      "metadata": {},
      "outputs": [
        {
          "data": {
            "text/plain": [
              "Ridge(alpha=46, max_iter=10000)"
            ]
          },
          "execution_count": 22,
          "metadata": {},
          "output_type": "execute_result"
        }
      ],
      "source": [
        "grid.best_estimator_"
      ]
    },
    {
      "attachments": {},
      "cell_type": "markdown",
      "metadata": {},
      "source": [
        "Scores :"
      ]
    },
    {
      "cell_type": "code",
      "execution_count": 23,
      "metadata": {},
      "outputs": [
        {
          "name": "stdout",
          "output_type": "stream",
          "text": [
            "Train score mean : 0.6582697534344525\n",
            "Train score std : 0.037993051662840546\n",
            "Test score mean : 0.69053424369463\n",
            "Test score std : 0.03651874264200527\n"
          ]
        }
      ],
      "source": [
        "train_scores = cross_val_score(grid.best_estimator_, X_train, y_train, cv=5)\n",
        "test_scores = cross_val_score(grid.best_estimator_, X_test, y_test, cv=5)\n",
        "print(f'Train score mean : {np.mean(train_scores)}')\n",
        "print(f'Train score std : {np.std(train_scores)}')\n",
        "print(f'Test score mean : {np.mean(test_scores)}')\n",
        "print(f'Test score std : {np.std(test_scores)}')"
      ]
    },
    {
      "attachments": {},
      "cell_type": "markdown",
      "metadata": {},
      "source": [
        "Ok, it's a not very good prediction..."
      ]
    },
    {
      "attachments": {},
      "cell_type": "markdown",
      "metadata": {},
      "source": [
        "For information, a collaborator (Arnaud) had fun creating simple models that predicted for the target, either all the time the \"average\" trend of the historical target at t-1, or either a constant stable system (target at t = target at t-1)... R2 scores were respectively 0,68 and 0,63... All theses scores are present in our official dashboard.\n",
        "\n",
        "\n",
        "So, it's not very interesting to use a model in Machine Learning with a big computing time (and energy consumption !) to do the same thing we could do with just a pen and a paper."
      ]
    },
    {
      "attachments": {},
      "cell_type": "markdown",
      "metadata": {},
      "source": [
        "Let's see the feature extraction :"
      ]
    },
    {
      "cell_type": "code",
      "execution_count": 24,
      "metadata": {},
      "outputs": [],
      "source": [
        "list_features_in = []\n",
        "for feat in numerics_features:\n",
        "  list_features_in.append(feat)\n",
        "for cat in feats_cat_strict:\n",
        "  nb_lab = len(data_red[cat].unique())-1\n",
        "  for i in range(nb_lab):\n",
        "    list_features_in.append(f'{cat}_{i}')"
      ]
    },
    {
      "cell_type": "code",
      "execution_count": 25,
      "metadata": {},
      "outputs": [],
      "source": [
        "df_coef = pd.DataFrame(grid.best_estimator_.coef_, columns=['Coeff'], index= list_features_in)"
      ]
    },
    {
      "cell_type": "code",
      "execution_count": 26,
      "metadata": {},
      "outputs": [
        {
          "data": {
            "application/vnd.plotly.v1+json": {
              "config": {
                "plotlyServerURL": "https://plot.ly"
              },
              "data": [
                {
                  "alignmentgroup": "True",
                  "hovertemplate": "variable=Coeff<br>index=%{x}<br>value=%{y}<extra></extra>",
                  "legendgroup": "Coeff",
                  "marker": {
                    "color": "#636efa",
                    "pattern": {
                      "shape": ""
                    }
                  },
                  "name": "Coeff",
                  "offsetgroup": "Coeff",
                  "orientation": "v",
                  "showlegend": true,
                  "textposition": "auto",
                  "type": "bar",
                  "x": [
                    "UNIT_ACCR",
                    "H_D",
                    "AI",
                    "SDI",
                    "AGE_PPL",
                    "ALT",
                    "TIGES_VIV_H",
                    "SURF_TER_HA",
                    "FEUILL_PER",
                    "CONIF_PER",
                    "PERF_CROI",
                    "NDVI",
                    "EVI",
                    "NDMI",
                    "NDWI",
                    "DSWI",
                    "HT_VEG",
                    "PRCP_f",
                    "TAVE_AVG_f",
                    "TAVE_f",
                    "TAVE_GROWTH_f",
                    "PRCP_S_S_f",
                    "PRCP_G_S_f",
                    "NDVI_f",
                    "EVI_f",
                    "NDMI_f",
                    "NDWI_f",
                    "DSWI_f",
                    "PRODREG_0",
                    "PRODREG_1",
                    "PRODREG_2",
                    "PRODREG_3",
                    "ESPECE_DOM_0",
                    "ESPECE_DOM_1",
                    "ESPECE_DOM_2",
                    "ESPECE_DOM_3",
                    "ESPECE_DOM_4",
                    "ESPECE_DOM_5",
                    "ESPECE_DOM_6",
                    "ESPECE_DOM_7",
                    "ESPECE_DOM_8",
                    "ESPECE_DOM_9",
                    "ESPECE_DOM_10",
                    "ESPECE_DOM_11",
                    "TYP_RAJ_PPL_0",
                    "TYP_RAJ_PPL_1",
                    "TYP_RAJ_PPL_2",
                    "DEG_FERMETURE_0",
                    "DEG_FERMETURE_1",
                    "DEG_FERMETURE_2",
                    "DEG_FERMETURE_3",
                    "DEG_FERMETURE_4",
                    "DEG_FERMETURE_5",
                    "DEG_FERMETURE_6",
                    "DEG_FERMETURE_7",
                    "DEG_FERMETURE_8",
                    "DEG_FERMETURE_9",
                    "DEG_FERMETURE_10",
                    "STR_PPL_0",
                    "STR_PPL_1",
                    "STR_PPL_2",
                    "STR_PPL_3",
                    "RELIEF_0",
                    "RELIEF_1",
                    "RELIEF_2",
                    "RELIEF_3",
                    "RELIEF_4"
                  ],
                  "xaxis": "x",
                  "y": [
                    0.177517904885864,
                    -0.5905885345324131,
                    -0.8434304909884641,
                    2.404278208554583,
                    0.12167252232792616,
                    1.4456574527108847,
                    1.3106993122828412,
                    12.785719717541916,
                    0.9530725199670486,
                    0.9804624047194245,
                    0.26128848202275534,
                    -2.112436127759272,
                    0.8780025366227713,
                    0.3655027015408253,
                    0.709890653065951,
                    2.5763470361725194,
                    0.13925316246173716,
                    -0.2606428206817418,
                    -0.29656407245755667,
                    -0.008234854442027753,
                    -0.6986756254152157,
                    -0.8084299900445521,
                    0.4898580622539967,
                    -0.46671010379406785,
                    -0.5821147414589054,
                    0.8511141029535928,
                    1.3590096209316278,
                    2.4017835754233734,
                    -0.6528033252449335,
                    0.1526920997376106,
                    -0.35718634394711624,
                    0.49587171379619,
                    0.14326895429502887,
                    1.3654354810465694,
                    0.023526606992350377,
                    0.7910099621676497,
                    -0.05795348406518593,
                    -0.11363043174328219,
                    0.7873567857566973,
                    0.21834913678782408,
                    1.1219506349060981,
                    0.0024547738004032935,
                    1.7464830151347508,
                    -0.9600462496217547,
                    0.845678567687325,
                    0.9010648030253334,
                    1.29835572747132,
                    -0.41594420319769565,
                    0.36625866456006423,
                    0.1957666904300191,
                    0.6945277865504237,
                    -0.4836041396906434,
                    0.08434278535703572,
                    0.1383255808688985,
                    -0.21955282540432564,
                    -0.6083304181933599,
                    -1.6185230604872562,
                    0.8188411855476401,
                    -0.007991816927049644,
                    0.26413640079895895,
                    -0.6613715813693062,
                    -0.642664956161851,
                    1.3626031035581256,
                    -0.9241247501170328,
                    -0.7010991622865083,
                    -0.05909650482494295,
                    0.4296033223554114
                  ],
                  "yaxis": "y"
                }
              ],
              "layout": {
                "barmode": "relative",
                "legend": {
                  "title": {
                    "text": "variable"
                  },
                  "tracegroupgap": 0
                },
                "template": {
                  "data": {
                    "bar": [
                      {
                        "error_x": {
                          "color": "#2a3f5f"
                        },
                        "error_y": {
                          "color": "#2a3f5f"
                        },
                        "marker": {
                          "line": {
                            "color": "#E5ECF6",
                            "width": 0.5
                          },
                          "pattern": {
                            "fillmode": "overlay",
                            "size": 10,
                            "solidity": 0.2
                          }
                        },
                        "type": "bar"
                      }
                    ],
                    "barpolar": [
                      {
                        "marker": {
                          "line": {
                            "color": "#E5ECF6",
                            "width": 0.5
                          },
                          "pattern": {
                            "fillmode": "overlay",
                            "size": 10,
                            "solidity": 0.2
                          }
                        },
                        "type": "barpolar"
                      }
                    ],
                    "carpet": [
                      {
                        "aaxis": {
                          "endlinecolor": "#2a3f5f",
                          "gridcolor": "white",
                          "linecolor": "white",
                          "minorgridcolor": "white",
                          "startlinecolor": "#2a3f5f"
                        },
                        "baxis": {
                          "endlinecolor": "#2a3f5f",
                          "gridcolor": "white",
                          "linecolor": "white",
                          "minorgridcolor": "white",
                          "startlinecolor": "#2a3f5f"
                        },
                        "type": "carpet"
                      }
                    ],
                    "choropleth": [
                      {
                        "colorbar": {
                          "outlinewidth": 0,
                          "ticks": ""
                        },
                        "type": "choropleth"
                      }
                    ],
                    "contour": [
                      {
                        "colorbar": {
                          "outlinewidth": 0,
                          "ticks": ""
                        },
                        "colorscale": [
                          [
                            0,
                            "#0d0887"
                          ],
                          [
                            0.1111111111111111,
                            "#46039f"
                          ],
                          [
                            0.2222222222222222,
                            "#7201a8"
                          ],
                          [
                            0.3333333333333333,
                            "#9c179e"
                          ],
                          [
                            0.4444444444444444,
                            "#bd3786"
                          ],
                          [
                            0.5555555555555556,
                            "#d8576b"
                          ],
                          [
                            0.6666666666666666,
                            "#ed7953"
                          ],
                          [
                            0.7777777777777778,
                            "#fb9f3a"
                          ],
                          [
                            0.8888888888888888,
                            "#fdca26"
                          ],
                          [
                            1,
                            "#f0f921"
                          ]
                        ],
                        "type": "contour"
                      }
                    ],
                    "contourcarpet": [
                      {
                        "colorbar": {
                          "outlinewidth": 0,
                          "ticks": ""
                        },
                        "type": "contourcarpet"
                      }
                    ],
                    "heatmap": [
                      {
                        "colorbar": {
                          "outlinewidth": 0,
                          "ticks": ""
                        },
                        "colorscale": [
                          [
                            0,
                            "#0d0887"
                          ],
                          [
                            0.1111111111111111,
                            "#46039f"
                          ],
                          [
                            0.2222222222222222,
                            "#7201a8"
                          ],
                          [
                            0.3333333333333333,
                            "#9c179e"
                          ],
                          [
                            0.4444444444444444,
                            "#bd3786"
                          ],
                          [
                            0.5555555555555556,
                            "#d8576b"
                          ],
                          [
                            0.6666666666666666,
                            "#ed7953"
                          ],
                          [
                            0.7777777777777778,
                            "#fb9f3a"
                          ],
                          [
                            0.8888888888888888,
                            "#fdca26"
                          ],
                          [
                            1,
                            "#f0f921"
                          ]
                        ],
                        "type": "heatmap"
                      }
                    ],
                    "heatmapgl": [
                      {
                        "colorbar": {
                          "outlinewidth": 0,
                          "ticks": ""
                        },
                        "colorscale": [
                          [
                            0,
                            "#0d0887"
                          ],
                          [
                            0.1111111111111111,
                            "#46039f"
                          ],
                          [
                            0.2222222222222222,
                            "#7201a8"
                          ],
                          [
                            0.3333333333333333,
                            "#9c179e"
                          ],
                          [
                            0.4444444444444444,
                            "#bd3786"
                          ],
                          [
                            0.5555555555555556,
                            "#d8576b"
                          ],
                          [
                            0.6666666666666666,
                            "#ed7953"
                          ],
                          [
                            0.7777777777777778,
                            "#fb9f3a"
                          ],
                          [
                            0.8888888888888888,
                            "#fdca26"
                          ],
                          [
                            1,
                            "#f0f921"
                          ]
                        ],
                        "type": "heatmapgl"
                      }
                    ],
                    "histogram": [
                      {
                        "marker": {
                          "pattern": {
                            "fillmode": "overlay",
                            "size": 10,
                            "solidity": 0.2
                          }
                        },
                        "type": "histogram"
                      }
                    ],
                    "histogram2d": [
                      {
                        "colorbar": {
                          "outlinewidth": 0,
                          "ticks": ""
                        },
                        "colorscale": [
                          [
                            0,
                            "#0d0887"
                          ],
                          [
                            0.1111111111111111,
                            "#46039f"
                          ],
                          [
                            0.2222222222222222,
                            "#7201a8"
                          ],
                          [
                            0.3333333333333333,
                            "#9c179e"
                          ],
                          [
                            0.4444444444444444,
                            "#bd3786"
                          ],
                          [
                            0.5555555555555556,
                            "#d8576b"
                          ],
                          [
                            0.6666666666666666,
                            "#ed7953"
                          ],
                          [
                            0.7777777777777778,
                            "#fb9f3a"
                          ],
                          [
                            0.8888888888888888,
                            "#fdca26"
                          ],
                          [
                            1,
                            "#f0f921"
                          ]
                        ],
                        "type": "histogram2d"
                      }
                    ],
                    "histogram2dcontour": [
                      {
                        "colorbar": {
                          "outlinewidth": 0,
                          "ticks": ""
                        },
                        "colorscale": [
                          [
                            0,
                            "#0d0887"
                          ],
                          [
                            0.1111111111111111,
                            "#46039f"
                          ],
                          [
                            0.2222222222222222,
                            "#7201a8"
                          ],
                          [
                            0.3333333333333333,
                            "#9c179e"
                          ],
                          [
                            0.4444444444444444,
                            "#bd3786"
                          ],
                          [
                            0.5555555555555556,
                            "#d8576b"
                          ],
                          [
                            0.6666666666666666,
                            "#ed7953"
                          ],
                          [
                            0.7777777777777778,
                            "#fb9f3a"
                          ],
                          [
                            0.8888888888888888,
                            "#fdca26"
                          ],
                          [
                            1,
                            "#f0f921"
                          ]
                        ],
                        "type": "histogram2dcontour"
                      }
                    ],
                    "mesh3d": [
                      {
                        "colorbar": {
                          "outlinewidth": 0,
                          "ticks": ""
                        },
                        "type": "mesh3d"
                      }
                    ],
                    "parcoords": [
                      {
                        "line": {
                          "colorbar": {
                            "outlinewidth": 0,
                            "ticks": ""
                          }
                        },
                        "type": "parcoords"
                      }
                    ],
                    "pie": [
                      {
                        "automargin": true,
                        "type": "pie"
                      }
                    ],
                    "scatter": [
                      {
                        "fillpattern": {
                          "fillmode": "overlay",
                          "size": 10,
                          "solidity": 0.2
                        },
                        "type": "scatter"
                      }
                    ],
                    "scatter3d": [
                      {
                        "line": {
                          "colorbar": {
                            "outlinewidth": 0,
                            "ticks": ""
                          }
                        },
                        "marker": {
                          "colorbar": {
                            "outlinewidth": 0,
                            "ticks": ""
                          }
                        },
                        "type": "scatter3d"
                      }
                    ],
                    "scattercarpet": [
                      {
                        "marker": {
                          "colorbar": {
                            "outlinewidth": 0,
                            "ticks": ""
                          }
                        },
                        "type": "scattercarpet"
                      }
                    ],
                    "scattergeo": [
                      {
                        "marker": {
                          "colorbar": {
                            "outlinewidth": 0,
                            "ticks": ""
                          }
                        },
                        "type": "scattergeo"
                      }
                    ],
                    "scattergl": [
                      {
                        "marker": {
                          "colorbar": {
                            "outlinewidth": 0,
                            "ticks": ""
                          }
                        },
                        "type": "scattergl"
                      }
                    ],
                    "scattermapbox": [
                      {
                        "marker": {
                          "colorbar": {
                            "outlinewidth": 0,
                            "ticks": ""
                          }
                        },
                        "type": "scattermapbox"
                      }
                    ],
                    "scatterpolar": [
                      {
                        "marker": {
                          "colorbar": {
                            "outlinewidth": 0,
                            "ticks": ""
                          }
                        },
                        "type": "scatterpolar"
                      }
                    ],
                    "scatterpolargl": [
                      {
                        "marker": {
                          "colorbar": {
                            "outlinewidth": 0,
                            "ticks": ""
                          }
                        },
                        "type": "scatterpolargl"
                      }
                    ],
                    "scatterternary": [
                      {
                        "marker": {
                          "colorbar": {
                            "outlinewidth": 0,
                            "ticks": ""
                          }
                        },
                        "type": "scatterternary"
                      }
                    ],
                    "surface": [
                      {
                        "colorbar": {
                          "outlinewidth": 0,
                          "ticks": ""
                        },
                        "colorscale": [
                          [
                            0,
                            "#0d0887"
                          ],
                          [
                            0.1111111111111111,
                            "#46039f"
                          ],
                          [
                            0.2222222222222222,
                            "#7201a8"
                          ],
                          [
                            0.3333333333333333,
                            "#9c179e"
                          ],
                          [
                            0.4444444444444444,
                            "#bd3786"
                          ],
                          [
                            0.5555555555555556,
                            "#d8576b"
                          ],
                          [
                            0.6666666666666666,
                            "#ed7953"
                          ],
                          [
                            0.7777777777777778,
                            "#fb9f3a"
                          ],
                          [
                            0.8888888888888888,
                            "#fdca26"
                          ],
                          [
                            1,
                            "#f0f921"
                          ]
                        ],
                        "type": "surface"
                      }
                    ],
                    "table": [
                      {
                        "cells": {
                          "fill": {
                            "color": "#EBF0F8"
                          },
                          "line": {
                            "color": "white"
                          }
                        },
                        "header": {
                          "fill": {
                            "color": "#C8D4E3"
                          },
                          "line": {
                            "color": "white"
                          }
                        },
                        "type": "table"
                      }
                    ]
                  },
                  "layout": {
                    "annotationdefaults": {
                      "arrowcolor": "#2a3f5f",
                      "arrowhead": 0,
                      "arrowwidth": 1
                    },
                    "autotypenumbers": "strict",
                    "coloraxis": {
                      "colorbar": {
                        "outlinewidth": 0,
                        "ticks": ""
                      }
                    },
                    "colorscale": {
                      "diverging": [
                        [
                          0,
                          "#8e0152"
                        ],
                        [
                          0.1,
                          "#c51b7d"
                        ],
                        [
                          0.2,
                          "#de77ae"
                        ],
                        [
                          0.3,
                          "#f1b6da"
                        ],
                        [
                          0.4,
                          "#fde0ef"
                        ],
                        [
                          0.5,
                          "#f7f7f7"
                        ],
                        [
                          0.6,
                          "#e6f5d0"
                        ],
                        [
                          0.7,
                          "#b8e186"
                        ],
                        [
                          0.8,
                          "#7fbc41"
                        ],
                        [
                          0.9,
                          "#4d9221"
                        ],
                        [
                          1,
                          "#276419"
                        ]
                      ],
                      "sequential": [
                        [
                          0,
                          "#0d0887"
                        ],
                        [
                          0.1111111111111111,
                          "#46039f"
                        ],
                        [
                          0.2222222222222222,
                          "#7201a8"
                        ],
                        [
                          0.3333333333333333,
                          "#9c179e"
                        ],
                        [
                          0.4444444444444444,
                          "#bd3786"
                        ],
                        [
                          0.5555555555555556,
                          "#d8576b"
                        ],
                        [
                          0.6666666666666666,
                          "#ed7953"
                        ],
                        [
                          0.7777777777777778,
                          "#fb9f3a"
                        ],
                        [
                          0.8888888888888888,
                          "#fdca26"
                        ],
                        [
                          1,
                          "#f0f921"
                        ]
                      ],
                      "sequentialminus": [
                        [
                          0,
                          "#0d0887"
                        ],
                        [
                          0.1111111111111111,
                          "#46039f"
                        ],
                        [
                          0.2222222222222222,
                          "#7201a8"
                        ],
                        [
                          0.3333333333333333,
                          "#9c179e"
                        ],
                        [
                          0.4444444444444444,
                          "#bd3786"
                        ],
                        [
                          0.5555555555555556,
                          "#d8576b"
                        ],
                        [
                          0.6666666666666666,
                          "#ed7953"
                        ],
                        [
                          0.7777777777777778,
                          "#fb9f3a"
                        ],
                        [
                          0.8888888888888888,
                          "#fdca26"
                        ],
                        [
                          1,
                          "#f0f921"
                        ]
                      ]
                    },
                    "colorway": [
                      "#636efa",
                      "#EF553B",
                      "#00cc96",
                      "#ab63fa",
                      "#FFA15A",
                      "#19d3f3",
                      "#FF6692",
                      "#B6E880",
                      "#FF97FF",
                      "#FECB52"
                    ],
                    "font": {
                      "color": "#2a3f5f"
                    },
                    "geo": {
                      "bgcolor": "white",
                      "lakecolor": "white",
                      "landcolor": "#E5ECF6",
                      "showlakes": true,
                      "showland": true,
                      "subunitcolor": "white"
                    },
                    "hoverlabel": {
                      "align": "left"
                    },
                    "hovermode": "closest",
                    "mapbox": {
                      "style": "light"
                    },
                    "paper_bgcolor": "white",
                    "plot_bgcolor": "#E5ECF6",
                    "polar": {
                      "angularaxis": {
                        "gridcolor": "white",
                        "linecolor": "white",
                        "ticks": ""
                      },
                      "bgcolor": "#E5ECF6",
                      "radialaxis": {
                        "gridcolor": "white",
                        "linecolor": "white",
                        "ticks": ""
                      }
                    },
                    "scene": {
                      "xaxis": {
                        "backgroundcolor": "#E5ECF6",
                        "gridcolor": "white",
                        "gridwidth": 2,
                        "linecolor": "white",
                        "showbackground": true,
                        "ticks": "",
                        "zerolinecolor": "white"
                      },
                      "yaxis": {
                        "backgroundcolor": "#E5ECF6",
                        "gridcolor": "white",
                        "gridwidth": 2,
                        "linecolor": "white",
                        "showbackground": true,
                        "ticks": "",
                        "zerolinecolor": "white"
                      },
                      "zaxis": {
                        "backgroundcolor": "#E5ECF6",
                        "gridcolor": "white",
                        "gridwidth": 2,
                        "linecolor": "white",
                        "showbackground": true,
                        "ticks": "",
                        "zerolinecolor": "white"
                      }
                    },
                    "shapedefaults": {
                      "line": {
                        "color": "#2a3f5f"
                      }
                    },
                    "ternary": {
                      "aaxis": {
                        "gridcolor": "white",
                        "linecolor": "white",
                        "ticks": ""
                      },
                      "baxis": {
                        "gridcolor": "white",
                        "linecolor": "white",
                        "ticks": ""
                      },
                      "bgcolor": "#E5ECF6",
                      "caxis": {
                        "gridcolor": "white",
                        "linecolor": "white",
                        "ticks": ""
                      }
                    },
                    "title": {
                      "x": 0.05
                    },
                    "xaxis": {
                      "automargin": true,
                      "gridcolor": "white",
                      "linecolor": "white",
                      "ticks": "",
                      "title": {
                        "standoff": 15
                      },
                      "zerolinecolor": "white",
                      "zerolinewidth": 2
                    },
                    "yaxis": {
                      "automargin": true,
                      "gridcolor": "white",
                      "linecolor": "white",
                      "ticks": "",
                      "title": {
                        "standoff": 15
                      },
                      "zerolinecolor": "white",
                      "zerolinewidth": 2
                    }
                  }
                },
                "title": {
                  "text": "Features importance for target : ['SURF_TER_HA'] with Lasso Linear Regression"
                },
                "xaxis": {
                  "anchor": "y",
                  "domain": [
                    0,
                    1
                  ],
                  "title": {
                    "text": "index"
                  }
                },
                "yaxis": {
                  "anchor": "x",
                  "domain": [
                    0,
                    1
                  ],
                  "title": {
                    "text": "value"
                  }
                }
              }
            }
          },
          "metadata": {},
          "output_type": "display_data"
        }
      ],
      "source": [
        "fig = px.bar(df_coef['Coeff'], title=f\"Features importance for target : {TARGET} with Lasso Linear Regression\")\n",
        "fig.show()"
      ]
    },
    {
      "attachments": {},
      "cell_type": "markdown",
      "metadata": {},
      "source": [
        "As we can imagine, this simple Ridge regressor model essentially relies on historical target data to predict the current time target.\n",
        "\"SDI\" play also...\n",
        "And we could be a little enjoyed, because satellite data are presents... especially the spectral bands function \"DSWI\" that measures the \"water stress\" of the vegetation. This feature plays as a future feature, and also as a past feature."
      ]
    },
    {
      "cell_type": "markdown",
      "metadata": {},
      "source": [
        "-----------------"
      ]
    },
    {
      "attachments": {},
      "cell_type": "markdown",
      "metadata": {},
      "source": [
        "BASELINE MODEL 2 : Simple Deep Learning Regressor"
      ]
    },
    {
      "attachments": {},
      "cell_type": "markdown",
      "metadata": {},
      "source": [
        "We try with a more complex model in deep learning... As it is a strutured data context, pehaps we won't get any good results... but perhaps there are non-linear or complex relationship between our features, so..."
      ]
    },
    {
      "attachments": {},
      "cell_type": "markdown",
      "metadata": {},
      "source": [
        "DATASETS CONSTITUTION :"
      ]
    },
    {
      "cell_type": "code",
      "execution_count": 27,
      "metadata": {},
      "outputs": [],
      "source": [
        "train_batch = tf.data.Dataset.from_tensor_slices((X_train, y_train)).shuffle(buffer_size=len(X_train)).batch(batch_size=32)\n",
        "test_batch = tf.data.Dataset.from_tensor_slices((X_test, y_test)).batch(batch_size=32)"
      ]
    },
    {
      "cell_type": "code",
      "execution_count": 28,
      "metadata": {},
      "outputs": [
        {
          "data": {
            "text/plain": [
              "(5767, 67)"
            ]
          },
          "execution_count": 28,
          "metadata": {},
          "output_type": "execute_result"
        }
      ],
      "source": [
        "np.shape(X_train)"
      ]
    },
    {
      "cell_type": "code",
      "execution_count": 29,
      "metadata": {},
      "outputs": [
        {
          "name": "stdout",
          "output_type": "stream",
          "text": [
            "tf.Tensor(\n",
            "[52.09  4.65 69.68 42.19 32.09 33.24 39.43 33.48 16.71 42.92 33.94 67.15\n",
            " 37.88 36.69 18.88  1.43 45.14 91.43 13.19 56.43 30.4  36.07 17.7  66.72\n",
            " 21.09 24.72 56.4  57.03 36.08 23.56 47.02 63.08], shape=(32,), dtype=float64)\n"
          ]
        }
      ],
      "source": [
        "for x, y in train_batch.take(1):\n",
        "    print(y)"
      ]
    },
    {
      "attachments": {},
      "cell_type": "markdown",
      "metadata": {},
      "source": [
        "Our model is a very simple Multi-LAyers Dense, with 32 / 16 / 8 neurons units... and finally a unique neuron for the linear prediction"
      ]
    },
    {
      "cell_type": "code",
      "execution_count": 39,
      "metadata": {},
      "outputs": [],
      "source": [
        "model = tf.keras.models.Sequential([\n",
        "        tf.keras.Input(shape=(np.shape(X_train)[1],)),\n",
        "        tf.keras.layers.Dense(64,\"relu\"),\n",
        "        tf.keras.layers.Dense(32,\"relu\"),\n",
        "        tf.keras.layers.Dropout(0.2),\n",
        "        tf.keras.layers.Dense(16,\"relu\"),\n",
        "        tf.keras.layers.Dense(8,\"relu\"),\n",
        "        tf.keras.layers.Dense(1, 'linear')\n",
        "    ])"
      ]
    },
    {
      "attachments": {},
      "cell_type": "markdown",
      "metadata": {},
      "source": [
        "Compile (with metrics and loss function for a linear regression) :"
      ]
    },
    {
      "cell_type": "code",
      "execution_count": 40,
      "metadata": {},
      "outputs": [],
      "source": [
        "model.compile(\n",
        "    loss=tf.keras.losses.MeanSquaredError(),\n",
        "    optimizer=tf.keras.optimizers.Adam(0.001),\n",
        "    metrics=tfa.metrics.RSquare())"
      ]
    },
    {
      "attachments": {},
      "cell_type": "markdown",
      "metadata": {},
      "source": [
        "Training :"
      ]
    },
    {
      "cell_type": "code",
      "execution_count": 41,
      "metadata": {},
      "outputs": [
        {
          "name": "stdout",
          "output_type": "stream",
          "text": [
            "Epoch 1/20\n",
            "181/181 [==============================] - 3s 12ms/step - loss: 505.0738 - r_square: -0.2463 - val_loss: 137.4863 - val_r_square: 0.6221\n",
            "Epoch 2/20\n",
            "181/181 [==============================] - 2s 11ms/step - loss: 172.6847 - r_square: 0.5739 - val_loss: 124.7412 - val_r_square: 0.6572\n",
            "Epoch 3/20\n",
            "181/181 [==============================] - 2s 11ms/step - loss: 163.1366 - r_square: 0.5975 - val_loss: 120.6369 - val_r_square: 0.6684\n",
            "Epoch 4/20\n",
            "181/181 [==============================] - 2s 11ms/step - loss: 159.7096 - r_square: 0.6059 - val_loss: 118.8692 - val_r_square: 0.6733\n",
            "Epoch 5/20\n",
            "181/181 [==============================] - 2s 11ms/step - loss: 156.6747 - r_square: 0.6134 - val_loss: 115.7333 - val_r_square: 0.6819\n",
            "Epoch 6/20\n",
            "181/181 [==============================] - 2s 11ms/step - loss: 152.0760 - r_square: 0.6248 - val_loss: 113.9270 - val_r_square: 0.6869\n",
            "Epoch 7/20\n",
            "181/181 [==============================] - 2s 11ms/step - loss: 151.6275 - r_square: 0.6259 - val_loss: 125.1673 - val_r_square: 0.6560\n",
            "Epoch 8/20\n",
            "181/181 [==============================] - 2s 11ms/step - loss: 151.1601 - r_square: 0.6270 - val_loss: 113.7794 - val_r_square: 0.6873\n",
            "Epoch 9/20\n",
            "181/181 [==============================] - 2s 11ms/step - loss: 147.4662 - r_square: 0.6361 - val_loss: 113.2448 - val_r_square: 0.6888\n",
            "Epoch 10/20\n",
            "181/181 [==============================] - 2s 11ms/step - loss: 142.6684 - r_square: 0.6480 - val_loss: 114.4399 - val_r_square: 0.6855\n",
            "Epoch 11/20\n",
            "181/181 [==============================] - 2s 11ms/step - loss: 142.0206 - r_square: 0.6496 - val_loss: 114.2224 - val_r_square: 0.6861\n",
            "Epoch 12/20\n",
            "181/181 [==============================] - 2s 11ms/step - loss: 141.8723 - r_square: 0.6499 - val_loss: 111.9079 - val_r_square: 0.6924\n",
            "Epoch 13/20\n",
            "181/181 [==============================] - 2s 11ms/step - loss: 138.1858 - r_square: 0.6590 - val_loss: 110.2152 - val_r_square: 0.6971\n",
            "Epoch 14/20\n",
            "181/181 [==============================] - 2s 11ms/step - loss: 135.8375 - r_square: 0.6648 - val_loss: 112.1677 - val_r_square: 0.6917\n",
            "Epoch 15/20\n",
            "181/181 [==============================] - 2s 11ms/step - loss: 138.9610 - r_square: 0.6571 - val_loss: 110.7860 - val_r_square: 0.6955\n",
            "Epoch 16/20\n",
            "181/181 [==============================] - 2s 11ms/step - loss: 135.8829 - r_square: 0.6647 - val_loss: 113.5965 - val_r_square: 0.6878\n",
            "Epoch 17/20\n",
            "181/181 [==============================] - 2s 11ms/step - loss: 131.7412 - r_square: 0.6749 - val_loss: 116.6384 - val_r_square: 0.6794\n",
            "Epoch 18/20\n",
            "181/181 [==============================] - 2s 11ms/step - loss: 132.1525 - r_square: 0.6739 - val_loss: 117.6358 - val_r_square: 0.6767\n",
            "Epoch 19/20\n",
            "181/181 [==============================] - 2s 11ms/step - loss: 129.1476 - r_square: 0.6813 - val_loss: 115.9513 - val_r_square: 0.6813\n",
            "Epoch 20/20\n",
            "181/181 [==============================] - 2s 11ms/step - loss: 127.0648 - r_square: 0.6865 - val_loss: 113.4568 - val_r_square: 0.6882\n"
          ]
        },
        {
          "data": {
            "text/plain": [
              "<keras.callbacks.History at 0x25e4baa7a90>"
            ]
          },
          "execution_count": 41,
          "metadata": {},
          "output_type": "execute_result"
        }
      ],
      "source": [
        "model.fit(train_batch, epochs=20, validation_data=test_batch)"
      ]
    },
    {
      "attachments": {},
      "cell_type": "markdown",
      "metadata": {},
      "source": [
        "Score on test set :"
      ]
    },
    {
      "cell_type": "code",
      "execution_count": 42,
      "metadata": {},
      "outputs": [
        {
          "name": "stdout",
          "output_type": "stream",
          "text": [
            "46/46 [==============================] - 0s 4ms/step\n"
          ]
        },
        {
          "data": {
            "text/plain": [
              "0.6881676595692697"
            ]
          },
          "execution_count": 42,
          "metadata": {},
          "output_type": "execute_result"
        }
      ],
      "source": [
        "r2_score(y_test,model.predict(X_test))"
      ]
    },
    {
      "attachments": {},
      "cell_type": "markdown",
      "metadata": {},
      "source": [
        "Ok, it's not a very good prediction, too..."
      ]
    },
    {
      "attachments": {},
      "cell_type": "markdown",
      "metadata": {},
      "source": [
        "Let's see the feature extraction :"
      ]
    },
    {
      "attachments": {},
      "cell_type": "markdown",
      "metadata": {},
      "source": [
        "To do that, a simply approch is to take the mean of all the weights of the first layer  related to a feature, and keeping this value for every feature..."
      ]
    },
    {
      "cell_type": "code",
      "execution_count": 44,
      "metadata": {},
      "outputs": [],
      "source": [
        "coeff_mean = []\n",
        "for i in range(np.shape(X_train)[1]):\n",
        "    coeff_mean.append(np.mean(model.layers[0].trainable_variables[0][i]))\n"
      ]
    },
    {
      "cell_type": "code",
      "execution_count": 45,
      "metadata": {},
      "outputs": [],
      "source": [
        "df_coef = pd.DataFrame(coeff_mean, columns=['Coeff'], index= list_features_in)"
      ]
    },
    {
      "cell_type": "code",
      "execution_count": 46,
      "metadata": {},
      "outputs": [
        {
          "data": {
            "application/vnd.plotly.v1+json": {
              "config": {
                "plotlyServerURL": "https://plot.ly"
              },
              "data": [
                {
                  "alignmentgroup": "True",
                  "hovertemplate": "variable=Coeff<br>index=%{x}<br>value=%{y}<extra></extra>",
                  "legendgroup": "Coeff",
                  "marker": {
                    "color": "#636efa",
                    "pattern": {
                      "shape": ""
                    }
                  },
                  "name": "Coeff",
                  "offsetgroup": "Coeff",
                  "orientation": "v",
                  "showlegend": true,
                  "textposition": "auto",
                  "type": "bar",
                  "x": [
                    "UNIT_ACCR",
                    "H_D",
                    "AI",
                    "SDI",
                    "AGE_PPL",
                    "ALT",
                    "TIGES_VIV_H",
                    "SURF_TER_HA",
                    "FEUILL_PER",
                    "CONIF_PER",
                    "PERF_CROI",
                    "NDVI",
                    "EVI",
                    "NDMI",
                    "NDWI",
                    "DSWI",
                    "HT_VEG",
                    "PRCP_f",
                    "TAVE_AVG_f",
                    "TAVE_f",
                    "TAVE_GROWTH_f",
                    "PRCP_S_S_f",
                    "PRCP_G_S_f",
                    "NDVI_f",
                    "EVI_f",
                    "NDMI_f",
                    "NDWI_f",
                    "DSWI_f",
                    "PRODREG_0",
                    "PRODREG_1",
                    "PRODREG_2",
                    "PRODREG_3",
                    "ESPECE_DOM_0",
                    "ESPECE_DOM_1",
                    "ESPECE_DOM_2",
                    "ESPECE_DOM_3",
                    "ESPECE_DOM_4",
                    "ESPECE_DOM_5",
                    "ESPECE_DOM_6",
                    "ESPECE_DOM_7",
                    "ESPECE_DOM_8",
                    "ESPECE_DOM_9",
                    "ESPECE_DOM_10",
                    "ESPECE_DOM_11",
                    "TYP_RAJ_PPL_0",
                    "TYP_RAJ_PPL_1",
                    "TYP_RAJ_PPL_2",
                    "DEG_FERMETURE_0",
                    "DEG_FERMETURE_1",
                    "DEG_FERMETURE_2",
                    "DEG_FERMETURE_3",
                    "DEG_FERMETURE_4",
                    "DEG_FERMETURE_5",
                    "DEG_FERMETURE_6",
                    "DEG_FERMETURE_7",
                    "DEG_FERMETURE_8",
                    "DEG_FERMETURE_9",
                    "DEG_FERMETURE_10",
                    "STR_PPL_0",
                    "STR_PPL_1",
                    "STR_PPL_2",
                    "STR_PPL_3",
                    "RELIEF_0",
                    "RELIEF_1",
                    "RELIEF_2",
                    "RELIEF_3",
                    "RELIEF_4"
                  ],
                  "xaxis": "x",
                  "y": [
                    0.021941594779491425,
                    -0.05957021564245224,
                    0.0005581676959991455,
                    0.0642046183347702,
                    -0.0065337540581822395,
                    0.05897068977355957,
                    -0.011034006252884865,
                    0.12900996208190918,
                    -0.009859775193035603,
                    -0.003660597838461399,
                    0.0038569150492548943,
                    -0.018425725400447845,
                    0.017765220254659653,
                    0.0037467246875166893,
                    0.002384364604949951,
                    0.01916964165866375,
                    0.006239023059606552,
                    -0.027269352227449417,
                    -0.016731703653931618,
                    -0.0077807363122701645,
                    0.012261219322681427,
                    -0.018401555716991425,
                    -0.008531236089766026,
                    -0.005769926588982344,
                    0.006865661591291428,
                    -0.0019887955859303474,
                    0.0050901975482702255,
                    0.03752796724438667,
                    -0.024223029613494873,
                    0.03019840456545353,
                    0.006255738437175751,
                    0.04707982391119003,
                    0.03350319713354111,
                    0.056596286594867706,
                    0.08548878133296967,
                    0.0709775760769844,
                    0.043081652373075485,
                    0.01806514523923397,
                    0.042067430913448334,
                    0.0715484619140625,
                    0.08861568570137024,
                    0.06774546205997467,
                    0.0773153007030487,
                    -0.023774202913045883,
                    -0.007353515364229679,
                    0.0026335474103689194,
                    -0.008942537941038609,
                    -0.0012882929295301437,
                    0.004638248588889837,
                    0.02244596555829048,
                    0.06307654082775116,
                    0.03945208713412285,
                    -0.042872652411460876,
                    0.013832706958055496,
                    -0.017479389905929565,
                    -0.00108414888381958,
                    -0.01957201585173607,
                    0.03411998972296715,
                    0.04452250897884369,
                    0.04564724862575531,
                    -0.0010590364690870047,
                    -0.04138067364692688,
                    0.12412470579147339,
                    0.027286294847726822,
                    0.07574545592069626,
                    0.12023642659187317,
                    0.08454231917858124
                  ],
                  "yaxis": "y"
                }
              ],
              "layout": {
                "barmode": "relative",
                "legend": {
                  "title": {
                    "text": "variable"
                  },
                  "tracegroupgap": 0
                },
                "template": {
                  "data": {
                    "bar": [
                      {
                        "error_x": {
                          "color": "#2a3f5f"
                        },
                        "error_y": {
                          "color": "#2a3f5f"
                        },
                        "marker": {
                          "line": {
                            "color": "#E5ECF6",
                            "width": 0.5
                          },
                          "pattern": {
                            "fillmode": "overlay",
                            "size": 10,
                            "solidity": 0.2
                          }
                        },
                        "type": "bar"
                      }
                    ],
                    "barpolar": [
                      {
                        "marker": {
                          "line": {
                            "color": "#E5ECF6",
                            "width": 0.5
                          },
                          "pattern": {
                            "fillmode": "overlay",
                            "size": 10,
                            "solidity": 0.2
                          }
                        },
                        "type": "barpolar"
                      }
                    ],
                    "carpet": [
                      {
                        "aaxis": {
                          "endlinecolor": "#2a3f5f",
                          "gridcolor": "white",
                          "linecolor": "white",
                          "minorgridcolor": "white",
                          "startlinecolor": "#2a3f5f"
                        },
                        "baxis": {
                          "endlinecolor": "#2a3f5f",
                          "gridcolor": "white",
                          "linecolor": "white",
                          "minorgridcolor": "white",
                          "startlinecolor": "#2a3f5f"
                        },
                        "type": "carpet"
                      }
                    ],
                    "choropleth": [
                      {
                        "colorbar": {
                          "outlinewidth": 0,
                          "ticks": ""
                        },
                        "type": "choropleth"
                      }
                    ],
                    "contour": [
                      {
                        "colorbar": {
                          "outlinewidth": 0,
                          "ticks": ""
                        },
                        "colorscale": [
                          [
                            0,
                            "#0d0887"
                          ],
                          [
                            0.1111111111111111,
                            "#46039f"
                          ],
                          [
                            0.2222222222222222,
                            "#7201a8"
                          ],
                          [
                            0.3333333333333333,
                            "#9c179e"
                          ],
                          [
                            0.4444444444444444,
                            "#bd3786"
                          ],
                          [
                            0.5555555555555556,
                            "#d8576b"
                          ],
                          [
                            0.6666666666666666,
                            "#ed7953"
                          ],
                          [
                            0.7777777777777778,
                            "#fb9f3a"
                          ],
                          [
                            0.8888888888888888,
                            "#fdca26"
                          ],
                          [
                            1,
                            "#f0f921"
                          ]
                        ],
                        "type": "contour"
                      }
                    ],
                    "contourcarpet": [
                      {
                        "colorbar": {
                          "outlinewidth": 0,
                          "ticks": ""
                        },
                        "type": "contourcarpet"
                      }
                    ],
                    "heatmap": [
                      {
                        "colorbar": {
                          "outlinewidth": 0,
                          "ticks": ""
                        },
                        "colorscale": [
                          [
                            0,
                            "#0d0887"
                          ],
                          [
                            0.1111111111111111,
                            "#46039f"
                          ],
                          [
                            0.2222222222222222,
                            "#7201a8"
                          ],
                          [
                            0.3333333333333333,
                            "#9c179e"
                          ],
                          [
                            0.4444444444444444,
                            "#bd3786"
                          ],
                          [
                            0.5555555555555556,
                            "#d8576b"
                          ],
                          [
                            0.6666666666666666,
                            "#ed7953"
                          ],
                          [
                            0.7777777777777778,
                            "#fb9f3a"
                          ],
                          [
                            0.8888888888888888,
                            "#fdca26"
                          ],
                          [
                            1,
                            "#f0f921"
                          ]
                        ],
                        "type": "heatmap"
                      }
                    ],
                    "heatmapgl": [
                      {
                        "colorbar": {
                          "outlinewidth": 0,
                          "ticks": ""
                        },
                        "colorscale": [
                          [
                            0,
                            "#0d0887"
                          ],
                          [
                            0.1111111111111111,
                            "#46039f"
                          ],
                          [
                            0.2222222222222222,
                            "#7201a8"
                          ],
                          [
                            0.3333333333333333,
                            "#9c179e"
                          ],
                          [
                            0.4444444444444444,
                            "#bd3786"
                          ],
                          [
                            0.5555555555555556,
                            "#d8576b"
                          ],
                          [
                            0.6666666666666666,
                            "#ed7953"
                          ],
                          [
                            0.7777777777777778,
                            "#fb9f3a"
                          ],
                          [
                            0.8888888888888888,
                            "#fdca26"
                          ],
                          [
                            1,
                            "#f0f921"
                          ]
                        ],
                        "type": "heatmapgl"
                      }
                    ],
                    "histogram": [
                      {
                        "marker": {
                          "pattern": {
                            "fillmode": "overlay",
                            "size": 10,
                            "solidity": 0.2
                          }
                        },
                        "type": "histogram"
                      }
                    ],
                    "histogram2d": [
                      {
                        "colorbar": {
                          "outlinewidth": 0,
                          "ticks": ""
                        },
                        "colorscale": [
                          [
                            0,
                            "#0d0887"
                          ],
                          [
                            0.1111111111111111,
                            "#46039f"
                          ],
                          [
                            0.2222222222222222,
                            "#7201a8"
                          ],
                          [
                            0.3333333333333333,
                            "#9c179e"
                          ],
                          [
                            0.4444444444444444,
                            "#bd3786"
                          ],
                          [
                            0.5555555555555556,
                            "#d8576b"
                          ],
                          [
                            0.6666666666666666,
                            "#ed7953"
                          ],
                          [
                            0.7777777777777778,
                            "#fb9f3a"
                          ],
                          [
                            0.8888888888888888,
                            "#fdca26"
                          ],
                          [
                            1,
                            "#f0f921"
                          ]
                        ],
                        "type": "histogram2d"
                      }
                    ],
                    "histogram2dcontour": [
                      {
                        "colorbar": {
                          "outlinewidth": 0,
                          "ticks": ""
                        },
                        "colorscale": [
                          [
                            0,
                            "#0d0887"
                          ],
                          [
                            0.1111111111111111,
                            "#46039f"
                          ],
                          [
                            0.2222222222222222,
                            "#7201a8"
                          ],
                          [
                            0.3333333333333333,
                            "#9c179e"
                          ],
                          [
                            0.4444444444444444,
                            "#bd3786"
                          ],
                          [
                            0.5555555555555556,
                            "#d8576b"
                          ],
                          [
                            0.6666666666666666,
                            "#ed7953"
                          ],
                          [
                            0.7777777777777778,
                            "#fb9f3a"
                          ],
                          [
                            0.8888888888888888,
                            "#fdca26"
                          ],
                          [
                            1,
                            "#f0f921"
                          ]
                        ],
                        "type": "histogram2dcontour"
                      }
                    ],
                    "mesh3d": [
                      {
                        "colorbar": {
                          "outlinewidth": 0,
                          "ticks": ""
                        },
                        "type": "mesh3d"
                      }
                    ],
                    "parcoords": [
                      {
                        "line": {
                          "colorbar": {
                            "outlinewidth": 0,
                            "ticks": ""
                          }
                        },
                        "type": "parcoords"
                      }
                    ],
                    "pie": [
                      {
                        "automargin": true,
                        "type": "pie"
                      }
                    ],
                    "scatter": [
                      {
                        "fillpattern": {
                          "fillmode": "overlay",
                          "size": 10,
                          "solidity": 0.2
                        },
                        "type": "scatter"
                      }
                    ],
                    "scatter3d": [
                      {
                        "line": {
                          "colorbar": {
                            "outlinewidth": 0,
                            "ticks": ""
                          }
                        },
                        "marker": {
                          "colorbar": {
                            "outlinewidth": 0,
                            "ticks": ""
                          }
                        },
                        "type": "scatter3d"
                      }
                    ],
                    "scattercarpet": [
                      {
                        "marker": {
                          "colorbar": {
                            "outlinewidth": 0,
                            "ticks": ""
                          }
                        },
                        "type": "scattercarpet"
                      }
                    ],
                    "scattergeo": [
                      {
                        "marker": {
                          "colorbar": {
                            "outlinewidth": 0,
                            "ticks": ""
                          }
                        },
                        "type": "scattergeo"
                      }
                    ],
                    "scattergl": [
                      {
                        "marker": {
                          "colorbar": {
                            "outlinewidth": 0,
                            "ticks": ""
                          }
                        },
                        "type": "scattergl"
                      }
                    ],
                    "scattermapbox": [
                      {
                        "marker": {
                          "colorbar": {
                            "outlinewidth": 0,
                            "ticks": ""
                          }
                        },
                        "type": "scattermapbox"
                      }
                    ],
                    "scatterpolar": [
                      {
                        "marker": {
                          "colorbar": {
                            "outlinewidth": 0,
                            "ticks": ""
                          }
                        },
                        "type": "scatterpolar"
                      }
                    ],
                    "scatterpolargl": [
                      {
                        "marker": {
                          "colorbar": {
                            "outlinewidth": 0,
                            "ticks": ""
                          }
                        },
                        "type": "scatterpolargl"
                      }
                    ],
                    "scatterternary": [
                      {
                        "marker": {
                          "colorbar": {
                            "outlinewidth": 0,
                            "ticks": ""
                          }
                        },
                        "type": "scatterternary"
                      }
                    ],
                    "surface": [
                      {
                        "colorbar": {
                          "outlinewidth": 0,
                          "ticks": ""
                        },
                        "colorscale": [
                          [
                            0,
                            "#0d0887"
                          ],
                          [
                            0.1111111111111111,
                            "#46039f"
                          ],
                          [
                            0.2222222222222222,
                            "#7201a8"
                          ],
                          [
                            0.3333333333333333,
                            "#9c179e"
                          ],
                          [
                            0.4444444444444444,
                            "#bd3786"
                          ],
                          [
                            0.5555555555555556,
                            "#d8576b"
                          ],
                          [
                            0.6666666666666666,
                            "#ed7953"
                          ],
                          [
                            0.7777777777777778,
                            "#fb9f3a"
                          ],
                          [
                            0.8888888888888888,
                            "#fdca26"
                          ],
                          [
                            1,
                            "#f0f921"
                          ]
                        ],
                        "type": "surface"
                      }
                    ],
                    "table": [
                      {
                        "cells": {
                          "fill": {
                            "color": "#EBF0F8"
                          },
                          "line": {
                            "color": "white"
                          }
                        },
                        "header": {
                          "fill": {
                            "color": "#C8D4E3"
                          },
                          "line": {
                            "color": "white"
                          }
                        },
                        "type": "table"
                      }
                    ]
                  },
                  "layout": {
                    "annotationdefaults": {
                      "arrowcolor": "#2a3f5f",
                      "arrowhead": 0,
                      "arrowwidth": 1
                    },
                    "autotypenumbers": "strict",
                    "coloraxis": {
                      "colorbar": {
                        "outlinewidth": 0,
                        "ticks": ""
                      }
                    },
                    "colorscale": {
                      "diverging": [
                        [
                          0,
                          "#8e0152"
                        ],
                        [
                          0.1,
                          "#c51b7d"
                        ],
                        [
                          0.2,
                          "#de77ae"
                        ],
                        [
                          0.3,
                          "#f1b6da"
                        ],
                        [
                          0.4,
                          "#fde0ef"
                        ],
                        [
                          0.5,
                          "#f7f7f7"
                        ],
                        [
                          0.6,
                          "#e6f5d0"
                        ],
                        [
                          0.7,
                          "#b8e186"
                        ],
                        [
                          0.8,
                          "#7fbc41"
                        ],
                        [
                          0.9,
                          "#4d9221"
                        ],
                        [
                          1,
                          "#276419"
                        ]
                      ],
                      "sequential": [
                        [
                          0,
                          "#0d0887"
                        ],
                        [
                          0.1111111111111111,
                          "#46039f"
                        ],
                        [
                          0.2222222222222222,
                          "#7201a8"
                        ],
                        [
                          0.3333333333333333,
                          "#9c179e"
                        ],
                        [
                          0.4444444444444444,
                          "#bd3786"
                        ],
                        [
                          0.5555555555555556,
                          "#d8576b"
                        ],
                        [
                          0.6666666666666666,
                          "#ed7953"
                        ],
                        [
                          0.7777777777777778,
                          "#fb9f3a"
                        ],
                        [
                          0.8888888888888888,
                          "#fdca26"
                        ],
                        [
                          1,
                          "#f0f921"
                        ]
                      ],
                      "sequentialminus": [
                        [
                          0,
                          "#0d0887"
                        ],
                        [
                          0.1111111111111111,
                          "#46039f"
                        ],
                        [
                          0.2222222222222222,
                          "#7201a8"
                        ],
                        [
                          0.3333333333333333,
                          "#9c179e"
                        ],
                        [
                          0.4444444444444444,
                          "#bd3786"
                        ],
                        [
                          0.5555555555555556,
                          "#d8576b"
                        ],
                        [
                          0.6666666666666666,
                          "#ed7953"
                        ],
                        [
                          0.7777777777777778,
                          "#fb9f3a"
                        ],
                        [
                          0.8888888888888888,
                          "#fdca26"
                        ],
                        [
                          1,
                          "#f0f921"
                        ]
                      ]
                    },
                    "colorway": [
                      "#636efa",
                      "#EF553B",
                      "#00cc96",
                      "#ab63fa",
                      "#FFA15A",
                      "#19d3f3",
                      "#FF6692",
                      "#B6E880",
                      "#FF97FF",
                      "#FECB52"
                    ],
                    "font": {
                      "color": "#2a3f5f"
                    },
                    "geo": {
                      "bgcolor": "white",
                      "lakecolor": "white",
                      "landcolor": "#E5ECF6",
                      "showlakes": true,
                      "showland": true,
                      "subunitcolor": "white"
                    },
                    "hoverlabel": {
                      "align": "left"
                    },
                    "hovermode": "closest",
                    "mapbox": {
                      "style": "light"
                    },
                    "paper_bgcolor": "white",
                    "plot_bgcolor": "#E5ECF6",
                    "polar": {
                      "angularaxis": {
                        "gridcolor": "white",
                        "linecolor": "white",
                        "ticks": ""
                      },
                      "bgcolor": "#E5ECF6",
                      "radialaxis": {
                        "gridcolor": "white",
                        "linecolor": "white",
                        "ticks": ""
                      }
                    },
                    "scene": {
                      "xaxis": {
                        "backgroundcolor": "#E5ECF6",
                        "gridcolor": "white",
                        "gridwidth": 2,
                        "linecolor": "white",
                        "showbackground": true,
                        "ticks": "",
                        "zerolinecolor": "white"
                      },
                      "yaxis": {
                        "backgroundcolor": "#E5ECF6",
                        "gridcolor": "white",
                        "gridwidth": 2,
                        "linecolor": "white",
                        "showbackground": true,
                        "ticks": "",
                        "zerolinecolor": "white"
                      },
                      "zaxis": {
                        "backgroundcolor": "#E5ECF6",
                        "gridcolor": "white",
                        "gridwidth": 2,
                        "linecolor": "white",
                        "showbackground": true,
                        "ticks": "",
                        "zerolinecolor": "white"
                      }
                    },
                    "shapedefaults": {
                      "line": {
                        "color": "#2a3f5f"
                      }
                    },
                    "ternary": {
                      "aaxis": {
                        "gridcolor": "white",
                        "linecolor": "white",
                        "ticks": ""
                      },
                      "baxis": {
                        "gridcolor": "white",
                        "linecolor": "white",
                        "ticks": ""
                      },
                      "bgcolor": "#E5ECF6",
                      "caxis": {
                        "gridcolor": "white",
                        "linecolor": "white",
                        "ticks": ""
                      }
                    },
                    "title": {
                      "x": 0.05
                    },
                    "xaxis": {
                      "automargin": true,
                      "gridcolor": "white",
                      "linecolor": "white",
                      "ticks": "",
                      "title": {
                        "standoff": 15
                      },
                      "zerolinecolor": "white",
                      "zerolinewidth": 2
                    },
                    "yaxis": {
                      "automargin": true,
                      "gridcolor": "white",
                      "linecolor": "white",
                      "ticks": "",
                      "title": {
                        "standoff": 15
                      },
                      "zerolinecolor": "white",
                      "zerolinewidth": 2
                    }
                  }
                },
                "title": {
                  "text": "Features importance for target : ['SURF_TER_HA'] with Lasso Linear Regression"
                },
                "xaxis": {
                  "anchor": "y",
                  "domain": [
                    0,
                    1
                  ],
                  "title": {
                    "text": "index"
                  }
                },
                "yaxis": {
                  "anchor": "x",
                  "domain": [
                    0,
                    1
                  ],
                  "title": {
                    "text": "value"
                  }
                }
              }
            }
          },
          "metadata": {},
          "output_type": "display_data"
        }
      ],
      "source": [
        "fig = px.bar(df_coef['Coeff'], title=f\"Features importance for target : {TARGET} with Lasso Linear Regression\")\n",
        "fig.show()"
      ]
    },
    {
      "attachments": {},
      "cell_type": "markdown",
      "metadata": {},
      "source": [
        "Once again, several historical data from field survey (IFN) are most important :\n",
        "- 'SURF_TER_HA', our target at time t-1 (it's logical)\n",
        "- 'ESPECE_DOM', dominant species of the forest\n",
        "- 'H_D', Rapport of the height and the diameter of all tree\n",
        "- 'RELIEF'...\n",
        "\n",
        "And our satellite or meteo data have a very few importance..."
      ]
    }
  ],
  "metadata": {
    "colab": {
      "provenance": []
    },
    "kernelspec": {
      "display_name": "Python 3.9.13 ('base')",
      "language": "python",
      "name": "python3"
    },
    "language_info": {
      "codemirror_mode": {
        "name": "ipython",
        "version": 3
      },
      "file_extension": ".py",
      "mimetype": "text/x-python",
      "name": "python",
      "nbconvert_exporter": "python",
      "pygments_lexer": "ipython3",
      "version": "3.9.13 (main, Aug 25 2022, 23:51:50) [MSC v.1916 64 bit (AMD64)]"
    },
    "vscode": {
      "interpreter": {
        "hash": "1cca9558bc5ad879ec93cc030b157d75f18267527c60932cecaace349eef54dd"
      }
    }
  },
  "nbformat": 4,
  "nbformat_minor": 0
}
