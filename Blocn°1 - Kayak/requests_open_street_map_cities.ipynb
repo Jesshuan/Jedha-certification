{
 "cells": [
  {
   "cell_type": "code",
   "execution_count": 47,
   "metadata": {},
   "outputs": [],
   "source": [
    "import requests\n",
    "import pandas as pd"
   ]
  },
  {
   "cell_type": "code",
   "execution_count": 48,
   "metadata": {},
   "outputs": [],
   "source": [
    "list_src = pd.read_csv('src/top35_list_cities.txt').reset_index()\n",
    "list_cities = list_src['Cities'].to_list()"
   ]
  },
  {
   "cell_type": "code",
   "execution_count": 49,
   "metadata": {},
   "outputs": [],
   "source": [
    "data_coord_cities=pd.DataFrame(columns=['city','lat','lon'])"
   ]
  },
  {
   "cell_type": "code",
   "execution_count": 50,
   "metadata": {},
   "outputs": [
    {
     "data": {
      "text/html": [
       "<div>\n",
       "<style scoped>\n",
       "    .dataframe tbody tr th:only-of-type {\n",
       "        vertical-align: middle;\n",
       "    }\n",
       "\n",
       "    .dataframe tbody tr th {\n",
       "        vertical-align: top;\n",
       "    }\n",
       "\n",
       "    .dataframe thead th {\n",
       "        text-align: right;\n",
       "    }\n",
       "</style>\n",
       "<table border=\"1\" class=\"dataframe\">\n",
       "  <thead>\n",
       "    <tr style=\"text-align: right;\">\n",
       "      <th></th>\n",
       "      <th>city</th>\n",
       "      <th>lat</th>\n",
       "      <th>lon</th>\n",
       "    </tr>\n",
       "  </thead>\n",
       "  <tbody>\n",
       "  </tbody>\n",
       "</table>\n",
       "</div>"
      ],
      "text/plain": [
       "Empty DataFrame\n",
       "Columns: [city, lat, lon]\n",
       "Index: []"
      ]
     },
     "execution_count": 50,
     "metadata": {},
     "output_type": "execute_result"
    }
   ],
   "source": [
    "data_coord_cities"
   ]
  },
  {
   "cell_type": "code",
   "execution_count": 51,
   "metadata": {},
   "outputs": [
    {
     "name": "stderr",
     "output_type": "stream",
     "text": [
      "C:\\Users\\PC\\AppData\\Local\\Temp\\ipykernel_16912\\776442892.py:10: FutureWarning: The frame.append method is deprecated and will be removed from pandas in a future version. Use pandas.concat instead.\n",
      "  data_coord_cities=data_coord_cities.append({'city' : city , 'lat' : float(re.json()[0].get('lat')), 'lon' : float(re.json()[0].get('lon'))}, ignore_index=True)\n",
      "C:\\Users\\PC\\AppData\\Local\\Temp\\ipykernel_16912\\776442892.py:10: FutureWarning: The frame.append method is deprecated and will be removed from pandas in a future version. Use pandas.concat instead.\n",
      "  data_coord_cities=data_coord_cities.append({'city' : city , 'lat' : float(re.json()[0].get('lat')), 'lon' : float(re.json()[0].get('lon'))}, ignore_index=True)\n",
      "C:\\Users\\PC\\AppData\\Local\\Temp\\ipykernel_16912\\776442892.py:10: FutureWarning: The frame.append method is deprecated and will be removed from pandas in a future version. Use pandas.concat instead.\n",
      "  data_coord_cities=data_coord_cities.append({'city' : city , 'lat' : float(re.json()[0].get('lat')), 'lon' : float(re.json()[0].get('lon'))}, ignore_index=True)\n",
      "C:\\Users\\PC\\AppData\\Local\\Temp\\ipykernel_16912\\776442892.py:10: FutureWarning: The frame.append method is deprecated and will be removed from pandas in a future version. Use pandas.concat instead.\n",
      "  data_coord_cities=data_coord_cities.append({'city' : city , 'lat' : float(re.json()[0].get('lat')), 'lon' : float(re.json()[0].get('lon'))}, ignore_index=True)\n",
      "C:\\Users\\PC\\AppData\\Local\\Temp\\ipykernel_16912\\776442892.py:10: FutureWarning: The frame.append method is deprecated and will be removed from pandas in a future version. Use pandas.concat instead.\n",
      "  data_coord_cities=data_coord_cities.append({'city' : city , 'lat' : float(re.json()[0].get('lat')), 'lon' : float(re.json()[0].get('lon'))}, ignore_index=True)\n",
      "C:\\Users\\PC\\AppData\\Local\\Temp\\ipykernel_16912\\776442892.py:10: FutureWarning: The frame.append method is deprecated and will be removed from pandas in a future version. Use pandas.concat instead.\n",
      "  data_coord_cities=data_coord_cities.append({'city' : city , 'lat' : float(re.json()[0].get('lat')), 'lon' : float(re.json()[0].get('lon'))}, ignore_index=True)\n",
      "C:\\Users\\PC\\AppData\\Local\\Temp\\ipykernel_16912\\776442892.py:10: FutureWarning: The frame.append method is deprecated and will be removed from pandas in a future version. Use pandas.concat instead.\n",
      "  data_coord_cities=data_coord_cities.append({'city' : city , 'lat' : float(re.json()[0].get('lat')), 'lon' : float(re.json()[0].get('lon'))}, ignore_index=True)\n",
      "C:\\Users\\PC\\AppData\\Local\\Temp\\ipykernel_16912\\776442892.py:10: FutureWarning: The frame.append method is deprecated and will be removed from pandas in a future version. Use pandas.concat instead.\n",
      "  data_coord_cities=data_coord_cities.append({'city' : city , 'lat' : float(re.json()[0].get('lat')), 'lon' : float(re.json()[0].get('lon'))}, ignore_index=True)\n",
      "C:\\Users\\PC\\AppData\\Local\\Temp\\ipykernel_16912\\776442892.py:10: FutureWarning: The frame.append method is deprecated and will be removed from pandas in a future version. Use pandas.concat instead.\n",
      "  data_coord_cities=data_coord_cities.append({'city' : city , 'lat' : float(re.json()[0].get('lat')), 'lon' : float(re.json()[0].get('lon'))}, ignore_index=True)\n",
      "C:\\Users\\PC\\AppData\\Local\\Temp\\ipykernel_16912\\776442892.py:10: FutureWarning: The frame.append method is deprecated and will be removed from pandas in a future version. Use pandas.concat instead.\n",
      "  data_coord_cities=data_coord_cities.append({'city' : city , 'lat' : float(re.json()[0].get('lat')), 'lon' : float(re.json()[0].get('lon'))}, ignore_index=True)\n",
      "C:\\Users\\PC\\AppData\\Local\\Temp\\ipykernel_16912\\776442892.py:10: FutureWarning: The frame.append method is deprecated and will be removed from pandas in a future version. Use pandas.concat instead.\n",
      "  data_coord_cities=data_coord_cities.append({'city' : city , 'lat' : float(re.json()[0].get('lat')), 'lon' : float(re.json()[0].get('lon'))}, ignore_index=True)\n",
      "C:\\Users\\PC\\AppData\\Local\\Temp\\ipykernel_16912\\776442892.py:10: FutureWarning: The frame.append method is deprecated and will be removed from pandas in a future version. Use pandas.concat instead.\n",
      "  data_coord_cities=data_coord_cities.append({'city' : city , 'lat' : float(re.json()[0].get('lat')), 'lon' : float(re.json()[0].get('lon'))}, ignore_index=True)\n",
      "C:\\Users\\PC\\AppData\\Local\\Temp\\ipykernel_16912\\776442892.py:10: FutureWarning: The frame.append method is deprecated and will be removed from pandas in a future version. Use pandas.concat instead.\n",
      "  data_coord_cities=data_coord_cities.append({'city' : city , 'lat' : float(re.json()[0].get('lat')), 'lon' : float(re.json()[0].get('lon'))}, ignore_index=True)\n",
      "C:\\Users\\PC\\AppData\\Local\\Temp\\ipykernel_16912\\776442892.py:10: FutureWarning: The frame.append method is deprecated and will be removed from pandas in a future version. Use pandas.concat instead.\n",
      "  data_coord_cities=data_coord_cities.append({'city' : city , 'lat' : float(re.json()[0].get('lat')), 'lon' : float(re.json()[0].get('lon'))}, ignore_index=True)\n",
      "C:\\Users\\PC\\AppData\\Local\\Temp\\ipykernel_16912\\776442892.py:10: FutureWarning: The frame.append method is deprecated and will be removed from pandas in a future version. Use pandas.concat instead.\n",
      "  data_coord_cities=data_coord_cities.append({'city' : city , 'lat' : float(re.json()[0].get('lat')), 'lon' : float(re.json()[0].get('lon'))}, ignore_index=True)\n",
      "C:\\Users\\PC\\AppData\\Local\\Temp\\ipykernel_16912\\776442892.py:10: FutureWarning: The frame.append method is deprecated and will be removed from pandas in a future version. Use pandas.concat instead.\n",
      "  data_coord_cities=data_coord_cities.append({'city' : city , 'lat' : float(re.json()[0].get('lat')), 'lon' : float(re.json()[0].get('lon'))}, ignore_index=True)\n",
      "C:\\Users\\PC\\AppData\\Local\\Temp\\ipykernel_16912\\776442892.py:10: FutureWarning: The frame.append method is deprecated and will be removed from pandas in a future version. Use pandas.concat instead.\n",
      "  data_coord_cities=data_coord_cities.append({'city' : city , 'lat' : float(re.json()[0].get('lat')), 'lon' : float(re.json()[0].get('lon'))}, ignore_index=True)\n"
     ]
    },
    {
     "name": "stdout",
     "output_type": "stream",
     "text": [
      "Impossible d'insérer latitude et longitude pour Gorges du Verdon...\n"
     ]
    },
    {
     "name": "stderr",
     "output_type": "stream",
     "text": [
      "C:\\Users\\PC\\AppData\\Local\\Temp\\ipykernel_16912\\776442892.py:10: FutureWarning: The frame.append method is deprecated and will be removed from pandas in a future version. Use pandas.concat instead.\n",
      "  data_coord_cities=data_coord_cities.append({'city' : city , 'lat' : float(re.json()[0].get('lat')), 'lon' : float(re.json()[0].get('lon'))}, ignore_index=True)\n",
      "C:\\Users\\PC\\AppData\\Local\\Temp\\ipykernel_16912\\776442892.py:10: FutureWarning: The frame.append method is deprecated and will be removed from pandas in a future version. Use pandas.concat instead.\n",
      "  data_coord_cities=data_coord_cities.append({'city' : city , 'lat' : float(re.json()[0].get('lat')), 'lon' : float(re.json()[0].get('lon'))}, ignore_index=True)\n",
      "C:\\Users\\PC\\AppData\\Local\\Temp\\ipykernel_16912\\776442892.py:10: FutureWarning: The frame.append method is deprecated and will be removed from pandas in a future version. Use pandas.concat instead.\n",
      "  data_coord_cities=data_coord_cities.append({'city' : city , 'lat' : float(re.json()[0].get('lat')), 'lon' : float(re.json()[0].get('lon'))}, ignore_index=True)\n",
      "C:\\Users\\PC\\AppData\\Local\\Temp\\ipykernel_16912\\776442892.py:10: FutureWarning: The frame.append method is deprecated and will be removed from pandas in a future version. Use pandas.concat instead.\n",
      "  data_coord_cities=data_coord_cities.append({'city' : city , 'lat' : float(re.json()[0].get('lat')), 'lon' : float(re.json()[0].get('lon'))}, ignore_index=True)\n",
      "C:\\Users\\PC\\AppData\\Local\\Temp\\ipykernel_16912\\776442892.py:10: FutureWarning: The frame.append method is deprecated and will be removed from pandas in a future version. Use pandas.concat instead.\n",
      "  data_coord_cities=data_coord_cities.append({'city' : city , 'lat' : float(re.json()[0].get('lat')), 'lon' : float(re.json()[0].get('lon'))}, ignore_index=True)\n",
      "C:\\Users\\PC\\AppData\\Local\\Temp\\ipykernel_16912\\776442892.py:10: FutureWarning: The frame.append method is deprecated and will be removed from pandas in a future version. Use pandas.concat instead.\n",
      "  data_coord_cities=data_coord_cities.append({'city' : city , 'lat' : float(re.json()[0].get('lat')), 'lon' : float(re.json()[0].get('lon'))}, ignore_index=True)\n",
      "C:\\Users\\PC\\AppData\\Local\\Temp\\ipykernel_16912\\776442892.py:10: FutureWarning: The frame.append method is deprecated and will be removed from pandas in a future version. Use pandas.concat instead.\n",
      "  data_coord_cities=data_coord_cities.append({'city' : city , 'lat' : float(re.json()[0].get('lat')), 'lon' : float(re.json()[0].get('lon'))}, ignore_index=True)\n",
      "C:\\Users\\PC\\AppData\\Local\\Temp\\ipykernel_16912\\776442892.py:10: FutureWarning: The frame.append method is deprecated and will be removed from pandas in a future version. Use pandas.concat instead.\n",
      "  data_coord_cities=data_coord_cities.append({'city' : city , 'lat' : float(re.json()[0].get('lat')), 'lon' : float(re.json()[0].get('lon'))}, ignore_index=True)\n",
      "C:\\Users\\PC\\AppData\\Local\\Temp\\ipykernel_16912\\776442892.py:10: FutureWarning: The frame.append method is deprecated and will be removed from pandas in a future version. Use pandas.concat instead.\n",
      "  data_coord_cities=data_coord_cities.append({'city' : city , 'lat' : float(re.json()[0].get('lat')), 'lon' : float(re.json()[0].get('lon'))}, ignore_index=True)\n",
      "C:\\Users\\PC\\AppData\\Local\\Temp\\ipykernel_16912\\776442892.py:10: FutureWarning: The frame.append method is deprecated and will be removed from pandas in a future version. Use pandas.concat instead.\n",
      "  data_coord_cities=data_coord_cities.append({'city' : city , 'lat' : float(re.json()[0].get('lat')), 'lon' : float(re.json()[0].get('lon'))}, ignore_index=True)\n",
      "C:\\Users\\PC\\AppData\\Local\\Temp\\ipykernel_16912\\776442892.py:10: FutureWarning: The frame.append method is deprecated and will be removed from pandas in a future version. Use pandas.concat instead.\n",
      "  data_coord_cities=data_coord_cities.append({'city' : city , 'lat' : float(re.json()[0].get('lat')), 'lon' : float(re.json()[0].get('lon'))}, ignore_index=True)\n"
     ]
    },
    {
     "name": "stdout",
     "output_type": "stream",
     "text": [
      "Impossible d'insérer latitude et longitude pour Ariege...\n"
     ]
    },
    {
     "name": "stderr",
     "output_type": "stream",
     "text": [
      "C:\\Users\\PC\\AppData\\Local\\Temp\\ipykernel_16912\\776442892.py:10: FutureWarning: The frame.append method is deprecated and will be removed from pandas in a future version. Use pandas.concat instead.\n",
      "  data_coord_cities=data_coord_cities.append({'city' : city , 'lat' : float(re.json()[0].get('lat')), 'lon' : float(re.json()[0].get('lon'))}, ignore_index=True)\n",
      "C:\\Users\\PC\\AppData\\Local\\Temp\\ipykernel_16912\\776442892.py:10: FutureWarning: The frame.append method is deprecated and will be removed from pandas in a future version. Use pandas.concat instead.\n",
      "  data_coord_cities=data_coord_cities.append({'city' : city , 'lat' : float(re.json()[0].get('lat')), 'lon' : float(re.json()[0].get('lon'))}, ignore_index=True)\n",
      "C:\\Users\\PC\\AppData\\Local\\Temp\\ipykernel_16912\\776442892.py:10: FutureWarning: The frame.append method is deprecated and will be removed from pandas in a future version. Use pandas.concat instead.\n",
      "  data_coord_cities=data_coord_cities.append({'city' : city , 'lat' : float(re.json()[0].get('lat')), 'lon' : float(re.json()[0].get('lon'))}, ignore_index=True)\n",
      "C:\\Users\\PC\\AppData\\Local\\Temp\\ipykernel_16912\\776442892.py:10: FutureWarning: The frame.append method is deprecated and will be removed from pandas in a future version. Use pandas.concat instead.\n",
      "  data_coord_cities=data_coord_cities.append({'city' : city , 'lat' : float(re.json()[0].get('lat')), 'lon' : float(re.json()[0].get('lon'))}, ignore_index=True)\n",
      "C:\\Users\\PC\\AppData\\Local\\Temp\\ipykernel_16912\\776442892.py:10: FutureWarning: The frame.append method is deprecated and will be removed from pandas in a future version. Use pandas.concat instead.\n",
      "  data_coord_cities=data_coord_cities.append({'city' : city , 'lat' : float(re.json()[0].get('lat')), 'lon' : float(re.json()[0].get('lon'))}, ignore_index=True)\n"
     ]
    }
   ],
   "source": [
    "\n",
    "for city in list_cities:\n",
    "    try:\n",
    "        re = requests.get(f\"https://nominatim.openstreetmap.org/search?city='{city}'&place='city'&country='France'&format=json\")\n",
    "        if re.status_code>=400:\n",
    "            print(f\"Bad Request pour ... {city} !...\")\n",
    "    except:\n",
    "        print('Impossible de requêter {}...'.format(city))\n",
    "    else:\n",
    "        try:\n",
    "            data_coord_cities=data_coord_cities.append({'city' : city , 'lat' : float(re.json()[0].get('lat')), 'lon' : float(re.json()[0].get('lon'))}, ignore_index=True)\n",
    "        except:\n",
    "            print(f'Impossible d\\'insérer latitude et longitude pour {city}...')"
   ]
  },
  {
   "cell_type": "code",
   "execution_count": 52,
   "metadata": {},
   "outputs": [
    {
     "name": "stderr",
     "output_type": "stream",
     "text": [
      "C:\\Users\\PC\\AppData\\Local\\Temp\\ipykernel_16912\\2211174094.py:1: FutureWarning: The frame.append method is deprecated and will be removed from pandas in a future version. Use pandas.concat instead.\n",
      "  data_coord_cities = data_coord_cities.append([{'city' : 'Gorges du Verdon','lat' : 43.7496562, 'lon' : 6.3285616},{'city' : 'Ariege','lat' : 42.9455368, 'lon' : 1.4065544156065486}], ignore_index=True)\n"
     ]
    }
   ],
   "source": [
    "data_coord_cities = data_coord_cities.append([{'city' : 'Gorges du Verdon','lat' : 43.7496562, 'lon' : 6.3285616},{'city' : 'Ariege','lat' : 42.9455368, 'lon' : 1.4065544156065486}], ignore_index=True)"
   ]
  },
  {
   "cell_type": "code",
   "execution_count": 53,
   "metadata": {},
   "outputs": [
    {
     "data": {
      "text/plain": [
       "city    object\n",
       "lat     object\n",
       "lon     object\n",
       "dtype: object"
      ]
     },
     "execution_count": 53,
     "metadata": {},
     "output_type": "execute_result"
    }
   ],
   "source": [
    "data_coord_cities.dtypes"
   ]
  },
  {
   "cell_type": "code",
   "execution_count": 54,
   "metadata": {},
   "outputs": [],
   "source": [
    "data_coord_cities['lat']=data_coord_cities['lat'].map(lambda s : float(s))\n",
    "data_coord_cities['lon']=data_coord_cities['lon'].map(lambda s : float(s))"
   ]
  },
  {
   "cell_type": "code",
   "execution_count": 55,
   "metadata": {},
   "outputs": [
    {
     "data": {
      "text/plain": [
       "city     object\n",
       "lat     float64\n",
       "lon     float64\n",
       "dtype: object"
      ]
     },
     "execution_count": 55,
     "metadata": {},
     "output_type": "execute_result"
    }
   ],
   "source": [
    "data_coord_cities.dtypes"
   ]
  },
  {
   "cell_type": "code",
   "execution_count": 67,
   "metadata": {},
   "outputs": [
    {
     "data": {
      "application/vnd.plotly.v1+json": {
       "config": {
        "plotlyServerURL": "https://plot.ly"
       },
       "data": [
        {
         "hovertemplate": "<b>%{hovertext}</b><br><br>lat=%{lat}<br>lon=%{lon}<extra></extra>",
         "hovertext": [
          "Mont Saint Michel",
          "St Malo",
          "Bayeux",
          "Le Havre",
          "Rouen",
          "Paris",
          "Amiens",
          "Lille",
          "Strasbourg",
          "Chateau du Haut Koenigsbourg",
          "Colmar",
          "Eguisheim",
          "Besancon",
          "Dijon",
          "Annecy",
          "Grenoble",
          "Lyon",
          "Bormes les Mimosas",
          "Cassis",
          "Marseille",
          "Aix en Provence",
          "Avignon",
          "Uzes",
          "Nimes",
          "Aigues Mortes",
          "Saintes Maries de la mer",
          "Collioure",
          "Carcassonne",
          "Toulouse",
          "Montauban",
          "Biarritz",
          "Bayonne",
          "La Rochelle",
          "Gorges du Verdon",
          "Ariege"
         ],
         "lat": [
          48.6359541,
          48.649518,
          49.2764624,
          49.4938975,
          49.4404591,
          48.8588897,
          49.8941708,
          50.6365654,
          48.584614,
          48.2495226,
          48.0777517,
          48.0447968,
          47.2380222,
          47.3215806,
          45.8992348,
          45.1875602,
          45.7578137,
          43.1506968,
          43.2140359,
          43.2961743,
          43.5298424,
          43.9492493,
          44.0121279,
          43.8374249,
          43.5658225,
          43.4522771,
          42.52505,
          43.2130358,
          43.6044622,
          44.0175835,
          43.4832523,
          43.4945144,
          46.1591126,
          43.7496562,
          42.9455368
         ],
         "legendgroup": "",
         "lon": [
          -1.511459954959514,
          -2.0260409,
          -0.7024738,
          0.1079732,
          1.0939658,
          2.3200410217200766,
          2.2956951,
          3.0635282,
          7.7507127,
          7.3454923,
          7.3579641,
          7.3079618,
          6.0243622,
          5.0414701,
          6.1288847,
          5.7357819,
          4.8320114,
          6.3419285,
          5.5396318,
          5.3699525,
          5.4474738,
          4.8059012,
          4.4196718,
          4.3600687,
          4.1912837,
          4.4287172,
          3.0831554,
          2.3491069,
          1.4442469,
          1.3549991,
          -1.5592776,
          -1.4736657,
          -1.1520434,
          6.3285616,
          1.4065544156065486
         ],
         "marker": {
          "color": "#636efa"
         },
         "mode": "markers",
         "name": "",
         "showlegend": false,
         "subplot": "mapbox",
         "type": "scattermapbox"
        }
       ],
       "layout": {
        "legend": {
         "tracegroupgap": 0
        },
        "mapbox": {
         "center": {
          "lat": 45.84133338571428,
          "lon": 3.3957753337819163
         },
         "domain": {
          "x": [
           0,
           1
          ],
          "y": [
           0,
           1
          ]
         },
         "style": "open-street-map",
         "zoom": 3.5
        },
        "template": {
         "data": {
          "bar": [
           {
            "error_x": {
             "color": "#2a3f5f"
            },
            "error_y": {
             "color": "#2a3f5f"
            },
            "marker": {
             "line": {
              "color": "#E5ECF6",
              "width": 0.5
             },
             "pattern": {
              "fillmode": "overlay",
              "size": 10,
              "solidity": 0.2
             }
            },
            "type": "bar"
           }
          ],
          "barpolar": [
           {
            "marker": {
             "line": {
              "color": "#E5ECF6",
              "width": 0.5
             },
             "pattern": {
              "fillmode": "overlay",
              "size": 10,
              "solidity": 0.2
             }
            },
            "type": "barpolar"
           }
          ],
          "carpet": [
           {
            "aaxis": {
             "endlinecolor": "#2a3f5f",
             "gridcolor": "white",
             "linecolor": "white",
             "minorgridcolor": "white",
             "startlinecolor": "#2a3f5f"
            },
            "baxis": {
             "endlinecolor": "#2a3f5f",
             "gridcolor": "white",
             "linecolor": "white",
             "minorgridcolor": "white",
             "startlinecolor": "#2a3f5f"
            },
            "type": "carpet"
           }
          ],
          "choropleth": [
           {
            "colorbar": {
             "outlinewidth": 0,
             "ticks": ""
            },
            "type": "choropleth"
           }
          ],
          "contour": [
           {
            "colorbar": {
             "outlinewidth": 0,
             "ticks": ""
            },
            "colorscale": [
             [
              0,
              "#0d0887"
             ],
             [
              0.1111111111111111,
              "#46039f"
             ],
             [
              0.2222222222222222,
              "#7201a8"
             ],
             [
              0.3333333333333333,
              "#9c179e"
             ],
             [
              0.4444444444444444,
              "#bd3786"
             ],
             [
              0.5555555555555556,
              "#d8576b"
             ],
             [
              0.6666666666666666,
              "#ed7953"
             ],
             [
              0.7777777777777778,
              "#fb9f3a"
             ],
             [
              0.8888888888888888,
              "#fdca26"
             ],
             [
              1,
              "#f0f921"
             ]
            ],
            "type": "contour"
           }
          ],
          "contourcarpet": [
           {
            "colorbar": {
             "outlinewidth": 0,
             "ticks": ""
            },
            "type": "contourcarpet"
           }
          ],
          "heatmap": [
           {
            "colorbar": {
             "outlinewidth": 0,
             "ticks": ""
            },
            "colorscale": [
             [
              0,
              "#0d0887"
             ],
             [
              0.1111111111111111,
              "#46039f"
             ],
             [
              0.2222222222222222,
              "#7201a8"
             ],
             [
              0.3333333333333333,
              "#9c179e"
             ],
             [
              0.4444444444444444,
              "#bd3786"
             ],
             [
              0.5555555555555556,
              "#d8576b"
             ],
             [
              0.6666666666666666,
              "#ed7953"
             ],
             [
              0.7777777777777778,
              "#fb9f3a"
             ],
             [
              0.8888888888888888,
              "#fdca26"
             ],
             [
              1,
              "#f0f921"
             ]
            ],
            "type": "heatmap"
           }
          ],
          "heatmapgl": [
           {
            "colorbar": {
             "outlinewidth": 0,
             "ticks": ""
            },
            "colorscale": [
             [
              0,
              "#0d0887"
             ],
             [
              0.1111111111111111,
              "#46039f"
             ],
             [
              0.2222222222222222,
              "#7201a8"
             ],
             [
              0.3333333333333333,
              "#9c179e"
             ],
             [
              0.4444444444444444,
              "#bd3786"
             ],
             [
              0.5555555555555556,
              "#d8576b"
             ],
             [
              0.6666666666666666,
              "#ed7953"
             ],
             [
              0.7777777777777778,
              "#fb9f3a"
             ],
             [
              0.8888888888888888,
              "#fdca26"
             ],
             [
              1,
              "#f0f921"
             ]
            ],
            "type": "heatmapgl"
           }
          ],
          "histogram": [
           {
            "marker": {
             "pattern": {
              "fillmode": "overlay",
              "size": 10,
              "solidity": 0.2
             }
            },
            "type": "histogram"
           }
          ],
          "histogram2d": [
           {
            "colorbar": {
             "outlinewidth": 0,
             "ticks": ""
            },
            "colorscale": [
             [
              0,
              "#0d0887"
             ],
             [
              0.1111111111111111,
              "#46039f"
             ],
             [
              0.2222222222222222,
              "#7201a8"
             ],
             [
              0.3333333333333333,
              "#9c179e"
             ],
             [
              0.4444444444444444,
              "#bd3786"
             ],
             [
              0.5555555555555556,
              "#d8576b"
             ],
             [
              0.6666666666666666,
              "#ed7953"
             ],
             [
              0.7777777777777778,
              "#fb9f3a"
             ],
             [
              0.8888888888888888,
              "#fdca26"
             ],
             [
              1,
              "#f0f921"
             ]
            ],
            "type": "histogram2d"
           }
          ],
          "histogram2dcontour": [
           {
            "colorbar": {
             "outlinewidth": 0,
             "ticks": ""
            },
            "colorscale": [
             [
              0,
              "#0d0887"
             ],
             [
              0.1111111111111111,
              "#46039f"
             ],
             [
              0.2222222222222222,
              "#7201a8"
             ],
             [
              0.3333333333333333,
              "#9c179e"
             ],
             [
              0.4444444444444444,
              "#bd3786"
             ],
             [
              0.5555555555555556,
              "#d8576b"
             ],
             [
              0.6666666666666666,
              "#ed7953"
             ],
             [
              0.7777777777777778,
              "#fb9f3a"
             ],
             [
              0.8888888888888888,
              "#fdca26"
             ],
             [
              1,
              "#f0f921"
             ]
            ],
            "type": "histogram2dcontour"
           }
          ],
          "mesh3d": [
           {
            "colorbar": {
             "outlinewidth": 0,
             "ticks": ""
            },
            "type": "mesh3d"
           }
          ],
          "parcoords": [
           {
            "line": {
             "colorbar": {
              "outlinewidth": 0,
              "ticks": ""
             }
            },
            "type": "parcoords"
           }
          ],
          "pie": [
           {
            "automargin": true,
            "type": "pie"
           }
          ],
          "scatter": [
           {
            "marker": {
             "colorbar": {
              "outlinewidth": 0,
              "ticks": ""
             }
            },
            "type": "scatter"
           }
          ],
          "scatter3d": [
           {
            "line": {
             "colorbar": {
              "outlinewidth": 0,
              "ticks": ""
             }
            },
            "marker": {
             "colorbar": {
              "outlinewidth": 0,
              "ticks": ""
             }
            },
            "type": "scatter3d"
           }
          ],
          "scattercarpet": [
           {
            "marker": {
             "colorbar": {
              "outlinewidth": 0,
              "ticks": ""
             }
            },
            "type": "scattercarpet"
           }
          ],
          "scattergeo": [
           {
            "marker": {
             "colorbar": {
              "outlinewidth": 0,
              "ticks": ""
             }
            },
            "type": "scattergeo"
           }
          ],
          "scattergl": [
           {
            "marker": {
             "colorbar": {
              "outlinewidth": 0,
              "ticks": ""
             }
            },
            "type": "scattergl"
           }
          ],
          "scattermapbox": [
           {
            "marker": {
             "colorbar": {
              "outlinewidth": 0,
              "ticks": ""
             }
            },
            "type": "scattermapbox"
           }
          ],
          "scatterpolar": [
           {
            "marker": {
             "colorbar": {
              "outlinewidth": 0,
              "ticks": ""
             }
            },
            "type": "scatterpolar"
           }
          ],
          "scatterpolargl": [
           {
            "marker": {
             "colorbar": {
              "outlinewidth": 0,
              "ticks": ""
             }
            },
            "type": "scatterpolargl"
           }
          ],
          "scatterternary": [
           {
            "marker": {
             "colorbar": {
              "outlinewidth": 0,
              "ticks": ""
             }
            },
            "type": "scatterternary"
           }
          ],
          "surface": [
           {
            "colorbar": {
             "outlinewidth": 0,
             "ticks": ""
            },
            "colorscale": [
             [
              0,
              "#0d0887"
             ],
             [
              0.1111111111111111,
              "#46039f"
             ],
             [
              0.2222222222222222,
              "#7201a8"
             ],
             [
              0.3333333333333333,
              "#9c179e"
             ],
             [
              0.4444444444444444,
              "#bd3786"
             ],
             [
              0.5555555555555556,
              "#d8576b"
             ],
             [
              0.6666666666666666,
              "#ed7953"
             ],
             [
              0.7777777777777778,
              "#fb9f3a"
             ],
             [
              0.8888888888888888,
              "#fdca26"
             ],
             [
              1,
              "#f0f921"
             ]
            ],
            "type": "surface"
           }
          ],
          "table": [
           {
            "cells": {
             "fill": {
              "color": "#EBF0F8"
             },
             "line": {
              "color": "white"
             }
            },
            "header": {
             "fill": {
              "color": "#C8D4E3"
             },
             "line": {
              "color": "white"
             }
            },
            "type": "table"
           }
          ]
         },
         "layout": {
          "annotationdefaults": {
           "arrowcolor": "#2a3f5f",
           "arrowhead": 0,
           "arrowwidth": 1
          },
          "autotypenumbers": "strict",
          "coloraxis": {
           "colorbar": {
            "outlinewidth": 0,
            "ticks": ""
           }
          },
          "colorscale": {
           "diverging": [
            [
             0,
             "#8e0152"
            ],
            [
             0.1,
             "#c51b7d"
            ],
            [
             0.2,
             "#de77ae"
            ],
            [
             0.3,
             "#f1b6da"
            ],
            [
             0.4,
             "#fde0ef"
            ],
            [
             0.5,
             "#f7f7f7"
            ],
            [
             0.6,
             "#e6f5d0"
            ],
            [
             0.7,
             "#b8e186"
            ],
            [
             0.8,
             "#7fbc41"
            ],
            [
             0.9,
             "#4d9221"
            ],
            [
             1,
             "#276419"
            ]
           ],
           "sequential": [
            [
             0,
             "#0d0887"
            ],
            [
             0.1111111111111111,
             "#46039f"
            ],
            [
             0.2222222222222222,
             "#7201a8"
            ],
            [
             0.3333333333333333,
             "#9c179e"
            ],
            [
             0.4444444444444444,
             "#bd3786"
            ],
            [
             0.5555555555555556,
             "#d8576b"
            ],
            [
             0.6666666666666666,
             "#ed7953"
            ],
            [
             0.7777777777777778,
             "#fb9f3a"
            ],
            [
             0.8888888888888888,
             "#fdca26"
            ],
            [
             1,
             "#f0f921"
            ]
           ],
           "sequentialminus": [
            [
             0,
             "#0d0887"
            ],
            [
             0.1111111111111111,
             "#46039f"
            ],
            [
             0.2222222222222222,
             "#7201a8"
            ],
            [
             0.3333333333333333,
             "#9c179e"
            ],
            [
             0.4444444444444444,
             "#bd3786"
            ],
            [
             0.5555555555555556,
             "#d8576b"
            ],
            [
             0.6666666666666666,
             "#ed7953"
            ],
            [
             0.7777777777777778,
             "#fb9f3a"
            ],
            [
             0.8888888888888888,
             "#fdca26"
            ],
            [
             1,
             "#f0f921"
            ]
           ]
          },
          "colorway": [
           "#636efa",
           "#EF553B",
           "#00cc96",
           "#ab63fa",
           "#FFA15A",
           "#19d3f3",
           "#FF6692",
           "#B6E880",
           "#FF97FF",
           "#FECB52"
          ],
          "font": {
           "color": "#2a3f5f"
          },
          "geo": {
           "bgcolor": "white",
           "lakecolor": "white",
           "landcolor": "#E5ECF6",
           "showlakes": true,
           "showland": true,
           "subunitcolor": "white"
          },
          "hoverlabel": {
           "align": "left"
          },
          "hovermode": "closest",
          "mapbox": {
           "style": "light"
          },
          "paper_bgcolor": "white",
          "plot_bgcolor": "#E5ECF6",
          "polar": {
           "angularaxis": {
            "gridcolor": "white",
            "linecolor": "white",
            "ticks": ""
           },
           "bgcolor": "#E5ECF6",
           "radialaxis": {
            "gridcolor": "white",
            "linecolor": "white",
            "ticks": ""
           }
          },
          "scene": {
           "xaxis": {
            "backgroundcolor": "#E5ECF6",
            "gridcolor": "white",
            "gridwidth": 2,
            "linecolor": "white",
            "showbackground": true,
            "ticks": "",
            "zerolinecolor": "white"
           },
           "yaxis": {
            "backgroundcolor": "#E5ECF6",
            "gridcolor": "white",
            "gridwidth": 2,
            "linecolor": "white",
            "showbackground": true,
            "ticks": "",
            "zerolinecolor": "white"
           },
           "zaxis": {
            "backgroundcolor": "#E5ECF6",
            "gridcolor": "white",
            "gridwidth": 2,
            "linecolor": "white",
            "showbackground": true,
            "ticks": "",
            "zerolinecolor": "white"
           }
          },
          "shapedefaults": {
           "line": {
            "color": "#2a3f5f"
           }
          },
          "ternary": {
           "aaxis": {
            "gridcolor": "white",
            "linecolor": "white",
            "ticks": ""
           },
           "baxis": {
            "gridcolor": "white",
            "linecolor": "white",
            "ticks": ""
           },
           "bgcolor": "#E5ECF6",
           "caxis": {
            "gridcolor": "white",
            "linecolor": "white",
            "ticks": ""
           }
          },
          "title": {
           "x": 0.05
          },
          "xaxis": {
           "automargin": true,
           "gridcolor": "white",
           "linecolor": "white",
           "ticks": "",
           "title": {
            "standoff": 15
           },
           "zerolinecolor": "white",
           "zerolinewidth": 2
          },
          "yaxis": {
           "automargin": true,
           "gridcolor": "white",
           "linecolor": "white",
           "ticks": "",
           "title": {
            "standoff": 15
           },
           "zerolinecolor": "white",
           "zerolinewidth": 2
          }
         }
        },
        "title": {
         "text": "Geographic repartition of the 35 best touristic destination"
        }
       }
      }
     },
     "metadata": {},
     "output_type": "display_data"
    }
   ],
   "source": [
    "import plotly.express as px\n",
    "fig = px.scatter_mapbox(data_coord_cities,\n",
    "                        lat='lat',\n",
    "                        lon='lon',\n",
    "                        hover_name='city',\n",
    "                        title='Geographic repartition of the 35 best touristic destination',\n",
    "                        zoom=3.5,\n",
    "                        mapbox_style='open-street-map')\n",
    "fig.show()"
   ]
  }
 ],
 "metadata": {
  "kernelspec": {
   "display_name": "Python 3.9.12 ('base')",
   "language": "python",
   "name": "python3"
  },
  "language_info": {
   "codemirror_mode": {
    "name": "ipython",
    "version": 3
   },
   "file_extension": ".py",
   "mimetype": "text/x-python",
   "name": "python",
   "nbconvert_exporter": "python",
   "pygments_lexer": "ipython3",
   "version": "3.9.12"
  },
  "orig_nbformat": 4,
  "vscode": {
   "interpreter": {
    "hash": "1cca9558bc5ad879ec93cc030b157d75f18267527c60932cecaace349eef54dd"
   }
  }
 },
 "nbformat": 4,
 "nbformat_minor": 2
}
