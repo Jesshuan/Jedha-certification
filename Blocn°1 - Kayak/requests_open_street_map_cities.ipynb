{
 "cells": [
  {
   "cell_type": "code",
   "execution_count": 48,
   "metadata": {},
   "outputs": [],
   "source": [
    "import requests\n",
    "import pandas as pd\n",
    "import numpy as np"
   ]
  },
  {
   "cell_type": "code",
   "execution_count": 2,
   "metadata": {},
   "outputs": [],
   "source": [
    "list_src = pd.read_csv('src/top35_list_cities.txt').reset_index()\n",
    "list_cities = list_src['Cities'].to_list()"
   ]
  },
  {
   "cell_type": "code",
   "execution_count": 3,
   "metadata": {},
   "outputs": [],
   "source": [
    "data_coord_cities=pd.DataFrame(columns=['city','lat','lon'])"
   ]
  },
  {
   "cell_type": "code",
   "execution_count": 4,
   "metadata": {},
   "outputs": [
    {
     "data": {
      "text/html": [
       "<div>\n",
       "<style scoped>\n",
       "    .dataframe tbody tr th:only-of-type {\n",
       "        vertical-align: middle;\n",
       "    }\n",
       "\n",
       "    .dataframe tbody tr th {\n",
       "        vertical-align: top;\n",
       "    }\n",
       "\n",
       "    .dataframe thead th {\n",
       "        text-align: right;\n",
       "    }\n",
       "</style>\n",
       "<table border=\"1\" class=\"dataframe\">\n",
       "  <thead>\n",
       "    <tr style=\"text-align: right;\">\n",
       "      <th></th>\n",
       "      <th>city</th>\n",
       "      <th>lat</th>\n",
       "      <th>lon</th>\n",
       "    </tr>\n",
       "  </thead>\n",
       "  <tbody>\n",
       "  </tbody>\n",
       "</table>\n",
       "</div>"
      ],
      "text/plain": [
       "Empty DataFrame\n",
       "Columns: [city, lat, lon]\n",
       "Index: []"
      ]
     },
     "execution_count": 4,
     "metadata": {},
     "output_type": "execute_result"
    }
   ],
   "source": [
    "data_coord_cities"
   ]
  },
  {
   "cell_type": "code",
   "execution_count": 5,
   "metadata": {},
   "outputs": [
    {
     "name": "stderr",
     "output_type": "stream",
     "text": [
      "C:\\Users\\PC\\AppData\\Local\\Temp\\ipykernel_20984\\776442892.py:10: FutureWarning: The frame.append method is deprecated and will be removed from pandas in a future version. Use pandas.concat instead.\n",
      "  data_coord_cities=data_coord_cities.append({'city' : city , 'lat' : float(re.json()[0].get('lat')), 'lon' : float(re.json()[0].get('lon'))}, ignore_index=True)\n",
      "C:\\Users\\PC\\AppData\\Local\\Temp\\ipykernel_20984\\776442892.py:10: FutureWarning: The frame.append method is deprecated and will be removed from pandas in a future version. Use pandas.concat instead.\n",
      "  data_coord_cities=data_coord_cities.append({'city' : city , 'lat' : float(re.json()[0].get('lat')), 'lon' : float(re.json()[0].get('lon'))}, ignore_index=True)\n",
      "C:\\Users\\PC\\AppData\\Local\\Temp\\ipykernel_20984\\776442892.py:10: FutureWarning: The frame.append method is deprecated and will be removed from pandas in a future version. Use pandas.concat instead.\n",
      "  data_coord_cities=data_coord_cities.append({'city' : city , 'lat' : float(re.json()[0].get('lat')), 'lon' : float(re.json()[0].get('lon'))}, ignore_index=True)\n",
      "C:\\Users\\PC\\AppData\\Local\\Temp\\ipykernel_20984\\776442892.py:10: FutureWarning: The frame.append method is deprecated and will be removed from pandas in a future version. Use pandas.concat instead.\n",
      "  data_coord_cities=data_coord_cities.append({'city' : city , 'lat' : float(re.json()[0].get('lat')), 'lon' : float(re.json()[0].get('lon'))}, ignore_index=True)\n",
      "C:\\Users\\PC\\AppData\\Local\\Temp\\ipykernel_20984\\776442892.py:10: FutureWarning: The frame.append method is deprecated and will be removed from pandas in a future version. Use pandas.concat instead.\n",
      "  data_coord_cities=data_coord_cities.append({'city' : city , 'lat' : float(re.json()[0].get('lat')), 'lon' : float(re.json()[0].get('lon'))}, ignore_index=True)\n",
      "C:\\Users\\PC\\AppData\\Local\\Temp\\ipykernel_20984\\776442892.py:10: FutureWarning: The frame.append method is deprecated and will be removed from pandas in a future version. Use pandas.concat instead.\n",
      "  data_coord_cities=data_coord_cities.append({'city' : city , 'lat' : float(re.json()[0].get('lat')), 'lon' : float(re.json()[0].get('lon'))}, ignore_index=True)\n",
      "C:\\Users\\PC\\AppData\\Local\\Temp\\ipykernel_20984\\776442892.py:10: FutureWarning: The frame.append method is deprecated and will be removed from pandas in a future version. Use pandas.concat instead.\n",
      "  data_coord_cities=data_coord_cities.append({'city' : city , 'lat' : float(re.json()[0].get('lat')), 'lon' : float(re.json()[0].get('lon'))}, ignore_index=True)\n",
      "C:\\Users\\PC\\AppData\\Local\\Temp\\ipykernel_20984\\776442892.py:10: FutureWarning: The frame.append method is deprecated and will be removed from pandas in a future version. Use pandas.concat instead.\n",
      "  data_coord_cities=data_coord_cities.append({'city' : city , 'lat' : float(re.json()[0].get('lat')), 'lon' : float(re.json()[0].get('lon'))}, ignore_index=True)\n",
      "C:\\Users\\PC\\AppData\\Local\\Temp\\ipykernel_20984\\776442892.py:10: FutureWarning: The frame.append method is deprecated and will be removed from pandas in a future version. Use pandas.concat instead.\n",
      "  data_coord_cities=data_coord_cities.append({'city' : city , 'lat' : float(re.json()[0].get('lat')), 'lon' : float(re.json()[0].get('lon'))}, ignore_index=True)\n",
      "C:\\Users\\PC\\AppData\\Local\\Temp\\ipykernel_20984\\776442892.py:10: FutureWarning: The frame.append method is deprecated and will be removed from pandas in a future version. Use pandas.concat instead.\n",
      "  data_coord_cities=data_coord_cities.append({'city' : city , 'lat' : float(re.json()[0].get('lat')), 'lon' : float(re.json()[0].get('lon'))}, ignore_index=True)\n",
      "C:\\Users\\PC\\AppData\\Local\\Temp\\ipykernel_20984\\776442892.py:10: FutureWarning: The frame.append method is deprecated and will be removed from pandas in a future version. Use pandas.concat instead.\n",
      "  data_coord_cities=data_coord_cities.append({'city' : city , 'lat' : float(re.json()[0].get('lat')), 'lon' : float(re.json()[0].get('lon'))}, ignore_index=True)\n",
      "C:\\Users\\PC\\AppData\\Local\\Temp\\ipykernel_20984\\776442892.py:10: FutureWarning: The frame.append method is deprecated and will be removed from pandas in a future version. Use pandas.concat instead.\n",
      "  data_coord_cities=data_coord_cities.append({'city' : city , 'lat' : float(re.json()[0].get('lat')), 'lon' : float(re.json()[0].get('lon'))}, ignore_index=True)\n",
      "C:\\Users\\PC\\AppData\\Local\\Temp\\ipykernel_20984\\776442892.py:10: FutureWarning: The frame.append method is deprecated and will be removed from pandas in a future version. Use pandas.concat instead.\n",
      "  data_coord_cities=data_coord_cities.append({'city' : city , 'lat' : float(re.json()[0].get('lat')), 'lon' : float(re.json()[0].get('lon'))}, ignore_index=True)\n",
      "C:\\Users\\PC\\AppData\\Local\\Temp\\ipykernel_20984\\776442892.py:10: FutureWarning: The frame.append method is deprecated and will be removed from pandas in a future version. Use pandas.concat instead.\n",
      "  data_coord_cities=data_coord_cities.append({'city' : city , 'lat' : float(re.json()[0].get('lat')), 'lon' : float(re.json()[0].get('lon'))}, ignore_index=True)\n",
      "C:\\Users\\PC\\AppData\\Local\\Temp\\ipykernel_20984\\776442892.py:10: FutureWarning: The frame.append method is deprecated and will be removed from pandas in a future version. Use pandas.concat instead.\n",
      "  data_coord_cities=data_coord_cities.append({'city' : city , 'lat' : float(re.json()[0].get('lat')), 'lon' : float(re.json()[0].get('lon'))}, ignore_index=True)\n",
      "C:\\Users\\PC\\AppData\\Local\\Temp\\ipykernel_20984\\776442892.py:10: FutureWarning: The frame.append method is deprecated and will be removed from pandas in a future version. Use pandas.concat instead.\n",
      "  data_coord_cities=data_coord_cities.append({'city' : city , 'lat' : float(re.json()[0].get('lat')), 'lon' : float(re.json()[0].get('lon'))}, ignore_index=True)\n",
      "C:\\Users\\PC\\AppData\\Local\\Temp\\ipykernel_20984\\776442892.py:10: FutureWarning: The frame.append method is deprecated and will be removed from pandas in a future version. Use pandas.concat instead.\n",
      "  data_coord_cities=data_coord_cities.append({'city' : city , 'lat' : float(re.json()[0].get('lat')), 'lon' : float(re.json()[0].get('lon'))}, ignore_index=True)\n"
     ]
    },
    {
     "name": "stdout",
     "output_type": "stream",
     "text": [
      "Impossible d'insérer latitude et longitude pour Gorges du Verdon...\n"
     ]
    },
    {
     "name": "stderr",
     "output_type": "stream",
     "text": [
      "C:\\Users\\PC\\AppData\\Local\\Temp\\ipykernel_20984\\776442892.py:10: FutureWarning: The frame.append method is deprecated and will be removed from pandas in a future version. Use pandas.concat instead.\n",
      "  data_coord_cities=data_coord_cities.append({'city' : city , 'lat' : float(re.json()[0].get('lat')), 'lon' : float(re.json()[0].get('lon'))}, ignore_index=True)\n",
      "C:\\Users\\PC\\AppData\\Local\\Temp\\ipykernel_20984\\776442892.py:10: FutureWarning: The frame.append method is deprecated and will be removed from pandas in a future version. Use pandas.concat instead.\n",
      "  data_coord_cities=data_coord_cities.append({'city' : city , 'lat' : float(re.json()[0].get('lat')), 'lon' : float(re.json()[0].get('lon'))}, ignore_index=True)\n",
      "C:\\Users\\PC\\AppData\\Local\\Temp\\ipykernel_20984\\776442892.py:10: FutureWarning: The frame.append method is deprecated and will be removed from pandas in a future version. Use pandas.concat instead.\n",
      "  data_coord_cities=data_coord_cities.append({'city' : city , 'lat' : float(re.json()[0].get('lat')), 'lon' : float(re.json()[0].get('lon'))}, ignore_index=True)\n",
      "C:\\Users\\PC\\AppData\\Local\\Temp\\ipykernel_20984\\776442892.py:10: FutureWarning: The frame.append method is deprecated and will be removed from pandas in a future version. Use pandas.concat instead.\n",
      "  data_coord_cities=data_coord_cities.append({'city' : city , 'lat' : float(re.json()[0].get('lat')), 'lon' : float(re.json()[0].get('lon'))}, ignore_index=True)\n",
      "C:\\Users\\PC\\AppData\\Local\\Temp\\ipykernel_20984\\776442892.py:10: FutureWarning: The frame.append method is deprecated and will be removed from pandas in a future version. Use pandas.concat instead.\n",
      "  data_coord_cities=data_coord_cities.append({'city' : city , 'lat' : float(re.json()[0].get('lat')), 'lon' : float(re.json()[0].get('lon'))}, ignore_index=True)\n",
      "C:\\Users\\PC\\AppData\\Local\\Temp\\ipykernel_20984\\776442892.py:10: FutureWarning: The frame.append method is deprecated and will be removed from pandas in a future version. Use pandas.concat instead.\n",
      "  data_coord_cities=data_coord_cities.append({'city' : city , 'lat' : float(re.json()[0].get('lat')), 'lon' : float(re.json()[0].get('lon'))}, ignore_index=True)\n",
      "C:\\Users\\PC\\AppData\\Local\\Temp\\ipykernel_20984\\776442892.py:10: FutureWarning: The frame.append method is deprecated and will be removed from pandas in a future version. Use pandas.concat instead.\n",
      "  data_coord_cities=data_coord_cities.append({'city' : city , 'lat' : float(re.json()[0].get('lat')), 'lon' : float(re.json()[0].get('lon'))}, ignore_index=True)\n",
      "C:\\Users\\PC\\AppData\\Local\\Temp\\ipykernel_20984\\776442892.py:10: FutureWarning: The frame.append method is deprecated and will be removed from pandas in a future version. Use pandas.concat instead.\n",
      "  data_coord_cities=data_coord_cities.append({'city' : city , 'lat' : float(re.json()[0].get('lat')), 'lon' : float(re.json()[0].get('lon'))}, ignore_index=True)\n",
      "C:\\Users\\PC\\AppData\\Local\\Temp\\ipykernel_20984\\776442892.py:10: FutureWarning: The frame.append method is deprecated and will be removed from pandas in a future version. Use pandas.concat instead.\n",
      "  data_coord_cities=data_coord_cities.append({'city' : city , 'lat' : float(re.json()[0].get('lat')), 'lon' : float(re.json()[0].get('lon'))}, ignore_index=True)\n",
      "C:\\Users\\PC\\AppData\\Local\\Temp\\ipykernel_20984\\776442892.py:10: FutureWarning: The frame.append method is deprecated and will be removed from pandas in a future version. Use pandas.concat instead.\n",
      "  data_coord_cities=data_coord_cities.append({'city' : city , 'lat' : float(re.json()[0].get('lat')), 'lon' : float(re.json()[0].get('lon'))}, ignore_index=True)\n",
      "C:\\Users\\PC\\AppData\\Local\\Temp\\ipykernel_20984\\776442892.py:10: FutureWarning: The frame.append method is deprecated and will be removed from pandas in a future version. Use pandas.concat instead.\n",
      "  data_coord_cities=data_coord_cities.append({'city' : city , 'lat' : float(re.json()[0].get('lat')), 'lon' : float(re.json()[0].get('lon'))}, ignore_index=True)\n"
     ]
    },
    {
     "name": "stdout",
     "output_type": "stream",
     "text": [
      "Impossible d'insérer latitude et longitude pour Ariege...\n"
     ]
    },
    {
     "name": "stderr",
     "output_type": "stream",
     "text": [
      "C:\\Users\\PC\\AppData\\Local\\Temp\\ipykernel_20984\\776442892.py:10: FutureWarning: The frame.append method is deprecated and will be removed from pandas in a future version. Use pandas.concat instead.\n",
      "  data_coord_cities=data_coord_cities.append({'city' : city , 'lat' : float(re.json()[0].get('lat')), 'lon' : float(re.json()[0].get('lon'))}, ignore_index=True)\n",
      "C:\\Users\\PC\\AppData\\Local\\Temp\\ipykernel_20984\\776442892.py:10: FutureWarning: The frame.append method is deprecated and will be removed from pandas in a future version. Use pandas.concat instead.\n",
      "  data_coord_cities=data_coord_cities.append({'city' : city , 'lat' : float(re.json()[0].get('lat')), 'lon' : float(re.json()[0].get('lon'))}, ignore_index=True)\n",
      "C:\\Users\\PC\\AppData\\Local\\Temp\\ipykernel_20984\\776442892.py:10: FutureWarning: The frame.append method is deprecated and will be removed from pandas in a future version. Use pandas.concat instead.\n",
      "  data_coord_cities=data_coord_cities.append({'city' : city , 'lat' : float(re.json()[0].get('lat')), 'lon' : float(re.json()[0].get('lon'))}, ignore_index=True)\n",
      "C:\\Users\\PC\\AppData\\Local\\Temp\\ipykernel_20984\\776442892.py:10: FutureWarning: The frame.append method is deprecated and will be removed from pandas in a future version. Use pandas.concat instead.\n",
      "  data_coord_cities=data_coord_cities.append({'city' : city , 'lat' : float(re.json()[0].get('lat')), 'lon' : float(re.json()[0].get('lon'))}, ignore_index=True)\n",
      "C:\\Users\\PC\\AppData\\Local\\Temp\\ipykernel_20984\\776442892.py:10: FutureWarning: The frame.append method is deprecated and will be removed from pandas in a future version. Use pandas.concat instead.\n",
      "  data_coord_cities=data_coord_cities.append({'city' : city , 'lat' : float(re.json()[0].get('lat')), 'lon' : float(re.json()[0].get('lon'))}, ignore_index=True)\n"
     ]
    }
   ],
   "source": [
    "\n",
    "for city in list_cities:\n",
    "    try:\n",
    "        re = requests.get(f\"https://nominatim.openstreetmap.org/search?city='{city}'&place='city'&country='France'&format=json\")\n",
    "        if re.status_code>=400:\n",
    "            print(f\"Bad Request pour ... {city} !...\")\n",
    "    except:\n",
    "        print('Impossible de requêter {}...'.format(city))\n",
    "    else:\n",
    "        try:\n",
    "            data_coord_cities=data_coord_cities.append({'city' : city , 'lat' : float(re.json()[0].get('lat')), 'lon' : float(re.json()[0].get('lon'))}, ignore_index=True)\n",
    "        except:\n",
    "            print(f'Impossible d\\'insérer latitude et longitude pour {city}...')"
   ]
  },
  {
   "cell_type": "code",
   "execution_count": 6,
   "metadata": {},
   "outputs": [
    {
     "name": "stderr",
     "output_type": "stream",
     "text": [
      "C:\\Users\\PC\\AppData\\Local\\Temp\\ipykernel_20984\\2211174094.py:1: FutureWarning: The frame.append method is deprecated and will be removed from pandas in a future version. Use pandas.concat instead.\n",
      "  data_coord_cities = data_coord_cities.append([{'city' : 'Gorges du Verdon','lat' : 43.7496562, 'lon' : 6.3285616},{'city' : 'Ariege','lat' : 42.9455368, 'lon' : 1.4065544156065486}], ignore_index=True)\n"
     ]
    }
   ],
   "source": [
    "data_coord_cities = data_coord_cities.append([{'city' : 'Gorges du Verdon','lat' : 43.7496562, 'lon' : 6.3285616},{'city' : 'Ariege','lat' : 42.9455368, 'lon' : 1.4065544156065486}], ignore_index=True)"
   ]
  },
  {
   "cell_type": "code",
   "execution_count": 7,
   "metadata": {},
   "outputs": [
    {
     "data": {
      "text/plain": [
       "city    object\n",
       "lat     object\n",
       "lon     object\n",
       "dtype: object"
      ]
     },
     "execution_count": 7,
     "metadata": {},
     "output_type": "execute_result"
    }
   ],
   "source": [
    "data_coord_cities.dtypes"
   ]
  },
  {
   "cell_type": "code",
   "execution_count": 8,
   "metadata": {},
   "outputs": [],
   "source": [
    "data_coord_cities['lat']=data_coord_cities['lat'].map(lambda s : float(s))\n",
    "data_coord_cities['lon']=data_coord_cities['lon'].map(lambda s : float(s))"
   ]
  },
  {
   "cell_type": "code",
   "execution_count": 9,
   "metadata": {},
   "outputs": [
    {
     "data": {
      "text/plain": [
       "city     object\n",
       "lat     float64\n",
       "lon     float64\n",
       "dtype: object"
      ]
     },
     "execution_count": 9,
     "metadata": {},
     "output_type": "execute_result"
    }
   ],
   "source": [
    "data_coord_cities.dtypes"
   ]
  },
  {
   "cell_type": "code",
   "execution_count": 14,
   "metadata": {},
   "outputs": [
    {
     "data": {
      "text/html": [
       "<div>\n",
       "<style scoped>\n",
       "    .dataframe tbody tr th:only-of-type {\n",
       "        vertical-align: middle;\n",
       "    }\n",
       "\n",
       "    .dataframe tbody tr th {\n",
       "        vertical-align: top;\n",
       "    }\n",
       "\n",
       "    .dataframe thead th {\n",
       "        text-align: right;\n",
       "    }\n",
       "</style>\n",
       "<table border=\"1\" class=\"dataframe\">\n",
       "  <thead>\n",
       "    <tr style=\"text-align: right;\">\n",
       "      <th></th>\n",
       "      <th>city</th>\n",
       "      <th>lat</th>\n",
       "      <th>lon</th>\n",
       "    </tr>\n",
       "  </thead>\n",
       "  <tbody>\n",
       "    <tr>\n",
       "      <th>0</th>\n",
       "      <td>Mont Saint Michel</td>\n",
       "      <td>48.635954</td>\n",
       "      <td>-1.511460</td>\n",
       "    </tr>\n",
       "    <tr>\n",
       "      <th>1</th>\n",
       "      <td>St Malo</td>\n",
       "      <td>48.649518</td>\n",
       "      <td>-2.026041</td>\n",
       "    </tr>\n",
       "    <tr>\n",
       "      <th>2</th>\n",
       "      <td>Bayeux</td>\n",
       "      <td>49.276462</td>\n",
       "      <td>-0.702474</td>\n",
       "    </tr>\n",
       "    <tr>\n",
       "      <th>3</th>\n",
       "      <td>Le Havre</td>\n",
       "      <td>49.493898</td>\n",
       "      <td>0.107973</td>\n",
       "    </tr>\n",
       "    <tr>\n",
       "      <th>4</th>\n",
       "      <td>Rouen</td>\n",
       "      <td>49.440459</td>\n",
       "      <td>1.093966</td>\n",
       "    </tr>\n",
       "    <tr>\n",
       "      <th>5</th>\n",
       "      <td>Paris</td>\n",
       "      <td>48.858890</td>\n",
       "      <td>2.320041</td>\n",
       "    </tr>\n",
       "    <tr>\n",
       "      <th>6</th>\n",
       "      <td>Amiens</td>\n",
       "      <td>49.894171</td>\n",
       "      <td>2.295695</td>\n",
       "    </tr>\n",
       "    <tr>\n",
       "      <th>7</th>\n",
       "      <td>Lille</td>\n",
       "      <td>50.636565</td>\n",
       "      <td>3.063528</td>\n",
       "    </tr>\n",
       "    <tr>\n",
       "      <th>8</th>\n",
       "      <td>Strasbourg</td>\n",
       "      <td>48.584614</td>\n",
       "      <td>7.750713</td>\n",
       "    </tr>\n",
       "    <tr>\n",
       "      <th>9</th>\n",
       "      <td>Chateau du Haut Koenigsbourg</td>\n",
       "      <td>48.249523</td>\n",
       "      <td>7.345492</td>\n",
       "    </tr>\n",
       "    <tr>\n",
       "      <th>10</th>\n",
       "      <td>Colmar</td>\n",
       "      <td>48.077752</td>\n",
       "      <td>7.357964</td>\n",
       "    </tr>\n",
       "    <tr>\n",
       "      <th>11</th>\n",
       "      <td>Eguisheim</td>\n",
       "      <td>48.044797</td>\n",
       "      <td>7.307962</td>\n",
       "    </tr>\n",
       "    <tr>\n",
       "      <th>12</th>\n",
       "      <td>Besancon</td>\n",
       "      <td>47.238022</td>\n",
       "      <td>6.024362</td>\n",
       "    </tr>\n",
       "    <tr>\n",
       "      <th>13</th>\n",
       "      <td>Dijon</td>\n",
       "      <td>47.321581</td>\n",
       "      <td>5.041470</td>\n",
       "    </tr>\n",
       "    <tr>\n",
       "      <th>14</th>\n",
       "      <td>Annecy</td>\n",
       "      <td>45.899235</td>\n",
       "      <td>6.128885</td>\n",
       "    </tr>\n",
       "    <tr>\n",
       "      <th>15</th>\n",
       "      <td>Grenoble</td>\n",
       "      <td>45.187560</td>\n",
       "      <td>5.735782</td>\n",
       "    </tr>\n",
       "    <tr>\n",
       "      <th>16</th>\n",
       "      <td>Lyon</td>\n",
       "      <td>45.757814</td>\n",
       "      <td>4.832011</td>\n",
       "    </tr>\n",
       "    <tr>\n",
       "      <th>17</th>\n",
       "      <td>Bormes les Mimosas</td>\n",
       "      <td>43.150697</td>\n",
       "      <td>6.341928</td>\n",
       "    </tr>\n",
       "    <tr>\n",
       "      <th>18</th>\n",
       "      <td>Cassis</td>\n",
       "      <td>43.214036</td>\n",
       "      <td>5.539632</td>\n",
       "    </tr>\n",
       "    <tr>\n",
       "      <th>19</th>\n",
       "      <td>Marseille</td>\n",
       "      <td>43.296174</td>\n",
       "      <td>5.369953</td>\n",
       "    </tr>\n",
       "    <tr>\n",
       "      <th>20</th>\n",
       "      <td>Aix en Provence</td>\n",
       "      <td>43.529842</td>\n",
       "      <td>5.447474</td>\n",
       "    </tr>\n",
       "    <tr>\n",
       "      <th>21</th>\n",
       "      <td>Avignon</td>\n",
       "      <td>43.949249</td>\n",
       "      <td>4.805901</td>\n",
       "    </tr>\n",
       "    <tr>\n",
       "      <th>22</th>\n",
       "      <td>Uzes</td>\n",
       "      <td>44.012128</td>\n",
       "      <td>4.419672</td>\n",
       "    </tr>\n",
       "    <tr>\n",
       "      <th>23</th>\n",
       "      <td>Nimes</td>\n",
       "      <td>43.837425</td>\n",
       "      <td>4.360069</td>\n",
       "    </tr>\n",
       "    <tr>\n",
       "      <th>24</th>\n",
       "      <td>Aigues Mortes</td>\n",
       "      <td>43.565823</td>\n",
       "      <td>4.191284</td>\n",
       "    </tr>\n",
       "    <tr>\n",
       "      <th>25</th>\n",
       "      <td>Saintes Maries de la mer</td>\n",
       "      <td>43.452277</td>\n",
       "      <td>4.428717</td>\n",
       "    </tr>\n",
       "    <tr>\n",
       "      <th>26</th>\n",
       "      <td>Collioure</td>\n",
       "      <td>42.525050</td>\n",
       "      <td>3.083155</td>\n",
       "    </tr>\n",
       "    <tr>\n",
       "      <th>27</th>\n",
       "      <td>Carcassonne</td>\n",
       "      <td>43.213036</td>\n",
       "      <td>2.349107</td>\n",
       "    </tr>\n",
       "    <tr>\n",
       "      <th>28</th>\n",
       "      <td>Toulouse</td>\n",
       "      <td>43.604462</td>\n",
       "      <td>1.444247</td>\n",
       "    </tr>\n",
       "    <tr>\n",
       "      <th>29</th>\n",
       "      <td>Montauban</td>\n",
       "      <td>44.017584</td>\n",
       "      <td>1.354999</td>\n",
       "    </tr>\n",
       "    <tr>\n",
       "      <th>30</th>\n",
       "      <td>Biarritz</td>\n",
       "      <td>43.483252</td>\n",
       "      <td>-1.559278</td>\n",
       "    </tr>\n",
       "    <tr>\n",
       "      <th>31</th>\n",
       "      <td>Bayonne</td>\n",
       "      <td>43.494514</td>\n",
       "      <td>-1.473666</td>\n",
       "    </tr>\n",
       "    <tr>\n",
       "      <th>32</th>\n",
       "      <td>La Rochelle</td>\n",
       "      <td>46.159113</td>\n",
       "      <td>-1.152043</td>\n",
       "    </tr>\n",
       "    <tr>\n",
       "      <th>33</th>\n",
       "      <td>Gorges du Verdon</td>\n",
       "      <td>43.749656</td>\n",
       "      <td>6.328562</td>\n",
       "    </tr>\n",
       "    <tr>\n",
       "      <th>34</th>\n",
       "      <td>Ariege</td>\n",
       "      <td>42.945537</td>\n",
       "      <td>1.406554</td>\n",
       "    </tr>\n",
       "  </tbody>\n",
       "</table>\n",
       "</div>"
      ],
      "text/plain": [
       "                            city        lat       lon\n",
       "0              Mont Saint Michel  48.635954 -1.511460\n",
       "1                        St Malo  48.649518 -2.026041\n",
       "2                         Bayeux  49.276462 -0.702474\n",
       "3                       Le Havre  49.493898  0.107973\n",
       "4                          Rouen  49.440459  1.093966\n",
       "5                          Paris  48.858890  2.320041\n",
       "6                         Amiens  49.894171  2.295695\n",
       "7                          Lille  50.636565  3.063528\n",
       "8                     Strasbourg  48.584614  7.750713\n",
       "9   Chateau du Haut Koenigsbourg  48.249523  7.345492\n",
       "10                        Colmar  48.077752  7.357964\n",
       "11                     Eguisheim  48.044797  7.307962\n",
       "12                      Besancon  47.238022  6.024362\n",
       "13                         Dijon  47.321581  5.041470\n",
       "14                        Annecy  45.899235  6.128885\n",
       "15                      Grenoble  45.187560  5.735782\n",
       "16                          Lyon  45.757814  4.832011\n",
       "17            Bormes les Mimosas  43.150697  6.341928\n",
       "18                        Cassis  43.214036  5.539632\n",
       "19                     Marseille  43.296174  5.369953\n",
       "20               Aix en Provence  43.529842  5.447474\n",
       "21                       Avignon  43.949249  4.805901\n",
       "22                          Uzes  44.012128  4.419672\n",
       "23                         Nimes  43.837425  4.360069\n",
       "24                 Aigues Mortes  43.565823  4.191284\n",
       "25      Saintes Maries de la mer  43.452277  4.428717\n",
       "26                     Collioure  42.525050  3.083155\n",
       "27                   Carcassonne  43.213036  2.349107\n",
       "28                      Toulouse  43.604462  1.444247\n",
       "29                     Montauban  44.017584  1.354999\n",
       "30                      Biarritz  43.483252 -1.559278\n",
       "31                       Bayonne  43.494514 -1.473666\n",
       "32                   La Rochelle  46.159113 -1.152043\n",
       "33              Gorges du Verdon  43.749656  6.328562\n",
       "34                        Ariege  42.945537  1.406554"
      ]
     },
     "execution_count": 14,
     "metadata": {},
     "output_type": "execute_result"
    }
   ],
   "source": [
    "data_coord_cities"
   ]
  },
  {
   "cell_type": "code",
   "execution_count": 10,
   "metadata": {},
   "outputs": [
    {
     "data": {
      "application/vnd.plotly.v1+json": {
       "config": {
        "plotlyServerURL": "https://plot.ly"
       },
       "data": [
        {
         "hovertemplate": "<b>%{hovertext}</b><br><br>lat=%{lat}<br>lon=%{lon}<extra></extra>",
         "hovertext": [
          "Mont Saint Michel",
          "St Malo",
          "Bayeux",
          "Le Havre",
          "Rouen",
          "Paris",
          "Amiens",
          "Lille",
          "Strasbourg",
          "Chateau du Haut Koenigsbourg",
          "Colmar",
          "Eguisheim",
          "Besancon",
          "Dijon",
          "Annecy",
          "Grenoble",
          "Lyon",
          "Bormes les Mimosas",
          "Cassis",
          "Marseille",
          "Aix en Provence",
          "Avignon",
          "Uzes",
          "Nimes",
          "Aigues Mortes",
          "Saintes Maries de la mer",
          "Collioure",
          "Carcassonne",
          "Toulouse",
          "Montauban",
          "Biarritz",
          "Bayonne",
          "La Rochelle",
          "Gorges du Verdon",
          "Ariege"
         ],
         "lat": [
          48.6359541,
          48.649518,
          49.2764624,
          49.4938975,
          49.4404591,
          48.8588897,
          49.8941708,
          50.6365654,
          48.584614,
          48.2495226,
          48.0777517,
          48.0447968,
          47.2380222,
          47.3215806,
          45.8992348,
          45.1875602,
          45.7578137,
          43.1506968,
          43.2140359,
          43.2961743,
          43.5298424,
          43.9492493,
          44.0121279,
          43.8374249,
          43.5658225,
          43.4522771,
          42.52505,
          43.2130358,
          43.6044622,
          44.0175835,
          43.4832523,
          43.4945144,
          46.1591126,
          43.7496562,
          42.9455368
         ],
         "legendgroup": "",
         "lon": [
          -1.511459954959514,
          -2.0260409,
          -0.7024738,
          0.1079732,
          1.0939658,
          2.3200410217200766,
          2.2956951,
          3.0635282,
          7.7507127,
          7.3454923,
          7.3579641,
          7.3079618,
          6.0243622,
          5.0414701,
          6.1288847,
          5.7357819,
          4.8320114,
          6.3419285,
          5.5396318,
          5.3699525,
          5.4474738,
          4.8059012,
          4.4196718,
          4.3600687,
          4.1912837,
          4.4287172,
          3.0831554,
          2.3491069,
          1.4442469,
          1.3549991,
          -1.5592776,
          -1.4736657,
          -1.1520434,
          6.3285616,
          1.4065544156065486
         ],
         "marker": {
          "color": "#636efa"
         },
         "mode": "markers",
         "name": "",
         "showlegend": false,
         "subplot": "mapbox",
         "type": "scattermapbox"
        }
       ],
       "layout": {
        "legend": {
         "tracegroupgap": 0
        },
        "mapbox": {
         "center": {
          "lat": 45.84133338571428,
          "lon": 3.3957753337819163
         },
         "domain": {
          "x": [
           0,
           1
          ],
          "y": [
           0,
           1
          ]
         },
         "style": "open-street-map",
         "zoom": 3.5
        },
        "template": {
         "data": {
          "bar": [
           {
            "error_x": {
             "color": "#2a3f5f"
            },
            "error_y": {
             "color": "#2a3f5f"
            },
            "marker": {
             "line": {
              "color": "#E5ECF6",
              "width": 0.5
             },
             "pattern": {
              "fillmode": "overlay",
              "size": 10,
              "solidity": 0.2
             }
            },
            "type": "bar"
           }
          ],
          "barpolar": [
           {
            "marker": {
             "line": {
              "color": "#E5ECF6",
              "width": 0.5
             },
             "pattern": {
              "fillmode": "overlay",
              "size": 10,
              "solidity": 0.2
             }
            },
            "type": "barpolar"
           }
          ],
          "carpet": [
           {
            "aaxis": {
             "endlinecolor": "#2a3f5f",
             "gridcolor": "white",
             "linecolor": "white",
             "minorgridcolor": "white",
             "startlinecolor": "#2a3f5f"
            },
            "baxis": {
             "endlinecolor": "#2a3f5f",
             "gridcolor": "white",
             "linecolor": "white",
             "minorgridcolor": "white",
             "startlinecolor": "#2a3f5f"
            },
            "type": "carpet"
           }
          ],
          "choropleth": [
           {
            "colorbar": {
             "outlinewidth": 0,
             "ticks": ""
            },
            "type": "choropleth"
           }
          ],
          "contour": [
           {
            "colorbar": {
             "outlinewidth": 0,
             "ticks": ""
            },
            "colorscale": [
             [
              0,
              "#0d0887"
             ],
             [
              0.1111111111111111,
              "#46039f"
             ],
             [
              0.2222222222222222,
              "#7201a8"
             ],
             [
              0.3333333333333333,
              "#9c179e"
             ],
             [
              0.4444444444444444,
              "#bd3786"
             ],
             [
              0.5555555555555556,
              "#d8576b"
             ],
             [
              0.6666666666666666,
              "#ed7953"
             ],
             [
              0.7777777777777778,
              "#fb9f3a"
             ],
             [
              0.8888888888888888,
              "#fdca26"
             ],
             [
              1,
              "#f0f921"
             ]
            ],
            "type": "contour"
           }
          ],
          "contourcarpet": [
           {
            "colorbar": {
             "outlinewidth": 0,
             "ticks": ""
            },
            "type": "contourcarpet"
           }
          ],
          "heatmap": [
           {
            "colorbar": {
             "outlinewidth": 0,
             "ticks": ""
            },
            "colorscale": [
             [
              0,
              "#0d0887"
             ],
             [
              0.1111111111111111,
              "#46039f"
             ],
             [
              0.2222222222222222,
              "#7201a8"
             ],
             [
              0.3333333333333333,
              "#9c179e"
             ],
             [
              0.4444444444444444,
              "#bd3786"
             ],
             [
              0.5555555555555556,
              "#d8576b"
             ],
             [
              0.6666666666666666,
              "#ed7953"
             ],
             [
              0.7777777777777778,
              "#fb9f3a"
             ],
             [
              0.8888888888888888,
              "#fdca26"
             ],
             [
              1,
              "#f0f921"
             ]
            ],
            "type": "heatmap"
           }
          ],
          "heatmapgl": [
           {
            "colorbar": {
             "outlinewidth": 0,
             "ticks": ""
            },
            "colorscale": [
             [
              0,
              "#0d0887"
             ],
             [
              0.1111111111111111,
              "#46039f"
             ],
             [
              0.2222222222222222,
              "#7201a8"
             ],
             [
              0.3333333333333333,
              "#9c179e"
             ],
             [
              0.4444444444444444,
              "#bd3786"
             ],
             [
              0.5555555555555556,
              "#d8576b"
             ],
             [
              0.6666666666666666,
              "#ed7953"
             ],
             [
              0.7777777777777778,
              "#fb9f3a"
             ],
             [
              0.8888888888888888,
              "#fdca26"
             ],
             [
              1,
              "#f0f921"
             ]
            ],
            "type": "heatmapgl"
           }
          ],
          "histogram": [
           {
            "marker": {
             "pattern": {
              "fillmode": "overlay",
              "size": 10,
              "solidity": 0.2
             }
            },
            "type": "histogram"
           }
          ],
          "histogram2d": [
           {
            "colorbar": {
             "outlinewidth": 0,
             "ticks": ""
            },
            "colorscale": [
             [
              0,
              "#0d0887"
             ],
             [
              0.1111111111111111,
              "#46039f"
             ],
             [
              0.2222222222222222,
              "#7201a8"
             ],
             [
              0.3333333333333333,
              "#9c179e"
             ],
             [
              0.4444444444444444,
              "#bd3786"
             ],
             [
              0.5555555555555556,
              "#d8576b"
             ],
             [
              0.6666666666666666,
              "#ed7953"
             ],
             [
              0.7777777777777778,
              "#fb9f3a"
             ],
             [
              0.8888888888888888,
              "#fdca26"
             ],
             [
              1,
              "#f0f921"
             ]
            ],
            "type": "histogram2d"
           }
          ],
          "histogram2dcontour": [
           {
            "colorbar": {
             "outlinewidth": 0,
             "ticks": ""
            },
            "colorscale": [
             [
              0,
              "#0d0887"
             ],
             [
              0.1111111111111111,
              "#46039f"
             ],
             [
              0.2222222222222222,
              "#7201a8"
             ],
             [
              0.3333333333333333,
              "#9c179e"
             ],
             [
              0.4444444444444444,
              "#bd3786"
             ],
             [
              0.5555555555555556,
              "#d8576b"
             ],
             [
              0.6666666666666666,
              "#ed7953"
             ],
             [
              0.7777777777777778,
              "#fb9f3a"
             ],
             [
              0.8888888888888888,
              "#fdca26"
             ],
             [
              1,
              "#f0f921"
             ]
            ],
            "type": "histogram2dcontour"
           }
          ],
          "mesh3d": [
           {
            "colorbar": {
             "outlinewidth": 0,
             "ticks": ""
            },
            "type": "mesh3d"
           }
          ],
          "parcoords": [
           {
            "line": {
             "colorbar": {
              "outlinewidth": 0,
              "ticks": ""
             }
            },
            "type": "parcoords"
           }
          ],
          "pie": [
           {
            "automargin": true,
            "type": "pie"
           }
          ],
          "scatter": [
           {
            "marker": {
             "colorbar": {
              "outlinewidth": 0,
              "ticks": ""
             }
            },
            "type": "scatter"
           }
          ],
          "scatter3d": [
           {
            "line": {
             "colorbar": {
              "outlinewidth": 0,
              "ticks": ""
             }
            },
            "marker": {
             "colorbar": {
              "outlinewidth": 0,
              "ticks": ""
             }
            },
            "type": "scatter3d"
           }
          ],
          "scattercarpet": [
           {
            "marker": {
             "colorbar": {
              "outlinewidth": 0,
              "ticks": ""
             }
            },
            "type": "scattercarpet"
           }
          ],
          "scattergeo": [
           {
            "marker": {
             "colorbar": {
              "outlinewidth": 0,
              "ticks": ""
             }
            },
            "type": "scattergeo"
           }
          ],
          "scattergl": [
           {
            "marker": {
             "colorbar": {
              "outlinewidth": 0,
              "ticks": ""
             }
            },
            "type": "scattergl"
           }
          ],
          "scattermapbox": [
           {
            "marker": {
             "colorbar": {
              "outlinewidth": 0,
              "ticks": ""
             }
            },
            "type": "scattermapbox"
           }
          ],
          "scatterpolar": [
           {
            "marker": {
             "colorbar": {
              "outlinewidth": 0,
              "ticks": ""
             }
            },
            "type": "scatterpolar"
           }
          ],
          "scatterpolargl": [
           {
            "marker": {
             "colorbar": {
              "outlinewidth": 0,
              "ticks": ""
             }
            },
            "type": "scatterpolargl"
           }
          ],
          "scatterternary": [
           {
            "marker": {
             "colorbar": {
              "outlinewidth": 0,
              "ticks": ""
             }
            },
            "type": "scatterternary"
           }
          ],
          "surface": [
           {
            "colorbar": {
             "outlinewidth": 0,
             "ticks": ""
            },
            "colorscale": [
             [
              0,
              "#0d0887"
             ],
             [
              0.1111111111111111,
              "#46039f"
             ],
             [
              0.2222222222222222,
              "#7201a8"
             ],
             [
              0.3333333333333333,
              "#9c179e"
             ],
             [
              0.4444444444444444,
              "#bd3786"
             ],
             [
              0.5555555555555556,
              "#d8576b"
             ],
             [
              0.6666666666666666,
              "#ed7953"
             ],
             [
              0.7777777777777778,
              "#fb9f3a"
             ],
             [
              0.8888888888888888,
              "#fdca26"
             ],
             [
              1,
              "#f0f921"
             ]
            ],
            "type": "surface"
           }
          ],
          "table": [
           {
            "cells": {
             "fill": {
              "color": "#EBF0F8"
             },
             "line": {
              "color": "white"
             }
            },
            "header": {
             "fill": {
              "color": "#C8D4E3"
             },
             "line": {
              "color": "white"
             }
            },
            "type": "table"
           }
          ]
         },
         "layout": {
          "annotationdefaults": {
           "arrowcolor": "#2a3f5f",
           "arrowhead": 0,
           "arrowwidth": 1
          },
          "autotypenumbers": "strict",
          "coloraxis": {
           "colorbar": {
            "outlinewidth": 0,
            "ticks": ""
           }
          },
          "colorscale": {
           "diverging": [
            [
             0,
             "#8e0152"
            ],
            [
             0.1,
             "#c51b7d"
            ],
            [
             0.2,
             "#de77ae"
            ],
            [
             0.3,
             "#f1b6da"
            ],
            [
             0.4,
             "#fde0ef"
            ],
            [
             0.5,
             "#f7f7f7"
            ],
            [
             0.6,
             "#e6f5d0"
            ],
            [
             0.7,
             "#b8e186"
            ],
            [
             0.8,
             "#7fbc41"
            ],
            [
             0.9,
             "#4d9221"
            ],
            [
             1,
             "#276419"
            ]
           ],
           "sequential": [
            [
             0,
             "#0d0887"
            ],
            [
             0.1111111111111111,
             "#46039f"
            ],
            [
             0.2222222222222222,
             "#7201a8"
            ],
            [
             0.3333333333333333,
             "#9c179e"
            ],
            [
             0.4444444444444444,
             "#bd3786"
            ],
            [
             0.5555555555555556,
             "#d8576b"
            ],
            [
             0.6666666666666666,
             "#ed7953"
            ],
            [
             0.7777777777777778,
             "#fb9f3a"
            ],
            [
             0.8888888888888888,
             "#fdca26"
            ],
            [
             1,
             "#f0f921"
            ]
           ],
           "sequentialminus": [
            [
             0,
             "#0d0887"
            ],
            [
             0.1111111111111111,
             "#46039f"
            ],
            [
             0.2222222222222222,
             "#7201a8"
            ],
            [
             0.3333333333333333,
             "#9c179e"
            ],
            [
             0.4444444444444444,
             "#bd3786"
            ],
            [
             0.5555555555555556,
             "#d8576b"
            ],
            [
             0.6666666666666666,
             "#ed7953"
            ],
            [
             0.7777777777777778,
             "#fb9f3a"
            ],
            [
             0.8888888888888888,
             "#fdca26"
            ],
            [
             1,
             "#f0f921"
            ]
           ]
          },
          "colorway": [
           "#636efa",
           "#EF553B",
           "#00cc96",
           "#ab63fa",
           "#FFA15A",
           "#19d3f3",
           "#FF6692",
           "#B6E880",
           "#FF97FF",
           "#FECB52"
          ],
          "font": {
           "color": "#2a3f5f"
          },
          "geo": {
           "bgcolor": "white",
           "lakecolor": "white",
           "landcolor": "#E5ECF6",
           "showlakes": true,
           "showland": true,
           "subunitcolor": "white"
          },
          "hoverlabel": {
           "align": "left"
          },
          "hovermode": "closest",
          "mapbox": {
           "style": "light"
          },
          "paper_bgcolor": "white",
          "plot_bgcolor": "#E5ECF6",
          "polar": {
           "angularaxis": {
            "gridcolor": "white",
            "linecolor": "white",
            "ticks": ""
           },
           "bgcolor": "#E5ECF6",
           "radialaxis": {
            "gridcolor": "white",
            "linecolor": "white",
            "ticks": ""
           }
          },
          "scene": {
           "xaxis": {
            "backgroundcolor": "#E5ECF6",
            "gridcolor": "white",
            "gridwidth": 2,
            "linecolor": "white",
            "showbackground": true,
            "ticks": "",
            "zerolinecolor": "white"
           },
           "yaxis": {
            "backgroundcolor": "#E5ECF6",
            "gridcolor": "white",
            "gridwidth": 2,
            "linecolor": "white",
            "showbackground": true,
            "ticks": "",
            "zerolinecolor": "white"
           },
           "zaxis": {
            "backgroundcolor": "#E5ECF6",
            "gridcolor": "white",
            "gridwidth": 2,
            "linecolor": "white",
            "showbackground": true,
            "ticks": "",
            "zerolinecolor": "white"
           }
          },
          "shapedefaults": {
           "line": {
            "color": "#2a3f5f"
           }
          },
          "ternary": {
           "aaxis": {
            "gridcolor": "white",
            "linecolor": "white",
            "ticks": ""
           },
           "baxis": {
            "gridcolor": "white",
            "linecolor": "white",
            "ticks": ""
           },
           "bgcolor": "#E5ECF6",
           "caxis": {
            "gridcolor": "white",
            "linecolor": "white",
            "ticks": ""
           }
          },
          "title": {
           "x": 0.05
          },
          "xaxis": {
           "automargin": true,
           "gridcolor": "white",
           "linecolor": "white",
           "ticks": "",
           "title": {
            "standoff": 15
           },
           "zerolinecolor": "white",
           "zerolinewidth": 2
          },
          "yaxis": {
           "automargin": true,
           "gridcolor": "white",
           "linecolor": "white",
           "ticks": "",
           "title": {
            "standoff": 15
           },
           "zerolinecolor": "white",
           "zerolinewidth": 2
          }
         }
        },
        "title": {
         "text": "Geographic repartition of the 35 best touristic destination"
        }
       }
      }
     },
     "metadata": {},
     "output_type": "display_data"
    }
   ],
   "source": [
    "import plotly.express as px\n",
    "fig = px.scatter_mapbox(data_coord_cities,\n",
    "                        lat='lat',\n",
    "                        lon='lon',\n",
    "                        hover_name='city',\n",
    "                        title='Geographic repartition of the 35 best touristic destination',\n",
    "                        zoom=3.5,\n",
    "                        mapbox_style='open-street-map')\n",
    "fig.show()"
   ]
  },
  {
   "cell_type": "code",
   "execution_count": 41,
   "metadata": {},
   "outputs": [],
   "source": [
    "nump_cities = data_coord_cities.to_numpy()"
   ]
  },
  {
   "cell_type": "code",
   "execution_count": 42,
   "metadata": {},
   "outputs": [
    {
     "data": {
      "text/plain": [
       "array(['Mont Saint Michel', 48.6359541, -1.511459954959514], dtype=object)"
      ]
     },
     "execution_count": 42,
     "metadata": {},
     "output_type": "execute_result"
    }
   ],
   "source": [
    "nump_cities[0]"
   ]
  },
  {
   "cell_type": "code",
   "execution_count": 103,
   "metadata": {},
   "outputs": [
    {
     "name": "stdout",
     "output_type": "stream",
     "text": [
      "200\n",
      "200\n",
      "200\n",
      "200\n",
      "200\n",
      "200\n",
      "200\n",
      "200\n",
      "200\n",
      "200\n",
      "200\n",
      "200\n",
      "200\n",
      "200\n",
      "200\n",
      "200\n",
      "200\n",
      "200\n",
      "200\n",
      "200\n",
      "200\n",
      "200\n",
      "200\n",
      "200\n",
      "200\n",
      "200\n",
      "200\n",
      "200\n",
      "200\n",
      "200\n",
      "200\n",
      "200\n",
      "200\n",
      "200\n",
      "200\n"
     ]
    }
   ],
   "source": [
    "from statistics import mode\n",
    "\n",
    "nb_cities=len(nump_cities)\n",
    "feels_list=np.empty(nb_cities)\n",
    "temp_avg_list=np.empty(nb_cities)\n",
    "humid_avg_list=np.empty(nb_cities)\n",
    "cloud_avg_list=np.chararray(nb_cities)\n",
    "cloud_avg_list[:]=''\n",
    "wind_avg_list=np.empty(nb_cities)\n",
    "pop_avg_list=np.empty(nb_cities)\n",
    "\n",
    "for i, line in enumerate((nump_cities)):\n",
    "    \n",
    "    re = requests.get(f'http://api.openweathermap.org/data/2.5/forecast?lat={line[1]}&lon={line[2]}&units=metric&appid=8daa8c48c89401da2829d329b367b1fc')\n",
    "    print(f'Request response for {line[0]} : {re.status_code}')\n",
    "\n",
    "    base_fc = re.json().get('list')\n",
    "    nb_forecast=len(base_fc)\n",
    "\n",
    "    feels_list[i]=np.mean([base_fc[fc].get('main').get('feels_like') for fc in range(nb_forecast)])\n",
    "    temp_avg_list[i]=np.mean([base_fc[fc].get('main').get('temp') for fc in range(nb_forecast)])\n",
    "    humid_avg_list[i]=np.mean([base_fc[fc].get('main').get('humidity') for fc in range(nb_forecast)])\n",
    "    cloud_avg_list[i]=mode([base_fc[fc].get('weather')[0].get('description') for fc in range(nb_forecast)])\n",
    "    wind_avg_list[i]=np.mean([base_fc[fc].get('wind').get('speed') for fc in range(nb_forecast)])\n",
    "    pop_avg_list[i]=np.mean([base_fc[fc].get('pop') for fc in range(nb_forecast)])"
   ]
  },
  {
   "cell_type": "code",
   "execution_count": 105,
   "metadata": {},
   "outputs": [],
   "source": [
    "data_coord_cities['feels_avg']=feels_list\n",
    "data_coord_cities['temp_avg']=temp_avg_list\n",
    "data_coord_cities['humid_avg']=humid_avg_list\n",
    "data_coord_cities['wind_avg']=wind_avg_list\n",
    "data_coord_cities['cloud_descr_avg']=cloud_avg_list\n",
    "data_coord_cities['pop_avg']=pop_avg_list"
   ]
  },
  {
   "cell_type": "code",
   "execution_count": 106,
   "metadata": {},
   "outputs": [
    {
     "data": {
      "text/html": [
       "<div>\n",
       "<style scoped>\n",
       "    .dataframe tbody tr th:only-of-type {\n",
       "        vertical-align: middle;\n",
       "    }\n",
       "\n",
       "    .dataframe tbody tr th {\n",
       "        vertical-align: top;\n",
       "    }\n",
       "\n",
       "    .dataframe thead th {\n",
       "        text-align: right;\n",
       "    }\n",
       "</style>\n",
       "<table border=\"1\" class=\"dataframe\">\n",
       "  <thead>\n",
       "    <tr style=\"text-align: right;\">\n",
       "      <th></th>\n",
       "      <th>city</th>\n",
       "      <th>lat</th>\n",
       "      <th>lon</th>\n",
       "      <th>feels_avg</th>\n",
       "      <th>temp_avg</th>\n",
       "      <th>humid_avg</th>\n",
       "      <th>wind_avg</th>\n",
       "      <th>cloud_descr_avg</th>\n",
       "      <th>pop_avg</th>\n",
       "    </tr>\n",
       "  </thead>\n",
       "  <tbody>\n",
       "    <tr>\n",
       "      <th>0</th>\n",
       "      <td>Mont Saint Michel</td>\n",
       "      <td>48.635954</td>\n",
       "      <td>-1.511460</td>\n",
       "      <td>15.14700</td>\n",
       "      <td>15.46825</td>\n",
       "      <td>79.500</td>\n",
       "      <td>3.96125</td>\n",
       "      <td>b'o'</td>\n",
       "      <td>0.10325</td>\n",
       "    </tr>\n",
       "    <tr>\n",
       "      <th>1</th>\n",
       "      <td>St Malo</td>\n",
       "      <td>48.649518</td>\n",
       "      <td>-2.026041</td>\n",
       "      <td>15.57125</td>\n",
       "      <td>15.89600</td>\n",
       "      <td>77.725</td>\n",
       "      <td>4.87150</td>\n",
       "      <td>b'o'</td>\n",
       "      <td>0.08475</td>\n",
       "    </tr>\n",
       "    <tr>\n",
       "      <th>2</th>\n",
       "      <td>Bayeux</td>\n",
       "      <td>49.276462</td>\n",
       "      <td>-0.702474</td>\n",
       "      <td>14.82550</td>\n",
       "      <td>15.19575</td>\n",
       "      <td>79.475</td>\n",
       "      <td>4.48500</td>\n",
       "      <td>b'o'</td>\n",
       "      <td>0.12850</td>\n",
       "    </tr>\n",
       "    <tr>\n",
       "      <th>3</th>\n",
       "      <td>Le Havre</td>\n",
       "      <td>49.493898</td>\n",
       "      <td>0.107973</td>\n",
       "      <td>15.82650</td>\n",
       "      <td>16.11775</td>\n",
       "      <td>78.175</td>\n",
       "      <td>5.04775</td>\n",
       "      <td>b'o'</td>\n",
       "      <td>0.12225</td>\n",
       "    </tr>\n",
       "    <tr>\n",
       "      <th>4</th>\n",
       "      <td>Rouen</td>\n",
       "      <td>49.440459</td>\n",
       "      <td>1.093966</td>\n",
       "      <td>15.28350</td>\n",
       "      <td>15.65625</td>\n",
       "      <td>76.825</td>\n",
       "      <td>3.57600</td>\n",
       "      <td>b'o'</td>\n",
       "      <td>0.08900</td>\n",
       "    </tr>\n",
       "    <tr>\n",
       "      <th>5</th>\n",
       "      <td>Paris</td>\n",
       "      <td>48.858890</td>\n",
       "      <td>2.320041</td>\n",
       "      <td>16.77150</td>\n",
       "      <td>17.22375</td>\n",
       "      <td>67.775</td>\n",
       "      <td>2.74075</td>\n",
       "      <td>b'o'</td>\n",
       "      <td>0.04200</td>\n",
       "    </tr>\n",
       "    <tr>\n",
       "      <th>6</th>\n",
       "      <td>Amiens</td>\n",
       "      <td>49.894171</td>\n",
       "      <td>2.295695</td>\n",
       "      <td>14.51950</td>\n",
       "      <td>14.96125</td>\n",
       "      <td>77.500</td>\n",
       "      <td>3.58550</td>\n",
       "      <td>b'o'</td>\n",
       "      <td>0.10750</td>\n",
       "    </tr>\n",
       "    <tr>\n",
       "      <th>7</th>\n",
       "      <td>Lille</td>\n",
       "      <td>50.636565</td>\n",
       "      <td>3.063528</td>\n",
       "      <td>14.16850</td>\n",
       "      <td>14.71175</td>\n",
       "      <td>72.950</td>\n",
       "      <td>3.58600</td>\n",
       "      <td>b'o'</td>\n",
       "      <td>0.09400</td>\n",
       "    </tr>\n",
       "    <tr>\n",
       "      <th>8</th>\n",
       "      <td>Strasbourg</td>\n",
       "      <td>48.584614</td>\n",
       "      <td>7.750713</td>\n",
       "      <td>13.70600</td>\n",
       "      <td>14.12875</td>\n",
       "      <td>80.100</td>\n",
       "      <td>2.37225</td>\n",
       "      <td>b'b'</td>\n",
       "      <td>0.16025</td>\n",
       "    </tr>\n",
       "    <tr>\n",
       "      <th>9</th>\n",
       "      <td>Chateau du Haut Koenigsbourg</td>\n",
       "      <td>48.249523</td>\n",
       "      <td>7.345492</td>\n",
       "      <td>11.43500</td>\n",
       "      <td>11.88700</td>\n",
       "      <td>81.700</td>\n",
       "      <td>1.77750</td>\n",
       "      <td>b'o'</td>\n",
       "      <td>0.17425</td>\n",
       "    </tr>\n",
       "    <tr>\n",
       "      <th>10</th>\n",
       "      <td>Colmar</td>\n",
       "      <td>48.077752</td>\n",
       "      <td>7.357964</td>\n",
       "      <td>14.80975</td>\n",
       "      <td>15.08800</td>\n",
       "      <td>80.975</td>\n",
       "      <td>2.04225</td>\n",
       "      <td>b'o'</td>\n",
       "      <td>0.17650</td>\n",
       "    </tr>\n",
       "    <tr>\n",
       "      <th>11</th>\n",
       "      <td>Eguisheim</td>\n",
       "      <td>48.044797</td>\n",
       "      <td>7.307962</td>\n",
       "      <td>14.95375</td>\n",
       "      <td>15.23250</td>\n",
       "      <td>80.975</td>\n",
       "      <td>1.93450</td>\n",
       "      <td>b'o'</td>\n",
       "      <td>0.17700</td>\n",
       "    </tr>\n",
       "    <tr>\n",
       "      <th>12</th>\n",
       "      <td>Besancon</td>\n",
       "      <td>47.238022</td>\n",
       "      <td>6.024362</td>\n",
       "      <td>14.50850</td>\n",
       "      <td>14.76475</td>\n",
       "      <td>83.525</td>\n",
       "      <td>2.29100</td>\n",
       "      <td>b'o'</td>\n",
       "      <td>0.19650</td>\n",
       "    </tr>\n",
       "    <tr>\n",
       "      <th>13</th>\n",
       "      <td>Dijon</td>\n",
       "      <td>47.321581</td>\n",
       "      <td>5.041470</td>\n",
       "      <td>14.59000</td>\n",
       "      <td>14.93400</td>\n",
       "      <td>81.100</td>\n",
       "      <td>2.58450</td>\n",
       "      <td>b'b'</td>\n",
       "      <td>0.10825</td>\n",
       "    </tr>\n",
       "    <tr>\n",
       "      <th>14</th>\n",
       "      <td>Annecy</td>\n",
       "      <td>45.899235</td>\n",
       "      <td>6.128885</td>\n",
       "      <td>14.81125</td>\n",
       "      <td>15.10625</td>\n",
       "      <td>81.500</td>\n",
       "      <td>1.35050</td>\n",
       "      <td>b'c'</td>\n",
       "      <td>0.10100</td>\n",
       "    </tr>\n",
       "    <tr>\n",
       "      <th>15</th>\n",
       "      <td>Grenoble</td>\n",
       "      <td>45.187560</td>\n",
       "      <td>5.735782</td>\n",
       "      <td>17.02250</td>\n",
       "      <td>17.21750</td>\n",
       "      <td>77.400</td>\n",
       "      <td>1.46750</td>\n",
       "      <td>b'c'</td>\n",
       "      <td>0.04275</td>\n",
       "    </tr>\n",
       "    <tr>\n",
       "      <th>16</th>\n",
       "      <td>Lyon</td>\n",
       "      <td>45.757814</td>\n",
       "      <td>4.832011</td>\n",
       "      <td>17.17375</td>\n",
       "      <td>17.52275</td>\n",
       "      <td>70.600</td>\n",
       "      <td>1.91675</td>\n",
       "      <td>b'c'</td>\n",
       "      <td>0.05225</td>\n",
       "    </tr>\n",
       "    <tr>\n",
       "      <th>17</th>\n",
       "      <td>Bormes les Mimosas</td>\n",
       "      <td>43.150697</td>\n",
       "      <td>6.341928</td>\n",
       "      <td>19.08850</td>\n",
       "      <td>19.31825</td>\n",
       "      <td>68.275</td>\n",
       "      <td>3.52400</td>\n",
       "      <td>b'c'</td>\n",
       "      <td>0.00000</td>\n",
       "    </tr>\n",
       "    <tr>\n",
       "      <th>18</th>\n",
       "      <td>Cassis</td>\n",
       "      <td>43.214036</td>\n",
       "      <td>5.539632</td>\n",
       "      <td>19.79725</td>\n",
       "      <td>20.03175</td>\n",
       "      <td>65.400</td>\n",
       "      <td>3.47025</td>\n",
       "      <td>b'c'</td>\n",
       "      <td>0.00000</td>\n",
       "    </tr>\n",
       "    <tr>\n",
       "      <th>19</th>\n",
       "      <td>Marseille</td>\n",
       "      <td>43.296174</td>\n",
       "      <td>5.369953</td>\n",
       "      <td>19.92500</td>\n",
       "      <td>20.13100</td>\n",
       "      <td>66.075</td>\n",
       "      <td>3.53175</td>\n",
       "      <td>b'c'</td>\n",
       "      <td>0.00000</td>\n",
       "    </tr>\n",
       "    <tr>\n",
       "      <th>20</th>\n",
       "      <td>Aix en Provence</td>\n",
       "      <td>43.529842</td>\n",
       "      <td>5.447474</td>\n",
       "      <td>19.06900</td>\n",
       "      <td>19.54650</td>\n",
       "      <td>57.925</td>\n",
       "      <td>2.52200</td>\n",
       "      <td>b'c'</td>\n",
       "      <td>0.00000</td>\n",
       "    </tr>\n",
       "    <tr>\n",
       "      <th>21</th>\n",
       "      <td>Avignon</td>\n",
       "      <td>43.949249</td>\n",
       "      <td>4.805901</td>\n",
       "      <td>18.78725</td>\n",
       "      <td>19.13400</td>\n",
       "      <td>64.100</td>\n",
       "      <td>3.21700</td>\n",
       "      <td>b'c'</td>\n",
       "      <td>0.00000</td>\n",
       "    </tr>\n",
       "    <tr>\n",
       "      <th>22</th>\n",
       "      <td>Uzes</td>\n",
       "      <td>44.012128</td>\n",
       "      <td>4.419672</td>\n",
       "      <td>17.79300</td>\n",
       "      <td>18.19450</td>\n",
       "      <td>66.150</td>\n",
       "      <td>2.78975</td>\n",
       "      <td>b'c'</td>\n",
       "      <td>0.00200</td>\n",
       "    </tr>\n",
       "    <tr>\n",
       "      <th>23</th>\n",
       "      <td>Nimes</td>\n",
       "      <td>43.837425</td>\n",
       "      <td>4.360069</td>\n",
       "      <td>18.84625</td>\n",
       "      <td>19.20500</td>\n",
       "      <td>63.900</td>\n",
       "      <td>2.66950</td>\n",
       "      <td>b'c'</td>\n",
       "      <td>0.00125</td>\n",
       "    </tr>\n",
       "    <tr>\n",
       "      <th>24</th>\n",
       "      <td>Aigues Mortes</td>\n",
       "      <td>43.565823</td>\n",
       "      <td>4.191284</td>\n",
       "      <td>19.27550</td>\n",
       "      <td>19.48550</td>\n",
       "      <td>68.375</td>\n",
       "      <td>2.59375</td>\n",
       "      <td>b'c'</td>\n",
       "      <td>0.00025</td>\n",
       "    </tr>\n",
       "    <tr>\n",
       "      <th>25</th>\n",
       "      <td>Saintes Maries de la mer</td>\n",
       "      <td>43.452277</td>\n",
       "      <td>4.428717</td>\n",
       "      <td>19.06975</td>\n",
       "      <td>19.21150</td>\n",
       "      <td>72.075</td>\n",
       "      <td>3.56975</td>\n",
       "      <td>b'c'</td>\n",
       "      <td>0.00000</td>\n",
       "    </tr>\n",
       "    <tr>\n",
       "      <th>26</th>\n",
       "      <td>Collioure</td>\n",
       "      <td>42.525050</td>\n",
       "      <td>3.083155</td>\n",
       "      <td>20.22525</td>\n",
       "      <td>20.33800</td>\n",
       "      <td>68.850</td>\n",
       "      <td>2.61325</td>\n",
       "      <td>b'o'</td>\n",
       "      <td>0.02000</td>\n",
       "    </tr>\n",
       "    <tr>\n",
       "      <th>27</th>\n",
       "      <td>Carcassonne</td>\n",
       "      <td>43.213036</td>\n",
       "      <td>2.349107</td>\n",
       "      <td>18.52775</td>\n",
       "      <td>18.78150</td>\n",
       "      <td>68.400</td>\n",
       "      <td>3.00375</td>\n",
       "      <td>b'o'</td>\n",
       "      <td>0.00825</td>\n",
       "    </tr>\n",
       "    <tr>\n",
       "      <th>28</th>\n",
       "      <td>Toulouse</td>\n",
       "      <td>43.604462</td>\n",
       "      <td>1.444247</td>\n",
       "      <td>18.09375</td>\n",
       "      <td>18.46050</td>\n",
       "      <td>66.325</td>\n",
       "      <td>1.99875</td>\n",
       "      <td>b'o'</td>\n",
       "      <td>0.00900</td>\n",
       "    </tr>\n",
       "    <tr>\n",
       "      <th>29</th>\n",
       "      <td>Montauban</td>\n",
       "      <td>44.017584</td>\n",
       "      <td>1.354999</td>\n",
       "      <td>17.75800</td>\n",
       "      <td>18.10650</td>\n",
       "      <td>68.275</td>\n",
       "      <td>1.69475</td>\n",
       "      <td>b'o'</td>\n",
       "      <td>0.00000</td>\n",
       "    </tr>\n",
       "    <tr>\n",
       "      <th>30</th>\n",
       "      <td>Biarritz</td>\n",
       "      <td>43.483252</td>\n",
       "      <td>-1.559278</td>\n",
       "      <td>17.60150</td>\n",
       "      <td>17.62600</td>\n",
       "      <td>82.600</td>\n",
       "      <td>2.11200</td>\n",
       "      <td>b'c'</td>\n",
       "      <td>0.01300</td>\n",
       "    </tr>\n",
       "    <tr>\n",
       "      <th>31</th>\n",
       "      <td>Bayonne</td>\n",
       "      <td>43.494514</td>\n",
       "      <td>-1.473666</td>\n",
       "      <td>17.56250</td>\n",
       "      <td>17.57825</td>\n",
       "      <td>83.150</td>\n",
       "      <td>1.96175</td>\n",
       "      <td>b'c'</td>\n",
       "      <td>0.01300</td>\n",
       "    </tr>\n",
       "    <tr>\n",
       "      <th>32</th>\n",
       "      <td>La Rochelle</td>\n",
       "      <td>46.159113</td>\n",
       "      <td>-1.152043</td>\n",
       "      <td>16.42125</td>\n",
       "      <td>16.54900</td>\n",
       "      <td>82.775</td>\n",
       "      <td>3.84400</td>\n",
       "      <td>b'c'</td>\n",
       "      <td>0.03675</td>\n",
       "    </tr>\n",
       "    <tr>\n",
       "      <th>33</th>\n",
       "      <td>Gorges du Verdon</td>\n",
       "      <td>43.749656</td>\n",
       "      <td>6.328562</td>\n",
       "      <td>14.12325</td>\n",
       "      <td>14.81650</td>\n",
       "      <td>67.750</td>\n",
       "      <td>2.40900</td>\n",
       "      <td>b'c'</td>\n",
       "      <td>0.00000</td>\n",
       "    </tr>\n",
       "    <tr>\n",
       "      <th>34</th>\n",
       "      <td>Ariege</td>\n",
       "      <td>42.945537</td>\n",
       "      <td>1.406554</td>\n",
       "      <td>12.36900</td>\n",
       "      <td>13.04725</td>\n",
       "      <td>70.650</td>\n",
       "      <td>1.66150</td>\n",
       "      <td>b'o'</td>\n",
       "      <td>0.04625</td>\n",
       "    </tr>\n",
       "  </tbody>\n",
       "</table>\n",
       "</div>"
      ],
      "text/plain": [
       "                            city        lat       lon  feels_avg  temp_avg  \\\n",
       "0              Mont Saint Michel  48.635954 -1.511460   15.14700  15.46825   \n",
       "1                        St Malo  48.649518 -2.026041   15.57125  15.89600   \n",
       "2                         Bayeux  49.276462 -0.702474   14.82550  15.19575   \n",
       "3                       Le Havre  49.493898  0.107973   15.82650  16.11775   \n",
       "4                          Rouen  49.440459  1.093966   15.28350  15.65625   \n",
       "5                          Paris  48.858890  2.320041   16.77150  17.22375   \n",
       "6                         Amiens  49.894171  2.295695   14.51950  14.96125   \n",
       "7                          Lille  50.636565  3.063528   14.16850  14.71175   \n",
       "8                     Strasbourg  48.584614  7.750713   13.70600  14.12875   \n",
       "9   Chateau du Haut Koenigsbourg  48.249523  7.345492   11.43500  11.88700   \n",
       "10                        Colmar  48.077752  7.357964   14.80975  15.08800   \n",
       "11                     Eguisheim  48.044797  7.307962   14.95375  15.23250   \n",
       "12                      Besancon  47.238022  6.024362   14.50850  14.76475   \n",
       "13                         Dijon  47.321581  5.041470   14.59000  14.93400   \n",
       "14                        Annecy  45.899235  6.128885   14.81125  15.10625   \n",
       "15                      Grenoble  45.187560  5.735782   17.02250  17.21750   \n",
       "16                          Lyon  45.757814  4.832011   17.17375  17.52275   \n",
       "17            Bormes les Mimosas  43.150697  6.341928   19.08850  19.31825   \n",
       "18                        Cassis  43.214036  5.539632   19.79725  20.03175   \n",
       "19                     Marseille  43.296174  5.369953   19.92500  20.13100   \n",
       "20               Aix en Provence  43.529842  5.447474   19.06900  19.54650   \n",
       "21                       Avignon  43.949249  4.805901   18.78725  19.13400   \n",
       "22                          Uzes  44.012128  4.419672   17.79300  18.19450   \n",
       "23                         Nimes  43.837425  4.360069   18.84625  19.20500   \n",
       "24                 Aigues Mortes  43.565823  4.191284   19.27550  19.48550   \n",
       "25      Saintes Maries de la mer  43.452277  4.428717   19.06975  19.21150   \n",
       "26                     Collioure  42.525050  3.083155   20.22525  20.33800   \n",
       "27                   Carcassonne  43.213036  2.349107   18.52775  18.78150   \n",
       "28                      Toulouse  43.604462  1.444247   18.09375  18.46050   \n",
       "29                     Montauban  44.017584  1.354999   17.75800  18.10650   \n",
       "30                      Biarritz  43.483252 -1.559278   17.60150  17.62600   \n",
       "31                       Bayonne  43.494514 -1.473666   17.56250  17.57825   \n",
       "32                   La Rochelle  46.159113 -1.152043   16.42125  16.54900   \n",
       "33              Gorges du Verdon  43.749656  6.328562   14.12325  14.81650   \n",
       "34                        Ariege  42.945537  1.406554   12.36900  13.04725   \n",
       "\n",
       "    humid_avg  wind_avg cloud_descr_avg  pop_avg  \n",
       "0      79.500   3.96125            b'o'  0.10325  \n",
       "1      77.725   4.87150            b'o'  0.08475  \n",
       "2      79.475   4.48500            b'o'  0.12850  \n",
       "3      78.175   5.04775            b'o'  0.12225  \n",
       "4      76.825   3.57600            b'o'  0.08900  \n",
       "5      67.775   2.74075            b'o'  0.04200  \n",
       "6      77.500   3.58550            b'o'  0.10750  \n",
       "7      72.950   3.58600            b'o'  0.09400  \n",
       "8      80.100   2.37225            b'b'  0.16025  \n",
       "9      81.700   1.77750            b'o'  0.17425  \n",
       "10     80.975   2.04225            b'o'  0.17650  \n",
       "11     80.975   1.93450            b'o'  0.17700  \n",
       "12     83.525   2.29100            b'o'  0.19650  \n",
       "13     81.100   2.58450            b'b'  0.10825  \n",
       "14     81.500   1.35050            b'c'  0.10100  \n",
       "15     77.400   1.46750            b'c'  0.04275  \n",
       "16     70.600   1.91675            b'c'  0.05225  \n",
       "17     68.275   3.52400            b'c'  0.00000  \n",
       "18     65.400   3.47025            b'c'  0.00000  \n",
       "19     66.075   3.53175            b'c'  0.00000  \n",
       "20     57.925   2.52200            b'c'  0.00000  \n",
       "21     64.100   3.21700            b'c'  0.00000  \n",
       "22     66.150   2.78975            b'c'  0.00200  \n",
       "23     63.900   2.66950            b'c'  0.00125  \n",
       "24     68.375   2.59375            b'c'  0.00025  \n",
       "25     72.075   3.56975            b'c'  0.00000  \n",
       "26     68.850   2.61325            b'o'  0.02000  \n",
       "27     68.400   3.00375            b'o'  0.00825  \n",
       "28     66.325   1.99875            b'o'  0.00900  \n",
       "29     68.275   1.69475            b'o'  0.00000  \n",
       "30     82.600   2.11200            b'c'  0.01300  \n",
       "31     83.150   1.96175            b'c'  0.01300  \n",
       "32     82.775   3.84400            b'c'  0.03675  \n",
       "33     67.750   2.40900            b'c'  0.00000  \n",
       "34     70.650   1.66150            b'o'  0.04625  "
      ]
     },
     "execution_count": 106,
     "metadata": {},
     "output_type": "execute_result"
    }
   ],
   "source": [
    "data_coord_cities"
   ]
  }
 ],
 "metadata": {
  "kernelspec": {
   "display_name": "Python 3.9.12 ('base')",
   "language": "python",
   "name": "python3"
  },
  "language_info": {
   "codemirror_mode": {
    "name": "ipython",
    "version": 3
   },
   "file_extension": ".py",
   "mimetype": "text/x-python",
   "name": "python",
   "nbconvert_exporter": "python",
   "pygments_lexer": "ipython3",
   "version": "3.9.12"
  },
  "orig_nbformat": 4,
  "vscode": {
   "interpreter": {
    "hash": "1cca9558bc5ad879ec93cc030b157d75f18267527c60932cecaace349eef54dd"
   }
  }
 },
 "nbformat": 4,
 "nbformat_minor": 2
}
