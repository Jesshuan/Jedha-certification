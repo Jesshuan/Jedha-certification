{
 "cells": [
  {
   "cell_type": "markdown",
   "metadata": {},
   "source": [
    "### 3/ Affichage des maps de top 20 et top 5 de destination"
   ]
  },
  {
   "cell_type": "code",
   "execution_count": 1,
   "metadata": {},
   "outputs": [],
   "source": [
    "import pandas as pd\n",
    "import plotly.graph_objects as go"
   ]
  },
  {
   "cell_type": "markdown",
   "metadata": {},
   "source": [
    "Dans la continuité du notebook n°2, on utilise le dataframe produit avec la météo moyenne en journée de chacune des 35 destinations, pour une petite 'preuve de concept' de la visualisation utilisateur recherchée.\n",
    "Il nous faut produire deux maps (un top 20 et un top 5) des meilleures destinations météo en France au jour J.\n",
    "\n",
    "On décide de permettre à l'utilisateur de visualiser sur la carte de France ces meilleurs destinations, par défault, grâce au paramètre \"feels_like' (bon ressenti global) moyen que nous avions récupéré. Mais nous allons aussi permettre à l'utilisateur de faire varier le filtre de la map en fonction de critères plus personnnels : température, vitesse du vent, etc..."
   ]
  },
  {
   "cell_type": "markdown",
   "metadata": {},
   "source": [
    "Récupération de notre dataframe :"
   ]
  },
  {
   "cell_type": "code",
   "execution_count": 2,
   "metadata": {},
   "outputs": [],
   "source": [
    "data = pd.read_csv('results/result_cities_with_coord_and_weather.csv')"
   ]
  },
  {
   "cell_type": "code",
   "execution_count": 3,
   "metadata": {},
   "outputs": [
    {
     "data": {
      "text/html": [
       "<div>\n",
       "<style scoped>\n",
       "    .dataframe tbody tr th:only-of-type {\n",
       "        vertical-align: middle;\n",
       "    }\n",
       "\n",
       "    .dataframe tbody tr th {\n",
       "        vertical-align: top;\n",
       "    }\n",
       "\n",
       "    .dataframe thead th {\n",
       "        text-align: right;\n",
       "    }\n",
       "</style>\n",
       "<table border=\"1\" class=\"dataframe\">\n",
       "  <thead>\n",
       "    <tr style=\"text-align: right;\">\n",
       "      <th></th>\n",
       "      <th>Unnamed: 0</th>\n",
       "      <th>city</th>\n",
       "      <th>lat</th>\n",
       "      <th>lon</th>\n",
       "      <th>feels_avg</th>\n",
       "      <th>temp_avg</th>\n",
       "      <th>humid_avg</th>\n",
       "      <th>wind_avg</th>\n",
       "      <th>cloud_descr_avg</th>\n",
       "      <th>pop_avg</th>\n",
       "      <th>date_forecast_start</th>\n",
       "      <th>date_forecast_end</th>\n",
       "    </tr>\n",
       "  </thead>\n",
       "  <tbody>\n",
       "    <tr>\n",
       "      <th>0</th>\n",
       "      <td>0</td>\n",
       "      <td>Mont Saint Michel</td>\n",
       "      <td>48.635954</td>\n",
       "      <td>-1.511460</td>\n",
       "      <td>18.000000</td>\n",
       "      <td>18.366667</td>\n",
       "      <td>66.666667</td>\n",
       "      <td>3.430000</td>\n",
       "      <td>scattered clouds</td>\n",
       "      <td>0.0</td>\n",
       "      <td>1.664842e+09</td>\n",
       "      <td>1.665263e+09</td>\n",
       "    </tr>\n",
       "    <tr>\n",
       "      <th>1</th>\n",
       "      <td>1</td>\n",
       "      <td>St Malo</td>\n",
       "      <td>48.649518</td>\n",
       "      <td>-2.026041</td>\n",
       "      <td>17.563333</td>\n",
       "      <td>17.890000</td>\n",
       "      <td>70.000000</td>\n",
       "      <td>3.386667</td>\n",
       "      <td>scattered clouds</td>\n",
       "      <td>0.0</td>\n",
       "      <td>1.664842e+09</td>\n",
       "      <td>1.665263e+09</td>\n",
       "    </tr>\n",
       "    <tr>\n",
       "      <th>2</th>\n",
       "      <td>2</td>\n",
       "      <td>Bayeux</td>\n",
       "      <td>49.276462</td>\n",
       "      <td>-0.702474</td>\n",
       "      <td>17.760000</td>\n",
       "      <td>18.180000</td>\n",
       "      <td>65.333333</td>\n",
       "      <td>4.850000</td>\n",
       "      <td>broken clouds</td>\n",
       "      <td>0.0</td>\n",
       "      <td>1.664842e+09</td>\n",
       "      <td>1.665263e+09</td>\n",
       "    </tr>\n",
       "    <tr>\n",
       "      <th>3</th>\n",
       "      <td>3</td>\n",
       "      <td>Le Havre</td>\n",
       "      <td>49.493898</td>\n",
       "      <td>0.107973</td>\n",
       "      <td>17.166667</td>\n",
       "      <td>17.506667</td>\n",
       "      <td>71.000000</td>\n",
       "      <td>4.043333</td>\n",
       "      <td>scattered clouds</td>\n",
       "      <td>0.0</td>\n",
       "      <td>1.664842e+09</td>\n",
       "      <td>1.665263e+09</td>\n",
       "    </tr>\n",
       "    <tr>\n",
       "      <th>4</th>\n",
       "      <td>4</td>\n",
       "      <td>Rouen</td>\n",
       "      <td>49.440459</td>\n",
       "      <td>1.093966</td>\n",
       "      <td>15.510000</td>\n",
       "      <td>16.242500</td>\n",
       "      <td>64.000000</td>\n",
       "      <td>3.327500</td>\n",
       "      <td>scattered clouds</td>\n",
       "      <td>0.0</td>\n",
       "      <td>1.664842e+09</td>\n",
       "      <td>1.665263e+09</td>\n",
       "    </tr>\n",
       "  </tbody>\n",
       "</table>\n",
       "</div>"
      ],
      "text/plain": [
       "   Unnamed: 0               city        lat       lon  feels_avg   temp_avg  \\\n",
       "0           0  Mont Saint Michel  48.635954 -1.511460  18.000000  18.366667   \n",
       "1           1            St Malo  48.649518 -2.026041  17.563333  17.890000   \n",
       "2           2             Bayeux  49.276462 -0.702474  17.760000  18.180000   \n",
       "3           3           Le Havre  49.493898  0.107973  17.166667  17.506667   \n",
       "4           4              Rouen  49.440459  1.093966  15.510000  16.242500   \n",
       "\n",
       "   humid_avg  wind_avg   cloud_descr_avg  pop_avg  date_forecast_start  \\\n",
       "0  66.666667  3.430000  scattered clouds      0.0         1.664842e+09   \n",
       "1  70.000000  3.386667  scattered clouds      0.0         1.664842e+09   \n",
       "2  65.333333  4.850000     broken clouds      0.0         1.664842e+09   \n",
       "3  71.000000  4.043333  scattered clouds      0.0         1.664842e+09   \n",
       "4  64.000000  3.327500  scattered clouds      0.0         1.664842e+09   \n",
       "\n",
       "   date_forecast_end  \n",
       "0       1.665263e+09  \n",
       "1       1.665263e+09  \n",
       "2       1.665263e+09  \n",
       "3       1.665263e+09  \n",
       "4       1.665263e+09  "
      ]
     },
     "execution_count": 3,
     "metadata": {},
     "output_type": "execute_result"
    }
   ],
   "source": [
    "data.head()"
   ]
  },
  {
   "cell_type": "markdown",
   "metadata": {},
   "source": [
    "Quelle est cette première colonne doublon de l'index ? Aïe, cela est dû à l'export puis import en csv...\n",
    "On supprime la colonne inutile :"
   ]
  },
  {
   "cell_type": "code",
   "execution_count": 4,
   "metadata": {},
   "outputs": [],
   "source": [
    "del data['Unnamed: 0']"
   ]
  },
  {
   "cell_type": "code",
   "execution_count": 5,
   "metadata": {},
   "outputs": [
    {
     "data": {
      "text/plain": [
       "city                    object\n",
       "lat                    float64\n",
       "lon                    float64\n",
       "feels_avg              float64\n",
       "temp_avg               float64\n",
       "humid_avg              float64\n",
       "wind_avg               float64\n",
       "cloud_descr_avg         object\n",
       "pop_avg                float64\n",
       "date_forecast_start    float64\n",
       "date_forecast_end      float64\n",
       "dtype: object"
      ]
     },
     "execution_count": 5,
     "metadata": {},
     "output_type": "execute_result"
    }
   ],
   "source": [
    "data.dtypes"
   ]
  },
  {
   "cell_type": "markdown",
   "metadata": {},
   "source": [
    "Il faut reconvertir les dates :"
   ]
  },
  {
   "cell_type": "code",
   "execution_count": 6,
   "metadata": {},
   "outputs": [],
   "source": [
    "import datetime as dt\n",
    "\n",
    "data['date_forecast_start']=data['date_forecast_start'].map(lambda s: dt.datetime.fromtimestamp(s))\n",
    "data['date_forecast_end']=data['date_forecast_end'].map(lambda s: dt.datetime.fromtimestamp(s))"
   ]
  },
  {
   "cell_type": "code",
   "execution_count": 7,
   "metadata": {},
   "outputs": [
    {
     "data": {
      "text/html": [
       "<div>\n",
       "<style scoped>\n",
       "    .dataframe tbody tr th:only-of-type {\n",
       "        vertical-align: middle;\n",
       "    }\n",
       "\n",
       "    .dataframe tbody tr th {\n",
       "        vertical-align: top;\n",
       "    }\n",
       "\n",
       "    .dataframe thead th {\n",
       "        text-align: right;\n",
       "    }\n",
       "</style>\n",
       "<table border=\"1\" class=\"dataframe\">\n",
       "  <thead>\n",
       "    <tr style=\"text-align: right;\">\n",
       "      <th></th>\n",
       "      <th>city</th>\n",
       "      <th>lat</th>\n",
       "      <th>lon</th>\n",
       "      <th>feels_avg</th>\n",
       "      <th>temp_avg</th>\n",
       "      <th>humid_avg</th>\n",
       "      <th>wind_avg</th>\n",
       "      <th>cloud_descr_avg</th>\n",
       "      <th>pop_avg</th>\n",
       "      <th>date_forecast_start</th>\n",
       "      <th>date_forecast_end</th>\n",
       "    </tr>\n",
       "  </thead>\n",
       "  <tbody>\n",
       "    <tr>\n",
       "      <th>0</th>\n",
       "      <td>Mont Saint Michel</td>\n",
       "      <td>48.635954</td>\n",
       "      <td>-1.511460</td>\n",
       "      <td>18.000000</td>\n",
       "      <td>18.366667</td>\n",
       "      <td>66.666667</td>\n",
       "      <td>3.430000</td>\n",
       "      <td>scattered clouds</td>\n",
       "      <td>0.0</td>\n",
       "      <td>2022-10-04 02:00:00</td>\n",
       "      <td>2022-10-08 23:00:00</td>\n",
       "    </tr>\n",
       "    <tr>\n",
       "      <th>1</th>\n",
       "      <td>St Malo</td>\n",
       "      <td>48.649518</td>\n",
       "      <td>-2.026041</td>\n",
       "      <td>17.563333</td>\n",
       "      <td>17.890000</td>\n",
       "      <td>70.000000</td>\n",
       "      <td>3.386667</td>\n",
       "      <td>scattered clouds</td>\n",
       "      <td>0.0</td>\n",
       "      <td>2022-10-04 02:00:00</td>\n",
       "      <td>2022-10-08 23:00:00</td>\n",
       "    </tr>\n",
       "    <tr>\n",
       "      <th>2</th>\n",
       "      <td>Bayeux</td>\n",
       "      <td>49.276462</td>\n",
       "      <td>-0.702474</td>\n",
       "      <td>17.760000</td>\n",
       "      <td>18.180000</td>\n",
       "      <td>65.333333</td>\n",
       "      <td>4.850000</td>\n",
       "      <td>broken clouds</td>\n",
       "      <td>0.0</td>\n",
       "      <td>2022-10-04 02:00:00</td>\n",
       "      <td>2022-10-08 23:00:00</td>\n",
       "    </tr>\n",
       "    <tr>\n",
       "      <th>3</th>\n",
       "      <td>Le Havre</td>\n",
       "      <td>49.493898</td>\n",
       "      <td>0.107973</td>\n",
       "      <td>17.166667</td>\n",
       "      <td>17.506667</td>\n",
       "      <td>71.000000</td>\n",
       "      <td>4.043333</td>\n",
       "      <td>scattered clouds</td>\n",
       "      <td>0.0</td>\n",
       "      <td>2022-10-04 02:00:00</td>\n",
       "      <td>2022-10-08 23:00:00</td>\n",
       "    </tr>\n",
       "    <tr>\n",
       "      <th>4</th>\n",
       "      <td>Rouen</td>\n",
       "      <td>49.440459</td>\n",
       "      <td>1.093966</td>\n",
       "      <td>15.510000</td>\n",
       "      <td>16.242500</td>\n",
       "      <td>64.000000</td>\n",
       "      <td>3.327500</td>\n",
       "      <td>scattered clouds</td>\n",
       "      <td>0.0</td>\n",
       "      <td>2022-10-04 02:00:00</td>\n",
       "      <td>2022-10-08 23:00:00</td>\n",
       "    </tr>\n",
       "  </tbody>\n",
       "</table>\n",
       "</div>"
      ],
      "text/plain": [
       "                city        lat       lon  feels_avg   temp_avg  humid_avg  \\\n",
       "0  Mont Saint Michel  48.635954 -1.511460  18.000000  18.366667  66.666667   \n",
       "1            St Malo  48.649518 -2.026041  17.563333  17.890000  70.000000   \n",
       "2             Bayeux  49.276462 -0.702474  17.760000  18.180000  65.333333   \n",
       "3           Le Havre  49.493898  0.107973  17.166667  17.506667  71.000000   \n",
       "4              Rouen  49.440459  1.093966  15.510000  16.242500  64.000000   \n",
       "\n",
       "   wind_avg   cloud_descr_avg  pop_avg date_forecast_start   date_forecast_end  \n",
       "0  3.430000  scattered clouds      0.0 2022-10-04 02:00:00 2022-10-08 23:00:00  \n",
       "1  3.386667  scattered clouds      0.0 2022-10-04 02:00:00 2022-10-08 23:00:00  \n",
       "2  4.850000     broken clouds      0.0 2022-10-04 02:00:00 2022-10-08 23:00:00  \n",
       "3  4.043333  scattered clouds      0.0 2022-10-04 02:00:00 2022-10-08 23:00:00  \n",
       "4  3.327500  scattered clouds      0.0 2022-10-04 02:00:00 2022-10-08 23:00:00  "
      ]
     },
     "execution_count": 7,
     "metadata": {},
     "output_type": "execute_result"
    }
   ],
   "source": [
    "data.head()"
   ]
  },
  {
   "cell_type": "code",
   "execution_count": 8,
   "metadata": {},
   "outputs": [
    {
     "data": {
      "text/plain": [
       "city                           object\n",
       "lat                           float64\n",
       "lon                           float64\n",
       "feels_avg                     float64\n",
       "temp_avg                      float64\n",
       "humid_avg                     float64\n",
       "wind_avg                      float64\n",
       "cloud_descr_avg                object\n",
       "pop_avg                       float64\n",
       "date_forecast_start    datetime64[ns]\n",
       "date_forecast_end      datetime64[ns]\n",
       "dtype: object"
      ]
     },
     "execution_count": 8,
     "metadata": {},
     "output_type": "execute_result"
    }
   ],
   "source": [
    "data.dtypes"
   ]
  },
  {
   "cell_type": "markdown",
   "metadata": {},
   "source": [
    "On doit aussi trouver un moyen d'ordonner la variable 'cloud_descr_avg' qui est pour l'instant un string. Cette donnée catégorielle peut être facilement ordonnée (taux de couverture nuageux du ciel... + autres évènements) du plus propice au moins propice, ou l'inverse...\n",
    "Mais avant de faire ce travail de conversion, il faut savoir à quelles catégories on a affaire. Sur notre dataset on a 4 catégories, visiblement :"
   ]
  },
  {
   "cell_type": "code",
   "execution_count": 9,
   "metadata": {},
   "outputs": [
    {
     "data": {
      "text/html": [
       "<div>\n",
       "<style scoped>\n",
       "    .dataframe tbody tr th:only-of-type {\n",
       "        vertical-align: middle;\n",
       "    }\n",
       "\n",
       "    .dataframe tbody tr th {\n",
       "        vertical-align: top;\n",
       "    }\n",
       "\n",
       "    .dataframe thead th {\n",
       "        text-align: right;\n",
       "    }\n",
       "</style>\n",
       "<table border=\"1\" class=\"dataframe\">\n",
       "  <thead>\n",
       "    <tr style=\"text-align: right;\">\n",
       "      <th></th>\n",
       "      <th>city</th>\n",
       "      <th>lat</th>\n",
       "      <th>lon</th>\n",
       "      <th>feels_avg</th>\n",
       "      <th>temp_avg</th>\n",
       "      <th>humid_avg</th>\n",
       "      <th>wind_avg</th>\n",
       "      <th>pop_avg</th>\n",
       "      <th>date_forecast_start</th>\n",
       "      <th>date_forecast_end</th>\n",
       "    </tr>\n",
       "    <tr>\n",
       "      <th>cloud_descr_avg</th>\n",
       "      <th></th>\n",
       "      <th></th>\n",
       "      <th></th>\n",
       "      <th></th>\n",
       "      <th></th>\n",
       "      <th></th>\n",
       "      <th></th>\n",
       "      <th></th>\n",
       "      <th></th>\n",
       "      <th></th>\n",
       "    </tr>\n",
       "  </thead>\n",
       "  <tbody>\n",
       "    <tr>\n",
       "      <th>broken clouds</th>\n",
       "      <td>9</td>\n",
       "      <td>9</td>\n",
       "      <td>9</td>\n",
       "      <td>9</td>\n",
       "      <td>9</td>\n",
       "      <td>9</td>\n",
       "      <td>9</td>\n",
       "      <td>9</td>\n",
       "      <td>9</td>\n",
       "      <td>9</td>\n",
       "    </tr>\n",
       "    <tr>\n",
       "      <th>clear sky</th>\n",
       "      <td>18</td>\n",
       "      <td>18</td>\n",
       "      <td>18</td>\n",
       "      <td>18</td>\n",
       "      <td>18</td>\n",
       "      <td>18</td>\n",
       "      <td>18</td>\n",
       "      <td>18</td>\n",
       "      <td>18</td>\n",
       "      <td>18</td>\n",
       "    </tr>\n",
       "    <tr>\n",
       "      <th>few clouds</th>\n",
       "      <td>1</td>\n",
       "      <td>1</td>\n",
       "      <td>1</td>\n",
       "      <td>1</td>\n",
       "      <td>1</td>\n",
       "      <td>1</td>\n",
       "      <td>1</td>\n",
       "      <td>1</td>\n",
       "      <td>1</td>\n",
       "      <td>1</td>\n",
       "    </tr>\n",
       "    <tr>\n",
       "      <th>overcast clouds</th>\n",
       "      <td>1</td>\n",
       "      <td>1</td>\n",
       "      <td>1</td>\n",
       "      <td>1</td>\n",
       "      <td>1</td>\n",
       "      <td>1</td>\n",
       "      <td>1</td>\n",
       "      <td>1</td>\n",
       "      <td>1</td>\n",
       "      <td>1</td>\n",
       "    </tr>\n",
       "    <tr>\n",
       "      <th>scattered clouds</th>\n",
       "      <td>6</td>\n",
       "      <td>6</td>\n",
       "      <td>6</td>\n",
       "      <td>6</td>\n",
       "      <td>6</td>\n",
       "      <td>6</td>\n",
       "      <td>6</td>\n",
       "      <td>6</td>\n",
       "      <td>6</td>\n",
       "      <td>6</td>\n",
       "    </tr>\n",
       "  </tbody>\n",
       "</table>\n",
       "</div>"
      ],
      "text/plain": [
       "                  city  lat  lon  feels_avg  temp_avg  humid_avg  wind_avg  \\\n",
       "cloud_descr_avg                                                              \n",
       "broken clouds        9    9    9          9         9          9         9   \n",
       "clear sky           18   18   18         18        18         18        18   \n",
       "few clouds           1    1    1          1         1          1         1   \n",
       "overcast clouds      1    1    1          1         1          1         1   \n",
       "scattered clouds     6    6    6          6         6          6         6   \n",
       "\n",
       "                  pop_avg  date_forecast_start  date_forecast_end  \n",
       "cloud_descr_avg                                                    \n",
       "broken clouds           9                    9                  9  \n",
       "clear sky              18                   18                 18  \n",
       "few clouds              1                    1                  1  \n",
       "overcast clouds         1                    1                  1  \n",
       "scattered clouds        6                    6                  6  "
      ]
     },
     "execution_count": 9,
     "metadata": {},
     "output_type": "execute_result"
    }
   ],
   "source": [
    "data.groupby('cloud_descr_avg').count()"
   ]
  },
  {
   "cell_type": "markdown",
   "metadata": {},
   "source": [
    "Ok, mais sont-ce les seules ?... En allant sur la doc de l'API Open Weather Map, on voit que d'autres catégories sont possibles (brouillard, orages, neige, pluie...)\n",
    "Il est possible que nous relancions ce programme à un autre moment et que donc ces catégories apparaissent.\n",
    "On fait donc le travail de conversion avec toutes les catégories de 'beau ou mauvais ciel' en attribuant une note sur 10 au ciel, 10 étant la plus pire des notes ! (pour des raisons pratiques d'affichage plus loin). Cet ordre reste assez arbitraire, mais nous nous plaçons à la place du touriste.\n",
    "Exemple : qu'est-ce qui est pire en vacance ? Faire face à des orages ou du brouillard ? Sans doute le brouillard que l'orage qui reste généralement plus passager. Le brouillard empêche de voir les paysages..."
   ]
  },
  {
   "cell_type": "code",
   "execution_count": 10,
   "metadata": {},
   "outputs": [],
   "source": [
    "data['cloud_order']=data['cloud_descr_avg'].map({\n",
    "                                                'mist':10,\n",
    "                                                'thunderstorm':9,\n",
    "                                                'snow':8,\n",
    "                                                'rain':7,\n",
    "                                                'shower rain':6,\n",
    "                                                'overcast clouds':5,\n",
    "                                                'broken clouds':4,\n",
    "                                                'scattered clouds':3,\n",
    "                                                'few clouds':2,\n",
    "                                                'clear sky':1})"
   ]
  },
  {
   "cell_type": "code",
   "execution_count": 11,
   "metadata": {},
   "outputs": [
    {
     "data": {
      "text/plain": [
       "Index(['city', 'lat', 'lon', 'feels_avg', 'temp_avg', 'humid_avg', 'wind_avg',\n",
       "       'cloud_descr_avg', 'pop_avg', 'date_forecast_start',\n",
       "       'date_forecast_end', 'cloud_order'],\n",
       "      dtype='object')"
      ]
     },
     "execution_count": 11,
     "metadata": {},
     "output_type": "execute_result"
    }
   ],
   "source": [
    "data.columns"
   ]
  },
  {
   "cell_type": "markdown",
   "metadata": {},
   "source": [
    "Pour des raisons pratiques d'affichage, on arrondit ici la donnée 'probabilité de précipitations' à 3 décimales :"
   ]
  },
  {
   "cell_type": "code",
   "execution_count": 12,
   "metadata": {},
   "outputs": [],
   "source": [
    "data['pop_avg']=round(data['pop_avg'],3)"
   ]
  },
  {
   "cell_type": "markdown",
   "metadata": {},
   "source": [
    "Notre programme d'affichage des maps va faire appelle un certain nombre de fois la fonction ci-dessous qui permet d'automatiser la modification d'un dataframe donné en fonction d'un paramètre météo donné par l'utilisateur comme 'temp', 'humidity', etc... La fonction ci-dessous créé donc le top 20 ou top 5 (ou top x) recherché en fonction de ce paramètre, du dataframe, mais aussi du nombre de destinations retenues sur le 'podium' ainsi constitué :"
   ]
  },
  {
   "cell_type": "code",
   "execution_count": 13,
   "metadata": {},
   "outputs": [],
   "source": [
    "def order_by(dataset,top_nb,tag='feels_avg'):\n",
    "    if tag not in dataset.columns:\n",
    "        return \"Error : please enter a good parameter to order this dataset...\"\n",
    "    elif top_nb > len(dataset):\n",
    "        return \"Error : the top_number is most than data size...\"\n",
    "    else :\n",
    "        if tag=='humid_avg' or tag=='pop_avg' or tag=='wind_avg' or tag=='cloud_order':\n",
    "            # pour ces quatre paramètres on ordonne dans le sens descendant\n",
    "            # exemple : plus il y a de vent, moins c'est agréable pour le tourisme\n",
    "            return data.sort_values(tag,ascending=True).iloc[:top_nb,:]\n",
    "        else:\n",
    "            # pour les autres paramètres (good_feels et temp), dans le sens ascendant\n",
    "            return data.sort_values(tag,ascending=False).iloc[:top_nb,:]"
   ]
  },
  {
   "cell_type": "markdown",
   "metadata": {},
   "source": [
    "On prépare ici deux variables strings pour pouvoir afficher les dates de début et de fin de séjour (de prévisions) dans les maps :"
   ]
  },
  {
   "cell_type": "code",
   "execution_count": 14,
   "metadata": {},
   "outputs": [],
   "source": [
    "day_start=min(data['date_forecast_start']).strftime('%d/%m')\n",
    "day_end=min(data['date_forecast_end']).strftime('%d/%m')"
   ]
  },
  {
   "cell_type": "markdown",
   "metadata": {},
   "source": [
    "Création de la fonction de visualisation de map avec Plotly graph_objects.\n",
    "\n",
    "On donne en entrée le dataset et le top que l'on veut (ici, 5 ou 20) et la fonction fait le travail et nous retourne l'affichage d'une Scattermapbox avec, en plus, un système de filtre pour l'utilisateur, pour répondre au besoin décrit précedemment.\n",
    "\n",
    "Dans la fonction, on constitue en préliminaire, selon les variables d'entrées, une liste \"labels\" qui va stocker, dans plusieurs dictionnaires différents, selon les paramètres météo différents, nos données brutes :\n",
    "- le dataset ordonné selon le paramètre météo\n",
    "- le nom du paramètre météo\n",
    "- le titre à donner à l'échelle de la map (pour l'affichage)\n",
    "- la charte graphique utilisée pour l'affichage de la map, pour ce paramètre (on choisit des chartes graphiques évocatrices pour chaque paramètre météo)\n",
    "- la visibilité initiale de la map (par défault, seule la map de 'bonne météo globale' (indicateur 'feels_like' de OWM) sera visible). paramètre qui évoluera ensuite avec le jeu des bouttons"
   ]
  },
  {
   "cell_type": "code",
   "execution_count": 15,
   "metadata": {},
   "outputs": [],
   "source": [
    "def map_of_best_dest(data,top_nb):\n",
    "\n",
    "    data = order_by(data,len(data))\n",
    "    # petite précaution : on ordonne avant tout le dataframe selon le\n",
    "    # paramètre par défault 'feels_avg', car on risque sur nos différents\n",
    "    # autres 'podiums' (pour 'temp', 'wind', etc...) d'avoir des égalités de scores\n",
    "    # donc ces égalités seront arbitrés par ce super-paramètre 'feels_avg'\n",
    "\n",
    "   \n",
    "\n",
    "    # stockage des différents données dans différents dictionnaire\n",
    "    # (1 par paramètre météo) :\n",
    "\n",
    "    labels=[{'data':order_by(data,top_nb),\n",
    "        'param':'feels_avg',\n",
    "        'title':\"Echelle de bonne meteo globale (OWM)\",\n",
    "        'colorbar':'purpor',\n",
    "        'init_visible':True},\n",
    "        {'data':order_by(data,top_nb,'temp_avg'),\n",
    "        'param':'temp_avg',\n",
    "        'title':\"Echelle de températures (°C)\",\n",
    "        'colorbar':'oranges',\n",
    "        'init_visible':False},\n",
    "        {'data':order_by(data,top_nb,'wind_avg'),\n",
    "        'param':'wind_avg',\n",
    "        'title':\"Echelle de vent faible (noeuds)\",\n",
    "        'colorbar':'tealgrn',\n",
    "        'init_visible':False},\n",
    "        {'data':order_by(data,top_nb,'humid_avg'),\n",
    "        'param':'humid_avg',\n",
    "        'title':\"Echelle de taux d'humidité relative (%)\",\n",
    "        'colorbar':'blugrn',\n",
    "        'init_visible':False},\n",
    "        {'data':order_by(data,top_nb,'cloud_order'),\n",
    "        'param':'cloud_order',\n",
    "        'title':\"Echelle de ciel encombré (sur 10)\",\n",
    "        'colorbar':'blues',\n",
    "        'init_visible':False},\n",
    "        {'data':order_by(data,top_nb,'pop_avg'),\n",
    "        'param':'pop_avg',\n",
    "        'title':\"Echelle de probabilité de precipitations\",\n",
    "        'colorbar':'mint',\n",
    "        'init_visible':False}]\n",
    "\n",
    "    fig = go.Figure()\n",
    "\n",
    "    # Pour chaque paramètre météo (chaque dictionaire de 'labels')\n",
    "    # on ajoute une trace de Scattermapbox\n",
    "\n",
    "    for label in labels:\n",
    "        fig.add_trace(\n",
    "            go.Scattermapbox(\n",
    "                lat=label.get('data')['lat'],\n",
    "                lon=label.get('data')['lon'],\n",
    "                hovertext=label.get('data')['city'],\n",
    "                hoverinfo='text',\n",
    "                mode='markers',\n",
    "                marker=dict(\n",
    "                    size=16,\n",
    "                    cmax=label.get('data')[label.get('param')].max(),\n",
    "                    cmin=label.get('data')[label.get('param')].min(),\n",
    "                    color=label.get('data')[label.get('param')],\n",
    "                    colorscale=label.get('colorbar'),\n",
    "                    colorbar=dict(\n",
    "                        title=dict(\n",
    "                            side='right',\n",
    "                            text=label.get('title'),\n",
    "                            font=dict(\n",
    "                                color='purple',\n",
    "                                size=16,\n",
    "                                family='Arial'\n",
    "                                )\n",
    "                            ),\n",
    "                    bgcolor='aliceblue',\n",
    "                    x=1.08,\n",
    "                    y=0.5,\n",
    "                    len=1.1)\n",
    "                    ),\n",
    "                visible=label.get('init_visible')\n",
    "                )\n",
    "        )\n",
    "\n",
    "    # Paramètres globaux de layout:\n",
    "\n",
    "    fig.update_layout(mapbox_style='stamen-terrain',\n",
    "                    title=dict(\n",
    "                        text=f'Le Top {top_nb} des destinations météo en France ! Du {day_start} au {day_end}',\n",
    "                        font=dict(\n",
    "                            color='purple',\n",
    "                            size=24,\n",
    "                            family='Open Sans'\n",
    "                        )\n",
    "                    ))\n",
    "\n",
    "    # Paramètres supplémentaires internes à la dynamique mapbox :\n",
    "\n",
    "    fig.update_mapboxes(\n",
    "        bearing=0,\n",
    "        center=dict(\n",
    "            lat=46,\n",
    "            lon=4\n",
    "        ),\n",
    "        pitch=0,\n",
    "        zoom=3.7)\n",
    "\n",
    "    # Gestion des boutons pour l'utilisateur des maps :\n",
    "\n",
    "    fig.update_layout(\n",
    "        updatemenus = [go.layout.Updatemenu(\n",
    "            active = 0,\n",
    "            buttons = [\n",
    "                    go.layout.updatemenu.Button(\n",
    "                        label = \"Par météo globale (en journée)\",\n",
    "                        method = \"update\",\n",
    "                        args = [{\"visible\" : [True, False, False, False, False, False]}]),\n",
    "                    go.layout.updatemenu.Button(\n",
    "                            label = \"Par températures moyennes (en journée)\",\n",
    "                            method = \"update\",\n",
    "                            args = [{\"visible\" : [False, True, False, False, False, False]}]),\n",
    "                    go.layout.updatemenu.Button(\n",
    "                            label = \"Par vitesse de vent moyen (en journée)\",\n",
    "                            method = \"update\",\n",
    "                            args = [{\"visible\" : [False, False, True, False, False, False]}]),\n",
    "                    go.layout.updatemenu.Button(\n",
    "                            label = \"Par taux d'humidité relative moyenne (en journée)\",\n",
    "                            method = \"update\",\n",
    "                            args = [{\"visible\" : [False, False, False, True, False, False]}]),\n",
    "                    go.layout.updatemenu.Button(\n",
    "                            label = \"Par encombrement du ciel moyen (en journée)\",\n",
    "                            method = \"update\",\n",
    "                            args = [{\"visible\" : [False, False, False, False, True, False]}]),\n",
    "                    go.layout.updatemenu.Button(\n",
    "                            label = \"Par probabilité moyenne de pluie (en journée)\",\n",
    "                            method = \"update\",\n",
    "                            args = [{\"visible\" : [False, False, False, False, False, True]}])\n",
    "                ]\n",
    "            )]\n",
    "        )\n",
    "\n",
    "    fig.show()"
   ]
  },
  {
   "cell_type": "markdown",
   "metadata": {},
   "source": [
    "Allez, on affiche notre top 20..."
   ]
  },
  {
   "cell_type": "code",
   "execution_count": 16,
   "metadata": {},
   "outputs": [
    {
     "data": {
      "application/vnd.plotly.v1+json": {
       "config": {
        "plotlyServerURL": "https://plot.ly"
       },
       "data": [
        {
         "hoverinfo": "text",
         "hovertext": [
          "Collioure",
          "Aix en Provence",
          "Bayonne",
          "Carcassonne",
          "Cassis",
          "Avignon",
          "Grenoble",
          "Marseille",
          "Nimes",
          "Biarritz",
          "Bormes les Mimosas",
          "Uzes",
          "Montauban",
          "Toulouse",
          "Aigues Mortes",
          "Saintes Maries de la mer",
          "Gorges du Verdon",
          "Mont Saint Michel",
          "La Rochelle",
          "Bayeux"
         ],
         "lat": [
          42.52505,
          43.5298424,
          43.4945144,
          43.2130358,
          43.2140359,
          43.9492493,
          45.1875602,
          43.2961743,
          43.8374249,
          43.4832523,
          43.1506968,
          44.0121279,
          44.0175835,
          43.6044622,
          43.5658225,
          43.4522771,
          43.7496562,
          48.6359541,
          46.1591126,
          49.2764624
         ],
         "lon": [
          3.0831554,
          5.4474738,
          -1.4736657,
          2.3491069,
          5.5396318,
          4.8059012,
          5.7357819,
          5.3699525,
          4.3600687,
          -1.5592776,
          6.3419285,
          4.4196718,
          1.3549991,
          1.4442469,
          4.1912837,
          4.4287172,
          6.3285616,
          -1.511459954959514,
          -1.1520434,
          -0.7024738
         ],
         "marker": {
          "cmax": 21.0975,
          "cmin": 17.76,
          "color": [
           21.0975,
           20.8,
           20.73,
           20.68,
           20.59,
           20.4575,
           20.295,
           20.295,
           20.29,
           20.106666666666666,
           20.0275,
           19.745,
           19.505,
           19.49,
           19.1975,
           18.6975,
           18.09,
           18,
           17.826666666666664,
           17.76
          ],
          "colorbar": {
           "bgcolor": "aliceblue",
           "len": 1.1,
           "title": {
            "font": {
             "color": "purple",
             "family": "Arial",
             "size": 16
            },
            "side": "right",
            "text": "Echelle de bonne meteo globale (OWM)"
           },
           "x": 1.08,
           "y": 0.5
          },
          "colorscale": [
           [
            0,
            "rgb(249, 221, 218)"
           ],
           [
            0.16666666666666666,
            "rgb(242, 185, 196)"
           ],
           [
            0.3333333333333333,
            "rgb(229, 151, 185)"
           ],
           [
            0.5,
            "rgb(206, 120, 179)"
           ],
           [
            0.6666666666666666,
            "rgb(173, 95, 173)"
           ],
           [
            0.8333333333333334,
            "rgb(131, 75, 160)"
           ],
           [
            1,
            "rgb(87, 59, 136)"
           ]
          ],
          "size": 16
         },
         "mode": "markers",
         "type": "scattermapbox",
         "visible": true
        },
        {
         "hoverinfo": "text",
         "hovertext": [
          "Aix en Provence",
          "Collioure",
          "Carcassonne",
          "Cassis",
          "Avignon",
          "Bayonne",
          "Nimes",
          "Grenoble",
          "Marseille",
          "Uzes",
          "Biarritz",
          "Bormes les Mimosas",
          "Toulouse",
          "Montauban",
          "Aigues Mortes",
          "Saintes Maries de la mer",
          "Gorges du Verdon",
          "Mont Saint Michel",
          "La Rochelle",
          "Bayeux"
         ],
         "lat": [
          43.5298424,
          42.52505,
          43.2130358,
          43.2140359,
          43.9492493,
          43.4945144,
          43.8374249,
          45.1875602,
          43.2961743,
          44.0121279,
          43.4832523,
          43.1506968,
          43.6044622,
          44.0175835,
          43.5658225,
          43.4522771,
          43.7496562,
          48.6359541,
          46.1591126,
          49.2764624
         ],
         "lon": [
          5.4474738,
          3.0831554,
          2.3491069,
          5.5396318,
          4.8059012,
          -1.4736657,
          4.3600687,
          5.7357819,
          5.3699525,
          4.4196718,
          -1.5592776,
          6.3419285,
          1.4442469,
          1.3549991,
          4.1912837,
          4.4287172,
          6.3285616,
          -1.511459954959514,
          -1.1520434,
          -0.7024738
         ],
         "marker": {
          "cmax": 21.387500000000003,
          "cmin": 18.18,
          "color": [
           21.387500000000003,
           21.365,
           21.102500000000003,
           20.92,
           20.895,
           20.87333333333333,
           20.805,
           20.5875,
           20.5525,
           20.26,
           20.24,
           20.2375,
           19.9975,
           19.96,
           19.6925,
           19.0575,
           18.8425,
           18.366666666666664,
           18.19333333333333,
           18.18
          ],
          "colorbar": {
           "bgcolor": "aliceblue",
           "len": 1.1,
           "title": {
            "font": {
             "color": "purple",
             "family": "Arial",
             "size": 16
            },
            "side": "right",
            "text": "Echelle de températures (°C)"
           },
           "x": 1.08,
           "y": 0.5
          },
          "colorscale": [
           [
            0,
            "rgb(255,245,235)"
           ],
           [
            0.125,
            "rgb(254,230,206)"
           ],
           [
            0.25,
            "rgb(253,208,162)"
           ],
           [
            0.375,
            "rgb(253,174,107)"
           ],
           [
            0.5,
            "rgb(253,141,60)"
           ],
           [
            0.625,
            "rgb(241,105,19)"
           ],
           [
            0.75,
            "rgb(217,72,1)"
           ],
           [
            0.875,
            "rgb(166,54,3)"
           ],
           [
            1,
            "rgb(127,39,4)"
           ]
          ],
          "size": 16
         },
         "mode": "markers",
         "type": "scattermapbox",
         "visible": false
        },
        {
         "hoverinfo": "text",
         "hovertext": [
          "Toulouse",
          "Lyon",
          "Strasbourg",
          "Annecy",
          "Montauban",
          "Besancon",
          "Chateau du Haut Koenigsbourg",
          "Colmar",
          "Eguisheim",
          "Grenoble",
          "Bayonne",
          "Biarritz",
          "Dijon",
          "Ariege",
          "Collioure",
          "Nimes",
          "Bormes les Mimosas",
          "Gorges du Verdon",
          "Paris",
          "Uzes"
         ],
         "lat": [
          43.6044622,
          45.7578137,
          48.584614,
          45.8992348,
          44.0175835,
          47.2380222,
          48.2495226,
          48.0777517,
          48.0447968,
          45.1875602,
          43.4945144,
          43.4832523,
          47.3215806,
          42.9455368,
          42.52505,
          43.8374249,
          43.1506968,
          43.7496562,
          48.8588897,
          44.0121279
         ],
         "lon": [
          1.4442469,
          4.8320114,
          7.7507127,
          6.1288847,
          1.3549991,
          6.0243622,
          7.3454923,
          7.3579641,
          7.3079618,
          5.7357819,
          -1.4736657,
          -1.5592776,
          5.0414701,
          1.4065544156065486,
          3.0831554,
          4.3600687,
          6.3419285,
          6.3285616,
          2.3200410217200766,
          4.4196718
         ],
         "marker": {
          "cmax": 2.2575,
          "cmin": 0.87,
          "color": [
           0.87,
           0.88,
           0.9725,
           0.99,
           1.0025,
           1.0675,
           1.12,
           1.1375000000000002,
           1.2125,
           1.24,
           1.4833333333333334,
           1.4933333333333334,
           1.7025,
           1.9525,
           1.9875,
           2.045,
           2.0825,
           2.1125000000000003,
           2.1325000000000003,
           2.2575
          ],
          "colorbar": {
           "bgcolor": "aliceblue",
           "len": 1.1,
           "title": {
            "font": {
             "color": "purple",
             "family": "Arial",
             "size": 16
            },
            "side": "right",
            "text": "Echelle de vent faible (noeuds)"
           },
           "x": 1.08,
           "y": 0.5
          },
          "colorscale": [
           [
            0,
            "rgb(176, 242, 188)"
           ],
           [
            0.16666666666666666,
            "rgb(137, 232, 172)"
           ],
           [
            0.3333333333333333,
            "rgb(103, 219, 165)"
           ],
           [
            0.5,
            "rgb(76, 200, 163)"
           ],
           [
            0.6666666666666666,
            "rgb(56, 178, 163)"
           ],
           [
            0.8333333333333334,
            "rgb(44, 152, 160)"
           ],
           [
            1,
            "rgb(37, 125, 152)"
           ]
          ],
          "size": 16
         },
         "mode": "markers",
         "type": "scattermapbox",
         "visible": false
        },
        {
         "hoverinfo": "text",
         "hovertext": [
          "Aix en Provence",
          "Paris",
          "Gorges du Verdon",
          "Nimes",
          "Ariege",
          "Uzes",
          "Carcassonne",
          "Avignon",
          "Toulouse",
          "Aigues Mortes",
          "Montauban",
          "Cassis",
          "Collioure",
          "Amiens",
          "Grenoble",
          "Lille",
          "Marseille",
          "Rouen",
          "Lyon",
          "Saintes Maries de la mer"
         ],
         "lat": [
          43.5298424,
          48.8588897,
          43.7496562,
          43.8374249,
          42.9455368,
          44.0121279,
          43.2130358,
          43.9492493,
          43.6044622,
          43.5658225,
          44.0175835,
          43.2140359,
          42.52505,
          49.8941708,
          45.1875602,
          50.6365654,
          43.2961743,
          49.4404591,
          45.7578137,
          43.4522771
         ],
         "lon": [
          5.4474738,
          2.3200410217200766,
          6.3285616,
          4.3600687,
          1.4065544156065486,
          4.4196718,
          2.3491069,
          4.8059012,
          1.4442469,
          4.1912837,
          1.3549991,
          5.5396318,
          3.0831554,
          2.2956951,
          5.7357819,
          3.0635282,
          5.3699525,
          1.0939658,
          4.8320114,
          4.4287172
         ],
         "marker": {
          "cmax": 64.25,
          "cmin": 46.75,
          "color": [
           46.75,
           49.75,
           50,
           51.75,
           53,
           53.75,
           54,
           54.25,
           55,
           56.75,
           57.25,
           58.25,
           59,
           60.25,
           61,
           61.25,
           62.5,
           64,
           64.25,
           64.25
          ],
          "colorbar": {
           "bgcolor": "aliceblue",
           "len": 1.1,
           "title": {
            "font": {
             "color": "purple",
             "family": "Arial",
             "size": 16
            },
            "side": "right",
            "text": "Echelle de taux d'humidité relative (%)"
           },
           "x": 1.08,
           "y": 0.5
          },
          "colorscale": [
           [
            0,
            "rgb(196, 230, 195)"
           ],
           [
            0.16666666666666666,
            "rgb(150, 210, 164)"
           ],
           [
            0.3333333333333333,
            "rgb(109, 188, 144)"
           ],
           [
            0.5,
            "rgb(77, 162, 132)"
           ],
           [
            0.6666666666666666,
            "rgb(54, 135, 122)"
           ],
           [
            0.8333333333333334,
            "rgb(38, 107, 110)"
           ],
           [
            1,
            "rgb(29, 79, 96)"
           ]
          ],
          "size": 16
         },
         "mode": "markers",
         "type": "scattermapbox",
         "visible": false
        },
        {
         "hoverinfo": "text",
         "hovertext": [
          "Bormes les Mimosas",
          "Marseille",
          "Aix en Provence",
          "Avignon",
          "Uzes",
          "Nimes",
          "Aigues Mortes",
          "Cassis",
          "Saintes Maries de la mer",
          "Carcassonne",
          "Toulouse",
          "Montauban",
          "Biarritz",
          "Bayonne",
          "La Rochelle",
          "Collioure",
          "Gorges du Verdon",
          "Ariege",
          "Grenoble",
          "St Malo"
         ],
         "lat": [
          43.1506968,
          43.2961743,
          43.5298424,
          43.9492493,
          44.0121279,
          43.8374249,
          43.5658225,
          43.2140359,
          43.4522771,
          43.2130358,
          43.6044622,
          44.0175835,
          43.4832523,
          43.4945144,
          46.1591126,
          42.52505,
          43.7496562,
          42.9455368,
          45.1875602,
          48.649518
         ],
         "lon": [
          6.3419285,
          5.3699525,
          5.4474738,
          4.8059012,
          4.4196718,
          4.3600687,
          4.1912837,
          5.5396318,
          4.4287172,
          2.3491069,
          1.4442469,
          1.3549991,
          -1.5592776,
          -1.4736657,
          -1.1520434,
          3.0831554,
          6.3285616,
          1.4065544156065486,
          5.7357819,
          -2.0260409
         ],
         "marker": {
          "cmax": 3,
          "cmin": 1,
          "color": [
           1,
           1,
           1,
           1,
           1,
           1,
           1,
           1,
           1,
           1,
           1,
           1,
           1,
           1,
           1,
           1,
           1,
           1,
           2,
           3
          ],
          "colorbar": {
           "bgcolor": "aliceblue",
           "len": 1.1,
           "title": {
            "font": {
             "color": "purple",
             "family": "Arial",
             "size": 16
            },
            "side": "right",
            "text": "Echelle de ciel encombré (sur 10)"
           },
           "x": 1.08,
           "y": 0.5
          },
          "colorscale": [
           [
            0,
            "rgb(247,251,255)"
           ],
           [
            0.125,
            "rgb(222,235,247)"
           ],
           [
            0.25,
            "rgb(198,219,239)"
           ],
           [
            0.375,
            "rgb(158,202,225)"
           ],
           [
            0.5,
            "rgb(107,174,214)"
           ],
           [
            0.625,
            "rgb(66,146,198)"
           ],
           [
            0.75,
            "rgb(33,113,181)"
           ],
           [
            0.875,
            "rgb(8,81,156)"
           ],
           [
            1,
            "rgb(8,48,107)"
           ]
          ],
          "size": 16
         },
         "mode": "markers",
         "type": "scattermapbox",
         "visible": false
        },
        {
         "hoverinfo": "text",
         "hovertext": [
          "Mont Saint Michel",
          "Marseille",
          "Aix en Provence",
          "Avignon",
          "Uzes",
          "Nimes",
          "Aigues Mortes",
          "Cassis",
          "Saintes Maries de la mer",
          "Carcassonne",
          "Toulouse",
          "Montauban",
          "Biarritz",
          "Bayonne",
          "La Rochelle",
          "Collioure",
          "Gorges du Verdon",
          "Bormes les Mimosas",
          "Grenoble",
          "St Malo"
         ],
         "lat": [
          48.6359541,
          43.2961743,
          43.5298424,
          43.9492493,
          44.0121279,
          43.8374249,
          43.5658225,
          43.2140359,
          43.4522771,
          43.2130358,
          43.6044622,
          44.0175835,
          43.4832523,
          43.4945144,
          46.1591126,
          42.52505,
          43.7496562,
          43.1506968,
          45.1875602,
          48.649518
         ],
         "lon": [
          -1.511459954959514,
          5.3699525,
          5.4474738,
          4.8059012,
          4.4196718,
          4.3600687,
          4.1912837,
          5.5396318,
          4.4287172,
          2.3491069,
          1.4442469,
          1.3549991,
          -1.5592776,
          -1.4736657,
          -1.1520434,
          3.0831554,
          6.3285616,
          6.3419285,
          5.7357819,
          -2.0260409
         ],
         "marker": {
          "cmax": 0,
          "cmin": 0,
          "color": [
           0,
           0,
           0,
           0,
           0,
           0,
           0,
           0,
           0,
           0,
           0,
           0,
           0,
           0,
           0,
           0,
           0,
           0,
           0,
           0
          ],
          "colorbar": {
           "bgcolor": "aliceblue",
           "len": 1.1,
           "title": {
            "font": {
             "color": "purple",
             "family": "Arial",
             "size": 16
            },
            "side": "right",
            "text": "Echelle de probabilité de precipitations"
           },
           "x": 1.08,
           "y": 0.5
          },
          "colorscale": [
           [
            0,
            "rgb(228, 241, 225)"
           ],
           [
            0.16666666666666666,
            "rgb(180, 217, 204)"
           ],
           [
            0.3333333333333333,
            "rgb(137, 192, 182)"
           ],
           [
            0.5,
            "rgb(99, 166, 160)"
           ],
           [
            0.6666666666666666,
            "rgb(68, 140, 138)"
           ],
           [
            0.8333333333333334,
            "rgb(40, 114, 116)"
           ],
           [
            1,
            "rgb(13, 88, 95)"
           ]
          ],
          "size": 16
         },
         "mode": "markers",
         "type": "scattermapbox",
         "visible": false
        }
       ],
       "layout": {
        "mapbox": {
         "bearing": 0,
         "center": {
          "lat": 46,
          "lon": 4
         },
         "pitch": 0,
         "style": "stamen-terrain",
         "zoom": 3.7
        },
        "template": {
         "data": {
          "bar": [
           {
            "error_x": {
             "color": "#2a3f5f"
            },
            "error_y": {
             "color": "#2a3f5f"
            },
            "marker": {
             "line": {
              "color": "#E5ECF6",
              "width": 0.5
             },
             "pattern": {
              "fillmode": "overlay",
              "size": 10,
              "solidity": 0.2
             }
            },
            "type": "bar"
           }
          ],
          "barpolar": [
           {
            "marker": {
             "line": {
              "color": "#E5ECF6",
              "width": 0.5
             },
             "pattern": {
              "fillmode": "overlay",
              "size": 10,
              "solidity": 0.2
             }
            },
            "type": "barpolar"
           }
          ],
          "carpet": [
           {
            "aaxis": {
             "endlinecolor": "#2a3f5f",
             "gridcolor": "white",
             "linecolor": "white",
             "minorgridcolor": "white",
             "startlinecolor": "#2a3f5f"
            },
            "baxis": {
             "endlinecolor": "#2a3f5f",
             "gridcolor": "white",
             "linecolor": "white",
             "minorgridcolor": "white",
             "startlinecolor": "#2a3f5f"
            },
            "type": "carpet"
           }
          ],
          "choropleth": [
           {
            "colorbar": {
             "outlinewidth": 0,
             "ticks": ""
            },
            "type": "choropleth"
           }
          ],
          "contour": [
           {
            "colorbar": {
             "outlinewidth": 0,
             "ticks": ""
            },
            "colorscale": [
             [
              0,
              "#0d0887"
             ],
             [
              0.1111111111111111,
              "#46039f"
             ],
             [
              0.2222222222222222,
              "#7201a8"
             ],
             [
              0.3333333333333333,
              "#9c179e"
             ],
             [
              0.4444444444444444,
              "#bd3786"
             ],
             [
              0.5555555555555556,
              "#d8576b"
             ],
             [
              0.6666666666666666,
              "#ed7953"
             ],
             [
              0.7777777777777778,
              "#fb9f3a"
             ],
             [
              0.8888888888888888,
              "#fdca26"
             ],
             [
              1,
              "#f0f921"
             ]
            ],
            "type": "contour"
           }
          ],
          "contourcarpet": [
           {
            "colorbar": {
             "outlinewidth": 0,
             "ticks": ""
            },
            "type": "contourcarpet"
           }
          ],
          "heatmap": [
           {
            "colorbar": {
             "outlinewidth": 0,
             "ticks": ""
            },
            "colorscale": [
             [
              0,
              "#0d0887"
             ],
             [
              0.1111111111111111,
              "#46039f"
             ],
             [
              0.2222222222222222,
              "#7201a8"
             ],
             [
              0.3333333333333333,
              "#9c179e"
             ],
             [
              0.4444444444444444,
              "#bd3786"
             ],
             [
              0.5555555555555556,
              "#d8576b"
             ],
             [
              0.6666666666666666,
              "#ed7953"
             ],
             [
              0.7777777777777778,
              "#fb9f3a"
             ],
             [
              0.8888888888888888,
              "#fdca26"
             ],
             [
              1,
              "#f0f921"
             ]
            ],
            "type": "heatmap"
           }
          ],
          "heatmapgl": [
           {
            "colorbar": {
             "outlinewidth": 0,
             "ticks": ""
            },
            "colorscale": [
             [
              0,
              "#0d0887"
             ],
             [
              0.1111111111111111,
              "#46039f"
             ],
             [
              0.2222222222222222,
              "#7201a8"
             ],
             [
              0.3333333333333333,
              "#9c179e"
             ],
             [
              0.4444444444444444,
              "#bd3786"
             ],
             [
              0.5555555555555556,
              "#d8576b"
             ],
             [
              0.6666666666666666,
              "#ed7953"
             ],
             [
              0.7777777777777778,
              "#fb9f3a"
             ],
             [
              0.8888888888888888,
              "#fdca26"
             ],
             [
              1,
              "#f0f921"
             ]
            ],
            "type": "heatmapgl"
           }
          ],
          "histogram": [
           {
            "marker": {
             "pattern": {
              "fillmode": "overlay",
              "size": 10,
              "solidity": 0.2
             }
            },
            "type": "histogram"
           }
          ],
          "histogram2d": [
           {
            "colorbar": {
             "outlinewidth": 0,
             "ticks": ""
            },
            "colorscale": [
             [
              0,
              "#0d0887"
             ],
             [
              0.1111111111111111,
              "#46039f"
             ],
             [
              0.2222222222222222,
              "#7201a8"
             ],
             [
              0.3333333333333333,
              "#9c179e"
             ],
             [
              0.4444444444444444,
              "#bd3786"
             ],
             [
              0.5555555555555556,
              "#d8576b"
             ],
             [
              0.6666666666666666,
              "#ed7953"
             ],
             [
              0.7777777777777778,
              "#fb9f3a"
             ],
             [
              0.8888888888888888,
              "#fdca26"
             ],
             [
              1,
              "#f0f921"
             ]
            ],
            "type": "histogram2d"
           }
          ],
          "histogram2dcontour": [
           {
            "colorbar": {
             "outlinewidth": 0,
             "ticks": ""
            },
            "colorscale": [
             [
              0,
              "#0d0887"
             ],
             [
              0.1111111111111111,
              "#46039f"
             ],
             [
              0.2222222222222222,
              "#7201a8"
             ],
             [
              0.3333333333333333,
              "#9c179e"
             ],
             [
              0.4444444444444444,
              "#bd3786"
             ],
             [
              0.5555555555555556,
              "#d8576b"
             ],
             [
              0.6666666666666666,
              "#ed7953"
             ],
             [
              0.7777777777777778,
              "#fb9f3a"
             ],
             [
              0.8888888888888888,
              "#fdca26"
             ],
             [
              1,
              "#f0f921"
             ]
            ],
            "type": "histogram2dcontour"
           }
          ],
          "mesh3d": [
           {
            "colorbar": {
             "outlinewidth": 0,
             "ticks": ""
            },
            "type": "mesh3d"
           }
          ],
          "parcoords": [
           {
            "line": {
             "colorbar": {
              "outlinewidth": 0,
              "ticks": ""
             }
            },
            "type": "parcoords"
           }
          ],
          "pie": [
           {
            "automargin": true,
            "type": "pie"
           }
          ],
          "scatter": [
           {
            "marker": {
             "colorbar": {
              "outlinewidth": 0,
              "ticks": ""
             }
            },
            "type": "scatter"
           }
          ],
          "scatter3d": [
           {
            "line": {
             "colorbar": {
              "outlinewidth": 0,
              "ticks": ""
             }
            },
            "marker": {
             "colorbar": {
              "outlinewidth": 0,
              "ticks": ""
             }
            },
            "type": "scatter3d"
           }
          ],
          "scattercarpet": [
           {
            "marker": {
             "colorbar": {
              "outlinewidth": 0,
              "ticks": ""
             }
            },
            "type": "scattercarpet"
           }
          ],
          "scattergeo": [
           {
            "marker": {
             "colorbar": {
              "outlinewidth": 0,
              "ticks": ""
             }
            },
            "type": "scattergeo"
           }
          ],
          "scattergl": [
           {
            "marker": {
             "colorbar": {
              "outlinewidth": 0,
              "ticks": ""
             }
            },
            "type": "scattergl"
           }
          ],
          "scattermapbox": [
           {
            "marker": {
             "colorbar": {
              "outlinewidth": 0,
              "ticks": ""
             }
            },
            "type": "scattermapbox"
           }
          ],
          "scatterpolar": [
           {
            "marker": {
             "colorbar": {
              "outlinewidth": 0,
              "ticks": ""
             }
            },
            "type": "scatterpolar"
           }
          ],
          "scatterpolargl": [
           {
            "marker": {
             "colorbar": {
              "outlinewidth": 0,
              "ticks": ""
             }
            },
            "type": "scatterpolargl"
           }
          ],
          "scatterternary": [
           {
            "marker": {
             "colorbar": {
              "outlinewidth": 0,
              "ticks": ""
             }
            },
            "type": "scatterternary"
           }
          ],
          "surface": [
           {
            "colorbar": {
             "outlinewidth": 0,
             "ticks": ""
            },
            "colorscale": [
             [
              0,
              "#0d0887"
             ],
             [
              0.1111111111111111,
              "#46039f"
             ],
             [
              0.2222222222222222,
              "#7201a8"
             ],
             [
              0.3333333333333333,
              "#9c179e"
             ],
             [
              0.4444444444444444,
              "#bd3786"
             ],
             [
              0.5555555555555556,
              "#d8576b"
             ],
             [
              0.6666666666666666,
              "#ed7953"
             ],
             [
              0.7777777777777778,
              "#fb9f3a"
             ],
             [
              0.8888888888888888,
              "#fdca26"
             ],
             [
              1,
              "#f0f921"
             ]
            ],
            "type": "surface"
           }
          ],
          "table": [
           {
            "cells": {
             "fill": {
              "color": "#EBF0F8"
             },
             "line": {
              "color": "white"
             }
            },
            "header": {
             "fill": {
              "color": "#C8D4E3"
             },
             "line": {
              "color": "white"
             }
            },
            "type": "table"
           }
          ]
         },
         "layout": {
          "annotationdefaults": {
           "arrowcolor": "#2a3f5f",
           "arrowhead": 0,
           "arrowwidth": 1
          },
          "autotypenumbers": "strict",
          "coloraxis": {
           "colorbar": {
            "outlinewidth": 0,
            "ticks": ""
           }
          },
          "colorscale": {
           "diverging": [
            [
             0,
             "#8e0152"
            ],
            [
             0.1,
             "#c51b7d"
            ],
            [
             0.2,
             "#de77ae"
            ],
            [
             0.3,
             "#f1b6da"
            ],
            [
             0.4,
             "#fde0ef"
            ],
            [
             0.5,
             "#f7f7f7"
            ],
            [
             0.6,
             "#e6f5d0"
            ],
            [
             0.7,
             "#b8e186"
            ],
            [
             0.8,
             "#7fbc41"
            ],
            [
             0.9,
             "#4d9221"
            ],
            [
             1,
             "#276419"
            ]
           ],
           "sequential": [
            [
             0,
             "#0d0887"
            ],
            [
             0.1111111111111111,
             "#46039f"
            ],
            [
             0.2222222222222222,
             "#7201a8"
            ],
            [
             0.3333333333333333,
             "#9c179e"
            ],
            [
             0.4444444444444444,
             "#bd3786"
            ],
            [
             0.5555555555555556,
             "#d8576b"
            ],
            [
             0.6666666666666666,
             "#ed7953"
            ],
            [
             0.7777777777777778,
             "#fb9f3a"
            ],
            [
             0.8888888888888888,
             "#fdca26"
            ],
            [
             1,
             "#f0f921"
            ]
           ],
           "sequentialminus": [
            [
             0,
             "#0d0887"
            ],
            [
             0.1111111111111111,
             "#46039f"
            ],
            [
             0.2222222222222222,
             "#7201a8"
            ],
            [
             0.3333333333333333,
             "#9c179e"
            ],
            [
             0.4444444444444444,
             "#bd3786"
            ],
            [
             0.5555555555555556,
             "#d8576b"
            ],
            [
             0.6666666666666666,
             "#ed7953"
            ],
            [
             0.7777777777777778,
             "#fb9f3a"
            ],
            [
             0.8888888888888888,
             "#fdca26"
            ],
            [
             1,
             "#f0f921"
            ]
           ]
          },
          "colorway": [
           "#636efa",
           "#EF553B",
           "#00cc96",
           "#ab63fa",
           "#FFA15A",
           "#19d3f3",
           "#FF6692",
           "#B6E880",
           "#FF97FF",
           "#FECB52"
          ],
          "font": {
           "color": "#2a3f5f"
          },
          "geo": {
           "bgcolor": "white",
           "lakecolor": "white",
           "landcolor": "#E5ECF6",
           "showlakes": true,
           "showland": true,
           "subunitcolor": "white"
          },
          "hoverlabel": {
           "align": "left"
          },
          "hovermode": "closest",
          "mapbox": {
           "style": "light"
          },
          "paper_bgcolor": "white",
          "plot_bgcolor": "#E5ECF6",
          "polar": {
           "angularaxis": {
            "gridcolor": "white",
            "linecolor": "white",
            "ticks": ""
           },
           "bgcolor": "#E5ECF6",
           "radialaxis": {
            "gridcolor": "white",
            "linecolor": "white",
            "ticks": ""
           }
          },
          "scene": {
           "xaxis": {
            "backgroundcolor": "#E5ECF6",
            "gridcolor": "white",
            "gridwidth": 2,
            "linecolor": "white",
            "showbackground": true,
            "ticks": "",
            "zerolinecolor": "white"
           },
           "yaxis": {
            "backgroundcolor": "#E5ECF6",
            "gridcolor": "white",
            "gridwidth": 2,
            "linecolor": "white",
            "showbackground": true,
            "ticks": "",
            "zerolinecolor": "white"
           },
           "zaxis": {
            "backgroundcolor": "#E5ECF6",
            "gridcolor": "white",
            "gridwidth": 2,
            "linecolor": "white",
            "showbackground": true,
            "ticks": "",
            "zerolinecolor": "white"
           }
          },
          "shapedefaults": {
           "line": {
            "color": "#2a3f5f"
           }
          },
          "ternary": {
           "aaxis": {
            "gridcolor": "white",
            "linecolor": "white",
            "ticks": ""
           },
           "baxis": {
            "gridcolor": "white",
            "linecolor": "white",
            "ticks": ""
           },
           "bgcolor": "#E5ECF6",
           "caxis": {
            "gridcolor": "white",
            "linecolor": "white",
            "ticks": ""
           }
          },
          "title": {
           "x": 0.05
          },
          "xaxis": {
           "automargin": true,
           "gridcolor": "white",
           "linecolor": "white",
           "ticks": "",
           "title": {
            "standoff": 15
           },
           "zerolinecolor": "white",
           "zerolinewidth": 2
          },
          "yaxis": {
           "automargin": true,
           "gridcolor": "white",
           "linecolor": "white",
           "ticks": "",
           "title": {
            "standoff": 15
           },
           "zerolinecolor": "white",
           "zerolinewidth": 2
          }
         }
        },
        "title": {
         "font": {
          "color": "purple",
          "family": "Open Sans",
          "size": 24
         },
         "text": "Le Top 20 des destinations météo en France ! Du 04/10 au 08/10"
        },
        "updatemenus": [
         {
          "active": 0,
          "buttons": [
           {
            "args": [
             {
              "visible": [
               true,
               false,
               false,
               false,
               false,
               false
              ]
             }
            ],
            "label": "Par météo globale (en journée)",
            "method": "update"
           },
           {
            "args": [
             {
              "visible": [
               false,
               true,
               false,
               false,
               false,
               false
              ]
             }
            ],
            "label": "Par températures moyennes (en journée)",
            "method": "update"
           },
           {
            "args": [
             {
              "visible": [
               false,
               false,
               true,
               false,
               false,
               false
              ]
             }
            ],
            "label": "Par vitesse de vent moyen (en journée)",
            "method": "update"
           },
           {
            "args": [
             {
              "visible": [
               false,
               false,
               false,
               true,
               false,
               false
              ]
             }
            ],
            "label": "Par taux d'humidité relative moyenne (en journée)",
            "method": "update"
           },
           {
            "args": [
             {
              "visible": [
               false,
               false,
               false,
               false,
               true,
               false
              ]
             }
            ],
            "label": "Par encombrement du ciel moyen (en journée)",
            "method": "update"
           },
           {
            "args": [
             {
              "visible": [
               false,
               false,
               false,
               false,
               false,
               true
              ]
             }
            ],
            "label": "Par probabilité moyenne de pluie (en journée)",
            "method": "update"
           }
          ]
         }
        ]
       }
      }
     },
     "metadata": {},
     "output_type": "display_data"
    }
   ],
   "source": [
    "map_of_best_dest(data,20)"
   ]
  },
  {
   "cell_type": "markdown",
   "metadata": {},
   "source": [
    "Et maintenant notre top 5..."
   ]
  },
  {
   "cell_type": "code",
   "execution_count": 23,
   "metadata": {},
   "outputs": [
    {
     "data": {
      "application/vnd.plotly.v1+json": {
       "config": {
        "plotlyServerURL": "https://plot.ly"
       },
       "data": [
        {
         "hoverinfo": "text",
         "hovertext": [
          "Collioure",
          "Aix en Provence",
          "Bayonne",
          "Carcassonne",
          "Cassis"
         ],
         "lat": [
          42.52505,
          43.5298424,
          43.4945144,
          43.2130358,
          43.2140359
         ],
         "lon": [
          3.0831554,
          5.4474738,
          -1.4736657,
          2.3491069,
          5.5396318
         ],
         "marker": {
          "cmax": 21.0975,
          "cmin": 20.59,
          "color": [
           21.0975,
           20.8,
           20.73,
           20.68,
           20.59
          ],
          "colorbar": {
           "bgcolor": "aliceblue",
           "len": 1.1,
           "title": {
            "font": {
             "color": "purple",
             "family": "Arial",
             "size": 16
            },
            "side": "right",
            "text": "Echelle de bonne meteo globale (OWM)"
           },
           "x": 1.08,
           "y": 0.5
          },
          "colorscale": [
           [
            0,
            "rgb(249, 221, 218)"
           ],
           [
            0.16666666666666666,
            "rgb(242, 185, 196)"
           ],
           [
            0.3333333333333333,
            "rgb(229, 151, 185)"
           ],
           [
            0.5,
            "rgb(206, 120, 179)"
           ],
           [
            0.6666666666666666,
            "rgb(173, 95, 173)"
           ],
           [
            0.8333333333333334,
            "rgb(131, 75, 160)"
           ],
           [
            1,
            "rgb(87, 59, 136)"
           ]
          ],
          "size": 16
         },
         "mode": "markers",
         "type": "scattermapbox",
         "visible": true
        },
        {
         "hoverinfo": "text",
         "hovertext": [
          "Aix en Provence",
          "Collioure",
          "Carcassonne",
          "Cassis",
          "Avignon"
         ],
         "lat": [
          43.5298424,
          42.52505,
          43.2130358,
          43.2140359,
          43.9492493
         ],
         "lon": [
          5.4474738,
          3.0831554,
          2.3491069,
          5.5396318,
          4.8059012
         ],
         "marker": {
          "cmax": 21.387500000000003,
          "cmin": 20.895,
          "color": [
           21.387500000000003,
           21.365,
           21.102500000000003,
           20.92,
           20.895
          ],
          "colorbar": {
           "bgcolor": "aliceblue",
           "len": 1.1,
           "title": {
            "font": {
             "color": "purple",
             "family": "Arial",
             "size": 16
            },
            "side": "right",
            "text": "Echelle de températures (°C)"
           },
           "x": 1.08,
           "y": 0.5
          },
          "colorscale": [
           [
            0,
            "rgb(255,245,235)"
           ],
           [
            0.125,
            "rgb(254,230,206)"
           ],
           [
            0.25,
            "rgb(253,208,162)"
           ],
           [
            0.375,
            "rgb(253,174,107)"
           ],
           [
            0.5,
            "rgb(253,141,60)"
           ],
           [
            0.625,
            "rgb(241,105,19)"
           ],
           [
            0.75,
            "rgb(217,72,1)"
           ],
           [
            0.875,
            "rgb(166,54,3)"
           ],
           [
            1,
            "rgb(127,39,4)"
           ]
          ],
          "size": 16
         },
         "mode": "markers",
         "type": "scattermapbox",
         "visible": false
        },
        {
         "hoverinfo": "text",
         "hovertext": [
          "Toulouse",
          "Lyon",
          "Strasbourg",
          "Annecy",
          "Montauban"
         ],
         "lat": [
          43.6044622,
          45.7578137,
          48.584614,
          45.8992348,
          44.0175835
         ],
         "lon": [
          1.4442469,
          4.8320114,
          7.7507127,
          6.1288847,
          1.3549991
         ],
         "marker": {
          "cmax": 1.0025,
          "cmin": 0.87,
          "color": [
           0.87,
           0.88,
           0.9725,
           0.99,
           1.0025
          ],
          "colorbar": {
           "bgcolor": "aliceblue",
           "len": 1.1,
           "title": {
            "font": {
             "color": "purple",
             "family": "Arial",
             "size": 16
            },
            "side": "right",
            "text": "Echelle de vent faible (noeuds)"
           },
           "x": 1.08,
           "y": 0.5
          },
          "colorscale": [
           [
            0,
            "rgb(176, 242, 188)"
           ],
           [
            0.16666666666666666,
            "rgb(137, 232, 172)"
           ],
           [
            0.3333333333333333,
            "rgb(103, 219, 165)"
           ],
           [
            0.5,
            "rgb(76, 200, 163)"
           ],
           [
            0.6666666666666666,
            "rgb(56, 178, 163)"
           ],
           [
            0.8333333333333334,
            "rgb(44, 152, 160)"
           ],
           [
            1,
            "rgb(37, 125, 152)"
           ]
          ],
          "size": 16
         },
         "mode": "markers",
         "type": "scattermapbox",
         "visible": false
        },
        {
         "hoverinfo": "text",
         "hovertext": [
          "Aix en Provence",
          "Paris",
          "Gorges du Verdon",
          "Nimes",
          "Ariege"
         ],
         "lat": [
          43.5298424,
          48.8588897,
          43.7496562,
          43.8374249,
          42.9455368
         ],
         "lon": [
          5.4474738,
          2.3200410217200766,
          6.3285616,
          4.3600687,
          1.4065544156065486
         ],
         "marker": {
          "cmax": 53,
          "cmin": 46.75,
          "color": [
           46.75,
           49.75,
           50,
           51.75,
           53
          ],
          "colorbar": {
           "bgcolor": "aliceblue",
           "len": 1.1,
           "title": {
            "font": {
             "color": "purple",
             "family": "Arial",
             "size": 16
            },
            "side": "right",
            "text": "Echelle de taux d'humidité relative (%)"
           },
           "x": 1.08,
           "y": 0.5
          },
          "colorscale": [
           [
            0,
            "rgb(196, 230, 195)"
           ],
           [
            0.16666666666666666,
            "rgb(150, 210, 164)"
           ],
           [
            0.3333333333333333,
            "rgb(109, 188, 144)"
           ],
           [
            0.5,
            "rgb(77, 162, 132)"
           ],
           [
            0.6666666666666666,
            "rgb(54, 135, 122)"
           ],
           [
            0.8333333333333334,
            "rgb(38, 107, 110)"
           ],
           [
            1,
            "rgb(29, 79, 96)"
           ]
          ],
          "size": 16
         },
         "mode": "markers",
         "type": "scattermapbox",
         "visible": false
        },
        {
         "hoverinfo": "text",
         "hovertext": [
          "Bormes les Mimosas",
          "Marseille",
          "Aix en Provence",
          "Avignon",
          "Uzes"
         ],
         "lat": [
          43.1506968,
          43.2961743,
          43.5298424,
          43.9492493,
          44.0121279
         ],
         "lon": [
          6.3419285,
          5.3699525,
          5.4474738,
          4.8059012,
          4.4196718
         ],
         "marker": {
          "cmax": 1,
          "cmin": 1,
          "color": [
           1,
           1,
           1,
           1,
           1
          ],
          "colorbar": {
           "bgcolor": "aliceblue",
           "len": 1.1,
           "title": {
            "font": {
             "color": "purple",
             "family": "Arial",
             "size": 16
            },
            "side": "right",
            "text": "Echelle de ciel encombré (sur 10)"
           },
           "x": 1.08,
           "y": 0.5
          },
          "colorscale": [
           [
            0,
            "rgb(247,251,255)"
           ],
           [
            0.125,
            "rgb(222,235,247)"
           ],
           [
            0.25,
            "rgb(198,219,239)"
           ],
           [
            0.375,
            "rgb(158,202,225)"
           ],
           [
            0.5,
            "rgb(107,174,214)"
           ],
           [
            0.625,
            "rgb(66,146,198)"
           ],
           [
            0.75,
            "rgb(33,113,181)"
           ],
           [
            0.875,
            "rgb(8,81,156)"
           ],
           [
            1,
            "rgb(8,48,107)"
           ]
          ],
          "size": 16
         },
         "mode": "markers",
         "type": "scattermapbox",
         "visible": false
        },
        {
         "hoverinfo": "text",
         "hovertext": [
          "Mont Saint Michel",
          "Marseille",
          "Aix en Provence",
          "Avignon",
          "Uzes"
         ],
         "lat": [
          48.6359541,
          43.2961743,
          43.5298424,
          43.9492493,
          44.0121279
         ],
         "lon": [
          -1.511459954959514,
          5.3699525,
          5.4474738,
          4.8059012,
          4.4196718
         ],
         "marker": {
          "cmax": 0,
          "cmin": 0,
          "color": [
           0,
           0,
           0,
           0,
           0
          ],
          "colorbar": {
           "bgcolor": "aliceblue",
           "len": 1.1,
           "title": {
            "font": {
             "color": "purple",
             "family": "Arial",
             "size": 16
            },
            "side": "right",
            "text": "Echelle de probabilité de precipitations"
           },
           "x": 1.08,
           "y": 0.5
          },
          "colorscale": [
           [
            0,
            "rgb(228, 241, 225)"
           ],
           [
            0.16666666666666666,
            "rgb(180, 217, 204)"
           ],
           [
            0.3333333333333333,
            "rgb(137, 192, 182)"
           ],
           [
            0.5,
            "rgb(99, 166, 160)"
           ],
           [
            0.6666666666666666,
            "rgb(68, 140, 138)"
           ],
           [
            0.8333333333333334,
            "rgb(40, 114, 116)"
           ],
           [
            1,
            "rgb(13, 88, 95)"
           ]
          ],
          "size": 16
         },
         "mode": "markers",
         "type": "scattermapbox",
         "visible": false
        }
       ],
       "layout": {
        "mapbox": {
         "bearing": 0,
         "center": {
          "lat": 46,
          "lon": 4
         },
         "pitch": 0,
         "style": "stamen-terrain",
         "zoom": 3.7
        },
        "template": {
         "data": {
          "bar": [
           {
            "error_x": {
             "color": "#2a3f5f"
            },
            "error_y": {
             "color": "#2a3f5f"
            },
            "marker": {
             "line": {
              "color": "#E5ECF6",
              "width": 0.5
             },
             "pattern": {
              "fillmode": "overlay",
              "size": 10,
              "solidity": 0.2
             }
            },
            "type": "bar"
           }
          ],
          "barpolar": [
           {
            "marker": {
             "line": {
              "color": "#E5ECF6",
              "width": 0.5
             },
             "pattern": {
              "fillmode": "overlay",
              "size": 10,
              "solidity": 0.2
             }
            },
            "type": "barpolar"
           }
          ],
          "carpet": [
           {
            "aaxis": {
             "endlinecolor": "#2a3f5f",
             "gridcolor": "white",
             "linecolor": "white",
             "minorgridcolor": "white",
             "startlinecolor": "#2a3f5f"
            },
            "baxis": {
             "endlinecolor": "#2a3f5f",
             "gridcolor": "white",
             "linecolor": "white",
             "minorgridcolor": "white",
             "startlinecolor": "#2a3f5f"
            },
            "type": "carpet"
           }
          ],
          "choropleth": [
           {
            "colorbar": {
             "outlinewidth": 0,
             "ticks": ""
            },
            "type": "choropleth"
           }
          ],
          "contour": [
           {
            "colorbar": {
             "outlinewidth": 0,
             "ticks": ""
            },
            "colorscale": [
             [
              0,
              "#0d0887"
             ],
             [
              0.1111111111111111,
              "#46039f"
             ],
             [
              0.2222222222222222,
              "#7201a8"
             ],
             [
              0.3333333333333333,
              "#9c179e"
             ],
             [
              0.4444444444444444,
              "#bd3786"
             ],
             [
              0.5555555555555556,
              "#d8576b"
             ],
             [
              0.6666666666666666,
              "#ed7953"
             ],
             [
              0.7777777777777778,
              "#fb9f3a"
             ],
             [
              0.8888888888888888,
              "#fdca26"
             ],
             [
              1,
              "#f0f921"
             ]
            ],
            "type": "contour"
           }
          ],
          "contourcarpet": [
           {
            "colorbar": {
             "outlinewidth": 0,
             "ticks": ""
            },
            "type": "contourcarpet"
           }
          ],
          "heatmap": [
           {
            "colorbar": {
             "outlinewidth": 0,
             "ticks": ""
            },
            "colorscale": [
             [
              0,
              "#0d0887"
             ],
             [
              0.1111111111111111,
              "#46039f"
             ],
             [
              0.2222222222222222,
              "#7201a8"
             ],
             [
              0.3333333333333333,
              "#9c179e"
             ],
             [
              0.4444444444444444,
              "#bd3786"
             ],
             [
              0.5555555555555556,
              "#d8576b"
             ],
             [
              0.6666666666666666,
              "#ed7953"
             ],
             [
              0.7777777777777778,
              "#fb9f3a"
             ],
             [
              0.8888888888888888,
              "#fdca26"
             ],
             [
              1,
              "#f0f921"
             ]
            ],
            "type": "heatmap"
           }
          ],
          "heatmapgl": [
           {
            "colorbar": {
             "outlinewidth": 0,
             "ticks": ""
            },
            "colorscale": [
             [
              0,
              "#0d0887"
             ],
             [
              0.1111111111111111,
              "#46039f"
             ],
             [
              0.2222222222222222,
              "#7201a8"
             ],
             [
              0.3333333333333333,
              "#9c179e"
             ],
             [
              0.4444444444444444,
              "#bd3786"
             ],
             [
              0.5555555555555556,
              "#d8576b"
             ],
             [
              0.6666666666666666,
              "#ed7953"
             ],
             [
              0.7777777777777778,
              "#fb9f3a"
             ],
             [
              0.8888888888888888,
              "#fdca26"
             ],
             [
              1,
              "#f0f921"
             ]
            ],
            "type": "heatmapgl"
           }
          ],
          "histogram": [
           {
            "marker": {
             "pattern": {
              "fillmode": "overlay",
              "size": 10,
              "solidity": 0.2
             }
            },
            "type": "histogram"
           }
          ],
          "histogram2d": [
           {
            "colorbar": {
             "outlinewidth": 0,
             "ticks": ""
            },
            "colorscale": [
             [
              0,
              "#0d0887"
             ],
             [
              0.1111111111111111,
              "#46039f"
             ],
             [
              0.2222222222222222,
              "#7201a8"
             ],
             [
              0.3333333333333333,
              "#9c179e"
             ],
             [
              0.4444444444444444,
              "#bd3786"
             ],
             [
              0.5555555555555556,
              "#d8576b"
             ],
             [
              0.6666666666666666,
              "#ed7953"
             ],
             [
              0.7777777777777778,
              "#fb9f3a"
             ],
             [
              0.8888888888888888,
              "#fdca26"
             ],
             [
              1,
              "#f0f921"
             ]
            ],
            "type": "histogram2d"
           }
          ],
          "histogram2dcontour": [
           {
            "colorbar": {
             "outlinewidth": 0,
             "ticks": ""
            },
            "colorscale": [
             [
              0,
              "#0d0887"
             ],
             [
              0.1111111111111111,
              "#46039f"
             ],
             [
              0.2222222222222222,
              "#7201a8"
             ],
             [
              0.3333333333333333,
              "#9c179e"
             ],
             [
              0.4444444444444444,
              "#bd3786"
             ],
             [
              0.5555555555555556,
              "#d8576b"
             ],
             [
              0.6666666666666666,
              "#ed7953"
             ],
             [
              0.7777777777777778,
              "#fb9f3a"
             ],
             [
              0.8888888888888888,
              "#fdca26"
             ],
             [
              1,
              "#f0f921"
             ]
            ],
            "type": "histogram2dcontour"
           }
          ],
          "mesh3d": [
           {
            "colorbar": {
             "outlinewidth": 0,
             "ticks": ""
            },
            "type": "mesh3d"
           }
          ],
          "parcoords": [
           {
            "line": {
             "colorbar": {
              "outlinewidth": 0,
              "ticks": ""
             }
            },
            "type": "parcoords"
           }
          ],
          "pie": [
           {
            "automargin": true,
            "type": "pie"
           }
          ],
          "scatter": [
           {
            "marker": {
             "colorbar": {
              "outlinewidth": 0,
              "ticks": ""
             }
            },
            "type": "scatter"
           }
          ],
          "scatter3d": [
           {
            "line": {
             "colorbar": {
              "outlinewidth": 0,
              "ticks": ""
             }
            },
            "marker": {
             "colorbar": {
              "outlinewidth": 0,
              "ticks": ""
             }
            },
            "type": "scatter3d"
           }
          ],
          "scattercarpet": [
           {
            "marker": {
             "colorbar": {
              "outlinewidth": 0,
              "ticks": ""
             }
            },
            "type": "scattercarpet"
           }
          ],
          "scattergeo": [
           {
            "marker": {
             "colorbar": {
              "outlinewidth": 0,
              "ticks": ""
             }
            },
            "type": "scattergeo"
           }
          ],
          "scattergl": [
           {
            "marker": {
             "colorbar": {
              "outlinewidth": 0,
              "ticks": ""
             }
            },
            "type": "scattergl"
           }
          ],
          "scattermapbox": [
           {
            "marker": {
             "colorbar": {
              "outlinewidth": 0,
              "ticks": ""
             }
            },
            "type": "scattermapbox"
           }
          ],
          "scatterpolar": [
           {
            "marker": {
             "colorbar": {
              "outlinewidth": 0,
              "ticks": ""
             }
            },
            "type": "scatterpolar"
           }
          ],
          "scatterpolargl": [
           {
            "marker": {
             "colorbar": {
              "outlinewidth": 0,
              "ticks": ""
             }
            },
            "type": "scatterpolargl"
           }
          ],
          "scatterternary": [
           {
            "marker": {
             "colorbar": {
              "outlinewidth": 0,
              "ticks": ""
             }
            },
            "type": "scatterternary"
           }
          ],
          "surface": [
           {
            "colorbar": {
             "outlinewidth": 0,
             "ticks": ""
            },
            "colorscale": [
             [
              0,
              "#0d0887"
             ],
             [
              0.1111111111111111,
              "#46039f"
             ],
             [
              0.2222222222222222,
              "#7201a8"
             ],
             [
              0.3333333333333333,
              "#9c179e"
             ],
             [
              0.4444444444444444,
              "#bd3786"
             ],
             [
              0.5555555555555556,
              "#d8576b"
             ],
             [
              0.6666666666666666,
              "#ed7953"
             ],
             [
              0.7777777777777778,
              "#fb9f3a"
             ],
             [
              0.8888888888888888,
              "#fdca26"
             ],
             [
              1,
              "#f0f921"
             ]
            ],
            "type": "surface"
           }
          ],
          "table": [
           {
            "cells": {
             "fill": {
              "color": "#EBF0F8"
             },
             "line": {
              "color": "white"
             }
            },
            "header": {
             "fill": {
              "color": "#C8D4E3"
             },
             "line": {
              "color": "white"
             }
            },
            "type": "table"
           }
          ]
         },
         "layout": {
          "annotationdefaults": {
           "arrowcolor": "#2a3f5f",
           "arrowhead": 0,
           "arrowwidth": 1
          },
          "autotypenumbers": "strict",
          "coloraxis": {
           "colorbar": {
            "outlinewidth": 0,
            "ticks": ""
           }
          },
          "colorscale": {
           "diverging": [
            [
             0,
             "#8e0152"
            ],
            [
             0.1,
             "#c51b7d"
            ],
            [
             0.2,
             "#de77ae"
            ],
            [
             0.3,
             "#f1b6da"
            ],
            [
             0.4,
             "#fde0ef"
            ],
            [
             0.5,
             "#f7f7f7"
            ],
            [
             0.6,
             "#e6f5d0"
            ],
            [
             0.7,
             "#b8e186"
            ],
            [
             0.8,
             "#7fbc41"
            ],
            [
             0.9,
             "#4d9221"
            ],
            [
             1,
             "#276419"
            ]
           ],
           "sequential": [
            [
             0,
             "#0d0887"
            ],
            [
             0.1111111111111111,
             "#46039f"
            ],
            [
             0.2222222222222222,
             "#7201a8"
            ],
            [
             0.3333333333333333,
             "#9c179e"
            ],
            [
             0.4444444444444444,
             "#bd3786"
            ],
            [
             0.5555555555555556,
             "#d8576b"
            ],
            [
             0.6666666666666666,
             "#ed7953"
            ],
            [
             0.7777777777777778,
             "#fb9f3a"
            ],
            [
             0.8888888888888888,
             "#fdca26"
            ],
            [
             1,
             "#f0f921"
            ]
           ],
           "sequentialminus": [
            [
             0,
             "#0d0887"
            ],
            [
             0.1111111111111111,
             "#46039f"
            ],
            [
             0.2222222222222222,
             "#7201a8"
            ],
            [
             0.3333333333333333,
             "#9c179e"
            ],
            [
             0.4444444444444444,
             "#bd3786"
            ],
            [
             0.5555555555555556,
             "#d8576b"
            ],
            [
             0.6666666666666666,
             "#ed7953"
            ],
            [
             0.7777777777777778,
             "#fb9f3a"
            ],
            [
             0.8888888888888888,
             "#fdca26"
            ],
            [
             1,
             "#f0f921"
            ]
           ]
          },
          "colorway": [
           "#636efa",
           "#EF553B",
           "#00cc96",
           "#ab63fa",
           "#FFA15A",
           "#19d3f3",
           "#FF6692",
           "#B6E880",
           "#FF97FF",
           "#FECB52"
          ],
          "font": {
           "color": "#2a3f5f"
          },
          "geo": {
           "bgcolor": "white",
           "lakecolor": "white",
           "landcolor": "#E5ECF6",
           "showlakes": true,
           "showland": true,
           "subunitcolor": "white"
          },
          "hoverlabel": {
           "align": "left"
          },
          "hovermode": "closest",
          "mapbox": {
           "style": "light"
          },
          "paper_bgcolor": "white",
          "plot_bgcolor": "#E5ECF6",
          "polar": {
           "angularaxis": {
            "gridcolor": "white",
            "linecolor": "white",
            "ticks": ""
           },
           "bgcolor": "#E5ECF6",
           "radialaxis": {
            "gridcolor": "white",
            "linecolor": "white",
            "ticks": ""
           }
          },
          "scene": {
           "xaxis": {
            "backgroundcolor": "#E5ECF6",
            "gridcolor": "white",
            "gridwidth": 2,
            "linecolor": "white",
            "showbackground": true,
            "ticks": "",
            "zerolinecolor": "white"
           },
           "yaxis": {
            "backgroundcolor": "#E5ECF6",
            "gridcolor": "white",
            "gridwidth": 2,
            "linecolor": "white",
            "showbackground": true,
            "ticks": "",
            "zerolinecolor": "white"
           },
           "zaxis": {
            "backgroundcolor": "#E5ECF6",
            "gridcolor": "white",
            "gridwidth": 2,
            "linecolor": "white",
            "showbackground": true,
            "ticks": "",
            "zerolinecolor": "white"
           }
          },
          "shapedefaults": {
           "line": {
            "color": "#2a3f5f"
           }
          },
          "ternary": {
           "aaxis": {
            "gridcolor": "white",
            "linecolor": "white",
            "ticks": ""
           },
           "baxis": {
            "gridcolor": "white",
            "linecolor": "white",
            "ticks": ""
           },
           "bgcolor": "#E5ECF6",
           "caxis": {
            "gridcolor": "white",
            "linecolor": "white",
            "ticks": ""
           }
          },
          "title": {
           "x": 0.05
          },
          "xaxis": {
           "automargin": true,
           "gridcolor": "white",
           "linecolor": "white",
           "ticks": "",
           "title": {
            "standoff": 15
           },
           "zerolinecolor": "white",
           "zerolinewidth": 2
          },
          "yaxis": {
           "automargin": true,
           "gridcolor": "white",
           "linecolor": "white",
           "ticks": "",
           "title": {
            "standoff": 15
           },
           "zerolinecolor": "white",
           "zerolinewidth": 2
          }
         }
        },
        "title": {
         "font": {
          "color": "purple",
          "family": "Open Sans",
          "size": 24
         },
         "text": "Le Top 5 des destinations météo en France ! Du 04/10 au 08/10"
        },
        "updatemenus": [
         {
          "active": 0,
          "buttons": [
           {
            "args": [
             {
              "visible": [
               true,
               false,
               false,
               false,
               false,
               false
              ]
             }
            ],
            "label": "Par météo globale (en journée)",
            "method": "update"
           },
           {
            "args": [
             {
              "visible": [
               false,
               true,
               false,
               false,
               false,
               false
              ]
             }
            ],
            "label": "Par températures moyennes (en journée)",
            "method": "update"
           },
           {
            "args": [
             {
              "visible": [
               false,
               false,
               true,
               false,
               false,
               false
              ]
             }
            ],
            "label": "Par vitesse de vent moyen (en journée)",
            "method": "update"
           },
           {
            "args": [
             {
              "visible": [
               false,
               false,
               false,
               true,
               false,
               false
              ]
             }
            ],
            "label": "Par taux d'humidité relative moyenne (en journée)",
            "method": "update"
           },
           {
            "args": [
             {
              "visible": [
               false,
               false,
               false,
               false,
               true,
               false
              ]
             }
            ],
            "label": "Par encombrement du ciel moyen (en journée)",
            "method": "update"
           },
           {
            "args": [
             {
              "visible": [
               false,
               false,
               false,
               false,
               false,
               true
              ]
             }
            ],
            "label": "Par probabilité moyenne de pluie (en journée)",
            "method": "update"
           }
          ]
         }
        ]
       }
      }
     },
     "metadata": {},
     "output_type": "display_data"
    }
   ],
   "source": [
    "map_of_best_dest(data,5)"
   ]
  },
  {
   "cell_type": "markdown",
   "metadata": {},
   "source": [
    "L'équipe de développement front-end affinera tout cela !... \n",
    "\n",
    "Il manque aussi à l'utilisateur quelques infos pour savoir comment a été calculé chaque paramètre. Mais cela donne une bonne idée de la visualisation possible.\n",
    "(la direction décidera si on laisse à l'utilisateur la possibilité d'agir sur les boutons (filtres) ou s'il vaut mieux réduire l'affichage de la carte sur le site à son strict minimun ;) mais nous, on aime bien l'idée ! car cela permet une intéraction et intuitivement, l'utlisateur a l'impression qu'on lui 'prescrit' des destinations de 'bonne météo globale' en fonction de divers sous-paramètres qu'il peut visualiser aussi... Cela donne du crédit au paramètre initial 'bonne météo' très arbitraire... Même si les deux ne sont pas corrélés (on rappelle que la variable 'feels-like' est née d'une autre formule particulière interne à l'API Open Weather Map, qu'il faudrait également afficher sur le site par souci d'honnêteté scientifique )"
   ]
  }
 ],
 "metadata": {
  "kernelspec": {
   "display_name": "Python 3.9.12 ('base')",
   "language": "python",
   "name": "python3"
  },
  "language_info": {
   "codemirror_mode": {
    "name": "ipython",
    "version": 3
   },
   "file_extension": ".py",
   "mimetype": "text/x-python",
   "name": "python",
   "nbconvert_exporter": "python",
   "pygments_lexer": "ipython3",
   "version": "3.9.12"
  },
  "orig_nbformat": 4,
  "vscode": {
   "interpreter": {
    "hash": "1cca9558bc5ad879ec93cc030b157d75f18267527c60932cecaace349eef54dd"
   }
  }
 },
 "nbformat": 4,
 "nbformat_minor": 2
}
