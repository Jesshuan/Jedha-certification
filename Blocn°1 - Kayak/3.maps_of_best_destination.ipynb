{
 "cells": [
  {
   "cell_type": "markdown",
   "metadata": {},
   "source": [
    "### 3/ Affichage des maps de top 20 et top 5 de destination"
   ]
  },
  {
   "cell_type": "code",
   "execution_count": 2,
   "metadata": {},
   "outputs": [],
   "source": [
    "import pandas as pd\n",
    "import plotly.graph_objects as go"
   ]
  },
  {
   "cell_type": "markdown",
   "metadata": {},
   "source": [
    "Dans la continuité du notebook n°2, on utilise le dataframe produit avec la météo moyenne en journée de chacune des 35 destinations, pour une petite 'preuve de concept' de la visualisation utilisateur recherchée.\n",
    "Il nous faut produire deux maps (un top 20 et un top 5) des meilleures destinations météo en France au jour J.\n",
    "\n",
    "On décide de permettre à l'utilisateur de visualiser sur la carte de France ces meilleurs destinations, par défault, grâce au paramètre \"feels_like' (bon ressenti global) moyen que nous avions récupéré. Mais nous allons aussi permettre à l'utilisateur de faire varier le filtre de la map en fonction de critères plus personnnels : température, vitesse du vent, etc..."
   ]
  },
  {
   "cell_type": "markdown",
   "metadata": {},
   "source": [
    "Récupération de notre dataframe :"
   ]
  },
  {
   "cell_type": "code",
   "execution_count": 3,
   "metadata": {},
   "outputs": [],
   "source": [
    "data = pd.read_csv('results/result_cities_with_coord_and_weather.csv')"
   ]
  },
  {
   "cell_type": "code",
   "execution_count": 4,
   "metadata": {},
   "outputs": [
    {
     "data": {
      "text/html": [
       "<div>\n",
       "<style scoped>\n",
       "    .dataframe tbody tr th:only-of-type {\n",
       "        vertical-align: middle;\n",
       "    }\n",
       "\n",
       "    .dataframe tbody tr th {\n",
       "        vertical-align: top;\n",
       "    }\n",
       "\n",
       "    .dataframe thead th {\n",
       "        text-align: right;\n",
       "    }\n",
       "</style>\n",
       "<table border=\"1\" class=\"dataframe\">\n",
       "  <thead>\n",
       "    <tr style=\"text-align: right;\">\n",
       "      <th></th>\n",
       "      <th>Unnamed: 0</th>\n",
       "      <th>city</th>\n",
       "      <th>lat</th>\n",
       "      <th>lon</th>\n",
       "      <th>feels_avg</th>\n",
       "      <th>temp_avg</th>\n",
       "      <th>humid_avg</th>\n",
       "      <th>wind_avg</th>\n",
       "      <th>cloud_descr_avg</th>\n",
       "      <th>pop_avg</th>\n",
       "      <th>start_date</th>\n",
       "      <th>end_date</th>\n",
       "    </tr>\n",
       "  </thead>\n",
       "  <tbody>\n",
       "    <tr>\n",
       "      <th>0</th>\n",
       "      <td>0</td>\n",
       "      <td>Mont Saint Michel</td>\n",
       "      <td>48.635954</td>\n",
       "      <td>-1.511460</td>\n",
       "      <td>18.565</td>\n",
       "      <td>18.755</td>\n",
       "      <td>72.0</td>\n",
       "      <td>4.640</td>\n",
       "      <td>broken clouds</td>\n",
       "      <td>0.0</td>\n",
       "      <td>2022-10-03 11:19:15.796598</td>\n",
       "      <td>2022-10-08 11:19:15.796598</td>\n",
       "    </tr>\n",
       "    <tr>\n",
       "      <th>1</th>\n",
       "      <td>1</td>\n",
       "      <td>St Malo</td>\n",
       "      <td>48.649518</td>\n",
       "      <td>-2.026041</td>\n",
       "      <td>18.335</td>\n",
       "      <td>18.485</td>\n",
       "      <td>74.5</td>\n",
       "      <td>4.435</td>\n",
       "      <td>broken clouds</td>\n",
       "      <td>0.0</td>\n",
       "      <td>2022-10-03 11:19:15.796598</td>\n",
       "      <td>2022-10-08 11:19:15.796598</td>\n",
       "    </tr>\n",
       "    <tr>\n",
       "      <th>2</th>\n",
       "      <td>2</td>\n",
       "      <td>Bayeux</td>\n",
       "      <td>49.276462</td>\n",
       "      <td>-0.702474</td>\n",
       "      <td>16.285</td>\n",
       "      <td>16.720</td>\n",
       "      <td>70.5</td>\n",
       "      <td>3.295</td>\n",
       "      <td>overcast clouds</td>\n",
       "      <td>0.0</td>\n",
       "      <td>2022-10-03 11:19:15.796598</td>\n",
       "      <td>2022-10-08 11:19:15.796598</td>\n",
       "    </tr>\n",
       "    <tr>\n",
       "      <th>3</th>\n",
       "      <td>3</td>\n",
       "      <td>Le Havre</td>\n",
       "      <td>49.493898</td>\n",
       "      <td>0.107973</td>\n",
       "      <td>14.750</td>\n",
       "      <td>15.035</td>\n",
       "      <td>82.5</td>\n",
       "      <td>2.860</td>\n",
       "      <td>broken clouds</td>\n",
       "      <td>0.0</td>\n",
       "      <td>2022-10-03 11:19:15.796598</td>\n",
       "      <td>2022-10-08 11:19:15.796598</td>\n",
       "    </tr>\n",
       "    <tr>\n",
       "      <th>4</th>\n",
       "      <td>4</td>\n",
       "      <td>Rouen</td>\n",
       "      <td>49.440459</td>\n",
       "      <td>1.093966</td>\n",
       "      <td>14.485</td>\n",
       "      <td>15.055</td>\n",
       "      <td>71.5</td>\n",
       "      <td>2.975</td>\n",
       "      <td>broken clouds</td>\n",
       "      <td>0.0</td>\n",
       "      <td>2022-10-03 11:19:15.796598</td>\n",
       "      <td>2022-10-08 11:19:15.796598</td>\n",
       "    </tr>\n",
       "  </tbody>\n",
       "</table>\n",
       "</div>"
      ],
      "text/plain": [
       "   Unnamed: 0               city        lat       lon  feels_avg  temp_avg  \\\n",
       "0           0  Mont Saint Michel  48.635954 -1.511460     18.565    18.755   \n",
       "1           1            St Malo  48.649518 -2.026041     18.335    18.485   \n",
       "2           2             Bayeux  49.276462 -0.702474     16.285    16.720   \n",
       "3           3           Le Havre  49.493898  0.107973     14.750    15.035   \n",
       "4           4              Rouen  49.440459  1.093966     14.485    15.055   \n",
       "\n",
       "   humid_avg  wind_avg  cloud_descr_avg  pop_avg                  start_date  \\\n",
       "0       72.0     4.640    broken clouds      0.0  2022-10-03 11:19:15.796598   \n",
       "1       74.5     4.435    broken clouds      0.0  2022-10-03 11:19:15.796598   \n",
       "2       70.5     3.295  overcast clouds      0.0  2022-10-03 11:19:15.796598   \n",
       "3       82.5     2.860    broken clouds      0.0  2022-10-03 11:19:15.796598   \n",
       "4       71.5     2.975    broken clouds      0.0  2022-10-03 11:19:15.796598   \n",
       "\n",
       "                     end_date  \n",
       "0  2022-10-08 11:19:15.796598  \n",
       "1  2022-10-08 11:19:15.796598  \n",
       "2  2022-10-08 11:19:15.796598  \n",
       "3  2022-10-08 11:19:15.796598  \n",
       "4  2022-10-08 11:19:15.796598  "
      ]
     },
     "execution_count": 4,
     "metadata": {},
     "output_type": "execute_result"
    }
   ],
   "source": [
    "data.head()"
   ]
  },
  {
   "cell_type": "markdown",
   "metadata": {},
   "source": [
    "Quelle est cette première colonne doublon de l'index ? Aïe, cela est dû à l'export puis import en csv...\n",
    "On supprime la colonne inutile :"
   ]
  },
  {
   "cell_type": "code",
   "execution_count": 5,
   "metadata": {},
   "outputs": [],
   "source": [
    "del data['Unnamed: 0']"
   ]
  },
  {
   "cell_type": "code",
   "execution_count": 7,
   "metadata": {},
   "outputs": [
    {
     "data": {
      "text/plain": [
       "city                object\n",
       "lat                float64\n",
       "lon                float64\n",
       "feels_avg          float64\n",
       "temp_avg           float64\n",
       "humid_avg          float64\n",
       "wind_avg           float64\n",
       "cloud_descr_avg     object\n",
       "pop_avg            float64\n",
       "start_date          object\n",
       "end_date            object\n",
       "dtype: object"
      ]
     },
     "execution_count": 7,
     "metadata": {},
     "output_type": "execute_result"
    }
   ],
   "source": [
    "data.dtypes"
   ]
  },
  {
   "cell_type": "markdown",
   "metadata": {},
   "source": [
    "Pour la même raison (passage en csv), visiblement, nos dates sont repassées en string...\n",
    "Il faut les reconvertir une nouvelle fois :"
   ]
  },
  {
   "cell_type": "code",
   "execution_count": 9,
   "metadata": {},
   "outputs": [],
   "source": [
    "import datetime as dt\n",
    "\n",
    "data['start_date']=data['start_date'].map(lambda s: dt.datetime.strptime(s.replace(\".796598\",\"\"),\"%Y-%m-%d %H:%M:%S\"))\n",
    "data['end_date']=data['end_date'].map(lambda s: dt.datetime.strptime(s.replace(\".796598\",\"\"),\"%Y-%m-%d %H:%M:%S\"))"
   ]
  },
  {
   "cell_type": "code",
   "execution_count": 10,
   "metadata": {},
   "outputs": [
    {
     "data": {
      "text/plain": [
       "city                       object\n",
       "lat                       float64\n",
       "lon                       float64\n",
       "feels_avg                 float64\n",
       "temp_avg                  float64\n",
       "humid_avg                 float64\n",
       "wind_avg                  float64\n",
       "cloud_descr_avg            object\n",
       "pop_avg                   float64\n",
       "start_date         datetime64[ns]\n",
       "end_date           datetime64[ns]\n",
       "dtype: object"
      ]
     },
     "execution_count": 10,
     "metadata": {},
     "output_type": "execute_result"
    }
   ],
   "source": [
    "data.dtypes"
   ]
  },
  {
   "cell_type": "markdown",
   "metadata": {},
   "source": [
    "On doit aussi trouver un moyen d'ordonner la variable 'cloud_descr_avg' qui est pour l'instant un string. Cette donnée catégorielle peut être facilement ordonnée (taux de couverture nuageux du ciel... + autres évènements) du plus propice au moins propice, ou l'inverse...\n",
    "Mais avant de faire ce travail de conversion, il faut savoir à quelles catégories on a affaire. Sur notre dataset on a 4 catégories, visiblement :"
   ]
  },
  {
   "cell_type": "code",
   "execution_count": 335,
   "metadata": {},
   "outputs": [
    {
     "data": {
      "text/html": [
       "<div>\n",
       "<style scoped>\n",
       "    .dataframe tbody tr th:only-of-type {\n",
       "        vertical-align: middle;\n",
       "    }\n",
       "\n",
       "    .dataframe tbody tr th {\n",
       "        vertical-align: top;\n",
       "    }\n",
       "\n",
       "    .dataframe thead th {\n",
       "        text-align: right;\n",
       "    }\n",
       "</style>\n",
       "<table border=\"1\" class=\"dataframe\">\n",
       "  <thead>\n",
       "    <tr style=\"text-align: right;\">\n",
       "      <th></th>\n",
       "      <th>city</th>\n",
       "      <th>lat</th>\n",
       "      <th>lon</th>\n",
       "      <th>feels_avg</th>\n",
       "      <th>temp_avg</th>\n",
       "      <th>humid_avg</th>\n",
       "      <th>wind_avg</th>\n",
       "      <th>pop_avg</th>\n",
       "      <th>start_date</th>\n",
       "      <th>end_date</th>\n",
       "    </tr>\n",
       "    <tr>\n",
       "      <th>cloud_descr_avg</th>\n",
       "      <th></th>\n",
       "      <th></th>\n",
       "      <th></th>\n",
       "      <th></th>\n",
       "      <th></th>\n",
       "      <th></th>\n",
       "      <th></th>\n",
       "      <th></th>\n",
       "      <th></th>\n",
       "      <th></th>\n",
       "    </tr>\n",
       "  </thead>\n",
       "  <tbody>\n",
       "    <tr>\n",
       "      <th>broken clouds</th>\n",
       "      <td>11</td>\n",
       "      <td>11</td>\n",
       "      <td>11</td>\n",
       "      <td>11</td>\n",
       "      <td>11</td>\n",
       "      <td>11</td>\n",
       "      <td>11</td>\n",
       "      <td>11</td>\n",
       "      <td>11</td>\n",
       "      <td>11</td>\n",
       "    </tr>\n",
       "    <tr>\n",
       "      <th>clear sky</th>\n",
       "      <td>17</td>\n",
       "      <td>17</td>\n",
       "      <td>17</td>\n",
       "      <td>17</td>\n",
       "      <td>17</td>\n",
       "      <td>17</td>\n",
       "      <td>17</td>\n",
       "      <td>17</td>\n",
       "      <td>17</td>\n",
       "      <td>17</td>\n",
       "    </tr>\n",
       "    <tr>\n",
       "      <th>overcast clouds</th>\n",
       "      <td>6</td>\n",
       "      <td>6</td>\n",
       "      <td>6</td>\n",
       "      <td>6</td>\n",
       "      <td>6</td>\n",
       "      <td>6</td>\n",
       "      <td>6</td>\n",
       "      <td>6</td>\n",
       "      <td>6</td>\n",
       "      <td>6</td>\n",
       "    </tr>\n",
       "    <tr>\n",
       "      <th>scattered clouds</th>\n",
       "      <td>1</td>\n",
       "      <td>1</td>\n",
       "      <td>1</td>\n",
       "      <td>1</td>\n",
       "      <td>1</td>\n",
       "      <td>1</td>\n",
       "      <td>1</td>\n",
       "      <td>1</td>\n",
       "      <td>1</td>\n",
       "      <td>1</td>\n",
       "    </tr>\n",
       "  </tbody>\n",
       "</table>\n",
       "</div>"
      ],
      "text/plain": [
       "                  city  lat  lon  feels_avg  temp_avg  humid_avg  wind_avg  \\\n",
       "cloud_descr_avg                                                              \n",
       "broken clouds       11   11   11         11        11         11        11   \n",
       "clear sky           17   17   17         17        17         17        17   \n",
       "overcast clouds      6    6    6          6         6          6         6   \n",
       "scattered clouds     1    1    1          1         1          1         1   \n",
       "\n",
       "                  pop_avg  start_date  end_date  \n",
       "cloud_descr_avg                                  \n",
       "broken clouds          11          11        11  \n",
       "clear sky              17          17        17  \n",
       "overcast clouds         6           6         6  \n",
       "scattered clouds        1           1         1  "
      ]
     },
     "execution_count": 335,
     "metadata": {},
     "output_type": "execute_result"
    }
   ],
   "source": [
    "data.groupby('cloud_descr_avg').count()"
   ]
  },
  {
   "cell_type": "markdown",
   "metadata": {},
   "source": [
    "Ok, mais sont-ce les seules ?... En allant sur la doc de l'API Open Weather Map, on voit que d'autres catégories sont possibles (brouillard, orages, neige, pluie...)\n",
    "Il est possible que nous relancions ce programme à un autre moment et que donc ces catégories apparaissent.\n",
    "On fait donc le travail de conversion avec toutes les catégories de 'beau ou mauvais ciel' en attribuant une note sur 10 au ciel, 10 étant la plus pire des notes ! (pour des raisons pratiques d'affichage plus loin). Cet ordre reste assez arbitraire, mais nous nosu plaçons à la place du touriste.\n",
    "Exemple : qu'est-ce qui est pire en vacance ? Faire face à des orages ou du brouillard ? Sans doute le brouillard que l'orage qui reste généralement plus passager. Le brouillard empêche de voir les paysages..."
   ]
  },
  {
   "cell_type": "code",
   "execution_count": 11,
   "metadata": {},
   "outputs": [],
   "source": [
    "data['cloud_order']=data['cloud_descr_avg'].map({\n",
    "                                                'mist':10,\n",
    "                                                'thunderstorm':9,\n",
    "                                                'snow':8,\n",
    "                                                'rain':7,\n",
    "                                                'shower rain':6,\n",
    "                                                'overcast clouds':5,\n",
    "                                                'broken clouds':4,\n",
    "                                                'scattered clouds':3,\n",
    "                                                'few clouds':2,\n",
    "                                                'clear sky':1})"
   ]
  },
  {
   "cell_type": "code",
   "execution_count": 12,
   "metadata": {},
   "outputs": [
    {
     "data": {
      "text/plain": [
       "Index(['city', 'lat', 'lon', 'feels_avg', 'temp_avg', 'humid_avg', 'wind_avg',\n",
       "       'cloud_descr_avg', 'pop_avg', 'start_date', 'end_date', 'cloud_order'],\n",
       "      dtype='object')"
      ]
     },
     "execution_count": 12,
     "metadata": {},
     "output_type": "execute_result"
    }
   ],
   "source": [
    "data.columns"
   ]
  },
  {
   "cell_type": "markdown",
   "metadata": {},
   "source": [
    "Pour des raisons pratiques d'affichage, on arrondit ici la donnée 'probabilité de précipitations' à 3 décimales :"
   ]
  },
  {
   "cell_type": "code",
   "execution_count": 338,
   "metadata": {},
   "outputs": [],
   "source": [
    "data['pop_avg']=round(data['pop_avg'],3)"
   ]
  },
  {
   "cell_type": "markdown",
   "metadata": {},
   "source": [
    "Notre programme d'affichage des maps va faire appelle un certain nombre de fois la fonction ci-dessous qui permet d'automatiser la modification d'un dataframe donné en fonction d'un paramètre météo donné par l'utilisateur comme 'temp', 'humidity', etc... La fonction ci-dessous créé donc le top 20 ou top 5 (ou top x) recherché en fonction de ce paramètre, du dataframe, mais aussi du nombre de destinations retenues sur le 'podium' ainsi constitué :"
   ]
  },
  {
   "cell_type": "code",
   "execution_count": 13,
   "metadata": {},
   "outputs": [],
   "source": [
    "def order_by(dataset,top_nb,tag='feels_avg'):\n",
    "    if tag not in dataset.columns:\n",
    "        return \"Error : please enter a good parameter to order this dataset...\"\n",
    "    elif top_nb > len(dataset):\n",
    "        return \"Error : the top_number is most than data size...\"\n",
    "    else :\n",
    "        if tag=='humid_avg' or tag=='pop_avg' or tag=='wind_avg' or tag=='cloud_order':\n",
    "            # pour ces quatre paramètres on ordonne dans le sens descendant\n",
    "            # exemple : plus il y a de vent, moins c'est agréable pour le tourisme\n",
    "            return data.sort_values(tag,ascending=True).iloc[:top_nb,:]\n",
    "        else:\n",
    "            # pour les autres paramètres (good_feels et temp), dans le sens ascendant\n",
    "            return data.sort_values(tag,ascending=False).iloc[:top_nb,:]"
   ]
  },
  {
   "cell_type": "markdown",
   "metadata": {},
   "source": [
    "On prépare ici deux variables strings pour pouvoir afficher les dates de début et de fin de séjour (de prévisions) dans les maps :"
   ]
  },
  {
   "cell_type": "code",
   "execution_count": 14,
   "metadata": {},
   "outputs": [],
   "source": [
    "day_start=min(data['start_date']).strftime('%d/%m')\n",
    "day_end=min(data['end_date']).strftime('%d/%m')"
   ]
  },
  {
   "cell_type": "markdown",
   "metadata": {},
   "source": [
    "Création de la fonction de visualisation de map avec Plotly graph_objects.\n",
    "\n",
    "On donne en entrée le dataset et le top que l'on veut (ici, 5 ou 20) et la fonction fait le travail et nous retourne l'affichage d'une Scattermapbox avec, en plus, un système de filtre pour l'utilisateur, pour répondre au besoin décrit précedemment.\n",
    "\n",
    "Dans la fonction, on constitue en préliminaire, selon les variables d'entrées, une liste \"labels\" qui va stocker, dans plusieurs dictionnaires différents, selon les paramètres météo différents, nos données brutes :\n",
    "- le dataset ordonné selon le paramètre météo\n",
    "- le nom du paramètre météo\n",
    "- le titre à donner à l'échelle de la map (pour l'affichage)\n",
    "- la charte graphique utilisée pour l'affichage de la map, pour ce paramètre (on choisit des chartes graphiques évocatrices pour chaque paramètre météo)\n",
    "- la visibilité initiale de la map (par défault, seule la map de 'bonne météo globale' (indicateur 'feels_like' de OWM) sera visible). paramètre qui évoluera ensuite avec le jeu des bouttons"
   ]
  },
  {
   "cell_type": "code",
   "execution_count": 23,
   "metadata": {},
   "outputs": [],
   "source": [
    "from tkinter import font\n",
    "from unittest import skip\n",
    "from matplotlib import markers\n",
    "\n",
    "def map_of_best_dest(data,top_nb):\n",
    "\n",
    "    data = order_by(data,len(data))\n",
    "    # petite précaution : on ordonne avant tout le dataframe selon le\n",
    "    # paramètre par défault 'feels_avg', car on risque sur nos différents\n",
    "    # autres 'podiums' (pour 'temp', 'wind', etc...) d'avoir des égalités de scores\n",
    "    # donc ces égalités seront arbitrés par ce super-paramètre 'feels_avg'\n",
    "\n",
    "   \n",
    "\n",
    "    # stockage des différents données dans différents dictionnaire\n",
    "    # (1 par paramètre météo) :\n",
    "\n",
    "    labels=[{'data':order_by(data,top_nb),\n",
    "        'param':'feels_avg',\n",
    "        'title':\"Echelle de bonne meteo globale (OWM)\",\n",
    "        'colorbar':'purpor',\n",
    "        'init_visible':True},\n",
    "        {'data':order_by(data,top_nb,'temp_avg'),\n",
    "        'param':'temp_avg',\n",
    "        'title':\"Echelle de températures (°C)\",\n",
    "        'colorbar':'oranges',\n",
    "        'init_visible':False},\n",
    "        {'data':order_by(data,top_nb,'wind_avg'),\n",
    "        'param':'wind_avg',\n",
    "        'title':\"Echelle de vent faible (noeuds)\",\n",
    "        'colorbar':'tealgrn',\n",
    "        'init_visible':False},\n",
    "        {'data':order_by(data,top_nb,'humid_avg'),\n",
    "        'param':'humid_avg',\n",
    "        'title':\"Echelle de taux d'humidité relative (%)\",\n",
    "        'colorbar':'blugrn',\n",
    "        'init_visible':False},\n",
    "        {'data':order_by(data,top_nb,'cloud_order'),\n",
    "        'param':'cloud_order',\n",
    "        'title':\"Echelle de ciel encombré (sur 10)\",\n",
    "        'colorbar':'blues',\n",
    "        'init_visible':False},\n",
    "        {'data':order_by(data,top_nb,'pop_avg'),\n",
    "        'param':'pop_avg',\n",
    "        'title':\"Echelle de probabilité de precipitations\",\n",
    "        'colorbar':'mint',\n",
    "        'init_visible':False}]\n",
    "\n",
    "    fig = go.Figure()\n",
    "\n",
    "    # Pour chaque paramètre météo (chaque dictionaire de 'labels')\n",
    "    # on ajoute une trace de Scattermapbox\n",
    "\n",
    "    for label in labels:\n",
    "        fig.add_trace(\n",
    "            go.Scattermapbox(\n",
    "                lat=label.get('data')['lat'],\n",
    "                lon=label.get('data')['lon'],\n",
    "                hovertext=label.get('data')['city'],\n",
    "                hoverinfo='text',\n",
    "                mode='markers',\n",
    "                marker=dict(\n",
    "                    size=16,\n",
    "                    cmax=label.get('data')[label.get('param')].max(),\n",
    "                    cmin=label.get('data')[label.get('param')].min(),\n",
    "                    color=label.get('data')[label.get('param')],\n",
    "                    colorscale=label.get('colorbar'),\n",
    "                    colorbar=dict(\n",
    "                        title=dict(\n",
    "                            side='right',\n",
    "                            text=label.get('title'),\n",
    "                            font=dict(\n",
    "                                color='purple',\n",
    "                                size=16,\n",
    "                                family='Arial'\n",
    "                                )\n",
    "                            ),\n",
    "                    bgcolor='aliceblue',\n",
    "                    x=1.08,\n",
    "                    y=0.5,\n",
    "                    len=1.1)\n",
    "                    ),\n",
    "                visible=label.get('init_visible')\n",
    "                )\n",
    "        )\n",
    "\n",
    "    # Paramètres globaux de layout:\n",
    "\n",
    "    fig.update_layout(mapbox_style='stamen-terrain',\n",
    "                    title=dict(\n",
    "                        text=f'Le Top {top_nb} des destinations météo en France ! Du {day_start} au {day_end}',\n",
    "                        font=dict(\n",
    "                            color='purple',\n",
    "                            size=24,\n",
    "                            family='Open Sans'\n",
    "                        )\n",
    "                    ))\n",
    "\n",
    "    # Paramètres supplémentaires internes à la dynamique mapbox :\n",
    "\n",
    "    fig.update_mapboxes(\n",
    "        bearing=0,\n",
    "        center=dict(\n",
    "            lat=46,\n",
    "            lon=4\n",
    "        ),\n",
    "        pitch=0,\n",
    "        zoom=3.7)\n",
    "\n",
    "    # Gestion des boutons pour l'utilisateur des maps :\n",
    "\n",
    "    fig.update_layout(\n",
    "        updatemenus = [go.layout.Updatemenu(\n",
    "            active = 0,\n",
    "            buttons = [\n",
    "                    go.layout.updatemenu.Button(\n",
    "                        label = \"Par météo globale (en journée)\",\n",
    "                        method = \"update\",\n",
    "                        args = [{\"visible\" : [True, False, False, False, False, False]}]),\n",
    "                    go.layout.updatemenu.Button(\n",
    "                            label = \"Par températures moyennes (en journée)\",\n",
    "                            method = \"update\",\n",
    "                            args = [{\"visible\" : [False, True, False, False, False, False]}]),\n",
    "                    go.layout.updatemenu.Button(\n",
    "                            label = \"Par vitesse de vent moyen (en journée)\",\n",
    "                            method = \"update\",\n",
    "                            args = [{\"visible\" : [False, False, True, False, False, False]}]),\n",
    "                    go.layout.updatemenu.Button(\n",
    "                            label = \"Par taux d'humidité relative moyenne (en journée)\",\n",
    "                            method = \"update\",\n",
    "                            args = [{\"visible\" : [False, False, False, True, False, False]}]),\n",
    "                    go.layout.updatemenu.Button(\n",
    "                            label = \"Par encombrement du ciel moyen (en journée)\",\n",
    "                            method = \"update\",\n",
    "                            args = [{\"visible\" : [False, False, False, False, True, False]}]),\n",
    "                    go.layout.updatemenu.Button(\n",
    "                            label = \"Par probabilité moyenne de pluie (en journée)\",\n",
    "                            method = \"update\",\n",
    "                            args = [{\"visible\" : [False, False, False, False, False, True]}])\n",
    "                ]\n",
    "            )]\n",
    "        )\n",
    "\n",
    "    fig.show()"
   ]
  },
  {
   "cell_type": "markdown",
   "metadata": {},
   "source": [
    "Allez, on affiche notre top 20..."
   ]
  },
  {
   "cell_type": "code",
   "execution_count": 24,
   "metadata": {},
   "outputs": [
    {
     "data": {
      "application/vnd.plotly.v1+json": {
       "config": {
        "plotlyServerURL": "https://plot.ly"
       },
       "data": [
        {
         "hoverinfo": "text",
         "hovertext": [
          "Collioure",
          "Carcassonne",
          "Nimes",
          "Aix en Provence",
          "Marseille",
          "Montauban",
          "Bormes les Mimosas",
          "Aigues Mortes",
          "Avignon",
          "Cassis",
          "Saintes Maries de la mer",
          "Bayonne",
          "Uzes",
          "Toulouse",
          "Biarritz",
          "Grenoble",
          "La Rochelle",
          "Mont Saint Michel",
          "St Malo",
          "Gorges du Verdon"
         ],
         "lat": [
          42.52505,
          43.2130358,
          43.8374249,
          43.5298424,
          43.2961743,
          44.0175835,
          43.1506968,
          43.5658225,
          43.9492493,
          43.2140359,
          43.4522771,
          43.4945144,
          44.0121279,
          43.6044622,
          43.4832523,
          45.1875602,
          46.1591126,
          48.6359541,
          48.649518,
          43.7496562
         ],
         "lon": [
          3.0831554,
          2.3491069,
          4.3600687,
          5.4474738,
          5.3699525,
          1.3549991,
          6.3419285,
          4.1912837,
          4.8059012,
          5.5396318,
          4.4287172,
          -1.4736657,
          4.4196718,
          1.4442469,
          -1.5592776,
          5.7357819,
          -1.1520434,
          -1.511459954959514,
          -2.0260409,
          6.3285616
         ],
         "marker": {
          "cmax": 23.51,
          "cmin": 18.32,
          "color": [
           23.51,
           22.275,
           21.315,
           21.11,
           21.085,
           21.055,
           20.91,
           20.825,
           20.79,
           20.78,
           20.595,
           20.450000000000003,
           20.335,
           20.295,
           20.055,
           19.05,
           18.685,
           18.565,
           18.335,
           18.32
          ],
          "colorbar": {
           "bgcolor": "aliceblue",
           "len": 1.1,
           "title": {
            "font": {
             "color": "purple",
             "family": "Arial",
             "size": 16
            },
            "side": "right",
            "text": "Echelle de bonne meteo globale (OWM)"
           },
           "x": 1.08,
           "y": 0.5
          },
          "colorscale": [
           [
            0,
            "rgb(249, 221, 218)"
           ],
           [
            0.16666666666666666,
            "rgb(242, 185, 196)"
           ],
           [
            0.3333333333333333,
            "rgb(229, 151, 185)"
           ],
           [
            0.5,
            "rgb(206, 120, 179)"
           ],
           [
            0.6666666666666666,
            "rgb(173, 95, 173)"
           ],
           [
            0.8333333333333334,
            "rgb(131, 75, 160)"
           ],
           [
            1,
            "rgb(87, 59, 136)"
           ]
          ],
          "size": 16
         },
         "mode": "markers",
         "type": "scattermapbox",
         "visible": true
        },
        {
         "hoverinfo": "text",
         "hovertext": [
          "Collioure",
          "Carcassonne",
          "Nimes",
          "Aix en Provence",
          "Marseille",
          "Montauban",
          "Cassis",
          "Aigues Mortes",
          "Bormes les Mimosas",
          "Avignon",
          "Saintes Maries de la mer",
          "Uzes",
          "Toulouse",
          "Bayonne",
          "Biarritz",
          "Gorges du Verdon",
          "Grenoble",
          "Mont Saint Michel",
          "La Rochelle",
          "St Malo"
         ],
         "lat": [
          42.52505,
          43.2130358,
          43.8374249,
          43.5298424,
          43.2961743,
          44.0175835,
          43.2140359,
          43.5658225,
          43.1506968,
          43.9492493,
          43.4522771,
          44.0121279,
          43.6044622,
          43.4945144,
          43.4832523,
          43.7496562,
          45.1875602,
          48.6359541,
          46.1591126,
          48.649518
         ],
         "lon": [
          3.0831554,
          2.3491069,
          4.3600687,
          5.4474738,
          5.3699525,
          1.3549991,
          5.5396318,
          4.1912837,
          6.3419285,
          4.8059012,
          4.4287172,
          4.4196718,
          1.4442469,
          -1.4736657,
          -1.5592776,
          6.3285616,
          5.7357819,
          -1.511459954959514,
          -1.1520434,
          -2.0260409
         ],
         "marker": {
          "cmax": 23.655,
          "cmin": 18.485,
          "color": [
           23.655,
           22.61,
           21.705,
           21.520000000000003,
           21.505,
           21.315,
           21.28,
           21.13,
           21.090000000000003,
           21.05,
           20.92,
           20.85,
           20.625,
           20.36,
           19.97,
           19.22,
           19.04,
           18.755,
           18.735,
           18.485
          ],
          "colorbar": {
           "bgcolor": "aliceblue",
           "len": 1.1,
           "title": {
            "font": {
             "color": "purple",
             "family": "Arial",
             "size": 16
            },
            "side": "right",
            "text": "Echelle de températures (°C)"
           },
           "x": 1.08,
           "y": 0.5
          },
          "colorscale": [
           [
            0,
            "rgb(255,245,235)"
           ],
           [
            0.125,
            "rgb(254,230,206)"
           ],
           [
            0.25,
            "rgb(253,208,162)"
           ],
           [
            0.375,
            "rgb(253,174,107)"
           ],
           [
            0.5,
            "rgb(253,141,60)"
           ],
           [
            0.625,
            "rgb(241,105,19)"
           ],
           [
            0.75,
            "rgb(217,72,1)"
           ],
           [
            0.875,
            "rgb(166,54,3)"
           ],
           [
            1,
            "rgb(127,39,4)"
           ]
          ],
          "size": 16
         },
         "mode": "markers",
         "type": "scattermapbox",
         "visible": false
        },
        {
         "hoverinfo": "text",
         "hovertext": [
          "Cassis",
          "Aix en Provence",
          "La Rochelle",
          "Marseille",
          "Lille",
          "Paris",
          "Montauban",
          "Ariege",
          "Chateau du Haut Koenigsbourg",
          "Gorges du Verdon",
          "Eguisheim",
          "Aigues Mortes",
          "Toulouse",
          "Bormes les Mimosas",
          "Colmar",
          "Bayonne",
          "Collioure",
          "Annecy",
          "Grenoble",
          "Amiens"
         ],
         "lat": [
          43.2140359,
          43.5298424,
          46.1591126,
          43.2961743,
          50.6365654,
          48.8588897,
          44.0175835,
          42.9455368,
          48.2495226,
          43.7496562,
          48.0447968,
          43.5658225,
          43.6044622,
          43.1506968,
          48.0777517,
          43.4945144,
          42.52505,
          45.8992348,
          45.1875602,
          49.8941708
         ],
         "lon": [
          5.5396318,
          5.4474738,
          -1.1520434,
          5.3699525,
          3.0635282,
          2.3200410217200766,
          1.3549991,
          1.4065544156065486,
          7.3454923,
          6.3285616,
          7.3079618,
          4.1912837,
          1.4442469,
          6.3419285,
          7.3579641,
          -1.4736657,
          3.0831554,
          6.1288847,
          5.7357819,
          2.2956951
         ],
         "marker": {
          "cmax": 2.72,
          "cmin": 1.505,
          "color": [
           1.505,
           1.755,
           1.86,
           1.895,
           2.02,
           2.03,
           2.035,
           2.05,
           2.24,
           2.255,
           2.37,
           2.44,
           2.465,
           2.475,
           2.52,
           2.55,
           2.55,
           2.575,
           2.58,
           2.72
          ],
          "colorbar": {
           "bgcolor": "aliceblue",
           "len": 1.1,
           "title": {
            "font": {
             "color": "purple",
             "family": "Arial",
             "size": 16
            },
            "side": "right",
            "text": "Echelle de vent faible (noeuds)"
           },
           "x": 1.08,
           "y": 0.5
          },
          "colorscale": [
           [
            0,
            "rgb(176, 242, 188)"
           ],
           [
            0.16666666666666666,
            "rgb(137, 232, 172)"
           ],
           [
            0.3333333333333333,
            "rgb(103, 219, 165)"
           ],
           [
            0.5,
            "rgb(76, 200, 163)"
           ],
           [
            0.6666666666666666,
            "rgb(56, 178, 163)"
           ],
           [
            0.8333333333333334,
            "rgb(44, 152, 160)"
           ],
           [
            1,
            "rgb(37, 125, 152)"
           ]
          ],
          "size": 16
         },
         "mode": "markers",
         "type": "scattermapbox",
         "visible": false
        },
        {
         "hoverinfo": "text",
         "hovertext": [
          "Gorges du Verdon",
          "Cassis",
          "Uzes",
          "Carcassonne",
          "Marseille",
          "Nimes",
          "Aix en Provence",
          "Collioure",
          "Aigues Mortes",
          "Saintes Maries de la mer",
          "Montauban",
          "Toulouse",
          "Avignon",
          "Amiens",
          "Bormes les Mimosas",
          "Paris",
          "Lyon",
          "Lille",
          "Bayeux",
          "Annecy"
         ],
         "lat": [
          43.7496562,
          43.2140359,
          44.0121279,
          43.2130358,
          43.2961743,
          43.8374249,
          43.5298424,
          42.52505,
          43.5658225,
          43.4522771,
          44.0175835,
          43.6044622,
          43.9492493,
          49.8941708,
          43.1506968,
          48.8588897,
          45.7578137,
          50.6365654,
          49.2764624,
          45.8992348
         ],
         "lon": [
          6.3285616,
          5.5396318,
          4.4196718,
          2.3491069,
          5.3699525,
          4.3600687,
          5.4474738,
          3.0831554,
          4.1912837,
          4.4287172,
          1.3549991,
          1.4442469,
          4.8059012,
          2.2956951,
          6.3419285,
          2.3200410217200766,
          4.8320114,
          3.0635282,
          -0.7024738,
          6.1288847
         ],
         "marker": {
          "cmax": 71,
          "cmin": 43,
          "color": [
           43,
           50.5,
           51.5,
           51.5,
           52.5,
           53,
           53,
           55,
           58.5,
           58.5,
           59.5,
           59.5,
           60.5,
           62.5,
           63.5,
           67.5,
           69.5,
           70,
           70.5,
           71
          ],
          "colorbar": {
           "bgcolor": "aliceblue",
           "len": 1.1,
           "title": {
            "font": {
             "color": "purple",
             "family": "Arial",
             "size": 16
            },
            "side": "right",
            "text": "Echelle de taux d'humidité relative (%)"
           },
           "x": 1.08,
           "y": 0.5
          },
          "colorscale": [
           [
            0,
            "rgb(196, 230, 195)"
           ],
           [
            0.16666666666666666,
            "rgb(150, 210, 164)"
           ],
           [
            0.3333333333333333,
            "rgb(109, 188, 144)"
           ],
           [
            0.5,
            "rgb(77, 162, 132)"
           ],
           [
            0.6666666666666666,
            "rgb(54, 135, 122)"
           ],
           [
            0.8333333333333334,
            "rgb(38, 107, 110)"
           ],
           [
            1,
            "rgb(29, 79, 96)"
           ]
          ],
          "size": 16
         },
         "mode": "markers",
         "type": "scattermapbox",
         "visible": false
        },
        {
         "hoverinfo": "text",
         "hovertext": [
          "Annecy",
          "Bormes les Mimosas",
          "Bayonne",
          "Biarritz",
          "Toulouse",
          "Carcassonne",
          "Amiens",
          "Aigues Mortes",
          "Nimes",
          "Avignon",
          "Marseille",
          "Besancon",
          "Grenoble",
          "La Rochelle",
          "Lyon",
          "Mont Saint Michel",
          "Eguisheim",
          "St Malo",
          "Colmar",
          "Le Havre"
         ],
         "lat": [
          45.8992348,
          43.1506968,
          43.4945144,
          43.4832523,
          43.6044622,
          43.2130358,
          49.8941708,
          43.5658225,
          43.8374249,
          43.9492493,
          43.2961743,
          47.2380222,
          45.1875602,
          46.1591126,
          45.7578137,
          48.6359541,
          48.0447968,
          48.649518,
          48.0777517,
          49.4938975
         ],
         "lon": [
          6.1288847,
          6.3419285,
          -1.4736657,
          -1.5592776,
          1.4442469,
          2.3491069,
          2.2956951,
          4.1912837,
          4.3600687,
          4.8059012,
          5.3699525,
          6.0243622,
          5.7357819,
          -1.1520434,
          4.8320114,
          -1.511459954959514,
          7.3079618,
          -2.0260409,
          7.3579641,
          0.1079732
         ],
         "marker": {
          "cmax": 4,
          "cmin": 2,
          "color": [
           2,
           3,
           3,
           3,
           3,
           3,
           3,
           3,
           3,
           3,
           3,
           3,
           3,
           4,
           4,
           4,
           4,
           4,
           4,
           4
          ],
          "colorbar": {
           "bgcolor": "aliceblue",
           "len": 1.1,
           "title": {
            "font": {
             "color": "purple",
             "family": "Arial",
             "size": 16
            },
            "side": "right",
            "text": "Echelle de ciel encombré (sur 10)"
           },
           "x": 1.08,
           "y": 0.5
          },
          "colorscale": [
           [
            0,
            "rgb(247,251,255)"
           ],
           [
            0.125,
            "rgb(222,235,247)"
           ],
           [
            0.25,
            "rgb(198,219,239)"
           ],
           [
            0.375,
            "rgb(158,202,225)"
           ],
           [
            0.5,
            "rgb(107,174,214)"
           ],
           [
            0.625,
            "rgb(66,146,198)"
           ],
           [
            0.75,
            "rgb(33,113,181)"
           ],
           [
            0.875,
            "rgb(8,81,156)"
           ],
           [
            1,
            "rgb(8,48,107)"
           ]
          ],
          "size": 16
         },
         "mode": "markers",
         "type": "scattermapbox",
         "visible": false
        },
        {
         "hoverinfo": "text",
         "hovertext": [
          "Mont Saint Michel",
          "Bayonne",
          "Biarritz",
          "Montauban",
          "Toulouse",
          "Carcassonne",
          "Collioure",
          "Saintes Maries de la mer",
          "Aigues Mortes",
          "Nimes",
          "Uzes",
          "Avignon",
          "Aix en Provence",
          "Marseille",
          "Cassis",
          "Gorges du Verdon",
          "Bormes les Mimosas",
          "Grenoble",
          "St Malo",
          "Bayeux"
         ],
         "lat": [
          48.6359541,
          43.4945144,
          43.4832523,
          44.0175835,
          43.6044622,
          43.2130358,
          42.52505,
          43.4522771,
          43.5658225,
          43.8374249,
          44.0121279,
          43.9492493,
          43.5298424,
          43.2961743,
          43.2140359,
          43.7496562,
          43.1506968,
          45.1875602,
          48.649518,
          49.2764624
         ],
         "lon": [
          -1.511459954959514,
          -1.4736657,
          -1.5592776,
          1.3549991,
          1.4442469,
          2.3491069,
          3.0831554,
          4.4287172,
          4.1912837,
          4.3600687,
          4.4196718,
          4.8059012,
          5.4474738,
          5.3699525,
          5.5396318,
          6.3285616,
          6.3419285,
          5.7357819,
          -2.0260409,
          -0.7024738
         ],
         "marker": {
          "cmax": 0,
          "cmin": 0,
          "color": [
           0,
           0,
           0,
           0,
           0,
           0,
           0,
           0,
           0,
           0,
           0,
           0,
           0,
           0,
           0,
           0,
           0,
           0,
           0,
           0
          ],
          "colorbar": {
           "bgcolor": "aliceblue",
           "len": 1.1,
           "title": {
            "font": {
             "color": "purple",
             "family": "Arial",
             "size": 16
            },
            "side": "right",
            "text": "Echelle de probabilité de precipitations"
           },
           "x": 1.08,
           "y": 0.5
          },
          "colorscale": [
           [
            0,
            "rgb(228, 241, 225)"
           ],
           [
            0.16666666666666666,
            "rgb(180, 217, 204)"
           ],
           [
            0.3333333333333333,
            "rgb(137, 192, 182)"
           ],
           [
            0.5,
            "rgb(99, 166, 160)"
           ],
           [
            0.6666666666666666,
            "rgb(68, 140, 138)"
           ],
           [
            0.8333333333333334,
            "rgb(40, 114, 116)"
           ],
           [
            1,
            "rgb(13, 88, 95)"
           ]
          ],
          "size": 16
         },
         "mode": "markers",
         "type": "scattermapbox",
         "visible": false
        }
       ],
       "layout": {
        "mapbox": {
         "bearing": 0,
         "center": {
          "lat": 46,
          "lon": 4
         },
         "pitch": 0,
         "style": "stamen-terrain",
         "zoom": 3.7
        },
        "template": {
         "data": {
          "bar": [
           {
            "error_x": {
             "color": "#2a3f5f"
            },
            "error_y": {
             "color": "#2a3f5f"
            },
            "marker": {
             "line": {
              "color": "#E5ECF6",
              "width": 0.5
             },
             "pattern": {
              "fillmode": "overlay",
              "size": 10,
              "solidity": 0.2
             }
            },
            "type": "bar"
           }
          ],
          "barpolar": [
           {
            "marker": {
             "line": {
              "color": "#E5ECF6",
              "width": 0.5
             },
             "pattern": {
              "fillmode": "overlay",
              "size": 10,
              "solidity": 0.2
             }
            },
            "type": "barpolar"
           }
          ],
          "carpet": [
           {
            "aaxis": {
             "endlinecolor": "#2a3f5f",
             "gridcolor": "white",
             "linecolor": "white",
             "minorgridcolor": "white",
             "startlinecolor": "#2a3f5f"
            },
            "baxis": {
             "endlinecolor": "#2a3f5f",
             "gridcolor": "white",
             "linecolor": "white",
             "minorgridcolor": "white",
             "startlinecolor": "#2a3f5f"
            },
            "type": "carpet"
           }
          ],
          "choropleth": [
           {
            "colorbar": {
             "outlinewidth": 0,
             "ticks": ""
            },
            "type": "choropleth"
           }
          ],
          "contour": [
           {
            "colorbar": {
             "outlinewidth": 0,
             "ticks": ""
            },
            "colorscale": [
             [
              0,
              "#0d0887"
             ],
             [
              0.1111111111111111,
              "#46039f"
             ],
             [
              0.2222222222222222,
              "#7201a8"
             ],
             [
              0.3333333333333333,
              "#9c179e"
             ],
             [
              0.4444444444444444,
              "#bd3786"
             ],
             [
              0.5555555555555556,
              "#d8576b"
             ],
             [
              0.6666666666666666,
              "#ed7953"
             ],
             [
              0.7777777777777778,
              "#fb9f3a"
             ],
             [
              0.8888888888888888,
              "#fdca26"
             ],
             [
              1,
              "#f0f921"
             ]
            ],
            "type": "contour"
           }
          ],
          "contourcarpet": [
           {
            "colorbar": {
             "outlinewidth": 0,
             "ticks": ""
            },
            "type": "contourcarpet"
           }
          ],
          "heatmap": [
           {
            "colorbar": {
             "outlinewidth": 0,
             "ticks": ""
            },
            "colorscale": [
             [
              0,
              "#0d0887"
             ],
             [
              0.1111111111111111,
              "#46039f"
             ],
             [
              0.2222222222222222,
              "#7201a8"
             ],
             [
              0.3333333333333333,
              "#9c179e"
             ],
             [
              0.4444444444444444,
              "#bd3786"
             ],
             [
              0.5555555555555556,
              "#d8576b"
             ],
             [
              0.6666666666666666,
              "#ed7953"
             ],
             [
              0.7777777777777778,
              "#fb9f3a"
             ],
             [
              0.8888888888888888,
              "#fdca26"
             ],
             [
              1,
              "#f0f921"
             ]
            ],
            "type": "heatmap"
           }
          ],
          "heatmapgl": [
           {
            "colorbar": {
             "outlinewidth": 0,
             "ticks": ""
            },
            "colorscale": [
             [
              0,
              "#0d0887"
             ],
             [
              0.1111111111111111,
              "#46039f"
             ],
             [
              0.2222222222222222,
              "#7201a8"
             ],
             [
              0.3333333333333333,
              "#9c179e"
             ],
             [
              0.4444444444444444,
              "#bd3786"
             ],
             [
              0.5555555555555556,
              "#d8576b"
             ],
             [
              0.6666666666666666,
              "#ed7953"
             ],
             [
              0.7777777777777778,
              "#fb9f3a"
             ],
             [
              0.8888888888888888,
              "#fdca26"
             ],
             [
              1,
              "#f0f921"
             ]
            ],
            "type": "heatmapgl"
           }
          ],
          "histogram": [
           {
            "marker": {
             "pattern": {
              "fillmode": "overlay",
              "size": 10,
              "solidity": 0.2
             }
            },
            "type": "histogram"
           }
          ],
          "histogram2d": [
           {
            "colorbar": {
             "outlinewidth": 0,
             "ticks": ""
            },
            "colorscale": [
             [
              0,
              "#0d0887"
             ],
             [
              0.1111111111111111,
              "#46039f"
             ],
             [
              0.2222222222222222,
              "#7201a8"
             ],
             [
              0.3333333333333333,
              "#9c179e"
             ],
             [
              0.4444444444444444,
              "#bd3786"
             ],
             [
              0.5555555555555556,
              "#d8576b"
             ],
             [
              0.6666666666666666,
              "#ed7953"
             ],
             [
              0.7777777777777778,
              "#fb9f3a"
             ],
             [
              0.8888888888888888,
              "#fdca26"
             ],
             [
              1,
              "#f0f921"
             ]
            ],
            "type": "histogram2d"
           }
          ],
          "histogram2dcontour": [
           {
            "colorbar": {
             "outlinewidth": 0,
             "ticks": ""
            },
            "colorscale": [
             [
              0,
              "#0d0887"
             ],
             [
              0.1111111111111111,
              "#46039f"
             ],
             [
              0.2222222222222222,
              "#7201a8"
             ],
             [
              0.3333333333333333,
              "#9c179e"
             ],
             [
              0.4444444444444444,
              "#bd3786"
             ],
             [
              0.5555555555555556,
              "#d8576b"
             ],
             [
              0.6666666666666666,
              "#ed7953"
             ],
             [
              0.7777777777777778,
              "#fb9f3a"
             ],
             [
              0.8888888888888888,
              "#fdca26"
             ],
             [
              1,
              "#f0f921"
             ]
            ],
            "type": "histogram2dcontour"
           }
          ],
          "mesh3d": [
           {
            "colorbar": {
             "outlinewidth": 0,
             "ticks": ""
            },
            "type": "mesh3d"
           }
          ],
          "parcoords": [
           {
            "line": {
             "colorbar": {
              "outlinewidth": 0,
              "ticks": ""
             }
            },
            "type": "parcoords"
           }
          ],
          "pie": [
           {
            "automargin": true,
            "type": "pie"
           }
          ],
          "scatter": [
           {
            "marker": {
             "colorbar": {
              "outlinewidth": 0,
              "ticks": ""
             }
            },
            "type": "scatter"
           }
          ],
          "scatter3d": [
           {
            "line": {
             "colorbar": {
              "outlinewidth": 0,
              "ticks": ""
             }
            },
            "marker": {
             "colorbar": {
              "outlinewidth": 0,
              "ticks": ""
             }
            },
            "type": "scatter3d"
           }
          ],
          "scattercarpet": [
           {
            "marker": {
             "colorbar": {
              "outlinewidth": 0,
              "ticks": ""
             }
            },
            "type": "scattercarpet"
           }
          ],
          "scattergeo": [
           {
            "marker": {
             "colorbar": {
              "outlinewidth": 0,
              "ticks": ""
             }
            },
            "type": "scattergeo"
           }
          ],
          "scattergl": [
           {
            "marker": {
             "colorbar": {
              "outlinewidth": 0,
              "ticks": ""
             }
            },
            "type": "scattergl"
           }
          ],
          "scattermapbox": [
           {
            "marker": {
             "colorbar": {
              "outlinewidth": 0,
              "ticks": ""
             }
            },
            "type": "scattermapbox"
           }
          ],
          "scatterpolar": [
           {
            "marker": {
             "colorbar": {
              "outlinewidth": 0,
              "ticks": ""
             }
            },
            "type": "scatterpolar"
           }
          ],
          "scatterpolargl": [
           {
            "marker": {
             "colorbar": {
              "outlinewidth": 0,
              "ticks": ""
             }
            },
            "type": "scatterpolargl"
           }
          ],
          "scatterternary": [
           {
            "marker": {
             "colorbar": {
              "outlinewidth": 0,
              "ticks": ""
             }
            },
            "type": "scatterternary"
           }
          ],
          "surface": [
           {
            "colorbar": {
             "outlinewidth": 0,
             "ticks": ""
            },
            "colorscale": [
             [
              0,
              "#0d0887"
             ],
             [
              0.1111111111111111,
              "#46039f"
             ],
             [
              0.2222222222222222,
              "#7201a8"
             ],
             [
              0.3333333333333333,
              "#9c179e"
             ],
             [
              0.4444444444444444,
              "#bd3786"
             ],
             [
              0.5555555555555556,
              "#d8576b"
             ],
             [
              0.6666666666666666,
              "#ed7953"
             ],
             [
              0.7777777777777778,
              "#fb9f3a"
             ],
             [
              0.8888888888888888,
              "#fdca26"
             ],
             [
              1,
              "#f0f921"
             ]
            ],
            "type": "surface"
           }
          ],
          "table": [
           {
            "cells": {
             "fill": {
              "color": "#EBF0F8"
             },
             "line": {
              "color": "white"
             }
            },
            "header": {
             "fill": {
              "color": "#C8D4E3"
             },
             "line": {
              "color": "white"
             }
            },
            "type": "table"
           }
          ]
         },
         "layout": {
          "annotationdefaults": {
           "arrowcolor": "#2a3f5f",
           "arrowhead": 0,
           "arrowwidth": 1
          },
          "autotypenumbers": "strict",
          "coloraxis": {
           "colorbar": {
            "outlinewidth": 0,
            "ticks": ""
           }
          },
          "colorscale": {
           "diverging": [
            [
             0,
             "#8e0152"
            ],
            [
             0.1,
             "#c51b7d"
            ],
            [
             0.2,
             "#de77ae"
            ],
            [
             0.3,
             "#f1b6da"
            ],
            [
             0.4,
             "#fde0ef"
            ],
            [
             0.5,
             "#f7f7f7"
            ],
            [
             0.6,
             "#e6f5d0"
            ],
            [
             0.7,
             "#b8e186"
            ],
            [
             0.8,
             "#7fbc41"
            ],
            [
             0.9,
             "#4d9221"
            ],
            [
             1,
             "#276419"
            ]
           ],
           "sequential": [
            [
             0,
             "#0d0887"
            ],
            [
             0.1111111111111111,
             "#46039f"
            ],
            [
             0.2222222222222222,
             "#7201a8"
            ],
            [
             0.3333333333333333,
             "#9c179e"
            ],
            [
             0.4444444444444444,
             "#bd3786"
            ],
            [
             0.5555555555555556,
             "#d8576b"
            ],
            [
             0.6666666666666666,
             "#ed7953"
            ],
            [
             0.7777777777777778,
             "#fb9f3a"
            ],
            [
             0.8888888888888888,
             "#fdca26"
            ],
            [
             1,
             "#f0f921"
            ]
           ],
           "sequentialminus": [
            [
             0,
             "#0d0887"
            ],
            [
             0.1111111111111111,
             "#46039f"
            ],
            [
             0.2222222222222222,
             "#7201a8"
            ],
            [
             0.3333333333333333,
             "#9c179e"
            ],
            [
             0.4444444444444444,
             "#bd3786"
            ],
            [
             0.5555555555555556,
             "#d8576b"
            ],
            [
             0.6666666666666666,
             "#ed7953"
            ],
            [
             0.7777777777777778,
             "#fb9f3a"
            ],
            [
             0.8888888888888888,
             "#fdca26"
            ],
            [
             1,
             "#f0f921"
            ]
           ]
          },
          "colorway": [
           "#636efa",
           "#EF553B",
           "#00cc96",
           "#ab63fa",
           "#FFA15A",
           "#19d3f3",
           "#FF6692",
           "#B6E880",
           "#FF97FF",
           "#FECB52"
          ],
          "font": {
           "color": "#2a3f5f"
          },
          "geo": {
           "bgcolor": "white",
           "lakecolor": "white",
           "landcolor": "#E5ECF6",
           "showlakes": true,
           "showland": true,
           "subunitcolor": "white"
          },
          "hoverlabel": {
           "align": "left"
          },
          "hovermode": "closest",
          "mapbox": {
           "style": "light"
          },
          "paper_bgcolor": "white",
          "plot_bgcolor": "#E5ECF6",
          "polar": {
           "angularaxis": {
            "gridcolor": "white",
            "linecolor": "white",
            "ticks": ""
           },
           "bgcolor": "#E5ECF6",
           "radialaxis": {
            "gridcolor": "white",
            "linecolor": "white",
            "ticks": ""
           }
          },
          "scene": {
           "xaxis": {
            "backgroundcolor": "#E5ECF6",
            "gridcolor": "white",
            "gridwidth": 2,
            "linecolor": "white",
            "showbackground": true,
            "ticks": "",
            "zerolinecolor": "white"
           },
           "yaxis": {
            "backgroundcolor": "#E5ECF6",
            "gridcolor": "white",
            "gridwidth": 2,
            "linecolor": "white",
            "showbackground": true,
            "ticks": "",
            "zerolinecolor": "white"
           },
           "zaxis": {
            "backgroundcolor": "#E5ECF6",
            "gridcolor": "white",
            "gridwidth": 2,
            "linecolor": "white",
            "showbackground": true,
            "ticks": "",
            "zerolinecolor": "white"
           }
          },
          "shapedefaults": {
           "line": {
            "color": "#2a3f5f"
           }
          },
          "ternary": {
           "aaxis": {
            "gridcolor": "white",
            "linecolor": "white",
            "ticks": ""
           },
           "baxis": {
            "gridcolor": "white",
            "linecolor": "white",
            "ticks": ""
           },
           "bgcolor": "#E5ECF6",
           "caxis": {
            "gridcolor": "white",
            "linecolor": "white",
            "ticks": ""
           }
          },
          "title": {
           "x": 0.05
          },
          "xaxis": {
           "automargin": true,
           "gridcolor": "white",
           "linecolor": "white",
           "ticks": "",
           "title": {
            "standoff": 15
           },
           "zerolinecolor": "white",
           "zerolinewidth": 2
          },
          "yaxis": {
           "automargin": true,
           "gridcolor": "white",
           "linecolor": "white",
           "ticks": "",
           "title": {
            "standoff": 15
           },
           "zerolinecolor": "white",
           "zerolinewidth": 2
          }
         }
        },
        "title": {
         "font": {
          "color": "purple",
          "family": "Open Sans",
          "size": 24
         },
         "text": "Le Top 20 des destinations météo en France ! Du 03/10 au 08/10"
        },
        "updatemenus": [
         {
          "active": 0,
          "buttons": [
           {
            "args": [
             {
              "visible": [
               true,
               false,
               false,
               false,
               false,
               false
              ]
             }
            ],
            "label": "Par météo globale (en journée)",
            "method": "update"
           },
           {
            "args": [
             {
              "visible": [
               false,
               true,
               false,
               false,
               false,
               false
              ]
             }
            ],
            "label": "Par températures moyennes (en journée)",
            "method": "update"
           },
           {
            "args": [
             {
              "visible": [
               false,
               false,
               true,
               false,
               false,
               false
              ]
             }
            ],
            "label": "Par vitesse de vent moyen (en journée)",
            "method": "update"
           },
           {
            "args": [
             {
              "visible": [
               false,
               false,
               false,
               true,
               false,
               false
              ]
             }
            ],
            "label": "Par taux d'humidité relative moyenne (en journée)",
            "method": "update"
           },
           {
            "args": [
             {
              "visible": [
               false,
               false,
               false,
               false,
               true,
               false
              ]
             }
            ],
            "label": "Par encombrement du ciel moyen (en journée)",
            "method": "update"
           },
           {
            "args": [
             {
              "visible": [
               false,
               false,
               false,
               false,
               false,
               true
              ]
             }
            ],
            "label": "Par probabilité moyenne de pluie (en journée)",
            "method": "update"
           }
          ]
         }
        ]
       }
      }
     },
     "metadata": {},
     "output_type": "display_data"
    }
   ],
   "source": [
    "map_of_best_dest(data,20)"
   ]
  },
  {
   "cell_type": "markdown",
   "metadata": {},
   "source": [
    "Et maintenant notre top 5..."
   ]
  },
  {
   "cell_type": "code",
   "execution_count": 25,
   "metadata": {},
   "outputs": [
    {
     "data": {
      "application/vnd.plotly.v1+json": {
       "config": {
        "plotlyServerURL": "https://plot.ly"
       },
       "data": [
        {
         "hoverinfo": "text",
         "hovertext": [
          "Collioure",
          "Carcassonne",
          "Nimes",
          "Aix en Provence",
          "Marseille"
         ],
         "lat": [
          42.52505,
          43.2130358,
          43.8374249,
          43.5298424,
          43.2961743
         ],
         "lon": [
          3.0831554,
          2.3491069,
          4.3600687,
          5.4474738,
          5.3699525
         ],
         "marker": {
          "cmax": 23.51,
          "cmin": 21.085,
          "color": [
           23.51,
           22.275,
           21.315,
           21.11,
           21.085
          ],
          "colorbar": {
           "bgcolor": "aliceblue",
           "len": 1.1,
           "title": {
            "font": {
             "color": "purple",
             "family": "Arial",
             "size": 16
            },
            "side": "right",
            "text": "Echelle de bonne meteo globale (OWM)"
           },
           "x": 1.08,
           "y": 0.5
          },
          "colorscale": [
           [
            0,
            "rgb(249, 221, 218)"
           ],
           [
            0.16666666666666666,
            "rgb(242, 185, 196)"
           ],
           [
            0.3333333333333333,
            "rgb(229, 151, 185)"
           ],
           [
            0.5,
            "rgb(206, 120, 179)"
           ],
           [
            0.6666666666666666,
            "rgb(173, 95, 173)"
           ],
           [
            0.8333333333333334,
            "rgb(131, 75, 160)"
           ],
           [
            1,
            "rgb(87, 59, 136)"
           ]
          ],
          "size": 16
         },
         "mode": "markers",
         "type": "scattermapbox",
         "visible": true
        },
        {
         "hoverinfo": "text",
         "hovertext": [
          "Collioure",
          "Carcassonne",
          "Nimes",
          "Aix en Provence",
          "Marseille"
         ],
         "lat": [
          42.52505,
          43.2130358,
          43.8374249,
          43.5298424,
          43.2961743
         ],
         "lon": [
          3.0831554,
          2.3491069,
          4.3600687,
          5.4474738,
          5.3699525
         ],
         "marker": {
          "cmax": 23.655,
          "cmin": 21.505,
          "color": [
           23.655,
           22.61,
           21.705,
           21.520000000000003,
           21.505
          ],
          "colorbar": {
           "bgcolor": "aliceblue",
           "len": 1.1,
           "title": {
            "font": {
             "color": "purple",
             "family": "Arial",
             "size": 16
            },
            "side": "right",
            "text": "Echelle de températures (°C)"
           },
           "x": 1.08,
           "y": 0.5
          },
          "colorscale": [
           [
            0,
            "rgb(255,245,235)"
           ],
           [
            0.125,
            "rgb(254,230,206)"
           ],
           [
            0.25,
            "rgb(253,208,162)"
           ],
           [
            0.375,
            "rgb(253,174,107)"
           ],
           [
            0.5,
            "rgb(253,141,60)"
           ],
           [
            0.625,
            "rgb(241,105,19)"
           ],
           [
            0.75,
            "rgb(217,72,1)"
           ],
           [
            0.875,
            "rgb(166,54,3)"
           ],
           [
            1,
            "rgb(127,39,4)"
           ]
          ],
          "size": 16
         },
         "mode": "markers",
         "type": "scattermapbox",
         "visible": false
        },
        {
         "hoverinfo": "text",
         "hovertext": [
          "Cassis",
          "Aix en Provence",
          "La Rochelle",
          "Marseille",
          "Lille"
         ],
         "lat": [
          43.2140359,
          43.5298424,
          46.1591126,
          43.2961743,
          50.6365654
         ],
         "lon": [
          5.5396318,
          5.4474738,
          -1.1520434,
          5.3699525,
          3.0635282
         ],
         "marker": {
          "cmax": 2.02,
          "cmin": 1.505,
          "color": [
           1.505,
           1.755,
           1.86,
           1.895,
           2.02
          ],
          "colorbar": {
           "bgcolor": "aliceblue",
           "len": 1.1,
           "title": {
            "font": {
             "color": "purple",
             "family": "Arial",
             "size": 16
            },
            "side": "right",
            "text": "Echelle de vent faible (noeuds)"
           },
           "x": 1.08,
           "y": 0.5
          },
          "colorscale": [
           [
            0,
            "rgb(176, 242, 188)"
           ],
           [
            0.16666666666666666,
            "rgb(137, 232, 172)"
           ],
           [
            0.3333333333333333,
            "rgb(103, 219, 165)"
           ],
           [
            0.5,
            "rgb(76, 200, 163)"
           ],
           [
            0.6666666666666666,
            "rgb(56, 178, 163)"
           ],
           [
            0.8333333333333334,
            "rgb(44, 152, 160)"
           ],
           [
            1,
            "rgb(37, 125, 152)"
           ]
          ],
          "size": 16
         },
         "mode": "markers",
         "type": "scattermapbox",
         "visible": false
        },
        {
         "hoverinfo": "text",
         "hovertext": [
          "Gorges du Verdon",
          "Cassis",
          "Uzes",
          "Carcassonne",
          "Marseille"
         ],
         "lat": [
          43.7496562,
          43.2140359,
          44.0121279,
          43.2130358,
          43.2961743
         ],
         "lon": [
          6.3285616,
          5.5396318,
          4.4196718,
          2.3491069,
          5.3699525
         ],
         "marker": {
          "cmax": 52.5,
          "cmin": 43,
          "color": [
           43,
           50.5,
           51.5,
           51.5,
           52.5
          ],
          "colorbar": {
           "bgcolor": "aliceblue",
           "len": 1.1,
           "title": {
            "font": {
             "color": "purple",
             "family": "Arial",
             "size": 16
            },
            "side": "right",
            "text": "Echelle de taux d'humidité relative (%)"
           },
           "x": 1.08,
           "y": 0.5
          },
          "colorscale": [
           [
            0,
            "rgb(196, 230, 195)"
           ],
           [
            0.16666666666666666,
            "rgb(150, 210, 164)"
           ],
           [
            0.3333333333333333,
            "rgb(109, 188, 144)"
           ],
           [
            0.5,
            "rgb(77, 162, 132)"
           ],
           [
            0.6666666666666666,
            "rgb(54, 135, 122)"
           ],
           [
            0.8333333333333334,
            "rgb(38, 107, 110)"
           ],
           [
            1,
            "rgb(29, 79, 96)"
           ]
          ],
          "size": 16
         },
         "mode": "markers",
         "type": "scattermapbox",
         "visible": false
        },
        {
         "hoverinfo": "text",
         "hovertext": [
          "Annecy",
          "Bormes les Mimosas",
          "Bayonne",
          "Biarritz",
          "Toulouse"
         ],
         "lat": [
          45.8992348,
          43.1506968,
          43.4945144,
          43.4832523,
          43.6044622
         ],
         "lon": [
          6.1288847,
          6.3419285,
          -1.4736657,
          -1.5592776,
          1.4442469
         ],
         "marker": {
          "cmax": 3,
          "cmin": 2,
          "color": [
           2,
           3,
           3,
           3,
           3
          ],
          "colorbar": {
           "bgcolor": "aliceblue",
           "len": 1.1,
           "title": {
            "font": {
             "color": "purple",
             "family": "Arial",
             "size": 16
            },
            "side": "right",
            "text": "Echelle de ciel encombré (sur 10)"
           },
           "x": 1.08,
           "y": 0.5
          },
          "colorscale": [
           [
            0,
            "rgb(247,251,255)"
           ],
           [
            0.125,
            "rgb(222,235,247)"
           ],
           [
            0.25,
            "rgb(198,219,239)"
           ],
           [
            0.375,
            "rgb(158,202,225)"
           ],
           [
            0.5,
            "rgb(107,174,214)"
           ],
           [
            0.625,
            "rgb(66,146,198)"
           ],
           [
            0.75,
            "rgb(33,113,181)"
           ],
           [
            0.875,
            "rgb(8,81,156)"
           ],
           [
            1,
            "rgb(8,48,107)"
           ]
          ],
          "size": 16
         },
         "mode": "markers",
         "type": "scattermapbox",
         "visible": false
        },
        {
         "hoverinfo": "text",
         "hovertext": [
          "Mont Saint Michel",
          "Bayonne",
          "Biarritz",
          "Montauban",
          "Toulouse"
         ],
         "lat": [
          48.6359541,
          43.4945144,
          43.4832523,
          44.0175835,
          43.6044622
         ],
         "lon": [
          -1.511459954959514,
          -1.4736657,
          -1.5592776,
          1.3549991,
          1.4442469
         ],
         "marker": {
          "cmax": 0,
          "cmin": 0,
          "color": [
           0,
           0,
           0,
           0,
           0
          ],
          "colorbar": {
           "bgcolor": "aliceblue",
           "len": 1.1,
           "title": {
            "font": {
             "color": "purple",
             "family": "Arial",
             "size": 16
            },
            "side": "right",
            "text": "Echelle de probabilité de precipitations"
           },
           "x": 1.08,
           "y": 0.5
          },
          "colorscale": [
           [
            0,
            "rgb(228, 241, 225)"
           ],
           [
            0.16666666666666666,
            "rgb(180, 217, 204)"
           ],
           [
            0.3333333333333333,
            "rgb(137, 192, 182)"
           ],
           [
            0.5,
            "rgb(99, 166, 160)"
           ],
           [
            0.6666666666666666,
            "rgb(68, 140, 138)"
           ],
           [
            0.8333333333333334,
            "rgb(40, 114, 116)"
           ],
           [
            1,
            "rgb(13, 88, 95)"
           ]
          ],
          "size": 16
         },
         "mode": "markers",
         "type": "scattermapbox",
         "visible": false
        }
       ],
       "layout": {
        "mapbox": {
         "bearing": 0,
         "center": {
          "lat": 46,
          "lon": 4
         },
         "pitch": 0,
         "style": "stamen-terrain",
         "zoom": 3.7
        },
        "template": {
         "data": {
          "bar": [
           {
            "error_x": {
             "color": "#2a3f5f"
            },
            "error_y": {
             "color": "#2a3f5f"
            },
            "marker": {
             "line": {
              "color": "#E5ECF6",
              "width": 0.5
             },
             "pattern": {
              "fillmode": "overlay",
              "size": 10,
              "solidity": 0.2
             }
            },
            "type": "bar"
           }
          ],
          "barpolar": [
           {
            "marker": {
             "line": {
              "color": "#E5ECF6",
              "width": 0.5
             },
             "pattern": {
              "fillmode": "overlay",
              "size": 10,
              "solidity": 0.2
             }
            },
            "type": "barpolar"
           }
          ],
          "carpet": [
           {
            "aaxis": {
             "endlinecolor": "#2a3f5f",
             "gridcolor": "white",
             "linecolor": "white",
             "minorgridcolor": "white",
             "startlinecolor": "#2a3f5f"
            },
            "baxis": {
             "endlinecolor": "#2a3f5f",
             "gridcolor": "white",
             "linecolor": "white",
             "minorgridcolor": "white",
             "startlinecolor": "#2a3f5f"
            },
            "type": "carpet"
           }
          ],
          "choropleth": [
           {
            "colorbar": {
             "outlinewidth": 0,
             "ticks": ""
            },
            "type": "choropleth"
           }
          ],
          "contour": [
           {
            "colorbar": {
             "outlinewidth": 0,
             "ticks": ""
            },
            "colorscale": [
             [
              0,
              "#0d0887"
             ],
             [
              0.1111111111111111,
              "#46039f"
             ],
             [
              0.2222222222222222,
              "#7201a8"
             ],
             [
              0.3333333333333333,
              "#9c179e"
             ],
             [
              0.4444444444444444,
              "#bd3786"
             ],
             [
              0.5555555555555556,
              "#d8576b"
             ],
             [
              0.6666666666666666,
              "#ed7953"
             ],
             [
              0.7777777777777778,
              "#fb9f3a"
             ],
             [
              0.8888888888888888,
              "#fdca26"
             ],
             [
              1,
              "#f0f921"
             ]
            ],
            "type": "contour"
           }
          ],
          "contourcarpet": [
           {
            "colorbar": {
             "outlinewidth": 0,
             "ticks": ""
            },
            "type": "contourcarpet"
           }
          ],
          "heatmap": [
           {
            "colorbar": {
             "outlinewidth": 0,
             "ticks": ""
            },
            "colorscale": [
             [
              0,
              "#0d0887"
             ],
             [
              0.1111111111111111,
              "#46039f"
             ],
             [
              0.2222222222222222,
              "#7201a8"
             ],
             [
              0.3333333333333333,
              "#9c179e"
             ],
             [
              0.4444444444444444,
              "#bd3786"
             ],
             [
              0.5555555555555556,
              "#d8576b"
             ],
             [
              0.6666666666666666,
              "#ed7953"
             ],
             [
              0.7777777777777778,
              "#fb9f3a"
             ],
             [
              0.8888888888888888,
              "#fdca26"
             ],
             [
              1,
              "#f0f921"
             ]
            ],
            "type": "heatmap"
           }
          ],
          "heatmapgl": [
           {
            "colorbar": {
             "outlinewidth": 0,
             "ticks": ""
            },
            "colorscale": [
             [
              0,
              "#0d0887"
             ],
             [
              0.1111111111111111,
              "#46039f"
             ],
             [
              0.2222222222222222,
              "#7201a8"
             ],
             [
              0.3333333333333333,
              "#9c179e"
             ],
             [
              0.4444444444444444,
              "#bd3786"
             ],
             [
              0.5555555555555556,
              "#d8576b"
             ],
             [
              0.6666666666666666,
              "#ed7953"
             ],
             [
              0.7777777777777778,
              "#fb9f3a"
             ],
             [
              0.8888888888888888,
              "#fdca26"
             ],
             [
              1,
              "#f0f921"
             ]
            ],
            "type": "heatmapgl"
           }
          ],
          "histogram": [
           {
            "marker": {
             "pattern": {
              "fillmode": "overlay",
              "size": 10,
              "solidity": 0.2
             }
            },
            "type": "histogram"
           }
          ],
          "histogram2d": [
           {
            "colorbar": {
             "outlinewidth": 0,
             "ticks": ""
            },
            "colorscale": [
             [
              0,
              "#0d0887"
             ],
             [
              0.1111111111111111,
              "#46039f"
             ],
             [
              0.2222222222222222,
              "#7201a8"
             ],
             [
              0.3333333333333333,
              "#9c179e"
             ],
             [
              0.4444444444444444,
              "#bd3786"
             ],
             [
              0.5555555555555556,
              "#d8576b"
             ],
             [
              0.6666666666666666,
              "#ed7953"
             ],
             [
              0.7777777777777778,
              "#fb9f3a"
             ],
             [
              0.8888888888888888,
              "#fdca26"
             ],
             [
              1,
              "#f0f921"
             ]
            ],
            "type": "histogram2d"
           }
          ],
          "histogram2dcontour": [
           {
            "colorbar": {
             "outlinewidth": 0,
             "ticks": ""
            },
            "colorscale": [
             [
              0,
              "#0d0887"
             ],
             [
              0.1111111111111111,
              "#46039f"
             ],
             [
              0.2222222222222222,
              "#7201a8"
             ],
             [
              0.3333333333333333,
              "#9c179e"
             ],
             [
              0.4444444444444444,
              "#bd3786"
             ],
             [
              0.5555555555555556,
              "#d8576b"
             ],
             [
              0.6666666666666666,
              "#ed7953"
             ],
             [
              0.7777777777777778,
              "#fb9f3a"
             ],
             [
              0.8888888888888888,
              "#fdca26"
             ],
             [
              1,
              "#f0f921"
             ]
            ],
            "type": "histogram2dcontour"
           }
          ],
          "mesh3d": [
           {
            "colorbar": {
             "outlinewidth": 0,
             "ticks": ""
            },
            "type": "mesh3d"
           }
          ],
          "parcoords": [
           {
            "line": {
             "colorbar": {
              "outlinewidth": 0,
              "ticks": ""
             }
            },
            "type": "parcoords"
           }
          ],
          "pie": [
           {
            "automargin": true,
            "type": "pie"
           }
          ],
          "scatter": [
           {
            "marker": {
             "colorbar": {
              "outlinewidth": 0,
              "ticks": ""
             }
            },
            "type": "scatter"
           }
          ],
          "scatter3d": [
           {
            "line": {
             "colorbar": {
              "outlinewidth": 0,
              "ticks": ""
             }
            },
            "marker": {
             "colorbar": {
              "outlinewidth": 0,
              "ticks": ""
             }
            },
            "type": "scatter3d"
           }
          ],
          "scattercarpet": [
           {
            "marker": {
             "colorbar": {
              "outlinewidth": 0,
              "ticks": ""
             }
            },
            "type": "scattercarpet"
           }
          ],
          "scattergeo": [
           {
            "marker": {
             "colorbar": {
              "outlinewidth": 0,
              "ticks": ""
             }
            },
            "type": "scattergeo"
           }
          ],
          "scattergl": [
           {
            "marker": {
             "colorbar": {
              "outlinewidth": 0,
              "ticks": ""
             }
            },
            "type": "scattergl"
           }
          ],
          "scattermapbox": [
           {
            "marker": {
             "colorbar": {
              "outlinewidth": 0,
              "ticks": ""
             }
            },
            "type": "scattermapbox"
           }
          ],
          "scatterpolar": [
           {
            "marker": {
             "colorbar": {
              "outlinewidth": 0,
              "ticks": ""
             }
            },
            "type": "scatterpolar"
           }
          ],
          "scatterpolargl": [
           {
            "marker": {
             "colorbar": {
              "outlinewidth": 0,
              "ticks": ""
             }
            },
            "type": "scatterpolargl"
           }
          ],
          "scatterternary": [
           {
            "marker": {
             "colorbar": {
              "outlinewidth": 0,
              "ticks": ""
             }
            },
            "type": "scatterternary"
           }
          ],
          "surface": [
           {
            "colorbar": {
             "outlinewidth": 0,
             "ticks": ""
            },
            "colorscale": [
             [
              0,
              "#0d0887"
             ],
             [
              0.1111111111111111,
              "#46039f"
             ],
             [
              0.2222222222222222,
              "#7201a8"
             ],
             [
              0.3333333333333333,
              "#9c179e"
             ],
             [
              0.4444444444444444,
              "#bd3786"
             ],
             [
              0.5555555555555556,
              "#d8576b"
             ],
             [
              0.6666666666666666,
              "#ed7953"
             ],
             [
              0.7777777777777778,
              "#fb9f3a"
             ],
             [
              0.8888888888888888,
              "#fdca26"
             ],
             [
              1,
              "#f0f921"
             ]
            ],
            "type": "surface"
           }
          ],
          "table": [
           {
            "cells": {
             "fill": {
              "color": "#EBF0F8"
             },
             "line": {
              "color": "white"
             }
            },
            "header": {
             "fill": {
              "color": "#C8D4E3"
             },
             "line": {
              "color": "white"
             }
            },
            "type": "table"
           }
          ]
         },
         "layout": {
          "annotationdefaults": {
           "arrowcolor": "#2a3f5f",
           "arrowhead": 0,
           "arrowwidth": 1
          },
          "autotypenumbers": "strict",
          "coloraxis": {
           "colorbar": {
            "outlinewidth": 0,
            "ticks": ""
           }
          },
          "colorscale": {
           "diverging": [
            [
             0,
             "#8e0152"
            ],
            [
             0.1,
             "#c51b7d"
            ],
            [
             0.2,
             "#de77ae"
            ],
            [
             0.3,
             "#f1b6da"
            ],
            [
             0.4,
             "#fde0ef"
            ],
            [
             0.5,
             "#f7f7f7"
            ],
            [
             0.6,
             "#e6f5d0"
            ],
            [
             0.7,
             "#b8e186"
            ],
            [
             0.8,
             "#7fbc41"
            ],
            [
             0.9,
             "#4d9221"
            ],
            [
             1,
             "#276419"
            ]
           ],
           "sequential": [
            [
             0,
             "#0d0887"
            ],
            [
             0.1111111111111111,
             "#46039f"
            ],
            [
             0.2222222222222222,
             "#7201a8"
            ],
            [
             0.3333333333333333,
             "#9c179e"
            ],
            [
             0.4444444444444444,
             "#bd3786"
            ],
            [
             0.5555555555555556,
             "#d8576b"
            ],
            [
             0.6666666666666666,
             "#ed7953"
            ],
            [
             0.7777777777777778,
             "#fb9f3a"
            ],
            [
             0.8888888888888888,
             "#fdca26"
            ],
            [
             1,
             "#f0f921"
            ]
           ],
           "sequentialminus": [
            [
             0,
             "#0d0887"
            ],
            [
             0.1111111111111111,
             "#46039f"
            ],
            [
             0.2222222222222222,
             "#7201a8"
            ],
            [
             0.3333333333333333,
             "#9c179e"
            ],
            [
             0.4444444444444444,
             "#bd3786"
            ],
            [
             0.5555555555555556,
             "#d8576b"
            ],
            [
             0.6666666666666666,
             "#ed7953"
            ],
            [
             0.7777777777777778,
             "#fb9f3a"
            ],
            [
             0.8888888888888888,
             "#fdca26"
            ],
            [
             1,
             "#f0f921"
            ]
           ]
          },
          "colorway": [
           "#636efa",
           "#EF553B",
           "#00cc96",
           "#ab63fa",
           "#FFA15A",
           "#19d3f3",
           "#FF6692",
           "#B6E880",
           "#FF97FF",
           "#FECB52"
          ],
          "font": {
           "color": "#2a3f5f"
          },
          "geo": {
           "bgcolor": "white",
           "lakecolor": "white",
           "landcolor": "#E5ECF6",
           "showlakes": true,
           "showland": true,
           "subunitcolor": "white"
          },
          "hoverlabel": {
           "align": "left"
          },
          "hovermode": "closest",
          "mapbox": {
           "style": "light"
          },
          "paper_bgcolor": "white",
          "plot_bgcolor": "#E5ECF6",
          "polar": {
           "angularaxis": {
            "gridcolor": "white",
            "linecolor": "white",
            "ticks": ""
           },
           "bgcolor": "#E5ECF6",
           "radialaxis": {
            "gridcolor": "white",
            "linecolor": "white",
            "ticks": ""
           }
          },
          "scene": {
           "xaxis": {
            "backgroundcolor": "#E5ECF6",
            "gridcolor": "white",
            "gridwidth": 2,
            "linecolor": "white",
            "showbackground": true,
            "ticks": "",
            "zerolinecolor": "white"
           },
           "yaxis": {
            "backgroundcolor": "#E5ECF6",
            "gridcolor": "white",
            "gridwidth": 2,
            "linecolor": "white",
            "showbackground": true,
            "ticks": "",
            "zerolinecolor": "white"
           },
           "zaxis": {
            "backgroundcolor": "#E5ECF6",
            "gridcolor": "white",
            "gridwidth": 2,
            "linecolor": "white",
            "showbackground": true,
            "ticks": "",
            "zerolinecolor": "white"
           }
          },
          "shapedefaults": {
           "line": {
            "color": "#2a3f5f"
           }
          },
          "ternary": {
           "aaxis": {
            "gridcolor": "white",
            "linecolor": "white",
            "ticks": ""
           },
           "baxis": {
            "gridcolor": "white",
            "linecolor": "white",
            "ticks": ""
           },
           "bgcolor": "#E5ECF6",
           "caxis": {
            "gridcolor": "white",
            "linecolor": "white",
            "ticks": ""
           }
          },
          "title": {
           "x": 0.05
          },
          "xaxis": {
           "automargin": true,
           "gridcolor": "white",
           "linecolor": "white",
           "ticks": "",
           "title": {
            "standoff": 15
           },
           "zerolinecolor": "white",
           "zerolinewidth": 2
          },
          "yaxis": {
           "automargin": true,
           "gridcolor": "white",
           "linecolor": "white",
           "ticks": "",
           "title": {
            "standoff": 15
           },
           "zerolinecolor": "white",
           "zerolinewidth": 2
          }
         }
        },
        "title": {
         "font": {
          "color": "purple",
          "family": "Open Sans",
          "size": 24
         },
         "text": "Le Top 5 des destinations météo en France ! Du 03/10 au 08/10"
        },
        "updatemenus": [
         {
          "active": 0,
          "buttons": [
           {
            "args": [
             {
              "visible": [
               true,
               false,
               false,
               false,
               false,
               false
              ]
             }
            ],
            "label": "Par météo globale (en journée)",
            "method": "update"
           },
           {
            "args": [
             {
              "visible": [
               false,
               true,
               false,
               false,
               false,
               false
              ]
             }
            ],
            "label": "Par températures moyennes (en journée)",
            "method": "update"
           },
           {
            "args": [
             {
              "visible": [
               false,
               false,
               true,
               false,
               false,
               false
              ]
             }
            ],
            "label": "Par vitesse de vent moyen (en journée)",
            "method": "update"
           },
           {
            "args": [
             {
              "visible": [
               false,
               false,
               false,
               true,
               false,
               false
              ]
             }
            ],
            "label": "Par taux d'humidité relative moyenne (en journée)",
            "method": "update"
           },
           {
            "args": [
             {
              "visible": [
               false,
               false,
               false,
               false,
               true,
               false
              ]
             }
            ],
            "label": "Par encombrement du ciel moyen (en journée)",
            "method": "update"
           },
           {
            "args": [
             {
              "visible": [
               false,
               false,
               false,
               false,
               false,
               true
              ]
             }
            ],
            "label": "Par probabilité moyenne de pluie (en journée)",
            "method": "update"
           }
          ]
         }
        ]
       }
      }
     },
     "metadata": {},
     "output_type": "display_data"
    }
   ],
   "source": [
    "map_of_best_dest(data,5)"
   ]
  },
  {
   "cell_type": "markdown",
   "metadata": {},
   "source": [
    "L'équipe de développement front-end affinera tout cela !... \n",
    "\n",
    "Il manque aussi à l'utilisateur quelques infos pour savoir comment a été calculé chaque paramètre. Mais cela donne une bonne idée de la visualisation possible.\n",
    "(la direction décidera si on laisse à l'utilisateur la possibilité d'agir sur les boutons (filtres) ou s'il vaut mieux réduire l'affichage de la carte sur le site à son strict minimun ;) mais nous, on aime bien l'idée ! car cela permet une intéraction et intuitivement, l'utlisateur a l'impression qu'on lui 'prescrit' des destinations de 'bonne météo globale' en fonction de divers sous-paramètres qu'il peut visualiser aussi... Cela donne du crédit au paramètre initial 'bonne météo' très arbitraire... Même si les deux ne sont pas corrélés (on rappelle que la variable 'feels-like' est née d'une autre formule particulière interne à l'API Open Weather Map, qu'il faudrait également afficher sur le site par souci d'honnêteté scientifique )"
   ]
  }
 ],
 "metadata": {
  "kernelspec": {
   "display_name": "Python 3.9.12 ('base')",
   "language": "python",
   "name": "python3"
  },
  "language_info": {
   "codemirror_mode": {
    "name": "ipython",
    "version": 3
   },
   "file_extension": ".py",
   "mimetype": "text/x-python",
   "name": "python",
   "nbconvert_exporter": "python",
   "pygments_lexer": "ipython3",
   "version": "3.9.12"
  },
  "orig_nbformat": 4,
  "vscode": {
   "interpreter": {
    "hash": "1cca9558bc5ad879ec93cc030b157d75f18267527c60932cecaace349eef54dd"
   }
  }
 },
 "nbformat": 4,
 "nbformat_minor": 2
}
