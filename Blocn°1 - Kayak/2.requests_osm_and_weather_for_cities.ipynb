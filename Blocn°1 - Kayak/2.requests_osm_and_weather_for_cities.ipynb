{
 "cells": [
  {
   "cell_type": "markdown",
   "metadata": {},
   "source": [
    "### 2/ GPS et météo pour les 35 destinations"
   ]
  },
  {
   "cell_type": "code",
   "execution_count": 1,
   "metadata": {},
   "outputs": [],
   "source": [
    "import requests\n",
    "import pandas as pd\n",
    "import numpy as np"
   ]
  },
  {
   "cell_type": "markdown",
   "metadata": {},
   "source": [
    "Ici, l'objectif est de requêter les deux API Nominatim (Open Street Map) et OpenWeatherMap pour compiler la liste de chaque destination, avec coordonnées GPS et prévisions météo pour chaque destination, dans un unique dataframe qui sera stoché en csv, aux côtés de la liste précédemment scrapée des hôtels.\n",
    "Ce dataframe permettra par ailleurs la constitution des deux maps de destinations (datavisulation) du notebook °3."
   ]
  },
  {
   "cell_type": "markdown",
   "metadata": {},
   "source": [
    "Importation de la liste des 35 destinations :"
   ]
  },
  {
   "cell_type": "code",
   "execution_count": 2,
   "metadata": {},
   "outputs": [],
   "source": [
    "list_src = pd.read_csv('src/top35_list_cities.txt').reset_index()\n",
    "list_cities = list_src['Cities'].to_list()"
   ]
  },
  {
   "cell_type": "markdown",
   "metadata": {},
   "source": [
    "#### a) Requêtes sur les coordonnées GPS"
   ]
  },
  {
   "cell_type": "markdown",
   "metadata": {},
   "source": [
    "Création du dataframe vide, prêt à accueillir les coordonnées GPS :"
   ]
  },
  {
   "cell_type": "code",
   "execution_count": 3,
   "metadata": {},
   "outputs": [],
   "source": [
    "data_coord_cities=pd.DataFrame(columns=['city','lat','lon'])"
   ]
  },
  {
   "cell_type": "markdown",
   "metadata": {},
   "source": [
    "Pour chaque destination, on envoie une requête à l'API de Nominatim(OSM).\n",
    "On insère directement le résultat intéressant de chaque requête ('lat' et 'lon') avec le nom de la ville associé, dans le dataframe, en affichant des messages d'erreurs quand il y a impossibilité :"
   ]
  },
  {
   "cell_type": "code",
   "execution_count": 4,
   "metadata": {},
   "outputs": [
    {
     "name": "stderr",
     "output_type": "stream",
     "text": [
      "C:\\Users\\PC\\AppData\\Local\\Temp\\ipykernel_23924\\776442892.py:10: FutureWarning: The frame.append method is deprecated and will be removed from pandas in a future version. Use pandas.concat instead.\n",
      "  data_coord_cities=data_coord_cities.append({'city' : city , 'lat' : float(re.json()[0].get('lat')), 'lon' : float(re.json()[0].get('lon'))}, ignore_index=True)\n",
      "C:\\Users\\PC\\AppData\\Local\\Temp\\ipykernel_23924\\776442892.py:10: FutureWarning: The frame.append method is deprecated and will be removed from pandas in a future version. Use pandas.concat instead.\n",
      "  data_coord_cities=data_coord_cities.append({'city' : city , 'lat' : float(re.json()[0].get('lat')), 'lon' : float(re.json()[0].get('lon'))}, ignore_index=True)\n",
      "C:\\Users\\PC\\AppData\\Local\\Temp\\ipykernel_23924\\776442892.py:10: FutureWarning: The frame.append method is deprecated and will be removed from pandas in a future version. Use pandas.concat instead.\n",
      "  data_coord_cities=data_coord_cities.append({'city' : city , 'lat' : float(re.json()[0].get('lat')), 'lon' : float(re.json()[0].get('lon'))}, ignore_index=True)\n",
      "C:\\Users\\PC\\AppData\\Local\\Temp\\ipykernel_23924\\776442892.py:10: FutureWarning: The frame.append method is deprecated and will be removed from pandas in a future version. Use pandas.concat instead.\n",
      "  data_coord_cities=data_coord_cities.append({'city' : city , 'lat' : float(re.json()[0].get('lat')), 'lon' : float(re.json()[0].get('lon'))}, ignore_index=True)\n",
      "C:\\Users\\PC\\AppData\\Local\\Temp\\ipykernel_23924\\776442892.py:10: FutureWarning: The frame.append method is deprecated and will be removed from pandas in a future version. Use pandas.concat instead.\n",
      "  data_coord_cities=data_coord_cities.append({'city' : city , 'lat' : float(re.json()[0].get('lat')), 'lon' : float(re.json()[0].get('lon'))}, ignore_index=True)\n",
      "C:\\Users\\PC\\AppData\\Local\\Temp\\ipykernel_23924\\776442892.py:10: FutureWarning: The frame.append method is deprecated and will be removed from pandas in a future version. Use pandas.concat instead.\n",
      "  data_coord_cities=data_coord_cities.append({'city' : city , 'lat' : float(re.json()[0].get('lat')), 'lon' : float(re.json()[0].get('lon'))}, ignore_index=True)\n",
      "C:\\Users\\PC\\AppData\\Local\\Temp\\ipykernel_23924\\776442892.py:10: FutureWarning: The frame.append method is deprecated and will be removed from pandas in a future version. Use pandas.concat instead.\n",
      "  data_coord_cities=data_coord_cities.append({'city' : city , 'lat' : float(re.json()[0].get('lat')), 'lon' : float(re.json()[0].get('lon'))}, ignore_index=True)\n",
      "C:\\Users\\PC\\AppData\\Local\\Temp\\ipykernel_23924\\776442892.py:10: FutureWarning: The frame.append method is deprecated and will be removed from pandas in a future version. Use pandas.concat instead.\n",
      "  data_coord_cities=data_coord_cities.append({'city' : city , 'lat' : float(re.json()[0].get('lat')), 'lon' : float(re.json()[0].get('lon'))}, ignore_index=True)\n",
      "C:\\Users\\PC\\AppData\\Local\\Temp\\ipykernel_23924\\776442892.py:10: FutureWarning: The frame.append method is deprecated and will be removed from pandas in a future version. Use pandas.concat instead.\n",
      "  data_coord_cities=data_coord_cities.append({'city' : city , 'lat' : float(re.json()[0].get('lat')), 'lon' : float(re.json()[0].get('lon'))}, ignore_index=True)\n",
      "C:\\Users\\PC\\AppData\\Local\\Temp\\ipykernel_23924\\776442892.py:10: FutureWarning: The frame.append method is deprecated and will be removed from pandas in a future version. Use pandas.concat instead.\n",
      "  data_coord_cities=data_coord_cities.append({'city' : city , 'lat' : float(re.json()[0].get('lat')), 'lon' : float(re.json()[0].get('lon'))}, ignore_index=True)\n",
      "C:\\Users\\PC\\AppData\\Local\\Temp\\ipykernel_23924\\776442892.py:10: FutureWarning: The frame.append method is deprecated and will be removed from pandas in a future version. Use pandas.concat instead.\n",
      "  data_coord_cities=data_coord_cities.append({'city' : city , 'lat' : float(re.json()[0].get('lat')), 'lon' : float(re.json()[0].get('lon'))}, ignore_index=True)\n",
      "C:\\Users\\PC\\AppData\\Local\\Temp\\ipykernel_23924\\776442892.py:10: FutureWarning: The frame.append method is deprecated and will be removed from pandas in a future version. Use pandas.concat instead.\n",
      "  data_coord_cities=data_coord_cities.append({'city' : city , 'lat' : float(re.json()[0].get('lat')), 'lon' : float(re.json()[0].get('lon'))}, ignore_index=True)\n",
      "C:\\Users\\PC\\AppData\\Local\\Temp\\ipykernel_23924\\776442892.py:10: FutureWarning: The frame.append method is deprecated and will be removed from pandas in a future version. Use pandas.concat instead.\n",
      "  data_coord_cities=data_coord_cities.append({'city' : city , 'lat' : float(re.json()[0].get('lat')), 'lon' : float(re.json()[0].get('lon'))}, ignore_index=True)\n",
      "C:\\Users\\PC\\AppData\\Local\\Temp\\ipykernel_23924\\776442892.py:10: FutureWarning: The frame.append method is deprecated and will be removed from pandas in a future version. Use pandas.concat instead.\n",
      "  data_coord_cities=data_coord_cities.append({'city' : city , 'lat' : float(re.json()[0].get('lat')), 'lon' : float(re.json()[0].get('lon'))}, ignore_index=True)\n",
      "C:\\Users\\PC\\AppData\\Local\\Temp\\ipykernel_23924\\776442892.py:10: FutureWarning: The frame.append method is deprecated and will be removed from pandas in a future version. Use pandas.concat instead.\n",
      "  data_coord_cities=data_coord_cities.append({'city' : city , 'lat' : float(re.json()[0].get('lat')), 'lon' : float(re.json()[0].get('lon'))}, ignore_index=True)\n",
      "C:\\Users\\PC\\AppData\\Local\\Temp\\ipykernel_23924\\776442892.py:10: FutureWarning: The frame.append method is deprecated and will be removed from pandas in a future version. Use pandas.concat instead.\n",
      "  data_coord_cities=data_coord_cities.append({'city' : city , 'lat' : float(re.json()[0].get('lat')), 'lon' : float(re.json()[0].get('lon'))}, ignore_index=True)\n",
      "C:\\Users\\PC\\AppData\\Local\\Temp\\ipykernel_23924\\776442892.py:10: FutureWarning: The frame.append method is deprecated and will be removed from pandas in a future version. Use pandas.concat instead.\n",
      "  data_coord_cities=data_coord_cities.append({'city' : city , 'lat' : float(re.json()[0].get('lat')), 'lon' : float(re.json()[0].get('lon'))}, ignore_index=True)\n"
     ]
    },
    {
     "name": "stdout",
     "output_type": "stream",
     "text": [
      "Impossible d'insérer latitude et longitude pour Gorges du Verdon...\n"
     ]
    },
    {
     "name": "stderr",
     "output_type": "stream",
     "text": [
      "C:\\Users\\PC\\AppData\\Local\\Temp\\ipykernel_23924\\776442892.py:10: FutureWarning: The frame.append method is deprecated and will be removed from pandas in a future version. Use pandas.concat instead.\n",
      "  data_coord_cities=data_coord_cities.append({'city' : city , 'lat' : float(re.json()[0].get('lat')), 'lon' : float(re.json()[0].get('lon'))}, ignore_index=True)\n",
      "C:\\Users\\PC\\AppData\\Local\\Temp\\ipykernel_23924\\776442892.py:10: FutureWarning: The frame.append method is deprecated and will be removed from pandas in a future version. Use pandas.concat instead.\n",
      "  data_coord_cities=data_coord_cities.append({'city' : city , 'lat' : float(re.json()[0].get('lat')), 'lon' : float(re.json()[0].get('lon'))}, ignore_index=True)\n",
      "C:\\Users\\PC\\AppData\\Local\\Temp\\ipykernel_23924\\776442892.py:10: FutureWarning: The frame.append method is deprecated and will be removed from pandas in a future version. Use pandas.concat instead.\n",
      "  data_coord_cities=data_coord_cities.append({'city' : city , 'lat' : float(re.json()[0].get('lat')), 'lon' : float(re.json()[0].get('lon'))}, ignore_index=True)\n",
      "C:\\Users\\PC\\AppData\\Local\\Temp\\ipykernel_23924\\776442892.py:10: FutureWarning: The frame.append method is deprecated and will be removed from pandas in a future version. Use pandas.concat instead.\n",
      "  data_coord_cities=data_coord_cities.append({'city' : city , 'lat' : float(re.json()[0].get('lat')), 'lon' : float(re.json()[0].get('lon'))}, ignore_index=True)\n",
      "C:\\Users\\PC\\AppData\\Local\\Temp\\ipykernel_23924\\776442892.py:10: FutureWarning: The frame.append method is deprecated and will be removed from pandas in a future version. Use pandas.concat instead.\n",
      "  data_coord_cities=data_coord_cities.append({'city' : city , 'lat' : float(re.json()[0].get('lat')), 'lon' : float(re.json()[0].get('lon'))}, ignore_index=True)\n",
      "C:\\Users\\PC\\AppData\\Local\\Temp\\ipykernel_23924\\776442892.py:10: FutureWarning: The frame.append method is deprecated and will be removed from pandas in a future version. Use pandas.concat instead.\n",
      "  data_coord_cities=data_coord_cities.append({'city' : city , 'lat' : float(re.json()[0].get('lat')), 'lon' : float(re.json()[0].get('lon'))}, ignore_index=True)\n",
      "C:\\Users\\PC\\AppData\\Local\\Temp\\ipykernel_23924\\776442892.py:10: FutureWarning: The frame.append method is deprecated and will be removed from pandas in a future version. Use pandas.concat instead.\n",
      "  data_coord_cities=data_coord_cities.append({'city' : city , 'lat' : float(re.json()[0].get('lat')), 'lon' : float(re.json()[0].get('lon'))}, ignore_index=True)\n",
      "C:\\Users\\PC\\AppData\\Local\\Temp\\ipykernel_23924\\776442892.py:10: FutureWarning: The frame.append method is deprecated and will be removed from pandas in a future version. Use pandas.concat instead.\n",
      "  data_coord_cities=data_coord_cities.append({'city' : city , 'lat' : float(re.json()[0].get('lat')), 'lon' : float(re.json()[0].get('lon'))}, ignore_index=True)\n",
      "C:\\Users\\PC\\AppData\\Local\\Temp\\ipykernel_23924\\776442892.py:10: FutureWarning: The frame.append method is deprecated and will be removed from pandas in a future version. Use pandas.concat instead.\n",
      "  data_coord_cities=data_coord_cities.append({'city' : city , 'lat' : float(re.json()[0].get('lat')), 'lon' : float(re.json()[0].get('lon'))}, ignore_index=True)\n",
      "C:\\Users\\PC\\AppData\\Local\\Temp\\ipykernel_23924\\776442892.py:10: FutureWarning: The frame.append method is deprecated and will be removed from pandas in a future version. Use pandas.concat instead.\n",
      "  data_coord_cities=data_coord_cities.append({'city' : city , 'lat' : float(re.json()[0].get('lat')), 'lon' : float(re.json()[0].get('lon'))}, ignore_index=True)\n",
      "C:\\Users\\PC\\AppData\\Local\\Temp\\ipykernel_23924\\776442892.py:10: FutureWarning: The frame.append method is deprecated and will be removed from pandas in a future version. Use pandas.concat instead.\n",
      "  data_coord_cities=data_coord_cities.append({'city' : city , 'lat' : float(re.json()[0].get('lat')), 'lon' : float(re.json()[0].get('lon'))}, ignore_index=True)\n"
     ]
    },
    {
     "name": "stdout",
     "output_type": "stream",
     "text": [
      "Impossible d'insérer latitude et longitude pour Ariege...\n"
     ]
    },
    {
     "name": "stderr",
     "output_type": "stream",
     "text": [
      "C:\\Users\\PC\\AppData\\Local\\Temp\\ipykernel_23924\\776442892.py:10: FutureWarning: The frame.append method is deprecated and will be removed from pandas in a future version. Use pandas.concat instead.\n",
      "  data_coord_cities=data_coord_cities.append({'city' : city , 'lat' : float(re.json()[0].get('lat')), 'lon' : float(re.json()[0].get('lon'))}, ignore_index=True)\n",
      "C:\\Users\\PC\\AppData\\Local\\Temp\\ipykernel_23924\\776442892.py:10: FutureWarning: The frame.append method is deprecated and will be removed from pandas in a future version. Use pandas.concat instead.\n",
      "  data_coord_cities=data_coord_cities.append({'city' : city , 'lat' : float(re.json()[0].get('lat')), 'lon' : float(re.json()[0].get('lon'))}, ignore_index=True)\n",
      "C:\\Users\\PC\\AppData\\Local\\Temp\\ipykernel_23924\\776442892.py:10: FutureWarning: The frame.append method is deprecated and will be removed from pandas in a future version. Use pandas.concat instead.\n",
      "  data_coord_cities=data_coord_cities.append({'city' : city , 'lat' : float(re.json()[0].get('lat')), 'lon' : float(re.json()[0].get('lon'))}, ignore_index=True)\n",
      "C:\\Users\\PC\\AppData\\Local\\Temp\\ipykernel_23924\\776442892.py:10: FutureWarning: The frame.append method is deprecated and will be removed from pandas in a future version. Use pandas.concat instead.\n",
      "  data_coord_cities=data_coord_cities.append({'city' : city , 'lat' : float(re.json()[0].get('lat')), 'lon' : float(re.json()[0].get('lon'))}, ignore_index=True)\n",
      "C:\\Users\\PC\\AppData\\Local\\Temp\\ipykernel_23924\\776442892.py:10: FutureWarning: The frame.append method is deprecated and will be removed from pandas in a future version. Use pandas.concat instead.\n",
      "  data_coord_cities=data_coord_cities.append({'city' : city , 'lat' : float(re.json()[0].get('lat')), 'lon' : float(re.json()[0].get('lon'))}, ignore_index=True)\n"
     ]
    }
   ],
   "source": [
    "\n",
    "for city in list_cities:\n",
    "    try:\n",
    "        re = requests.get(f\"https://nominatim.openstreetmap.org/search?city='{city}'&place='city'&country='France'&format=json\")\n",
    "        if re.status_code>=400:\n",
    "            print(f\"Bad Request pour ... {city} !...\")\n",
    "    except:\n",
    "        print('Impossible de requêter {}...'.format(city))\n",
    "    else:\n",
    "        try:\n",
    "            data_coord_cities=data_coord_cities.append({'city' : city , 'lat' : float(re.json()[0].get('lat')), 'lon' : float(re.json()[0].get('lon'))}, ignore_index=True)\n",
    "        except:\n",
    "            print(f'Impossible d\\'insérer latitude et longitude pour {city}...')"
   ]
  },
  {
   "cell_type": "markdown",
   "metadata": {},
   "source": [
    "2 destinations sont impossibles à requêter, visiblement : 'Gorges du Verdon' et 'Arièges'... eh oui, ce ne sont pas des villes mais des localités plus grandes ! donc cela ne figure sans doute pas dans cette base de données de OSM qui fonctionne sur la requête 'city='.\n",
    "Pour seulement 2 destinations, on décide de \"faire à la main\" sur le site d'Open Street Map et de taper les deux destinations dans le champs de recherche pour visualiser les coordonnées GPS.\n",
    "\n",
    "Ajout ensuite dans le dataframe :"
   ]
  },
  {
   "cell_type": "code",
   "execution_count": 5,
   "metadata": {},
   "outputs": [
    {
     "name": "stderr",
     "output_type": "stream",
     "text": [
      "C:\\Users\\PC\\AppData\\Local\\Temp\\ipykernel_23924\\529493729.py:1: FutureWarning: The frame.append method is deprecated and will be removed from pandas in a future version. Use pandas.concat instead.\n",
      "  data_coord_cities = data_coord_cities.append([{'city' : 'Gorges du Verdon','lat' : 43.7496562, 'lon' : 6.3285616},\n"
     ]
    }
   ],
   "source": [
    "data_coord_cities = data_coord_cities.append([{'city' : 'Gorges du Verdon','lat' : 43.7496562, 'lon' : 6.3285616},\n",
    "                                                {'city' : 'Ariege','lat' : 42.9455368, 'lon' : 1.4065544156065486}],\n",
    "                                                ignore_index=True)"
   ]
  },
  {
   "cell_type": "markdown",
   "metadata": {},
   "source": [
    "On ckecke le type des données ainsi ajoutées :"
   ]
  },
  {
   "cell_type": "code",
   "execution_count": 6,
   "metadata": {},
   "outputs": [
    {
     "data": {
      "text/plain": [
       "city    object\n",
       "lat     object\n",
       "lon     object\n",
       "dtype: object"
      ]
     },
     "execution_count": 6,
     "metadata": {},
     "output_type": "execute_result"
    }
   ],
   "source": [
    "data_coord_cities.dtypes"
   ]
  },
  {
   "cell_type": "markdown",
   "metadata": {},
   "source": [
    "Aïe ! les lattitudes et longitudes sont restées en 'string'... Il faut les convertir :"
   ]
  },
  {
   "cell_type": "code",
   "execution_count": 7,
   "metadata": {},
   "outputs": [],
   "source": [
    "data_coord_cities['lat']=data_coord_cities['lat'].map(lambda s : float(s))\n",
    "data_coord_cities['lon']=data_coord_cities['lon'].map(lambda s : float(s))"
   ]
  },
  {
   "cell_type": "code",
   "execution_count": 8,
   "metadata": {},
   "outputs": [
    {
     "data": {
      "text/plain": [
       "city     object\n",
       "lat     float64\n",
       "lon     float64\n",
       "dtype: object"
      ]
     },
     "execution_count": 8,
     "metadata": {},
     "output_type": "execute_result"
    }
   ],
   "source": [
    "data_coord_cities.dtypes"
   ]
  },
  {
   "cell_type": "markdown",
   "metadata": {},
   "source": [
    "On visualise notre fichier pour voir si tout semble bon."
   ]
  },
  {
   "cell_type": "code",
   "execution_count": 9,
   "metadata": {},
   "outputs": [
    {
     "data": {
      "text/html": [
       "<div>\n",
       "<style scoped>\n",
       "    .dataframe tbody tr th:only-of-type {\n",
       "        vertical-align: middle;\n",
       "    }\n",
       "\n",
       "    .dataframe tbody tr th {\n",
       "        vertical-align: top;\n",
       "    }\n",
       "\n",
       "    .dataframe thead th {\n",
       "        text-align: right;\n",
       "    }\n",
       "</style>\n",
       "<table border=\"1\" class=\"dataframe\">\n",
       "  <thead>\n",
       "    <tr style=\"text-align: right;\">\n",
       "      <th></th>\n",
       "      <th>city</th>\n",
       "      <th>lat</th>\n",
       "      <th>lon</th>\n",
       "    </tr>\n",
       "  </thead>\n",
       "  <tbody>\n",
       "    <tr>\n",
       "      <th>0</th>\n",
       "      <td>Mont Saint Michel</td>\n",
       "      <td>48.635954</td>\n",
       "      <td>-1.511460</td>\n",
       "    </tr>\n",
       "    <tr>\n",
       "      <th>1</th>\n",
       "      <td>St Malo</td>\n",
       "      <td>48.649518</td>\n",
       "      <td>-2.026041</td>\n",
       "    </tr>\n",
       "    <tr>\n",
       "      <th>2</th>\n",
       "      <td>Bayeux</td>\n",
       "      <td>49.276462</td>\n",
       "      <td>-0.702474</td>\n",
       "    </tr>\n",
       "    <tr>\n",
       "      <th>3</th>\n",
       "      <td>Le Havre</td>\n",
       "      <td>49.493898</td>\n",
       "      <td>0.107973</td>\n",
       "    </tr>\n",
       "    <tr>\n",
       "      <th>4</th>\n",
       "      <td>Rouen</td>\n",
       "      <td>49.440459</td>\n",
       "      <td>1.093966</td>\n",
       "    </tr>\n",
       "    <tr>\n",
       "      <th>5</th>\n",
       "      <td>Paris</td>\n",
       "      <td>48.858890</td>\n",
       "      <td>2.320041</td>\n",
       "    </tr>\n",
       "    <tr>\n",
       "      <th>6</th>\n",
       "      <td>Amiens</td>\n",
       "      <td>49.894171</td>\n",
       "      <td>2.295695</td>\n",
       "    </tr>\n",
       "    <tr>\n",
       "      <th>7</th>\n",
       "      <td>Lille</td>\n",
       "      <td>50.636565</td>\n",
       "      <td>3.063528</td>\n",
       "    </tr>\n",
       "    <tr>\n",
       "      <th>8</th>\n",
       "      <td>Strasbourg</td>\n",
       "      <td>48.584614</td>\n",
       "      <td>7.750713</td>\n",
       "    </tr>\n",
       "    <tr>\n",
       "      <th>9</th>\n",
       "      <td>Chateau du Haut Koenigsbourg</td>\n",
       "      <td>48.249523</td>\n",
       "      <td>7.345492</td>\n",
       "    </tr>\n",
       "    <tr>\n",
       "      <th>10</th>\n",
       "      <td>Colmar</td>\n",
       "      <td>48.077752</td>\n",
       "      <td>7.357964</td>\n",
       "    </tr>\n",
       "    <tr>\n",
       "      <th>11</th>\n",
       "      <td>Eguisheim</td>\n",
       "      <td>48.044797</td>\n",
       "      <td>7.307962</td>\n",
       "    </tr>\n",
       "    <tr>\n",
       "      <th>12</th>\n",
       "      <td>Besancon</td>\n",
       "      <td>47.238022</td>\n",
       "      <td>6.024362</td>\n",
       "    </tr>\n",
       "    <tr>\n",
       "      <th>13</th>\n",
       "      <td>Dijon</td>\n",
       "      <td>47.321581</td>\n",
       "      <td>5.041470</td>\n",
       "    </tr>\n",
       "    <tr>\n",
       "      <th>14</th>\n",
       "      <td>Annecy</td>\n",
       "      <td>45.899235</td>\n",
       "      <td>6.128885</td>\n",
       "    </tr>\n",
       "    <tr>\n",
       "      <th>15</th>\n",
       "      <td>Grenoble</td>\n",
       "      <td>45.187560</td>\n",
       "      <td>5.735782</td>\n",
       "    </tr>\n",
       "    <tr>\n",
       "      <th>16</th>\n",
       "      <td>Lyon</td>\n",
       "      <td>45.757814</td>\n",
       "      <td>4.832011</td>\n",
       "    </tr>\n",
       "    <tr>\n",
       "      <th>17</th>\n",
       "      <td>Bormes les Mimosas</td>\n",
       "      <td>43.150697</td>\n",
       "      <td>6.341928</td>\n",
       "    </tr>\n",
       "    <tr>\n",
       "      <th>18</th>\n",
       "      <td>Cassis</td>\n",
       "      <td>43.214036</td>\n",
       "      <td>5.539632</td>\n",
       "    </tr>\n",
       "    <tr>\n",
       "      <th>19</th>\n",
       "      <td>Marseille</td>\n",
       "      <td>43.296174</td>\n",
       "      <td>5.369953</td>\n",
       "    </tr>\n",
       "    <tr>\n",
       "      <th>20</th>\n",
       "      <td>Aix en Provence</td>\n",
       "      <td>43.529842</td>\n",
       "      <td>5.447474</td>\n",
       "    </tr>\n",
       "    <tr>\n",
       "      <th>21</th>\n",
       "      <td>Avignon</td>\n",
       "      <td>43.949249</td>\n",
       "      <td>4.805901</td>\n",
       "    </tr>\n",
       "    <tr>\n",
       "      <th>22</th>\n",
       "      <td>Uzes</td>\n",
       "      <td>44.012128</td>\n",
       "      <td>4.419672</td>\n",
       "    </tr>\n",
       "    <tr>\n",
       "      <th>23</th>\n",
       "      <td>Nimes</td>\n",
       "      <td>43.837425</td>\n",
       "      <td>4.360069</td>\n",
       "    </tr>\n",
       "    <tr>\n",
       "      <th>24</th>\n",
       "      <td>Aigues Mortes</td>\n",
       "      <td>43.565823</td>\n",
       "      <td>4.191284</td>\n",
       "    </tr>\n",
       "    <tr>\n",
       "      <th>25</th>\n",
       "      <td>Saintes Maries de la mer</td>\n",
       "      <td>43.452277</td>\n",
       "      <td>4.428717</td>\n",
       "    </tr>\n",
       "    <tr>\n",
       "      <th>26</th>\n",
       "      <td>Collioure</td>\n",
       "      <td>42.525050</td>\n",
       "      <td>3.083155</td>\n",
       "    </tr>\n",
       "    <tr>\n",
       "      <th>27</th>\n",
       "      <td>Carcassonne</td>\n",
       "      <td>43.213036</td>\n",
       "      <td>2.349107</td>\n",
       "    </tr>\n",
       "    <tr>\n",
       "      <th>28</th>\n",
       "      <td>Toulouse</td>\n",
       "      <td>43.604462</td>\n",
       "      <td>1.444247</td>\n",
       "    </tr>\n",
       "    <tr>\n",
       "      <th>29</th>\n",
       "      <td>Montauban</td>\n",
       "      <td>44.017584</td>\n",
       "      <td>1.354999</td>\n",
       "    </tr>\n",
       "    <tr>\n",
       "      <th>30</th>\n",
       "      <td>Biarritz</td>\n",
       "      <td>43.483252</td>\n",
       "      <td>-1.559278</td>\n",
       "    </tr>\n",
       "    <tr>\n",
       "      <th>31</th>\n",
       "      <td>Bayonne</td>\n",
       "      <td>43.494514</td>\n",
       "      <td>-1.473666</td>\n",
       "    </tr>\n",
       "    <tr>\n",
       "      <th>32</th>\n",
       "      <td>La Rochelle</td>\n",
       "      <td>46.159113</td>\n",
       "      <td>-1.152043</td>\n",
       "    </tr>\n",
       "    <tr>\n",
       "      <th>33</th>\n",
       "      <td>Gorges du Verdon</td>\n",
       "      <td>43.749656</td>\n",
       "      <td>6.328562</td>\n",
       "    </tr>\n",
       "    <tr>\n",
       "      <th>34</th>\n",
       "      <td>Ariege</td>\n",
       "      <td>42.945537</td>\n",
       "      <td>1.406554</td>\n",
       "    </tr>\n",
       "  </tbody>\n",
       "</table>\n",
       "</div>"
      ],
      "text/plain": [
       "                            city        lat       lon\n",
       "0              Mont Saint Michel  48.635954 -1.511460\n",
       "1                        St Malo  48.649518 -2.026041\n",
       "2                         Bayeux  49.276462 -0.702474\n",
       "3                       Le Havre  49.493898  0.107973\n",
       "4                          Rouen  49.440459  1.093966\n",
       "5                          Paris  48.858890  2.320041\n",
       "6                         Amiens  49.894171  2.295695\n",
       "7                          Lille  50.636565  3.063528\n",
       "8                     Strasbourg  48.584614  7.750713\n",
       "9   Chateau du Haut Koenigsbourg  48.249523  7.345492\n",
       "10                        Colmar  48.077752  7.357964\n",
       "11                     Eguisheim  48.044797  7.307962\n",
       "12                      Besancon  47.238022  6.024362\n",
       "13                         Dijon  47.321581  5.041470\n",
       "14                        Annecy  45.899235  6.128885\n",
       "15                      Grenoble  45.187560  5.735782\n",
       "16                          Lyon  45.757814  4.832011\n",
       "17            Bormes les Mimosas  43.150697  6.341928\n",
       "18                        Cassis  43.214036  5.539632\n",
       "19                     Marseille  43.296174  5.369953\n",
       "20               Aix en Provence  43.529842  5.447474\n",
       "21                       Avignon  43.949249  4.805901\n",
       "22                          Uzes  44.012128  4.419672\n",
       "23                         Nimes  43.837425  4.360069\n",
       "24                 Aigues Mortes  43.565823  4.191284\n",
       "25      Saintes Maries de la mer  43.452277  4.428717\n",
       "26                     Collioure  42.525050  3.083155\n",
       "27                   Carcassonne  43.213036  2.349107\n",
       "28                      Toulouse  43.604462  1.444247\n",
       "29                     Montauban  44.017584  1.354999\n",
       "30                      Biarritz  43.483252 -1.559278\n",
       "31                       Bayonne  43.494514 -1.473666\n",
       "32                   La Rochelle  46.159113 -1.152043\n",
       "33              Gorges du Verdon  43.749656  6.328562\n",
       "34                        Ariege  42.945537  1.406554"
      ]
     },
     "execution_count": 9,
     "metadata": {},
     "output_type": "execute_result"
    }
   ],
   "source": [
    "data_coord_cities"
   ]
  },
  {
   "cell_type": "markdown",
   "metadata": {},
   "source": [
    "On exécute une petite visualisation pour voir si les villes sont au bon endroit (à nos souvenirs de géographie !...) :"
   ]
  },
  {
   "cell_type": "code",
   "execution_count": 10,
   "metadata": {},
   "outputs": [
    {
     "data": {
      "application/vnd.plotly.v1+json": {
       "config": {
        "plotlyServerURL": "https://plot.ly"
       },
       "data": [
        {
         "hovertemplate": "<b>%{hovertext}</b><br><br>lat=%{lat}<br>lon=%{lon}<extra></extra>",
         "hovertext": [
          "Mont Saint Michel",
          "St Malo",
          "Bayeux",
          "Le Havre",
          "Rouen",
          "Paris",
          "Amiens",
          "Lille",
          "Strasbourg",
          "Chateau du Haut Koenigsbourg",
          "Colmar",
          "Eguisheim",
          "Besancon",
          "Dijon",
          "Annecy",
          "Grenoble",
          "Lyon",
          "Bormes les Mimosas",
          "Cassis",
          "Marseille",
          "Aix en Provence",
          "Avignon",
          "Uzes",
          "Nimes",
          "Aigues Mortes",
          "Saintes Maries de la mer",
          "Collioure",
          "Carcassonne",
          "Toulouse",
          "Montauban",
          "Biarritz",
          "Bayonne",
          "La Rochelle",
          "Gorges du Verdon",
          "Ariege"
         ],
         "lat": [
          48.6359541,
          48.649518,
          49.2764624,
          49.4938975,
          49.4404591,
          48.8588897,
          49.8941708,
          50.6365654,
          48.584614,
          48.2495226,
          48.0777517,
          48.0447968,
          47.2380222,
          47.3215806,
          45.8992348,
          45.1875602,
          45.7578137,
          43.1506968,
          43.2140359,
          43.2961743,
          43.5298424,
          43.9492493,
          44.0121279,
          43.8374249,
          43.5658225,
          43.4522771,
          42.52505,
          43.2130358,
          43.6044622,
          44.0175835,
          43.4832523,
          43.4945144,
          46.1591126,
          43.7496562,
          42.9455368
         ],
         "legendgroup": "",
         "lon": [
          -1.511459954959514,
          -2.0260409,
          -0.7024738,
          0.1079732,
          1.0939658,
          2.3200410217200766,
          2.2956951,
          3.0635282,
          7.7507127,
          7.3454923,
          7.3579641,
          7.3079618,
          6.0243622,
          5.0414701,
          6.1288847,
          5.7357819,
          4.8320114,
          6.3419285,
          5.5396318,
          5.3699525,
          5.4474738,
          4.8059012,
          4.4196718,
          4.3600687,
          4.1912837,
          4.4287172,
          3.0831554,
          2.3491069,
          1.4442469,
          1.3549991,
          -1.5592776,
          -1.4736657,
          -1.1520434,
          6.3285616,
          1.4065544156065486
         ],
         "marker": {
          "color": "#636efa"
         },
         "mode": "markers",
         "name": "",
         "showlegend": false,
         "subplot": "mapbox",
         "type": "scattermapbox"
        }
       ],
       "layout": {
        "legend": {
         "tracegroupgap": 0
        },
        "mapbox": {
         "center": {
          "lat": 45.84133338571428,
          "lon": 3.3957753337819163
         },
         "domain": {
          "x": [
           0,
           1
          ],
          "y": [
           0,
           1
          ]
         },
         "style": "open-street-map",
         "zoom": 3.5
        },
        "template": {
         "data": {
          "bar": [
           {
            "error_x": {
             "color": "#2a3f5f"
            },
            "error_y": {
             "color": "#2a3f5f"
            },
            "marker": {
             "line": {
              "color": "#E5ECF6",
              "width": 0.5
             },
             "pattern": {
              "fillmode": "overlay",
              "size": 10,
              "solidity": 0.2
             }
            },
            "type": "bar"
           }
          ],
          "barpolar": [
           {
            "marker": {
             "line": {
              "color": "#E5ECF6",
              "width": 0.5
             },
             "pattern": {
              "fillmode": "overlay",
              "size": 10,
              "solidity": 0.2
             }
            },
            "type": "barpolar"
           }
          ],
          "carpet": [
           {
            "aaxis": {
             "endlinecolor": "#2a3f5f",
             "gridcolor": "white",
             "linecolor": "white",
             "minorgridcolor": "white",
             "startlinecolor": "#2a3f5f"
            },
            "baxis": {
             "endlinecolor": "#2a3f5f",
             "gridcolor": "white",
             "linecolor": "white",
             "minorgridcolor": "white",
             "startlinecolor": "#2a3f5f"
            },
            "type": "carpet"
           }
          ],
          "choropleth": [
           {
            "colorbar": {
             "outlinewidth": 0,
             "ticks": ""
            },
            "type": "choropleth"
           }
          ],
          "contour": [
           {
            "colorbar": {
             "outlinewidth": 0,
             "ticks": ""
            },
            "colorscale": [
             [
              0,
              "#0d0887"
             ],
             [
              0.1111111111111111,
              "#46039f"
             ],
             [
              0.2222222222222222,
              "#7201a8"
             ],
             [
              0.3333333333333333,
              "#9c179e"
             ],
             [
              0.4444444444444444,
              "#bd3786"
             ],
             [
              0.5555555555555556,
              "#d8576b"
             ],
             [
              0.6666666666666666,
              "#ed7953"
             ],
             [
              0.7777777777777778,
              "#fb9f3a"
             ],
             [
              0.8888888888888888,
              "#fdca26"
             ],
             [
              1,
              "#f0f921"
             ]
            ],
            "type": "contour"
           }
          ],
          "contourcarpet": [
           {
            "colorbar": {
             "outlinewidth": 0,
             "ticks": ""
            },
            "type": "contourcarpet"
           }
          ],
          "heatmap": [
           {
            "colorbar": {
             "outlinewidth": 0,
             "ticks": ""
            },
            "colorscale": [
             [
              0,
              "#0d0887"
             ],
             [
              0.1111111111111111,
              "#46039f"
             ],
             [
              0.2222222222222222,
              "#7201a8"
             ],
             [
              0.3333333333333333,
              "#9c179e"
             ],
             [
              0.4444444444444444,
              "#bd3786"
             ],
             [
              0.5555555555555556,
              "#d8576b"
             ],
             [
              0.6666666666666666,
              "#ed7953"
             ],
             [
              0.7777777777777778,
              "#fb9f3a"
             ],
             [
              0.8888888888888888,
              "#fdca26"
             ],
             [
              1,
              "#f0f921"
             ]
            ],
            "type": "heatmap"
           }
          ],
          "heatmapgl": [
           {
            "colorbar": {
             "outlinewidth": 0,
             "ticks": ""
            },
            "colorscale": [
             [
              0,
              "#0d0887"
             ],
             [
              0.1111111111111111,
              "#46039f"
             ],
             [
              0.2222222222222222,
              "#7201a8"
             ],
             [
              0.3333333333333333,
              "#9c179e"
             ],
             [
              0.4444444444444444,
              "#bd3786"
             ],
             [
              0.5555555555555556,
              "#d8576b"
             ],
             [
              0.6666666666666666,
              "#ed7953"
             ],
             [
              0.7777777777777778,
              "#fb9f3a"
             ],
             [
              0.8888888888888888,
              "#fdca26"
             ],
             [
              1,
              "#f0f921"
             ]
            ],
            "type": "heatmapgl"
           }
          ],
          "histogram": [
           {
            "marker": {
             "pattern": {
              "fillmode": "overlay",
              "size": 10,
              "solidity": 0.2
             }
            },
            "type": "histogram"
           }
          ],
          "histogram2d": [
           {
            "colorbar": {
             "outlinewidth": 0,
             "ticks": ""
            },
            "colorscale": [
             [
              0,
              "#0d0887"
             ],
             [
              0.1111111111111111,
              "#46039f"
             ],
             [
              0.2222222222222222,
              "#7201a8"
             ],
             [
              0.3333333333333333,
              "#9c179e"
             ],
             [
              0.4444444444444444,
              "#bd3786"
             ],
             [
              0.5555555555555556,
              "#d8576b"
             ],
             [
              0.6666666666666666,
              "#ed7953"
             ],
             [
              0.7777777777777778,
              "#fb9f3a"
             ],
             [
              0.8888888888888888,
              "#fdca26"
             ],
             [
              1,
              "#f0f921"
             ]
            ],
            "type": "histogram2d"
           }
          ],
          "histogram2dcontour": [
           {
            "colorbar": {
             "outlinewidth": 0,
             "ticks": ""
            },
            "colorscale": [
             [
              0,
              "#0d0887"
             ],
             [
              0.1111111111111111,
              "#46039f"
             ],
             [
              0.2222222222222222,
              "#7201a8"
             ],
             [
              0.3333333333333333,
              "#9c179e"
             ],
             [
              0.4444444444444444,
              "#bd3786"
             ],
             [
              0.5555555555555556,
              "#d8576b"
             ],
             [
              0.6666666666666666,
              "#ed7953"
             ],
             [
              0.7777777777777778,
              "#fb9f3a"
             ],
             [
              0.8888888888888888,
              "#fdca26"
             ],
             [
              1,
              "#f0f921"
             ]
            ],
            "type": "histogram2dcontour"
           }
          ],
          "mesh3d": [
           {
            "colorbar": {
             "outlinewidth": 0,
             "ticks": ""
            },
            "type": "mesh3d"
           }
          ],
          "parcoords": [
           {
            "line": {
             "colorbar": {
              "outlinewidth": 0,
              "ticks": ""
             }
            },
            "type": "parcoords"
           }
          ],
          "pie": [
           {
            "automargin": true,
            "type": "pie"
           }
          ],
          "scatter": [
           {
            "marker": {
             "colorbar": {
              "outlinewidth": 0,
              "ticks": ""
             }
            },
            "type": "scatter"
           }
          ],
          "scatter3d": [
           {
            "line": {
             "colorbar": {
              "outlinewidth": 0,
              "ticks": ""
             }
            },
            "marker": {
             "colorbar": {
              "outlinewidth": 0,
              "ticks": ""
             }
            },
            "type": "scatter3d"
           }
          ],
          "scattercarpet": [
           {
            "marker": {
             "colorbar": {
              "outlinewidth": 0,
              "ticks": ""
             }
            },
            "type": "scattercarpet"
           }
          ],
          "scattergeo": [
           {
            "marker": {
             "colorbar": {
              "outlinewidth": 0,
              "ticks": ""
             }
            },
            "type": "scattergeo"
           }
          ],
          "scattergl": [
           {
            "marker": {
             "colorbar": {
              "outlinewidth": 0,
              "ticks": ""
             }
            },
            "type": "scattergl"
           }
          ],
          "scattermapbox": [
           {
            "marker": {
             "colorbar": {
              "outlinewidth": 0,
              "ticks": ""
             }
            },
            "type": "scattermapbox"
           }
          ],
          "scatterpolar": [
           {
            "marker": {
             "colorbar": {
              "outlinewidth": 0,
              "ticks": ""
             }
            },
            "type": "scatterpolar"
           }
          ],
          "scatterpolargl": [
           {
            "marker": {
             "colorbar": {
              "outlinewidth": 0,
              "ticks": ""
             }
            },
            "type": "scatterpolargl"
           }
          ],
          "scatterternary": [
           {
            "marker": {
             "colorbar": {
              "outlinewidth": 0,
              "ticks": ""
             }
            },
            "type": "scatterternary"
           }
          ],
          "surface": [
           {
            "colorbar": {
             "outlinewidth": 0,
             "ticks": ""
            },
            "colorscale": [
             [
              0,
              "#0d0887"
             ],
             [
              0.1111111111111111,
              "#46039f"
             ],
             [
              0.2222222222222222,
              "#7201a8"
             ],
             [
              0.3333333333333333,
              "#9c179e"
             ],
             [
              0.4444444444444444,
              "#bd3786"
             ],
             [
              0.5555555555555556,
              "#d8576b"
             ],
             [
              0.6666666666666666,
              "#ed7953"
             ],
             [
              0.7777777777777778,
              "#fb9f3a"
             ],
             [
              0.8888888888888888,
              "#fdca26"
             ],
             [
              1,
              "#f0f921"
             ]
            ],
            "type": "surface"
           }
          ],
          "table": [
           {
            "cells": {
             "fill": {
              "color": "#EBF0F8"
             },
             "line": {
              "color": "white"
             }
            },
            "header": {
             "fill": {
              "color": "#C8D4E3"
             },
             "line": {
              "color": "white"
             }
            },
            "type": "table"
           }
          ]
         },
         "layout": {
          "annotationdefaults": {
           "arrowcolor": "#2a3f5f",
           "arrowhead": 0,
           "arrowwidth": 1
          },
          "autotypenumbers": "strict",
          "coloraxis": {
           "colorbar": {
            "outlinewidth": 0,
            "ticks": ""
           }
          },
          "colorscale": {
           "diverging": [
            [
             0,
             "#8e0152"
            ],
            [
             0.1,
             "#c51b7d"
            ],
            [
             0.2,
             "#de77ae"
            ],
            [
             0.3,
             "#f1b6da"
            ],
            [
             0.4,
             "#fde0ef"
            ],
            [
             0.5,
             "#f7f7f7"
            ],
            [
             0.6,
             "#e6f5d0"
            ],
            [
             0.7,
             "#b8e186"
            ],
            [
             0.8,
             "#7fbc41"
            ],
            [
             0.9,
             "#4d9221"
            ],
            [
             1,
             "#276419"
            ]
           ],
           "sequential": [
            [
             0,
             "#0d0887"
            ],
            [
             0.1111111111111111,
             "#46039f"
            ],
            [
             0.2222222222222222,
             "#7201a8"
            ],
            [
             0.3333333333333333,
             "#9c179e"
            ],
            [
             0.4444444444444444,
             "#bd3786"
            ],
            [
             0.5555555555555556,
             "#d8576b"
            ],
            [
             0.6666666666666666,
             "#ed7953"
            ],
            [
             0.7777777777777778,
             "#fb9f3a"
            ],
            [
             0.8888888888888888,
             "#fdca26"
            ],
            [
             1,
             "#f0f921"
            ]
           ],
           "sequentialminus": [
            [
             0,
             "#0d0887"
            ],
            [
             0.1111111111111111,
             "#46039f"
            ],
            [
             0.2222222222222222,
             "#7201a8"
            ],
            [
             0.3333333333333333,
             "#9c179e"
            ],
            [
             0.4444444444444444,
             "#bd3786"
            ],
            [
             0.5555555555555556,
             "#d8576b"
            ],
            [
             0.6666666666666666,
             "#ed7953"
            ],
            [
             0.7777777777777778,
             "#fb9f3a"
            ],
            [
             0.8888888888888888,
             "#fdca26"
            ],
            [
             1,
             "#f0f921"
            ]
           ]
          },
          "colorway": [
           "#636efa",
           "#EF553B",
           "#00cc96",
           "#ab63fa",
           "#FFA15A",
           "#19d3f3",
           "#FF6692",
           "#B6E880",
           "#FF97FF",
           "#FECB52"
          ],
          "font": {
           "color": "#2a3f5f"
          },
          "geo": {
           "bgcolor": "white",
           "lakecolor": "white",
           "landcolor": "#E5ECF6",
           "showlakes": true,
           "showland": true,
           "subunitcolor": "white"
          },
          "hoverlabel": {
           "align": "left"
          },
          "hovermode": "closest",
          "mapbox": {
           "style": "light"
          },
          "paper_bgcolor": "white",
          "plot_bgcolor": "#E5ECF6",
          "polar": {
           "angularaxis": {
            "gridcolor": "white",
            "linecolor": "white",
            "ticks": ""
           },
           "bgcolor": "#E5ECF6",
           "radialaxis": {
            "gridcolor": "white",
            "linecolor": "white",
            "ticks": ""
           }
          },
          "scene": {
           "xaxis": {
            "backgroundcolor": "#E5ECF6",
            "gridcolor": "white",
            "gridwidth": 2,
            "linecolor": "white",
            "showbackground": true,
            "ticks": "",
            "zerolinecolor": "white"
           },
           "yaxis": {
            "backgroundcolor": "#E5ECF6",
            "gridcolor": "white",
            "gridwidth": 2,
            "linecolor": "white",
            "showbackground": true,
            "ticks": "",
            "zerolinecolor": "white"
           },
           "zaxis": {
            "backgroundcolor": "#E5ECF6",
            "gridcolor": "white",
            "gridwidth": 2,
            "linecolor": "white",
            "showbackground": true,
            "ticks": "",
            "zerolinecolor": "white"
           }
          },
          "shapedefaults": {
           "line": {
            "color": "#2a3f5f"
           }
          },
          "ternary": {
           "aaxis": {
            "gridcolor": "white",
            "linecolor": "white",
            "ticks": ""
           },
           "baxis": {
            "gridcolor": "white",
            "linecolor": "white",
            "ticks": ""
           },
           "bgcolor": "#E5ECF6",
           "caxis": {
            "gridcolor": "white",
            "linecolor": "white",
            "ticks": ""
           }
          },
          "title": {
           "x": 0.05
          },
          "xaxis": {
           "automargin": true,
           "gridcolor": "white",
           "linecolor": "white",
           "ticks": "",
           "title": {
            "standoff": 15
           },
           "zerolinecolor": "white",
           "zerolinewidth": 2
          },
          "yaxis": {
           "automargin": true,
           "gridcolor": "white",
           "linecolor": "white",
           "ticks": "",
           "title": {
            "standoff": 15
           },
           "zerolinecolor": "white",
           "zerolinewidth": 2
          }
         }
        },
        "title": {
         "text": "Spatial repartition of the 35 best touristic destination (test)"
        }
       }
      }
     },
     "metadata": {},
     "output_type": "display_data"
    }
   ],
   "source": [
    "import plotly.express as px\n",
    "fig = px.scatter_mapbox(data_coord_cities,\n",
    "                        lat='lat',\n",
    "                        lon='lon',\n",
    "                        hover_name='city',\n",
    "                        title='Spatial repartition of the 35 best touristic destination (test)',\n",
    "                        zoom=3.5,\n",
    "                        mapbox_style='open-street-map')\n",
    "fig.show()"
   ]
  },
  {
   "cell_type": "markdown",
   "metadata": {},
   "source": [
    "#### b) Requêtes sur les prévisions météo"
   ]
  },
  {
   "cell_type": "markdown",
   "metadata": {},
   "source": [
    "On commence par convertir les lignes de notre dataframe en liste de liste avec numpy. Car on va faire des calculs et boucle sur les destination avec les coordonnées GPS pour nos requêtes sur Open Weather Map, et on va ainsi gagner en rapidité de calcul."
   ]
  },
  {
   "cell_type": "code",
   "execution_count": 11,
   "metadata": {},
   "outputs": [],
   "source": [
    "nump_cities = data_coord_cities.to_numpy()"
   ]
  },
  {
   "cell_type": "code",
   "execution_count": 12,
   "metadata": {},
   "outputs": [
    {
     "data": {
      "text/plain": [
       "array(['Mont Saint Michel', 48.6359541, -1.511459954959514], dtype=object)"
      ]
     },
     "execution_count": 12,
     "metadata": {},
     "output_type": "execute_result"
    }
   ],
   "source": [
    "nump_cities[0]"
   ]
  },
  {
   "cell_type": "markdown",
   "metadata": {},
   "source": [
    "Pour les requêtes sur l'API de Open Weather Map, on va boucler sur chaque destination (city) accompagnée de ses coordonnées GPS. Ce sont les coordonnées GPS qui sont entrées dans l'url de la requête.\n",
    "Par défault, la requête de type 'forecast' interroge les prévisions météo d'une zone pour les 5 jours à venir. Cela nous va très bien, car de toutes façons, la fiabilité des prévisions météo décroit très fortement après le 5ème jour... \n",
    "On ajoute une option '&unit=metrics' à l'url de requête, pour avoir la température en degrés Celcius.\n",
    "La requête pour une destination donnée nous donne en retour en format json qu'il faut 'explorer' pour récupérer les seules infos qui nous intéressent.\n",
    "On a fait le choix de retenir les clés suivants :\n",
    "- 'feels_like', un avis global sur la météo calculé selon OWM (https://openweather.co.uk/blog/post/new-feels-temperature-openweather-apis)\n",
    "+ d'autres paramètres qui pourront nous servir à permettre à l'utilisateur des visualisations plus 'personnelles' de ce qu'est une bonne météo selon lui :\n",
    "- 'temp', la température\n",
    "- 'humidity', le taux d'humidité relative\n",
    "- 'speed', de la clé 'wind' vitesse du vent\n",
    "- 'pop', probabilité de précipitations\n",
    "- 'description' de la clé 'weather', qui décrit le ciel et les éventuels évènements météorologiques exceptionnels (neige, brouillard, orage...)\n",
    "\n",
    "Points importants :\n",
    "- la requête pour une destination sort en premier lieu une liste (key 'list') avec 40 prévisions différentes (8 par jour, toutes les 3 heures, pour 5 jours de prévisions)... On va calculer directement la moyenne de ces 5 jours. Après réflexion, cette moyenne n'a pas à être pondérée selon la décroissance de la fiabilité de la prévision pendant les 5 jours (on aurait pu accorder plus d'importance dans ce calcul moyen aux jours 1 et 2, par exemple, qu'au jour 5...). Même si l'écart entre le prévisionnel et le réel d'une donné s'agrandit de jour en jour et d'heure en heure... la moyenne globale sur une durée reste la moyenne. L'erreur sur la mesure (mesure de la moyenne) risque d'être plus grande, mais autant en positif qu'en négatif. Voilà pourquoi la moyenne peut être calculée sans se préoccuper de la fiabilité des prévisions.\n",
    "Illustration du raisonnement :\n",
    "\n",
    "<img src='illustr/previsions_fiability_and_average.png' with=600 height=350>"
   ]
  },
  {
   "cell_type": "markdown",
   "metadata": {},
   "source": [
    "- En revanche, nous décidons que notre moyenne de chaque mesures pour les 5 jours (extraites des 40 prévisions) se focalisera uniquement sur les prévisions en journée. En effet, l'objectif final est touristique et les données seront plus parlantes (et attrayantes, par exemple, s'il s'agit de la tempéture !...) si on exclue les mesures nocturnes, la plupart des gens choisissant une destination touristique pour visiter les lieux en journée essentiellement.\n",
    "On se débrouille donc dans le programme suivant pour récupérer les horaires de lever et coucher du soleil, pour pouvoir effectuer chaque moyenne de mesure sur les 5 jours en ayant préalablement exclu les prévisions hors du créneau journalier."
   ]
  },
  {
   "cell_type": "code",
   "execution_count": 20,
   "metadata": {},
   "outputs": [
    {
     "name": "stdout",
     "output_type": "stream",
     "text": [
      "Request response for Mont Saint Michel : 200\n",
      "Request response for St Malo : 200\n",
      "Request response for Bayeux : 200\n",
      "Request response for Le Havre : 200\n",
      "Request response for Rouen : 200\n",
      "Request response for Paris : 200\n",
      "Request response for Amiens : 200\n",
      "Request response for Lille : 200\n",
      "Request response for Strasbourg : 200\n",
      "Request response for Chateau du Haut Koenigsbourg : 200\n",
      "Request response for Colmar : 200\n",
      "Request response for Eguisheim : 200\n",
      "Request response for Besancon : 200\n",
      "Request response for Dijon : 200\n",
      "Request response for Annecy : 200\n",
      "Request response for Grenoble : 200\n",
      "Request response for Lyon : 200\n",
      "Request response for Bormes les Mimosas : 200\n",
      "Request response for Cassis : 200\n",
      "Request response for Marseille : 200\n",
      "Request response for Aix en Provence : 200\n",
      "Request response for Avignon : 200\n",
      "Request response for Uzes : 200\n",
      "Request response for Nimes : 200\n",
      "Request response for Aigues Mortes : 200\n",
      "Request response for Saintes Maries de la mer : 200\n",
      "Request response for Collioure : 200\n",
      "Request response for Carcassonne : 200\n",
      "Request response for Toulouse : 200\n",
      "Request response for Montauban : 200\n",
      "Request response for Biarritz : 200\n",
      "Request response for Bayonne : 200\n",
      "Request response for La Rochelle : 200\n",
      "Request response for Gorges du Verdon : 200\n",
      "Request response for Ariege : 200\n"
     ]
    }
   ],
   "source": [
    "import datetime as dt\n",
    "from statistics import mode\n",
    "\n",
    "nb_cities=len(nump_cities)\n",
    "\n",
    "#numpy array d'initialisation pour chaque donnée météo\n",
    "#les résultats sont stockés dans un premier temps sous cette forme pour efficaciter des calculs :\n",
    "feels_list=np.empty(nb_cities)\n",
    "temp_avg_list=np.empty(nb_cities)\n",
    "humid_avg_list=np.empty(nb_cities)\n",
    "cloud_avg_list=[]\n",
    "wind_avg_list=np.empty(nb_cities)\n",
    "pop_avg_list=np.empty(nb_cities)\n",
    "date_forecast_start=np.empty(nb_cities)\n",
    "date_forecast_end=np.empty(nb_cities)\n",
    "#pour 'cloud description' on initialise une liste car ce sont des strings\n",
    "\n",
    "for i, line in enumerate((nump_cities)):\n",
    "    # on boucle sur chaque 'city' (chaque destination)\n",
    "    \n",
    "    re = requests.get(f'http://api.openweathermap.org/data/2.5/forecast?lat={line[1]}&lon={line[2]}&units=metric&appid=8daa8c48c89401da2829d329b367b1fc')\n",
    "    print(f'Request response for {line[0]} : {re.status_code}')\n",
    "\n",
    "    base_fc = re.json().get('list')\n",
    "    # dans le fichier réponse en json,\n",
    "    # les 40 forecasts différentes à dt différents\n",
    "    # ont toutes le même départ de chemin ('list')\n",
    "\n",
    "    nb_forecast=len(base_fc)\n",
    "\n",
    "    sunrise=dt.datetime.fromtimestamp(re.json().get('city').get('sunrise'))\n",
    "    sunset=dt.datetime.fromtimestamp(re.json().get('city').get('sunset'))\n",
    "    # on récupère aussi, comme décrit précedemment, les heures de lever et coucher du soleil,\n",
    "    # qui sont étrangement des données uniques pour les 5 jours sur l'API\n",
    "\n",
    "    date_forecast_start[i]=base_fc[0].get('dt')\n",
    "    date_forecast_end[i]=base_fc[-1].get('dt')\n",
    "    # à toute fin utile, on stocke la première date et la dernière date des 40 prévisions,\n",
    "    # pour pouvoir intégrer ces méta-variables dans le dataframe\n",
    "\n",
    "    # Pour chaque paramètre météo, on calcule directement la moyenne (journalière) des 5 jours de prévisions\n",
    "    # avec une comprehension list et une condition pour ne retenir que les prévisions en journée :\n",
    "    feels_list[i]=np.mean([base_fc[fc].get('main').get('feels_like') \\\n",
    "                            for fc in range(nb_forecast) \\\n",
    "                            if dt.datetime.fromtimestamp(base_fc[fc].get('dt')) >= sunrise \\\n",
    "                            and dt.datetime.fromtimestamp(base_fc[fc].get('dt')) < sunset])\n",
    "    temp_avg_list[i]=np.mean([base_fc[fc].get('main').get('temp') \\\n",
    "                            for fc in range(nb_forecast) \\\n",
    "                            if dt.datetime.fromtimestamp(base_fc[fc].get('dt')) >= sunrise \\\n",
    "                            and dt.datetime.fromtimestamp(base_fc[fc].get('dt')) < sunset])\n",
    "    humid_avg_list[i]=np.mean([base_fc[fc].get('main').get('humidity') \\\n",
    "                            for fc in range(nb_forecast) \\\n",
    "                            if dt.datetime.fromtimestamp(base_fc[fc].get('dt')) >= sunrise \\\n",
    "                            and dt.datetime.fromtimestamp(base_fc[fc].get('dt')) < sunset])\n",
    "    cloud_avg_list.append(mode([str(base_fc[fc].get('weather')[0].get('description')) \\\n",
    "                            for fc in range(nb_forecast) \\\n",
    "                            if dt.datetime.fromtimestamp(base_fc[fc].get('dt')) >= sunrise \\\n",
    "                            and dt.datetime.fromtimestamp(base_fc[fc].get('dt')) < sunset]))\n",
    "    wind_avg_list[i]=np.mean([base_fc[fc].get('wind').get('speed') \\\n",
    "                            for fc in range(nb_forecast) \\\n",
    "                            if dt.datetime.fromtimestamp(base_fc[fc].get('dt')) >= sunrise \\\n",
    "                            and dt.datetime.fromtimestamp(base_fc[fc].get('dt')) < sunset])\n",
    "    pop_avg_list[i]=np.mean([base_fc[fc].get('pop') \\\n",
    "                            for fc in range(nb_forecast) \\\n",
    "                            if dt.datetime.fromtimestamp(base_fc[fc].get('dt')) >= sunrise \\\n",
    "                            and dt.datetime.fromtimestamp(base_fc[fc].get('dt')) < sunset])"
   ]
  },
  {
   "cell_type": "markdown",
   "metadata": {},
   "source": [
    "Importation des résultats (en np array ou liste) dans les colonnes de notre dataframe :"
   ]
  },
  {
   "cell_type": "code",
   "execution_count": 21,
   "metadata": {},
   "outputs": [],
   "source": [
    "data_coord_cities['feels_avg']=feels_list\n",
    "data_coord_cities['temp_avg']=temp_avg_list\n",
    "data_coord_cities['humid_avg']=humid_avg_list\n",
    "data_coord_cities['wind_avg']=wind_avg_list\n",
    "data_coord_cities['cloud_descr_avg']=cloud_avg_list\n",
    "data_coord_cities['pop_avg']=pop_avg_list\n",
    "data_coord_cities['date_forecast_start']=date_forecast_start\n",
    "data_coord_cities['date_forecast_end']=date_forecast_end"
   ]
  },
  {
   "cell_type": "code",
   "execution_count": 22,
   "metadata": {},
   "outputs": [
    {
     "data": {
      "text/html": [
       "<div>\n",
       "<style scoped>\n",
       "    .dataframe tbody tr th:only-of-type {\n",
       "        vertical-align: middle;\n",
       "    }\n",
       "\n",
       "    .dataframe tbody tr th {\n",
       "        vertical-align: top;\n",
       "    }\n",
       "\n",
       "    .dataframe thead th {\n",
       "        text-align: right;\n",
       "    }\n",
       "</style>\n",
       "<table border=\"1\" class=\"dataframe\">\n",
       "  <thead>\n",
       "    <tr style=\"text-align: right;\">\n",
       "      <th></th>\n",
       "      <th>city</th>\n",
       "      <th>lat</th>\n",
       "      <th>lon</th>\n",
       "      <th>feels_avg</th>\n",
       "      <th>temp_avg</th>\n",
       "      <th>humid_avg</th>\n",
       "      <th>wind_avg</th>\n",
       "      <th>cloud_descr_avg</th>\n",
       "      <th>pop_avg</th>\n",
       "      <th>date_forecast_start</th>\n",
       "      <th>date_forecast_end</th>\n",
       "    </tr>\n",
       "  </thead>\n",
       "  <tbody>\n",
       "    <tr>\n",
       "      <th>0</th>\n",
       "      <td>Mont Saint Michel</td>\n",
       "      <td>48.635954</td>\n",
       "      <td>-1.511460</td>\n",
       "      <td>18.000000</td>\n",
       "      <td>18.366667</td>\n",
       "      <td>66.666667</td>\n",
       "      <td>3.430000</td>\n",
       "      <td>scattered clouds</td>\n",
       "      <td>0.0</td>\n",
       "      <td>1.664842e+09</td>\n",
       "      <td>1.665263e+09</td>\n",
       "    </tr>\n",
       "    <tr>\n",
       "      <th>1</th>\n",
       "      <td>St Malo</td>\n",
       "      <td>48.649518</td>\n",
       "      <td>-2.026041</td>\n",
       "      <td>17.563333</td>\n",
       "      <td>17.890000</td>\n",
       "      <td>70.000000</td>\n",
       "      <td>3.386667</td>\n",
       "      <td>scattered clouds</td>\n",
       "      <td>0.0</td>\n",
       "      <td>1.664842e+09</td>\n",
       "      <td>1.665263e+09</td>\n",
       "    </tr>\n",
       "    <tr>\n",
       "      <th>2</th>\n",
       "      <td>Bayeux</td>\n",
       "      <td>49.276462</td>\n",
       "      <td>-0.702474</td>\n",
       "      <td>17.760000</td>\n",
       "      <td>18.180000</td>\n",
       "      <td>65.333333</td>\n",
       "      <td>4.850000</td>\n",
       "      <td>broken clouds</td>\n",
       "      <td>0.0</td>\n",
       "      <td>1.664842e+09</td>\n",
       "      <td>1.665263e+09</td>\n",
       "    </tr>\n",
       "    <tr>\n",
       "      <th>3</th>\n",
       "      <td>Le Havre</td>\n",
       "      <td>49.493898</td>\n",
       "      <td>0.107973</td>\n",
       "      <td>17.166667</td>\n",
       "      <td>17.506667</td>\n",
       "      <td>71.000000</td>\n",
       "      <td>4.043333</td>\n",
       "      <td>scattered clouds</td>\n",
       "      <td>0.0</td>\n",
       "      <td>1.664842e+09</td>\n",
       "      <td>1.665263e+09</td>\n",
       "    </tr>\n",
       "    <tr>\n",
       "      <th>4</th>\n",
       "      <td>Rouen</td>\n",
       "      <td>49.440459</td>\n",
       "      <td>1.093966</td>\n",
       "      <td>15.510000</td>\n",
       "      <td>16.242500</td>\n",
       "      <td>64.000000</td>\n",
       "      <td>3.327500</td>\n",
       "      <td>scattered clouds</td>\n",
       "      <td>0.0</td>\n",
       "      <td>1.664842e+09</td>\n",
       "      <td>1.665263e+09</td>\n",
       "    </tr>\n",
       "  </tbody>\n",
       "</table>\n",
       "</div>"
      ],
      "text/plain": [
       "                city        lat       lon  feels_avg   temp_avg  humid_avg  \\\n",
       "0  Mont Saint Michel  48.635954 -1.511460  18.000000  18.366667  66.666667   \n",
       "1            St Malo  48.649518 -2.026041  17.563333  17.890000  70.000000   \n",
       "2             Bayeux  49.276462 -0.702474  17.760000  18.180000  65.333333   \n",
       "3           Le Havre  49.493898  0.107973  17.166667  17.506667  71.000000   \n",
       "4              Rouen  49.440459  1.093966  15.510000  16.242500  64.000000   \n",
       "\n",
       "   wind_avg   cloud_descr_avg  pop_avg  date_forecast_start  date_forecast_end  \n",
       "0  3.430000  scattered clouds      0.0         1.664842e+09       1.665263e+09  \n",
       "1  3.386667  scattered clouds      0.0         1.664842e+09       1.665263e+09  \n",
       "2  4.850000     broken clouds      0.0         1.664842e+09       1.665263e+09  \n",
       "3  4.043333  scattered clouds      0.0         1.664842e+09       1.665263e+09  \n",
       "4  3.327500  scattered clouds      0.0         1.664842e+09       1.665263e+09  "
      ]
     },
     "execution_count": 22,
     "metadata": {},
     "output_type": "execute_result"
    }
   ],
   "source": [
    "data_coord_cities.head()"
   ]
  },
  {
   "cell_type": "markdown",
   "metadata": {},
   "source": [
    "On vérifie le type des données :"
   ]
  },
  {
   "cell_type": "code",
   "execution_count": 23,
   "metadata": {},
   "outputs": [
    {
     "data": {
      "text/plain": [
       "city                    object\n",
       "lat                    float64\n",
       "lon                    float64\n",
       "feels_avg              float64\n",
       "temp_avg               float64\n",
       "humid_avg              float64\n",
       "wind_avg               float64\n",
       "cloud_descr_avg         object\n",
       "pop_avg                float64\n",
       "date_forecast_start    float64\n",
       "date_forecast_end      float64\n",
       "dtype: object"
      ]
     },
     "execution_count": 23,
     "metadata": {},
     "output_type": "execute_result"
    }
   ],
   "source": [
    "data_coord_cities.dtypes"
   ]
  },
  {
   "cell_type": "markdown",
   "metadata": {},
   "source": [
    "Ok, tout va bien.\n",
    "Les dates sont en float et non en datetime (UNIX) mais de toutes façons elles seront malheureusement probablement altérées à cause du format csv lors du prochain export/import."
   ]
  },
  {
   "cell_type": "markdown",
   "metadata": {},
   "source": [
    "On fait un describe pour voir s'il n'y a pas de bizzarerie (outliers ?)..."
   ]
  },
  {
   "cell_type": "code",
   "execution_count": 102,
   "metadata": {},
   "outputs": [
    {
     "data": {
      "text/html": [
       "<div>\n",
       "<style scoped>\n",
       "    .dataframe tbody tr th:only-of-type {\n",
       "        vertical-align: middle;\n",
       "    }\n",
       "\n",
       "    .dataframe tbody tr th {\n",
       "        vertical-align: top;\n",
       "    }\n",
       "\n",
       "    .dataframe thead th {\n",
       "        text-align: right;\n",
       "    }\n",
       "</style>\n",
       "<table border=\"1\" class=\"dataframe\">\n",
       "  <thead>\n",
       "    <tr style=\"text-align: right;\">\n",
       "      <th></th>\n",
       "      <th>lat</th>\n",
       "      <th>lon</th>\n",
       "      <th>feels_avg</th>\n",
       "      <th>temp_avg</th>\n",
       "      <th>humid_avg</th>\n",
       "      <th>wind_avg</th>\n",
       "      <th>pop_avg</th>\n",
       "    </tr>\n",
       "  </thead>\n",
       "  <tbody>\n",
       "    <tr>\n",
       "      <th>count</th>\n",
       "      <td>35.000000</td>\n",
       "      <td>35.000000</td>\n",
       "      <td>35.000000</td>\n",
       "      <td>35.000000</td>\n",
       "      <td>35.000000</td>\n",
       "      <td>35.000000</td>\n",
       "      <td>35.000000</td>\n",
       "    </tr>\n",
       "    <tr>\n",
       "      <th>mean</th>\n",
       "      <td>45.841333</td>\n",
       "      <td>3.395775</td>\n",
       "      <td>17.947857</td>\n",
       "      <td>18.335143</td>\n",
       "      <td>66.014286</td>\n",
       "      <td>3.273143</td>\n",
       "      <td>0.000286</td>\n",
       "    </tr>\n",
       "    <tr>\n",
       "      <th>std</th>\n",
       "      <td>2.589759</td>\n",
       "      <td>2.954434</td>\n",
       "      <td>3.282508</td>\n",
       "      <td>3.131082</td>\n",
       "      <td>10.292406</td>\n",
       "      <td>1.781862</td>\n",
       "      <td>0.001690</td>\n",
       "    </tr>\n",
       "    <tr>\n",
       "      <th>min</th>\n",
       "      <td>42.525050</td>\n",
       "      <td>-2.026041</td>\n",
       "      <td>10.800000</td>\n",
       "      <td>11.705000</td>\n",
       "      <td>43.000000</td>\n",
       "      <td>1.505000</td>\n",
       "      <td>0.000000</td>\n",
       "    </tr>\n",
       "    <tr>\n",
       "      <th>25%</th>\n",
       "      <td>43.512178</td>\n",
       "      <td>1.380777</td>\n",
       "      <td>14.677500</td>\n",
       "      <td>15.157500</td>\n",
       "      <td>58.500000</td>\n",
       "      <td>2.247500</td>\n",
       "      <td>0.000000</td>\n",
       "    </tr>\n",
       "    <tr>\n",
       "      <th>50%</th>\n",
       "      <td>45.187560</td>\n",
       "      <td>4.360069</td>\n",
       "      <td>18.565000</td>\n",
       "      <td>18.755000</td>\n",
       "      <td>70.000000</td>\n",
       "      <td>2.575000</td>\n",
       "      <td>0.000000</td>\n",
       "    </tr>\n",
       "    <tr>\n",
       "      <th>75%</th>\n",
       "      <td>48.417068</td>\n",
       "      <td>5.637707</td>\n",
       "      <td>20.785000</td>\n",
       "      <td>21.070000</td>\n",
       "      <td>73.000000</td>\n",
       "      <td>3.775000</td>\n",
       "      <td>0.000000</td>\n",
       "    </tr>\n",
       "    <tr>\n",
       "      <th>max</th>\n",
       "      <td>50.636565</td>\n",
       "      <td>7.750713</td>\n",
       "      <td>23.510000</td>\n",
       "      <td>23.655000</td>\n",
       "      <td>82.500000</td>\n",
       "      <td>9.065000</td>\n",
       "      <td>0.010000</td>\n",
       "    </tr>\n",
       "  </tbody>\n",
       "</table>\n",
       "</div>"
      ],
      "text/plain": [
       "             lat        lon  feels_avg   temp_avg  humid_avg   wind_avg  \\\n",
       "count  35.000000  35.000000  35.000000  35.000000  35.000000  35.000000   \n",
       "mean   45.841333   3.395775  17.947857  18.335143  66.014286   3.273143   \n",
       "std     2.589759   2.954434   3.282508   3.131082  10.292406   1.781862   \n",
       "min    42.525050  -2.026041  10.800000  11.705000  43.000000   1.505000   \n",
       "25%    43.512178   1.380777  14.677500  15.157500  58.500000   2.247500   \n",
       "50%    45.187560   4.360069  18.565000  18.755000  70.000000   2.575000   \n",
       "75%    48.417068   5.637707  20.785000  21.070000  73.000000   3.775000   \n",
       "max    50.636565   7.750713  23.510000  23.655000  82.500000   9.065000   \n",
       "\n",
       "         pop_avg  \n",
       "count  35.000000  \n",
       "mean    0.000286  \n",
       "std     0.001690  \n",
       "min     0.000000  \n",
       "25%     0.000000  \n",
       "50%     0.000000  \n",
       "75%     0.000000  \n",
       "max     0.010000  "
      ]
     },
     "execution_count": 102,
     "metadata": {},
     "output_type": "execute_result"
    }
   ],
   "source": [
    "data_coord_cities.describe()"
   ]
  },
  {
   "cell_type": "code",
   "execution_count": 24,
   "metadata": {},
   "outputs": [],
   "source": [
    "data_coord_cities.to_csv('results/result_cities_with_coord_and_weather.csv')"
   ]
  }
 ],
 "metadata": {
  "kernelspec": {
   "display_name": "Python 3.9.12 ('base')",
   "language": "python",
   "name": "python3"
  },
  "language_info": {
   "codemirror_mode": {
    "name": "ipython",
    "version": 3
   },
   "file_extension": ".py",
   "mimetype": "text/x-python",
   "name": "python",
   "nbconvert_exporter": "python",
   "pygments_lexer": "ipython3",
   "version": "3.9.12"
  },
  "orig_nbformat": 4,
  "vscode": {
   "interpreter": {
    "hash": "1cca9558bc5ad879ec93cc030b157d75f18267527c60932cecaace349eef54dd"
   }
  }
 },
 "nbformat": 4,
 "nbformat_minor": 2
}
