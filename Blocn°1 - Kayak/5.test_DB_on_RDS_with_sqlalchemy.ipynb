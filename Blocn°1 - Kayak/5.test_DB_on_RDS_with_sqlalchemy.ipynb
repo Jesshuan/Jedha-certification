{
 "cells": [
  {
   "cell_type": "markdown",
   "metadata": {},
   "source": [
    "### 5/ Test de requête sql sur la Base de Données RDS"
   ]
  },
  {
   "cell_type": "markdown",
   "metadata": {},
   "source": [
    "Il s'agit d'un petit test final pour voir si à distance nous avons bien accès à notre DB de DataWarhouse du serveur RDS. On utilise le kit-tool SQL Alchemy."
   ]
  },
  {
   "cell_type": "code",
   "execution_count": 16,
   "metadata": {},
   "outputs": [],
   "source": [
    "from sqlalchemy import create_engine, text"
   ]
  },
  {
   "cell_type": "markdown",
   "metadata": {},
   "source": [
    "Connexion à la DB :"
   ]
  },
  {
   "cell_type": "code",
   "execution_count": 17,
   "metadata": {},
   "outputs": [],
   "source": [
    "DBHOST = 'kayak-1.can6eobhisjb.eu-west-3.rds.amazonaws.com'\n",
    "DBUSER = \"postgres\"\n",
    "DBPASS = \"****************\"\n",
    "DBNAME = \"postgres\"\n",
    "PORT = \"5432\""
   ]
  },
  {
   "cell_type": "code",
   "execution_count": 18,
   "metadata": {},
   "outputs": [],
   "source": [
    "engine = create_engine(f\"postgresql+psycopg2://{DBUSER}:{DBPASS}@{DBHOST}/{DBNAME}\", echo=True)"
   ]
  },
  {
   "cell_type": "markdown",
   "metadata": {},
   "source": [
    "Génération d'une petite requête de test. On se limite à 5 résultats, sur la ville de Marseille :"
   ]
  },
  {
   "cell_type": "code",
   "execution_count": 22,
   "metadata": {},
   "outputs": [
    {
     "data": {
      "text/plain": [
       "<sqlalchemy.sql.elements.TextClause object at 0x000001C4389B11F0>"
      ]
     },
     "execution_count": 22,
     "metadata": {},
     "output_type": "execute_result"
    }
   ],
   "source": [
    "request_sql_test = text(\"SELECT * FROM hostels_and_meteo where city='Paris' limit 5 \")\n",
    "request_sql_test"
   ]
  },
  {
   "cell_type": "code",
   "execution_count": 23,
   "metadata": {},
   "outputs": [
    {
     "name": "stdout",
     "output_type": "stream",
     "text": [
      "2022-10-14 17:12:29,261 INFO sqlalchemy.engine.Engine SELECT * FROM hostels_and_meteo where city='Paris' limit 5 \n",
      "2022-10-14 17:12:29,262 INFO sqlalchemy.engine.Engine [generated in 0.00133s] {}\n"
     ]
    }
   ],
   "source": [
    "result = engine.execute(request_sql_test)"
   ]
  },
  {
   "cell_type": "code",
   "execution_count": 24,
   "metadata": {},
   "outputs": [
    {
     "data": {
      "text/plain": [
       "[('Paris', \"Hotel d'Amiens\", 'https://www.booking.com/hotel/fr/d-amiens.en-gb.html?aid=304142&ucfs=1&arphpl=1&group_adults=2&req_adults=2&no_rooms=1&group_children=0&req_children= ... (7 characters truncated) ... 1&hapos=1&sr_order=popularity&nflt=ht_id%3D204&srpvid=c14394e0f57a01d9&srepoch=1664572225&from_sustainable_property_sr=1&from=searchresults#hotelTmpl', 'https://cf.bstatic.com/xdata/images/hotel/max1024x768/87967151.jpg?k=2e1e381a0f0e863c77f8f663dbb271f5bac1ab2e9171d05c204609ab44734fb4&o=&hp=1', \"a living room with a couch and a bird cage at Hotel d'Amiens in Paris\", 8.0, 0, 3, 'Hotel', \"Hotel d'Amiens is located in Paris between Gare du Nord and Gare de l’Est Train Stations. It offers rooms with a bath or a shower, satellite TV and free WiFi.\", 48.87839, 2.3573198, 48.85889, 2.320041, 15.94, 16.895, 49.75, 2.1325, 'broken clouds', 0.0, '2022-10-04 00:00:00', '2022-10-08 21:00:00'),\n",
       " ('Paris', \"Appart'hôtel Makom Pereire\", 'https://www.booking.com/hotel/fr/etoile-pereire.en-gb.html?aid=304142&ucfs=1&arphpl=1&group_adults=2&req_adults=2&no_rooms=1&group_children=0&req_children=0&hpos=25&hapos=25&sr_order=popularity&nflt=ht_id%3D204&srpvid=c14394e0f57a01d9&srepoch=1664572225&from=searchresults#hotelTmpl', 'https://cf.bstatic.com/xdata/images/hotel/max1024x768/378141021.jpg?k=750745fac1725de42043fb82b2713794be996b792c231c31fb0cc6b1815213b8&o=&hp=1', \"a bedroom with a bed and a mirror and a chair at Appart'hôtel Makom Pereire in Paris\", 8.0, 0, 3, 'Hotel', 'Each guest room has a TV with Canal+ satellite channels.', 48.883476, 2.2940688, 48.85889, 2.320041, 15.94, 16.895, 49.75, 2.1325, 'broken clouds', 0.0, '2022-10-04 00:00:00', '2022-10-08 21:00:00'),\n",
       " ('Paris', 'Tonic Hotel Saint Germain des Prés', 'https://www.booking.com/hotel/fr/tonic-saint-germain-des-pres.en-gb.html?aid=304142&ucfs=1&arphpl=1&group_adults=2&req_adults=2&no_rooms=1&group_chil ... (29 characters truncated) ... &hapos=24&sr_order=popularity&nflt=ht_id%3D204&srpvid=c14394e0f57a01d9&srepoch=1664572225&from_sustainable_property_sr=1&from=searchresults#hotelTmpl', 'https://cf.bstatic.com/xdata/images/hotel/max1024x768/33452343.jpg?k=2482cf2406e1a759c2b33282af9172dbc39e4469ddf64752435e0e7615993779&o=&hp=1', 'a bedroom with a large bed in a stone wall at Tonic Hotel Saint Germain des Prés in Paris', 7.3, 0, 3, 'Hotel', 'The guest rooms at Tonic Hotel Saint Germain des Près include a flat-screen TV with satellite channels. They offer a city view and a private bathroom with bathrobes, a hairdryer and free toiletries.', 48.8517, 2.3373933, 48.85889, 2.320041, 15.94, 16.895, 49.75, 2.1325, 'broken clouds', 0.0, '2022-10-04 00:00:00', '2022-10-08 21:00:00'),\n",
       " ('Paris', 'Hôtel Océanic - Grands Magasins', 'https://www.booking.com/hotel/fr/ha-tel-oca-c-anic.en-gb.html?aid=304142&ucfs=1&arphpl=1&group_adults=2&req_adults=2&no_rooms=1&group_children=0&req_children=0&hpos=23&hapos=23&sr_order=popularity&nflt=ht_id%3D204&srpvid=c14394e0f57a01d9&srepoch=1664572225&from=searchresults#hotelTmpl', 'https://cf.bstatic.com/xdata/images/hotel/max1024x768/391182662.jpg?k=347e70381517308d45124fd2778b906135fab06350fb6f0e450ff6203a3bfc2b&o=&hp=1', 'a hotel room with two beds and a desk at Hôtel Océanic - Grands Magasins in Paris', 8.6, 0, 3, 'Hotel', 'The guest rooms at Hôtel Océanic include a TV with Canal + channels. They each have a private bathroom with a bathtub, free toiletries and a hairdryer.', 48.87504, 2.3223653, 48.85889, 2.320041, 15.94, 16.895, 49.75, 2.1325, 'broken clouds', 0.0, '2022-10-04 00:00:00', '2022-10-08 21:00:00'),\n",
       " ('Paris', 'Courtyard by Marriott Paris Gare de Lyon', 'https://www.booking.com/hotel/fr/courtyard-by-marriott-paris-gare-de-lyon.en-gb.html?aid=304142&ucfs=1&arphpl=1&group_adults=2&req_adults=2&no_rooms= ... (41 characters truncated) ... &hapos=22&sr_order=popularity&nflt=ht_id%3D204&srpvid=c14394e0f57a01d9&srepoch=1664572225&from_sustainable_property_sr=1&from=searchresults#hotelTmpl', 'https://cf.bstatic.com/xdata/images/hotel/max1024x768/369476901.jpg?k=f0690584bdd0ecae9c6019ef76a8c31fb938a41860bf0cd657b34f33c539d13e&o=&hp=1', 'a bedroom with a bed and a large window at Courtyard by Marriott Paris Gare de Lyon in Paris', 8.6, 0, 4, 'Hotel', 'All units in the hotel are equipped with a flat-screen TV with cable channels. Featuring a private bathroom, rooms at Courtyard Paris Gare de Lyon al ... (9 characters truncated) ... free WiFi in public areas and free WiFi in the guest rooms for Marriott members. All rooms at the accommodation have air conditioning and a wardrobe.', 48.84508, 2.371372, 48.85889, 2.320041, 15.94, 16.895, 49.75, 2.1325, 'broken clouds', 0.0, '2022-10-04 00:00:00', '2022-10-08 21:00:00')]"
      ]
     },
     "execution_count": 24,
     "metadata": {},
     "output_type": "execute_result"
    }
   ],
   "source": [
    "result.all()"
   ]
  },
  {
   "cell_type": "markdown",
   "metadata": {},
   "source": [
    "Cela fonctionne. L'ensemble des équipes pourra faire ses requêtes !..."
   ]
  }
 ],
 "metadata": {
  "kernelspec": {
   "display_name": "Python 3.9.12 ('base')",
   "language": "python",
   "name": "python3"
  },
  "language_info": {
   "codemirror_mode": {
    "name": "ipython",
    "version": 3
   },
   "file_extension": ".py",
   "mimetype": "text/x-python",
   "name": "python",
   "nbconvert_exporter": "python",
   "pygments_lexer": "ipython3",
   "version": "3.9.12"
  },
  "orig_nbformat": 4,
  "vscode": {
   "interpreter": {
    "hash": "1cca9558bc5ad879ec93cc030b157d75f18267527c60932cecaace349eef54dd"
   }
  }
 },
 "nbformat": 4,
 "nbformat_minor": 2
}
