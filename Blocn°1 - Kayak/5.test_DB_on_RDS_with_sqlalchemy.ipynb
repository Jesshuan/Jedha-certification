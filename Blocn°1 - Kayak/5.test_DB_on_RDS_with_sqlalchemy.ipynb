{
 "cells": [
  {
   "cell_type": "markdown",
   "metadata": {},
   "source": [
    "### 5/ Test de requête sql sur la Base de Données RDS"
   ]
  },
  {
   "cell_type": "markdown",
   "metadata": {},
   "source": [
    "Il s'agit d'un petit test final pour voir si à distance nous avons bien accès à notre DB de DataWarhouse du serveur RDS. On utilise le kit-tool SQL Alchemy."
   ]
  },
  {
   "cell_type": "code",
   "execution_count": 1,
   "metadata": {},
   "outputs": [],
   "source": [
    "from sqlalchemy import create_engine, text"
   ]
  },
  {
   "cell_type": "markdown",
   "metadata": {},
   "source": [
    "Connexion à la DB :"
   ]
  },
  {
   "cell_type": "code",
   "execution_count": 2,
   "metadata": {},
   "outputs": [],
   "source": [
    "DBHOST = 'kayak-1.can6eobhisjb.eu-west-3.rds.amazonaws.com'\n",
    "DBUSER = \"postgres\"\n",
    "DBPASS = \"****************\"\n",
    "DBNAME = \"postgres\"\n",
    "PORT = \"5432\""
   ]
  },
  {
   "cell_type": "code",
   "execution_count": 3,
   "metadata": {},
   "outputs": [],
   "source": [
    "engine = create_engine(f\"postgresql+psycopg2://{DBUSER}:{DBPASS}@{DBHOST}/{DBNAME}\", echo=True)"
   ]
  },
  {
   "cell_type": "markdown",
   "metadata": {},
   "source": [
    "Génération d'une petite requête de test. On se limite à 5 résultats, sur la ville de Marseille :"
   ]
  },
  {
   "cell_type": "code",
   "execution_count": 13,
   "metadata": {},
   "outputs": [
    {
     "data": {
      "text/plain": [
       "<sqlalchemy.sql.elements.TextClause object at 0x00000288A4801BB0>"
      ]
     },
     "execution_count": 13,
     "metadata": {},
     "output_type": "execute_result"
    }
   ],
   "source": [
    "request_sql_test = text(\"SELECT * FROM hostels_and_meteo where city='Marseille' limit 5 \")\n",
    "request_sql_test"
   ]
  },
  {
   "cell_type": "code",
   "execution_count": 14,
   "metadata": {},
   "outputs": [
    {
     "name": "stdout",
     "output_type": "stream",
     "text": [
      "2022-10-05 11:49:11,426 INFO sqlalchemy.engine.Engine SELECT * FROM hostels_and_meteo where city='Marseille' limit 5 \n",
      "2022-10-05 11:49:11,427 INFO sqlalchemy.engine.Engine [generated in 0.00086s] {}\n"
     ]
    }
   ],
   "source": [
    "result = engine.execute(request_sql_test)"
   ]
  },
  {
   "cell_type": "code",
   "execution_count": 15,
   "metadata": {},
   "outputs": [
    {
     "data": {
      "text/plain": [
       "[('Marseille', 'Appart hôtel Maison Montgrand-Vieux Port', 'https://www.booking.com/hotel/fr/appartements-montgrand.en-gb.html?aid=304142&ucfs=1&arphpl=1&group_adults=2&req_adults=2&no_rooms=1&group_children=0 ... (21 characters truncated) ... 1&hapos=1&sr_order=popularity&nflt=ht_id%3D204&srpvid=15c595dfc1ed00e5&srepoch=1664572736&from_sustainable_property_sr=1&from=searchresults#hotelTmpl', 'https://cf.bstatic.com/xdata/images/hotel/max1024x768/286155160.jpg?k=fb5ef5ea107c0b39bb6f90e4ccc8f480aaa5bb1049a7136189c8f20fad8414ae&o=&hp=1', 'a hotel room with a bed and a couch at Appart hôtel Maison Montgrand-Vieux Port in Marseille', 8.5, 3, 0, 'Aparthotel', 'With city views, Appart hôtel Maison Montgrand-Vieux Port is situated in Marseille and has a restaurant, a 24-hour front desk, bar, garden and terrace. Complimentary WiFi is offered throughout the property.', 43.29116, 5.376363, 43.296173, 5.3699527, 20.295, 20.5525, 62.5, 2.8525, 'clear sky', 0.0, '2022-10-04 00:00:00', '2022-10-08 21:00:00'),\n",
       " ('Marseille', 'Staycity Aparthotels Centre Vieux Port', 'https://www.booking.com/hotel/fr/staycity-aparthotels-centre-vieux-port.en-gb.html?aid=304142&ucfs=1&arphpl=1&group_adults=2&req_adults=2&no_rooms=1& ... (39 characters truncated) ... &hapos=25&sr_order=popularity&nflt=ht_id%3D204&srpvid=15c595dfc1ed00e5&srepoch=1664572736&from_sustainable_property_sr=1&from=searchresults#hotelTmpl', 'https://cf.bstatic.com/xdata/images/hotel/max1024x768/88918011.jpg?k=dbec124cdaee59ea432fb46da66d34ffc0626c9db4133c9d1884d9e7fcc71dc1&o=&hp=1', 'a room with a couch and a table and a bed at Staycity Aparthotels Centre Vieux Port in Marseille', 7.9, 0, 3, 'Aparthotel', 'All apartments and studios are accessible via a lift and feature a flat-screen TV. Each unit has a kitchenette fitted with a dishwasher, microwave, toaster, fridge, stovetop, coffee machine and kettle. There is a private bathroom with free toiletries in each unit. Towels and bed linen are offered.', 43.300465, 5.3744416, 43.296173, 5.3699527, 20.295, 20.5525, 62.5, 2.8525, 'clear sky', 0.0, '2022-10-04 00:00:00', '2022-10-08 21:00:00'),\n",
       " ('Marseille', 'Grand Hotel Beauvau Marseille Vieux Port - MGallery', 'https://www.booking.com/hotel/fr/mercure-grand-beauvau.en-gb.html?aid=304142&ucfs=1&arphpl=1&group_adults=2&req_adults=2&no_rooms=1&group_children=0&req_children=0&hpos=24&hapos=24&sr_order=popularity&nflt=ht_id%3D204&srpvid=15c595dfc1ed00e5&srepoch=1664572736&from=searchresults#hotelTmpl', 'https://cf.bstatic.com/xdata/images/hotel/max1024x768/303686722.jpg?k=b1f44bb37b80acd921bd8af5a176eca70a8f9063953dab232089907c9e09f16f&o=&hp=1', 'a view of a body of water from a window at Grand Hotel Beauvau Marseille Vieux Port - MGallery in Marseille', 8.6, 0, 4, 'Hotel', 'Decorated with Empire or Napoleon III furniture, rooms and suites at Grand Hotel Beauvau Marseille Vieux Port - MGallery are air-conditioned and offer satellite and cable TV. The private bathrooms feature a bath and shower, large mirror, hairdryer, bathrobes, slippers and toiletries.', 43.29508, 5.37501, 43.296173, 5.3699527, 20.295, 20.5525, 62.5, 2.8525, 'clear sky', 0.0, '2022-10-04 00:00:00', '2022-10-08 21:00:00'),\n",
       " ('Marseille', 'Aparthotel Adagio Access Marseille Prado Périer', 'https://www.booking.com/hotel/fr/citea-marseille-prado-perier.en-gb.html?aid=304142&ucfs=1&arphpl=1&group_adults=2&req_adults=2&no_rooms=1&group_children=0&req_children=0&hpos=23&hapos=23&sr_order=popularity&nflt=ht_id%3D204&srpvid=15c595dfc1ed00e5&srepoch=1664572736&from=searchresults#hotelTmpl', 'https://cf.bstatic.com/xdata/images/hotel/max1024x768/211311649.jpg?k=362eb94214275547256bf6b00ac568a0fe7548f9b0b6c6a660adf9a05a6bf086&o=&hp=1', 'a hotel room with two beds and a kitchen at Aparthotel Adagio Access Marseille Prado Périer in Marseille', 7.8, 3, 0, 'Aparthotel', 'A fully-equipped kitchen equipped with hotplates is a standard facility in the accommodation at Aparthotel Adagio Access Marseille Prado Périer. All studios and apartments have an LCD TV and some have a separate bedroom.', 43.278694, 5.3880606, 43.296173, 5.3699527, 20.295, 20.5525, 62.5, 2.8525, 'clear sky', 0.0, '2022-10-04 00:00:00', '2022-10-08 21:00:00'),\n",
       " ('Marseille', 'Citadines Prado Chanot Marseille', 'https://www.booking.com/hotel/fr/citadines-aparthotel-marseillepradochanot.en-gb.html?aid=304142&ucfs=1&arphpl=1&group_adults=2&req_adults=2&no_rooms ... (42 characters truncated) ... &hapos=22&sr_order=popularity&nflt=ht_id%3D204&srpvid=15c595dfc1ed00e5&srepoch=1664572736&from_sustainable_property_sr=1&from=searchresults#hotelTmpl', 'https://cf.bstatic.com/xdata/images/hotel/max1024x768/80976258.jpg?k=5f61ad245fe8c827fa5b67c959ac1213767ec5b3f448468f8b071354a1b8811c&o=&hp=1', 'a living room with a blue couch and a table at Citadines Prado Chanot Marseille in Marseille', 8.0, 0, 3, 'Aparthotel', 'The studios and apartments at Apart’hotel Marseille Prado Chanot feature air conditioning, an equipped kitchenette with microwave and dishwasher, and satellite TV.  Some rooms have a balcony with garden view.', 43.27647, 5.391197, 43.296173, 5.3699527, 20.295, 20.5525, 62.5, 2.8525, 'clear sky', 0.0, '2022-10-04 00:00:00', '2022-10-08 21:00:00')]"
      ]
     },
     "execution_count": 15,
     "metadata": {},
     "output_type": "execute_result"
    }
   ],
   "source": [
    "result.all()"
   ]
  },
  {
   "cell_type": "markdown",
   "metadata": {},
   "source": [
    "Cela fonctionne. L'ensemble des équipes pourra faire ses requêtes !..."
   ]
  }
 ],
 "metadata": {
  "kernelspec": {
   "display_name": "Python 3.9.12 ('base')",
   "language": "python",
   "name": "python3"
  },
  "language_info": {
   "codemirror_mode": {
    "name": "ipython",
    "version": 3
   },
   "file_extension": ".py",
   "mimetype": "text/x-python",
   "name": "python",
   "nbconvert_exporter": "python",
   "pygments_lexer": "ipython3",
   "version": "3.9.12"
  },
  "orig_nbformat": 4,
  "vscode": {
   "interpreter": {
    "hash": "1cca9558bc5ad879ec93cc030b157d75f18267527c60932cecaace349eef54dd"
   }
  }
 },
 "nbformat": 4,
 "nbformat_minor": 2
}
